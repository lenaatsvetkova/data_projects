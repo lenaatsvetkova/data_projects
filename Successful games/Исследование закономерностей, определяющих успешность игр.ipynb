{
 "cells": [
  {
   "cell_type": "markdown",
   "metadata": {},
   "source": [
    "# Исследование закономерностей, определяющих успешность игр"
   ]
  },
  {
   "cell_type": "markdown",
   "metadata": {},
   "source": [
    "В нашем распоряжении данные до 2016 г. включительно о продажах игр, оценки пользователей и экспертов, жанры и платформы для Северной Америки, Европы и Японии. Нам нужно выявить определяющие успешность игры закономерности. Это позволит сделать ставку на потенциально популярный продукт и спланировать рекламные кампании.\n",
    "\n",
    "План работы: \n",
    "\n",
    "* Первичное знакомство с датасетом;\n",
    "* Предобработка данных (удаление дубликатов, обработка пропусков и аномалий, изменение типа данных);\n",
    "* Исследовательский анализ данных;\n",
    "* Составление портрета пользователя каждого региона (Северная Америка, Европа и Япония);\n",
    "* Проверка гипотез."
   ]
  },
  {
   "cell_type": "markdown",
   "metadata": {},
   "source": [
    "## Обзор данных"
   ]
  },
  {
   "cell_type": "code",
   "execution_count": 1,
   "metadata": {},
   "outputs": [],
   "source": [
    "import pandas as pd\n",
    "from matplotlib import pyplot as plt\n",
    "from scipy import stats as st\n",
    "import numpy as np\n",
    "import seaborn as sns\n",
    "from datetime import datetime"
   ]
  },
  {
   "cell_type": "code",
   "execution_count": 2,
   "metadata": {},
   "outputs": [],
   "source": [
    "games = pd.read_csv('/datasets/games.csv', sep=\",\")"
   ]
  },
  {
   "cell_type": "code",
   "execution_count": 3,
   "metadata": {},
   "outputs": [
    {
     "data": {
      "text/html": [
       "<div>\n",
       "<style scoped>\n",
       "    .dataframe tbody tr th:only-of-type {\n",
       "        vertical-align: middle;\n",
       "    }\n",
       "\n",
       "    .dataframe tbody tr th {\n",
       "        vertical-align: top;\n",
       "    }\n",
       "\n",
       "    .dataframe thead th {\n",
       "        text-align: right;\n",
       "    }\n",
       "</style>\n",
       "<table border=\"1\" class=\"dataframe\">\n",
       "  <thead>\n",
       "    <tr style=\"text-align: right;\">\n",
       "      <th></th>\n",
       "      <th>Name</th>\n",
       "      <th>Platform</th>\n",
       "      <th>Year_of_Release</th>\n",
       "      <th>Genre</th>\n",
       "      <th>NA_sales</th>\n",
       "      <th>EU_sales</th>\n",
       "      <th>JP_sales</th>\n",
       "      <th>Other_sales</th>\n",
       "      <th>Critic_Score</th>\n",
       "      <th>User_Score</th>\n",
       "      <th>Rating</th>\n",
       "    </tr>\n",
       "  </thead>\n",
       "  <tbody>\n",
       "    <tr>\n",
       "      <th>0</th>\n",
       "      <td>Wii Sports</td>\n",
       "      <td>Wii</td>\n",
       "      <td>2006.0</td>\n",
       "      <td>Sports</td>\n",
       "      <td>41.36</td>\n",
       "      <td>28.96</td>\n",
       "      <td>3.77</td>\n",
       "      <td>8.45</td>\n",
       "      <td>76.0</td>\n",
       "      <td>8</td>\n",
       "      <td>E</td>\n",
       "    </tr>\n",
       "    <tr>\n",
       "      <th>1</th>\n",
       "      <td>Super Mario Bros.</td>\n",
       "      <td>NES</td>\n",
       "      <td>1985.0</td>\n",
       "      <td>Platform</td>\n",
       "      <td>29.08</td>\n",
       "      <td>3.58</td>\n",
       "      <td>6.81</td>\n",
       "      <td>0.77</td>\n",
       "      <td>NaN</td>\n",
       "      <td>NaN</td>\n",
       "      <td>NaN</td>\n",
       "    </tr>\n",
       "    <tr>\n",
       "      <th>2</th>\n",
       "      <td>Mario Kart Wii</td>\n",
       "      <td>Wii</td>\n",
       "      <td>2008.0</td>\n",
       "      <td>Racing</td>\n",
       "      <td>15.68</td>\n",
       "      <td>12.76</td>\n",
       "      <td>3.79</td>\n",
       "      <td>3.29</td>\n",
       "      <td>82.0</td>\n",
       "      <td>8.3</td>\n",
       "      <td>E</td>\n",
       "    </tr>\n",
       "    <tr>\n",
       "      <th>3</th>\n",
       "      <td>Wii Sports Resort</td>\n",
       "      <td>Wii</td>\n",
       "      <td>2009.0</td>\n",
       "      <td>Sports</td>\n",
       "      <td>15.61</td>\n",
       "      <td>10.93</td>\n",
       "      <td>3.28</td>\n",
       "      <td>2.95</td>\n",
       "      <td>80.0</td>\n",
       "      <td>8</td>\n",
       "      <td>E</td>\n",
       "    </tr>\n",
       "    <tr>\n",
       "      <th>4</th>\n",
       "      <td>Pokemon Red/Pokemon Blue</td>\n",
       "      <td>GB</td>\n",
       "      <td>1996.0</td>\n",
       "      <td>Role-Playing</td>\n",
       "      <td>11.27</td>\n",
       "      <td>8.89</td>\n",
       "      <td>10.22</td>\n",
       "      <td>1.00</td>\n",
       "      <td>NaN</td>\n",
       "      <td>NaN</td>\n",
       "      <td>NaN</td>\n",
       "    </tr>\n",
       "    <tr>\n",
       "      <th>5</th>\n",
       "      <td>Tetris</td>\n",
       "      <td>GB</td>\n",
       "      <td>1989.0</td>\n",
       "      <td>Puzzle</td>\n",
       "      <td>23.20</td>\n",
       "      <td>2.26</td>\n",
       "      <td>4.22</td>\n",
       "      <td>0.58</td>\n",
       "      <td>NaN</td>\n",
       "      <td>NaN</td>\n",
       "      <td>NaN</td>\n",
       "    </tr>\n",
       "    <tr>\n",
       "      <th>6</th>\n",
       "      <td>New Super Mario Bros.</td>\n",
       "      <td>DS</td>\n",
       "      <td>2006.0</td>\n",
       "      <td>Platform</td>\n",
       "      <td>11.28</td>\n",
       "      <td>9.14</td>\n",
       "      <td>6.50</td>\n",
       "      <td>2.88</td>\n",
       "      <td>89.0</td>\n",
       "      <td>8.5</td>\n",
       "      <td>E</td>\n",
       "    </tr>\n",
       "    <tr>\n",
       "      <th>7</th>\n",
       "      <td>Wii Play</td>\n",
       "      <td>Wii</td>\n",
       "      <td>2006.0</td>\n",
       "      <td>Misc</td>\n",
       "      <td>13.96</td>\n",
       "      <td>9.18</td>\n",
       "      <td>2.93</td>\n",
       "      <td>2.84</td>\n",
       "      <td>58.0</td>\n",
       "      <td>6.6</td>\n",
       "      <td>E</td>\n",
       "    </tr>\n",
       "    <tr>\n",
       "      <th>8</th>\n",
       "      <td>New Super Mario Bros. Wii</td>\n",
       "      <td>Wii</td>\n",
       "      <td>2009.0</td>\n",
       "      <td>Platform</td>\n",
       "      <td>14.44</td>\n",
       "      <td>6.94</td>\n",
       "      <td>4.70</td>\n",
       "      <td>2.24</td>\n",
       "      <td>87.0</td>\n",
       "      <td>8.4</td>\n",
       "      <td>E</td>\n",
       "    </tr>\n",
       "    <tr>\n",
       "      <th>9</th>\n",
       "      <td>Duck Hunt</td>\n",
       "      <td>NES</td>\n",
       "      <td>1984.0</td>\n",
       "      <td>Shooter</td>\n",
       "      <td>26.93</td>\n",
       "      <td>0.63</td>\n",
       "      <td>0.28</td>\n",
       "      <td>0.47</td>\n",
       "      <td>NaN</td>\n",
       "      <td>NaN</td>\n",
       "      <td>NaN</td>\n",
       "    </tr>\n",
       "    <tr>\n",
       "      <th>10</th>\n",
       "      <td>Nintendogs</td>\n",
       "      <td>DS</td>\n",
       "      <td>2005.0</td>\n",
       "      <td>Simulation</td>\n",
       "      <td>9.05</td>\n",
       "      <td>10.95</td>\n",
       "      <td>1.93</td>\n",
       "      <td>2.74</td>\n",
       "      <td>NaN</td>\n",
       "      <td>NaN</td>\n",
       "      <td>NaN</td>\n",
       "    </tr>\n",
       "    <tr>\n",
       "      <th>11</th>\n",
       "      <td>Mario Kart DS</td>\n",
       "      <td>DS</td>\n",
       "      <td>2005.0</td>\n",
       "      <td>Racing</td>\n",
       "      <td>9.71</td>\n",
       "      <td>7.47</td>\n",
       "      <td>4.13</td>\n",
       "      <td>1.90</td>\n",
       "      <td>91.0</td>\n",
       "      <td>8.6</td>\n",
       "      <td>E</td>\n",
       "    </tr>\n",
       "    <tr>\n",
       "      <th>12</th>\n",
       "      <td>Pokemon Gold/Pokemon Silver</td>\n",
       "      <td>GB</td>\n",
       "      <td>1999.0</td>\n",
       "      <td>Role-Playing</td>\n",
       "      <td>9.00</td>\n",
       "      <td>6.18</td>\n",
       "      <td>7.20</td>\n",
       "      <td>0.71</td>\n",
       "      <td>NaN</td>\n",
       "      <td>NaN</td>\n",
       "      <td>NaN</td>\n",
       "    </tr>\n",
       "    <tr>\n",
       "      <th>13</th>\n",
       "      <td>Wii Fit</td>\n",
       "      <td>Wii</td>\n",
       "      <td>2007.0</td>\n",
       "      <td>Sports</td>\n",
       "      <td>8.92</td>\n",
       "      <td>8.03</td>\n",
       "      <td>3.60</td>\n",
       "      <td>2.15</td>\n",
       "      <td>80.0</td>\n",
       "      <td>7.7</td>\n",
       "      <td>E</td>\n",
       "    </tr>\n",
       "    <tr>\n",
       "      <th>14</th>\n",
       "      <td>Kinect Adventures!</td>\n",
       "      <td>X360</td>\n",
       "      <td>2010.0</td>\n",
       "      <td>Misc</td>\n",
       "      <td>15.00</td>\n",
       "      <td>4.89</td>\n",
       "      <td>0.24</td>\n",
       "      <td>1.69</td>\n",
       "      <td>61.0</td>\n",
       "      <td>6.3</td>\n",
       "      <td>E</td>\n",
       "    </tr>\n",
       "    <tr>\n",
       "      <th>15</th>\n",
       "      <td>Wii Fit Plus</td>\n",
       "      <td>Wii</td>\n",
       "      <td>2009.0</td>\n",
       "      <td>Sports</td>\n",
       "      <td>9.01</td>\n",
       "      <td>8.49</td>\n",
       "      <td>2.53</td>\n",
       "      <td>1.77</td>\n",
       "      <td>80.0</td>\n",
       "      <td>7.4</td>\n",
       "      <td>E</td>\n",
       "    </tr>\n",
       "    <tr>\n",
       "      <th>16</th>\n",
       "      <td>Grand Theft Auto V</td>\n",
       "      <td>PS3</td>\n",
       "      <td>2013.0</td>\n",
       "      <td>Action</td>\n",
       "      <td>7.02</td>\n",
       "      <td>9.09</td>\n",
       "      <td>0.98</td>\n",
       "      <td>3.96</td>\n",
       "      <td>97.0</td>\n",
       "      <td>8.2</td>\n",
       "      <td>M</td>\n",
       "    </tr>\n",
       "    <tr>\n",
       "      <th>17</th>\n",
       "      <td>Grand Theft Auto: San Andreas</td>\n",
       "      <td>PS2</td>\n",
       "      <td>2004.0</td>\n",
       "      <td>Action</td>\n",
       "      <td>9.43</td>\n",
       "      <td>0.40</td>\n",
       "      <td>0.41</td>\n",
       "      <td>10.57</td>\n",
       "      <td>95.0</td>\n",
       "      <td>9</td>\n",
       "      <td>M</td>\n",
       "    </tr>\n",
       "    <tr>\n",
       "      <th>18</th>\n",
       "      <td>Super Mario World</td>\n",
       "      <td>SNES</td>\n",
       "      <td>1990.0</td>\n",
       "      <td>Platform</td>\n",
       "      <td>12.78</td>\n",
       "      <td>3.75</td>\n",
       "      <td>3.54</td>\n",
       "      <td>0.55</td>\n",
       "      <td>NaN</td>\n",
       "      <td>NaN</td>\n",
       "      <td>NaN</td>\n",
       "    </tr>\n",
       "    <tr>\n",
       "      <th>19</th>\n",
       "      <td>Brain Age: Train Your Brain in Minutes a Day</td>\n",
       "      <td>DS</td>\n",
       "      <td>2005.0</td>\n",
       "      <td>Misc</td>\n",
       "      <td>4.74</td>\n",
       "      <td>9.20</td>\n",
       "      <td>4.16</td>\n",
       "      <td>2.04</td>\n",
       "      <td>77.0</td>\n",
       "      <td>7.9</td>\n",
       "      <td>E</td>\n",
       "    </tr>\n",
       "    <tr>\n",
       "      <th>20</th>\n",
       "      <td>Pokemon Diamond/Pokemon Pearl</td>\n",
       "      <td>DS</td>\n",
       "      <td>2006.0</td>\n",
       "      <td>Role-Playing</td>\n",
       "      <td>6.38</td>\n",
       "      <td>4.46</td>\n",
       "      <td>6.04</td>\n",
       "      <td>1.36</td>\n",
       "      <td>NaN</td>\n",
       "      <td>NaN</td>\n",
       "      <td>NaN</td>\n",
       "    </tr>\n",
       "    <tr>\n",
       "      <th>21</th>\n",
       "      <td>Super Mario Land</td>\n",
       "      <td>GB</td>\n",
       "      <td>1989.0</td>\n",
       "      <td>Platform</td>\n",
       "      <td>10.83</td>\n",
       "      <td>2.71</td>\n",
       "      <td>4.18</td>\n",
       "      <td>0.42</td>\n",
       "      <td>NaN</td>\n",
       "      <td>NaN</td>\n",
       "      <td>NaN</td>\n",
       "    </tr>\n",
       "    <tr>\n",
       "      <th>22</th>\n",
       "      <td>Super Mario Bros. 3</td>\n",
       "      <td>NES</td>\n",
       "      <td>1988.0</td>\n",
       "      <td>Platform</td>\n",
       "      <td>9.54</td>\n",
       "      <td>3.44</td>\n",
       "      <td>3.84</td>\n",
       "      <td>0.46</td>\n",
       "      <td>NaN</td>\n",
       "      <td>NaN</td>\n",
       "      <td>NaN</td>\n",
       "    </tr>\n",
       "    <tr>\n",
       "      <th>23</th>\n",
       "      <td>Grand Theft Auto V</td>\n",
       "      <td>X360</td>\n",
       "      <td>2013.0</td>\n",
       "      <td>Action</td>\n",
       "      <td>9.66</td>\n",
       "      <td>5.14</td>\n",
       "      <td>0.06</td>\n",
       "      <td>1.41</td>\n",
       "      <td>97.0</td>\n",
       "      <td>8.1</td>\n",
       "      <td>M</td>\n",
       "    </tr>\n",
       "    <tr>\n",
       "      <th>24</th>\n",
       "      <td>Grand Theft Auto: Vice City</td>\n",
       "      <td>PS2</td>\n",
       "      <td>2002.0</td>\n",
       "      <td>Action</td>\n",
       "      <td>8.41</td>\n",
       "      <td>5.49</td>\n",
       "      <td>0.47</td>\n",
       "      <td>1.78</td>\n",
       "      <td>95.0</td>\n",
       "      <td>8.7</td>\n",
       "      <td>M</td>\n",
       "    </tr>\n",
       "    <tr>\n",
       "      <th>25</th>\n",
       "      <td>Pokemon Ruby/Pokemon Sapphire</td>\n",
       "      <td>GBA</td>\n",
       "      <td>2002.0</td>\n",
       "      <td>Role-Playing</td>\n",
       "      <td>6.06</td>\n",
       "      <td>3.90</td>\n",
       "      <td>5.38</td>\n",
       "      <td>0.50</td>\n",
       "      <td>NaN</td>\n",
       "      <td>NaN</td>\n",
       "      <td>NaN</td>\n",
       "    </tr>\n",
       "    <tr>\n",
       "      <th>26</th>\n",
       "      <td>Brain Age 2: More Training in Minutes a Day</td>\n",
       "      <td>DS</td>\n",
       "      <td>2005.0</td>\n",
       "      <td>Puzzle</td>\n",
       "      <td>3.43</td>\n",
       "      <td>5.35</td>\n",
       "      <td>5.32</td>\n",
       "      <td>1.18</td>\n",
       "      <td>77.0</td>\n",
       "      <td>7.1</td>\n",
       "      <td>E</td>\n",
       "    </tr>\n",
       "    <tr>\n",
       "      <th>27</th>\n",
       "      <td>Pokemon Black/Pokemon White</td>\n",
       "      <td>DS</td>\n",
       "      <td>2010.0</td>\n",
       "      <td>Role-Playing</td>\n",
       "      <td>5.51</td>\n",
       "      <td>3.17</td>\n",
       "      <td>5.65</td>\n",
       "      <td>0.80</td>\n",
       "      <td>NaN</td>\n",
       "      <td>NaN</td>\n",
       "      <td>NaN</td>\n",
       "    </tr>\n",
       "    <tr>\n",
       "      <th>28</th>\n",
       "      <td>Gran Turismo 3: A-Spec</td>\n",
       "      <td>PS2</td>\n",
       "      <td>2001.0</td>\n",
       "      <td>Racing</td>\n",
       "      <td>6.85</td>\n",
       "      <td>5.09</td>\n",
       "      <td>1.87</td>\n",
       "      <td>1.16</td>\n",
       "      <td>95.0</td>\n",
       "      <td>8.4</td>\n",
       "      <td>E</td>\n",
       "    </tr>\n",
       "    <tr>\n",
       "      <th>29</th>\n",
       "      <td>Call of Duty: Modern Warfare 3</td>\n",
       "      <td>X360</td>\n",
       "      <td>2011.0</td>\n",
       "      <td>Shooter</td>\n",
       "      <td>9.04</td>\n",
       "      <td>4.24</td>\n",
       "      <td>0.13</td>\n",
       "      <td>1.32</td>\n",
       "      <td>88.0</td>\n",
       "      <td>3.4</td>\n",
       "      <td>M</td>\n",
       "    </tr>\n",
       "  </tbody>\n",
       "</table>\n",
       "</div>"
      ],
      "text/plain": [
       "                                            Name Platform  Year_of_Release  \\\n",
       "0                                     Wii Sports      Wii           2006.0   \n",
       "1                              Super Mario Bros.      NES           1985.0   \n",
       "2                                 Mario Kart Wii      Wii           2008.0   \n",
       "3                              Wii Sports Resort      Wii           2009.0   \n",
       "4                       Pokemon Red/Pokemon Blue       GB           1996.0   \n",
       "5                                         Tetris       GB           1989.0   \n",
       "6                          New Super Mario Bros.       DS           2006.0   \n",
       "7                                       Wii Play      Wii           2006.0   \n",
       "8                      New Super Mario Bros. Wii      Wii           2009.0   \n",
       "9                                      Duck Hunt      NES           1984.0   \n",
       "10                                    Nintendogs       DS           2005.0   \n",
       "11                                 Mario Kart DS       DS           2005.0   \n",
       "12                   Pokemon Gold/Pokemon Silver       GB           1999.0   \n",
       "13                                       Wii Fit      Wii           2007.0   \n",
       "14                            Kinect Adventures!     X360           2010.0   \n",
       "15                                  Wii Fit Plus      Wii           2009.0   \n",
       "16                            Grand Theft Auto V      PS3           2013.0   \n",
       "17                 Grand Theft Auto: San Andreas      PS2           2004.0   \n",
       "18                             Super Mario World     SNES           1990.0   \n",
       "19  Brain Age: Train Your Brain in Minutes a Day       DS           2005.0   \n",
       "20                 Pokemon Diamond/Pokemon Pearl       DS           2006.0   \n",
       "21                              Super Mario Land       GB           1989.0   \n",
       "22                           Super Mario Bros. 3      NES           1988.0   \n",
       "23                            Grand Theft Auto V     X360           2013.0   \n",
       "24                   Grand Theft Auto: Vice City      PS2           2002.0   \n",
       "25                 Pokemon Ruby/Pokemon Sapphire      GBA           2002.0   \n",
       "26   Brain Age 2: More Training in Minutes a Day       DS           2005.0   \n",
       "27                   Pokemon Black/Pokemon White       DS           2010.0   \n",
       "28                        Gran Turismo 3: A-Spec      PS2           2001.0   \n",
       "29                Call of Duty: Modern Warfare 3     X360           2011.0   \n",
       "\n",
       "           Genre  NA_sales  EU_sales  JP_sales  Other_sales  Critic_Score  \\\n",
       "0         Sports     41.36     28.96      3.77         8.45          76.0   \n",
       "1       Platform     29.08      3.58      6.81         0.77           NaN   \n",
       "2         Racing     15.68     12.76      3.79         3.29          82.0   \n",
       "3         Sports     15.61     10.93      3.28         2.95          80.0   \n",
       "4   Role-Playing     11.27      8.89     10.22         1.00           NaN   \n",
       "5         Puzzle     23.20      2.26      4.22         0.58           NaN   \n",
       "6       Platform     11.28      9.14      6.50         2.88          89.0   \n",
       "7           Misc     13.96      9.18      2.93         2.84          58.0   \n",
       "8       Platform     14.44      6.94      4.70         2.24          87.0   \n",
       "9        Shooter     26.93      0.63      0.28         0.47           NaN   \n",
       "10    Simulation      9.05     10.95      1.93         2.74           NaN   \n",
       "11        Racing      9.71      7.47      4.13         1.90          91.0   \n",
       "12  Role-Playing      9.00      6.18      7.20         0.71           NaN   \n",
       "13        Sports      8.92      8.03      3.60         2.15          80.0   \n",
       "14          Misc     15.00      4.89      0.24         1.69          61.0   \n",
       "15        Sports      9.01      8.49      2.53         1.77          80.0   \n",
       "16        Action      7.02      9.09      0.98         3.96          97.0   \n",
       "17        Action      9.43      0.40      0.41        10.57          95.0   \n",
       "18      Platform     12.78      3.75      3.54         0.55           NaN   \n",
       "19          Misc      4.74      9.20      4.16         2.04          77.0   \n",
       "20  Role-Playing      6.38      4.46      6.04         1.36           NaN   \n",
       "21      Platform     10.83      2.71      4.18         0.42           NaN   \n",
       "22      Platform      9.54      3.44      3.84         0.46           NaN   \n",
       "23        Action      9.66      5.14      0.06         1.41          97.0   \n",
       "24        Action      8.41      5.49      0.47         1.78          95.0   \n",
       "25  Role-Playing      6.06      3.90      5.38         0.50           NaN   \n",
       "26        Puzzle      3.43      5.35      5.32         1.18          77.0   \n",
       "27  Role-Playing      5.51      3.17      5.65         0.80           NaN   \n",
       "28        Racing      6.85      5.09      1.87         1.16          95.0   \n",
       "29       Shooter      9.04      4.24      0.13         1.32          88.0   \n",
       "\n",
       "   User_Score Rating  \n",
       "0           8      E  \n",
       "1         NaN    NaN  \n",
       "2         8.3      E  \n",
       "3           8      E  \n",
       "4         NaN    NaN  \n",
       "5         NaN    NaN  \n",
       "6         8.5      E  \n",
       "7         6.6      E  \n",
       "8         8.4      E  \n",
       "9         NaN    NaN  \n",
       "10        NaN    NaN  \n",
       "11        8.6      E  \n",
       "12        NaN    NaN  \n",
       "13        7.7      E  \n",
       "14        6.3      E  \n",
       "15        7.4      E  \n",
       "16        8.2      M  \n",
       "17          9      M  \n",
       "18        NaN    NaN  \n",
       "19        7.9      E  \n",
       "20        NaN    NaN  \n",
       "21        NaN    NaN  \n",
       "22        NaN    NaN  \n",
       "23        8.1      M  \n",
       "24        8.7      M  \n",
       "25        NaN    NaN  \n",
       "26        7.1      E  \n",
       "27        NaN    NaN  \n",
       "28        8.4      E  \n",
       "29        3.4      M  "
      ]
     },
     "execution_count": 3,
     "metadata": {},
     "output_type": "execute_result"
    }
   ],
   "source": [
    "games.head(30)"
   ]
  },
  {
   "cell_type": "markdown",
   "metadata": {},
   "source": [
    "Описание данных\n",
    "* Name — название игры\n",
    "* Platform — платформа\n",
    "* Year_of_Release — год выпуска\n",
    "* Genre — жанр игры\n",
    "* NA_sales — продажи в Северной Америке (миллионы проданных копий)\n",
    "* EU_sales — продажи в Европе (миллионы проданных копий)\n",
    "* JP_sales — продажи в Японии (миллионы проданных копий)\n",
    "* Other_sales — продажи в других странах (миллионы проданных копий)\n",
    "* Critic_Score — оценка критиков (максимум 100)\n",
    "* User_Score — оценка пользователей (максимум 10)\n",
    "* Rating — рейтинг от организации ESRB (англ. Entertainment Software Rating Board). Эта ассоциация определяет рейтинг компьютерных игр и присваивает им подходящую возрастную категорию."
   ]
  },
  {
   "cell_type": "code",
   "execution_count": 4,
   "metadata": {},
   "outputs": [
    {
     "name": "stdout",
     "output_type": "stream",
     "text": [
      "<class 'pandas.core.frame.DataFrame'>\n",
      "RangeIndex: 16715 entries, 0 to 16714\n",
      "Data columns (total 11 columns):\n",
      " #   Column           Non-Null Count  Dtype  \n",
      "---  ------           --------------  -----  \n",
      " 0   Name             16713 non-null  object \n",
      " 1   Platform         16715 non-null  object \n",
      " 2   Year_of_Release  16446 non-null  float64\n",
      " 3   Genre            16713 non-null  object \n",
      " 4   NA_sales         16715 non-null  float64\n",
      " 5   EU_sales         16715 non-null  float64\n",
      " 6   JP_sales         16715 non-null  float64\n",
      " 7   Other_sales      16715 non-null  float64\n",
      " 8   Critic_Score     8137 non-null   float64\n",
      " 9   User_Score       10014 non-null  object \n",
      " 10  Rating           9949 non-null   object \n",
      "dtypes: float64(6), object(5)\n",
      "memory usage: 1.4+ MB\n"
     ]
    }
   ],
   "source": [
    "games.info()"
   ]
  },
  {
   "cell_type": "code",
   "execution_count": 5,
   "metadata": {},
   "outputs": [
    {
     "data": {
      "text/html": [
       "<div>\n",
       "<style scoped>\n",
       "    .dataframe tbody tr th:only-of-type {\n",
       "        vertical-align: middle;\n",
       "    }\n",
       "\n",
       "    .dataframe tbody tr th {\n",
       "        vertical-align: top;\n",
       "    }\n",
       "\n",
       "    .dataframe thead th {\n",
       "        text-align: right;\n",
       "    }\n",
       "</style>\n",
       "<table border=\"1\" class=\"dataframe\">\n",
       "  <thead>\n",
       "    <tr style=\"text-align: right;\">\n",
       "      <th></th>\n",
       "      <th>Year_of_Release</th>\n",
       "      <th>NA_sales</th>\n",
       "      <th>EU_sales</th>\n",
       "      <th>JP_sales</th>\n",
       "      <th>Other_sales</th>\n",
       "      <th>Critic_Score</th>\n",
       "    </tr>\n",
       "  </thead>\n",
       "  <tbody>\n",
       "    <tr>\n",
       "      <th>count</th>\n",
       "      <td>16446.000000</td>\n",
       "      <td>16715.000000</td>\n",
       "      <td>16715.000000</td>\n",
       "      <td>16715.000000</td>\n",
       "      <td>16715.000000</td>\n",
       "      <td>8137.000000</td>\n",
       "    </tr>\n",
       "    <tr>\n",
       "      <th>mean</th>\n",
       "      <td>2006.484616</td>\n",
       "      <td>0.263377</td>\n",
       "      <td>0.145060</td>\n",
       "      <td>0.077617</td>\n",
       "      <td>0.047342</td>\n",
       "      <td>68.967679</td>\n",
       "    </tr>\n",
       "    <tr>\n",
       "      <th>std</th>\n",
       "      <td>5.877050</td>\n",
       "      <td>0.813604</td>\n",
       "      <td>0.503339</td>\n",
       "      <td>0.308853</td>\n",
       "      <td>0.186731</td>\n",
       "      <td>13.938165</td>\n",
       "    </tr>\n",
       "    <tr>\n",
       "      <th>min</th>\n",
       "      <td>1980.000000</td>\n",
       "      <td>0.000000</td>\n",
       "      <td>0.000000</td>\n",
       "      <td>0.000000</td>\n",
       "      <td>0.000000</td>\n",
       "      <td>13.000000</td>\n",
       "    </tr>\n",
       "    <tr>\n",
       "      <th>25%</th>\n",
       "      <td>2003.000000</td>\n",
       "      <td>0.000000</td>\n",
       "      <td>0.000000</td>\n",
       "      <td>0.000000</td>\n",
       "      <td>0.000000</td>\n",
       "      <td>60.000000</td>\n",
       "    </tr>\n",
       "    <tr>\n",
       "      <th>50%</th>\n",
       "      <td>2007.000000</td>\n",
       "      <td>0.080000</td>\n",
       "      <td>0.020000</td>\n",
       "      <td>0.000000</td>\n",
       "      <td>0.010000</td>\n",
       "      <td>71.000000</td>\n",
       "    </tr>\n",
       "    <tr>\n",
       "      <th>75%</th>\n",
       "      <td>2010.000000</td>\n",
       "      <td>0.240000</td>\n",
       "      <td>0.110000</td>\n",
       "      <td>0.040000</td>\n",
       "      <td>0.030000</td>\n",
       "      <td>79.000000</td>\n",
       "    </tr>\n",
       "    <tr>\n",
       "      <th>max</th>\n",
       "      <td>2016.000000</td>\n",
       "      <td>41.360000</td>\n",
       "      <td>28.960000</td>\n",
       "      <td>10.220000</td>\n",
       "      <td>10.570000</td>\n",
       "      <td>98.000000</td>\n",
       "    </tr>\n",
       "  </tbody>\n",
       "</table>\n",
       "</div>"
      ],
      "text/plain": [
       "       Year_of_Release      NA_sales      EU_sales      JP_sales  \\\n",
       "count     16446.000000  16715.000000  16715.000000  16715.000000   \n",
       "mean       2006.484616      0.263377      0.145060      0.077617   \n",
       "std           5.877050      0.813604      0.503339      0.308853   \n",
       "min        1980.000000      0.000000      0.000000      0.000000   \n",
       "25%        2003.000000      0.000000      0.000000      0.000000   \n",
       "50%        2007.000000      0.080000      0.020000      0.000000   \n",
       "75%        2010.000000      0.240000      0.110000      0.040000   \n",
       "max        2016.000000     41.360000     28.960000     10.220000   \n",
       "\n",
       "        Other_sales  Critic_Score  \n",
       "count  16715.000000   8137.000000  \n",
       "mean       0.047342     68.967679  \n",
       "std        0.186731     13.938165  \n",
       "min        0.000000     13.000000  \n",
       "25%        0.000000     60.000000  \n",
       "50%        0.010000     71.000000  \n",
       "75%        0.030000     79.000000  \n",
       "max       10.570000     98.000000  "
      ]
     },
     "execution_count": 5,
     "metadata": {},
     "output_type": "execute_result"
    }
   ],
   "source": [
    "games.describe()"
   ]
  },
  {
   "cell_type": "markdown",
   "metadata": {},
   "source": [
    "### Вывод"
   ]
  },
  {
   "cell_type": "markdown",
   "metadata": {},
   "source": [
    "В этом разделе мы познакомились с данными, с которыми нам предстоит работать. Мы обратили внимание на названия и значения столбцов, которые нужно привести к нижнему регистру. Следует также обратить внимание на тип столбца 'User_Score', а также на пропуски."
   ]
  },
  {
   "cell_type": "markdown",
   "metadata": {},
   "source": [
    "## Предобработка данных"
   ]
  },
  {
   "cell_type": "markdown",
   "metadata": {},
   "source": [
    "### Приведем названия столбцов к нижнему регистру"
   ]
  },
  {
   "cell_type": "code",
   "execution_count": 6,
   "metadata": {},
   "outputs": [],
   "source": [
    "games.columns = games.columns.str.lower()\n",
    "#также сделаем строчные буквы в значениях столбцов\n",
    "games['name'] = games['name'].str.lower()\n",
    "games['platform'] = games['platform'].str.lower()\n",
    "games['genre'] = games['genre'].str.lower()\n",
    "games['rating'] = games['rating'].str.lower()"
   ]
  },
  {
   "cell_type": "markdown",
   "metadata": {},
   "source": [
    "### Преобразование данных в нужные типы"
   ]
  },
  {
   "cell_type": "code",
   "execution_count": 7,
   "metadata": {},
   "outputs": [],
   "source": [
    "games['year_of_release'] = games['year_of_release'].astype('Int64')"
   ]
  },
  {
   "cell_type": "markdown",
   "metadata": {},
   "source": [
    "Остальные столбцы оставим без изменений."
   ]
  },
  {
   "cell_type": "markdown",
   "metadata": {},
   "source": [
    "### Обработка пропусков"
   ]
  },
  {
   "cell_type": "code",
   "execution_count": 8,
   "metadata": {},
   "outputs": [],
   "source": [
    "#создадим функцию, определяющую % пропущенных значений в столбцах\n",
    "def nan_ratio(column):\n",
    "    return print('Пропущено {:.1%}'. format(games[column].isna().value_counts()[1] / len(games), 2) + ' значений')"
   ]
  },
  {
   "cell_type": "code",
   "execution_count": 9,
   "metadata": {},
   "outputs": [
    {
     "name": "stdout",
     "output_type": "stream",
     "text": [
      "Пропущено 0.0% значений\n",
      "Пропущено 0.0% значений\n"
     ]
    }
   ],
   "source": [
    "nan_ratio('name')\n",
    "nan_ratio('genre') "
   ]
  },
  {
   "cell_type": "code",
   "execution_count": 10,
   "metadata": {},
   "outputs": [
    {
     "name": "stdout",
     "output_type": "stream",
     "text": [
      "Пропущено 40.1% значений\n",
      "Пропущено 40.5% значений\n",
      "Пропущено 51.3% значений\n"
     ]
    }
   ],
   "source": [
    "nan_ratio('user_score') \n",
    "nan_ratio('rating')\n",
    "nan_ratio('critic_score') "
   ]
  },
  {
   "cell_type": "markdown",
   "metadata": {},
   "source": [
    "В столбцах 'critic_score', 'user_score', 'rating' достаточно много пропусков. Они могут быть связаны с тем, что отзывов на ту или иную игру могло быть недостаточно или они и вовсе отсутствовали. В дальнейшем эти столбцы нам пригодятся, поэтому будем использовать значения-заглушки, чтобы не исказить данные."
   ]
  },
  {
   "cell_type": "code",
   "execution_count": 11,
   "metadata": {},
   "outputs": [
    {
     "data": {
      "text/plain": [
       "array([76., nan, 82., 80., 89., 58., 87., 91., 61., 97., 95., 77., 88.,\n",
       "       83., 94., 93., 85., 86., 98., 96., 90., 84., 73., 74., 78., 92.,\n",
       "       71., 72., 68., 62., 49., 67., 81., 66., 56., 79., 70., 59., 64.,\n",
       "       75., 60., 63., 69., 50., 25., 42., 44., 55., 48., 57., 29., 47.,\n",
       "       65., 54., 20., 53., 37., 38., 33., 52., 30., 32., 43., 45., 51.,\n",
       "       40., 46., 39., 34., 35., 41., 36., 28., 31., 27., 26., 19., 23.,\n",
       "       24., 21., 17., 22., 13.])"
      ]
     },
     "execution_count": 11,
     "metadata": {},
     "output_type": "execute_result"
    }
   ],
   "source": [
    "#посмотрим на значения в столбце 'critic_score'\n",
    "games['critic_score'].unique()"
   ]
  },
  {
   "cell_type": "markdown",
   "metadata": {},
   "source": [
    "Max оценка — 98, а min — 17. "
   ]
  },
  {
   "cell_type": "code",
   "execution_count": 12,
   "metadata": {},
   "outputs": [],
   "source": [
    "#заполним пропуски нейтральным значением -1\n",
    "games['critic_score'] = games['critic_score'].fillna('-1')"
   ]
  },
  {
   "cell_type": "code",
   "execution_count": 13,
   "metadata": {},
   "outputs": [
    {
     "data": {
      "text/plain": [
       "0"
      ]
     },
     "execution_count": 13,
     "metadata": {},
     "output_type": "execute_result"
    }
   ],
   "source": [
    "#проверим количество пропусков\n",
    "games['critic_score'].isna().sum() "
   ]
  },
  {
   "cell_type": "code",
   "execution_count": 14,
   "metadata": {},
   "outputs": [],
   "source": [
    "#приведем данные столбца к типу float\n",
    "games['critic_score'] = games['critic_score'].astype('float')"
   ]
  },
  {
   "cell_type": "code",
   "execution_count": 15,
   "metadata": {},
   "outputs": [
    {
     "data": {
      "text/plain": [
       "array(['8', nan, '8.3', '8.5', '6.6', '8.4', '8.6', '7.7', '6.3', '7.4',\n",
       "       '8.2', '9', '7.9', '8.1', '8.7', '7.1', '3.4', '5.3', '4.8', '3.2',\n",
       "       '8.9', '6.4', '7.8', '7.5', '2.6', '7.2', '9.2', '7', '7.3', '4.3',\n",
       "       '7.6', '5.7', '5', '9.1', '6.5', 'tbd', '8.8', '6.9', '9.4', '6.8',\n",
       "       '6.1', '6.7', '5.4', '4', '4.9', '4.5', '9.3', '6.2', '4.2', '6',\n",
       "       '3.7', '4.1', '5.8', '5.6', '5.5', '4.4', '4.6', '5.9', '3.9',\n",
       "       '3.1', '2.9', '5.2', '3.3', '4.7', '5.1', '3.5', '2.5', '1.9', '3',\n",
       "       '2.7', '2.2', '2', '9.5', '2.1', '3.6', '2.8', '1.8', '3.8', '0',\n",
       "       '1.6', '9.6', '2.4', '1.7', '1.1', '0.3', '1.5', '0.7', '1.2',\n",
       "       '2.3', '0.5', '1.3', '0.2', '0.6', '1.4', '0.9', '1', '9.7'],\n",
       "      dtype=object)"
      ]
     },
     "execution_count": 15,
     "metadata": {},
     "output_type": "execute_result"
    }
   ],
   "source": [
    "#посмотрим на уникальные значения 'user_score'\n",
    "games['user_score'].unique()"
   ]
  },
  {
   "cell_type": "markdown",
   "metadata": {},
   "source": [
    "Обратили внимание на аббревиатуру 'tbd' в столбце с оценкой пользователей."
   ]
  },
  {
   "cell_type": "code",
   "execution_count": 16,
   "metadata": {},
   "outputs": [
    {
     "data": {
      "text/plain": [
       "2424"
      ]
     },
     "execution_count": 16,
     "metadata": {},
     "output_type": "execute_result"
    }
   ],
   "source": [
    "#посчитаем количество'tbd' в столбце'user_score'\n",
    "games[games['user_score'] == 'tbd']['user_score'].count()"
   ]
  },
  {
   "cell_type": "markdown",
   "metadata": {},
   "source": [
    "Наличие в столбце значения TBD (To Be Determined) говорит о том, что не достигнуто минимальное количество отзывов на конкретную игру."
   ]
  },
  {
   "cell_type": "code",
   "execution_count": 17,
   "metadata": {},
   "outputs": [],
   "source": [
    "#заменим эти значения NaN\n",
    "games.loc[games['user_score'] == 'tbd','user_score'] = np.nan "
   ]
  },
  {
   "cell_type": "code",
   "execution_count": 18,
   "metadata": {},
   "outputs": [
    {
     "data": {
      "text/plain": [
       "9125"
      ]
     },
     "execution_count": 18,
     "metadata": {},
     "output_type": "execute_result"
    }
   ],
   "source": [
    "#проверим количество пропусков\n",
    "games['user_score'].isna().sum() "
   ]
  },
  {
   "cell_type": "code",
   "execution_count": 19,
   "metadata": {},
   "outputs": [],
   "source": [
    "#приведем данные столбца к типу float\n",
    "games['user_score'] = games['user_score'].astype('float')"
   ]
  },
  {
   "cell_type": "code",
   "execution_count": 20,
   "metadata": {},
   "outputs": [
    {
     "data": {
      "text/plain": [
       "array(['e', nan, 'm', 't', 'e10+', 'k-a', 'ao', 'ec', 'rp'], dtype=object)"
      ]
     },
     "execution_count": 20,
     "metadata": {},
     "output_type": "execute_result"
    }
   ],
   "source": [
    "games['rating'].unique()"
   ]
  },
  {
   "cell_type": "code",
   "execution_count": 21,
   "metadata": {},
   "outputs": [],
   "source": [
    "#заполним пропуски нейтральным значением -1\n",
    "games['rating'] = games['rating'].fillna('-1')"
   ]
  },
  {
   "cell_type": "code",
   "execution_count": 22,
   "metadata": {},
   "outputs": [
    {
     "data": {
      "text/plain": [
       "0"
      ]
     },
     "execution_count": 22,
     "metadata": {},
     "output_type": "execute_result"
    }
   ],
   "source": [
    "#проверим количество пропусков\n",
    "games['rating'].isna().sum() "
   ]
  },
  {
   "cell_type": "markdown",
   "metadata": {},
   "source": [
    "Посчитайте суммарные продажи во всех регионах и запишите их в отдельный столбец."
   ]
  },
  {
   "cell_type": "code",
   "execution_count": 24,
   "metadata": {},
   "outputs": [],
   "source": [
    "games['total_sales'] = games[['na_sales','eu_sales','jp_sales', 'other_sales']].sum(axis = 1)"
   ]
  },
  {
   "cell_type": "code",
   "execution_count": 25,
   "metadata": {},
   "outputs": [
    {
     "data": {
      "text/html": [
       "<div>\n",
       "<style scoped>\n",
       "    .dataframe tbody tr th:only-of-type {\n",
       "        vertical-align: middle;\n",
       "    }\n",
       "\n",
       "    .dataframe tbody tr th {\n",
       "        vertical-align: top;\n",
       "    }\n",
       "\n",
       "    .dataframe thead th {\n",
       "        text-align: right;\n",
       "    }\n",
       "</style>\n",
       "<table border=\"1\" class=\"dataframe\">\n",
       "  <thead>\n",
       "    <tr style=\"text-align: right;\">\n",
       "      <th></th>\n",
       "      <th>name</th>\n",
       "      <th>platform</th>\n",
       "      <th>year_of_release</th>\n",
       "      <th>genre</th>\n",
       "      <th>na_sales</th>\n",
       "      <th>eu_sales</th>\n",
       "      <th>jp_sales</th>\n",
       "      <th>other_sales</th>\n",
       "      <th>critic_score</th>\n",
       "      <th>user_score</th>\n",
       "      <th>rating</th>\n",
       "      <th>total_sales</th>\n",
       "    </tr>\n",
       "  </thead>\n",
       "  <tbody>\n",
       "    <tr>\n",
       "      <th>0</th>\n",
       "      <td>wii sports</td>\n",
       "      <td>wii</td>\n",
       "      <td>2006</td>\n",
       "      <td>sports</td>\n",
       "      <td>41.36</td>\n",
       "      <td>28.96</td>\n",
       "      <td>3.77</td>\n",
       "      <td>8.45</td>\n",
       "      <td>76.0</td>\n",
       "      <td>8.0</td>\n",
       "      <td>e</td>\n",
       "      <td>82.54</td>\n",
       "    </tr>\n",
       "    <tr>\n",
       "      <th>1</th>\n",
       "      <td>super mario bros.</td>\n",
       "      <td>nes</td>\n",
       "      <td>1985</td>\n",
       "      <td>platform</td>\n",
       "      <td>29.08</td>\n",
       "      <td>3.58</td>\n",
       "      <td>6.81</td>\n",
       "      <td>0.77</td>\n",
       "      <td>-1.0</td>\n",
       "      <td>NaN</td>\n",
       "      <td>-1</td>\n",
       "      <td>40.24</td>\n",
       "    </tr>\n",
       "    <tr>\n",
       "      <th>2</th>\n",
       "      <td>mario kart wii</td>\n",
       "      <td>wii</td>\n",
       "      <td>2008</td>\n",
       "      <td>racing</td>\n",
       "      <td>15.68</td>\n",
       "      <td>12.76</td>\n",
       "      <td>3.79</td>\n",
       "      <td>3.29</td>\n",
       "      <td>82.0</td>\n",
       "      <td>8.3</td>\n",
       "      <td>e</td>\n",
       "      <td>35.52</td>\n",
       "    </tr>\n",
       "    <tr>\n",
       "      <th>3</th>\n",
       "      <td>wii sports resort</td>\n",
       "      <td>wii</td>\n",
       "      <td>2009</td>\n",
       "      <td>sports</td>\n",
       "      <td>15.61</td>\n",
       "      <td>10.93</td>\n",
       "      <td>3.28</td>\n",
       "      <td>2.95</td>\n",
       "      <td>80.0</td>\n",
       "      <td>8.0</td>\n",
       "      <td>e</td>\n",
       "      <td>32.77</td>\n",
       "    </tr>\n",
       "    <tr>\n",
       "      <th>4</th>\n",
       "      <td>pokemon red/pokemon blue</td>\n",
       "      <td>gb</td>\n",
       "      <td>1996</td>\n",
       "      <td>role-playing</td>\n",
       "      <td>11.27</td>\n",
       "      <td>8.89</td>\n",
       "      <td>10.22</td>\n",
       "      <td>1.00</td>\n",
       "      <td>-1.0</td>\n",
       "      <td>NaN</td>\n",
       "      <td>-1</td>\n",
       "      <td>31.38</td>\n",
       "    </tr>\n",
       "  </tbody>\n",
       "</table>\n",
       "</div>"
      ],
      "text/plain": [
       "                       name platform  year_of_release         genre  na_sales  \\\n",
       "0                wii sports      wii             2006        sports     41.36   \n",
       "1         super mario bros.      nes             1985      platform     29.08   \n",
       "2            mario kart wii      wii             2008        racing     15.68   \n",
       "3         wii sports resort      wii             2009        sports     15.61   \n",
       "4  pokemon red/pokemon blue       gb             1996  role-playing     11.27   \n",
       "\n",
       "   eu_sales  jp_sales  other_sales  critic_score  user_score rating  \\\n",
       "0     28.96      3.77         8.45          76.0         8.0      e   \n",
       "1      3.58      6.81         0.77          -1.0         NaN     -1   \n",
       "2     12.76      3.79         3.29          82.0         8.3      e   \n",
       "3     10.93      3.28         2.95          80.0         8.0      e   \n",
       "4      8.89     10.22         1.00          -1.0         NaN     -1   \n",
       "\n",
       "   total_sales  \n",
       "0        82.54  \n",
       "1        40.24  \n",
       "2        35.52  \n",
       "3        32.77  \n",
       "4        31.38  "
      ]
     },
     "execution_count": 25,
     "metadata": {},
     "output_type": "execute_result"
    }
   ],
   "source": [
    "games.head()"
   ]
  },
  {
   "cell_type": "markdown",
   "metadata": {},
   "source": [
    "### Вывод"
   ]
  },
  {
   "cell_type": "markdown",
   "metadata": {},
   "source": [
    "В данном разделе мы перешли к изменению данных: привели названия столбцов к нижнему регистру; преобразовали данные в нужные типы; поработали с пропусками и значением 'tbd' в столбце с оценкой пользователей. Мы использовали \"заглушки\" для пропусков в столбцах 'critic_score', 'user_score', 'rating', поскольку, с одной стороны, нельзя удалять такое значительное количество пропусков, с другой стороны, не хочется искажать данные. "
   ]
  },
  {
   "cell_type": "markdown",
   "metadata": {},
   "source": [
    "## Исследовательский анализ данных"
   ]
  },
  {
   "cell_type": "markdown",
   "metadata": {},
   "source": [
    "* Посмотрим, сколько игр выпускалось в разные годы;\n",
    "* Посмотрим, как менялись продажи по платформам; \n",
    "* Соберем данные для построения прогноза на 2017 г.;\n",
    "* Выберем несколько потенциально прибыльных платформ;\n",
    "* Посмотрим на глобальные продажи игр в разбивке по платформам;\n",
    "* Посмотрим, как влияют на продажи внутри одной популярной платформы отзывы пользователей и критиков;\n",
    "* Соотнесем выводы с продажами игр на других платформах;\n",
    "* Посмотрите на общее распределение игр по жанрам."
   ]
  },
  {
   "cell_type": "markdown",
   "metadata": {},
   "source": [
    "### Количество выпущенных игр в разные годы"
   ]
  },
  {
   "cell_type": "code",
   "execution_count": 26,
   "metadata": {},
   "outputs": [
    {
     "data": {
      "text/html": [
       "<div>\n",
       "<style scoped>\n",
       "    .dataframe tbody tr th:only-of-type {\n",
       "        vertical-align: middle;\n",
       "    }\n",
       "\n",
       "    .dataframe tbody tr th {\n",
       "        vertical-align: top;\n",
       "    }\n",
       "\n",
       "    .dataframe thead th {\n",
       "        text-align: right;\n",
       "    }\n",
       "</style>\n",
       "<table border=\"1\" class=\"dataframe\">\n",
       "  <thead>\n",
       "    <tr style=\"text-align: right;\">\n",
       "      <th></th>\n",
       "      <th>year</th>\n",
       "      <th>sum</th>\n",
       "    </tr>\n",
       "  </thead>\n",
       "  <tbody>\n",
       "    <tr>\n",
       "      <th>0</th>\n",
       "      <td>1980</td>\n",
       "      <td>9</td>\n",
       "    </tr>\n",
       "    <tr>\n",
       "      <th>1</th>\n",
       "      <td>1981</td>\n",
       "      <td>46</td>\n",
       "    </tr>\n",
       "    <tr>\n",
       "      <th>2</th>\n",
       "      <td>1982</td>\n",
       "      <td>36</td>\n",
       "    </tr>\n",
       "    <tr>\n",
       "      <th>3</th>\n",
       "      <td>1983</td>\n",
       "      <td>17</td>\n",
       "    </tr>\n",
       "    <tr>\n",
       "      <th>4</th>\n",
       "      <td>1984</td>\n",
       "      <td>14</td>\n",
       "    </tr>\n",
       "    <tr>\n",
       "      <th>5</th>\n",
       "      <td>1985</td>\n",
       "      <td>14</td>\n",
       "    </tr>\n",
       "    <tr>\n",
       "      <th>6</th>\n",
       "      <td>1986</td>\n",
       "      <td>21</td>\n",
       "    </tr>\n",
       "    <tr>\n",
       "      <th>7</th>\n",
       "      <td>1987</td>\n",
       "      <td>16</td>\n",
       "    </tr>\n",
       "    <tr>\n",
       "      <th>8</th>\n",
       "      <td>1988</td>\n",
       "      <td>15</td>\n",
       "    </tr>\n",
       "    <tr>\n",
       "      <th>9</th>\n",
       "      <td>1989</td>\n",
       "      <td>17</td>\n",
       "    </tr>\n",
       "    <tr>\n",
       "      <th>10</th>\n",
       "      <td>1990</td>\n",
       "      <td>16</td>\n",
       "    </tr>\n",
       "    <tr>\n",
       "      <th>11</th>\n",
       "      <td>1991</td>\n",
       "      <td>41</td>\n",
       "    </tr>\n",
       "    <tr>\n",
       "      <th>12</th>\n",
       "      <td>1992</td>\n",
       "      <td>43</td>\n",
       "    </tr>\n",
       "    <tr>\n",
       "      <th>13</th>\n",
       "      <td>1993</td>\n",
       "      <td>60</td>\n",
       "    </tr>\n",
       "    <tr>\n",
       "      <th>14</th>\n",
       "      <td>1994</td>\n",
       "      <td>121</td>\n",
       "    </tr>\n",
       "    <tr>\n",
       "      <th>15</th>\n",
       "      <td>1995</td>\n",
       "      <td>219</td>\n",
       "    </tr>\n",
       "    <tr>\n",
       "      <th>16</th>\n",
       "      <td>1996</td>\n",
       "      <td>263</td>\n",
       "    </tr>\n",
       "    <tr>\n",
       "      <th>17</th>\n",
       "      <td>1997</td>\n",
       "      <td>289</td>\n",
       "    </tr>\n",
       "    <tr>\n",
       "      <th>18</th>\n",
       "      <td>1998</td>\n",
       "      <td>379</td>\n",
       "    </tr>\n",
       "    <tr>\n",
       "      <th>19</th>\n",
       "      <td>1999</td>\n",
       "      <td>338</td>\n",
       "    </tr>\n",
       "    <tr>\n",
       "      <th>20</th>\n",
       "      <td>2000</td>\n",
       "      <td>350</td>\n",
       "    </tr>\n",
       "    <tr>\n",
       "      <th>21</th>\n",
       "      <td>2001</td>\n",
       "      <td>482</td>\n",
       "    </tr>\n",
       "    <tr>\n",
       "      <th>22</th>\n",
       "      <td>2002</td>\n",
       "      <td>829</td>\n",
       "    </tr>\n",
       "    <tr>\n",
       "      <th>23</th>\n",
       "      <td>2003</td>\n",
       "      <td>775</td>\n",
       "    </tr>\n",
       "    <tr>\n",
       "      <th>24</th>\n",
       "      <td>2004</td>\n",
       "      <td>762</td>\n",
       "    </tr>\n",
       "    <tr>\n",
       "      <th>25</th>\n",
       "      <td>2005</td>\n",
       "      <td>939</td>\n",
       "    </tr>\n",
       "    <tr>\n",
       "      <th>26</th>\n",
       "      <td>2006</td>\n",
       "      <td>1006</td>\n",
       "    </tr>\n",
       "    <tr>\n",
       "      <th>27</th>\n",
       "      <td>2007</td>\n",
       "      <td>1197</td>\n",
       "    </tr>\n",
       "    <tr>\n",
       "      <th>28</th>\n",
       "      <td>2008</td>\n",
       "      <td>1427</td>\n",
       "    </tr>\n",
       "    <tr>\n",
       "      <th>29</th>\n",
       "      <td>2009</td>\n",
       "      <td>1426</td>\n",
       "    </tr>\n",
       "    <tr>\n",
       "      <th>30</th>\n",
       "      <td>2010</td>\n",
       "      <td>1255</td>\n",
       "    </tr>\n",
       "    <tr>\n",
       "      <th>31</th>\n",
       "      <td>2011</td>\n",
       "      <td>1136</td>\n",
       "    </tr>\n",
       "    <tr>\n",
       "      <th>32</th>\n",
       "      <td>2012</td>\n",
       "      <td>653</td>\n",
       "    </tr>\n",
       "    <tr>\n",
       "      <th>33</th>\n",
       "      <td>2013</td>\n",
       "      <td>544</td>\n",
       "    </tr>\n",
       "    <tr>\n",
       "      <th>34</th>\n",
       "      <td>2014</td>\n",
       "      <td>581</td>\n",
       "    </tr>\n",
       "    <tr>\n",
       "      <th>35</th>\n",
       "      <td>2015</td>\n",
       "      <td>606</td>\n",
       "    </tr>\n",
       "    <tr>\n",
       "      <th>36</th>\n",
       "      <td>2016</td>\n",
       "      <td>502</td>\n",
       "    </tr>\n",
       "  </tbody>\n",
       "</table>\n",
       "</div>"
      ],
      "text/plain": [
       "    year   sum\n",
       "0   1980     9\n",
       "1   1981    46\n",
       "2   1982    36\n",
       "3   1983    17\n",
       "4   1984    14\n",
       "5   1985    14\n",
       "6   1986    21\n",
       "7   1987    16\n",
       "8   1988    15\n",
       "9   1989    17\n",
       "10  1990    16\n",
       "11  1991    41\n",
       "12  1992    43\n",
       "13  1993    60\n",
       "14  1994   121\n",
       "15  1995   219\n",
       "16  1996   263\n",
       "17  1997   289\n",
       "18  1998   379\n",
       "19  1999   338\n",
       "20  2000   350\n",
       "21  2001   482\n",
       "22  2002   829\n",
       "23  2003   775\n",
       "24  2004   762\n",
       "25  2005   939\n",
       "26  2006  1006\n",
       "27  2007  1197\n",
       "28  2008  1427\n",
       "29  2009  1426\n",
       "30  2010  1255\n",
       "31  2011  1136\n",
       "32  2012   653\n",
       "33  2013   544\n",
       "34  2014   581\n",
       "35  2015   606\n",
       "36  2016   502"
      ]
     },
     "execution_count": 26,
     "metadata": {},
     "output_type": "execute_result"
    }
   ],
   "source": [
    "game_release = games.groupby('year_of_release')['name'].count().reset_index()\n",
    "game_release.columns = ['year', 'sum']\n",
    "game_release"
   ]
  },
  {
   "cell_type": "code",
   "execution_count": 27,
   "metadata": {},
   "outputs": [
    {
     "data": {
      "image/png": "[encoded data removed]",
      "text/plain": [
       "<Figure size 1008x360 with 1 Axes>"
      ]
     },
     "metadata": {
      "needs_background": "light"
     },
     "output_type": "display_data"
    }
   ],
   "source": [
    "plt.figure(figsize=(14, 5))\n",
    "plt.bar(game_release['year'], game_release['sum'], label='Количество релизов за год', alpha=1, width=0.8)\n",
    "plt.xlabel('Год релиза')\n",
    "plt.ylabel('Количество релизов')\n",
    "plt.grid()\n",
    "plt.title(f'Количество релизов игр по годам')\n",
    "plt.show();"
   ]
  },
  {
   "cell_type": "markdown",
   "metadata": {},
   "source": [
    "Первые игры появились в 1980-х гг., но лишь с 1993-1995 гг. пошел рост количества релизов, связанный с бумом технического оснащения. Однако с 2010 г. мы наблюдаем спад релизов игр, возможно связанный с ростом популярности более доступных в финансовом и \"физическом\" смысле мобильных игр и общего финансового фона. "
   ]
  },
  {
   "cell_type": "markdown",
   "metadata": {},
   "source": [
    "### Изменения продаж по платформам"
   ]
  },
  {
   "cell_type": "markdown",
   "metadata": {},
   "source": [
    "Посмотрим суммарные продажи платформ."
   ]
  },
  {
   "cell_type": "code",
   "execution_count": 28,
   "metadata": {
    "scrolled": true
   },
   "outputs": [
    {
     "data": {
      "text/html": [
       "<div>\n",
       "<style scoped>\n",
       "    .dataframe tbody tr th:only-of-type {\n",
       "        vertical-align: middle;\n",
       "    }\n",
       "\n",
       "    .dataframe tbody tr th {\n",
       "        vertical-align: top;\n",
       "    }\n",
       "\n",
       "    .dataframe thead th {\n",
       "        text-align: right;\n",
       "    }\n",
       "</style>\n",
       "<table border=\"1\" class=\"dataframe\">\n",
       "  <thead>\n",
       "    <tr style=\"text-align: right;\">\n",
       "      <th></th>\n",
       "      <th>platform</th>\n",
       "      <th>total_sales</th>\n",
       "    </tr>\n",
       "  </thead>\n",
       "  <tbody>\n",
       "    <tr>\n",
       "      <th>0</th>\n",
       "      <td>ps2</td>\n",
       "      <td>1255.77</td>\n",
       "    </tr>\n",
       "    <tr>\n",
       "      <th>1</th>\n",
       "      <td>x360</td>\n",
       "      <td>971.42</td>\n",
       "    </tr>\n",
       "    <tr>\n",
       "      <th>2</th>\n",
       "      <td>ps3</td>\n",
       "      <td>939.65</td>\n",
       "    </tr>\n",
       "    <tr>\n",
       "      <th>3</th>\n",
       "      <td>wii</td>\n",
       "      <td>907.51</td>\n",
       "    </tr>\n",
       "    <tr>\n",
       "      <th>4</th>\n",
       "      <td>ds</td>\n",
       "      <td>806.12</td>\n",
       "    </tr>\n",
       "    <tr>\n",
       "      <th>5</th>\n",
       "      <td>ps</td>\n",
       "      <td>730.86</td>\n",
       "    </tr>\n",
       "    <tr>\n",
       "      <th>6</th>\n",
       "      <td>gba</td>\n",
       "      <td>317.85</td>\n",
       "    </tr>\n",
       "    <tr>\n",
       "      <th>7</th>\n",
       "      <td>ps4</td>\n",
       "      <td>314.14</td>\n",
       "    </tr>\n",
       "    <tr>\n",
       "      <th>8</th>\n",
       "      <td>psp</td>\n",
       "      <td>294.05</td>\n",
       "    </tr>\n",
       "    <tr>\n",
       "      <th>9</th>\n",
       "      <td>pc</td>\n",
       "      <td>259.52</td>\n",
       "    </tr>\n",
       "  </tbody>\n",
       "</table>\n",
       "</div>"
      ],
      "text/plain": [
       "  platform  total_sales\n",
       "0      ps2      1255.77\n",
       "1     x360       971.42\n",
       "2      ps3       939.65\n",
       "3      wii       907.51\n",
       "4       ds       806.12\n",
       "5       ps       730.86\n",
       "6      gba       317.85\n",
       "7      ps4       314.14\n",
       "8      psp       294.05\n",
       "9       pc       259.52"
      ]
     },
     "execution_count": 28,
     "metadata": {},
     "output_type": "execute_result"
    }
   ],
   "source": [
    "platforms_sales = games.groupby('platform')['total_sales'].sum().sort_values(ascending=False).reset_index().head(10)\n",
    "platforms_sales"
   ]
  },
  {
   "cell_type": "markdown",
   "metadata": {},
   "source": [
    "Поскольку нас интересуют сейчас платформы с наибольшими суммарными продажами, то сохраним топ-5 в отдельной переменной 'best_plf': PS2, X360, PS3, Wii, DS. "
   ]
  },
  {
   "cell_type": "code",
   "execution_count": 29,
   "metadata": {},
   "outputs": [],
   "source": [
    "best_plf = platforms_sales.loc[0:4, 'platform']"
   ]
  },
  {
   "cell_type": "code",
   "execution_count": 30,
   "metadata": {},
   "outputs": [
    {
     "data": {
      "image/png": "[encoded data removed]",
      "text/plain": [
       "<Figure size 1080x360 with 1 Axes>"
      ]
     },
     "metadata": {
      "needs_background": "light"
     },
     "output_type": "display_data"
    }
   ],
   "source": [
    "#Построим распределение по годам для платформ с наибольшими суммарными продажами\n",
    "plt.figure(figsize=(15, 5))\n",
    "\n",
    "#переменная для подсчета среднего срока жизни платформы\n",
    "plf_mean_life = 0\n",
    "\n",
    "for i in range(0,len(best_plf)):\n",
    "    platform  = games.query('platform == @best_plf[@i]').groupby('year_of_release')['total_sales'].sum()\n",
    "    plf_mean_life += platform.count()\n",
    "    platform.plot(x=platform.index, y=platform.values, label = best_plf[i], style='o-', alpha=1, grid=True);\n",
    "    \n",
    "\n",
    "plt.xlabel('Года')    \n",
    "plt.ylabel('Объём продаж игр за год')\n",
    "plt.title('Объёмы продаж на топ-5 платформах с 1985 по 2016 гг.')\n",
    "plt.legend()\n",
    "plt.show();"
   ]
  },
  {
   "cell_type": "code",
   "execution_count": 31,
   "metadata": {},
   "outputs": [
    {
     "data": {
      "text/plain": [
       "11.4"
      ]
     },
     "execution_count": 31,
     "metadata": {},
     "output_type": "execute_result"
    }
   ],
   "source": [
    "#посчитаем \"средний срок жизни\" платформ\n",
    "plf_mean_life/len(best_plf)"
   ]
  },
  {
   "cell_type": "markdown",
   "metadata": {},
   "source": [
    "Характерный срок, за который появляются новые и исчезают старые платформы, составляет 11.4 лет."
   ]
  },
  {
   "cell_type": "markdown",
   "metadata": {},
   "source": [
    "### Прогноз на 2017 г."
   ]
  },
  {
   "cell_type": "markdown",
   "metadata": {},
   "source": [
    "Возьмем данные за актуальный период. Игровая индустрия динамично изменяется, что видно на рассмотренных графиках, поэтому для целей прогнозирования продаж на 2017 г. мы возьмем последние 3 года, то есть период с 2013 по 2016 гг."
   ]
  },
  {
   "cell_type": "code",
   "execution_count": 32,
   "metadata": {},
   "outputs": [
    {
     "data": {
      "text/html": [
       "<div>\n",
       "<style scoped>\n",
       "    .dataframe tbody tr th:only-of-type {\n",
       "        vertical-align: middle;\n",
       "    }\n",
       "\n",
       "    .dataframe tbody tr th {\n",
       "        vertical-align: top;\n",
       "    }\n",
       "\n",
       "    .dataframe thead th {\n",
       "        text-align: right;\n",
       "    }\n",
       "</style>\n",
       "<table border=\"1\" class=\"dataframe\">\n",
       "  <thead>\n",
       "    <tr style=\"text-align: right;\">\n",
       "      <th></th>\n",
       "      <th>name</th>\n",
       "      <th>platform</th>\n",
       "      <th>year_of_release</th>\n",
       "      <th>genre</th>\n",
       "      <th>na_sales</th>\n",
       "      <th>eu_sales</th>\n",
       "      <th>jp_sales</th>\n",
       "      <th>other_sales</th>\n",
       "      <th>critic_score</th>\n",
       "      <th>user_score</th>\n",
       "      <th>rating</th>\n",
       "      <th>total_sales</th>\n",
       "    </tr>\n",
       "  </thead>\n",
       "  <tbody>\n",
       "    <tr>\n",
       "      <th>16</th>\n",
       "      <td>grand theft auto v</td>\n",
       "      <td>ps3</td>\n",
       "      <td>2013</td>\n",
       "      <td>action</td>\n",
       "      <td>7.02</td>\n",
       "      <td>9.09</td>\n",
       "      <td>0.98</td>\n",
       "      <td>3.96</td>\n",
       "      <td>97.0</td>\n",
       "      <td>8.2</td>\n",
       "      <td>m</td>\n",
       "      <td>21.05</td>\n",
       "    </tr>\n",
       "    <tr>\n",
       "      <th>23</th>\n",
       "      <td>grand theft auto v</td>\n",
       "      <td>x360</td>\n",
       "      <td>2013</td>\n",
       "      <td>action</td>\n",
       "      <td>9.66</td>\n",
       "      <td>5.14</td>\n",
       "      <td>0.06</td>\n",
       "      <td>1.41</td>\n",
       "      <td>97.0</td>\n",
       "      <td>8.1</td>\n",
       "      <td>m</td>\n",
       "      <td>16.27</td>\n",
       "    </tr>\n",
       "    <tr>\n",
       "      <th>31</th>\n",
       "      <td>call of duty: black ops 3</td>\n",
       "      <td>ps4</td>\n",
       "      <td>2015</td>\n",
       "      <td>shooter</td>\n",
       "      <td>6.03</td>\n",
       "      <td>5.86</td>\n",
       "      <td>0.36</td>\n",
       "      <td>2.38</td>\n",
       "      <td>-1.0</td>\n",
       "      <td>NaN</td>\n",
       "      <td>-1</td>\n",
       "      <td>14.63</td>\n",
       "    </tr>\n",
       "    <tr>\n",
       "      <th>33</th>\n",
       "      <td>pokemon x/pokemon y</td>\n",
       "      <td>3ds</td>\n",
       "      <td>2013</td>\n",
       "      <td>role-playing</td>\n",
       "      <td>5.28</td>\n",
       "      <td>4.19</td>\n",
       "      <td>4.35</td>\n",
       "      <td>0.78</td>\n",
       "      <td>-1.0</td>\n",
       "      <td>NaN</td>\n",
       "      <td>-1</td>\n",
       "      <td>14.60</td>\n",
       "    </tr>\n",
       "    <tr>\n",
       "      <th>42</th>\n",
       "      <td>grand theft auto v</td>\n",
       "      <td>ps4</td>\n",
       "      <td>2014</td>\n",
       "      <td>action</td>\n",
       "      <td>3.96</td>\n",
       "      <td>6.31</td>\n",
       "      <td>0.38</td>\n",
       "      <td>1.97</td>\n",
       "      <td>97.0</td>\n",
       "      <td>8.3</td>\n",
       "      <td>m</td>\n",
       "      <td>12.62</td>\n",
       "    </tr>\n",
       "    <tr>\n",
       "      <th>47</th>\n",
       "      <td>pokemon omega ruby/pokemon alpha sapphire</td>\n",
       "      <td>3ds</td>\n",
       "      <td>2014</td>\n",
       "      <td>role-playing</td>\n",
       "      <td>4.35</td>\n",
       "      <td>3.49</td>\n",
       "      <td>3.10</td>\n",
       "      <td>0.74</td>\n",
       "      <td>-1.0</td>\n",
       "      <td>NaN</td>\n",
       "      <td>-1</td>\n",
       "      <td>11.68</td>\n",
       "    </tr>\n",
       "    <tr>\n",
       "      <th>60</th>\n",
       "      <td>call of duty: ghosts</td>\n",
       "      <td>x360</td>\n",
       "      <td>2013</td>\n",
       "      <td>shooter</td>\n",
       "      <td>6.73</td>\n",
       "      <td>2.56</td>\n",
       "      <td>0.04</td>\n",
       "      <td>0.91</td>\n",
       "      <td>73.0</td>\n",
       "      <td>2.6</td>\n",
       "      <td>m</td>\n",
       "      <td>10.24</td>\n",
       "    </tr>\n",
       "    <tr>\n",
       "      <th>69</th>\n",
       "      <td>call of duty: ghosts</td>\n",
       "      <td>ps3</td>\n",
       "      <td>2013</td>\n",
       "      <td>shooter</td>\n",
       "      <td>4.10</td>\n",
       "      <td>3.63</td>\n",
       "      <td>0.38</td>\n",
       "      <td>1.25</td>\n",
       "      <td>71.0</td>\n",
       "      <td>2.6</td>\n",
       "      <td>m</td>\n",
       "      <td>9.36</td>\n",
       "    </tr>\n",
       "    <tr>\n",
       "      <th>72</th>\n",
       "      <td>minecraft</td>\n",
       "      <td>x360</td>\n",
       "      <td>2013</td>\n",
       "      <td>misc</td>\n",
       "      <td>5.70</td>\n",
       "      <td>2.65</td>\n",
       "      <td>0.02</td>\n",
       "      <td>0.81</td>\n",
       "      <td>-1.0</td>\n",
       "      <td>NaN</td>\n",
       "      <td>-1</td>\n",
       "      <td>9.18</td>\n",
       "    </tr>\n",
       "    <tr>\n",
       "      <th>77</th>\n",
       "      <td>fifa 16</td>\n",
       "      <td>ps4</td>\n",
       "      <td>2015</td>\n",
       "      <td>sports</td>\n",
       "      <td>1.12</td>\n",
       "      <td>6.12</td>\n",
       "      <td>0.06</td>\n",
       "      <td>1.28</td>\n",
       "      <td>82.0</td>\n",
       "      <td>4.3</td>\n",
       "      <td>e</td>\n",
       "      <td>8.58</td>\n",
       "    </tr>\n",
       "  </tbody>\n",
       "</table>\n",
       "</div>"
      ],
      "text/plain": [
       "                                         name platform  year_of_release  \\\n",
       "16                         grand theft auto v      ps3             2013   \n",
       "23                         grand theft auto v     x360             2013   \n",
       "31                  call of duty: black ops 3      ps4             2015   \n",
       "33                        pokemon x/pokemon y      3ds             2013   \n",
       "42                         grand theft auto v      ps4             2014   \n",
       "47  pokemon omega ruby/pokemon alpha sapphire      3ds             2014   \n",
       "60                       call of duty: ghosts     x360             2013   \n",
       "69                       call of duty: ghosts      ps3             2013   \n",
       "72                                  minecraft     x360             2013   \n",
       "77                                    fifa 16      ps4             2015   \n",
       "\n",
       "           genre  na_sales  eu_sales  jp_sales  other_sales  critic_score  \\\n",
       "16        action      7.02      9.09      0.98         3.96          97.0   \n",
       "23        action      9.66      5.14      0.06         1.41          97.0   \n",
       "31       shooter      6.03      5.86      0.36         2.38          -1.0   \n",
       "33  role-playing      5.28      4.19      4.35         0.78          -1.0   \n",
       "42        action      3.96      6.31      0.38         1.97          97.0   \n",
       "47  role-playing      4.35      3.49      3.10         0.74          -1.0   \n",
       "60       shooter      6.73      2.56      0.04         0.91          73.0   \n",
       "69       shooter      4.10      3.63      0.38         1.25          71.0   \n",
       "72          misc      5.70      2.65      0.02         0.81          -1.0   \n",
       "77        sports      1.12      6.12      0.06         1.28          82.0   \n",
       "\n",
       "    user_score rating  total_sales  \n",
       "16         8.2      m        21.05  \n",
       "23         8.1      m        16.27  \n",
       "31         NaN     -1        14.63  \n",
       "33         NaN     -1        14.60  \n",
       "42         8.3      m        12.62  \n",
       "47         NaN     -1        11.68  \n",
       "60         2.6      m        10.24  \n",
       "69         2.6      m         9.36  \n",
       "72         NaN     -1         9.18  \n",
       "77         4.3      e         8.58  "
      ]
     },
     "execution_count": 32,
     "metadata": {},
     "output_type": "execute_result"
    }
   ],
   "source": [
    "#создадим переменную prediction, в которой будут сохранные данные за 2005-2016 гг.\n",
    "prediction = games.loc[games['year_of_release']>= 2013]\n",
    "prediction.head(10)"
   ]
  },
  {
   "cell_type": "markdown",
   "metadata": {},
   "source": [
    "Посмотрим, какие платформы лидируют по продажам, растут или падают, чтобы выбрать несколько потенциально прибыльных платформ.\n"
   ]
  },
  {
   "cell_type": "code",
   "execution_count": 33,
   "metadata": {},
   "outputs": [
    {
     "data": {
      "text/html": [
       "<div>\n",
       "<style scoped>\n",
       "    .dataframe tbody tr th:only-of-type {\n",
       "        vertical-align: middle;\n",
       "    }\n",
       "\n",
       "    .dataframe tbody tr th {\n",
       "        vertical-align: top;\n",
       "    }\n",
       "\n",
       "    .dataframe thead th {\n",
       "        text-align: right;\n",
       "    }\n",
       "</style>\n",
       "<table border=\"1\" class=\"dataframe\">\n",
       "  <thead>\n",
       "    <tr style=\"text-align: right;\">\n",
       "      <th></th>\n",
       "      <th>platform</th>\n",
       "      <th>total_sales</th>\n",
       "    </tr>\n",
       "  </thead>\n",
       "  <tbody>\n",
       "    <tr>\n",
       "      <th>0</th>\n",
       "      <td>ps4</td>\n",
       "      <td>314.14</td>\n",
       "    </tr>\n",
       "    <tr>\n",
       "      <th>1</th>\n",
       "      <td>ps3</td>\n",
       "      <td>181.43</td>\n",
       "    </tr>\n",
       "    <tr>\n",
       "      <th>2</th>\n",
       "      <td>xone</td>\n",
       "      <td>159.32</td>\n",
       "    </tr>\n",
       "    <tr>\n",
       "      <th>3</th>\n",
       "      <td>3ds</td>\n",
       "      <td>143.25</td>\n",
       "    </tr>\n",
       "    <tr>\n",
       "      <th>4</th>\n",
       "      <td>x360</td>\n",
       "      <td>136.80</td>\n",
       "    </tr>\n",
       "    <tr>\n",
       "      <th>5</th>\n",
       "      <td>wiiu</td>\n",
       "      <td>64.63</td>\n",
       "    </tr>\n",
       "    <tr>\n",
       "      <th>6</th>\n",
       "      <td>pc</td>\n",
       "      <td>39.43</td>\n",
       "    </tr>\n",
       "    <tr>\n",
       "      <th>7</th>\n",
       "      <td>psv</td>\n",
       "      <td>32.99</td>\n",
       "    </tr>\n",
       "    <tr>\n",
       "      <th>8</th>\n",
       "      <td>wii</td>\n",
       "      <td>13.66</td>\n",
       "    </tr>\n",
       "    <tr>\n",
       "      <th>9</th>\n",
       "      <td>psp</td>\n",
       "      <td>3.50</td>\n",
       "    </tr>\n",
       "    <tr>\n",
       "      <th>10</th>\n",
       "      <td>ds</td>\n",
       "      <td>1.54</td>\n",
       "    </tr>\n",
       "  </tbody>\n",
       "</table>\n",
       "</div>"
      ],
      "text/plain": [
       "   platform  total_sales\n",
       "0       ps4       314.14\n",
       "1       ps3       181.43\n",
       "2      xone       159.32\n",
       "3       3ds       143.25\n",
       "4      x360       136.80\n",
       "5      wiiu        64.63\n",
       "6        pc        39.43\n",
       "7       psv        32.99\n",
       "8       wii        13.66\n",
       "9       psp         3.50\n",
       "10       ds         1.54"
      ]
     },
     "execution_count": 33,
     "metadata": {},
     "output_type": "execute_result"
    }
   ],
   "source": [
    "plf_sales = prediction.groupby('platform')['total_sales'].sum().sort_values(ascending=False).reset_index()\n",
    "plf_sales"
   ]
  },
  {
   "cell_type": "markdown",
   "metadata": {},
   "source": [
    "К платформам с наибольшими суммарными продажами относятся PS4, PS3, XOne, 3DS и X360, если взять первую пятерку платформ. При этом разница в суммарных продажах между 1 и 5 платформой составляет 2.3 раза. К наименьшим — PSP и DS. Сохраним их в отдельной переменной 'best_plf_prediction'."
   ]
  },
  {
   "cell_type": "code",
   "execution_count": 34,
   "metadata": {},
   "outputs": [],
   "source": [
    "best_plf_prediction = plf_sales.loc[0:11, 'platform']"
   ]
  },
  {
   "cell_type": "code",
   "execution_count": 35,
   "metadata": {},
   "outputs": [
    {
     "data": {
      "image/png": "[encoded data removed]",
      "text/plain": [
       "<Figure size 1080x360 with 1 Axes>"
      ]
     },
     "metadata": {
      "needs_background": "light"
     },
     "output_type": "display_data"
    }
   ],
   "source": [
    "#Построим распределение по годам для всех платформ в рассматриваемом периоде\n",
    "plt.figure(figsize=(15, 5))\n",
    "\n",
    "for i in range(0,len(best_plf_prediction)):\n",
    "    plf = prediction.query('platform == @best_plf_prediction[@i]').groupby('year_of_release')['total_sales'].sum()\n",
    "    plf.plot(x=platform.index, y=platform.values, label = best_plf_prediction[i], style='o-', alpha=1, grid=True);\n",
    "    \n",
    "\n",
    "plt.xlabel('Года')    \n",
    "plt.ylabel('Объём продаж игр за год')\n",
    "plt.title('Объёмы продаж на платформах с 2013 по 2016 гг.')\n",
    "plt.legend()\n",
    "plt.show();"
   ]
  },
  {
   "cell_type": "markdown",
   "metadata": {},
   "source": [
    "На основе данного графика мы видим, что платформы с наибольшими суммарными продажами (PS4 и XOne) демонстрировали рост с 2013 по 2015 гг., однако затем наблюдается спад. Платформы Х360, 3DS, PS3 демонстрируют спад в рассматриваемом периоде и, вероятно, что их цикл развития завершается. Вряд ли их можно отнести к потенциально прибыльным платформам. Таковыми можно назвать, согласно графику, лишь две платформы — PS4 и XOne, которые начали свой цикл развития в 2013 г.  \n",
    "Если следовать предположению о среднем сроке жизни платформ, то еще не достигли своей \"гибели\" 3DS, WiiU, PSV, которые появились после 2011 г. Вероятно, на них также стоит обратить внимание. В рассматриваемом периоде они не продемонстрировали ни сильный рост, ни сильный спад. \n",
    "Спад в 2015-2016 гг. также может быть связан с популярностью более бюджетных аналогов. Отдельно хочется обратить внимение на платформу PC, которая на протяжение всего рассматриваемого периода находится примерно на одном уровне продаж, то есть сохраняет свою актуальность."
   ]
  },
  {
   "cell_type": "markdown",
   "metadata": {},
   "source": [
    "### Глобальные продажи игр в разбивке по платформам"
   ]
  },
  {
   "cell_type": "markdown",
   "metadata": {},
   "source": [
    "Построим график «ящик с усами» по глобальным продажам игр в разбивке по платформам."
   ]
  },
  {
   "cell_type": "code",
   "execution_count": 36,
   "metadata": {},
   "outputs": [
    {
     "data": {
      "image/png": "[encoded data removed]",
      "text/plain": [
       "<Figure size 1080x720 with 1 Axes>"
      ]
     },
     "metadata": {
      "needs_background": "light"
     },
     "output_type": "display_data"
    }
   ],
   "source": [
    "plt.figure(figsize=(15,10))\n",
    "plt.xlim(0,1.8)\n",
    "boxplot = sns.boxplot(y='platform', x='total_sales', data=prediction)\n",
    "boxplot.grid()\n",
    "boxplot.set_xlabel('Глобальные продажи игр', fontsize=10);\n",
    "boxplot.set_ylabel('Платформы', fontsize=10);\n",
    "boxplot.axes.set_title('Глобальные продажи игр в разбивке по платформам', fontsize=15);\n"
   ]
  },
  {
   "cell_type": "markdown",
   "metadata": {},
   "source": [
    "Судя по данному графику, медианные значения платформ PS4, XOne, WiiU, Wii находятся на уровне 0.2 млн. Чуть выше уровень демонстрирует платформа X360 — около 0.3 млн. При этом max значение для PS4, X360 превышает 1.6 млн. Большая часть значений лежит в диапазоне до 0.8 млн, а первая квартиль достигает около 0.1 млн. Большая часть значений XOne, и Wii лежит в диапазоне до 0.7 млн, а нижняя граница — около 0.1 млн. Показатели ниже приходятся на платформы PS3, 3DS, PC, PSV, DS и PSP — до 0.1 млн. Max значения для PC и DS не превышает 0.6 млн.\n",
    "На основе данных наблюдений можно заключить, что платформы PS4, XOne, X360 и Wii определенно заслуживают внимания в 2017 г."
   ]
  },
  {
   "cell_type": "markdown",
   "metadata": {},
   "source": [
    "### Влияние на продажи внутри одной популярной платформы отзывы пользователей и критиков"
   ]
  },
  {
   "cell_type": "markdown",
   "metadata": {},
   "source": [
    "Построим диаграмму рассеяния и посчитаем корреляцию между отзывами и продажами для наиболее популярной платфоры — PS4."
   ]
  },
  {
   "cell_type": "code",
   "execution_count": 37,
   "metadata": {},
   "outputs": [
    {
     "data": {
      "text/html": [
       "<div>\n",
       "<style scoped>\n",
       "    .dataframe tbody tr th:only-of-type {\n",
       "        vertical-align: middle;\n",
       "    }\n",
       "\n",
       "    .dataframe tbody tr th {\n",
       "        vertical-align: top;\n",
       "    }\n",
       "\n",
       "    .dataframe thead th {\n",
       "        text-align: right;\n",
       "    }\n",
       "</style>\n",
       "<table border=\"1\" class=\"dataframe\">\n",
       "  <thead>\n",
       "    <tr style=\"text-align: right;\">\n",
       "      <th></th>\n",
       "      <th>total_sales</th>\n",
       "      <th>critic_score</th>\n",
       "      <th>user_score</th>\n",
       "    </tr>\n",
       "  </thead>\n",
       "  <tbody>\n",
       "    <tr>\n",
       "      <th>0</th>\n",
       "      <td>12.62</td>\n",
       "      <td>97.0</td>\n",
       "      <td>8.3</td>\n",
       "    </tr>\n",
       "    <tr>\n",
       "      <th>1</th>\n",
       "      <td>8.58</td>\n",
       "      <td>82.0</td>\n",
       "      <td>4.3</td>\n",
       "    </tr>\n",
       "    <tr>\n",
       "      <th>2</th>\n",
       "      <td>7.66</td>\n",
       "      <td>83.0</td>\n",
       "      <td>5.7</td>\n",
       "    </tr>\n",
       "    <tr>\n",
       "      <th>3</th>\n",
       "      <td>7.60</td>\n",
       "      <td>85.0</td>\n",
       "      <td>5.0</td>\n",
       "    </tr>\n",
       "    <tr>\n",
       "      <th>4</th>\n",
       "      <td>7.17</td>\n",
       "      <td>87.0</td>\n",
       "      <td>6.5</td>\n",
       "    </tr>\n",
       "    <tr>\n",
       "      <th>...</th>\n",
       "      <td>...</td>\n",
       "      <td>...</td>\n",
       "      <td>...</td>\n",
       "    </tr>\n",
       "    <tr>\n",
       "      <th>252</th>\n",
       "      <td>0.01</td>\n",
       "      <td>42.0</td>\n",
       "      <td>2.3</td>\n",
       "    </tr>\n",
       "    <tr>\n",
       "      <th>253</th>\n",
       "      <td>0.01</td>\n",
       "      <td>70.0</td>\n",
       "      <td>6.8</td>\n",
       "    </tr>\n",
       "    <tr>\n",
       "      <th>254</th>\n",
       "      <td>0.01</td>\n",
       "      <td>69.0</td>\n",
       "      <td>7.5</td>\n",
       "    </tr>\n",
       "    <tr>\n",
       "      <th>255</th>\n",
       "      <td>0.01</td>\n",
       "      <td>61.0</td>\n",
       "      <td>7.9</td>\n",
       "    </tr>\n",
       "    <tr>\n",
       "      <th>256</th>\n",
       "      <td>0.01</td>\n",
       "      <td>51.0</td>\n",
       "      <td>5.5</td>\n",
       "    </tr>\n",
       "  </tbody>\n",
       "</table>\n",
       "<p>257 rows × 3 columns</p>\n",
       "</div>"
      ],
      "text/plain": [
       "     total_sales  critic_score  user_score\n",
       "0          12.62          97.0         8.3\n",
       "1           8.58          82.0         4.3\n",
       "2           7.66          83.0         5.7\n",
       "3           7.60          85.0         5.0\n",
       "4           7.17          87.0         6.5\n",
       "..           ...           ...         ...\n",
       "252         0.01          42.0         2.3\n",
       "253         0.01          70.0         6.8\n",
       "254         0.01          69.0         7.5\n",
       "255         0.01          61.0         7.9\n",
       "256         0.01          51.0         5.5\n",
       "\n",
       "[257 rows x 3 columns]"
      ]
     },
     "execution_count": 37,
     "metadata": {},
     "output_type": "execute_result"
    }
   ],
   "source": [
    "ps4_plf = prediction.query('platform == \"ps4\"')[['total_sales', 'critic_score', 'user_score']].dropna().reset_index(drop=True)\n",
    "ps4_plf"
   ]
  },
  {
   "cell_type": "code",
   "execution_count": 38,
   "metadata": {},
   "outputs": [
    {
     "data": {
      "image/png": "[encoded data removed]",
      "text/plain": [
       "<Figure size 1080x1080 with 9 Axes>"
      ]
     },
     "metadata": {
      "needs_background": "light"
     },
     "output_type": "display_data"
    }
   ],
   "source": [
    "#построим матрицу диаграмм рассеяния для столбцов Х360_plf\n",
    "pd.plotting.scatter_matrix(ps4_plf, figsize=(15, 15)); "
   ]
  },
  {
   "cell_type": "markdown",
   "metadata": {},
   "source": [
    "* В верхней ячейке посередине связь продаж и отзывов критиков. По этой диаграмме рассеяния видно, чем выше оценка, тем больше продаж. Наибольшее число продаж приходится на игры с оценками в районе 70-80 баллов из 100.\n",
    "* В верхней левой ячейке связь продаж и отзывов игроков. По этой диаграмме рассеяния также видна прямопропорциональная зависимость: чем выше оценка, тем больше продаж. "
   ]
  },
  {
   "cell_type": "code",
   "execution_count": 39,
   "metadata": {},
   "outputs": [
    {
     "data": {
      "text/html": [
       "<div>\n",
       "<style scoped>\n",
       "    .dataframe tbody tr th:only-of-type {\n",
       "        vertical-align: middle;\n",
       "    }\n",
       "\n",
       "    .dataframe tbody tr th {\n",
       "        vertical-align: top;\n",
       "    }\n",
       "\n",
       "    .dataframe thead th {\n",
       "        text-align: right;\n",
       "    }\n",
       "</style>\n",
       "<table border=\"1\" class=\"dataframe\">\n",
       "  <thead>\n",
       "    <tr style=\"text-align: right;\">\n",
       "      <th></th>\n",
       "      <th>total_sales</th>\n",
       "      <th>critic_score</th>\n",
       "      <th>user_score</th>\n",
       "    </tr>\n",
       "  </thead>\n",
       "  <tbody>\n",
       "    <tr>\n",
       "      <th>total_sales</th>\n",
       "      <td>1.000000</td>\n",
       "      <td>0.350407</td>\n",
       "      <td>-0.031957</td>\n",
       "    </tr>\n",
       "    <tr>\n",
       "      <th>critic_score</th>\n",
       "      <td>0.350407</td>\n",
       "      <td>1.000000</td>\n",
       "      <td>0.385579</td>\n",
       "    </tr>\n",
       "    <tr>\n",
       "      <th>user_score</th>\n",
       "      <td>-0.031957</td>\n",
       "      <td>0.385579</td>\n",
       "      <td>1.000000</td>\n",
       "    </tr>\n",
       "  </tbody>\n",
       "</table>\n",
       "</div>"
      ],
      "text/plain": [
       "              total_sales  critic_score  user_score\n",
       "total_sales      1.000000      0.350407   -0.031957\n",
       "critic_score     0.350407      1.000000    0.385579\n",
       "user_score      -0.031957      0.385579    1.000000"
      ]
     },
     "execution_count": 39,
     "metadata": {},
     "output_type": "execute_result"
    }
   ],
   "source": [
    "#посмотрим коэффициент корреляции Пирсона\n",
    "ps4_plf.corr()"
   ]
  },
  {
   "cell_type": "markdown",
   "metadata": {},
   "source": [
    "* Корреляция в 0.4 говорит о слабой связи между продажами и отзывами критиков\n",
    "* Корреляция в -0.03 говорит об отрицательной связи между продажами и отзывами игроков.\n",
    "* Возможно, что разница в показателях говорит о том, что покупатель охотнее прислушается к мнению критика как эксперта, чем к отзывам других игроков. \n",
    "* В первом случае зависимость прямопропорциональная, во втором — обратно пропорциональная.\n",
    "\n",
    "В целом то, что чем выша оценка, тем выше продажи, кажется логичным, т.к. хорошие продажи гарантированы хорошим играм, однако низкая корреляция между отзывами может говорить о том, что при покупке обращают не столько на отзывы, сколько на другие факторы."
   ]
  },
  {
   "cell_type": "markdown",
   "metadata": {},
   "source": [
    "### Соотнесем выводы с продажами игр на других платформах."
   ]
  },
  {
   "cell_type": "markdown",
   "metadata": {},
   "source": [
    "Аналогично посмотрим на примере других популярных платформах: XOne, X360 и Wii."
   ]
  },
  {
   "cell_type": "markdown",
   "metadata": {},
   "source": [
    "#### XOne"
   ]
  },
  {
   "cell_type": "code",
   "execution_count": 40,
   "metadata": {},
   "outputs": [
    {
     "data": {
      "text/html": [
       "<div>\n",
       "<style scoped>\n",
       "    .dataframe tbody tr th:only-of-type {\n",
       "        vertical-align: middle;\n",
       "    }\n",
       "\n",
       "    .dataframe tbody tr th {\n",
       "        vertical-align: top;\n",
       "    }\n",
       "\n",
       "    .dataframe thead th {\n",
       "        text-align: right;\n",
       "    }\n",
       "</style>\n",
       "<table border=\"1\" class=\"dataframe\">\n",
       "  <thead>\n",
       "    <tr style=\"text-align: right;\">\n",
       "      <th></th>\n",
       "      <th>total_sales</th>\n",
       "      <th>critic_score</th>\n",
       "      <th>user_score</th>\n",
       "    </tr>\n",
       "  </thead>\n",
       "  <tbody>\n",
       "    <tr>\n",
       "      <th>0</th>\n",
       "      <td>5.47</td>\n",
       "      <td>97.0</td>\n",
       "      <td>7.9</td>\n",
       "    </tr>\n",
       "    <tr>\n",
       "      <th>1</th>\n",
       "      <td>5.26</td>\n",
       "      <td>81.0</td>\n",
       "      <td>5.4</td>\n",
       "    </tr>\n",
       "    <tr>\n",
       "      <th>2</th>\n",
       "      <td>4.49</td>\n",
       "      <td>84.0</td>\n",
       "      <td>6.4</td>\n",
       "    </tr>\n",
       "    <tr>\n",
       "      <th>3</th>\n",
       "      <td>4.22</td>\n",
       "      <td>88.0</td>\n",
       "      <td>6.2</td>\n",
       "    </tr>\n",
       "    <tr>\n",
       "      <th>4</th>\n",
       "      <td>3.50</td>\n",
       "      <td>72.0</td>\n",
       "      <td>4.1</td>\n",
       "    </tr>\n",
       "    <tr>\n",
       "      <th>...</th>\n",
       "      <td>...</td>\n",
       "      <td>...</td>\n",
       "      <td>...</td>\n",
       "    </tr>\n",
       "    <tr>\n",
       "      <th>177</th>\n",
       "      <td>0.01</td>\n",
       "      <td>-1.0</td>\n",
       "      <td>6.8</td>\n",
       "    </tr>\n",
       "    <tr>\n",
       "      <th>178</th>\n",
       "      <td>0.01</td>\n",
       "      <td>65.0</td>\n",
       "      <td>6.0</td>\n",
       "    </tr>\n",
       "    <tr>\n",
       "      <th>179</th>\n",
       "      <td>0.01</td>\n",
       "      <td>63.0</td>\n",
       "      <td>8.2</td>\n",
       "    </tr>\n",
       "    <tr>\n",
       "      <th>180</th>\n",
       "      <td>0.01</td>\n",
       "      <td>-1.0</td>\n",
       "      <td>6.6</td>\n",
       "    </tr>\n",
       "    <tr>\n",
       "      <th>181</th>\n",
       "      <td>0.01</td>\n",
       "      <td>74.0</td>\n",
       "      <td>6.7</td>\n",
       "    </tr>\n",
       "  </tbody>\n",
       "</table>\n",
       "<p>182 rows × 3 columns</p>\n",
       "</div>"
      ],
      "text/plain": [
       "     total_sales  critic_score  user_score\n",
       "0           5.47          97.0         7.9\n",
       "1           5.26          81.0         5.4\n",
       "2           4.49          84.0         6.4\n",
       "3           4.22          88.0         6.2\n",
       "4           3.50          72.0         4.1\n",
       "..           ...           ...         ...\n",
       "177         0.01          -1.0         6.8\n",
       "178         0.01          65.0         6.0\n",
       "179         0.01          63.0         8.2\n",
       "180         0.01          -1.0         6.6\n",
       "181         0.01          74.0         6.7\n",
       "\n",
       "[182 rows x 3 columns]"
      ]
     },
     "execution_count": 40,
     "metadata": {},
     "output_type": "execute_result"
    }
   ],
   "source": [
    "xone_plf = prediction.query('platform == \"xone\"')[['total_sales', 'critic_score', 'user_score']].dropna().reset_index(drop=True)\n",
    "xone_plf"
   ]
  },
  {
   "cell_type": "code",
   "execution_count": 41,
   "metadata": {},
   "outputs": [
    {
     "data": {
      "text/html": [
       "<div>\n",
       "<style scoped>\n",
       "    .dataframe tbody tr th:only-of-type {\n",
       "        vertical-align: middle;\n",
       "    }\n",
       "\n",
       "    .dataframe tbody tr th {\n",
       "        vertical-align: top;\n",
       "    }\n",
       "\n",
       "    .dataframe thead th {\n",
       "        text-align: right;\n",
       "    }\n",
       "</style>\n",
       "<table border=\"1\" class=\"dataframe\">\n",
       "  <thead>\n",
       "    <tr style=\"text-align: right;\">\n",
       "      <th></th>\n",
       "      <th>total_sales</th>\n",
       "      <th>critic_score</th>\n",
       "      <th>user_score</th>\n",
       "    </tr>\n",
       "  </thead>\n",
       "  <tbody>\n",
       "    <tr>\n",
       "      <th>total_sales</th>\n",
       "      <td>1.000000</td>\n",
       "      <td>0.333579</td>\n",
       "      <td>-0.068925</td>\n",
       "    </tr>\n",
       "    <tr>\n",
       "      <th>critic_score</th>\n",
       "      <td>0.333579</td>\n",
       "      <td>1.000000</td>\n",
       "      <td>0.247230</td>\n",
       "    </tr>\n",
       "    <tr>\n",
       "      <th>user_score</th>\n",
       "      <td>-0.068925</td>\n",
       "      <td>0.247230</td>\n",
       "      <td>1.000000</td>\n",
       "    </tr>\n",
       "  </tbody>\n",
       "</table>\n",
       "</div>"
      ],
      "text/plain": [
       "              total_sales  critic_score  user_score\n",
       "total_sales      1.000000      0.333579   -0.068925\n",
       "critic_score     0.333579      1.000000    0.247230\n",
       "user_score      -0.068925      0.247230    1.000000"
      ]
     },
     "execution_count": 41,
     "metadata": {},
     "output_type": "execute_result"
    }
   ],
   "source": [
    "xone_plf.corr()"
   ]
  },
  {
   "cell_type": "markdown",
   "metadata": {},
   "source": [
    "#### X360"
   ]
  },
  {
   "cell_type": "code",
   "execution_count": 42,
   "metadata": {},
   "outputs": [
    {
     "data": {
      "text/html": [
       "<div>\n",
       "<style scoped>\n",
       "    .dataframe tbody tr th:only-of-type {\n",
       "        vertical-align: middle;\n",
       "    }\n",
       "\n",
       "    .dataframe tbody tr th {\n",
       "        vertical-align: top;\n",
       "    }\n",
       "\n",
       "    .dataframe thead th {\n",
       "        text-align: right;\n",
       "    }\n",
       "</style>\n",
       "<table border=\"1\" class=\"dataframe\">\n",
       "  <thead>\n",
       "    <tr style=\"text-align: right;\">\n",
       "      <th></th>\n",
       "      <th>total_sales</th>\n",
       "      <th>critic_score</th>\n",
       "      <th>user_score</th>\n",
       "    </tr>\n",
       "  </thead>\n",
       "  <tbody>\n",
       "    <tr>\n",
       "      <th>0</th>\n",
       "      <td>16.27</td>\n",
       "      <td>97.0</td>\n",
       "      <td>8.1</td>\n",
       "    </tr>\n",
       "    <tr>\n",
       "      <th>1</th>\n",
       "      <td>10.24</td>\n",
       "      <td>73.0</td>\n",
       "      <td>2.6</td>\n",
       "    </tr>\n",
       "    <tr>\n",
       "      <th>2</th>\n",
       "      <td>4.28</td>\n",
       "      <td>-1.0</td>\n",
       "      <td>4.9</td>\n",
       "    </tr>\n",
       "    <tr>\n",
       "      <th>3</th>\n",
       "      <td>4.22</td>\n",
       "      <td>84.0</td>\n",
       "      <td>4.2</td>\n",
       "    </tr>\n",
       "    <tr>\n",
       "      <th>4</th>\n",
       "      <td>3.49</td>\n",
       "      <td>79.0</td>\n",
       "      <td>5.6</td>\n",
       "    </tr>\n",
       "    <tr>\n",
       "      <th>...</th>\n",
       "      <td>...</td>\n",
       "      <td>...</td>\n",
       "      <td>...</td>\n",
       "    </tr>\n",
       "    <tr>\n",
       "      <th>138</th>\n",
       "      <td>0.02</td>\n",
       "      <td>-1.0</td>\n",
       "      <td>7.5</td>\n",
       "    </tr>\n",
       "    <tr>\n",
       "      <th>139</th>\n",
       "      <td>0.02</td>\n",
       "      <td>-1.0</td>\n",
       "      <td>6.8</td>\n",
       "    </tr>\n",
       "    <tr>\n",
       "      <th>140</th>\n",
       "      <td>0.01</td>\n",
       "      <td>-1.0</td>\n",
       "      <td>4.5</td>\n",
       "    </tr>\n",
       "    <tr>\n",
       "      <th>141</th>\n",
       "      <td>0.01</td>\n",
       "      <td>-1.0</td>\n",
       "      <td>6.2</td>\n",
       "    </tr>\n",
       "    <tr>\n",
       "      <th>142</th>\n",
       "      <td>0.01</td>\n",
       "      <td>-1.0</td>\n",
       "      <td>5.1</td>\n",
       "    </tr>\n",
       "  </tbody>\n",
       "</table>\n",
       "<p>143 rows × 3 columns</p>\n",
       "</div>"
      ],
      "text/plain": [
       "     total_sales  critic_score  user_score\n",
       "0          16.27          97.0         8.1\n",
       "1          10.24          73.0         2.6\n",
       "2           4.28          -1.0         4.9\n",
       "3           4.22          84.0         4.2\n",
       "4           3.49          79.0         5.6\n",
       "..           ...           ...         ...\n",
       "138         0.02          -1.0         7.5\n",
       "139         0.02          -1.0         6.8\n",
       "140         0.01          -1.0         4.5\n",
       "141         0.01          -1.0         6.2\n",
       "142         0.01          -1.0         5.1\n",
       "\n",
       "[143 rows x 3 columns]"
      ]
     },
     "execution_count": 42,
     "metadata": {},
     "output_type": "execute_result"
    }
   ],
   "source": [
    "x360_plf = prediction.query('platform == \"x360\"')[['total_sales', 'critic_score', 'user_score']].dropna().reset_index(drop=True)\n",
    "x360_plf"
   ]
  },
  {
   "cell_type": "code",
   "execution_count": 43,
   "metadata": {},
   "outputs": [
    {
     "data": {
      "text/html": [
       "<div>\n",
       "<style scoped>\n",
       "    .dataframe tbody tr th:only-of-type {\n",
       "        vertical-align: middle;\n",
       "    }\n",
       "\n",
       "    .dataframe tbody tr th {\n",
       "        vertical-align: top;\n",
       "    }\n",
       "\n",
       "    .dataframe thead th {\n",
       "        text-align: right;\n",
       "    }\n",
       "</style>\n",
       "<table border=\"1\" class=\"dataframe\">\n",
       "  <thead>\n",
       "    <tr style=\"text-align: right;\">\n",
       "      <th></th>\n",
       "      <th>total_sales</th>\n",
       "      <th>critic_score</th>\n",
       "      <th>user_score</th>\n",
       "    </tr>\n",
       "  </thead>\n",
       "  <tbody>\n",
       "    <tr>\n",
       "      <th>total_sales</th>\n",
       "      <td>1.000000</td>\n",
       "      <td>0.256209</td>\n",
       "      <td>-0.011742</td>\n",
       "    </tr>\n",
       "    <tr>\n",
       "      <th>critic_score</th>\n",
       "      <td>0.256209</td>\n",
       "      <td>1.000000</td>\n",
       "      <td>0.320265</td>\n",
       "    </tr>\n",
       "    <tr>\n",
       "      <th>user_score</th>\n",
       "      <td>-0.011742</td>\n",
       "      <td>0.320265</td>\n",
       "      <td>1.000000</td>\n",
       "    </tr>\n",
       "  </tbody>\n",
       "</table>\n",
       "</div>"
      ],
      "text/plain": [
       "              total_sales  critic_score  user_score\n",
       "total_sales      1.000000      0.256209   -0.011742\n",
       "critic_score     0.256209      1.000000    0.320265\n",
       "user_score      -0.011742      0.320265    1.000000"
      ]
     },
     "execution_count": 43,
     "metadata": {},
     "output_type": "execute_result"
    }
   ],
   "source": [
    "x360_plf.corr()  "
   ]
  },
  {
   "cell_type": "markdown",
   "metadata": {},
   "source": [
    "#### Wii"
   ]
  },
  {
   "cell_type": "code",
   "execution_count": 44,
   "metadata": {},
   "outputs": [
    {
     "data": {
      "text/html": [
       "<div>\n",
       "<style scoped>\n",
       "    .dataframe tbody tr th:only-of-type {\n",
       "        vertical-align: middle;\n",
       "    }\n",
       "\n",
       "    .dataframe tbody tr th {\n",
       "        vertical-align: top;\n",
       "    }\n",
       "\n",
       "    .dataframe thead th {\n",
       "        text-align: right;\n",
       "    }\n",
       "</style>\n",
       "<table border=\"1\" class=\"dataframe\">\n",
       "  <thead>\n",
       "    <tr style=\"text-align: right;\">\n",
       "      <th></th>\n",
       "      <th>total_sales</th>\n",
       "      <th>critic_score</th>\n",
       "      <th>user_score</th>\n",
       "    </tr>\n",
       "  </thead>\n",
       "  <tbody>\n",
       "    <tr>\n",
       "      <th>0</th>\n",
       "      <td>3.58</td>\n",
       "      <td>-1.0</td>\n",
       "      <td>6.2</td>\n",
       "    </tr>\n",
       "    <tr>\n",
       "      <th>1</th>\n",
       "      <td>2.15</td>\n",
       "      <td>-1.0</td>\n",
       "      <td>6.6</td>\n",
       "    </tr>\n",
       "    <tr>\n",
       "      <th>2</th>\n",
       "      <td>2.01</td>\n",
       "      <td>-1.0</td>\n",
       "      <td>8.4</td>\n",
       "    </tr>\n",
       "    <tr>\n",
       "      <th>3</th>\n",
       "      <td>1.60</td>\n",
       "      <td>-1.0</td>\n",
       "      <td>4.2</td>\n",
       "    </tr>\n",
       "    <tr>\n",
       "      <th>4</th>\n",
       "      <td>0.95</td>\n",
       "      <td>-1.0</td>\n",
       "      <td>NaN</td>\n",
       "    </tr>\n",
       "    <tr>\n",
       "      <th>5</th>\n",
       "      <td>0.95</td>\n",
       "      <td>-1.0</td>\n",
       "      <td>NaN</td>\n",
       "    </tr>\n",
       "    <tr>\n",
       "      <th>6</th>\n",
       "      <td>0.56</td>\n",
       "      <td>-1.0</td>\n",
       "      <td>4.3</td>\n",
       "    </tr>\n",
       "    <tr>\n",
       "      <th>7</th>\n",
       "      <td>0.38</td>\n",
       "      <td>-1.0</td>\n",
       "      <td>4.3</td>\n",
       "    </tr>\n",
       "    <tr>\n",
       "      <th>8</th>\n",
       "      <td>0.26</td>\n",
       "      <td>-1.0</td>\n",
       "      <td>2.8</td>\n",
       "    </tr>\n",
       "    <tr>\n",
       "      <th>9</th>\n",
       "      <td>0.23</td>\n",
       "      <td>-1.0</td>\n",
       "      <td>NaN</td>\n",
       "    </tr>\n",
       "    <tr>\n",
       "      <th>10</th>\n",
       "      <td>0.18</td>\n",
       "      <td>-1.0</td>\n",
       "      <td>NaN</td>\n",
       "    </tr>\n",
       "    <tr>\n",
       "      <th>11</th>\n",
       "      <td>0.18</td>\n",
       "      <td>-1.0</td>\n",
       "      <td>NaN</td>\n",
       "    </tr>\n",
       "    <tr>\n",
       "      <th>12</th>\n",
       "      <td>0.15</td>\n",
       "      <td>-1.0</td>\n",
       "      <td>NaN</td>\n",
       "    </tr>\n",
       "    <tr>\n",
       "      <th>13</th>\n",
       "      <td>0.14</td>\n",
       "      <td>-1.0</td>\n",
       "      <td>NaN</td>\n",
       "    </tr>\n",
       "    <tr>\n",
       "      <th>14</th>\n",
       "      <td>0.10</td>\n",
       "      <td>-1.0</td>\n",
       "      <td>NaN</td>\n",
       "    </tr>\n",
       "    <tr>\n",
       "      <th>15</th>\n",
       "      <td>0.06</td>\n",
       "      <td>-1.0</td>\n",
       "      <td>NaN</td>\n",
       "    </tr>\n",
       "    <tr>\n",
       "      <th>16</th>\n",
       "      <td>0.05</td>\n",
       "      <td>-1.0</td>\n",
       "      <td>NaN</td>\n",
       "    </tr>\n",
       "    <tr>\n",
       "      <th>17</th>\n",
       "      <td>0.04</td>\n",
       "      <td>-1.0</td>\n",
       "      <td>NaN</td>\n",
       "    </tr>\n",
       "    <tr>\n",
       "      <th>18</th>\n",
       "      <td>0.03</td>\n",
       "      <td>-1.0</td>\n",
       "      <td>NaN</td>\n",
       "    </tr>\n",
       "    <tr>\n",
       "      <th>19</th>\n",
       "      <td>0.03</td>\n",
       "      <td>-1.0</td>\n",
       "      <td>NaN</td>\n",
       "    </tr>\n",
       "    <tr>\n",
       "      <th>20</th>\n",
       "      <td>0.01</td>\n",
       "      <td>-1.0</td>\n",
       "      <td>NaN</td>\n",
       "    </tr>\n",
       "    <tr>\n",
       "      <th>21</th>\n",
       "      <td>0.01</td>\n",
       "      <td>-1.0</td>\n",
       "      <td>NaN</td>\n",
       "    </tr>\n",
       "    <tr>\n",
       "      <th>22</th>\n",
       "      <td>0.01</td>\n",
       "      <td>-1.0</td>\n",
       "      <td>NaN</td>\n",
       "    </tr>\n",
       "  </tbody>\n",
       "</table>\n",
       "</div>"
      ],
      "text/plain": [
       "    total_sales  critic_score  user_score\n",
       "0          3.58          -1.0         6.2\n",
       "1          2.15          -1.0         6.6\n",
       "2          2.01          -1.0         8.4\n",
       "3          1.60          -1.0         4.2\n",
       "4          0.95          -1.0         NaN\n",
       "5          0.95          -1.0         NaN\n",
       "6          0.56          -1.0         4.3\n",
       "7          0.38          -1.0         4.3\n",
       "8          0.26          -1.0         2.8\n",
       "9          0.23          -1.0         NaN\n",
       "10         0.18          -1.0         NaN\n",
       "11         0.18          -1.0         NaN\n",
       "12         0.15          -1.0         NaN\n",
       "13         0.14          -1.0         NaN\n",
       "14         0.10          -1.0         NaN\n",
       "15         0.06          -1.0         NaN\n",
       "16         0.05          -1.0         NaN\n",
       "17         0.04          -1.0         NaN\n",
       "18         0.03          -1.0         NaN\n",
       "19         0.03          -1.0         NaN\n",
       "20         0.01          -1.0         NaN\n",
       "21         0.01          -1.0         NaN\n",
       "22         0.01          -1.0         NaN"
      ]
     },
     "execution_count": 44,
     "metadata": {},
     "output_type": "execute_result"
    }
   ],
   "source": [
    "wii_plf = prediction.query('platform == \"wii\"')[['total_sales', 'critic_score', 'user_score']].reset_index(drop=True)\n",
    "wii_plf"
   ]
  },
  {
   "cell_type": "code",
   "execution_count": 45,
   "metadata": {},
   "outputs": [
    {
     "data": {
      "text/html": [
       "<div>\n",
       "<style scoped>\n",
       "    .dataframe tbody tr th:only-of-type {\n",
       "        vertical-align: middle;\n",
       "    }\n",
       "\n",
       "    .dataframe tbody tr th {\n",
       "        vertical-align: top;\n",
       "    }\n",
       "\n",
       "    .dataframe thead th {\n",
       "        text-align: right;\n",
       "    }\n",
       "</style>\n",
       "<table border=\"1\" class=\"dataframe\">\n",
       "  <thead>\n",
       "    <tr style=\"text-align: right;\">\n",
       "      <th></th>\n",
       "      <th>total_sales</th>\n",
       "      <th>critic_score</th>\n",
       "      <th>user_score</th>\n",
       "    </tr>\n",
       "  </thead>\n",
       "  <tbody>\n",
       "    <tr>\n",
       "      <th>total_sales</th>\n",
       "      <td>1.000000</td>\n",
       "      <td>NaN</td>\n",
       "      <td>0.682942</td>\n",
       "    </tr>\n",
       "    <tr>\n",
       "      <th>critic_score</th>\n",
       "      <td>NaN</td>\n",
       "      <td>NaN</td>\n",
       "      <td>NaN</td>\n",
       "    </tr>\n",
       "    <tr>\n",
       "      <th>user_score</th>\n",
       "      <td>0.682942</td>\n",
       "      <td>NaN</td>\n",
       "      <td>1.000000</td>\n",
       "    </tr>\n",
       "  </tbody>\n",
       "</table>\n",
       "</div>"
      ],
      "text/plain": [
       "              total_sales  critic_score  user_score\n",
       "total_sales      1.000000           NaN    0.682942\n",
       "critic_score          NaN           NaN         NaN\n",
       "user_score       0.682942           NaN    1.000000"
      ]
     },
     "execution_count": 45,
     "metadata": {},
     "output_type": "execute_result"
    }
   ],
   "source": [
    "wii_plf.corr()"
   ]
  },
  {
   "cell_type": "markdown",
   "metadata": {},
   "source": [
    "На примере других платформ подтверждается незначительная связь между продажами и оценками критиков и пользователей."
   ]
  },
  {
   "cell_type": "markdown",
   "metadata": {},
   "source": [
    "### Общее распределение игр по жанрам"
   ]
  },
  {
   "cell_type": "markdown",
   "metadata": {},
   "source": [
    "Что можно сказать о самых прибыльных жанрах? Выделяются ли жанры с высокими и низкими продажами?"
   ]
  },
  {
   "cell_type": "code",
   "execution_count": 46,
   "metadata": {},
   "outputs": [
    {
     "data": {
      "text/plain": [
       "genre\n",
       "action          766\n",
       "role-playing    292\n",
       "adventure       245\n",
       "sports          214\n",
       "shooter         187\n",
       "misc            155\n",
       "racing           85\n",
       "fighting         80\n",
       "platform         74\n",
       "simulation       62\n",
       "strategy         56\n",
       "puzzle           17\n",
       "Name: name, dtype: int64"
      ]
     },
     "execution_count": 46,
     "metadata": {},
     "output_type": "execute_result"
    }
   ],
   "source": [
    "genres = prediction.groupby('genre')['name'].count().sort_values(ascending=False)\n",
    "genres"
   ]
  },
  {
   "cell_type": "markdown",
   "metadata": {},
   "source": [
    "С 2013 г. больше всего было выпущено игр в жанре экшн, на втором месте — ролевые игры, а на третьем — приключения. В топ-5 также входят спорт и шутеры."
   ]
  },
  {
   "cell_type": "code",
   "execution_count": 47,
   "metadata": {},
   "outputs": [
    {
     "data": {
      "image/png": "[encoded data removed]",
      "text/plain": [
       "<Figure size 432x288 with 1 Axes>"
      ]
     },
     "metadata": {},
     "output_type": "display_data"
    }
   ],
   "source": [
    "#построим круговую диаграмму для наглядности\n",
    "vals = [2574, 1383, 1368, 1067, 1065, 833, 644, 638, 456, 423, 422, 399]\n",
    "\n",
    "labels = [\"Action\", \"Role-Playing\", \"Adventure\", \"Sports\", \"Shooter\", \"Misc\", \"Racing\", \"Fighting\", \"Platform\", \"Simulation\", \"Strategy\", \"Puzzle\"]\n",
    "\n",
    "fig, ax = plt.subplots()\n",
    "ax.pie(vals, labels=labels, autopct='%1.1f%%')\n",
    "ax.set_title('Количество игр по жанрам')\n",
    "ax.axis(\"equal\");"
   ]
  },
  {
   "cell_type": "code",
   "execution_count": 48,
   "metadata": {},
   "outputs": [
    {
     "data": {
      "text/plain": [
       "genre\n",
       "action          321.87\n",
       "shooter         232.98\n",
       "sports          150.65\n",
       "role-playing    145.89\n",
       "misc             62.82\n",
       "platform         42.63\n",
       "racing           39.89\n",
       "fighting         35.31\n",
       "adventure        23.64\n",
       "simulation       21.76\n",
       "strategy         10.08\n",
       "puzzle            3.17\n",
       "Name: total_sales, dtype: float64"
      ]
     },
     "execution_count": 48,
     "metadata": {},
     "output_type": "execute_result"
    }
   ],
   "source": [
    "genre_sales = prediction.groupby('genre')['total_sales'].sum().sort_values(ascending=False)\n",
    "genre_sales"
   ]
  },
  {
   "cell_type": "markdown",
   "metadata": {},
   "source": [
    "Если посмотреть на топ наиболее прибыльных жанров, то ситуация немного отличается. Ожидаемо лидером продаж являются экшн-игры, за ними следуют шутеры, а затем спорт, ролевые игры и аркады."
   ]
  },
  {
   "cell_type": "markdown",
   "metadata": {},
   "source": [
    "В целом можно сделать вывод, что наиболее продаваемыми и выпускаемыми жанрами являются экшн и шутеры. Стратегии и паззлы же демонстрируют низкие продажи и выпускаются значительно реже. Обратим внимание, что мы рассматривали данные за актуальный период (2013-2016 гг.) для того, чтобы сделать прогноз на 2017 г."
   ]
  },
  {
   "cell_type": "code",
   "execution_count": 50,
   "metadata": {},
   "outputs": [
    {
     "data": {
      "image/png": "[encoded data removed]",
      "text/plain": [
       "<Figure size 504x504 with 1 Axes>"
      ]
     },
     "metadata": {},
     "output_type": "display_data"
    }
   ],
   "source": [
    "\n",
    "games_by_genre = games.pivot_table(index='genre', values='name', aggfunc='count')  # создаем таблицу\n",
    "games_by_genre.columns = ['count']\n",
    "games_by_genre.plot(y='count', kind='pie', legend=False, figsize=(7, 7)) # визуализируем полученные данные\n",
    "plt.suptitle('Количество выпущенных игр по жанрам', size=14)\n",
    "plt.show()"
   ]
  },
  {
   "cell_type": "markdown",
   "metadata": {},
   "source": [
    "Здесь лидером является уже не экшен, который вообще скатился до 6 места, но жанр шутеров...  "
   ]
  },
  {
   "cell_type": "code",
   "execution_count": 51,
   "metadata": {},
   "outputs": [
    {
     "data": {
      "text/plain": [
       "genre\n",
       "shooter         0.450\n",
       "sports          0.240\n",
       "platform        0.225\n",
       "role-playing    0.125\n",
       "fighting        0.125\n",
       "racing          0.120\n",
       "action          0.110\n",
       "simulation      0.100\n",
       "misc            0.100\n",
       "strategy        0.080\n",
       "puzzle          0.060\n",
       "adventure       0.030\n",
       "Name: total_sales, dtype: float64"
      ]
     },
     "execution_count": 51,
     "metadata": {},
     "output_type": "execute_result"
    }
   ],
   "source": [
    "genre_sales = prediction.groupby('genre')['total_sales'].median().sort_values(ascending=False)\n",
    "genre_sales"
   ]
  },
  {
   "cell_type": "markdown",
   "metadata": {},
   "source": [
    "### Вывод"
   ]
  },
  {
   "cell_type": "markdown",
   "metadata": {},
   "source": [
    "* Итак, первые игры стали появляться в 80-х гг. В 1995-2010 гг. наблюдался рост релизов, сменившийся падением в связи с ростом популярности мобильных платформ. Характерный срок, за который появляются новые и исчезают старые платформы, составляет 11.4 лет, поэтому в качестве актуального периода для пострения прогноза на 2017 г. мы взяли 2005-2016 гг.\n",
    "\n",
    "* PS4, PS3, XOne, 3DS и X360 — платформы с наибольшими, а PSP и DS — с наименьшими суммарными продажами в период с 2013 г. по 2016 г. PS4 и XOne можно назвать потенциально прибыльными платформами.  Платформы X360 и Wii также заслуживают внимания в 2017 г.Продажи на популярных платформах схожи.\n",
    "\n",
    "* Зависимость продаж внутри платформы PS4 и отзывов критиков/пользователей прямопропорциональная, однако согласно корреляции Пирсона невелика. \n",
    "\n",
    "* С 2013 г. больше всего было выпущено игр в жанре экшн, на втором месте — ролевые игры, а на третьем — приключения. В топ-5 также входят шутеры и спорт. Если посмотреть на жанры с точки зрения прибыльности, то лидером продаж являются шутеры, т.к. медианное значений их глобальных продаж превышает аналогичный показатель у экшен-игр. Стратегии и паззлы же демонстрируют низкие продажи и выпускаются значительно реже."
   ]
  },
  {
   "cell_type": "markdown",
   "metadata": {},
   "source": [
    "## Региональный портрет пользователя"
   ]
  },
  {
   "cell_type": "markdown",
   "metadata": {},
   "source": [
    "Определим для пользователя каждого региона (NA, EU, JP): \n",
    "* самые популярные платформы (топ-5);\n",
    "* самые популярные жанры (топ-5);\n",
    "* влияние рейтинга ESRB на продажи в отдельных регионах."
   ]
  },
  {
   "cell_type": "markdown",
   "metadata": {},
   "source": [
    "### Топ-5 популярных игровых платформ"
   ]
  },
  {
   "cell_type": "markdown",
   "metadata": {},
   "source": [
    "#### Северная Америка"
   ]
  },
  {
   "cell_type": "code",
   "execution_count": 52,
   "metadata": {},
   "outputs": [],
   "source": [
    "na_plf= prediction.groupby(by='platform').agg({'na_sales':'sum'}).sort_values(by='na_sales', ascending=False).head(5)"
   ]
  },
  {
   "cell_type": "code",
   "execution_count": 53,
   "metadata": {},
   "outputs": [
    {
     "data": {
      "image/png": "[encoded data removed]",
      "text/plain": [
       "<Figure size 432x288 with 1 Axes>"
      ]
     },
     "metadata": {
      "needs_background": "light"
     },
     "output_type": "display_data"
    }
   ],
   "source": [
    "na_plf.plot(kind='bar', grid=True);\n",
    "plt.title(\"Топ-5 популярных игровых платформ в Северной Америке\");\n",
    "plt.xlabel(\"Платформа\");\n",
    "plt.ylabel(\"Продажи\");"
   ]
  },
  {
   "cell_type": "code",
   "execution_count": 54,
   "metadata": {},
   "outputs": [
    {
     "data": {
      "image/png": "[encoded data removed]",
      "text/plain": [
       "<Figure size 432x288 with 1 Axes>"
      ]
     },
     "metadata": {},
     "output_type": "display_data"
    }
   ],
   "source": [
    "#построим круговую диаграмму для наглядности\n",
    "labels = ['PS4', 'XOne', 'x360', 'PS3', '3DS']\n",
    "\n",
    "vals = [160, 87, 81, 62, 39 ]\n",
    "\n",
    "fig, ax = plt.subplots()\n",
    "ax.pie(vals, labels=labels, autopct='%1.1f%%')\n",
    "ax.set_title('Доли продаж в Северной Америке по платформам')\n",
    "ax.axis(\"equal\");"
   ]
  },
  {
   "cell_type": "markdown",
   "metadata": {},
   "source": [
    "#### Европа "
   ]
  },
  {
   "cell_type": "code",
   "execution_count": 55,
   "metadata": {},
   "outputs": [],
   "source": [
    "eu_plf= prediction.groupby(by='platform').agg({'eu_sales':'sum'}).sort_values(by='eu_sales', ascending=False).head(5)"
   ]
  },
  {
   "cell_type": "code",
   "execution_count": 56,
   "metadata": {},
   "outputs": [
    {
     "data": {
      "image/png": "[encoded data removed]",
      "text/plain": [
       "<Figure size 432x288 with 1 Axes>"
      ]
     },
     "metadata": {
      "needs_background": "light"
     },
     "output_type": "display_data"
    }
   ],
   "source": [
    "eu_plf.plot(kind='bar', grid=True);\n",
    "plt.title(\"Топ-5 популярных игровых платформ в Европе\");\n",
    "plt.xlabel(\"Платформа\");\n",
    "plt.ylabel(\"Продажи\");"
   ]
  },
  {
   "cell_type": "code",
   "execution_count": 57,
   "metadata": {},
   "outputs": [
    {
     "data": {
      "image/png": "[encoded data removed]",
      "text/plain": [
       "<Figure size 432x288 with 1 Axes>"
      ]
     },
     "metadata": {},
     "output_type": "display_data"
    }
   ],
   "source": [
    "#построим круговую диаграмму для наглядности\n",
    "labels = ['PS4', 'PS3','XOne', 'X360', '3DS']\n",
    "\n",
    "vals = [140, 65, 50, 41, 26 ]\n",
    "\n",
    "fig, ax = plt.subplots()\n",
    "ax.pie(vals, labels=labels, autopct='%1.1f%%')\n",
    "ax.set_title('Доли продаж в Европе по платформам')\n",
    "ax.axis(\"equal\");"
   ]
  },
  {
   "cell_type": "markdown",
   "metadata": {},
   "source": [
    "#### Япония"
   ]
  },
  {
   "cell_type": "code",
   "execution_count": 58,
   "metadata": {},
   "outputs": [],
   "source": [
    "jp_plf= prediction.groupby(by='platform').agg({'jp_sales':'sum'}).sort_values(by='jp_sales', ascending=False).head(5)"
   ]
  },
  {
   "cell_type": "code",
   "execution_count": 59,
   "metadata": {},
   "outputs": [
    {
     "data": {
      "image/png": "[encoded data removed]",
      "text/plain": [
       "<Figure size 432x288 with 1 Axes>"
      ]
     },
     "metadata": {
      "needs_background": "light"
     },
     "output_type": "display_data"
    }
   ],
   "source": [
    "jp_plf.plot(kind='bar',grid=True);\n",
    "plt.title(\"Топ-5 популярных игровых платформ в Японии\");\n",
    "plt.xlabel(\"Платформа\");\n",
    "plt.ylabel(\"Продажи\");"
   ]
  },
  {
   "cell_type": "code",
   "execution_count": 60,
   "metadata": {},
   "outputs": [
    {
     "data": {
      "image/png": "[encoded data removed]",
      "text/plain": [
       "<Figure size 432x288 with 1 Axes>"
      ]
     },
     "metadata": {},
     "output_type": "display_data"
    }
   ],
   "source": [
    "#построим круговую диаграмму для наглядности\n",
    "labels = ['3DS', 'PS3', 'PSV', 'PS4', 'WiiU']\n",
    "\n",
    "vals = [69, 23, 19, 15, 11 ]\n",
    "\n",
    "fig, ax = plt.subplots()\n",
    "ax.pie(vals, labels=labels, autopct='%1.1f%%')\n",
    "ax.set_title('Доли продаж в Японии по платформам')\n",
    "ax.axis(\"equal\");"
   ]
  },
  {
   "cell_type": "markdown",
   "metadata": {},
   "source": [
    "Согласно полученным гистограммам, во всех трех регионах разные лидеры среди платформ, в Северной Америке — PS4, в Европе — PS4, в Японии — 3DS. Игроки в этих регионах в целом предпочитают одни и те же платформы: X360, PS3, DS, но они популярны в разной степени."
   ]
  },
  {
   "cell_type": "markdown",
   "metadata": {},
   "source": [
    "### Топ-5 популярных жанров"
   ]
  },
  {
   "cell_type": "markdown",
   "metadata": {},
   "source": [
    "#### Северная Америка"
   ]
  },
  {
   "cell_type": "code",
   "execution_count": 62,
   "metadata": {},
   "outputs": [
    {
     "data": {
      "text/html": [
       "<div>\n",
       "<style scoped>\n",
       "    .dataframe tbody tr th:only-of-type {\n",
       "        vertical-align: middle;\n",
       "    }\n",
       "\n",
       "    .dataframe tbody tr th {\n",
       "        vertical-align: top;\n",
       "    }\n",
       "\n",
       "    .dataframe thead th {\n",
       "        text-align: right;\n",
       "    }\n",
       "</style>\n",
       "<table border=\"1\" class=\"dataframe\">\n",
       "  <thead>\n",
       "    <tr style=\"text-align: right;\">\n",
       "      <th></th>\n",
       "      <th>na_sales</th>\n",
       "    </tr>\n",
       "    <tr>\n",
       "      <th>genre</th>\n",
       "      <th></th>\n",
       "    </tr>\n",
       "  </thead>\n",
       "  <tbody>\n",
       "    <tr>\n",
       "      <th>shooter</th>\n",
       "      <td>0.200</td>\n",
       "    </tr>\n",
       "    <tr>\n",
       "      <th>platform</th>\n",
       "      <td>0.090</td>\n",
       "    </tr>\n",
       "    <tr>\n",
       "      <th>sports</th>\n",
       "      <td>0.080</td>\n",
       "    </tr>\n",
       "    <tr>\n",
       "      <th>fighting</th>\n",
       "      <td>0.045</td>\n",
       "    </tr>\n",
       "    <tr>\n",
       "      <th>racing</th>\n",
       "      <td>0.030</td>\n",
       "    </tr>\n",
       "  </tbody>\n",
       "</table>\n",
       "</div>"
      ],
      "text/plain": [
       "          na_sales\n",
       "genre             \n",
       "shooter      0.200\n",
       "platform     0.090\n",
       "sports       0.080\n",
       "fighting     0.045\n",
       "racing       0.030"
      ]
     },
     "execution_count": 62,
     "metadata": {},
     "output_type": "execute_result"
    }
   ],
   "source": [
    "na_genres_median = prediction.groupby(by='genre').agg({'na_sales':'median'}).sort_values(by='na_sales', ascending=False).head(5)\n",
    "na_genres_median"
   ]
  },
  {
   "cell_type": "code",
   "execution_count": 63,
   "metadata": {},
   "outputs": [
    {
     "data": {
      "image/png": "[encoded data removed]",
      "text/plain": [
       "<Figure size 432x288 with 1 Axes>"
      ]
     },
     "metadata": {
      "needs_background": "light"
     },
     "output_type": "display_data"
    }
   ],
   "source": [
    "na_genres_median.plot(kind='bar', grid=True);\n",
    "plt.title(\"Топ-5 популярных жанров игр Северной Америке\");\n",
    "plt.xlabel(\"Платформа\");\n",
    "plt.ylabel(\"Продажи\");"
   ]
  },
  {
   "cell_type": "markdown",
   "metadata": {},
   "source": [
    "#### Европа "
   ]
  },
  {
   "cell_type": "code",
   "execution_count": 65,
   "metadata": {},
   "outputs": [],
   "source": [
    "eu_genres = prediction.groupby(by='genre').agg({'eu_sales':'median'}).sort_values(by='eu_sales', ascending=False).head(5)"
   ]
  },
  {
   "cell_type": "code",
   "execution_count": 66,
   "metadata": {},
   "outputs": [
    {
     "data": {
      "image/png": "[encoded data removed]",
      "text/plain": [
       "<Figure size 432x288 with 1 Axes>"
      ]
     },
     "metadata": {
      "needs_background": "light"
     },
     "output_type": "display_data"
    }
   ],
   "source": [
    "eu_genres.plot(kind='bar', grid=True);\n",
    "plt.title(\"Топ-5 популярных жанров игр Европе\");\n",
    "plt.xlabel(\"Жанры\");\n",
    "plt.ylabel(\"Продажи\");"
   ]
  },
  {
   "cell_type": "markdown",
   "metadata": {},
   "source": [
    "#### Япония"
   ]
  },
  {
   "cell_type": "code",
   "execution_count": 68,
   "metadata": {},
   "outputs": [],
   "source": [
    "jp_genres = prediction.groupby(by='genre').agg({'jp_sales':'median'}).sort_values(by='jp_sales', ascending=False).head(5)"
   ]
  },
  {
   "cell_type": "code",
   "execution_count": 69,
   "metadata": {},
   "outputs": [
    {
     "data": {
      "image/png": "[encoded data removed]",
      "text/plain": [
       "<Figure size 432x288 with 1 Axes>"
      ]
     },
     "metadata": {
      "needs_background": "light"
     },
     "output_type": "display_data"
    }
   ],
   "source": [
    "jp_genres.plot(kind='bar', grid=True);\n",
    "plt.title(\"Топ-5 популярных жанров игр Японии\");\n",
    "plt.xlabel(\"Жанры\");\n",
    "plt.ylabel(\"Продажи\");"
   ]
  },
  {
   "cell_type": "markdown",
   "metadata": {},
   "source": [
    "В Северной Америке и Европе лидером среди игровых жанров стали шутеры, на втором месте оказались платформы. Причем для обоих регионов характерен значительный отрыв между 1 и 2 местом. В Японии же лидирует жанр Role-Playing. Что характерно, в обоих выборках топ-5 жанров отсутствуют экшен-игры."
   ]
  },
  {
   "cell_type": "markdown",
   "metadata": {},
   "source": [
    "### Влияние рейтинга ESRB на продажи в отдельном регионе"
   ]
  },
  {
   "cell_type": "markdown",
   "metadata": {},
   "source": [
    "Рейтинг ESRB определяет рейтинг компьютерных игр и присваивает им подходящую возрастную категорию. \n",
    "* «EC» («Early childhood») — «Для детей младшего возраста»\n",
    "* «E» («Everyone») — «Для всех»\n",
    "* «E10+» («Everyone 10 and older») — «Для всех от 10 лет и старше»\n",
    "* «T» («Teen») — «Подросткам»\n",
    "* «M» («Mature») — «Для взрослых»\n",
    "* «AO» («Adults Only 18+») — «Только для взрослых»\n",
    "* «RP» («Rating Pending») — «Рейтинг ожидается»\n",
    "* «RP 17+» («Rating Pending») — «Рейтинг ожидается - примерно 17+»\n",
    "\n",
    "Нужно отметить, что данный рейтинг был разработан для определения рейтингов для компьютерных видеоигр в США и Канаде, для Европы — это рейтинг PEGI, для Японии — CERO. Поэтому вероятно, что при работе с японским рынком нет смысла обращать внимание на американский рейтинг."
   ]
  },
  {
   "cell_type": "markdown",
   "metadata": {},
   "source": [
    "#### Северная Америка"
   ]
  },
  {
   "cell_type": "code",
   "execution_count": 70,
   "metadata": {},
   "outputs": [
    {
     "data": {
      "text/html": [
       "<div>\n",
       "<style scoped>\n",
       "    .dataframe tbody tr th:only-of-type {\n",
       "        vertical-align: middle;\n",
       "    }\n",
       "\n",
       "    .dataframe tbody tr th {\n",
       "        vertical-align: top;\n",
       "    }\n",
       "\n",
       "    .dataframe thead th {\n",
       "        text-align: right;\n",
       "    }\n",
       "</style>\n",
       "<table border=\"1\" class=\"dataframe\">\n",
       "  <thead>\n",
       "    <tr style=\"text-align: right;\">\n",
       "      <th></th>\n",
       "      <th>na_sales</th>\n",
       "    </tr>\n",
       "    <tr>\n",
       "      <th>rating</th>\n",
       "      <th></th>\n",
       "    </tr>\n",
       "  </thead>\n",
       "  <tbody>\n",
       "    <tr>\n",
       "      <th>m</th>\n",
       "      <td>0.447724</td>\n",
       "    </tr>\n",
       "    <tr>\n",
       "      <th>e</th>\n",
       "      <td>0.261755</td>\n",
       "    </tr>\n",
       "    <tr>\n",
       "      <th>e10+</th>\n",
       "      <td>0.215238</td>\n",
       "    </tr>\n",
       "    <tr>\n",
       "      <th>t</th>\n",
       "      <td>0.149520</td>\n",
       "    </tr>\n",
       "    <tr>\n",
       "      <th>-1</th>\n",
       "      <td>0.091525</td>\n",
       "    </tr>\n",
       "  </tbody>\n",
       "</table>\n",
       "</div>"
      ],
      "text/plain": [
       "        na_sales\n",
       "rating          \n",
       "m       0.447724\n",
       "e       0.261755\n",
       "e10+    0.215238\n",
       "t       0.149520\n",
       "-1      0.091525"
      ]
     },
     "execution_count": 70,
     "metadata": {},
     "output_type": "execute_result"
    }
   ],
   "source": [
    "esrb_na = prediction.pivot_table(index='rating', values='na_sales').sort_values(by = 'na_sales', ascending=False)\n",
    "esrb_na"
   ]
  },
  {
   "cell_type": "markdown",
   "metadata": {},
   "source": [
    "К наиболее часто присваемым возростным категориям в Северной Америке относятся категории «Только для взрослых», «Для взрослых» и «Для всех». "
   ]
  },
  {
   "cell_type": "markdown",
   "metadata": {},
   "source": [
    "#### Европа"
   ]
  },
  {
   "cell_type": "code",
   "execution_count": 71,
   "metadata": {},
   "outputs": [
    {
     "data": {
      "text/html": [
       "<div>\n",
       "<style scoped>\n",
       "    .dataframe tbody tr th:only-of-type {\n",
       "        vertical-align: middle;\n",
       "    }\n",
       "\n",
       "    .dataframe tbody tr th {\n",
       "        vertical-align: top;\n",
       "    }\n",
       "\n",
       "    .dataframe thead th {\n",
       "        text-align: right;\n",
       "    }\n",
       "</style>\n",
       "<table border=\"1\" class=\"dataframe\">\n",
       "  <thead>\n",
       "    <tr style=\"text-align: right;\">\n",
       "      <th></th>\n",
       "      <th>eu_sales</th>\n",
       "    </tr>\n",
       "    <tr>\n",
       "      <th>rating</th>\n",
       "      <th></th>\n",
       "    </tr>\n",
       "  </thead>\n",
       "  <tbody>\n",
       "    <tr>\n",
       "      <th>m</th>\n",
       "      <td>0.393821</td>\n",
       "    </tr>\n",
       "    <tr>\n",
       "      <th>e</th>\n",
       "      <td>0.276026</td>\n",
       "    </tr>\n",
       "    <tr>\n",
       "      <th>e10+</th>\n",
       "      <td>0.169405</td>\n",
       "    </tr>\n",
       "    <tr>\n",
       "      <th>t</th>\n",
       "      <td>0.125976</td>\n",
       "    </tr>\n",
       "    <tr>\n",
       "      <th>-1</th>\n",
       "      <td>0.080768</td>\n",
       "    </tr>\n",
       "  </tbody>\n",
       "</table>\n",
       "</div>"
      ],
      "text/plain": [
       "        eu_sales\n",
       "rating          \n",
       "m       0.393821\n",
       "e       0.276026\n",
       "e10+    0.169405\n",
       "t       0.125976\n",
       "-1      0.080768"
      ]
     },
     "execution_count": 71,
     "metadata": {},
     "output_type": "execute_result"
    }
   ],
   "source": [
    "esrb_eu = prediction.pivot_table(index='rating', values='eu_sales').sort_values(by = 'eu_sales', ascending=False)\n",
    "esrb_eu"
   ]
  },
  {
   "cell_type": "markdown",
   "metadata": {},
   "source": [
    "Аналогичная ситуация наблюдается и в Европе."
   ]
  },
  {
   "cell_type": "markdown",
   "metadata": {},
   "source": [
    "#### Япония"
   ]
  },
  {
   "cell_type": "code",
   "execution_count": 72,
   "metadata": {},
   "outputs": [
    {
     "data": {
      "text/html": [
       "<div>\n",
       "<style scoped>\n",
       "    .dataframe tbody tr th:only-of-type {\n",
       "        vertical-align: middle;\n",
       "    }\n",
       "\n",
       "    .dataframe tbody tr th {\n",
       "        vertical-align: top;\n",
       "    }\n",
       "\n",
       "    .dataframe thead th {\n",
       "        text-align: right;\n",
       "    }\n",
       "</style>\n",
       "<table border=\"1\" class=\"dataframe\">\n",
       "  <thead>\n",
       "    <tr style=\"text-align: right;\">\n",
       "      <th></th>\n",
       "      <th>jp_sales</th>\n",
       "    </tr>\n",
       "    <tr>\n",
       "      <th>rating</th>\n",
       "      <th></th>\n",
       "    </tr>\n",
       "  </thead>\n",
       "  <tbody>\n",
       "    <tr>\n",
       "      <th>-1</th>\n",
       "      <td>0.087052</td>\n",
       "    </tr>\n",
       "    <tr>\n",
       "      <th>t</th>\n",
       "      <td>0.061832</td>\n",
       "    </tr>\n",
       "    <tr>\n",
       "      <th>e</th>\n",
       "      <td>0.050132</td>\n",
       "    </tr>\n",
       "    <tr>\n",
       "      <th>m</th>\n",
       "      <td>0.038238</td>\n",
       "    </tr>\n",
       "    <tr>\n",
       "      <th>e10+</th>\n",
       "      <td>0.023373</td>\n",
       "    </tr>\n",
       "  </tbody>\n",
       "</table>\n",
       "</div>"
      ],
      "text/plain": [
       "        jp_sales\n",
       "rating          \n",
       "-1      0.087052\n",
       "t       0.061832\n",
       "e       0.050132\n",
       "m       0.038238\n",
       "e10+    0.023373"
      ]
     },
     "execution_count": 72,
     "metadata": {},
     "output_type": "execute_result"
    }
   ],
   "source": [
    "esrb_jp = prediction.pivot_table(index='rating', values='jp_sales').sort_values(by = 'jp_sales', ascending=False)\n",
    "esrb_jp"
   ]
  },
  {
   "cell_type": "markdown",
   "metadata": {},
   "source": [
    "В Японии же ситуация немного иная и в первую тройку лидеров вошли следующие категории: «Для всех», «Подросткам» и для «Для взрослых». "
   ]
  },
  {
   "cell_type": "markdown",
   "metadata": {},
   "source": [
    "В Северной Америке и Европе похожии ситуации, там в первую очередь популярны игры с возрастным рейтингом 18+, т.е. эти рынки ориентированы на взрослых пользователей.\n",
    "В Японии лидируют игры с возрастным рейтингом 13+, т.е. компании хотят распространить свое влияние на новое поколение. Однако нужно быть аккуратным с японским рынком, т.к. скорее всего авторы игр не интересуются рейтингом ESRB, рассчитанным на аудиторию другого региона."
   ]
  },
  {
   "cell_type": "markdown",
   "metadata": {},
   "source": [
    "### Вывод"
   ]
  },
  {
   "cell_type": "markdown",
   "metadata": {},
   "source": [
    "Теперь мы можем составить региональный портрет игрока: \n",
    "* Северная Америка: игрок 18+ лет, предпочитающие играть в шутеры на PS4;\n",
    "* Европа: игрок 18+ лет, предпочитающие играть в шутеры на PS4;\n",
    "* Япония: игрок 13+, предпочитающий играть в ролевые игры на 3DS. \n",
    "\n",
    "В дальнейшем следует обращаться к рейтингам игр, соответствующим рассматриваемым региональным рынкам."
   ]
  },
  {
   "cell_type": "markdown",
   "metadata": {},
   "source": [
    "## Проверка гипотез"
   ]
  },
  {
   "cell_type": "markdown",
   "metadata": {},
   "source": [
    "Сформулируем нулевую и альтернативную гипотезы для следующих утверждений:\n",
    "* Средние пользовательские рейтинги платформ Xbox One и PC одинаковые;\n",
    "* Средние пользовательские рейтинги жанров Action (англ. «действие», экшен-игры) и Sports (англ. «спортивные соревнования») разные."
   ]
  },
  {
   "cell_type": "markdown",
   "metadata": {},
   "source": [
    "### Гипотеза № 1 "
   ]
  },
  {
   "cell_type": "markdown",
   "metadata": {},
   "source": [
    "Возьмем утверждение \"Средние пользовательские рейтинги платформ Xbox One и PC одинаковые\" в качестве нулевой гипотезы и сформулируем альтернативную:\n",
    "\n",
    "* H_0: средние пользовательские рейтинги платформ Xbox One и PC одинаковые\n",
    "* H_а: средний пользовательские рейтинги платформ Xbox One и PC различаются\n",
    "\n",
    "Обратимся к специальному методу для проверки гипотезы о равенстве среднего двух генеральных совокупностей по взятым из них выборкам: 'scipy.stats.ttest_ind'.\n",
    "Поскольку данные выборки независимы между собой, мы будем использовать t-критерий Стьюдента."
   ]
  },
  {
   "cell_type": "code",
   "execution_count": 73,
   "metadata": {},
   "outputs": [
    {
     "data": {
      "text/html": [
       "<div>\n",
       "<style scoped>\n",
       "    .dataframe tbody tr th:only-of-type {\n",
       "        vertical-align: middle;\n",
       "    }\n",
       "\n",
       "    .dataframe tbody tr th {\n",
       "        vertical-align: top;\n",
       "    }\n",
       "\n",
       "    .dataframe thead th {\n",
       "        text-align: right;\n",
       "    }\n",
       "</style>\n",
       "<table border=\"1\" class=\"dataframe\">\n",
       "  <thead>\n",
       "    <tr style=\"text-align: right;\">\n",
       "      <th></th>\n",
       "      <th>user_score</th>\n",
       "    </tr>\n",
       "    <tr>\n",
       "      <th>platform</th>\n",
       "      <th></th>\n",
       "    </tr>\n",
       "  </thead>\n",
       "  <tbody>\n",
       "    <tr>\n",
       "      <th>pc</th>\n",
       "      <td>6.269677</td>\n",
       "    </tr>\n",
       "    <tr>\n",
       "      <th>xone</th>\n",
       "      <td>6.521429</td>\n",
       "    </tr>\n",
       "  </tbody>\n",
       "</table>\n",
       "</div>"
      ],
      "text/plain": [
       "          user_score\n",
       "platform            \n",
       "pc          6.269677\n",
       "xone        6.521429"
      ]
     },
     "execution_count": 73,
     "metadata": {},
     "output_type": "execute_result"
    }
   ],
   "source": [
    "#посмотрим на средние оценки пользователей платформ Xbox One и PC\n",
    "hypothesise_1 = prediction.query('platform == \"xone\" or platform == \"pc\"')\n",
    "hypothesise_1.pivot_table(index='platform', values='user_score', aggfunc='mean')"
   ]
  },
  {
   "cell_type": "markdown",
   "metadata": {},
   "source": [
    "Средние пользовательские рейтинги платформ Xbox One и PC в целом одинаковые."
   ]
  },
  {
   "cell_type": "code",
   "execution_count": 74,
   "metadata": {},
   "outputs": [
    {
     "data": {
      "text/plain": [
       "year_of_release     0.951064\n",
       "na_sales            0.629341\n",
       "eu_sales            0.364566\n",
       "jp_sales            0.005142\n",
       "other_sales         0.094030\n",
       "critic_score       36.162630\n",
       "user_score          1.377142\n",
       "total_sales         1.034039\n",
       "dtype: float64"
      ]
     },
     "execution_count": 74,
     "metadata": {},
     "output_type": "execute_result"
    }
   ],
   "source": [
    "#посмотрим стандартное отклонение для средних оценок пользователей платформ Xbox One \n",
    "std_xone = prediction.query('platform == \"xone\"')\n",
    "std_xone = np.std(std_xone)  \n",
    "std_xone"
   ]
  },
  {
   "cell_type": "code",
   "execution_count": 75,
   "metadata": {},
   "outputs": [
    {
     "data": {
      "text/plain": [
       "year_of_release     1.097880\n",
       "na_sales            0.127467\n",
       "eu_sales            0.211460\n",
       "jp_sales            0.000000\n",
       "other_sales         0.030118\n",
       "critic_score       32.622172\n",
       "user_score          1.736752\n",
       "total_sales         0.351371\n",
       "dtype: float64"
      ]
     },
     "execution_count": 75,
     "metadata": {},
     "output_type": "execute_result"
    }
   ],
   "source": [
    "#посмотрим стандартное отклонение для средних оценок пользователей платформ PC\n",
    "std_pc = prediction.query('platform == \"pc\"')\n",
    "std_pc = np.std(std_pc)  \n",
    "std_pc"
   ]
  },
  {
   "cell_type": "markdown",
   "metadata": {},
   "source": [
    "Стандартное отклонение для средних оценок пользователей платформ Xbox One равно 1.377, для PC — 1.736."
   ]
  },
  {
   "cell_type": "code",
   "execution_count": 76,
   "metadata": {},
   "outputs": [
    {
     "name": "stdout",
     "output_type": "stream",
     "text": [
      "Дисперсия Xbox One = 1.8965188383045526\n"
     ]
    }
   ],
   "source": [
    "#посмотрим на дисперсии, чтобы определиться с параметром equal_var\n",
    "xone = prediction[prediction['platform'] == 'xone']['user_score']\n",
    "print('Дисперсия Xbox One =', np.var(xone))"
   ]
  },
  {
   "cell_type": "code",
   "execution_count": 77,
   "metadata": {},
   "outputs": [
    {
     "name": "stdout",
     "output_type": "stream",
     "text": [
      "Дисперсия PC = 3.01630634755463\n"
     ]
    }
   ],
   "source": [
    "pc = prediction[prediction['platform'] == 'pc']['user_score']\n",
    "print('Дисперсия PC =', np.var(pc))"
   ]
  },
  {
   "cell_type": "markdown",
   "metadata": {},
   "source": [
    "Т.к. значения дисперсий отличаются, то возьмем equal_var=False.\n",
    "\n",
    "Проверим рассчитанное стандартное отклонение путем извлечения корня из дисперсии. Он должен быть равен стандартному отклонению."
   ]
  },
  {
   "cell_type": "code",
   "execution_count": 78,
   "metadata": {},
   "outputs": [
    {
     "name": "stdout",
     "output_type": "stream",
     "text": [
      "1.3769531582446803\n"
     ]
    }
   ],
   "source": [
    "#для Xbox One \n",
    "variance = 1.896\n",
    "standard_deviation = np.sqrt(variance)\n",
    "print(standard_deviation) "
   ]
  },
  {
   "cell_type": "code",
   "execution_count": 79,
   "metadata": {},
   "outputs": [
    {
     "name": "stdout",
     "output_type": "stream",
     "text": [
      "1.7366634676873929\n"
     ]
    }
   ],
   "source": [
    "#для PC \n",
    "variance2 = 3.016\n",
    "standard_deviation2 = np.sqrt(variance2)\n",
    "print(standard_deviation2) "
   ]
  },
  {
   "cell_type": "markdown",
   "metadata": {},
   "source": [
    "Теперь перейдем к проверке гипотез."
   ]
  },
  {
   "cell_type": "code",
   "execution_count": 80,
   "metadata": {},
   "outputs": [
    {
     "name": "stdout",
     "output_type": "stream",
     "text": [
      "p-значение: 0.1475959401343032\n",
      "Не получилось отвергнуть нулевую гипотезу\n"
     ]
    }
   ],
   "source": [
    "alpha = 0.05\n",
    "\n",
    "results = st.ttest_ind(xone, pc, equal_var=False, nan_policy = 'omit')\n",
    "\n",
    "\n",
    "print('p-значение:', results.pvalue)\n",
    "\n",
    "if (results.pvalue < alpha):\n",
    "    print(\"Отвергаем нулевую гипотезу\")\n",
    "else:\n",
    "    print(\"Не получилось отвергнуть нулевую гипотезу\")"
   ]
  },
  {
   "cell_type": "markdown",
   "metadata": {},
   "source": [
    "Мы подтвердили гипотезу о том, что средние пользовательские рейтинги платформ Xbox One и PC одинаковые. "
   ]
  },
  {
   "cell_type": "markdown",
   "metadata": {},
   "source": [
    "### Гипотеза № 2"
   ]
  },
  {
   "cell_type": "markdown",
   "metadata": {},
   "source": [
    "Возьмем утверждение \"Средние пользовательские рейтинги жанров Action и Sports разные\" в качестве нулевой гипотезы и сформулируем альтернативную:\n",
    "\n",
    "* H_0: средние пользовательские рейтинги жанров Action и Sports одинаковые\n",
    "* H_a: средние пользовательские рейтинги жанров Action и Sports разные"
   ]
  },
  {
   "cell_type": "code",
   "execution_count": 81,
   "metadata": {},
   "outputs": [
    {
     "data": {
      "text/html": [
       "<div>\n",
       "<style scoped>\n",
       "    .dataframe tbody tr th:only-of-type {\n",
       "        vertical-align: middle;\n",
       "    }\n",
       "\n",
       "    .dataframe tbody tr th {\n",
       "        vertical-align: top;\n",
       "    }\n",
       "\n",
       "    .dataframe thead th {\n",
       "        text-align: right;\n",
       "    }\n",
       "</style>\n",
       "<table border=\"1\" class=\"dataframe\">\n",
       "  <thead>\n",
       "    <tr style=\"text-align: right;\">\n",
       "      <th></th>\n",
       "      <th>user_score</th>\n",
       "    </tr>\n",
       "    <tr>\n",
       "      <th>genre</th>\n",
       "      <th></th>\n",
       "    </tr>\n",
       "  </thead>\n",
       "  <tbody>\n",
       "    <tr>\n",
       "      <th>action</th>\n",
       "      <td>6.837532</td>\n",
       "    </tr>\n",
       "    <tr>\n",
       "      <th>sports</th>\n",
       "      <td>5.238125</td>\n",
       "    </tr>\n",
       "  </tbody>\n",
       "</table>\n",
       "</div>"
      ],
      "text/plain": [
       "        user_score\n",
       "genre             \n",
       "action    6.837532\n",
       "sports    5.238125"
      ]
     },
     "execution_count": 81,
     "metadata": {},
     "output_type": "execute_result"
    }
   ],
   "source": [
    "#посмотрим на средние оценки пользователей жанров Action и Sports \n",
    "hypothesise_1 = prediction.query('genre == \"action\" or genre == \"sports\"')\n",
    "hypothesise_1.pivot_table(index='genre', values='user_score', aggfunc='mean')"
   ]
  },
  {
   "cell_type": "markdown",
   "metadata": {},
   "source": [
    "Средние пользовательские рейтинги жанров Action и Sports отличаются. "
   ]
  },
  {
   "cell_type": "code",
   "execution_count": 82,
   "metadata": {},
   "outputs": [
    {
     "data": {
      "text/plain": [
       "year_of_release     1.043038\n",
       "na_sales            0.542447\n",
       "eu_sales            0.516112\n",
       "jp_sales            0.168088\n",
       "other_sales         0.191191\n",
       "critic_score       36.418171\n",
       "user_score          1.328462\n",
       "total_sales         1.253091\n",
       "dtype: float64"
      ]
     },
     "execution_count": 82,
     "metadata": {},
     "output_type": "execute_result"
    }
   ],
   "source": [
    "#посмотрим стандартное отклонение для средних оценок пользователей платформ Action\n",
    "std_action = prediction.query('genre == \"action\"')\n",
    "std_action = np.std(std_action)  \n",
    "std_action"
   ]
  },
  {
   "cell_type": "code",
   "execution_count": 83,
   "metadata": {},
   "outputs": [
    {
     "name": "stdout",
     "output_type": "stream",
     "text": [
      "Дисперсия жанра \"экшен\" = 1.7648124186332366\n"
     ]
    }
   ],
   "source": [
    "#посмотрим на дисперсии, чтобы определиться с параметром equal_var\n",
    "action = prediction[(prediction['genre'] == 'action') & (prediction['user_score'] > 0)]['user_score']\n",
    "print('Дисперсия жанра \"экшен\" =', np.var(action))"
   ]
  },
  {
   "cell_type": "code",
   "execution_count": 84,
   "metadata": {},
   "outputs": [
    {
     "name": "stdout",
     "output_type": "stream",
     "text": [
      "1.3281566172707193\n"
     ]
    }
   ],
   "source": [
    "#для Action \n",
    "variance = 1.764\n",
    "standard_deviation3 = np.sqrt(variance)\n",
    "print(standard_deviation3) "
   ]
  },
  {
   "cell_type": "code",
   "execution_count": 85,
   "metadata": {},
   "outputs": [
    {
     "data": {
      "text/plain": [
       "year_of_release     1.092419\n",
       "na_sales            0.488833\n",
       "eu_sales            0.797976\n",
       "jp_sales            0.053987\n",
       "other_sales         0.188011\n",
       "critic_score       38.149842\n",
       "user_score          1.777845\n",
       "total_sales         1.216385\n",
       "dtype: float64"
      ]
     },
     "execution_count": 85,
     "metadata": {},
     "output_type": "execute_result"
    }
   ],
   "source": [
    "#посмотрим стандартное отклонение для средних оценок пользователей платформ Action\n",
    "std_sports = prediction.query('genre == \"sports\"')\n",
    "std_sports = np.std(std_sports)  \n",
    "std_sports"
   ]
  },
  {
   "cell_type": "code",
   "execution_count": 86,
   "metadata": {},
   "outputs": [
    {
     "name": "stdout",
     "output_type": "stream",
     "text": [
      "Дисперсия жанра \"спорт\" = 3.160733984375\n"
     ]
    }
   ],
   "source": [
    "sports = prediction[(prediction['genre'] == 'sports') & (prediction['user_score'] > 0)]['user_score']\n",
    "print('Дисперсия жанра \"спорт\" =', np.var(sports))"
   ]
  },
  {
   "cell_type": "code",
   "execution_count": 87,
   "metadata": {},
   "outputs": [
    {
     "name": "stdout",
     "output_type": "stream",
     "text": [
      "1.7776388834631178\n"
     ]
    }
   ],
   "source": [
    "#для Sports  \n",
    "variance = 3.16\n",
    "standard_deviation4 = np.sqrt(variance)\n",
    "print(standard_deviation4) "
   ]
  },
  {
   "cell_type": "markdown",
   "metadata": {},
   "source": [
    "Корень из дисперсии равен стандартному отклонению. Т.к. значения дисперсий отличаются, то возьмем equal_var=False."
   ]
  },
  {
   "cell_type": "code",
   "execution_count": 88,
   "metadata": {},
   "outputs": [
    {
     "name": "stdout",
     "output_type": "stream",
     "text": [
      "p-значение: 1.0517832389140023e-27\n",
      "Отвергаем нулевую гипотезу\n"
     ]
    }
   ],
   "source": [
    "alpha = 0.05\n",
    "\n",
    "results = st.ttest_ind(action, sports, equal_var=True, nan_policy = 'omit')\n",
    "\n",
    "print('p-значение:', results.pvalue)\n",
    "\n",
    "\n",
    "if (results.pvalue < alpha):\n",
    "    print(\"Отвергаем нулевую гипотезу\")\n",
    "else:\n",
    "    print(\"Не получилось отвергнуть нулевую гипотезу\")"
   ]
  },
  {
   "cell_type": "markdown",
   "metadata": {},
   "source": [
    "Согласно результатам проверки гипотезы №2, средние пользовательские рейтинги жанров Action и Sports разные, как и предполагалось изначально."
   ]
  },
  {
   "cell_type": "markdown",
   "metadata": {},
   "source": [
    "## Вывод"
   ]
  },
  {
   "cell_type": "markdown",
   "metadata": {},
   "source": [
    "Итак, в ходе данного исследования мы выполнили несколько шагов. \n",
    "\n",
    "После знакомства с данными мы сделали их предобработку, включающую в себя приведение названия и содержимого столбцов к нижнему регистру, поработали с пропусками и значением 'tbd' в столбце с оценкой пользователей. Мы использовали \"заглушки\" для пропусков в столбцах 'critic_score', 'user_score', 'rating', поскольку, с одной стороны, нельзя удалять такое значительное количество пропусков, с другой стороны, не хочется искажать данные. Были посчитаны суммарные продажи во всех регионах и записаны в отдельный столбец.\n",
    "\n",
    "Затем был проведен исследовательский анализ данных, в ходе которого мы обращались к различным видам визуализации (гистограммы, матрица диаграммы рассеяния, ящик с усами, круговая диаграмма). Нами были сделаны следующие выводы. \n",
    "\n",
    "Первые игры стали появляться в 80-х гг. В 1995-2010 гг. наблюдался рост релизов, сменившийся падением в связи с ростом популярности мобильных платформ. Характерный срок, за который появляются новые и исчезают старые платформы составляет **11.4 лет**. Однако рассматриваемая нами сфера динамична, поэтому в качестве актуального периода для пострения прогноза на 2017 г. мы взяли **2013-2016 гг.** \n",
    "\n",
    "Было выявлено, что в 2013-2016 гг. **PS4, PS3, XOne, 3DS и X360** — платформы с наибольшими суммарными продажами. **PS4 и XOne** можно назвать потенциально прибыльными платформами.  Платформы **X360 и Wii** также заслуживают внимания в 2017 г., т.к. цикл их развития только начался. **PSP и DS** — с наименьшими суммарными продажами. Продажи на популярных платформах схожи. \n",
    "\n",
    "Мы определили, что **зависимость продаж внутри платформы PS4 и отзывов критиков/пользователей** прямопропорциональная, согласно матрице диаграм рассеяния, однако согласно корреляции Пирсона зависимость от отзывов критиков незначительна и прямопропорциональная, а от отзывов игроков — обратно пропорциональная. Возможно, что разница в показателях говорит о том, что покупатель охотнее прислушается к мнению критика как эксперта, чем к отзывам других игроков. В целом то, что чем выша оценка, тем выше продажи, кажется логичным, т.к. хорошие продажи гарантированы хорошим играм, однако низкая корреляция между отзывами может говорить о том, что при покупке обращают не столько на отзывы, сколько на другие факторы. Это характерно и для ряда других популярных платформ (XOne, X360, Wii).\n",
    "\n",
    "С 2013 г. больше всего было выпущено игр в жанре экшн, на втором месте — ролевые игры, а на третьем — приключения. В топ-5 также входят шутеры и спорт. Если посмотреть на жанры с точки зрения прибыльности, то лидером продаж являются шутеры, т.к. медианное значений их глобальных продаж превышает аналогичный показатель у экшен-игр. Стратегии и паззлы же демонстрируют низкие продажи и выпускаются значительно реже.\n",
    "\n",
    "Мы составили портреты пользователя Северной Америки, Европы и Японии. Они похожи для СА и Европы: это игрок 18+ лет, предпочитающие играть в шутеры на PS4. В Японии — это игрок 13+, предпочитающий играть в ролевые игры на 3DS. Однако в дальнейшем следует обращаться к рейтингам игр, соответствующим рассматриваемым региональным рынкам. Однако следует обратить внимание, что есть данные только по рейтингу игр для региона СА и, возможно, Европы, т.к. рынки похожи. Вероятно, что рейтинг для Японии не применим. \n",
    "\n",
    "В конце мы проверили гипотезы с помощью статистических методов. Мы подтвердили гипотезу №1 о том, что средние пользовательские рейтинги платформ Xbox One и PC одинаковые. Согласно результатам проверки гипотезы №2, средние пользовательские рейтинги жанров Action и Sports разные, как и предполагалось изначально.\n",
    "\n",
    "Итак, потенциально успешный продукт должен обладать рядом характеристик:\n",
    "\n",
    "* Игра должна быть разработана для платформ PS4, если речь идет о западном рынке, и — для платформы 3DS, если игру планируется продавать в Японии.\n",
    "* Жанр: Shooter для Запада, Role-Playing — для Японии.\n",
    "* Рейтинг ESRB: либо от 18 лет для Запада. Для Японии лучш обратиться к локальному рейтингу CERO. \n",
    "* Ориентироваться на оценки критиков или пользователей не стоит, т.к. на продажи это не оказывает существенного влияния."
   ]
  }
 ],
 "metadata": {
  "ExecuteTimeLog": [
   {
    "duration": 1386,
    "start_time": "2022-08-23T19:17:40.175Z"
   },
   {
    "duration": 219,
    "start_time": "2022-08-23T19:17:41.564Z"
   },
   {
    "duration": 29,
    "start_time": "2022-08-23T19:19:13.553Z"
   },
   {
    "duration": 16,
    "start_time": "2022-08-23T19:19:19.437Z"
   },
   {
    "duration": 18,
    "start_time": "2022-08-23T19:19:23.808Z"
   },
   {
    "duration": 20,
    "start_time": "2022-08-23T19:19:31.322Z"
   },
   {
    "duration": 17,
    "start_time": "2022-08-23T19:19:39.962Z"
   },
   {
    "duration": 26,
    "start_time": "2022-08-23T19:20:51.997Z"
   },
   {
    "duration": 1454,
    "start_time": "2022-08-23T19:25:29.569Z"
   },
   {
    "duration": 11,
    "start_time": "2022-08-23T19:26:05.167Z"
   },
   {
    "duration": 4,
    "start_time": "2022-08-23T19:26:28.186Z"
   },
   {
    "duration": 28,
    "start_time": "2022-08-23T19:26:37.290Z"
   },
   {
    "duration": 15,
    "start_time": "2022-08-23T19:32:53.590Z"
   },
   {
    "duration": 9,
    "start_time": "2022-08-23T19:34:34.496Z"
   },
   {
    "duration": 24,
    "start_time": "2022-08-23T19:34:42.783Z"
   },
   {
    "duration": 27,
    "start_time": "2022-08-23T19:34:51.714Z"
   },
   {
    "duration": 24,
    "start_time": "2022-08-23T19:42:39.763Z"
   },
   {
    "duration": 30,
    "start_time": "2022-08-23T19:42:46.541Z"
   },
   {
    "duration": 14,
    "start_time": "2022-08-23T19:42:53.594Z"
   },
   {
    "duration": 15,
    "start_time": "2022-08-23T19:44:06.370Z"
   },
   {
    "duration": 14,
    "start_time": "2022-08-23T19:44:11.070Z"
   },
   {
    "duration": 17,
    "start_time": "2022-08-23T19:44:17.116Z"
   },
   {
    "duration": 3,
    "start_time": "2022-08-23T19:44:21.451Z"
   },
   {
    "duration": 15,
    "start_time": "2022-08-23T19:44:22.118Z"
   },
   {
    "duration": 6,
    "start_time": "2022-08-23T19:44:28.368Z"
   },
   {
    "duration": 16,
    "start_time": "2022-08-23T19:44:30.525Z"
   },
   {
    "duration": 14,
    "start_time": "2022-08-23T19:44:35.505Z"
   },
   {
    "duration": 11,
    "start_time": "2022-08-23T19:46:25.888Z"
   },
   {
    "duration": 4,
    "start_time": "2022-08-23T19:46:37.072Z"
   },
   {
    "duration": 13,
    "start_time": "2022-08-23T19:46:40.578Z"
   },
   {
    "duration": 9,
    "start_time": "2022-08-23T19:46:59.859Z"
   },
   {
    "duration": 16,
    "start_time": "2022-08-23T19:47:06.809Z"
   },
   {
    "duration": 3,
    "start_time": "2022-08-23T19:49:30.114Z"
   },
   {
    "duration": 12,
    "start_time": "2022-08-23T19:50:43.618Z"
   },
   {
    "duration": 4,
    "start_time": "2022-08-23T19:50:51.751Z"
   },
   {
    "duration": 22,
    "start_time": "2022-08-23T19:50:52.318Z"
   },
   {
    "duration": 3,
    "start_time": "2022-08-23T19:51:00.486Z"
   },
   {
    "duration": 24,
    "start_time": "2022-08-23T19:51:02.155Z"
   },
   {
    "duration": 20,
    "start_time": "2022-08-23T19:51:10.070Z"
   },
   {
    "duration": 6,
    "start_time": "2022-08-23T19:51:20.354Z"
   },
   {
    "duration": 5,
    "start_time": "2022-08-23T19:51:43.419Z"
   },
   {
    "duration": 5,
    "start_time": "2022-08-23T19:51:58.825Z"
   },
   {
    "duration": 5,
    "start_time": "2022-08-23T19:52:14.532Z"
   },
   {
    "duration": 6,
    "start_time": "2022-08-23T19:52:24.250Z"
   },
   {
    "duration": 18,
    "start_time": "2022-08-23T19:56:35.096Z"
   },
   {
    "duration": 20,
    "start_time": "2022-08-23T19:57:00.541Z"
   },
   {
    "duration": 28,
    "start_time": "2022-08-23T19:57:18.070Z"
   },
   {
    "duration": 10,
    "start_time": "2022-08-23T19:58:07.788Z"
   },
   {
    "duration": 5,
    "start_time": "2022-08-23T19:59:59.684Z"
   },
   {
    "duration": 15,
    "start_time": "2022-08-23T20:00:12.335Z"
   },
   {
    "duration": 5,
    "start_time": "2022-08-23T20:00:56.388Z"
   },
   {
    "duration": 5,
    "start_time": "2022-08-23T20:01:07.182Z"
   },
   {
    "duration": 278,
    "start_time": "2022-08-23T20:03:28.094Z"
   },
   {
    "duration": 35,
    "start_time": "2022-08-23T20:03:49.557Z"
   },
   {
    "duration": 4,
    "start_time": "2022-08-23T20:03:58.898Z"
   },
   {
    "duration": 24,
    "start_time": "2022-08-23T20:03:59.017Z"
   },
   {
    "duration": 13,
    "start_time": "2022-08-23T20:03:59.301Z"
   },
   {
    "duration": 3,
    "start_time": "2022-08-23T20:03:59.602Z"
   },
   {
    "duration": 5,
    "start_time": "2022-08-23T20:03:59.749Z"
   },
   {
    "duration": 5,
    "start_time": "2022-08-23T20:03:59.929Z"
   },
   {
    "duration": 6,
    "start_time": "2022-08-23T20:04:00.061Z"
   },
   {
    "duration": 5,
    "start_time": "2022-08-23T20:04:00.217Z"
   },
   {
    "duration": 259,
    "start_time": "2022-08-23T20:04:00.365Z"
   },
   {
    "duration": 0,
    "start_time": "2022-08-23T20:04:00.625Z"
   },
   {
    "duration": 20,
    "start_time": "2022-08-23T20:04:00.696Z"
   },
   {
    "duration": 349,
    "start_time": "2022-08-23T20:05:51.595Z"
   },
   {
    "duration": 17,
    "start_time": "2022-08-23T20:06:10.391Z"
   },
   {
    "duration": 340,
    "start_time": "2022-08-23T20:06:10.994Z"
   },
   {
    "duration": 12,
    "start_time": "2022-08-23T20:08:03.697Z"
   },
   {
    "duration": 75,
    "start_time": "2022-08-23T20:08:11.345Z"
   },
   {
    "duration": 3,
    "start_time": "2022-08-23T20:08:18.535Z"
   },
   {
    "duration": 53,
    "start_time": "2022-08-23T20:08:18.818Z"
   },
   {
    "duration": 22,
    "start_time": "2022-08-23T20:08:18.984Z"
   },
   {
    "duration": 23,
    "start_time": "2022-08-23T20:08:19.294Z"
   },
   {
    "duration": 3,
    "start_time": "2022-08-23T20:08:19.791Z"
   },
   {
    "duration": 14,
    "start_time": "2022-08-23T20:08:20.104Z"
   },
   {
    "duration": 6,
    "start_time": "2022-08-23T20:08:20.415Z"
   },
   {
    "duration": 294,
    "start_time": "2022-08-23T20:08:20.566Z"
   },
   {
    "duration": 4,
    "start_time": "2022-08-23T20:08:21.278Z"
   },
   {
    "duration": 8,
    "start_time": "2022-08-23T20:08:21.426Z"
   },
   {
    "duration": 6,
    "start_time": "2022-08-23T20:08:21.583Z"
   },
   {
    "duration": 6,
    "start_time": "2022-08-23T20:08:21.731Z"
   },
   {
    "duration": 7,
    "start_time": "2022-08-23T20:08:21.865Z"
   },
   {
    "duration": 306,
    "start_time": "2022-08-23T20:08:22.004Z"
   },
   {
    "duration": 0,
    "start_time": "2022-08-23T20:08:22.312Z"
   },
   {
    "duration": 29,
    "start_time": "2022-08-23T20:08:22.314Z"
   },
   {
    "duration": 10,
    "start_time": "2022-08-23T20:08:22.767Z"
   },
   {
    "duration": 10,
    "start_time": "2022-08-23T20:08:23.081Z"
   },
   {
    "duration": 6,
    "start_time": "2022-08-23T20:08:23.425Z"
   },
   {
    "duration": 24,
    "start_time": "2022-08-23T20:08:23.593Z"
   },
   {
    "duration": 74,
    "start_time": "2022-08-23T20:08:25.017Z"
   },
   {
    "duration": 75,
    "start_time": "2022-08-23T20:08:31.952Z"
   },
   {
    "duration": 70,
    "start_time": "2022-08-23T20:08:41.378Z"
   },
   {
    "duration": 229,
    "start_time": "2022-08-23T20:08:50.885Z"
   },
   {
    "duration": 172,
    "start_time": "2022-08-23T20:09:00.482Z"
   },
   {
    "duration": 20,
    "start_time": "2022-08-23T20:09:39.404Z"
   },
   {
    "duration": 5,
    "start_time": "2022-08-23T20:10:18.157Z"
   },
   {
    "duration": 291,
    "start_time": "2022-08-23T20:10:21.328Z"
   },
   {
    "duration": 3,
    "start_time": "2022-08-23T20:10:29.142Z"
   },
   {
    "duration": 26,
    "start_time": "2022-08-23T20:10:30.983Z"
   },
   {
    "duration": 18,
    "start_time": "2022-08-23T20:10:35.895Z"
   },
   {
    "duration": 5,
    "start_time": "2022-08-23T20:10:36.432Z"
   },
   {
    "duration": 299,
    "start_time": "2022-08-23T20:10:37.044Z"
   },
   {
    "duration": 6,
    "start_time": "2022-08-23T20:10:42.284Z"
   },
   {
    "duration": 1414,
    "start_time": "2022-08-24T10:37:53.510Z"
   },
   {
    "duration": 201,
    "start_time": "2022-08-24T10:37:54.927Z"
   },
   {
    "duration": 25,
    "start_time": "2022-08-24T10:37:55.130Z"
   },
   {
    "duration": 23,
    "start_time": "2022-08-24T10:37:56.505Z"
   },
   {
    "duration": 3,
    "start_time": "2022-08-24T10:37:58.645Z"
   },
   {
    "duration": 23,
    "start_time": "2022-08-24T10:37:59.386Z"
   },
   {
    "duration": 7,
    "start_time": "2022-08-24T10:38:00.838Z"
   },
   {
    "duration": 4,
    "start_time": "2022-08-24T10:38:01.620Z"
   },
   {
    "duration": 496,
    "start_time": "2022-08-24T10:38:02.173Z"
   },
   {
    "duration": 14,
    "start_time": "2022-08-24T10:40:00.531Z"
   },
   {
    "duration": 4,
    "start_time": "2022-08-24T10:40:00.980Z"
   },
   {
    "duration": 4,
    "start_time": "2022-08-24T10:40:01.381Z"
   },
   {
    "duration": 5,
    "start_time": "2022-08-24T10:40:10.887Z"
   },
   {
    "duration": 1896,
    "start_time": "2022-08-24T10:40:11.664Z"
   },
   {
    "duration": 18,
    "start_time": "2022-08-24T10:40:25.435Z"
   },
   {
    "duration": 15,
    "start_time": "2022-08-24T10:40:42.287Z"
   },
   {
    "duration": 13,
    "start_time": "2022-08-24T10:40:59.522Z"
   },
   {
    "duration": 5,
    "start_time": "2022-08-24T10:55:18.191Z"
   },
   {
    "duration": 3,
    "start_time": "2022-08-24T10:55:18.561Z"
   },
   {
    "duration": 5,
    "start_time": "2022-08-24T10:55:19.689Z"
   },
   {
    "duration": 14,
    "start_time": "2022-08-24T10:55:20.495Z"
   },
   {
    "duration": 2,
    "start_time": "2022-08-24T10:55:24.090Z"
   },
   {
    "duration": 8,
    "start_time": "2022-08-24T10:55:28.773Z"
   },
   {
    "duration": 3,
    "start_time": "2022-08-24T10:55:31.500Z"
   },
   {
    "duration": 6,
    "start_time": "2022-08-24T10:55:31.974Z"
   },
   {
    "duration": 5,
    "start_time": "2022-08-24T10:55:32.496Z"
   },
   {
    "duration": 1462,
    "start_time": "2022-08-24T10:55:33.013Z"
   },
   {
    "duration": 0,
    "start_time": "2022-08-24T10:55:34.477Z"
   },
   {
    "duration": 1260,
    "start_time": "2022-08-24T10:55:44.910Z"
   },
   {
    "duration": 4,
    "start_time": "2022-08-24T10:56:01.812Z"
   },
   {
    "duration": 4,
    "start_time": "2022-08-24T10:56:02.211Z"
   },
   {
    "duration": 5,
    "start_time": "2022-08-24T10:56:02.600Z"
   },
   {
    "duration": 2,
    "start_time": "2022-08-24T10:56:03.047Z"
   },
   {
    "duration": 3,
    "start_time": "2022-08-24T10:56:03.942Z"
   },
   {
    "duration": 5,
    "start_time": "2022-08-24T10:56:04.267Z"
   },
   {
    "duration": 6,
    "start_time": "2022-08-24T10:56:04.632Z"
   },
   {
    "duration": 1287,
    "start_time": "2022-08-24T10:56:05.278Z"
   },
   {
    "duration": 0,
    "start_time": "2022-08-24T10:56:06.567Z"
   },
   {
    "duration": 2,
    "start_time": "2022-08-24T10:56:46.390Z"
   },
   {
    "duration": 6,
    "start_time": "2022-08-24T10:56:51.631Z"
   },
   {
    "duration": 16,
    "start_time": "2022-08-24T11:00:12.281Z"
   },
   {
    "duration": 8,
    "start_time": "2022-08-24T11:00:13.397Z"
   },
   {
    "duration": 5,
    "start_time": "2022-08-24T11:00:21.148Z"
   },
   {
    "duration": 117,
    "start_time": "2022-08-24T11:00:35.507Z"
   },
   {
    "duration": 14,
    "start_time": "2022-08-24T11:00:51.397Z"
   },
   {
    "duration": 5,
    "start_time": "2022-08-24T11:01:10.823Z"
   },
   {
    "duration": 6,
    "start_time": "2022-08-24T11:01:25.049Z"
   },
   {
    "duration": 15,
    "start_time": "2022-08-24T11:01:25.455Z"
   },
   {
    "duration": 83,
    "start_time": "2022-08-24T11:01:51.035Z"
   },
   {
    "duration": 71,
    "start_time": "2022-08-24T11:09:34.746Z"
   },
   {
    "duration": 25,
    "start_time": "2022-08-24T11:09:50.058Z"
   },
   {
    "duration": 278,
    "start_time": "2022-08-24T11:10:40.627Z"
   },
   {
    "duration": 216,
    "start_time": "2022-08-24T11:11:04.471Z"
   },
   {
    "duration": 1528,
    "start_time": "2022-08-24T11:11:34.892Z"
   },
   {
    "duration": 204,
    "start_time": "2022-08-24T11:12:42.489Z"
   },
   {
    "duration": 6,
    "start_time": "2022-08-24T11:21:45.751Z"
   },
   {
    "duration": 9,
    "start_time": "2022-08-24T11:21:56.933Z"
   },
   {
    "duration": 195,
    "start_time": "2022-08-24T11:22:09.041Z"
   },
   {
    "duration": 197,
    "start_time": "2022-08-24T11:22:30.324Z"
   },
   {
    "duration": 197,
    "start_time": "2022-08-24T11:22:41.942Z"
   },
   {
    "duration": 14,
    "start_time": "2022-08-24T11:32:53.451Z"
   },
   {
    "duration": 13,
    "start_time": "2022-08-24T11:32:58.618Z"
   },
   {
    "duration": 4,
    "start_time": "2022-08-24T11:32:59.003Z"
   },
   {
    "duration": 4,
    "start_time": "2022-08-24T11:32:59.651Z"
   },
   {
    "duration": 5,
    "start_time": "2022-08-24T11:33:14.259Z"
   },
   {
    "duration": 17,
    "start_time": "2022-08-24T11:33:18.932Z"
   },
   {
    "duration": 1137,
    "start_time": "2022-08-24T11:33:24.033Z"
   },
   {
    "duration": 4,
    "start_time": "2022-08-24T11:33:29.192Z"
   },
   {
    "duration": 7,
    "start_time": "2022-08-24T11:33:33.618Z"
   },
   {
    "duration": 4,
    "start_time": "2022-08-24T11:33:38.896Z"
   },
   {
    "duration": 6,
    "start_time": "2022-08-24T11:33:39.840Z"
   },
   {
    "duration": 6,
    "start_time": "2022-08-24T11:33:43.686Z"
   },
   {
    "duration": 14,
    "start_time": "2022-08-24T11:33:44.166Z"
   },
   {
    "duration": 19,
    "start_time": "2022-08-24T11:33:46.770Z"
   },
   {
    "duration": 6,
    "start_time": "2022-08-24T11:33:49.421Z"
   },
   {
    "duration": 200,
    "start_time": "2022-08-24T11:33:52.405Z"
   },
   {
    "duration": 223,
    "start_time": "2022-08-24T11:35:22.541Z"
   },
   {
    "duration": 247,
    "start_time": "2022-08-24T11:36:03.784Z"
   },
   {
    "duration": 169,
    "start_time": "2022-08-24T11:36:11.288Z"
   },
   {
    "duration": 183,
    "start_time": "2022-08-24T11:37:01.422Z"
   },
   {
    "duration": 178,
    "start_time": "2022-08-24T11:50:57.256Z"
   },
   {
    "duration": 165,
    "start_time": "2022-08-24T11:51:02.653Z"
   },
   {
    "duration": 187,
    "start_time": "2022-08-24T11:51:06.389Z"
   },
   {
    "duration": 175,
    "start_time": "2022-08-24T11:51:51.586Z"
   },
   {
    "duration": 170,
    "start_time": "2022-08-24T11:51:56.320Z"
   },
   {
    "duration": 148,
    "start_time": "2022-08-24T11:53:46.001Z"
   },
   {
    "duration": 13,
    "start_time": "2022-08-24T11:55:00.260Z"
   },
   {
    "duration": 12,
    "start_time": "2022-08-24T11:55:09.112Z"
   },
   {
    "duration": 13,
    "start_time": "2022-08-24T11:55:31.717Z"
   },
   {
    "duration": 14,
    "start_time": "2022-08-24T11:55:35.658Z"
   },
   {
    "duration": 125,
    "start_time": "2022-08-24T12:00:36.600Z"
   },
   {
    "duration": 138,
    "start_time": "2022-08-24T12:01:04.960Z"
   },
   {
    "duration": 11,
    "start_time": "2022-08-24T12:04:11.482Z"
   },
   {
    "duration": 13,
    "start_time": "2022-08-24T12:05:23.282Z"
   },
   {
    "duration": 16,
    "start_time": "2022-08-24T12:08:43.541Z"
   },
   {
    "duration": 60,
    "start_time": "2022-08-24T12:09:43.132Z"
   },
   {
    "duration": 21,
    "start_time": "2022-08-24T12:09:45.415Z"
   },
   {
    "duration": 14,
    "start_time": "2022-08-24T12:10:15.553Z"
   },
   {
    "duration": 4,
    "start_time": "2022-08-24T12:10:18.170Z"
   },
   {
    "duration": 53,
    "start_time": "2022-08-24T12:10:18.587Z"
   },
   {
    "duration": 20,
    "start_time": "2022-08-24T12:10:18.969Z"
   },
   {
    "duration": 15,
    "start_time": "2022-08-24T12:10:20.086Z"
   },
   {
    "duration": 3,
    "start_time": "2022-08-24T12:11:23.895Z"
   },
   {
    "duration": 15,
    "start_time": "2022-08-24T12:11:24.512Z"
   },
   {
    "duration": 13,
    "start_time": "2022-08-24T12:12:10.458Z"
   },
   {
    "duration": 6,
    "start_time": "2022-08-24T12:13:07.950Z"
   },
   {
    "duration": 18,
    "start_time": "2022-08-24T12:13:14.141Z"
   },
   {
    "duration": 3,
    "start_time": "2022-08-24T12:14:31.500Z"
   },
   {
    "duration": 6,
    "start_time": "2022-08-24T12:16:34.491Z"
   },
   {
    "duration": 5,
    "start_time": "2022-08-24T12:17:43.581Z"
   },
   {
    "duration": 5,
    "start_time": "2022-08-24T12:17:46.327Z"
   },
   {
    "duration": 5,
    "start_time": "2022-08-24T12:17:51.660Z"
   },
   {
    "duration": 93,
    "start_time": "2022-08-24T12:17:52.325Z"
   },
   {
    "duration": 1261,
    "start_time": "2022-08-25T17:10:22.104Z"
   },
   {
    "duration": 105,
    "start_time": "2022-08-25T17:10:23.366Z"
   },
   {
    "duration": 22,
    "start_time": "2022-08-25T17:10:23.472Z"
   },
   {
    "duration": 13,
    "start_time": "2022-08-25T17:10:24.000Z"
   },
   {
    "duration": 3,
    "start_time": "2022-08-25T17:10:25.613Z"
   },
   {
    "duration": 12,
    "start_time": "2022-08-25T17:10:26.446Z"
   },
   {
    "duration": 5,
    "start_time": "2022-08-25T17:10:30.498Z"
   },
   {
    "duration": 2,
    "start_time": "2022-08-25T17:10:37.326Z"
   },
   {
    "duration": 2,
    "start_time": "2022-08-25T17:10:37.628Z"
   },
   {
    "duration": 2,
    "start_time": "2022-08-25T17:10:38.010Z"
   },
   {
    "duration": 2,
    "start_time": "2022-08-25T17:10:38.444Z"
   },
   {
    "duration": 3,
    "start_time": "2022-08-25T17:10:39.563Z"
   },
   {
    "duration": 6,
    "start_time": "2022-08-25T17:10:45.812Z"
   },
   {
    "duration": 11,
    "start_time": "2022-08-25T17:11:20.578Z"
   },
   {
    "duration": 7,
    "start_time": "2022-08-25T17:11:44.051Z"
   },
   {
    "duration": 6,
    "start_time": "2022-08-25T17:12:09.306Z"
   },
   {
    "duration": 5,
    "start_time": "2022-08-25T17:24:32.293Z"
   },
   {
    "duration": 8,
    "start_time": "2022-08-25T17:24:33.901Z"
   },
   {
    "duration": 5,
    "start_time": "2022-08-25T17:24:34.182Z"
   },
   {
    "duration": 6,
    "start_time": "2022-08-25T17:24:35.153Z"
   },
   {
    "duration": 6,
    "start_time": "2022-08-25T17:24:41.263Z"
   },
   {
    "duration": 20,
    "start_time": "2022-08-25T17:24:41.780Z"
   },
   {
    "duration": 20,
    "start_time": "2022-08-25T17:24:45.714Z"
   },
   {
    "duration": 95,
    "start_time": "2022-08-25T17:25:21.981Z"
   },
   {
    "duration": 11,
    "start_time": "2022-08-25T17:25:28.026Z"
   },
   {
    "duration": 200,
    "start_time": "2022-08-25T17:25:43.507Z"
   },
   {
    "duration": 11,
    "start_time": "2022-08-25T17:25:55.119Z"
   },
   {
    "duration": 16,
    "start_time": "2022-08-25T17:26:11.742Z"
   },
   {
    "duration": 7,
    "start_time": "2022-08-25T17:26:23.206Z"
   },
   {
    "duration": 10,
    "start_time": "2022-08-25T17:26:27.010Z"
   },
   {
    "duration": 3,
    "start_time": "2022-08-25T17:27:20.122Z"
   },
   {
    "duration": 135,
    "start_time": "2022-08-25T17:27:25.674Z"
   },
   {
    "duration": 346,
    "start_time": "2022-08-25T17:27:30.549Z"
   },
   {
    "duration": 4,
    "start_time": "2022-08-25T17:27:42.060Z"
   },
   {
    "duration": 11,
    "start_time": "2022-08-25T17:38:21.692Z"
   },
   {
    "duration": 130,
    "start_time": "2022-08-25T17:40:01.584Z"
   },
   {
    "duration": 3,
    "start_time": "2022-08-25T17:40:05.605Z"
   },
   {
    "duration": 291,
    "start_time": "2022-08-25T17:40:05.907Z"
   },
   {
    "duration": 3,
    "start_time": "2022-08-25T17:41:43.804Z"
   },
   {
    "duration": 278,
    "start_time": "2022-08-25T17:41:44.254Z"
   },
   {
    "duration": 326,
    "start_time": "2022-08-25T17:46:23.877Z"
   },
   {
    "duration": 325,
    "start_time": "2022-08-25T17:47:08.210Z"
   },
   {
    "duration": 279,
    "start_time": "2022-08-25T17:47:21.963Z"
   },
   {
    "duration": 273,
    "start_time": "2022-08-25T17:47:29.050Z"
   },
   {
    "duration": 291,
    "start_time": "2022-08-25T17:47:35.395Z"
   },
   {
    "duration": 272,
    "start_time": "2022-08-25T17:47:44.049Z"
   },
   {
    "duration": 259,
    "start_time": "2022-08-25T17:47:49.898Z"
   },
   {
    "duration": 260,
    "start_time": "2022-08-25T17:48:14.502Z"
   },
   {
    "duration": 257,
    "start_time": "2022-08-25T17:48:26.841Z"
   },
   {
    "duration": 247,
    "start_time": "2022-08-25T17:48:32.799Z"
   },
   {
    "duration": 259,
    "start_time": "2022-08-25T17:48:37.860Z"
   },
   {
    "duration": 261,
    "start_time": "2022-08-25T17:48:57.427Z"
   },
   {
    "duration": 332,
    "start_time": "2022-08-25T17:49:15.196Z"
   },
   {
    "duration": 259,
    "start_time": "2022-08-25T17:49:23.372Z"
   },
   {
    "duration": 247,
    "start_time": "2022-08-25T17:49:43.959Z"
   },
   {
    "duration": 254,
    "start_time": "2022-08-25T17:49:51.098Z"
   },
   {
    "duration": 251,
    "start_time": "2022-08-25T17:50:00.650Z"
   },
   {
    "duration": 250,
    "start_time": "2022-08-25T17:50:26.564Z"
   },
   {
    "duration": 323,
    "start_time": "2022-08-25T17:52:39.488Z"
   },
   {
    "duration": 250,
    "start_time": "2022-08-25T17:52:50.504Z"
   },
   {
    "duration": 272,
    "start_time": "2022-08-25T17:54:12.701Z"
   },
   {
    "duration": 11,
    "start_time": "2022-08-25T17:55:11.686Z"
   },
   {
    "duration": 243,
    "start_time": "2022-08-25T17:56:58.559Z"
   },
   {
    "duration": 305,
    "start_time": "2022-08-25T17:57:08.104Z"
   },
   {
    "duration": 254,
    "start_time": "2022-08-25T17:57:20.066Z"
   },
   {
    "duration": 8,
    "start_time": "2022-08-25T17:57:51.054Z"
   },
   {
    "duration": 3,
    "start_time": "2022-08-25T17:57:58.976Z"
   },
   {
    "duration": 4,
    "start_time": "2022-08-25T17:58:09.705Z"
   },
   {
    "duration": 8,
    "start_time": "2022-08-25T18:16:41.543Z"
   },
   {
    "duration": 23,
    "start_time": "2022-08-25T18:16:46.699Z"
   },
   {
    "duration": 14,
    "start_time": "2022-08-25T18:22:05.203Z"
   },
   {
    "duration": 52,
    "start_time": "2022-08-25T18:22:14.141Z"
   },
   {
    "duration": 14,
    "start_time": "2022-08-25T18:22:37.414Z"
   },
   {
    "duration": 5,
    "start_time": "2022-08-25T18:24:49.735Z"
   },
   {
    "duration": 20,
    "start_time": "2022-08-25T18:24:54.634Z"
   },
   {
    "duration": 20,
    "start_time": "2022-08-25T18:26:36.500Z"
   },
   {
    "duration": 19,
    "start_time": "2022-08-25T18:26:41.881Z"
   },
   {
    "duration": 10,
    "start_time": "2022-08-25T18:26:53.350Z"
   },
   {
    "duration": 16,
    "start_time": "2022-08-25T18:26:57.355Z"
   },
   {
    "duration": 17,
    "start_time": "2022-08-25T18:27:16.747Z"
   },
   {
    "duration": 10,
    "start_time": "2022-08-25T18:28:20.676Z"
   },
   {
    "duration": 10,
    "start_time": "2022-08-25T18:28:37.711Z"
   },
   {
    "duration": 6,
    "start_time": "2022-08-25T18:30:38.676Z"
   },
   {
    "duration": 10,
    "start_time": "2022-08-25T18:30:42.001Z"
   },
   {
    "duration": 9,
    "start_time": "2022-08-25T18:30:52.874Z"
   },
   {
    "duration": 11,
    "start_time": "2022-08-25T18:30:57.512Z"
   },
   {
    "duration": 14,
    "start_time": "2022-08-25T18:33:03.613Z"
   },
   {
    "duration": 14,
    "start_time": "2022-08-25T18:33:16.547Z"
   },
   {
    "duration": 16,
    "start_time": "2022-08-25T18:38:23.181Z"
   },
   {
    "duration": 20,
    "start_time": "2022-08-25T20:53:25.550Z"
   },
   {
    "duration": 127,
    "start_time": "2022-08-25T20:53:50.943Z"
   },
   {
    "duration": 264,
    "start_time": "2022-08-25T20:53:57.301Z"
   },
   {
    "duration": 26,
    "start_time": "2022-08-25T20:54:10.905Z"
   },
   {
    "duration": 21,
    "start_time": "2022-08-25T20:54:18.132Z"
   },
   {
    "duration": 12,
    "start_time": "2022-08-25T20:54:36.441Z"
   },
   {
    "duration": 18,
    "start_time": "2022-08-25T20:55:32.698Z"
   },
   {
    "duration": 11,
    "start_time": "2022-08-25T20:55:42.083Z"
   },
   {
    "duration": 284,
    "start_time": "2022-08-25T20:55:57.232Z"
   },
   {
    "duration": 792,
    "start_time": "2022-08-25T20:57:23.934Z"
   },
   {
    "duration": 817,
    "start_time": "2022-08-25T20:57:38.863Z"
   },
   {
    "duration": 769,
    "start_time": "2022-08-25T20:57:46.197Z"
   },
   {
    "duration": 962,
    "start_time": "2022-08-25T20:58:25.332Z"
   },
   {
    "duration": 171,
    "start_time": "2022-08-25T20:58:41.484Z"
   },
   {
    "duration": 11,
    "start_time": "2022-08-25T20:59:13.884Z"
   },
   {
    "duration": 11,
    "start_time": "2022-08-25T20:59:27.760Z"
   },
   {
    "duration": 11,
    "start_time": "2022-08-25T21:11:46.657Z"
   },
   {
    "duration": 64,
    "start_time": "2022-08-25T21:11:52.836Z"
   },
   {
    "duration": 11,
    "start_time": "2022-08-25T21:11:59.496Z"
   },
   {
    "duration": 11,
    "start_time": "2022-08-25T21:13:09.255Z"
   },
   {
    "duration": 11,
    "start_time": "2022-08-25T21:13:16.687Z"
   },
   {
    "duration": 14,
    "start_time": "2022-08-25T21:13:35.728Z"
   },
   {
    "duration": 10,
    "start_time": "2022-08-25T21:14:18.349Z"
   },
   {
    "duration": 12,
    "start_time": "2022-08-25T21:14:24.928Z"
   },
   {
    "duration": 29,
    "start_time": "2022-08-25T21:14:30.446Z"
   },
   {
    "duration": 1210,
    "start_time": "2022-08-25T21:14:50.334Z"
   },
   {
    "duration": 30,
    "start_time": "2022-08-25T21:15:06.041Z"
   },
   {
    "duration": 1081,
    "start_time": "2022-08-25T21:15:07.326Z"
   },
   {
    "duration": 15,
    "start_time": "2022-08-25T21:17:29.756Z"
   },
   {
    "duration": 29,
    "start_time": "2022-08-25T21:17:39.709Z"
   },
   {
    "duration": 1107,
    "start_time": "2022-08-25T21:17:51.910Z"
   },
   {
    "duration": 29,
    "start_time": "2022-08-25T21:18:02.095Z"
   },
   {
    "duration": 898,
    "start_time": "2022-08-25T21:18:05.437Z"
   },
   {
    "duration": 4,
    "start_time": "2022-08-25T21:20:02.855Z"
   },
   {
    "duration": 4,
    "start_time": "2022-08-25T21:20:15.053Z"
   },
   {
    "duration": 6,
    "start_time": "2022-08-25T21:20:25.862Z"
   },
   {
    "duration": 8,
    "start_time": "2022-08-25T21:20:46.221Z"
   },
   {
    "duration": 11,
    "start_time": "2022-08-25T21:20:55.919Z"
   },
   {
    "duration": 24,
    "start_time": "2022-08-25T21:22:23.693Z"
   },
   {
    "duration": 10,
    "start_time": "2022-08-25T21:22:42.052Z"
   },
   {
    "duration": 8,
    "start_time": "2022-08-25T21:22:59.474Z"
   },
   {
    "duration": 8,
    "start_time": "2022-08-25T21:23:05.964Z"
   },
   {
    "duration": 9,
    "start_time": "2022-08-25T21:23:10.965Z"
   },
   {
    "duration": 131,
    "start_time": "2022-08-25T21:24:19.822Z"
   },
   {
    "duration": 10,
    "start_time": "2022-08-25T21:25:49.401Z"
   },
   {
    "duration": 7,
    "start_time": "2022-08-25T21:26:12.319Z"
   },
   {
    "duration": 5,
    "start_time": "2022-08-25T21:27:05.037Z"
   },
   {
    "duration": 18,
    "start_time": "2022-08-25T21:27:24.728Z"
   },
   {
    "duration": 141,
    "start_time": "2022-08-25T21:27:28.858Z"
   },
   {
    "duration": 16,
    "start_time": "2022-08-25T21:27:41.148Z"
   },
   {
    "duration": 17,
    "start_time": "2022-08-25T21:27:52.621Z"
   },
   {
    "duration": 14,
    "start_time": "2022-08-25T21:28:03.245Z"
   },
   {
    "duration": 810,
    "start_time": "2022-08-25T21:28:54.772Z"
   },
   {
    "duration": 12,
    "start_time": "2022-08-25T21:29:46.732Z"
   },
   {
    "duration": 15,
    "start_time": "2022-08-25T21:30:05.459Z"
   },
   {
    "duration": 11,
    "start_time": "2022-08-25T21:31:46.993Z"
   },
   {
    "duration": 15,
    "start_time": "2022-08-25T21:32:06.409Z"
   },
   {
    "duration": 11,
    "start_time": "2022-08-25T21:33:21.004Z"
   },
   {
    "duration": 164,
    "start_time": "2022-08-25T21:35:27.784Z"
   },
   {
    "duration": 237,
    "start_time": "2022-08-25T21:35:38.907Z"
   },
   {
    "duration": 209,
    "start_time": "2022-08-25T21:35:43.204Z"
   },
   {
    "duration": 735,
    "start_time": "2022-08-25T21:36:15.747Z"
   },
   {
    "duration": 9,
    "start_time": "2022-08-25T21:37:04.048Z"
   },
   {
    "duration": 52,
    "start_time": "2022-08-25T21:37:19.362Z"
   },
   {
    "duration": 18,
    "start_time": "2022-08-25T21:37:26.785Z"
   },
   {
    "duration": 12,
    "start_time": "2022-08-25T21:37:54.554Z"
   },
   {
    "duration": 45,
    "start_time": "2022-08-25T21:38:01.395Z"
   },
   {
    "duration": 182,
    "start_time": "2022-08-25T21:38:17.357Z"
   },
   {
    "duration": 14,
    "start_time": "2022-08-25T21:38:48.370Z"
   },
   {
    "duration": 14,
    "start_time": "2022-08-25T21:38:56.066Z"
   },
   {
    "duration": 167,
    "start_time": "2022-08-25T21:41:38.361Z"
   },
   {
    "duration": 98,
    "start_time": "2022-08-25T21:41:44.742Z"
   },
   {
    "duration": 122,
    "start_time": "2022-08-25T21:41:58.268Z"
   },
   {
    "duration": 156,
    "start_time": "2022-08-25T21:42:22.570Z"
   },
   {
    "duration": 741,
    "start_time": "2022-08-25T21:43:02.944Z"
   },
   {
    "duration": 1293,
    "start_time": "2022-08-26T21:36:16.823Z"
   },
   {
    "duration": 104,
    "start_time": "2022-08-26T21:36:18.119Z"
   },
   {
    "duration": 22,
    "start_time": "2022-08-26T21:36:18.225Z"
   },
   {
    "duration": 13,
    "start_time": "2022-08-26T21:36:18.250Z"
   },
   {
    "duration": 3,
    "start_time": "2022-08-26T21:36:18.425Z"
   },
   {
    "duration": 14,
    "start_time": "2022-08-26T21:36:18.578Z"
   },
   {
    "duration": 12,
    "start_time": "2022-08-26T21:36:19.097Z"
   },
   {
    "duration": 3,
    "start_time": "2022-08-26T21:36:19.641Z"
   },
   {
    "duration": 4,
    "start_time": "2022-08-26T21:36:19.796Z"
   },
   {
    "duration": 3,
    "start_time": "2022-08-26T21:36:19.947Z"
   },
   {
    "duration": 15,
    "start_time": "2022-08-26T21:36:21.796Z"
   },
   {
    "duration": 3,
    "start_time": "2022-08-26T21:36:22.263Z"
   },
   {
    "duration": 11,
    "start_time": "2022-08-26T21:36:22.731Z"
   },
   {
    "duration": 6,
    "start_time": "2022-08-26T21:36:23.711Z"
   },
   {
    "duration": 6,
    "start_time": "2022-08-26T21:36:24.216Z"
   },
   {
    "duration": 5,
    "start_time": "2022-08-26T21:36:25.257Z"
   },
   {
    "duration": 5,
    "start_time": "2022-08-26T21:36:25.757Z"
   },
   {
    "duration": 5,
    "start_time": "2022-08-26T21:36:27.082Z"
   },
   {
    "duration": 13,
    "start_time": "2022-08-26T21:36:27.981Z"
   },
   {
    "duration": 10,
    "start_time": "2022-08-26T21:36:31.458Z"
   },
   {
    "duration": 136,
    "start_time": "2022-08-26T21:36:35.592Z"
   },
   {
    "duration": 197,
    "start_time": "2022-08-26T21:36:35.884Z"
   },
   {
    "duration": 11,
    "start_time": "2022-08-26T21:36:39.282Z"
   },
   {
    "duration": 4,
    "start_time": "2022-08-26T21:36:55.478Z"
   },
   {
    "duration": 4,
    "start_time": "2022-08-26T21:37:02.088Z"
   },
   {
    "duration": 3,
    "start_time": "2022-08-26T21:37:07.282Z"
   },
   {
    "duration": 5,
    "start_time": "2022-08-26T21:37:08.069Z"
   },
   {
    "duration": 102,
    "start_time": "2022-08-26T21:37:42.206Z"
   },
   {
    "duration": 4,
    "start_time": "2022-08-26T21:37:46.584Z"
   },
   {
    "duration": 4,
    "start_time": "2022-08-26T21:37:47.103Z"
   },
   {
    "duration": 3,
    "start_time": "2022-08-26T21:38:30.758Z"
   },
   {
    "duration": 4,
    "start_time": "2022-08-26T21:38:31.432Z"
   },
   {
    "duration": 4,
    "start_time": "2022-08-26T21:39:05.882Z"
   },
   {
    "duration": 3,
    "start_time": "2022-08-26T21:40:15.586Z"
   },
   {
    "duration": 306,
    "start_time": "2022-08-26T21:40:20.108Z"
   },
   {
    "duration": 4,
    "start_time": "2022-08-26T21:40:23.552Z"
   },
   {
    "duration": 17,
    "start_time": "2022-08-26T21:40:30.614Z"
   },
   {
    "duration": 20,
    "start_time": "2022-08-26T21:42:01.211Z"
   },
   {
    "duration": 11,
    "start_time": "2022-08-26T21:42:18.639Z"
   },
   {
    "duration": 68,
    "start_time": "2022-08-26T21:43:28.378Z"
   },
   {
    "duration": 17,
    "start_time": "2022-08-26T21:49:11.259Z"
   },
   {
    "duration": 3,
    "start_time": "2022-08-26T21:52:28.673Z"
   },
   {
    "duration": 5,
    "start_time": "2022-08-26T21:52:39.552Z"
   },
   {
    "duration": 250,
    "start_time": "2022-08-26T21:54:45.747Z"
   },
   {
    "duration": 21,
    "start_time": "2022-08-26T21:55:34.810Z"
   },
   {
    "duration": 279,
    "start_time": "2022-08-26T21:55:56.358Z"
   },
   {
    "duration": 246,
    "start_time": "2022-08-26T21:56:59.553Z"
   },
   {
    "duration": 5,
    "start_time": "2022-08-26T21:57:16.809Z"
   },
   {
    "duration": 170,
    "start_time": "2022-08-26T21:57:56.583Z"
   },
   {
    "duration": 310,
    "start_time": "2022-08-26T21:58:22.918Z"
   },
   {
    "duration": 4,
    "start_time": "2022-08-26T21:58:32.259Z"
   },
   {
    "duration": 252,
    "start_time": "2022-08-26T21:58:50.661Z"
   },
   {
    "duration": 256,
    "start_time": "2022-08-26T21:59:00.962Z"
   },
   {
    "duration": 285,
    "start_time": "2022-08-26T21:59:23.571Z"
   },
   {
    "duration": 2,
    "start_time": "2022-08-26T22:00:38.613Z"
   },
   {
    "duration": 293,
    "start_time": "2022-08-26T22:00:40.068Z"
   },
   {
    "duration": 960,
    "start_time": "2022-08-26T22:01:03.530Z"
   },
   {
    "duration": 3,
    "start_time": "2022-08-26T22:01:31.542Z"
   },
   {
    "duration": 218,
    "start_time": "2022-08-26T22:01:32.462Z"
   },
   {
    "duration": 259,
    "start_time": "2022-08-26T22:01:53.731Z"
   },
   {
    "duration": 308,
    "start_time": "2022-08-26T22:02:19.310Z"
   },
   {
    "duration": 282,
    "start_time": "2022-08-26T22:02:28.873Z"
   },
   {
    "duration": 296,
    "start_time": "2022-08-26T22:02:46.478Z"
   },
   {
    "duration": 388,
    "start_time": "2022-08-26T22:03:08.152Z"
   },
   {
    "duration": 481,
    "start_time": "2022-08-26T22:03:34.339Z"
   },
   {
    "duration": 368,
    "start_time": "2022-08-26T22:04:05.114Z"
   },
   {
    "duration": 361,
    "start_time": "2022-08-26T22:04:29.100Z"
   },
   {
    "duration": 389,
    "start_time": "2022-08-26T22:04:43.500Z"
   },
   {
    "duration": 528,
    "start_time": "2022-08-26T22:05:18.888Z"
   },
   {
    "duration": 542,
    "start_time": "2022-08-26T22:05:46.290Z"
   },
   {
    "duration": 2,
    "start_time": "2022-08-26T22:25:44.725Z"
   },
   {
    "duration": 4,
    "start_time": "2022-08-26T22:25:48.868Z"
   },
   {
    "duration": 11,
    "start_time": "2022-08-26T22:28:12.969Z"
   },
   {
    "duration": 149,
    "start_time": "2022-08-26T22:28:33.548Z"
   },
   {
    "duration": 306,
    "start_time": "2022-08-26T22:28:47.335Z"
   },
   {
    "duration": 32,
    "start_time": "2022-08-26T22:33:00.490Z"
   },
   {
    "duration": 10,
    "start_time": "2022-08-26T22:34:19.691Z"
   },
   {
    "duration": 17,
    "start_time": "2022-08-26T22:34:23.643Z"
   },
   {
    "duration": 115,
    "start_time": "2022-08-26T22:35:07.903Z"
   },
   {
    "duration": 95,
    "start_time": "2022-08-26T22:35:55.253Z"
   },
   {
    "duration": 84,
    "start_time": "2022-08-26T22:36:23.912Z"
   },
   {
    "duration": 243,
    "start_time": "2022-08-26T22:39:32.778Z"
   },
   {
    "duration": 278,
    "start_time": "2022-08-26T22:40:12.705Z"
   },
   {
    "duration": 277,
    "start_time": "2022-08-26T22:40:18.094Z"
   },
   {
    "duration": 357,
    "start_time": "2022-08-26T22:40:37.468Z"
   },
   {
    "duration": 283,
    "start_time": "2022-08-26T22:40:41.827Z"
   },
   {
    "duration": 281,
    "start_time": "2022-08-26T22:40:47.177Z"
   },
   {
    "duration": 267,
    "start_time": "2022-08-26T22:40:52.381Z"
   },
   {
    "duration": 124,
    "start_time": "2022-08-26T22:41:16.005Z"
   },
   {
    "duration": 124,
    "start_time": "2022-08-26T22:41:48.551Z"
   },
   {
    "duration": 365,
    "start_time": "2022-08-26T22:41:55.635Z"
   },
   {
    "duration": 270,
    "start_time": "2022-08-26T22:42:09.013Z"
   },
   {
    "duration": 290,
    "start_time": "2022-08-26T22:42:22.932Z"
   },
   {
    "duration": 143,
    "start_time": "2022-08-26T22:42:55.168Z"
   },
   {
    "duration": 275,
    "start_time": "2022-08-26T22:43:00.282Z"
   },
   {
    "duration": 281,
    "start_time": "2022-08-26T22:44:01.601Z"
   },
   {
    "duration": 372,
    "start_time": "2022-08-26T22:45:03.753Z"
   },
   {
    "duration": 3,
    "start_time": "2022-08-26T22:45:16.296Z"
   },
   {
    "duration": 14,
    "start_time": "2022-08-26T22:45:24.711Z"
   },
   {
    "duration": 4,
    "start_time": "2022-08-26T22:45:25.518Z"
   },
   {
    "duration": 560,
    "start_time": "2022-08-26T22:45:26.113Z"
   },
   {
    "duration": 271,
    "start_time": "2022-08-26T22:45:27.564Z"
   },
   {
    "duration": 279,
    "start_time": "2022-08-26T22:45:48.851Z"
   },
   {
    "duration": 285,
    "start_time": "2022-08-26T22:46:16.396Z"
   },
   {
    "duration": 136,
    "start_time": "2022-08-26T22:46:52.041Z"
   },
   {
    "duration": 163,
    "start_time": "2022-08-26T22:47:15.062Z"
   },
   {
    "duration": 214,
    "start_time": "2022-08-26T22:47:28.563Z"
   },
   {
    "duration": 302,
    "start_time": "2022-08-26T22:47:33.933Z"
   },
   {
    "duration": 273,
    "start_time": "2022-08-26T22:47:38.655Z"
   },
   {
    "duration": 288,
    "start_time": "2022-08-26T22:47:46.213Z"
   },
   {
    "duration": 278,
    "start_time": "2022-08-26T22:47:50.722Z"
   },
   {
    "duration": 274,
    "start_time": "2022-08-26T22:47:57.000Z"
   },
   {
    "duration": 8,
    "start_time": "2022-08-26T22:50:01.684Z"
   },
   {
    "duration": 12,
    "start_time": "2022-08-26T22:50:15.431Z"
   },
   {
    "duration": 352,
    "start_time": "2022-08-26T22:51:11.372Z"
   },
   {
    "duration": 278,
    "start_time": "2022-08-26T22:53:51.724Z"
   },
   {
    "duration": 48,
    "start_time": "2022-08-26T22:55:09.030Z"
   },
   {
    "duration": 3,
    "start_time": "2022-08-26T22:55:15.037Z"
   },
   {
    "duration": 312,
    "start_time": "2022-08-26T22:55:24.181Z"
   },
   {
    "duration": 276,
    "start_time": "2022-08-26T22:55:28.227Z"
   },
   {
    "duration": 129,
    "start_time": "2022-08-26T22:55:37.148Z"
   },
   {
    "duration": 2,
    "start_time": "2022-08-26T22:55:54.359Z"
   },
   {
    "duration": 530,
    "start_time": "2022-08-26T22:56:07.486Z"
   },
   {
    "duration": 3,
    "start_time": "2022-08-26T22:56:16.117Z"
   },
   {
    "duration": 622,
    "start_time": "2022-08-26T22:56:16.293Z"
   },
   {
    "duration": 276,
    "start_time": "2022-08-26T22:56:20.438Z"
   },
   {
    "duration": 8,
    "start_time": "2022-08-26T23:00:11.369Z"
   },
   {
    "duration": 19,
    "start_time": "2022-08-26T23:00:16.517Z"
   },
   {
    "duration": 9,
    "start_time": "2022-08-26T23:00:24.327Z"
   },
   {
    "duration": 16,
    "start_time": "2022-08-26T23:00:34.225Z"
   },
   {
    "duration": 8,
    "start_time": "2022-08-26T23:00:56.486Z"
   },
   {
    "duration": 1193,
    "start_time": "2022-08-27T09:43:41.524Z"
   },
   {
    "duration": 220,
    "start_time": "2022-08-27T09:43:42.719Z"
   },
   {
    "duration": 31,
    "start_time": "2022-08-27T09:43:42.940Z"
   },
   {
    "duration": 13,
    "start_time": "2022-08-27T09:43:42.973Z"
   },
   {
    "duration": 3,
    "start_time": "2022-08-27T09:43:42.988Z"
   },
   {
    "duration": 20,
    "start_time": "2022-08-27T09:43:42.992Z"
   },
   {
    "duration": 4,
    "start_time": "2022-08-27T09:43:43.013Z"
   },
   {
    "duration": 3,
    "start_time": "2022-08-27T09:43:43.193Z"
   },
   {
    "duration": 2,
    "start_time": "2022-08-27T09:43:43.360Z"
   },
   {
    "duration": 2,
    "start_time": "2022-08-27T09:43:43.489Z"
   },
   {
    "duration": 3,
    "start_time": "2022-08-27T09:43:43.639Z"
   },
   {
    "duration": 4,
    "start_time": "2022-08-27T09:43:43.943Z"
   },
   {
    "duration": 16,
    "start_time": "2022-08-27T09:43:44.099Z"
   },
   {
    "duration": 7,
    "start_time": "2022-08-27T09:43:44.437Z"
   },
   {
    "duration": 6,
    "start_time": "2022-08-27T09:43:44.585Z"
   },
   {
    "duration": 5,
    "start_time": "2022-08-27T09:43:44.895Z"
   },
   {
    "duration": 5,
    "start_time": "2022-08-27T09:43:45.046Z"
   },
   {
    "duration": 6,
    "start_time": "2022-08-27T09:43:45.426Z"
   },
   {
    "duration": 14,
    "start_time": "2022-08-27T09:43:45.596Z"
   },
   {
    "duration": 16,
    "start_time": "2022-08-27T09:43:46.083Z"
   },
   {
    "duration": 149,
    "start_time": "2022-08-27T09:43:46.228Z"
   },
   {
    "duration": 213,
    "start_time": "2022-08-27T09:43:46.381Z"
   },
   {
    "duration": 10,
    "start_time": "2022-08-27T09:43:47.307Z"
   },
   {
    "duration": 3,
    "start_time": "2022-08-27T09:43:47.607Z"
   },
   {
    "duration": 448,
    "start_time": "2022-08-27T09:43:47.765Z"
   },
   {
    "duration": 4,
    "start_time": "2022-08-27T09:43:48.215Z"
   },
   {
    "duration": 23,
    "start_time": "2022-08-27T09:43:49.307Z"
   },
   {
    "duration": 13,
    "start_time": "2022-08-27T09:43:49.831Z"
   },
   {
    "duration": 5,
    "start_time": "2022-08-27T09:43:50.130Z"
   },
   {
    "duration": 651,
    "start_time": "2022-08-27T09:43:50.281Z"
   },
   {
    "duration": 110,
    "start_time": "2022-08-27T09:43:51.882Z"
   },
   {
    "duration": 508,
    "start_time": "2022-08-27T09:45:59.295Z"
   },
   {
    "duration": 404,
    "start_time": "2022-08-27T09:46:06.062Z"
   },
   {
    "duration": 261,
    "start_time": "2022-08-27T09:46:20.730Z"
   },
   {
    "duration": 514,
    "start_time": "2022-08-27T09:46:38.416Z"
   },
   {
    "duration": 294,
    "start_time": "2022-08-27T09:50:34.600Z"
   },
   {
    "duration": 120,
    "start_time": "2022-08-27T09:51:11.330Z"
   },
   {
    "duration": 27,
    "start_time": "2022-08-27T09:51:41.487Z"
   },
   {
    "duration": 2,
    "start_time": "2022-08-27T09:52:45.277Z"
   },
   {
    "duration": 3,
    "start_time": "2022-08-27T09:53:19.754Z"
   },
   {
    "duration": 2,
    "start_time": "2022-08-27T09:53:20.013Z"
   },
   {
    "duration": 2,
    "start_time": "2022-08-27T09:53:20.243Z"
   },
   {
    "duration": 2,
    "start_time": "2022-08-27T09:53:20.510Z"
   },
   {
    "duration": 2,
    "start_time": "2022-08-27T09:53:20.777Z"
   },
   {
    "duration": 4,
    "start_time": "2022-08-27T09:53:20.994Z"
   },
   {
    "duration": 47,
    "start_time": "2022-08-27T09:53:21.198Z"
   },
   {
    "duration": 526,
    "start_time": "2022-08-27T09:53:33.755Z"
   },
   {
    "duration": 379,
    "start_time": "2022-08-27T09:55:09.688Z"
   },
   {
    "duration": 297,
    "start_time": "2022-08-27T09:55:43.203Z"
   },
   {
    "duration": 312,
    "start_time": "2022-08-27T09:55:49.028Z"
   },
   {
    "duration": 343,
    "start_time": "2022-08-27T09:55:51.869Z"
   },
   {
    "duration": 365,
    "start_time": "2022-08-27T09:55:55.897Z"
   },
   {
    "duration": 282,
    "start_time": "2022-08-27T09:57:10.057Z"
   },
   {
    "duration": 371,
    "start_time": "2022-08-27T09:57:14.967Z"
   },
   {
    "duration": 314,
    "start_time": "2022-08-27T09:59:27.961Z"
   },
   {
    "duration": 336,
    "start_time": "2022-08-27T09:59:39.923Z"
   },
   {
    "duration": 278,
    "start_time": "2022-08-27T10:01:14.239Z"
   },
   {
    "duration": 294,
    "start_time": "2022-08-27T10:01:19.140Z"
   },
   {
    "duration": 384,
    "start_time": "2022-08-27T10:01:23.482Z"
   },
   {
    "duration": 308,
    "start_time": "2022-08-27T10:01:28.487Z"
   },
   {
    "duration": 283,
    "start_time": "2022-08-27T10:01:33.504Z"
   },
   {
    "duration": 288,
    "start_time": "2022-08-27T10:01:44.169Z"
   },
   {
    "duration": 307,
    "start_time": "2022-08-27T10:01:49.140Z"
   },
   {
    "duration": 141,
    "start_time": "2022-08-27T10:09:30.958Z"
   },
   {
    "duration": 432,
    "start_time": "2022-08-27T10:09:37.833Z"
   },
   {
    "duration": 282,
    "start_time": "2022-08-27T10:09:47.960Z"
   },
   {
    "duration": 306,
    "start_time": "2022-08-27T10:09:53.700Z"
   },
   {
    "duration": 291,
    "start_time": "2022-08-27T10:11:39.328Z"
   },
   {
    "duration": 330,
    "start_time": "2022-08-27T10:11:47.274Z"
   },
   {
    "duration": 403,
    "start_time": "2022-08-27T10:11:55.113Z"
   },
   {
    "duration": 468,
    "start_time": "2022-08-27T10:14:40.104Z"
   },
   {
    "duration": 331,
    "start_time": "2022-08-27T10:15:00.568Z"
   },
   {
    "duration": 373,
    "start_time": "2022-08-27T10:15:10.119Z"
   },
   {
    "duration": 364,
    "start_time": "2022-08-27T10:15:18.779Z"
   },
   {
    "duration": 361,
    "start_time": "2022-08-27T10:15:23.297Z"
   },
   {
    "duration": 466,
    "start_time": "2022-08-27T10:18:24.933Z"
   },
   {
    "duration": 423,
    "start_time": "2022-08-27T10:18:28.027Z"
   },
   {
    "duration": 13,
    "start_time": "2022-08-27T10:20:23.256Z"
   },
   {
    "duration": 1128,
    "start_time": "2022-08-27T10:21:43.086Z"
   },
   {
    "duration": 3,
    "start_time": "2022-08-27T10:21:52.089Z"
   },
   {
    "duration": 2,
    "start_time": "2022-08-27T10:21:52.252Z"
   },
   {
    "duration": 3,
    "start_time": "2022-08-27T10:21:52.417Z"
   },
   {
    "duration": 2,
    "start_time": "2022-08-27T10:21:52.586Z"
   },
   {
    "duration": 2,
    "start_time": "2022-08-27T10:21:52.720Z"
   },
   {
    "duration": 3,
    "start_time": "2022-08-27T10:21:52.899Z"
   },
   {
    "duration": 44,
    "start_time": "2022-08-27T10:21:53.087Z"
   },
   {
    "duration": 19,
    "start_time": "2022-08-27T10:21:53.665Z"
   },
   {
    "duration": 13,
    "start_time": "2022-08-27T10:21:54.434Z"
   },
   {
    "duration": 3,
    "start_time": "2022-08-27T10:21:59.933Z"
   },
   {
    "duration": 13,
    "start_time": "2022-08-27T10:22:00.283Z"
   },
   {
    "duration": 5,
    "start_time": "2022-08-27T10:22:00.967Z"
   },
   {
    "duration": 3,
    "start_time": "2022-08-27T10:22:01.672Z"
   },
   {
    "duration": 3,
    "start_time": "2022-08-27T10:22:02.000Z"
   },
   {
    "duration": 2,
    "start_time": "2022-08-27T10:22:02.683Z"
   },
   {
    "duration": 20,
    "start_time": "2022-08-27T10:22:03.320Z"
   },
   {
    "duration": 6,
    "start_time": "2022-08-27T10:22:16.866Z"
   },
   {
    "duration": 4,
    "start_time": "2022-08-27T10:22:26.205Z"
   },
   {
    "duration": 4,
    "start_time": "2022-08-27T10:23:12.237Z"
   },
   {
    "duration": 7,
    "start_time": "2022-08-27T10:23:13.817Z"
   },
   {
    "duration": 5,
    "start_time": "2022-08-27T10:23:26.306Z"
   },
   {
    "duration": 15,
    "start_time": "2022-08-27T10:23:32.874Z"
   },
   {
    "duration": 19,
    "start_time": "2022-08-27T10:23:44.868Z"
   },
   {
    "duration": 14,
    "start_time": "2022-08-27T10:23:52.102Z"
   },
   {
    "duration": 8,
    "start_time": "2022-08-27T10:23:53.167Z"
   },
   {
    "duration": 183,
    "start_time": "2022-08-27T10:31:41.996Z"
   },
   {
    "duration": 224,
    "start_time": "2022-08-27T10:31:49.908Z"
   },
   {
    "duration": 186,
    "start_time": "2022-08-27T10:32:00.325Z"
   },
   {
    "duration": 188,
    "start_time": "2022-08-27T10:32:07.822Z"
   },
   {
    "duration": 175,
    "start_time": "2022-08-27T10:32:13.240Z"
   },
   {
    "duration": 176,
    "start_time": "2022-08-27T10:32:19.743Z"
   },
   {
    "duration": 73,
    "start_time": "2022-08-27T10:33:41.580Z"
   },
   {
    "duration": 14,
    "start_time": "2022-08-27T10:33:46.988Z"
   },
   {
    "duration": 17,
    "start_time": "2022-08-27T10:33:53.714Z"
   },
   {
    "duration": 22,
    "start_time": "2022-08-27T10:34:30.170Z"
   },
   {
    "duration": 7,
    "start_time": "2022-08-27T10:34:41.826Z"
   },
   {
    "duration": 2,
    "start_time": "2022-08-27T10:35:08.412Z"
   },
   {
    "duration": 2,
    "start_time": "2022-08-27T10:35:08.546Z"
   },
   {
    "duration": 2,
    "start_time": "2022-08-27T10:35:08.687Z"
   },
   {
    "duration": 3,
    "start_time": "2022-08-27T10:35:08.813Z"
   },
   {
    "duration": 3,
    "start_time": "2022-08-27T10:35:08.934Z"
   },
   {
    "duration": 2,
    "start_time": "2022-08-27T10:35:09.061Z"
   },
   {
    "duration": 45,
    "start_time": "2022-08-27T10:35:09.189Z"
   },
   {
    "duration": 18,
    "start_time": "2022-08-27T10:35:09.330Z"
   },
   {
    "duration": 12,
    "start_time": "2022-08-27T10:35:09.614Z"
   },
   {
    "duration": 3,
    "start_time": "2022-08-27T10:35:10.111Z"
   },
   {
    "duration": 14,
    "start_time": "2022-08-27T10:35:10.250Z"
   },
   {
    "duration": 4,
    "start_time": "2022-08-27T10:35:13.767Z"
   },
   {
    "duration": 3,
    "start_time": "2022-08-27T10:35:14.071Z"
   },
   {
    "duration": 2,
    "start_time": "2022-08-27T10:35:14.212Z"
   },
   {
    "duration": 3,
    "start_time": "2022-08-27T10:35:14.499Z"
   },
   {
    "duration": 11,
    "start_time": "2022-08-27T10:35:14.634Z"
   },
   {
    "duration": 5,
    "start_time": "2022-08-27T10:35:15.117Z"
   },
   {
    "duration": 7,
    "start_time": "2022-08-27T10:35:15.246Z"
   },
   {
    "duration": 4,
    "start_time": "2022-08-27T10:35:15.585Z"
   },
   {
    "duration": 5,
    "start_time": "2022-08-27T10:35:15.744Z"
   },
   {
    "duration": 5,
    "start_time": "2022-08-27T10:35:15.885Z"
   },
   {
    "duration": 6,
    "start_time": "2022-08-27T10:35:16.199Z"
   },
   {
    "duration": 15,
    "start_time": "2022-08-27T10:35:16.362Z"
   },
   {
    "duration": 11,
    "start_time": "2022-08-27T10:35:16.801Z"
   },
   {
    "duration": 12,
    "start_time": "2022-08-27T10:35:20.175Z"
   },
   {
    "duration": 4,
    "start_time": "2022-08-27T10:35:22.795Z"
   },
   {
    "duration": 2,
    "start_time": "2022-08-27T10:35:23.096Z"
   },
   {
    "duration": 2,
    "start_time": "2022-08-27T10:35:23.254Z"
   },
   {
    "duration": 3,
    "start_time": "2022-08-27T10:35:23.562Z"
   },
   {
    "duration": 10,
    "start_time": "2022-08-27T10:35:23.700Z"
   },
   {
    "duration": 5,
    "start_time": "2022-08-27T10:35:24.153Z"
   },
   {
    "duration": 6,
    "start_time": "2022-08-27T10:35:24.313Z"
   },
   {
    "duration": 4,
    "start_time": "2022-08-27T10:35:24.634Z"
   },
   {
    "duration": 5,
    "start_time": "2022-08-27T10:35:24.799Z"
   },
   {
    "duration": 3,
    "start_time": "2022-08-27T10:35:24.946Z"
   },
   {
    "duration": 4,
    "start_time": "2022-08-27T10:35:25.291Z"
   },
   {
    "duration": 14,
    "start_time": "2022-08-27T10:35:25.445Z"
   },
   {
    "duration": 11,
    "start_time": "2022-08-27T10:35:25.919Z"
   },
   {
    "duration": 227,
    "start_time": "2022-08-27T10:35:26.080Z"
   },
   {
    "duration": 10,
    "start_time": "2022-08-27T10:35:26.783Z"
   },
   {
    "duration": 3,
    "start_time": "2022-08-27T10:35:27.095Z"
   },
   {
    "duration": 260,
    "start_time": "2022-08-27T10:35:27.363Z"
   },
   {
    "duration": 4,
    "start_time": "2022-08-27T10:35:27.624Z"
   },
   {
    "duration": 19,
    "start_time": "2022-08-27T10:35:28.265Z"
   },
   {
    "duration": 12,
    "start_time": "2022-08-27T10:35:28.625Z"
   },
   {
    "duration": 3,
    "start_time": "2022-08-27T10:35:28.952Z"
   },
   {
    "duration": 668,
    "start_time": "2022-08-27T10:35:29.114Z"
   },
   {
    "duration": 407,
    "start_time": "2022-08-27T10:35:29.784Z"
   },
   {
    "duration": 17,
    "start_time": "2022-08-27T10:35:30.366Z"
   },
   {
    "duration": 9,
    "start_time": "2022-08-27T10:35:30.552Z"
   },
   {
    "duration": 16,
    "start_time": "2022-08-27T10:36:08.972Z"
   },
   {
    "duration": 8,
    "start_time": "2022-08-27T10:36:09.408Z"
   },
   {
    "duration": 508,
    "start_time": "2022-08-27T10:37:24.862Z"
   },
   {
    "duration": 630,
    "start_time": "2022-08-27T10:37:31.199Z"
   },
   {
    "duration": 666,
    "start_time": "2022-08-27T10:38:34.008Z"
   },
   {
    "duration": 7,
    "start_time": "2022-08-27T10:47:37.072Z"
   },
   {
    "duration": 23,
    "start_time": "2022-08-27T11:03:52.607Z"
   },
   {
    "duration": 10,
    "start_time": "2022-08-27T11:04:19.682Z"
   },
   {
    "duration": 13,
    "start_time": "2022-08-27T11:06:49.607Z"
   },
   {
    "duration": 42,
    "start_time": "2022-08-27T11:07:03.256Z"
   },
   {
    "duration": 9,
    "start_time": "2022-08-27T11:07:10.689Z"
   },
   {
    "duration": 9,
    "start_time": "2022-08-27T11:07:13.674Z"
   },
   {
    "duration": 3,
    "start_time": "2022-08-27T11:08:53.998Z"
   },
   {
    "duration": 3,
    "start_time": "2022-08-27T11:09:08.933Z"
   },
   {
    "duration": 10,
    "start_time": "2022-08-27T11:13:52.982Z"
   },
   {
    "duration": 8,
    "start_time": "2022-08-27T11:18:22.006Z"
   },
   {
    "duration": 17,
    "start_time": "2022-08-27T11:20:21.582Z"
   },
   {
    "duration": 8,
    "start_time": "2022-08-27T11:20:29.555Z"
   },
   {
    "duration": 183,
    "start_time": "2022-08-27T11:23:05.774Z"
   },
   {
    "duration": 190,
    "start_time": "2022-08-27T11:23:21.148Z"
   },
   {
    "duration": 221,
    "start_time": "2022-08-27T11:23:24.385Z"
   },
   {
    "duration": 290,
    "start_time": "2022-08-27T11:23:26.627Z"
   },
   {
    "duration": 216,
    "start_time": "2022-08-27T11:23:33.141Z"
   },
   {
    "duration": 224,
    "start_time": "2022-08-27T11:24:10.297Z"
   },
   {
    "duration": 162,
    "start_time": "2022-08-27T11:24:30.314Z"
   },
   {
    "duration": 9,
    "start_time": "2022-08-27T11:40:09.117Z"
   },
   {
    "duration": 7,
    "start_time": "2022-08-27T11:40:47.561Z"
   },
   {
    "duration": 10,
    "start_time": "2022-08-27T11:40:48.755Z"
   },
   {
    "duration": 10,
    "start_time": "2022-08-27T11:40:49.826Z"
   },
   {
    "duration": 12,
    "start_time": "2022-08-27T11:41:03.735Z"
   },
   {
    "duration": 214,
    "start_time": "2022-08-27T11:48:46.078Z"
   },
   {
    "duration": 350,
    "start_time": "2022-08-27T11:49:35.084Z"
   },
   {
    "duration": 149,
    "start_time": "2022-08-27T11:50:31.660Z"
   },
   {
    "duration": 161,
    "start_time": "2022-08-27T11:50:51.261Z"
   },
   {
    "duration": 337,
    "start_time": "2022-08-27T11:51:21.947Z"
   },
   {
    "duration": 327,
    "start_time": "2022-08-27T11:51:27.832Z"
   },
   {
    "duration": 298,
    "start_time": "2022-08-27T11:51:33.331Z"
   },
   {
    "duration": 390,
    "start_time": "2022-08-27T11:52:14.576Z"
   },
   {
    "duration": 363,
    "start_time": "2022-08-27T11:52:17.120Z"
   },
   {
    "duration": 240,
    "start_time": "2022-08-27T11:52:41.402Z"
   },
   {
    "duration": 86,
    "start_time": "2022-08-27T11:53:15.277Z"
   },
   {
    "duration": 156,
    "start_time": "2022-08-27T11:53:21.511Z"
   },
   {
    "duration": 170,
    "start_time": "2022-08-27T11:53:32.096Z"
   },
   {
    "duration": 341,
    "start_time": "2022-08-27T11:53:36.289Z"
   },
   {
    "duration": 10,
    "start_time": "2022-08-27T11:55:01.123Z"
   },
   {
    "duration": 248,
    "start_time": "2022-08-27T11:55:24.502Z"
   },
   {
    "duration": 361,
    "start_time": "2022-08-27T11:55:34.712Z"
   },
   {
    "duration": 281,
    "start_time": "2022-08-27T11:55:38.590Z"
   },
   {
    "duration": 257,
    "start_time": "2022-08-27T11:55:50.173Z"
   },
   {
    "duration": 260,
    "start_time": "2022-08-27T11:56:15.347Z"
   },
   {
    "duration": 217,
    "start_time": "2022-08-27T11:56:18.313Z"
   },
   {
    "duration": 240,
    "start_time": "2022-08-27T11:56:56.821Z"
   },
   {
    "duration": 276,
    "start_time": "2022-08-27T11:57:06.435Z"
   },
   {
    "duration": 322,
    "start_time": "2022-08-27T11:57:36.100Z"
   },
   {
    "duration": 239,
    "start_time": "2022-08-27T11:59:25.868Z"
   },
   {
    "duration": 291,
    "start_time": "2022-08-27T11:59:45.028Z"
   },
   {
    "duration": 313,
    "start_time": "2022-08-27T12:00:02.950Z"
   },
   {
    "duration": 789,
    "start_time": "2022-08-27T12:00:11.284Z"
   },
   {
    "duration": 308,
    "start_time": "2022-08-27T12:00:16.357Z"
   },
   {
    "duration": 250,
    "start_time": "2022-08-27T12:00:20.533Z"
   },
   {
    "duration": 276,
    "start_time": "2022-08-27T12:04:34.399Z"
   },
   {
    "duration": 284,
    "start_time": "2022-08-27T12:04:38.150Z"
   },
   {
    "duration": 3,
    "start_time": "2022-08-27T12:07:33.030Z"
   },
   {
    "duration": 1235,
    "start_time": "2022-08-27T12:11:12.473Z"
   },
   {
    "duration": 4268,
    "start_time": "2022-08-27T12:11:20.521Z"
   },
   {
    "duration": 12,
    "start_time": "2022-08-27T12:11:31.436Z"
   },
   {
    "duration": 11,
    "start_time": "2022-08-27T12:11:38.919Z"
   },
   {
    "duration": 1430,
    "start_time": "2022-08-27T12:11:48.092Z"
   },
   {
    "duration": 184,
    "start_time": "2022-08-27T12:14:23.027Z"
   },
   {
    "duration": 239,
    "start_time": "2022-08-27T12:14:29.578Z"
   },
   {
    "duration": 10,
    "start_time": "2022-08-27T12:15:11.962Z"
   },
   {
    "duration": 8,
    "start_time": "2022-08-27T12:15:37.461Z"
   },
   {
    "duration": 7,
    "start_time": "2022-08-27T12:15:42.222Z"
   },
   {
    "duration": 196,
    "start_time": "2022-08-27T12:15:42.950Z"
   },
   {
    "duration": 7,
    "start_time": "2022-08-27T12:17:03.671Z"
   },
   {
    "duration": 184,
    "start_time": "2022-08-27T12:17:04.660Z"
   },
   {
    "duration": 9,
    "start_time": "2022-08-27T12:17:25.849Z"
   },
   {
    "duration": 190,
    "start_time": "2022-08-27T12:17:37.843Z"
   },
   {
    "duration": 7,
    "start_time": "2022-08-27T12:17:55.172Z"
   },
   {
    "duration": 172,
    "start_time": "2022-08-27T12:18:05.697Z"
   },
   {
    "duration": 229,
    "start_time": "2022-08-27T12:34:01.856Z"
   },
   {
    "duration": 249,
    "start_time": "2022-08-27T12:34:09.132Z"
   },
   {
    "duration": 214,
    "start_time": "2022-08-27T12:34:12.637Z"
   },
   {
    "duration": 9,
    "start_time": "2022-08-27T12:34:45.273Z"
   },
   {
    "duration": 296,
    "start_time": "2022-08-27T12:34:59.942Z"
   },
   {
    "duration": 182,
    "start_time": "2022-08-27T12:35:18.104Z"
   },
   {
    "duration": 190,
    "start_time": "2022-08-27T12:35:42.569Z"
   },
   {
    "duration": 159,
    "start_time": "2022-08-27T12:37:12.725Z"
   },
   {
    "duration": 171,
    "start_time": "2022-08-27T12:38:17.158Z"
   },
   {
    "duration": 184,
    "start_time": "2022-08-27T12:38:32.728Z"
   },
   {
    "duration": 7,
    "start_time": "2022-08-27T12:38:49.837Z"
   },
   {
    "duration": 227,
    "start_time": "2022-08-27T12:38:50.555Z"
   },
   {
    "duration": 236,
    "start_time": "2022-08-27T12:38:56.982Z"
   },
   {
    "duration": 10,
    "start_time": "2022-08-27T12:39:57.813Z"
   },
   {
    "duration": 9,
    "start_time": "2022-08-27T12:40:27.740Z"
   },
   {
    "duration": 213,
    "start_time": "2022-08-27T12:40:28.153Z"
   },
   {
    "duration": 15,
    "start_time": "2022-08-27T12:40:29.902Z"
   },
   {
    "duration": 289,
    "start_time": "2022-08-27T12:40:30.169Z"
   },
   {
    "duration": 29,
    "start_time": "2022-08-27T12:46:21.012Z"
   },
   {
    "duration": 27,
    "start_time": "2022-08-27T12:46:32.127Z"
   },
   {
    "duration": 5,
    "start_time": "2022-08-27T12:47:04.579Z"
   },
   {
    "duration": 5,
    "start_time": "2022-08-27T12:47:43.796Z"
   },
   {
    "duration": 6,
    "start_time": "2022-08-27T12:47:55.797Z"
   },
   {
    "duration": 5,
    "start_time": "2022-08-27T12:48:03.285Z"
   },
   {
    "duration": 84,
    "start_time": "2022-08-27T12:48:25.555Z"
   },
   {
    "duration": 15,
    "start_time": "2022-08-27T12:48:35.372Z"
   },
   {
    "duration": 10,
    "start_time": "2022-08-27T12:48:57.821Z"
   },
   {
    "duration": 15,
    "start_time": "2022-08-27T13:13:41.399Z"
   },
   {
    "duration": 13,
    "start_time": "2022-08-27T13:16:24.708Z"
   },
   {
    "duration": 13,
    "start_time": "2022-08-27T13:17:39.805Z"
   },
   {
    "duration": 14,
    "start_time": "2022-08-27T13:17:44.344Z"
   },
   {
    "duration": 3,
    "start_time": "2022-08-27T13:18:24.740Z"
   },
   {
    "duration": 13,
    "start_time": "2022-08-27T13:18:42.236Z"
   },
   {
    "duration": 21,
    "start_time": "2022-08-27T13:21:42.535Z"
   },
   {
    "duration": 15,
    "start_time": "2022-08-27T13:22:01.434Z"
   },
   {
    "duration": 8,
    "start_time": "2022-08-27T13:24:02.420Z"
   },
   {
    "duration": 15,
    "start_time": "2022-08-27T13:25:14.090Z"
   },
   {
    "duration": 29,
    "start_time": "2022-08-27T13:25:59.774Z"
   },
   {
    "duration": 9,
    "start_time": "2022-08-27T13:56:46.826Z"
   },
   {
    "duration": 10,
    "start_time": "2022-08-27T13:57:11.617Z"
   },
   {
    "duration": 12,
    "start_time": "2022-08-27T13:59:23.996Z"
   },
   {
    "duration": 9,
    "start_time": "2022-08-27T13:59:32.362Z"
   },
   {
    "duration": 10,
    "start_time": "2022-08-27T13:59:54.751Z"
   },
   {
    "duration": 8,
    "start_time": "2022-08-27T14:01:10.416Z"
   },
   {
    "duration": 398,
    "start_time": "2022-08-27T14:01:58.608Z"
   },
   {
    "duration": 219,
    "start_time": "2022-08-27T14:01:59.008Z"
   },
   {
    "duration": 2,
    "start_time": "2022-08-27T14:01:59.229Z"
   },
   {
    "duration": 430,
    "start_time": "2022-08-27T14:01:59.232Z"
   },
   {
    "duration": 2,
    "start_time": "2022-08-27T14:01:59.665Z"
   },
   {
    "duration": 78,
    "start_time": "2022-08-27T14:01:59.669Z"
   },
   {
    "duration": 133,
    "start_time": "2022-08-27T14:01:59.749Z"
   },
   {
    "duration": 21,
    "start_time": "2022-08-27T14:01:59.884Z"
   },
   {
    "duration": 12,
    "start_time": "2022-08-27T14:01:59.906Z"
   },
   {
    "duration": 3,
    "start_time": "2022-08-27T14:01:59.919Z"
   },
   {
    "duration": 15,
    "start_time": "2022-08-27T14:01:59.923Z"
   },
   {
    "duration": 4,
    "start_time": "2022-08-27T14:01:59.939Z"
   },
   {
    "duration": 4,
    "start_time": "2022-08-27T14:01:59.944Z"
   },
   {
    "duration": 4,
    "start_time": "2022-08-27T14:01:59.950Z"
   },
   {
    "duration": 6,
    "start_time": "2022-08-27T14:01:59.956Z"
   },
   {
    "duration": 13,
    "start_time": "2022-08-27T14:01:59.963Z"
   },
   {
    "duration": 4,
    "start_time": "2022-08-27T14:01:59.977Z"
   },
   {
    "duration": 27,
    "start_time": "2022-08-27T14:01:59.982Z"
   },
   {
    "duration": 6,
    "start_time": "2022-08-27T14:02:00.011Z"
   },
   {
    "duration": 9,
    "start_time": "2022-08-27T14:02:00.019Z"
   },
   {
    "duration": 10,
    "start_time": "2022-08-27T14:02:00.030Z"
   },
   {
    "duration": 12,
    "start_time": "2022-08-27T14:02:00.042Z"
   },
   {
    "duration": 20,
    "start_time": "2022-08-27T14:02:00.056Z"
   },
   {
    "duration": 17,
    "start_time": "2022-08-27T14:02:00.077Z"
   },
   {
    "duration": 210,
    "start_time": "2022-08-27T14:02:00.096Z"
   },
   {
    "duration": 10,
    "start_time": "2022-08-27T14:02:00.308Z"
   },
   {
    "duration": 15,
    "start_time": "2022-08-27T14:02:00.320Z"
   },
   {
    "duration": 350,
    "start_time": "2022-08-27T14:02:00.336Z"
   },
   {
    "duration": 4,
    "start_time": "2022-08-27T14:02:00.688Z"
   },
   {
    "duration": 29,
    "start_time": "2022-08-27T14:02:00.693Z"
   },
   {
    "duration": 10,
    "start_time": "2022-08-27T14:02:00.724Z"
   },
   {
    "duration": 12,
    "start_time": "2022-08-27T14:02:00.736Z"
   },
   {
    "duration": 539,
    "start_time": "2022-08-27T14:02:00.749Z"
   },
   {
    "duration": 295,
    "start_time": "2022-08-27T14:02:01.290Z"
   },
   {
    "duration": 21,
    "start_time": "2022-08-27T14:02:01.586Z"
   },
   {
    "duration": 716,
    "start_time": "2022-08-27T14:02:01.608Z"
   },
   {
    "duration": 12,
    "start_time": "2022-08-27T14:02:02.325Z"
   },
   {
    "duration": 25,
    "start_time": "2022-08-27T14:02:02.338Z"
   },
   {
    "duration": 180,
    "start_time": "2022-08-27T14:02:02.365Z"
   },
   {
    "duration": 8,
    "start_time": "2022-08-27T14:02:02.547Z"
   },
   {
    "duration": 172,
    "start_time": "2022-08-27T14:02:02.559Z"
   },
   {
    "duration": 7,
    "start_time": "2022-08-27T14:02:02.733Z"
   },
   {
    "duration": 134,
    "start_time": "2022-08-27T14:02:02.741Z"
   },
   {
    "duration": 97,
    "start_time": "2022-08-27T14:02:02.876Z"
   },
   {
    "duration": 8,
    "start_time": "2022-08-27T14:02:02.975Z"
   },
   {
    "duration": 137,
    "start_time": "2022-08-27T14:02:02.985Z"
   },
   {
    "duration": 96,
    "start_time": "2022-08-27T14:02:03.124Z"
   },
   {
    "duration": 7,
    "start_time": "2022-08-27T14:02:03.221Z"
   },
   {
    "duration": 138,
    "start_time": "2022-08-27T14:02:03.229Z"
   },
   {
    "duration": 97,
    "start_time": "2022-08-27T14:02:03.368Z"
   },
   {
    "duration": 6,
    "start_time": "2022-08-27T14:02:03.467Z"
   },
   {
    "duration": 214,
    "start_time": "2022-08-27T14:02:03.474Z"
   },
   {
    "duration": 16,
    "start_time": "2022-08-27T14:02:03.690Z"
   },
   {
    "duration": 132,
    "start_time": "2022-08-27T14:02:03.707Z"
   },
   {
    "duration": 8,
    "start_time": "2022-08-27T14:02:03.841Z"
   },
   {
    "duration": 149,
    "start_time": "2022-08-27T14:02:03.851Z"
   },
   {
    "duration": 17,
    "start_time": "2022-08-27T14:02:04.002Z"
   },
   {
    "duration": 13,
    "start_time": "2022-08-27T14:02:04.021Z"
   },
   {
    "duration": 14,
    "start_time": "2022-08-27T14:02:04.037Z"
   },
   {
    "duration": 15,
    "start_time": "2022-08-27T14:02:04.052Z"
   },
   {
    "duration": 40,
    "start_time": "2022-08-27T14:02:04.069Z"
   },
   {
    "duration": 3,
    "start_time": "2022-08-27T14:08:47.016Z"
   },
   {
    "duration": 226,
    "start_time": "2022-08-27T14:29:01.969Z"
   },
   {
    "duration": 11,
    "start_time": "2022-08-27T14:29:02.832Z"
   },
   {
    "duration": 225,
    "start_time": "2022-08-27T14:29:03.233Z"
   },
   {
    "duration": 9,
    "start_time": "2022-08-27T14:29:04.835Z"
   },
   {
    "duration": 192,
    "start_time": "2022-08-27T14:29:04.986Z"
   },
   {
    "duration": 164,
    "start_time": "2022-08-27T14:29:05.181Z"
   },
   {
    "duration": 9,
    "start_time": "2022-08-27T14:29:05.941Z"
   },
   {
    "duration": 205,
    "start_time": "2022-08-27T14:29:06.123Z"
   },
   {
    "duration": 137,
    "start_time": "2022-08-27T14:29:06.330Z"
   },
   {
    "duration": 8,
    "start_time": "2022-08-27T14:29:07.077Z"
   },
   {
    "duration": 141,
    "start_time": "2022-08-27T14:29:07.251Z"
   },
   {
    "duration": 100,
    "start_time": "2022-08-27T14:29:07.450Z"
   },
   {
    "duration": 10,
    "start_time": "2022-08-27T14:29:08.531Z"
   },
   {
    "duration": 206,
    "start_time": "2022-08-27T14:29:08.576Z"
   },
   {
    "duration": 12,
    "start_time": "2022-08-27T14:29:08.802Z"
   },
   {
    "duration": 304,
    "start_time": "2022-08-27T14:29:09.232Z"
   },
   {
    "duration": 9,
    "start_time": "2022-08-27T14:29:09.632Z"
   },
   {
    "duration": 221,
    "start_time": "2022-08-27T14:29:09.826Z"
   },
   {
    "duration": 21,
    "start_time": "2022-08-27T14:29:10.640Z"
   },
   {
    "duration": 21,
    "start_time": "2022-08-27T14:29:11.168Z"
   },
   {
    "duration": 19,
    "start_time": "2022-08-27T14:29:11.688Z"
   },
   {
    "duration": 21,
    "start_time": "2022-08-27T14:29:12.999Z"
   },
   {
    "duration": 15,
    "start_time": "2022-08-27T14:29:13.627Z"
   },
   {
    "duration": 13,
    "start_time": "2022-08-27T14:29:14.133Z"
   },
   {
    "duration": 11,
    "start_time": "2022-08-27T15:30:53.852Z"
   },
   {
    "duration": 12,
    "start_time": "2022-08-27T15:30:58.327Z"
   },
   {
    "duration": 18,
    "start_time": "2022-08-27T15:32:51.631Z"
   },
   {
    "duration": 5,
    "start_time": "2022-08-27T15:32:52.984Z"
   },
   {
    "duration": 6,
    "start_time": "2022-08-27T15:33:02.577Z"
   },
   {
    "duration": 5,
    "start_time": "2022-08-27T15:33:03.564Z"
   },
   {
    "duration": 10,
    "start_time": "2022-08-27T15:33:05.404Z"
   },
   {
    "duration": 4,
    "start_time": "2022-08-27T15:33:05.964Z"
   },
   {
    "duration": 12,
    "start_time": "2022-08-27T15:37:19.132Z"
   },
   {
    "duration": 11,
    "start_time": "2022-08-27T15:37:29.786Z"
   },
   {
    "duration": 9,
    "start_time": "2022-08-27T15:37:34.971Z"
   },
   {
    "duration": 19,
    "start_time": "2022-08-27T15:38:13.422Z"
   },
   {
    "duration": 9,
    "start_time": "2022-08-27T15:38:24.068Z"
   },
   {
    "duration": 9,
    "start_time": "2022-08-27T15:40:32.187Z"
   },
   {
    "duration": 10,
    "start_time": "2022-08-27T15:40:39.761Z"
   },
   {
    "duration": 9,
    "start_time": "2022-08-27T15:40:54.777Z"
   },
   {
    "duration": 9,
    "start_time": "2022-08-27T15:40:57.275Z"
   },
   {
    "duration": 20,
    "start_time": "2022-08-27T15:41:06.425Z"
   },
   {
    "duration": 8,
    "start_time": "2022-08-27T15:41:12.592Z"
   },
   {
    "duration": 8,
    "start_time": "2022-08-27T15:42:13.188Z"
   },
   {
    "duration": 11,
    "start_time": "2022-08-27T15:42:23.671Z"
   },
   {
    "duration": 10,
    "start_time": "2022-08-27T15:42:41.286Z"
   },
   {
    "duration": 15,
    "start_time": "2022-08-27T15:43:09.749Z"
   },
   {
    "duration": 10,
    "start_time": "2022-08-27T15:43:18.678Z"
   },
   {
    "duration": 19,
    "start_time": "2022-08-27T15:43:28.027Z"
   },
   {
    "duration": 9,
    "start_time": "2022-08-27T15:43:37.978Z"
   },
   {
    "duration": 17,
    "start_time": "2022-08-27T15:44:15.624Z"
   },
   {
    "duration": 10,
    "start_time": "2022-08-27T15:45:50.153Z"
   },
   {
    "duration": 14,
    "start_time": "2022-08-27T15:45:59.096Z"
   },
   {
    "duration": 5,
    "start_time": "2022-08-27T15:46:23.552Z"
   },
   {
    "duration": 6,
    "start_time": "2022-08-27T15:46:47.229Z"
   },
   {
    "duration": 15,
    "start_time": "2022-08-27T15:46:57.338Z"
   },
   {
    "duration": 14,
    "start_time": "2022-08-27T15:49:29.306Z"
   },
   {
    "duration": 9,
    "start_time": "2022-08-27T15:49:46.737Z"
   },
   {
    "duration": 11,
    "start_time": "2022-08-27T15:49:53.484Z"
   },
   {
    "duration": 14,
    "start_time": "2022-08-27T16:05:37.286Z"
   },
   {
    "duration": 27,
    "start_time": "2022-08-27T16:05:46.402Z"
   },
   {
    "duration": 9,
    "start_time": "2022-08-27T16:06:02.058Z"
   },
   {
    "duration": 9,
    "start_time": "2022-08-27T16:06:07.976Z"
   },
   {
    "duration": 16,
    "start_time": "2022-08-27T16:08:35.025Z"
   },
   {
    "duration": 4,
    "start_time": "2022-08-27T16:09:57.324Z"
   },
   {
    "duration": 5,
    "start_time": "2022-08-27T16:10:41.442Z"
   },
   {
    "duration": 5,
    "start_time": "2022-08-27T16:10:48.394Z"
   },
   {
    "duration": 6,
    "start_time": "2022-08-27T16:11:03.361Z"
   },
   {
    "duration": 5,
    "start_time": "2022-08-27T16:11:13.554Z"
   },
   {
    "duration": 4,
    "start_time": "2022-08-27T16:11:23.465Z"
   },
   {
    "duration": 9,
    "start_time": "2022-08-27T16:11:26.132Z"
   },
   {
    "duration": 4,
    "start_time": "2022-08-27T16:11:42.497Z"
   },
   {
    "duration": 3,
    "start_time": "2022-08-27T16:11:50.747Z"
   },
   {
    "duration": 11,
    "start_time": "2022-08-27T16:19:43.153Z"
   },
   {
    "duration": 16,
    "start_time": "2022-08-27T16:23:38.692Z"
   },
   {
    "duration": 11,
    "start_time": "2022-08-27T16:24:10.841Z"
   },
   {
    "duration": 18,
    "start_time": "2022-08-27T16:24:32.244Z"
   },
   {
    "duration": 12,
    "start_time": "2022-08-27T16:25:00.896Z"
   },
   {
    "duration": 10,
    "start_time": "2022-08-27T16:25:38.936Z"
   },
   {
    "duration": 9,
    "start_time": "2022-08-27T16:27:23.382Z"
   },
   {
    "duration": 4,
    "start_time": "2022-08-27T16:28:57.962Z"
   },
   {
    "duration": 4,
    "start_time": "2022-08-27T16:29:10.653Z"
   },
   {
    "duration": 4,
    "start_time": "2022-08-27T16:29:14.036Z"
   },
   {
    "duration": 10,
    "start_time": "2022-08-27T16:31:20.812Z"
   },
   {
    "duration": 9,
    "start_time": "2022-08-27T16:31:25.258Z"
   },
   {
    "duration": 10,
    "start_time": "2022-08-27T16:32:02.295Z"
   },
   {
    "duration": 13,
    "start_time": "2022-08-27T16:32:08.534Z"
   },
   {
    "duration": 8,
    "start_time": "2022-08-27T16:32:12.984Z"
   },
   {
    "duration": 9,
    "start_time": "2022-08-27T16:32:18.564Z"
   },
   {
    "duration": 8,
    "start_time": "2022-08-27T16:32:21.364Z"
   },
   {
    "duration": 10,
    "start_time": "2022-08-27T16:32:37.152Z"
   },
   {
    "duration": 4,
    "start_time": "2022-08-27T16:34:02.845Z"
   },
   {
    "duration": 4,
    "start_time": "2022-08-27T16:34:03.560Z"
   },
   {
    "duration": 33,
    "start_time": "2022-08-27T17:42:48.007Z"
   },
   {
    "duration": 18,
    "start_time": "2022-08-27T17:43:00.942Z"
   },
   {
    "duration": 28,
    "start_time": "2022-08-27T17:43:22.018Z"
   },
   {
    "duration": 15,
    "start_time": "2022-08-27T20:10:53.374Z"
   },
   {
    "duration": 8,
    "start_time": "2022-08-27T20:11:20.630Z"
   },
   {
    "duration": 8,
    "start_time": "2022-08-27T20:11:27.933Z"
   },
   {
    "duration": 16,
    "start_time": "2022-08-27T20:12:31.260Z"
   },
   {
    "duration": 10,
    "start_time": "2022-08-27T20:12:41.806Z"
   },
   {
    "duration": 9,
    "start_time": "2022-08-27T20:12:49.404Z"
   },
   {
    "duration": 14,
    "start_time": "2022-08-27T20:13:11.911Z"
   },
   {
    "duration": 8,
    "start_time": "2022-08-27T20:13:19.398Z"
   },
   {
    "duration": 9,
    "start_time": "2022-08-27T20:13:23.085Z"
   },
   {
    "duration": 16,
    "start_time": "2022-08-27T20:13:35.712Z"
   },
   {
    "duration": 10,
    "start_time": "2022-08-27T20:13:46.032Z"
   },
   {
    "duration": 662,
    "start_time": "2022-08-27T20:17:21.057Z"
   },
   {
    "duration": 15,
    "start_time": "2022-08-27T20:17:50.885Z"
   },
   {
    "duration": 14,
    "start_time": "2022-08-27T20:18:02.753Z"
   },
   {
    "duration": 122,
    "start_time": "2022-08-27T20:19:01.057Z"
   },
   {
    "duration": 136,
    "start_time": "2022-08-27T20:19:18.825Z"
   },
   {
    "duration": 132,
    "start_time": "2022-08-27T20:19:35.660Z"
   },
   {
    "duration": 177,
    "start_time": "2022-08-27T20:19:45.965Z"
   },
   {
    "duration": 136,
    "start_time": "2022-08-27T20:19:55.263Z"
   },
   {
    "duration": 134,
    "start_time": "2022-08-27T20:20:07.918Z"
   },
   {
    "duration": 156,
    "start_time": "2022-08-27T20:20:22.867Z"
   },
   {
    "duration": 7,
    "start_time": "2022-08-27T20:20:23.293Z"
   },
   {
    "duration": 138,
    "start_time": "2022-08-27T20:20:23.450Z"
   },
   {
    "duration": 7,
    "start_time": "2022-08-27T20:20:23.736Z"
   },
   {
    "duration": 157,
    "start_time": "2022-08-27T20:20:23.898Z"
   },
   {
    "duration": 150,
    "start_time": "2022-08-27T20:20:50.668Z"
   },
   {
    "duration": 230,
    "start_time": "2022-08-27T20:20:56.286Z"
   },
   {
    "duration": 128,
    "start_time": "2022-08-27T20:21:01.337Z"
   },
   {
    "duration": 142,
    "start_time": "2022-08-27T20:21:08.526Z"
   },
   {
    "duration": 144,
    "start_time": "2022-08-27T20:21:21.191Z"
   },
   {
    "duration": 156,
    "start_time": "2022-08-27T20:21:28.637Z"
   },
   {
    "duration": 137,
    "start_time": "2022-08-27T20:21:43.285Z"
   },
   {
    "duration": 136,
    "start_time": "2022-08-27T20:21:48.944Z"
   },
   {
    "duration": 127,
    "start_time": "2022-08-27T20:22:41.652Z"
   },
   {
    "duration": 137,
    "start_time": "2022-08-27T20:22:47.203Z"
   },
   {
    "duration": 127,
    "start_time": "2022-08-27T20:22:56.643Z"
   },
   {
    "duration": 10,
    "start_time": "2022-08-27T20:40:44.371Z"
   },
   {
    "duration": 50,
    "start_time": "2022-08-28T07:03:12.087Z"
   },
   {
    "duration": 1393,
    "start_time": "2022-08-28T07:03:19.810Z"
   },
   {
    "duration": 96,
    "start_time": "2022-08-28T07:03:21.208Z"
   },
   {
    "duration": 37,
    "start_time": "2022-08-28T07:03:21.306Z"
   },
   {
    "duration": 18,
    "start_time": "2022-08-28T07:03:21.346Z"
   },
   {
    "duration": 4,
    "start_time": "2022-08-28T07:03:21.365Z"
   },
   {
    "duration": 45,
    "start_time": "2022-08-28T07:03:21.370Z"
   },
   {
    "duration": 4,
    "start_time": "2022-08-28T07:03:21.417Z"
   },
   {
    "duration": 6,
    "start_time": "2022-08-28T07:03:21.423Z"
   },
   {
    "duration": 20,
    "start_time": "2022-08-28T07:03:21.431Z"
   },
   {
    "duration": 5,
    "start_time": "2022-08-28T07:03:21.454Z"
   },
   {
    "duration": 9,
    "start_time": "2022-08-28T07:03:21.461Z"
   },
   {
    "duration": 37,
    "start_time": "2022-08-28T07:03:21.472Z"
   },
   {
    "duration": 6,
    "start_time": "2022-08-28T07:03:21.510Z"
   },
   {
    "duration": 10,
    "start_time": "2022-08-28T07:03:21.519Z"
   },
   {
    "duration": 14,
    "start_time": "2022-08-28T07:03:21.531Z"
   },
   {
    "duration": 22,
    "start_time": "2022-08-28T07:03:21.547Z"
   },
   {
    "duration": 15,
    "start_time": "2022-08-28T07:03:21.571Z"
   },
   {
    "duration": 259,
    "start_time": "2022-08-28T07:03:21.610Z"
   },
   {
    "duration": 13,
    "start_time": "2022-08-28T07:03:21.871Z"
   },
   {
    "duration": 3,
    "start_time": "2022-08-28T07:03:21.886Z"
   },
   {
    "duration": 461,
    "start_time": "2022-08-28T07:03:21.890Z"
   },
   {
    "duration": 5,
    "start_time": "2022-08-28T07:03:22.353Z"
   },
   {
    "duration": 24,
    "start_time": "2022-08-28T07:03:22.360Z"
   },
   {
    "duration": 32,
    "start_time": "2022-08-28T07:03:22.386Z"
   },
   {
    "duration": 4,
    "start_time": "2022-08-28T07:03:22.420Z"
   },
   {
    "duration": 643,
    "start_time": "2022-08-28T07:03:22.427Z"
   },
   {
    "duration": 355,
    "start_time": "2022-08-28T07:03:23.072Z"
   },
   {
    "duration": 18,
    "start_time": "2022-08-28T07:03:23.431Z"
   },
   {
    "duration": 891,
    "start_time": "2022-08-28T07:03:23.451Z"
   },
   {
    "duration": 8,
    "start_time": "2022-08-28T07:03:24.344Z"
   },
   {
    "duration": 20,
    "start_time": "2022-08-28T07:03:24.354Z"
   },
   {
    "duration": 36,
    "start_time": "2022-08-28T07:03:24.376Z"
   },
   {
    "duration": 19,
    "start_time": "2022-08-28T07:03:24.414Z"
   },
   {
    "duration": 8,
    "start_time": "2022-08-28T07:03:24.434Z"
   },
   {
    "duration": 18,
    "start_time": "2022-08-28T07:03:24.444Z"
   },
   {
    "duration": 10,
    "start_time": "2022-08-28T07:03:24.463Z"
   },
   {
    "duration": 17,
    "start_time": "2022-08-28T07:03:24.509Z"
   },
   {
    "duration": 12,
    "start_time": "2022-08-28T07:03:24.528Z"
   },
   {
    "duration": 10,
    "start_time": "2022-08-28T07:03:24.542Z"
   },
   {
    "duration": 251,
    "start_time": "2022-08-28T07:03:24.554Z"
   },
   {
    "duration": 10,
    "start_time": "2022-08-28T07:03:24.810Z"
   },
   {
    "duration": 215,
    "start_time": "2022-08-28T07:03:24.822Z"
   },
   {
    "duration": 7,
    "start_time": "2022-08-28T07:03:25.039Z"
   },
   {
    "duration": 174,
    "start_time": "2022-08-28T07:03:25.048Z"
   },
   {
    "duration": 129,
    "start_time": "2022-08-28T07:03:25.224Z"
   },
   {
    "duration": 9,
    "start_time": "2022-08-28T07:03:25.354Z"
   },
   {
    "duration": 188,
    "start_time": "2022-08-28T07:03:25.366Z"
   },
   {
    "duration": 111,
    "start_time": "2022-08-28T07:03:25.556Z"
   },
   {
    "duration": 9,
    "start_time": "2022-08-28T07:03:25.670Z"
   },
   {
    "duration": 175,
    "start_time": "2022-08-28T07:03:25.681Z"
   },
   {
    "duration": 133,
    "start_time": "2022-08-28T07:03:25.858Z"
   },
   {
    "duration": 16,
    "start_time": "2022-08-28T07:03:25.993Z"
   },
   {
    "duration": 258,
    "start_time": "2022-08-28T07:03:26.011Z"
   },
   {
    "duration": 8,
    "start_time": "2022-08-28T07:03:26.271Z"
   },
   {
    "duration": 169,
    "start_time": "2022-08-28T07:03:26.281Z"
   },
   {
    "duration": 8,
    "start_time": "2022-08-28T07:03:26.451Z"
   },
   {
    "duration": 162,
    "start_time": "2022-08-28T07:03:26.461Z"
   },
   {
    "duration": 18,
    "start_time": "2022-08-28T07:03:26.625Z"
   },
   {
    "duration": 19,
    "start_time": "2022-08-28T07:03:26.646Z"
   },
   {
    "duration": 49,
    "start_time": "2022-08-28T07:03:26.668Z"
   },
   {
    "duration": 13,
    "start_time": "2022-08-28T07:03:26.719Z"
   },
   {
    "duration": 0,
    "start_time": "2022-08-28T07:03:26.734Z"
   },
   {
    "duration": 0,
    "start_time": "2022-08-28T07:03:26.736Z"
   },
   {
    "duration": 0,
    "start_time": "2022-08-28T07:03:26.738Z"
   },
   {
    "duration": 0,
    "start_time": "2022-08-28T07:03:26.739Z"
   },
   {
    "duration": 0,
    "start_time": "2022-08-28T07:03:26.741Z"
   },
   {
    "duration": 10,
    "start_time": "2022-08-28T07:03:40.356Z"
   },
   {
    "duration": 3,
    "start_time": "2022-08-28T07:03:46.141Z"
   },
   {
    "duration": 66,
    "start_time": "2022-08-28T07:03:46.305Z"
   },
   {
    "duration": 20,
    "start_time": "2022-08-28T07:03:46.442Z"
   },
   {
    "duration": 22,
    "start_time": "2022-08-28T07:03:46.734Z"
   },
   {
    "duration": 3,
    "start_time": "2022-08-28T07:03:47.664Z"
   },
   {
    "duration": 15,
    "start_time": "2022-08-28T07:03:47.962Z"
   },
   {
    "duration": 5,
    "start_time": "2022-08-28T07:03:48.290Z"
   },
   {
    "duration": 3,
    "start_time": "2022-08-28T07:03:48.752Z"
   },
   {
    "duration": 13,
    "start_time": "2022-08-28T07:03:48.923Z"
   },
   {
    "duration": 6,
    "start_time": "2022-08-28T07:03:49.398Z"
   },
   {
    "duration": 7,
    "start_time": "2022-08-28T07:03:49.561Z"
   },
   {
    "duration": 5,
    "start_time": "2022-08-28T07:03:49.873Z"
   },
   {
    "duration": 7,
    "start_time": "2022-08-28T07:03:50.190Z"
   },
   {
    "duration": 5,
    "start_time": "2022-08-28T07:03:50.347Z"
   },
   {
    "duration": 6,
    "start_time": "2022-08-28T07:03:50.682Z"
   },
   {
    "duration": 15,
    "start_time": "2022-08-28T07:03:51.007Z"
   },
   {
    "duration": 13,
    "start_time": "2022-08-28T07:03:51.998Z"
   },
   {
    "duration": 214,
    "start_time": "2022-08-28T07:03:52.182Z"
   },
   {
    "duration": 14,
    "start_time": "2022-08-28T07:03:53.008Z"
   },
   {
    "duration": 4,
    "start_time": "2022-08-28T07:03:53.353Z"
   },
   {
    "duration": 308,
    "start_time": "2022-08-28T07:03:53.515Z"
   },
   {
    "duration": 5,
    "start_time": "2022-08-28T07:03:53.825Z"
   },
   {
    "duration": 20,
    "start_time": "2022-08-28T07:03:54.541Z"
   },
   {
    "duration": 12,
    "start_time": "2022-08-28T07:03:54.891Z"
   },
   {
    "duration": 4,
    "start_time": "2022-08-28T07:03:55.233Z"
   },
   {
    "duration": 681,
    "start_time": "2022-08-28T07:03:55.395Z"
   },
   {
    "duration": 346,
    "start_time": "2022-08-28T07:03:56.226Z"
   },
   {
    "duration": 24,
    "start_time": "2022-08-28T07:03:57.118Z"
   },
   {
    "duration": 858,
    "start_time": "2022-08-28T07:03:57.301Z"
   },
   {
    "duration": 10,
    "start_time": "2022-08-28T07:03:58.161Z"
   },
   {
    "duration": 17,
    "start_time": "2022-08-28T07:03:58.703Z"
   },
   {
    "duration": 10,
    "start_time": "2022-08-28T07:03:58.907Z"
   },
   {
    "duration": 16,
    "start_time": "2022-08-28T07:03:59.283Z"
   },
   {
    "duration": 17,
    "start_time": "2022-08-28T07:03:59.481Z"
   },
   {
    "duration": 22,
    "start_time": "2022-08-28T07:03:59.862Z"
   },
   {
    "duration": 10,
    "start_time": "2022-08-28T07:04:00.040Z"
   },
   {
    "duration": 18,
    "start_time": "2022-08-28T07:04:00.644Z"
   },
   {
    "duration": 11,
    "start_time": "2022-08-28T07:04:01.285Z"
   },
   {
    "duration": 10,
    "start_time": "2022-08-28T07:04:01.834Z"
   },
   {
    "duration": 167,
    "start_time": "2022-08-28T07:04:02.182Z"
   },
   {
    "duration": 9,
    "start_time": "2022-08-28T07:04:02.374Z"
   },
   {
    "duration": 172,
    "start_time": "2022-08-28T07:04:02.743Z"
   },
   {
    "duration": 7,
    "start_time": "2022-08-28T07:04:06.735Z"
   },
   {
    "duration": 151,
    "start_time": "2022-08-28T07:04:06.945Z"
   },
   {
    "duration": 138,
    "start_time": "2022-08-28T07:04:07.098Z"
   },
   {
    "duration": 10,
    "start_time": "2022-08-28T07:04:07.427Z"
   },
   {
    "duration": 168,
    "start_time": "2022-08-28T07:04:07.591Z"
   },
   {
    "duration": 149,
    "start_time": "2022-08-28T07:04:07.762Z"
   },
   {
    "duration": 8,
    "start_time": "2022-08-28T07:04:08.102Z"
   },
   {
    "duration": 177,
    "start_time": "2022-08-28T07:04:08.297Z"
   },
   {
    "duration": 118,
    "start_time": "2022-08-28T07:04:08.478Z"
   },
   {
    "duration": 10,
    "start_time": "2022-08-28T07:04:09.153Z"
   },
   {
    "duration": 151,
    "start_time": "2022-08-28T07:04:09.325Z"
   },
   {
    "duration": 9,
    "start_time": "2022-08-28T07:04:09.651Z"
   },
   {
    "duration": 163,
    "start_time": "2022-08-28T07:04:09.842Z"
   },
   {
    "duration": 8,
    "start_time": "2022-08-28T07:04:10.309Z"
   },
   {
    "duration": 257,
    "start_time": "2022-08-28T07:04:10.526Z"
   },
   {
    "duration": 15,
    "start_time": "2022-08-28T07:04:11.881Z"
   },
   {
    "duration": 20,
    "start_time": "2022-08-28T07:04:12.473Z"
   },
   {
    "duration": 20,
    "start_time": "2022-08-28T07:04:13.144Z"
   },
   {
    "duration": 12,
    "start_time": "2022-08-28T07:04:15.428Z"
   },
   {
    "duration": 12,
    "start_time": "2022-08-28T07:04:15.601Z"
   },
   {
    "duration": 11,
    "start_time": "2022-08-28T07:04:15.980Z"
   },
   {
    "duration": 12,
    "start_time": "2022-08-28T07:04:17.361Z"
   },
   {
    "duration": 9,
    "start_time": "2022-08-28T07:04:17.542Z"
   },
   {
    "duration": 10,
    "start_time": "2022-08-28T07:04:17.936Z"
   },
   {
    "duration": 9,
    "start_time": "2022-08-28T07:04:24.186Z"
   },
   {
    "duration": 8,
    "start_time": "2022-08-28T07:04:24.656Z"
   },
   {
    "duration": 3,
    "start_time": "2022-08-28T07:04:31.394Z"
   },
   {
    "duration": 70,
    "start_time": "2022-08-28T07:04:31.572Z"
   },
   {
    "duration": 23,
    "start_time": "2022-08-28T07:04:31.739Z"
   },
   {
    "duration": 21,
    "start_time": "2022-08-28T07:04:32.059Z"
   },
   {
    "duration": 4,
    "start_time": "2022-08-28T07:04:33.086Z"
   },
   {
    "duration": 14,
    "start_time": "2022-08-28T07:04:33.404Z"
   },
   {
    "duration": 5,
    "start_time": "2022-08-28T07:04:33.751Z"
   },
   {
    "duration": 4,
    "start_time": "2022-08-28T07:04:34.270Z"
   },
   {
    "duration": 13,
    "start_time": "2022-08-28T07:04:34.458Z"
   },
   {
    "duration": 8,
    "start_time": "2022-08-28T07:04:34.979Z"
   },
   {
    "duration": 7,
    "start_time": "2022-08-28T07:04:35.162Z"
   },
   {
    "duration": 5,
    "start_time": "2022-08-28T07:04:35.507Z"
   },
   {
    "duration": 5,
    "start_time": "2022-08-28T07:04:35.853Z"
   },
   {
    "duration": 7,
    "start_time": "2022-08-28T07:04:36.024Z"
   },
   {
    "duration": 6,
    "start_time": "2022-08-28T07:04:36.357Z"
   },
   {
    "duration": 22,
    "start_time": "2022-08-28T07:04:36.712Z"
   },
   {
    "duration": 15,
    "start_time": "2022-08-28T07:04:37.772Z"
   },
   {
    "duration": 222,
    "start_time": "2022-08-28T07:04:37.947Z"
   },
   {
    "duration": 14,
    "start_time": "2022-08-28T07:04:38.845Z"
   },
   {
    "duration": 4,
    "start_time": "2022-08-28T07:04:39.212Z"
   },
   {
    "duration": 299,
    "start_time": "2022-08-28T07:04:39.388Z"
   },
   {
    "duration": 4,
    "start_time": "2022-08-28T07:04:39.690Z"
   },
   {
    "duration": 23,
    "start_time": "2022-08-28T07:04:40.531Z"
   },
   {
    "duration": 17,
    "start_time": "2022-08-28T07:04:40.920Z"
   },
   {
    "duration": 4,
    "start_time": "2022-08-28T07:04:41.306Z"
   },
   {
    "duration": 616,
    "start_time": "2022-08-28T07:04:41.506Z"
   },
   {
    "duration": 353,
    "start_time": "2022-08-28T07:04:42.456Z"
   },
   {
    "duration": 18,
    "start_time": "2022-08-28T07:04:43.456Z"
   },
   {
    "duration": 707,
    "start_time": "2022-08-28T07:04:43.658Z"
   },
   {
    "duration": 12,
    "start_time": "2022-08-28T07:04:44.367Z"
   },
   {
    "duration": 17,
    "start_time": "2022-08-28T07:04:45.262Z"
   },
   {
    "duration": 10,
    "start_time": "2022-08-28T07:04:45.462Z"
   },
   {
    "duration": 19,
    "start_time": "2022-08-28T07:04:45.889Z"
   },
   {
    "duration": 10,
    "start_time": "2022-08-28T07:04:46.115Z"
   },
   {
    "duration": 18,
    "start_time": "2022-08-28T07:04:46.464Z"
   },
   {
    "duration": 11,
    "start_time": "2022-08-28T07:04:46.654Z"
   },
   {
    "duration": 18,
    "start_time": "2022-08-28T07:04:47.042Z"
   },
   {
    "duration": 13,
    "start_time": "2022-08-28T07:04:47.392Z"
   },
   {
    "duration": 9,
    "start_time": "2022-08-28T07:04:48.739Z"
   },
   {
    "duration": 273,
    "start_time": "2022-08-28T07:04:49.188Z"
   },
   {
    "duration": 9,
    "start_time": "2022-08-28T07:04:49.463Z"
   },
   {
    "duration": 161,
    "start_time": "2022-08-28T07:04:49.842Z"
   },
   {
    "duration": 11,
    "start_time": "2022-08-28T07:04:51.908Z"
   },
   {
    "duration": 164,
    "start_time": "2022-08-28T07:04:52.379Z"
   },
   {
    "duration": 102,
    "start_time": "2022-08-28T07:04:52.564Z"
   },
   {
    "duration": 9,
    "start_time": "2022-08-28T07:04:52.914Z"
   },
   {
    "duration": 154,
    "start_time": "2022-08-28T07:04:53.099Z"
   },
   {
    "duration": 107,
    "start_time": "2022-08-28T07:04:53.282Z"
   },
   {
    "duration": 9,
    "start_time": "2022-08-28T07:04:53.706Z"
   },
   {
    "duration": 160,
    "start_time": "2022-08-28T07:04:53.886Z"
   },
   {
    "duration": 97,
    "start_time": "2022-08-28T07:04:54.097Z"
   },
   {
    "duration": 7,
    "start_time": "2022-08-28T07:04:55.002Z"
   },
   {
    "duration": 162,
    "start_time": "2022-08-28T07:04:55.206Z"
   },
   {
    "duration": 8,
    "start_time": "2022-08-28T07:04:55.539Z"
   },
   {
    "duration": 155,
    "start_time": "2022-08-28T07:04:55.703Z"
   },
   {
    "duration": 8,
    "start_time": "2022-08-28T07:04:56.105Z"
   },
   {
    "duration": 161,
    "start_time": "2022-08-28T07:04:56.309Z"
   },
   {
    "duration": 18,
    "start_time": "2022-08-28T07:04:57.323Z"
   },
   {
    "duration": 21,
    "start_time": "2022-08-28T07:04:57.964Z"
   },
   {
    "duration": 20,
    "start_time": "2022-08-28T07:04:58.911Z"
   },
   {
    "duration": 13,
    "start_time": "2022-08-28T07:05:01.174Z"
   },
   {
    "duration": 13,
    "start_time": "2022-08-28T07:05:01.394Z"
   },
   {
    "duration": 57,
    "start_time": "2022-08-28T07:07:10.401Z"
   },
   {
    "duration": 53,
    "start_time": "2022-08-28T07:07:15.558Z"
   },
   {
    "duration": 6,
    "start_time": "2022-08-28T07:07:45.358Z"
   },
   {
    "duration": 21,
    "start_time": "2022-08-28T07:07:47.456Z"
   },
   {
    "duration": 9,
    "start_time": "2022-08-28T07:08:14.656Z"
   },
   {
    "duration": 17,
    "start_time": "2022-08-28T07:08:15.549Z"
   },
   {
    "duration": 5,
    "start_time": "2022-08-28T07:08:19.528Z"
   },
   {
    "duration": 16,
    "start_time": "2022-08-28T07:08:20.746Z"
   },
   {
    "duration": 19,
    "start_time": "2022-08-28T07:31:53.850Z"
   },
   {
    "duration": 10,
    "start_time": "2022-08-28T07:32:01.365Z"
   },
   {
    "duration": 4,
    "start_time": "2022-08-28T07:32:07.629Z"
   },
   {
    "duration": 443,
    "start_time": "2022-08-28T07:32:12.392Z"
   },
   {
    "duration": 553,
    "start_time": "2022-08-28T07:32:21.744Z"
   },
   {
    "duration": 13,
    "start_time": "2022-08-28T07:33:29.360Z"
   },
   {
    "duration": 4,
    "start_time": "2022-08-28T07:33:34.530Z"
   },
   {
    "duration": 491,
    "start_time": "2022-08-28T07:33:40.069Z"
   },
   {
    "duration": 15,
    "start_time": "2022-08-28T07:34:50.266Z"
   },
   {
    "duration": 9,
    "start_time": "2022-08-28T07:34:51.373Z"
   },
   {
    "duration": 11,
    "start_time": "2022-08-28T07:34:53.994Z"
   },
   {
    "duration": 9,
    "start_time": "2022-08-28T07:34:55.443Z"
   },
   {
    "duration": 10,
    "start_time": "2022-08-28T07:34:57.933Z"
   },
   {
    "duration": 9,
    "start_time": "2022-08-28T07:35:00.779Z"
   },
   {
    "duration": 11,
    "start_time": "2022-08-28T07:35:02.054Z"
   },
   {
    "duration": 11,
    "start_time": "2022-08-28T07:35:03.006Z"
   },
   {
    "duration": 11,
    "start_time": "2022-08-28T07:35:04.247Z"
   },
   {
    "duration": 8,
    "start_time": "2022-08-28T07:35:04.854Z"
   },
   {
    "duration": 7,
    "start_time": "2022-08-28T07:35:09.361Z"
   },
   {
    "duration": 168,
    "start_time": "2022-08-28T07:35:10.730Z"
   },
   {
    "duration": 173,
    "start_time": "2022-08-28T07:35:20.661Z"
   },
   {
    "duration": 8,
    "start_time": "2022-08-28T07:36:26.453Z"
   },
   {
    "duration": 20,
    "start_time": "2022-08-28T07:50:47.112Z"
   },
   {
    "duration": 12,
    "start_time": "2022-08-28T07:50:48.406Z"
   },
   {
    "duration": 3,
    "start_time": "2022-08-28T07:54:30.961Z"
   },
   {
    "duration": 472,
    "start_time": "2022-08-28T07:54:32.896Z"
   },
   {
    "duration": 452,
    "start_time": "2022-08-28T07:54:42.847Z"
   },
   {
    "duration": 23,
    "start_time": "2022-08-28T08:00:43.425Z"
   },
   {
    "duration": 14,
    "start_time": "2022-08-28T08:00:44.196Z"
   },
   {
    "duration": 16,
    "start_time": "2022-08-28T08:00:46.104Z"
   },
   {
    "duration": 17,
    "start_time": "2022-08-28T08:01:38.147Z"
   },
   {
    "duration": 17,
    "start_time": "2022-08-28T08:01:54.123Z"
   },
   {
    "duration": 863,
    "start_time": "2022-08-28T08:01:55.169Z"
   },
   {
    "duration": 9,
    "start_time": "2022-08-28T08:02:13.923Z"
   },
   {
    "duration": 18,
    "start_time": "2022-08-28T08:04:14.227Z"
   },
   {
    "duration": 9,
    "start_time": "2022-08-28T08:04:19.761Z"
   },
   {
    "duration": 17,
    "start_time": "2022-08-28T08:04:43.347Z"
   },
   {
    "duration": 9,
    "start_time": "2022-08-28T08:04:46.545Z"
   },
   {
    "duration": 104,
    "start_time": "2022-08-28T08:05:12.573Z"
   },
   {
    "duration": 60,
    "start_time": "2022-08-28T08:05:33.091Z"
   },
   {
    "duration": 57,
    "start_time": "2022-08-28T08:05:35.378Z"
   },
   {
    "duration": 17,
    "start_time": "2022-08-28T08:05:51.065Z"
   },
   {
    "duration": 8,
    "start_time": "2022-08-28T08:05:52.073Z"
   },
   {
    "duration": 15,
    "start_time": "2022-08-28T08:06:11.046Z"
   },
   {
    "duration": 70,
    "start_time": "2022-08-28T08:06:51.896Z"
   },
   {
    "duration": 17,
    "start_time": "2022-08-28T08:06:59.689Z"
   },
   {
    "duration": 56,
    "start_time": "2022-08-28T08:07:08.322Z"
   },
   {
    "duration": 10,
    "start_time": "2022-08-28T08:07:22.160Z"
   },
   {
    "duration": 9,
    "start_time": "2022-08-28T08:07:26.542Z"
   },
   {
    "duration": 8,
    "start_time": "2022-08-28T08:08:35.714Z"
   },
   {
    "duration": 767,
    "start_time": "2022-08-28T08:08:49.008Z"
   },
   {
    "duration": 11,
    "start_time": "2022-08-28T08:08:59.325Z"
   },
   {
    "duration": 301,
    "start_time": "2022-08-28T08:40:59.323Z"
   },
   {
    "duration": 305,
    "start_time": "2022-08-28T08:41:31.838Z"
   },
   {
    "duration": 482,
    "start_time": "2022-08-28T08:41:40.813Z"
   },
   {
    "duration": 582,
    "start_time": "2022-08-28T08:41:48.101Z"
   },
   {
    "duration": 465,
    "start_time": "2022-08-28T08:42:01.183Z"
   },
   {
    "duration": 476,
    "start_time": "2022-08-28T08:42:11.198Z"
   },
   {
    "duration": 385,
    "start_time": "2022-08-28T08:53:02.193Z"
   },
   {
    "duration": 355,
    "start_time": "2022-08-28T08:53:11.074Z"
   },
   {
    "duration": 340,
    "start_time": "2022-08-28T08:53:15.505Z"
   },
   {
    "duration": 440,
    "start_time": "2022-08-28T08:53:37.631Z"
   },
   {
    "duration": 19,
    "start_time": "2022-08-28T09:22:36.797Z"
   },
   {
    "duration": 10,
    "start_time": "2022-08-28T09:22:37.641Z"
   },
   {
    "duration": 15,
    "start_time": "2022-08-28T09:23:24.429Z"
   },
   {
    "duration": 28,
    "start_time": "2022-08-28T09:23:31.699Z"
   },
   {
    "duration": 8,
    "start_time": "2022-08-28T09:23:46.598Z"
   },
   {
    "duration": 23,
    "start_time": "2022-08-28T09:26:47.803Z"
   },
   {
    "duration": 11,
    "start_time": "2022-08-28T09:26:58.535Z"
   },
   {
    "duration": 43,
    "start_time": "2022-08-28T09:28:17.331Z"
   },
   {
    "duration": 8,
    "start_time": "2022-08-28T09:33:48.293Z"
   },
   {
    "duration": 13,
    "start_time": "2022-08-28T09:33:49.127Z"
   },
   {
    "duration": 6,
    "start_time": "2022-08-28T09:34:55.134Z"
   },
   {
    "duration": 7,
    "start_time": "2022-08-28T09:35:09.033Z"
   },
   {
    "duration": 10,
    "start_time": "2022-08-28T09:35:20.706Z"
   },
   {
    "duration": 6,
    "start_time": "2022-08-28T09:36:02.364Z"
   },
   {
    "duration": 23,
    "start_time": "2022-08-28T09:36:35.747Z"
   },
   {
    "duration": 6,
    "start_time": "2022-08-28T09:36:40.654Z"
   },
   {
    "duration": 6,
    "start_time": "2022-08-28T09:36:41.291Z"
   },
   {
    "duration": 6,
    "start_time": "2022-08-28T09:36:42.654Z"
   },
   {
    "duration": 27,
    "start_time": "2022-08-28T09:36:57.144Z"
   },
   {
    "duration": 6,
    "start_time": "2022-08-28T09:37:01.792Z"
   },
   {
    "duration": 6,
    "start_time": "2022-08-28T09:37:02.294Z"
   },
   {
    "duration": 9,
    "start_time": "2022-08-28T09:37:03.641Z"
   },
   {
    "duration": 11,
    "start_time": "2022-08-28T09:37:58.263Z"
   },
   {
    "duration": 7,
    "start_time": "2022-08-28T09:38:08.101Z"
   },
   {
    "duration": 7,
    "start_time": "2022-08-28T09:38:13.444Z"
   },
   {
    "duration": 13,
    "start_time": "2022-08-28T09:38:35.046Z"
   },
   {
    "duration": 6,
    "start_time": "2022-08-28T09:38:39.847Z"
   },
   {
    "duration": 6,
    "start_time": "2022-08-28T09:38:48.014Z"
   },
   {
    "duration": 7,
    "start_time": "2022-08-28T09:38:51.626Z"
   },
   {
    "duration": 6,
    "start_time": "2022-08-28T09:38:54.305Z"
   },
   {
    "duration": 17,
    "start_time": "2022-08-28T09:39:19.209Z"
   },
   {
    "duration": 15,
    "start_time": "2022-08-28T09:39:21.728Z"
   },
   {
    "duration": 6,
    "start_time": "2022-08-28T09:39:26.002Z"
   },
   {
    "duration": 7,
    "start_time": "2022-08-28T09:39:27.339Z"
   },
   {
    "duration": 6,
    "start_time": "2022-08-28T09:49:46.022Z"
   },
   {
    "duration": 3,
    "start_time": "2022-08-28T09:51:02.470Z"
   },
   {
    "duration": 2512,
    "start_time": "2022-08-28T09:51:06.394Z"
   },
   {
    "duration": 730,
    "start_time": "2022-08-28T09:51:23.843Z"
   },
   {
    "duration": 3,
    "start_time": "2022-08-28T09:51:28.775Z"
   },
   {
    "duration": 60,
    "start_time": "2022-08-28T09:51:28.913Z"
   },
   {
    "duration": 20,
    "start_time": "2022-08-28T09:51:29.071Z"
   },
   {
    "duration": 22,
    "start_time": "2022-08-28T09:51:29.330Z"
   },
   {
    "duration": 3,
    "start_time": "2022-08-28T09:51:30.371Z"
   },
   {
    "duration": 16,
    "start_time": "2022-08-28T09:51:30.654Z"
   },
   {
    "duration": 6,
    "start_time": "2022-08-28T09:51:30.927Z"
   },
   {
    "duration": 3,
    "start_time": "2022-08-28T09:51:31.378Z"
   },
   {
    "duration": 13,
    "start_time": "2022-08-28T09:51:31.554Z"
   },
   {
    "duration": 4,
    "start_time": "2022-08-28T09:51:40.344Z"
   },
   {
    "duration": 761,
    "start_time": "2022-08-28T09:51:40.898Z"
   },
   {
    "duration": 4,
    "start_time": "2022-08-28T09:51:52.147Z"
   },
   {
    "duration": 744,
    "start_time": "2022-08-28T09:51:52.824Z"
   },
   {
    "duration": 174,
    "start_time": "2022-08-28T09:52:35.753Z"
   },
   {
    "duration": 24,
    "start_time": "2022-08-28T09:52:48.013Z"
   },
   {
    "duration": 6,
    "start_time": "2022-08-28T09:54:07.076Z"
   },
   {
    "duration": 20,
    "start_time": "2022-08-28T09:54:12.125Z"
   },
   {
    "duration": 6,
    "start_time": "2022-08-28T09:54:23.832Z"
   },
   {
    "duration": 8,
    "start_time": "2022-08-28T09:54:27.348Z"
   },
   {
    "duration": 5,
    "start_time": "2022-08-28T09:54:27.767Z"
   },
   {
    "duration": 971,
    "start_time": "2022-08-28T09:54:28.393Z"
   },
   {
    "duration": 19,
    "start_time": "2022-08-28T09:54:38.500Z"
   },
   {
    "duration": 15,
    "start_time": "2022-08-28T09:55:07.631Z"
   },
   {
    "duration": 5,
    "start_time": "2022-08-28T09:55:17.745Z"
   },
   {
    "duration": 50,
    "start_time": "2022-08-28T09:55:17.882Z"
   },
   {
    "duration": 32,
    "start_time": "2022-08-28T09:55:18.020Z"
   },
   {
    "duration": 18,
    "start_time": "2022-08-28T09:55:18.304Z"
   },
   {
    "duration": 3,
    "start_time": "2022-08-28T09:55:19.289Z"
   },
   {
    "duration": 16,
    "start_time": "2022-08-28T09:55:19.621Z"
   },
   {
    "duration": 6,
    "start_time": "2022-08-28T09:55:20.120Z"
   },
   {
    "duration": 16,
    "start_time": "2022-08-28T09:55:20.604Z"
   },
   {
    "duration": 15,
    "start_time": "2022-08-28T09:55:20.761Z"
   },
   {
    "duration": 14,
    "start_time": "2022-08-28T09:55:21.135Z"
   },
   {
    "duration": 4,
    "start_time": "2022-08-28T09:55:21.908Z"
   },
   {
    "duration": 951,
    "start_time": "2022-08-28T09:55:23.213Z"
   },
   {
    "duration": 52,
    "start_time": "2022-08-28T09:55:57.002Z"
   },
   {
    "duration": 24,
    "start_time": "2022-08-28T09:55:57.210Z"
   },
   {
    "duration": 4,
    "start_time": "2022-08-28T09:56:24.754Z"
   },
   {
    "duration": 766,
    "start_time": "2022-08-28T09:56:33.238Z"
   },
   {
    "duration": 4,
    "start_time": "2022-08-28T09:56:41.454Z"
   },
   {
    "duration": 49,
    "start_time": "2022-08-28T09:56:41.867Z"
   },
   {
    "duration": 22,
    "start_time": "2022-08-28T09:56:42.248Z"
   },
   {
    "duration": 18,
    "start_time": "2022-08-28T09:56:43.198Z"
   },
   {
    "duration": 3,
    "start_time": "2022-08-28T09:56:44.087Z"
   },
   {
    "duration": 14,
    "start_time": "2022-08-28T09:56:44.375Z"
   },
   {
    "duration": 5,
    "start_time": "2022-08-28T09:56:44.699Z"
   },
   {
    "duration": 3,
    "start_time": "2022-08-28T09:56:45.163Z"
   },
   {
    "duration": 4,
    "start_time": "2022-08-28T09:56:49.499Z"
   },
   {
    "duration": 29,
    "start_time": "2022-08-28T09:56:52.613Z"
   },
   {
    "duration": 6,
    "start_time": "2022-08-28T09:58:05.457Z"
   },
   {
    "duration": 5,
    "start_time": "2022-08-28T09:58:47.299Z"
   },
   {
    "duration": 1279,
    "start_time": "2022-08-28T09:58:48.849Z"
   },
   {
    "duration": 5,
    "start_time": "2022-08-28T09:58:53.657Z"
   },
   {
    "duration": 7,
    "start_time": "2022-08-28T09:58:54.478Z"
   },
   {
    "duration": 920,
    "start_time": "2022-08-28T09:59:22.471Z"
   },
   {
    "duration": 1116,
    "start_time": "2022-08-28T09:59:30.172Z"
   },
   {
    "duration": 927,
    "start_time": "2022-08-28T09:59:53.760Z"
   },
   {
    "duration": 27,
    "start_time": "2022-08-28T10:00:02.760Z"
   },
   {
    "duration": 20,
    "start_time": "2022-08-28T10:00:08.464Z"
   },
   {
    "duration": 4,
    "start_time": "2022-08-28T10:00:19.719Z"
   },
   {
    "duration": 59,
    "start_time": "2022-08-28T10:00:20.206Z"
   },
   {
    "duration": 21,
    "start_time": "2022-08-28T10:00:20.849Z"
   },
   {
    "duration": 24,
    "start_time": "2022-08-28T10:00:56.363Z"
   },
   {
    "duration": 3,
    "start_time": "2022-08-28T10:01:25.305Z"
   },
   {
    "duration": 6,
    "start_time": "2022-08-28T10:02:46.184Z"
   },
   {
    "duration": 20,
    "start_time": "2022-08-28T10:02:54.285Z"
   },
   {
    "duration": 1252,
    "start_time": "2022-08-28T10:03:03.218Z"
   },
   {
    "duration": 5,
    "start_time": "2022-08-28T10:03:12.171Z"
   },
   {
    "duration": 22,
    "start_time": "2022-08-28T10:03:35.246Z"
   },
   {
    "duration": 3,
    "start_time": "2022-08-28T10:03:46.430Z"
   },
   {
    "duration": 50,
    "start_time": "2022-08-28T10:03:46.927Z"
   },
   {
    "duration": 28,
    "start_time": "2022-08-28T10:03:47.496Z"
   },
   {
    "duration": 28,
    "start_time": "2022-08-28T10:03:56.842Z"
   },
   {
    "duration": 1125,
    "start_time": "2022-08-28T10:04:05.727Z"
   },
   {
    "duration": 916,
    "start_time": "2022-08-28T10:04:18.953Z"
   },
   {
    "duration": 4,
    "start_time": "2022-08-28T10:04:26.186Z"
   },
   {
    "duration": 49,
    "start_time": "2022-08-28T10:04:26.330Z"
   },
   {
    "duration": 30,
    "start_time": "2022-08-28T10:04:26.498Z"
   },
   {
    "duration": 14,
    "start_time": "2022-08-28T10:04:26.786Z"
   },
   {
    "duration": 25,
    "start_time": "2022-08-28T10:04:27.629Z"
   },
   {
    "duration": 14,
    "start_time": "2022-08-28T10:04:28.340Z"
   },
   {
    "duration": 4,
    "start_time": "2022-08-28T10:04:28.896Z"
   },
   {
    "duration": 4,
    "start_time": "2022-08-28T10:04:30.549Z"
   },
   {
    "duration": 16,
    "start_time": "2022-08-28T10:04:31.449Z"
   },
   {
    "duration": 5,
    "start_time": "2022-08-28T10:04:35.390Z"
   },
   {
    "duration": 5,
    "start_time": "2022-08-28T10:04:40.858Z"
   },
   {
    "duration": 9,
    "start_time": "2022-08-28T10:05:09.986Z"
   },
   {
    "duration": 12,
    "start_time": "2022-08-28T10:05:30.002Z"
   },
   {
    "duration": 13,
    "start_time": "2022-08-28T10:05:35.943Z"
   },
   {
    "duration": 9,
    "start_time": "2022-08-28T10:05:47.053Z"
   },
   {
    "duration": 5,
    "start_time": "2022-08-28T10:05:51.579Z"
   },
   {
    "duration": 7,
    "start_time": "2022-08-28T10:06:16.029Z"
   },
   {
    "duration": 4,
    "start_time": "2022-08-28T10:18:53.508Z"
   },
   {
    "duration": 775,
    "start_time": "2022-08-28T10:18:54.950Z"
   },
   {
    "duration": 14,
    "start_time": "2022-08-28T10:19:04.861Z"
   },
   {
    "duration": 3,
    "start_time": "2022-08-28T10:19:14.393Z"
   },
   {
    "duration": 52,
    "start_time": "2022-08-28T10:19:14.466Z"
   },
   {
    "duration": 33,
    "start_time": "2022-08-28T10:19:14.827Z"
   },
   {
    "duration": 21,
    "start_time": "2022-08-28T10:19:18.559Z"
   },
   {
    "duration": 794,
    "start_time": "2022-08-28T10:19:30.316Z"
   },
   {
    "duration": 718,
    "start_time": "2022-08-28T10:19:33.398Z"
   },
   {
    "duration": 12,
    "start_time": "2022-08-28T10:28:24.384Z"
   },
   {
    "duration": 808,
    "start_time": "2022-08-28T10:28:44.132Z"
   },
   {
    "duration": 3,
    "start_time": "2022-08-28T10:28:45.070Z"
   },
   {
    "duration": 929,
    "start_time": "2022-08-28T10:28:45.946Z"
   },
   {
    "duration": 856,
    "start_time": "2022-08-28T10:28:53.731Z"
   },
   {
    "duration": 916,
    "start_time": "2022-08-28T10:28:55.383Z"
   },
   {
    "duration": 1110,
    "start_time": "2022-08-28T10:28:57.527Z"
   },
   {
    "duration": 0,
    "start_time": "2022-08-28T10:28:58.640Z"
   },
   {
    "duration": 1020,
    "start_time": "2022-08-28T10:46:20.061Z"
   },
   {
    "duration": 3,
    "start_time": "2022-08-28T10:46:25.431Z"
   },
   {
    "duration": 57,
    "start_time": "2022-08-28T10:46:25.650Z"
   },
   {
    "duration": 44,
    "start_time": "2022-08-28T10:46:25.799Z"
   },
   {
    "duration": 16,
    "start_time": "2022-08-28T10:46:26.083Z"
   },
   {
    "duration": 44,
    "start_time": "2022-08-28T10:46:27.501Z"
   },
   {
    "duration": 21,
    "start_time": "2022-08-28T10:46:28.506Z"
   },
   {
    "duration": 5,
    "start_time": "2022-08-28T10:46:29.066Z"
   },
   {
    "duration": 4,
    "start_time": "2022-08-28T10:46:32.560Z"
   },
   {
    "duration": 3,
    "start_time": "2022-08-28T10:46:33.871Z"
   },
   {
    "duration": 14,
    "start_time": "2022-08-28T10:46:34.662Z"
   },
   {
    "duration": 5,
    "start_time": "2022-08-28T10:46:36.800Z"
   },
   {
    "duration": 7,
    "start_time": "2022-08-28T10:46:46.778Z"
   },
   {
    "duration": 984,
    "start_time": "2022-08-28T10:46:50.565Z"
   },
   {
    "duration": 7,
    "start_time": "2022-08-28T10:47:11.125Z"
   },
   {
    "duration": 9,
    "start_time": "2022-08-28T10:47:18.488Z"
   },
   {
    "duration": 10,
    "start_time": "2022-08-28T10:49:57.623Z"
   },
   {
    "duration": 6,
    "start_time": "2022-08-28T10:50:34.527Z"
   },
   {
    "duration": 7,
    "start_time": "2022-08-28T10:50:52.329Z"
   },
   {
    "duration": 16,
    "start_time": "2022-08-28T10:50:55.315Z"
   },
   {
    "duration": 5,
    "start_time": "2022-08-28T10:50:57.478Z"
   },
   {
    "duration": 6,
    "start_time": "2022-08-28T10:51:02.925Z"
   },
   {
    "duration": 7,
    "start_time": "2022-08-28T10:51:05.354Z"
   },
   {
    "duration": 18,
    "start_time": "2022-08-28T10:51:32.234Z"
   },
   {
    "duration": 9,
    "start_time": "2022-08-28T10:51:38.664Z"
   },
   {
    "duration": 8,
    "start_time": "2022-08-28T10:51:51.372Z"
   },
   {
    "duration": 12,
    "start_time": "2022-08-28T10:51:55.828Z"
   },
   {
    "duration": 6,
    "start_time": "2022-08-28T10:52:12.169Z"
   },
   {
    "duration": 6,
    "start_time": "2022-08-28T10:52:12.978Z"
   },
   {
    "duration": 7,
    "start_time": "2022-08-28T10:52:14.120Z"
   },
   {
    "duration": 9,
    "start_time": "2022-08-28T10:52:17.301Z"
   },
   {
    "duration": 6,
    "start_time": "2022-08-28T10:52:17.695Z"
   },
   {
    "duration": 5,
    "start_time": "2022-08-28T10:52:20.385Z"
   },
   {
    "duration": 11,
    "start_time": "2022-08-28T10:52:24.110Z"
   },
   {
    "duration": 7,
    "start_time": "2022-08-28T10:52:26.949Z"
   },
   {
    "duration": 6,
    "start_time": "2022-08-28T10:53:14.883Z"
   },
   {
    "duration": 5,
    "start_time": "2022-08-28T10:53:22.249Z"
   },
   {
    "duration": 8,
    "start_time": "2022-08-28T10:53:32.631Z"
   },
   {
    "duration": 5,
    "start_time": "2022-08-28T10:53:33.180Z"
   },
   {
    "duration": 8,
    "start_time": "2022-08-28T10:53:34.531Z"
   },
   {
    "duration": 6,
    "start_time": "2022-08-28T10:53:38.197Z"
   },
   {
    "duration": 5,
    "start_time": "2022-08-28T10:53:38.679Z"
   },
   {
    "duration": 15,
    "start_time": "2022-08-28T10:53:39.806Z"
   },
   {
    "duration": 1341,
    "start_time": "2022-08-28T10:56:17.034Z"
   },
   {
    "duration": 64,
    "start_time": "2022-08-28T10:56:18.377Z"
   },
   {
    "duration": 34,
    "start_time": "2022-08-28T10:56:18.443Z"
   },
   {
    "duration": 42,
    "start_time": "2022-08-28T10:56:18.478Z"
   },
   {
    "duration": 26,
    "start_time": "2022-08-28T10:56:18.529Z"
   },
   {
    "duration": 16,
    "start_time": "2022-08-28T10:56:18.557Z"
   },
   {
    "duration": 5,
    "start_time": "2022-08-28T10:56:18.575Z"
   },
   {
    "duration": 6,
    "start_time": "2022-08-28T10:56:18.581Z"
   },
   {
    "duration": 23,
    "start_time": "2022-08-28T10:56:18.589Z"
   },
   {
    "duration": 5,
    "start_time": "2022-08-28T10:56:18.613Z"
   },
   {
    "duration": 7,
    "start_time": "2022-08-28T10:56:18.619Z"
   },
   {
    "duration": 12,
    "start_time": "2022-08-28T10:56:18.627Z"
   },
   {
    "duration": 8,
    "start_time": "2022-08-28T10:56:18.641Z"
   },
   {
    "duration": 14,
    "start_time": "2022-08-28T10:56:18.652Z"
   },
   {
    "duration": 11,
    "start_time": "2022-08-28T10:56:18.668Z"
   },
   {
    "duration": 9,
    "start_time": "2022-08-28T10:56:18.681Z"
   },
   {
    "duration": 10,
    "start_time": "2022-08-28T10:56:18.709Z"
   },
   {
    "duration": 15,
    "start_time": "2022-08-28T10:56:18.721Z"
   },
   {
    "duration": 15,
    "start_time": "2022-08-28T10:56:18.738Z"
   },
   {
    "duration": 15,
    "start_time": "2022-08-28T10:56:18.755Z"
   },
   {
    "duration": 13,
    "start_time": "2022-08-28T10:56:18.772Z"
   },
   {
    "duration": 241,
    "start_time": "2022-08-28T10:56:18.786Z"
   },
   {
    "duration": 13,
    "start_time": "2022-08-28T10:56:19.029Z"
   },
   {
    "duration": 3,
    "start_time": "2022-08-28T10:56:19.043Z"
   },
   {
    "duration": 431,
    "start_time": "2022-08-28T10:56:19.048Z"
   },
   {
    "duration": 4,
    "start_time": "2022-08-28T10:56:19.481Z"
   },
   {
    "duration": 42,
    "start_time": "2022-08-28T10:56:19.486Z"
   },
   {
    "duration": 15,
    "start_time": "2022-08-28T10:56:19.531Z"
   },
   {
    "duration": 3,
    "start_time": "2022-08-28T10:56:19.548Z"
   },
   {
    "duration": 553,
    "start_time": "2022-08-28T10:56:19.553Z"
   },
   {
    "duration": 341,
    "start_time": "2022-08-28T10:56:20.108Z"
   },
   {
    "duration": 13,
    "start_time": "2022-08-28T10:56:20.451Z"
   },
   {
    "duration": 517,
    "start_time": "2022-08-28T10:56:20.466Z"
   },
   {
    "duration": 0,
    "start_time": "2022-08-28T10:56:20.986Z"
   },
   {
    "duration": 0,
    "start_time": "2022-08-28T10:56:20.987Z"
   },
   {
    "duration": 0,
    "start_time": "2022-08-28T10:56:20.988Z"
   },
   {
    "duration": 0,
    "start_time": "2022-08-28T10:56:20.989Z"
   },
   {
    "duration": 0,
    "start_time": "2022-08-28T10:56:20.990Z"
   },
   {
    "duration": 0,
    "start_time": "2022-08-28T10:56:20.991Z"
   },
   {
    "duration": 0,
    "start_time": "2022-08-28T10:56:20.992Z"
   },
   {
    "duration": 0,
    "start_time": "2022-08-28T10:56:21.013Z"
   },
   {
    "duration": 0,
    "start_time": "2022-08-28T10:56:21.014Z"
   },
   {
    "duration": 1,
    "start_time": "2022-08-28T10:56:21.014Z"
   },
   {
    "duration": 0,
    "start_time": "2022-08-28T10:56:21.015Z"
   },
   {
    "duration": 0,
    "start_time": "2022-08-28T10:56:21.016Z"
   },
   {
    "duration": 0,
    "start_time": "2022-08-28T10:56:21.017Z"
   },
   {
    "duration": 0,
    "start_time": "2022-08-28T10:56:21.018Z"
   },
   {
    "duration": 0,
    "start_time": "2022-08-28T10:56:21.019Z"
   },
   {
    "duration": 0,
    "start_time": "2022-08-28T10:56:21.020Z"
   },
   {
    "duration": 0,
    "start_time": "2022-08-28T10:56:21.021Z"
   },
   {
    "duration": 0,
    "start_time": "2022-08-28T10:56:21.022Z"
   },
   {
    "duration": 0,
    "start_time": "2022-08-28T10:56:21.023Z"
   },
   {
    "duration": 1,
    "start_time": "2022-08-28T10:56:21.023Z"
   },
   {
    "duration": 0,
    "start_time": "2022-08-28T10:56:21.024Z"
   },
   {
    "duration": 0,
    "start_time": "2022-08-28T10:56:21.026Z"
   },
   {
    "duration": 0,
    "start_time": "2022-08-28T10:56:21.027Z"
   },
   {
    "duration": 0,
    "start_time": "2022-08-28T10:56:21.028Z"
   },
   {
    "duration": 0,
    "start_time": "2022-08-28T10:56:21.030Z"
   },
   {
    "duration": 0,
    "start_time": "2022-08-28T10:56:21.031Z"
   },
   {
    "duration": 0,
    "start_time": "2022-08-28T10:56:21.032Z"
   },
   {
    "duration": 0,
    "start_time": "2022-08-28T10:56:21.033Z"
   },
   {
    "duration": 0,
    "start_time": "2022-08-28T10:56:21.034Z"
   },
   {
    "duration": 0,
    "start_time": "2022-08-28T10:56:21.035Z"
   },
   {
    "duration": 0,
    "start_time": "2022-08-28T10:56:21.036Z"
   },
   {
    "duration": 0,
    "start_time": "2022-08-28T10:56:21.037Z"
   },
   {
    "duration": 0,
    "start_time": "2022-08-28T10:56:21.038Z"
   },
   {
    "duration": 0,
    "start_time": "2022-08-28T10:56:21.039Z"
   },
   {
    "duration": 0,
    "start_time": "2022-08-28T10:56:21.040Z"
   },
   {
    "duration": 3,
    "start_time": "2022-08-28T11:04:55.969Z"
   },
   {
    "duration": 7,
    "start_time": "2022-08-28T11:04:56.874Z"
   },
   {
    "duration": 9,
    "start_time": "2022-08-28T11:06:34.007Z"
   },
   {
    "duration": 999,
    "start_time": "2022-08-28T11:06:43.907Z"
   },
   {
    "duration": 1198,
    "start_time": "2022-08-28T11:06:46.976Z"
   },
   {
    "duration": 1048,
    "start_time": "2022-08-28T11:06:56.109Z"
   },
   {
    "duration": 1167,
    "start_time": "2022-08-28T11:08:03.590Z"
   },
   {
    "duration": 3,
    "start_time": "2022-08-28T11:08:24.827Z"
   },
   {
    "duration": 72,
    "start_time": "2022-08-28T11:08:24.989Z"
   },
   {
    "duration": 25,
    "start_time": "2022-08-28T11:08:25.159Z"
   },
   {
    "duration": 14,
    "start_time": "2022-08-28T11:08:25.481Z"
   },
   {
    "duration": 25,
    "start_time": "2022-08-28T11:08:26.375Z"
   },
   {
    "duration": 15,
    "start_time": "2022-08-28T11:08:26.665Z"
   },
   {
    "duration": 5,
    "start_time": "2022-08-28T11:08:26.947Z"
   },
   {
    "duration": 4,
    "start_time": "2022-08-28T11:08:27.371Z"
   },
   {
    "duration": 18,
    "start_time": "2022-08-28T11:08:27.534Z"
   },
   {
    "duration": 10,
    "start_time": "2022-08-28T11:08:27.806Z"
   },
   {
    "duration": 6,
    "start_time": "2022-08-28T11:08:28.095Z"
   },
   {
    "duration": 6,
    "start_time": "2022-08-28T11:08:28.248Z"
   },
   {
    "duration": 8,
    "start_time": "2022-08-28T11:08:28.529Z"
   },
   {
    "duration": 9,
    "start_time": "2022-08-28T11:08:28.695Z"
   },
   {
    "duration": 7,
    "start_time": "2022-08-28T11:08:29.028Z"
   },
   {
    "duration": 8,
    "start_time": "2022-08-28T11:08:29.335Z"
   },
   {
    "duration": 1260,
    "start_time": "2022-08-28T11:08:29.506Z"
   },
   {
    "duration": 0,
    "start_time": "2022-08-28T11:08:30.768Z"
   },
   {
    "duration": 0,
    "start_time": "2022-08-28T11:08:30.769Z"
   },
   {
    "duration": 0,
    "start_time": "2022-08-28T11:08:30.771Z"
   },
   {
    "duration": 0,
    "start_time": "2022-08-28T11:08:30.772Z"
   },
   {
    "duration": 11,
    "start_time": "2022-08-28T11:08:31.373Z"
   },
   {
    "duration": 238,
    "start_time": "2022-08-28T11:08:31.563Z"
   },
   {
    "duration": 12,
    "start_time": "2022-08-28T11:08:32.393Z"
   },
   {
    "duration": 3,
    "start_time": "2022-08-28T11:08:32.731Z"
   },
   {
    "duration": 38,
    "start_time": "2022-08-28T11:08:32.904Z"
   },
   {
    "duration": 4,
    "start_time": "2022-08-28T11:08:33.069Z"
   },
   {
    "duration": 17,
    "start_time": "2022-08-28T11:08:34.379Z"
   },
   {
    "duration": 11,
    "start_time": "2022-08-28T11:08:34.686Z"
   },
   {
    "duration": 3,
    "start_time": "2022-08-28T11:08:35.002Z"
   },
   {
    "duration": 26,
    "start_time": "2022-08-28T11:08:35.154Z"
   },
   {
    "duration": 201,
    "start_time": "2022-08-28T11:08:35.928Z"
   },
   {
    "duration": 17,
    "start_time": "2022-08-28T11:08:36.736Z"
   },
   {
    "duration": 573,
    "start_time": "2022-08-28T11:08:36.927Z"
   },
   {
    "duration": 0,
    "start_time": "2022-08-28T11:08:37.501Z"
   },
   {
    "duration": 14,
    "start_time": "2022-08-28T11:08:38.195Z"
   },
   {
    "duration": 9,
    "start_time": "2022-08-28T11:08:38.366Z"
   },
   {
    "duration": 22,
    "start_time": "2022-08-28T11:08:38.692Z"
   },
   {
    "duration": 9,
    "start_time": "2022-08-28T11:08:38.835Z"
   },
   {
    "duration": 24,
    "start_time": "2022-08-28T11:08:45.605Z"
   },
   {
    "duration": 8,
    "start_time": "2022-08-28T11:08:45.785Z"
   },
   {
    "duration": 14,
    "start_time": "2022-08-28T11:08:46.088Z"
   },
   {
    "duration": 10,
    "start_time": "2022-08-28T11:08:46.251Z"
   },
   {
    "duration": 8,
    "start_time": "2022-08-28T11:08:47.030Z"
   },
   {
    "duration": 204,
    "start_time": "2022-08-28T11:08:47.337Z"
   },
   {
    "duration": 14,
    "start_time": "2022-08-28T11:08:47.543Z"
   },
   {
    "duration": 164,
    "start_time": "2022-08-28T11:08:47.834Z"
   },
   {
    "duration": 8,
    "start_time": "2022-08-28T11:08:49.538Z"
   },
   {
    "duration": 160,
    "start_time": "2022-08-28T11:08:49.726Z"
   },
   {
    "duration": 102,
    "start_time": "2022-08-28T11:08:49.897Z"
   },
   {
    "duration": 7,
    "start_time": "2022-08-28T11:08:50.246Z"
   },
   {
    "duration": 167,
    "start_time": "2022-08-28T11:08:50.405Z"
   },
   {
    "duration": 198,
    "start_time": "2022-08-28T11:08:50.579Z"
   },
   {
    "duration": 7,
    "start_time": "2022-08-28T11:08:50.925Z"
   },
   {
    "duration": 155,
    "start_time": "2022-08-28T11:08:51.081Z"
   },
   {
    "duration": 98,
    "start_time": "2022-08-28T11:08:51.268Z"
   },
   {
    "duration": 10,
    "start_time": "2022-08-28T11:08:51.906Z"
   },
   {
    "duration": 166,
    "start_time": "2022-08-28T11:08:52.063Z"
   },
   {
    "duration": 6,
    "start_time": "2022-08-28T11:08:52.377Z"
   },
   {
    "duration": 149,
    "start_time": "2022-08-28T11:08:52.531Z"
   },
   {
    "duration": 9,
    "start_time": "2022-08-28T11:08:52.830Z"
   },
   {
    "duration": 154,
    "start_time": "2022-08-28T11:08:52.997Z"
   },
   {
    "duration": 15,
    "start_time": "2022-08-28T11:08:54.230Z"
   },
   {
    "duration": 14,
    "start_time": "2022-08-28T11:08:54.669Z"
   },
   {
    "duration": 16,
    "start_time": "2022-08-28T11:08:55.148Z"
   },
   {
    "duration": 5,
    "start_time": "2022-08-28T11:08:56.727Z"
   },
   {
    "duration": 6,
    "start_time": "2022-08-28T11:08:56.898Z"
   },
   {
    "duration": 5,
    "start_time": "2022-08-28T11:08:57.239Z"
   },
   {
    "duration": 6,
    "start_time": "2022-08-28T11:08:58.589Z"
   },
   {
    "duration": 97,
    "start_time": "2022-08-28T11:08:58.797Z"
   },
   {
    "duration": 6,
    "start_time": "2022-08-28T11:09:01.127Z"
   },
   {
    "duration": 86,
    "start_time": "2022-08-28T11:13:36.547Z"
   },
   {
    "duration": 3,
    "start_time": "2022-08-28T11:13:47.089Z"
   },
   {
    "duration": 49,
    "start_time": "2022-08-28T11:13:47.927Z"
   },
   {
    "duration": 30,
    "start_time": "2022-08-28T11:13:48.509Z"
   },
   {
    "duration": 14,
    "start_time": "2022-08-28T11:13:52.971Z"
   },
   {
    "duration": 35,
    "start_time": "2022-08-28T11:14:00.095Z"
   },
   {
    "duration": 17,
    "start_time": "2022-08-28T11:14:02.799Z"
   },
   {
    "duration": 5,
    "start_time": "2022-08-28T11:14:13.690Z"
   },
   {
    "duration": 4,
    "start_time": "2022-08-28T11:14:41.302Z"
   },
   {
    "duration": 3,
    "start_time": "2022-08-28T11:14:42.745Z"
   },
   {
    "duration": 18,
    "start_time": "2022-08-28T11:14:43.307Z"
   },
   {
    "duration": 6,
    "start_time": "2022-08-28T11:15:08.294Z"
   },
   {
    "duration": 6,
    "start_time": "2022-08-28T11:15:15.529Z"
   },
   {
    "duration": 6,
    "start_time": "2022-08-28T11:15:16.844Z"
   },
   {
    "duration": 7,
    "start_time": "2022-08-28T11:15:44.975Z"
   },
   {
    "duration": 46,
    "start_time": "2022-08-28T11:15:54.527Z"
   },
   {
    "duration": 12,
    "start_time": "2022-08-28T11:16:00.491Z"
   },
   {
    "duration": 6,
    "start_time": "2022-08-28T11:16:12.189Z"
   },
   {
    "duration": 5,
    "start_time": "2022-08-28T11:16:12.492Z"
   },
   {
    "duration": 9,
    "start_time": "2022-08-28T11:16:18.427Z"
   },
   {
    "duration": 9,
    "start_time": "2022-08-28T11:16:30.417Z"
   },
   {
    "duration": 1015,
    "start_time": "2022-08-28T11:16:44.533Z"
   },
   {
    "duration": 974,
    "start_time": "2022-08-28T11:16:54.934Z"
   },
   {
    "duration": 11,
    "start_time": "2022-08-28T11:17:02.750Z"
   },
   {
    "duration": 1054,
    "start_time": "2022-08-28T11:17:08.685Z"
   },
   {
    "duration": 8,
    "start_time": "2022-08-28T11:17:16.363Z"
   },
   {
    "duration": 1102,
    "start_time": "2022-08-28T11:17:21.761Z"
   },
   {
    "duration": 5,
    "start_time": "2022-08-28T11:17:32.364Z"
   },
   {
    "duration": 17,
    "start_time": "2022-08-28T11:18:21.156Z"
   },
   {
    "duration": 4,
    "start_time": "2022-08-28T11:18:39.583Z"
   },
   {
    "duration": 1320,
    "start_time": "2022-08-28T11:18:47.628Z"
   },
   {
    "duration": 84,
    "start_time": "2022-08-28T11:18:48.950Z"
   },
   {
    "duration": 35,
    "start_time": "2022-08-28T11:18:49.037Z"
   },
   {
    "duration": 43,
    "start_time": "2022-08-28T11:18:49.075Z"
   },
   {
    "duration": 47,
    "start_time": "2022-08-28T11:18:49.121Z"
   },
   {
    "duration": 5,
    "start_time": "2022-08-28T11:18:49.170Z"
   },
   {
    "duration": 58,
    "start_time": "2022-08-28T11:18:49.177Z"
   },
   {
    "duration": 63,
    "start_time": "2022-08-28T11:18:49.237Z"
   },
   {
    "duration": 48,
    "start_time": "2022-08-28T11:18:49.302Z"
   },
   {
    "duration": 31,
    "start_time": "2022-08-28T11:18:49.354Z"
   },
   {
    "duration": 49,
    "start_time": "2022-08-28T11:18:49.387Z"
   },
   {
    "duration": 17,
    "start_time": "2022-08-28T11:18:49.438Z"
   },
   {
    "duration": 17,
    "start_time": "2022-08-28T11:18:49.458Z"
   },
   {
    "duration": 23,
    "start_time": "2022-08-28T11:18:49.477Z"
   },
   {
    "duration": 52,
    "start_time": "2022-08-28T11:18:49.501Z"
   },
   {
    "duration": 19,
    "start_time": "2022-08-28T11:18:49.555Z"
   },
   {
    "duration": 11,
    "start_time": "2022-08-28T11:18:49.576Z"
   },
   {
    "duration": 1152,
    "start_time": "2022-08-28T11:18:49.589Z"
   },
   {
    "duration": 0,
    "start_time": "2022-08-28T11:18:50.744Z"
   },
   {
    "duration": 0,
    "start_time": "2022-08-28T11:18:50.746Z"
   },
   {
    "duration": 0,
    "start_time": "2022-08-28T11:18:50.748Z"
   },
   {
    "duration": 0,
    "start_time": "2022-08-28T11:18:50.749Z"
   },
   {
    "duration": 0,
    "start_time": "2022-08-28T11:18:50.750Z"
   },
   {
    "duration": 0,
    "start_time": "2022-08-28T11:18:50.751Z"
   },
   {
    "duration": 0,
    "start_time": "2022-08-28T11:18:50.753Z"
   },
   {
    "duration": 0,
    "start_time": "2022-08-28T11:18:50.754Z"
   },
   {
    "duration": 0,
    "start_time": "2022-08-28T11:18:50.755Z"
   },
   {
    "duration": 0,
    "start_time": "2022-08-28T11:18:50.757Z"
   },
   {
    "duration": 0,
    "start_time": "2022-08-28T11:18:50.758Z"
   },
   {
    "duration": 0,
    "start_time": "2022-08-28T11:18:50.760Z"
   },
   {
    "duration": 0,
    "start_time": "2022-08-28T11:18:50.761Z"
   },
   {
    "duration": 0,
    "start_time": "2022-08-28T11:18:50.762Z"
   },
   {
    "duration": 0,
    "start_time": "2022-08-28T11:18:50.763Z"
   },
   {
    "duration": 0,
    "start_time": "2022-08-28T11:18:50.764Z"
   },
   {
    "duration": 0,
    "start_time": "2022-08-28T11:18:50.766Z"
   },
   {
    "duration": 0,
    "start_time": "2022-08-28T11:18:50.767Z"
   },
   {
    "duration": 0,
    "start_time": "2022-08-28T11:18:50.768Z"
   },
   {
    "duration": 0,
    "start_time": "2022-08-28T11:18:50.769Z"
   },
   {
    "duration": 0,
    "start_time": "2022-08-28T11:18:50.770Z"
   },
   {
    "duration": 0,
    "start_time": "2022-08-28T11:18:50.771Z"
   },
   {
    "duration": 0,
    "start_time": "2022-08-28T11:18:50.773Z"
   },
   {
    "duration": 0,
    "start_time": "2022-08-28T11:18:50.774Z"
   },
   {
    "duration": 0,
    "start_time": "2022-08-28T11:18:50.775Z"
   },
   {
    "duration": 0,
    "start_time": "2022-08-28T11:18:50.776Z"
   },
   {
    "duration": 0,
    "start_time": "2022-08-28T11:18:50.777Z"
   },
   {
    "duration": 0,
    "start_time": "2022-08-28T11:18:50.778Z"
   },
   {
    "duration": 0,
    "start_time": "2022-08-28T11:18:50.779Z"
   },
   {
    "duration": 0,
    "start_time": "2022-08-28T11:18:50.780Z"
   },
   {
    "duration": 0,
    "start_time": "2022-08-28T11:18:50.810Z"
   },
   {
    "duration": 0,
    "start_time": "2022-08-28T11:18:50.811Z"
   },
   {
    "duration": 0,
    "start_time": "2022-08-28T11:18:50.817Z"
   },
   {
    "duration": 0,
    "start_time": "2022-08-28T11:18:50.818Z"
   },
   {
    "duration": 0,
    "start_time": "2022-08-28T11:18:50.818Z"
   },
   {
    "duration": 0,
    "start_time": "2022-08-28T11:18:50.819Z"
   },
   {
    "duration": 0,
    "start_time": "2022-08-28T11:18:50.820Z"
   },
   {
    "duration": 0,
    "start_time": "2022-08-28T11:18:50.821Z"
   },
   {
    "duration": 0,
    "start_time": "2022-08-28T11:18:50.822Z"
   },
   {
    "duration": 0,
    "start_time": "2022-08-28T11:18:50.823Z"
   },
   {
    "duration": 0,
    "start_time": "2022-08-28T11:18:50.825Z"
   },
   {
    "duration": 0,
    "start_time": "2022-08-28T11:18:50.826Z"
   },
   {
    "duration": 0,
    "start_time": "2022-08-28T11:18:50.828Z"
   },
   {
    "duration": 0,
    "start_time": "2022-08-28T11:18:50.829Z"
   },
   {
    "duration": 0,
    "start_time": "2022-08-28T11:18:50.829Z"
   },
   {
    "duration": 0,
    "start_time": "2022-08-28T11:18:50.830Z"
   },
   {
    "duration": 0,
    "start_time": "2022-08-28T11:18:50.832Z"
   },
   {
    "duration": 0,
    "start_time": "2022-08-28T11:18:50.833Z"
   },
   {
    "duration": 0,
    "start_time": "2022-08-28T11:18:50.834Z"
   },
   {
    "duration": 0,
    "start_time": "2022-08-28T11:18:50.835Z"
   },
   {
    "duration": 0,
    "start_time": "2022-08-28T11:18:50.836Z"
   },
   {
    "duration": 0,
    "start_time": "2022-08-28T11:18:50.837Z"
   },
   {
    "duration": 3,
    "start_time": "2022-08-28T11:18:57.056Z"
   },
   {
    "duration": 57,
    "start_time": "2022-08-28T11:18:57.534Z"
   },
   {
    "duration": 28,
    "start_time": "2022-08-28T11:18:58.149Z"
   },
   {
    "duration": 15,
    "start_time": "2022-08-28T11:18:59.564Z"
   },
   {
    "duration": 37,
    "start_time": "2022-08-28T11:19:22.530Z"
   },
   {
    "duration": 5,
    "start_time": "2022-08-28T11:19:25.298Z"
   },
   {
    "duration": 11,
    "start_time": "2022-08-28T11:19:32.407Z"
   },
   {
    "duration": 15,
    "start_time": "2022-08-28T11:19:33.009Z"
   },
   {
    "duration": 9,
    "start_time": "2022-08-28T11:19:51.345Z"
   },
   {
    "duration": 11,
    "start_time": "2022-08-28T11:19:52.608Z"
   },
   {
    "duration": 5,
    "start_time": "2022-08-28T11:19:53.475Z"
   },
   {
    "duration": 7,
    "start_time": "2022-08-28T11:20:05.138Z"
   },
   {
    "duration": 7,
    "start_time": "2022-08-28T11:20:16.142Z"
   },
   {
    "duration": 8,
    "start_time": "2022-08-28T11:20:17.684Z"
   },
   {
    "duration": 1230,
    "start_time": "2022-08-28T11:20:26.134Z"
   },
   {
    "duration": 5,
    "start_time": "2022-08-28T11:21:43.662Z"
   },
   {
    "duration": 5,
    "start_time": "2022-08-28T11:22:00.230Z"
   },
   {
    "duration": 6,
    "start_time": "2022-08-28T11:22:01.540Z"
   },
   {
    "duration": 5,
    "start_time": "2022-08-28T11:22:06.097Z"
   },
   {
    "duration": 11,
    "start_time": "2022-08-28T11:22:09.140Z"
   },
   {
    "duration": 7,
    "start_time": "2022-08-28T11:22:10.805Z"
   },
   {
    "duration": 6,
    "start_time": "2022-08-28T11:22:15.375Z"
   },
   {
    "duration": 6,
    "start_time": "2022-08-28T11:22:45.684Z"
   },
   {
    "duration": 6,
    "start_time": "2022-08-28T11:22:46.580Z"
   },
   {
    "duration": 21,
    "start_time": "2022-08-28T11:22:53.900Z"
   },
   {
    "duration": 5,
    "start_time": "2022-08-28T11:23:42.527Z"
   },
   {
    "duration": 5,
    "start_time": "2022-08-28T11:23:52.574Z"
   },
   {
    "duration": 15,
    "start_time": "2022-08-28T11:23:59.332Z"
   },
   {
    "duration": 4,
    "start_time": "2022-08-28T11:24:18.383Z"
   },
   {
    "duration": 8,
    "start_time": "2022-08-28T11:24:21.739Z"
   },
   {
    "duration": 9,
    "start_time": "2022-08-28T11:24:22.751Z"
   },
   {
    "duration": 4,
    "start_time": "2022-08-28T11:24:23.402Z"
   },
   {
    "duration": 5,
    "start_time": "2022-08-28T11:24:28.437Z"
   },
   {
    "duration": 5,
    "start_time": "2022-08-28T11:24:28.638Z"
   },
   {
    "duration": 3,
    "start_time": "2022-08-28T11:24:29.253Z"
   },
   {
    "duration": 6,
    "start_time": "2022-08-28T11:24:29.436Z"
   },
   {
    "duration": 14,
    "start_time": "2022-08-28T11:24:41.959Z"
   },
   {
    "duration": 16,
    "start_time": "2022-08-28T11:24:47.000Z"
   },
   {
    "duration": 337,
    "start_time": "2022-08-28T11:24:47.177Z"
   },
   {
    "duration": 15,
    "start_time": "2022-08-28T11:24:48.805Z"
   },
   {
    "duration": 3,
    "start_time": "2022-08-28T11:24:49.677Z"
   },
   {
    "duration": 339,
    "start_time": "2022-08-28T11:24:49.856Z"
   },
   {
    "duration": 17,
    "start_time": "2022-08-28T11:24:50.197Z"
   },
   {
    "duration": 22,
    "start_time": "2022-08-28T11:24:54.340Z"
   },
   {
    "duration": 14,
    "start_time": "2022-08-28T11:24:55.132Z"
   },
   {
    "duration": 3,
    "start_time": "2022-08-28T11:24:56.272Z"
   },
   {
    "duration": 577,
    "start_time": "2022-08-28T11:24:56.751Z"
   },
   {
    "duration": 346,
    "start_time": "2022-08-28T11:24:58.992Z"
   },
   {
    "duration": 11,
    "start_time": "2022-08-28T11:25:00.389Z"
   },
   {
    "duration": 1050,
    "start_time": "2022-08-28T11:25:00.610Z"
   },
   {
    "duration": 12,
    "start_time": "2022-08-28T11:26:56.967Z"
   },
   {
    "duration": 12,
    "start_time": "2022-08-28T11:27:01.131Z"
   },
   {
    "duration": 19,
    "start_time": "2022-08-28T11:27:22.541Z"
   },
   {
    "duration": 231,
    "start_time": "2022-08-28T11:27:23.262Z"
   },
   {
    "duration": 17,
    "start_time": "2022-08-28T11:27:25.637Z"
   },
   {
    "duration": 3,
    "start_time": "2022-08-28T11:27:28.237Z"
   },
   {
    "duration": 318,
    "start_time": "2022-08-28T11:27:31.069Z"
   },
   {
    "duration": 6,
    "start_time": "2022-08-28T11:27:31.715Z"
   },
   {
    "duration": 24,
    "start_time": "2022-08-28T11:27:36.630Z"
   },
   {
    "duration": 18,
    "start_time": "2022-08-28T11:27:39.437Z"
   },
   {
    "duration": 4,
    "start_time": "2022-08-28T11:27:43.231Z"
   },
   {
    "duration": 561,
    "start_time": "2022-08-28T11:27:47.829Z"
   },
   {
    "duration": 445,
    "start_time": "2022-08-28T11:27:55.835Z"
   },
   {
    "duration": 18,
    "start_time": "2022-08-28T11:28:13.400Z"
   },
   {
    "duration": 23,
    "start_time": "2022-08-28T11:28:20.809Z"
   },
   {
    "duration": 953,
    "start_time": "2022-08-28T11:28:26.079Z"
   },
   {
    "duration": 12,
    "start_time": "2022-08-28T11:28:32.349Z"
   },
   {
    "duration": 29,
    "start_time": "2022-08-28T11:28:44.605Z"
   },
   {
    "duration": 13,
    "start_time": "2022-08-28T11:28:48.935Z"
   },
   {
    "duration": 17,
    "start_time": "2022-08-28T11:28:57.950Z"
   },
   {
    "duration": 20,
    "start_time": "2022-08-28T11:28:58.805Z"
   },
   {
    "duration": 17,
    "start_time": "2022-08-28T11:29:08.394Z"
   },
   {
    "duration": 9,
    "start_time": "2022-08-28T11:29:08.858Z"
   },
   {
    "duration": 7,
    "start_time": "2022-08-28T11:29:12.327Z"
   },
   {
    "duration": 10,
    "start_time": "2022-08-28T11:35:39.731Z"
   },
   {
    "duration": 208,
    "start_time": "2022-08-28T11:35:40.149Z"
   },
   {
    "duration": 10,
    "start_time": "2022-08-28T11:35:40.359Z"
   },
   {
    "duration": 188,
    "start_time": "2022-08-28T11:35:41.139Z"
   },
   {
    "duration": 10,
    "start_time": "2022-08-28T11:35:43.431Z"
   },
   {
    "duration": 178,
    "start_time": "2022-08-28T11:35:43.948Z"
   },
   {
    "duration": 117,
    "start_time": "2022-08-28T11:35:44.131Z"
   },
   {
    "duration": 8,
    "start_time": "2022-08-28T11:35:44.431Z"
   },
   {
    "duration": 181,
    "start_time": "2022-08-28T11:35:44.586Z"
   },
   {
    "duration": 118,
    "start_time": "2022-08-28T11:35:44.930Z"
   },
   {
    "duration": 9,
    "start_time": "2022-08-28T11:35:45.230Z"
   },
   {
    "duration": 199,
    "start_time": "2022-08-28T11:35:45.370Z"
   },
   {
    "duration": 129,
    "start_time": "2022-08-28T11:35:45.571Z"
   },
   {
    "duration": 12,
    "start_time": "2022-08-28T11:35:46.303Z"
   },
   {
    "duration": 205,
    "start_time": "2022-08-28T11:35:46.459Z"
   },
   {
    "duration": 8,
    "start_time": "2022-08-28T11:35:46.765Z"
   },
   {
    "duration": 182,
    "start_time": "2022-08-28T11:35:46.952Z"
   },
   {
    "duration": 11,
    "start_time": "2022-08-28T11:35:47.280Z"
   },
   {
    "duration": 210,
    "start_time": "2022-08-28T11:35:47.459Z"
   },
   {
    "duration": 15,
    "start_time": "2022-08-28T11:35:49.495Z"
   },
   {
    "duration": 19,
    "start_time": "2022-08-28T11:35:50.454Z"
   },
   {
    "duration": 20,
    "start_time": "2022-08-28T11:35:50.927Z"
   },
   {
    "duration": 10,
    "start_time": "2022-08-28T11:35:52.430Z"
   },
   {
    "duration": 11,
    "start_time": "2022-08-28T11:35:52.608Z"
   },
   {
    "duration": 7,
    "start_time": "2022-08-28T11:35:54.404Z"
   },
   {
    "duration": 7,
    "start_time": "2022-08-28T11:36:02.665Z"
   },
   {
    "duration": 6,
    "start_time": "2022-08-28T11:36:03.567Z"
   },
   {
    "duration": 7,
    "start_time": "2022-08-28T11:36:07.049Z"
   },
   {
    "duration": 5,
    "start_time": "2022-08-28T11:37:11.831Z"
   },
   {
    "duration": 5,
    "start_time": "2022-08-28T11:37:17.255Z"
   },
   {
    "duration": 9,
    "start_time": "2022-08-28T11:38:39.390Z"
   },
   {
    "duration": 6,
    "start_time": "2022-08-28T11:38:43.802Z"
   },
   {
    "duration": 5,
    "start_time": "2022-08-28T11:38:45.272Z"
   },
   {
    "duration": 325,
    "start_time": "2022-08-28T11:47:23.828Z"
   },
   {
    "duration": 4,
    "start_time": "2022-08-28T11:47:25.059Z"
   },
   {
    "duration": 27,
    "start_time": "2022-08-28T11:47:27.168Z"
   },
   {
    "duration": 13,
    "start_time": "2022-08-28T11:47:27.637Z"
   },
   {
    "duration": 4,
    "start_time": "2022-08-28T11:47:27.938Z"
   },
   {
    "duration": 501,
    "start_time": "2022-08-28T11:47:28.126Z"
   },
   {
    "duration": 440,
    "start_time": "2022-08-28T11:47:29.738Z"
   },
   {
    "duration": 17,
    "start_time": "2022-08-28T11:47:32.027Z"
   },
   {
    "duration": 727,
    "start_time": "2022-08-28T11:47:32.528Z"
   },
   {
    "duration": 9,
    "start_time": "2022-08-28T11:47:33.258Z"
   },
   {
    "duration": 17,
    "start_time": "2022-08-28T11:47:33.888Z"
   },
   {
    "duration": 9,
    "start_time": "2022-08-28T11:47:34.086Z"
   },
   {
    "duration": 30,
    "start_time": "2022-08-28T11:47:34.795Z"
   },
   {
    "duration": 9,
    "start_time": "2022-08-28T11:47:34.965Z"
   },
   {
    "duration": 15,
    "start_time": "2022-08-28T11:47:35.278Z"
   },
   {
    "duration": 10,
    "start_time": "2022-08-28T11:47:35.426Z"
   },
   {
    "duration": 10,
    "start_time": "2022-08-28T11:47:36.727Z"
   },
   {
    "duration": 6,
    "start_time": "2022-08-28T11:48:29.832Z"
   },
   {
    "duration": 5,
    "start_time": "2022-08-28T11:48:57.152Z"
   },
   {
    "duration": 7,
    "start_time": "2022-08-28T11:49:05.524Z"
   },
   {
    "duration": 16,
    "start_time": "2022-08-28T11:49:20.727Z"
   },
   {
    "duration": 14,
    "start_time": "2022-08-28T11:49:31.980Z"
   },
   {
    "duration": 14,
    "start_time": "2022-08-28T11:49:35.046Z"
   },
   {
    "duration": 15,
    "start_time": "2022-08-28T11:53:27.529Z"
   },
   {
    "duration": 5,
    "start_time": "2022-08-28T11:53:39.293Z"
   },
   {
    "duration": 11,
    "start_time": "2022-08-28T11:53:45.132Z"
   },
   {
    "duration": 8,
    "start_time": "2022-08-28T11:53:54.977Z"
   },
   {
    "duration": 7,
    "start_time": "2022-08-28T11:54:01.294Z"
   },
   {
    "duration": 8,
    "start_time": "2022-08-28T11:57:08.299Z"
   },
   {
    "duration": 8,
    "start_time": "2022-08-28T11:57:15.661Z"
   },
   {
    "duration": 12,
    "start_time": "2022-08-28T12:00:30.007Z"
   },
   {
    "duration": 67,
    "start_time": "2022-08-28T12:22:28.609Z"
   },
   {
    "duration": 8,
    "start_time": "2022-08-28T12:24:10.959Z"
   },
   {
    "duration": 167,
    "start_time": "2022-08-28T12:24:12.028Z"
   },
   {
    "duration": 10,
    "start_time": "2022-08-28T12:24:43.334Z"
   },
   {
    "duration": 180,
    "start_time": "2022-08-28T12:27:19.656Z"
   },
   {
    "duration": 170,
    "start_time": "2022-08-28T12:27:27.933Z"
   },
   {
    "duration": 11,
    "start_time": "2022-08-28T12:42:35.651Z"
   },
   {
    "duration": 162,
    "start_time": "2022-08-28T12:42:36.283Z"
   },
   {
    "duration": 123,
    "start_time": "2022-08-28T12:42:37.717Z"
   },
   {
    "duration": 8,
    "start_time": "2022-08-28T12:42:40.260Z"
   },
   {
    "duration": 266,
    "start_time": "2022-08-28T12:42:40.959Z"
   },
   {
    "duration": 97,
    "start_time": "2022-08-28T12:42:42.174Z"
   },
   {
    "duration": 7,
    "start_time": "2022-08-28T12:42:43.294Z"
   },
   {
    "duration": 152,
    "start_time": "2022-08-28T12:42:43.786Z"
   },
   {
    "duration": 118,
    "start_time": "2022-08-28T12:42:44.910Z"
   },
   {
    "duration": 106,
    "start_time": "2022-08-28T12:44:01.017Z"
   },
   {
    "duration": 127,
    "start_time": "2022-08-28T12:44:47.660Z"
   },
   {
    "duration": 140,
    "start_time": "2022-08-28T12:46:15.214Z"
   },
   {
    "duration": 7,
    "start_time": "2022-08-28T12:47:16.174Z"
   },
   {
    "duration": 220,
    "start_time": "2022-08-28T12:47:17.157Z"
   },
   {
    "duration": 13,
    "start_time": "2022-08-28T12:48:17.749Z"
   },
   {
    "duration": 172,
    "start_time": "2022-08-28T12:48:23.279Z"
   },
   {
    "duration": 194,
    "start_time": "2022-08-28T12:48:40.680Z"
   },
   {
    "duration": 10,
    "start_time": "2022-08-28T12:50:24.631Z"
   },
   {
    "duration": 223,
    "start_time": "2022-08-28T12:50:25.854Z"
   },
   {
    "duration": 10,
    "start_time": "2022-08-28T12:50:43.434Z"
   },
   {
    "duration": 181,
    "start_time": "2022-08-28T12:50:44.486Z"
   },
   {
    "duration": 14,
    "start_time": "2022-08-28T12:54:29.660Z"
   },
   {
    "duration": 14,
    "start_time": "2022-08-28T12:54:32.082Z"
   },
   {
    "duration": 13,
    "start_time": "2022-08-28T12:54:33.452Z"
   },
   {
    "duration": 10,
    "start_time": "2022-08-28T13:03:28.794Z"
   },
   {
    "duration": 15,
    "start_time": "2022-08-28T13:03:36.827Z"
   },
   {
    "duration": 5,
    "start_time": "2022-08-28T13:04:42.129Z"
   },
   {
    "duration": 5,
    "start_time": "2022-08-28T13:04:42.871Z"
   },
   {
    "duration": 4,
    "start_time": "2022-08-28T13:04:43.863Z"
   },
   {
    "duration": 3,
    "start_time": "2022-08-28T13:04:53.246Z"
   },
   {
    "duration": 57,
    "start_time": "2022-08-28T13:04:53.392Z"
   },
   {
    "duration": 32,
    "start_time": "2022-08-28T13:04:53.528Z"
   },
   {
    "duration": 15,
    "start_time": "2022-08-28T13:04:53.775Z"
   },
   {
    "duration": 27,
    "start_time": "2022-08-28T13:04:54.549Z"
   },
   {
    "duration": 6,
    "start_time": "2022-08-28T13:04:54.972Z"
   },
   {
    "duration": 3,
    "start_time": "2022-08-28T13:04:55.447Z"
   },
   {
    "duration": 9,
    "start_time": "2022-08-28T13:04:55.589Z"
   },
   {
    "duration": 11,
    "start_time": "2022-08-28T13:04:55.884Z"
   },
   {
    "duration": 5,
    "start_time": "2022-08-28T13:04:56.192Z"
   },
   {
    "duration": 6,
    "start_time": "2022-08-28T13:04:56.489Z"
   },
   {
    "duration": 6,
    "start_time": "2022-08-28T13:04:56.639Z"
   },
   {
    "duration": 15,
    "start_time": "2022-08-28T13:04:56.768Z"
   },
   {
    "duration": 5,
    "start_time": "2022-08-28T13:04:56.947Z"
   },
   {
    "duration": 14,
    "start_time": "2022-08-28T13:04:57.237Z"
   },
   {
    "duration": 6,
    "start_time": "2022-08-28T13:04:57.564Z"
   },
   {
    "duration": 5,
    "start_time": "2022-08-28T13:04:58.139Z"
   },
   {
    "duration": 6,
    "start_time": "2022-08-28T13:04:58.288Z"
   },
   {
    "duration": 7,
    "start_time": "2022-08-28T13:04:58.447Z"
   },
   {
    "duration": 5,
    "start_time": "2022-08-28T13:04:58.622Z"
   },
   {
    "duration": 6,
    "start_time": "2022-08-28T13:04:58.730Z"
   },
   {
    "duration": 3,
    "start_time": "2022-08-28T13:04:59.067Z"
   },
   {
    "duration": 7,
    "start_time": "2022-08-28T13:04:59.225Z"
   },
   {
    "duration": 14,
    "start_time": "2022-08-28T13:04:59.527Z"
   },
   {
    "duration": 12,
    "start_time": "2022-08-28T13:05:00.466Z"
   },
   {
    "duration": 236,
    "start_time": "2022-08-28T13:05:00.642Z"
   },
   {
    "duration": 12,
    "start_time": "2022-08-28T13:05:01.424Z"
   },
   {
    "duration": 4,
    "start_time": "2022-08-28T13:05:01.726Z"
   },
   {
    "duration": 479,
    "start_time": "2022-08-28T13:05:01.864Z"
   },
   {
    "duration": 4,
    "start_time": "2022-08-28T13:05:02.346Z"
   },
   {
    "duration": 20,
    "start_time": "2022-08-28T13:05:02.873Z"
   },
   {
    "duration": 12,
    "start_time": "2022-08-28T13:05:03.182Z"
   },
   {
    "duration": 4,
    "start_time": "2022-08-28T13:05:03.626Z"
   },
   {
    "duration": 509,
    "start_time": "2022-08-28T13:05:04.324Z"
   },
   {
    "duration": 335,
    "start_time": "2022-08-28T13:05:05.224Z"
   },
   {
    "duration": 22,
    "start_time": "2022-08-28T13:05:06.799Z"
   },
   {
    "duration": 492,
    "start_time": "2022-08-28T13:05:06.973Z"
   },
   {
    "duration": 10,
    "start_time": "2022-08-28T13:05:07.467Z"
   },
   {
    "duration": 20,
    "start_time": "2022-08-28T13:05:08.326Z"
   },
   {
    "duration": 8,
    "start_time": "2022-08-28T13:05:08.484Z"
   },
   {
    "duration": 19,
    "start_time": "2022-08-28T13:05:08.826Z"
   },
   {
    "duration": 10,
    "start_time": "2022-08-28T13:05:08.949Z"
   },
   {
    "duration": 29,
    "start_time": "2022-08-28T13:05:09.291Z"
   },
   {
    "duration": 8,
    "start_time": "2022-08-28T13:05:09.470Z"
   },
   {
    "duration": 10,
    "start_time": "2022-08-28T13:05:10.329Z"
   },
   {
    "duration": 174,
    "start_time": "2022-08-28T13:05:10.670Z"
   },
   {
    "duration": 7,
    "start_time": "2022-08-28T13:05:10.851Z"
   },
   {
    "duration": 171,
    "start_time": "2022-08-28T13:05:11.234Z"
   },
   {
    "duration": 10,
    "start_time": "2022-08-28T13:05:11.732Z"
   },
   {
    "duration": 13,
    "start_time": "2022-08-28T13:05:13.732Z"
   },
   {
    "duration": 150,
    "start_time": "2022-08-28T13:05:13.956Z"
   },
   {
    "duration": 118,
    "start_time": "2022-08-28T13:05:14.194Z"
   },
   {
    "duration": 8,
    "start_time": "2022-08-28T13:05:15.256Z"
   },
   {
    "duration": 270,
    "start_time": "2022-08-28T13:05:15.267Z"
   },
   {
    "duration": 106,
    "start_time": "2022-08-28T13:05:15.539Z"
   },
   {
    "duration": 7,
    "start_time": "2022-08-28T13:05:15.738Z"
   },
   {
    "duration": 180,
    "start_time": "2022-08-28T13:05:15.927Z"
   },
   {
    "duration": 119,
    "start_time": "2022-08-28T13:05:16.110Z"
   },
   {
    "duration": 3,
    "start_time": "2022-08-28T13:05:17.000Z"
   },
   {
    "duration": 15,
    "start_time": "2022-08-28T13:05:17.226Z"
   },
   {
    "duration": 209,
    "start_time": "2022-08-28T13:05:17.410Z"
   },
   {
    "duration": 3,
    "start_time": "2022-08-28T13:05:17.810Z"
   },
   {
    "duration": 7,
    "start_time": "2022-08-28T13:05:17.967Z"
   },
   {
    "duration": 163,
    "start_time": "2022-08-28T13:05:18.149Z"
   },
   {
    "duration": 3,
    "start_time": "2022-08-28T13:05:18.528Z"
   },
   {
    "duration": 7,
    "start_time": "2022-08-28T13:05:18.742Z"
   },
   {
    "duration": 152,
    "start_time": "2022-08-28T13:05:18.955Z"
   },
   {
    "duration": 14,
    "start_time": "2022-08-28T13:05:19.937Z"
   },
   {
    "duration": 16,
    "start_time": "2022-08-28T13:05:20.540Z"
   },
   {
    "duration": 15,
    "start_time": "2022-08-28T13:05:21.035Z"
   },
   {
    "duration": 5,
    "start_time": "2022-08-28T13:05:23.529Z"
   },
   {
    "duration": 6,
    "start_time": "2022-08-28T13:05:23.671Z"
   },
   {
    "duration": 4,
    "start_time": "2022-08-28T13:05:24.024Z"
   },
   {
    "duration": 7,
    "start_time": "2022-08-28T13:06:27.865Z"
   },
   {
    "duration": 7,
    "start_time": "2022-08-28T13:06:31.627Z"
   },
   {
    "duration": 5,
    "start_time": "2022-08-28T13:06:37.128Z"
   },
   {
    "duration": 6,
    "start_time": "2022-08-28T13:08:07.970Z"
   },
   {
    "duration": 7,
    "start_time": "2022-08-28T13:08:08.395Z"
   },
   {
    "duration": 4,
    "start_time": "2022-08-28T13:08:12.380Z"
   },
   {
    "duration": 6,
    "start_time": "2022-08-28T13:08:14.657Z"
   },
   {
    "duration": 6,
    "start_time": "2022-08-28T13:08:15.490Z"
   },
   {
    "duration": 6,
    "start_time": "2022-08-28T13:08:17.011Z"
   },
   {
    "duration": 6,
    "start_time": "2022-08-28T13:10:32.942Z"
   },
   {
    "duration": 7,
    "start_time": "2022-08-28T13:10:33.278Z"
   },
   {
    "duration": 6,
    "start_time": "2022-08-28T13:11:02.042Z"
   },
   {
    "duration": 6,
    "start_time": "2022-08-28T13:11:06.582Z"
   },
   {
    "duration": 68,
    "start_time": "2022-08-28T13:11:29.350Z"
   },
   {
    "duration": 6,
    "start_time": "2022-08-28T13:11:33.626Z"
   },
   {
    "duration": 9,
    "start_time": "2022-08-28T13:14:02.959Z"
   },
   {
    "duration": 7,
    "start_time": "2022-08-28T13:14:08.243Z"
   },
   {
    "duration": 6,
    "start_time": "2022-08-28T13:14:15.772Z"
   },
   {
    "duration": 4,
    "start_time": "2022-08-28T13:14:19.438Z"
   },
   {
    "duration": 52,
    "start_time": "2022-08-28T13:14:19.630Z"
   },
   {
    "duration": 28,
    "start_time": "2022-08-28T13:14:19.737Z"
   },
   {
    "duration": 17,
    "start_time": "2022-08-28T13:14:20.026Z"
   },
   {
    "duration": 24,
    "start_time": "2022-08-28T13:14:20.869Z"
   },
   {
    "duration": 4,
    "start_time": "2022-08-28T13:14:21.327Z"
   },
   {
    "duration": 3,
    "start_time": "2022-08-28T13:14:21.770Z"
   },
   {
    "duration": 10,
    "start_time": "2022-08-28T13:14:21.935Z"
   },
   {
    "duration": 9,
    "start_time": "2022-08-28T13:14:22.234Z"
   },
   {
    "duration": 5,
    "start_time": "2022-08-28T13:14:22.543Z"
   },
   {
    "duration": 5,
    "start_time": "2022-08-28T13:14:23.494Z"
   },
   {
    "duration": 5,
    "start_time": "2022-08-28T13:14:23.633Z"
   },
   {
    "duration": 19,
    "start_time": "2022-08-28T13:14:24.484Z"
   },
   {
    "duration": 7,
    "start_time": "2022-08-28T13:14:25.628Z"
   },
   {
    "duration": 5,
    "start_time": "2022-08-28T13:14:30.966Z"
   },
   {
    "duration": 5,
    "start_time": "2022-08-28T13:14:31.277Z"
   },
   {
    "duration": 14,
    "start_time": "2022-08-28T13:14:32.685Z"
   },
   {
    "duration": 17,
    "start_time": "2022-08-28T13:14:39.578Z"
   },
   {
    "duration": 26,
    "start_time": "2022-08-28T13:14:42.427Z"
   },
   {
    "duration": 5,
    "start_time": "2022-08-28T13:14:43.187Z"
   },
   {
    "duration": 4,
    "start_time": "2022-08-28T13:14:44.127Z"
   },
   {
    "duration": 10,
    "start_time": "2022-08-28T13:14:44.327Z"
   },
   {
    "duration": 991,
    "start_time": "2022-08-28T13:14:45.126Z"
   },
   {
    "duration": 6,
    "start_time": "2022-08-28T13:14:46.278Z"
   },
   {
    "duration": 9,
    "start_time": "2022-08-28T13:14:47.425Z"
   },
   {
    "duration": 7,
    "start_time": "2022-08-28T13:14:48.638Z"
   },
   {
    "duration": 14,
    "start_time": "2022-08-28T13:14:50.226Z"
   },
   {
    "duration": 5,
    "start_time": "2022-08-28T13:15:01.547Z"
   },
   {
    "duration": 16,
    "start_time": "2022-08-28T13:15:06.275Z"
   },
   {
    "duration": 4,
    "start_time": "2022-08-28T13:15:11.681Z"
   },
   {
    "duration": 8,
    "start_time": "2022-08-28T13:15:12.029Z"
   },
   {
    "duration": 1205,
    "start_time": "2022-08-28T13:15:13.129Z"
   },
   {
    "duration": 8,
    "start_time": "2022-08-28T13:15:17.590Z"
   },
   {
    "duration": 4,
    "start_time": "2022-08-28T13:15:20.133Z"
   },
   {
    "duration": 7,
    "start_time": "2022-08-28T13:15:20.827Z"
   },
   {
    "duration": 4,
    "start_time": "2022-08-28T13:15:21.730Z"
   },
   {
    "duration": 6,
    "start_time": "2022-08-28T13:15:23.427Z"
   },
   {
    "duration": 8,
    "start_time": "2022-08-28T13:15:26.223Z"
   },
   {
    "duration": 7,
    "start_time": "2022-08-28T13:15:27.467Z"
   },
   {
    "duration": 6,
    "start_time": "2022-08-28T13:15:28.959Z"
   },
   {
    "duration": 6,
    "start_time": "2022-08-28T13:15:29.625Z"
   },
   {
    "duration": 6,
    "start_time": "2022-08-28T13:15:30.328Z"
   },
   {
    "duration": 5,
    "start_time": "2022-08-28T13:15:31.475Z"
   },
   {
    "duration": 7,
    "start_time": "2022-08-28T13:15:32.075Z"
   },
   {
    "duration": 22,
    "start_time": "2022-08-28T13:15:38.204Z"
   },
   {
    "duration": 5,
    "start_time": "2022-08-28T13:15:48.949Z"
   },
   {
    "duration": 5,
    "start_time": "2022-08-28T13:15:49.096Z"
   },
   {
    "duration": 4,
    "start_time": "2022-08-28T13:15:49.165Z"
   },
   {
    "duration": 7,
    "start_time": "2022-08-28T13:15:49.327Z"
   },
   {
    "duration": 9,
    "start_time": "2022-08-28T13:15:49.584Z"
   },
   {
    "duration": 6,
    "start_time": "2022-08-28T13:15:49.852Z"
   },
   {
    "duration": 6,
    "start_time": "2022-08-28T13:15:50.126Z"
   },
   {
    "duration": 4,
    "start_time": "2022-08-28T13:15:50.280Z"
   },
   {
    "duration": 6,
    "start_time": "2022-08-28T13:15:51.128Z"
   },
   {
    "duration": 5,
    "start_time": "2022-08-28T13:15:51.494Z"
   },
   {
    "duration": 6,
    "start_time": "2022-08-28T13:15:51.669Z"
   },
   {
    "duration": 3,
    "start_time": "2022-08-28T13:15:52.026Z"
   },
   {
    "duration": 6,
    "start_time": "2022-08-28T13:15:52.233Z"
   },
   {
    "duration": 23,
    "start_time": "2022-08-28T13:15:52.668Z"
   },
   {
    "duration": 13,
    "start_time": "2022-08-28T13:15:53.887Z"
   },
   {
    "duration": 235,
    "start_time": "2022-08-28T13:15:54.048Z"
   },
   {
    "duration": 13,
    "start_time": "2022-08-28T13:15:54.862Z"
   },
   {
    "duration": 4,
    "start_time": "2022-08-28T13:15:55.246Z"
   },
   {
    "duration": 367,
    "start_time": "2022-08-28T13:15:55.388Z"
   },
   {
    "duration": 6,
    "start_time": "2022-08-28T13:15:55.757Z"
   },
   {
    "duration": 20,
    "start_time": "2022-08-28T13:15:56.846Z"
   },
   {
    "duration": 15,
    "start_time": "2022-08-28T13:15:58.299Z"
   },
   {
    "duration": 3,
    "start_time": "2022-08-28T13:15:58.750Z"
   },
   {
    "duration": 576,
    "start_time": "2022-08-28T13:15:59.125Z"
   },
   {
    "duration": 490,
    "start_time": "2022-08-28T13:16:00.349Z"
   },
   {
    "duration": 19,
    "start_time": "2022-08-28T13:16:01.927Z"
   },
   {
    "duration": 783,
    "start_time": "2022-08-28T13:16:02.079Z"
   },
   {
    "duration": 13,
    "start_time": "2022-08-28T13:16:04.709Z"
   },
   {
    "duration": 19,
    "start_time": "2022-08-28T13:16:06.427Z"
   },
   {
    "duration": 10,
    "start_time": "2022-08-28T13:16:06.564Z"
   },
   {
    "duration": 20,
    "start_time": "2022-08-28T13:16:06.929Z"
   },
   {
    "duration": 10,
    "start_time": "2022-08-28T13:16:07.126Z"
   },
   {
    "duration": 19,
    "start_time": "2022-08-28T13:16:07.426Z"
   },
   {
    "duration": 11,
    "start_time": "2022-08-28T13:16:07.582Z"
   },
   {
    "duration": 10,
    "start_time": "2022-08-28T13:16:08.329Z"
   },
   {
    "duration": 192,
    "start_time": "2022-08-28T13:16:08.638Z"
   },
   {
    "duration": 11,
    "start_time": "2022-08-28T13:16:08.833Z"
   },
   {
    "duration": 204,
    "start_time": "2022-08-28T13:16:09.130Z"
   },
   {
    "duration": 10,
    "start_time": "2022-08-28T13:16:09.637Z"
   },
   {
    "duration": 9,
    "start_time": "2022-08-28T13:16:11.189Z"
   },
   {
    "duration": 170,
    "start_time": "2022-08-28T13:16:11.380Z"
   },
   {
    "duration": 126,
    "start_time": "2022-08-28T13:16:11.599Z"
   },
   {
    "duration": 7,
    "start_time": "2022-08-28T13:16:11.898Z"
   },
   {
    "duration": 216,
    "start_time": "2022-08-28T13:16:12.048Z"
   },
   {
    "duration": 299,
    "start_time": "2022-08-28T13:16:12.266Z"
   },
   {
    "duration": 9,
    "start_time": "2022-08-28T13:16:12.568Z"
   },
   {
    "duration": 157,
    "start_time": "2022-08-28T13:16:12.641Z"
   },
   {
    "duration": 111,
    "start_time": "2022-08-28T13:16:12.830Z"
   },
   {
    "duration": 5,
    "start_time": "2022-08-28T13:16:13.724Z"
   },
   {
    "duration": 13,
    "start_time": "2022-08-28T13:16:13.927Z"
   },
   {
    "duration": 195,
    "start_time": "2022-08-28T13:16:14.066Z"
   },
   {
    "duration": 3,
    "start_time": "2022-08-28T13:16:14.368Z"
   },
   {
    "duration": 11,
    "start_time": "2022-08-28T13:16:14.549Z"
   },
   {
    "duration": 175,
    "start_time": "2022-08-28T13:16:14.766Z"
   },
   {
    "duration": 3,
    "start_time": "2022-08-28T13:16:15.127Z"
   },
   {
    "duration": 7,
    "start_time": "2022-08-28T13:16:15.299Z"
   },
   {
    "duration": 192,
    "start_time": "2022-08-28T13:16:15.490Z"
   },
   {
    "duration": 19,
    "start_time": "2022-08-28T13:16:16.356Z"
   },
   {
    "duration": 18,
    "start_time": "2022-08-28T13:16:17.190Z"
   },
   {
    "duration": 15,
    "start_time": "2022-08-28T13:16:17.642Z"
   },
   {
    "duration": 7,
    "start_time": "2022-08-28T13:16:20.064Z"
   },
   {
    "duration": 6,
    "start_time": "2022-08-28T13:16:20.657Z"
   },
   {
    "duration": 5,
    "start_time": "2022-08-28T13:16:21.373Z"
   },
   {
    "duration": 7,
    "start_time": "2022-08-28T13:16:22.334Z"
   },
   {
    "duration": 8,
    "start_time": "2022-08-28T13:16:22.527Z"
   },
   {
    "duration": 6,
    "start_time": "2022-08-28T13:16:23.534Z"
   },
   {
    "duration": 12,
    "start_time": "2022-08-28T13:17:03.628Z"
   },
   {
    "duration": 7,
    "start_time": "2022-08-28T13:17:17.959Z"
   },
   {
    "duration": 6,
    "start_time": "2022-08-28T13:17:20.561Z"
   },
   {
    "duration": 1324,
    "start_time": "2022-08-29T10:10:09.861Z"
   },
   {
    "duration": 99,
    "start_time": "2022-08-29T10:10:11.187Z"
   },
   {
    "duration": 27,
    "start_time": "2022-08-29T10:10:11.288Z"
   },
   {
    "duration": 14,
    "start_time": "2022-08-29T10:10:11.316Z"
   },
   {
    "duration": 22,
    "start_time": "2022-08-29T10:10:11.332Z"
   },
   {
    "duration": 4,
    "start_time": "2022-08-29T10:10:11.356Z"
   },
   {
    "duration": 5,
    "start_time": "2022-08-29T10:10:11.362Z"
   },
   {
    "duration": 12,
    "start_time": "2022-08-29T10:10:11.368Z"
   },
   {
    "duration": 9,
    "start_time": "2022-08-29T10:10:11.382Z"
   },
   {
    "duration": 6,
    "start_time": "2022-08-29T10:10:11.393Z"
   },
   {
    "duration": 10,
    "start_time": "2022-08-29T10:10:11.401Z"
   },
   {
    "duration": 27,
    "start_time": "2022-08-29T10:10:11.412Z"
   },
   {
    "duration": 13,
    "start_time": "2022-08-29T10:10:11.441Z"
   },
   {
    "duration": 9,
    "start_time": "2022-08-29T10:10:11.457Z"
   },
   {
    "duration": 22,
    "start_time": "2022-08-29T10:10:11.467Z"
   },
   {
    "duration": 8,
    "start_time": "2022-08-29T10:10:11.490Z"
   },
   {
    "duration": 9,
    "start_time": "2022-08-29T10:10:11.499Z"
   },
   {
    "duration": 9,
    "start_time": "2022-08-29T10:10:11.510Z"
   },
   {
    "duration": 11,
    "start_time": "2022-08-29T10:10:11.520Z"
   },
   {
    "duration": 12,
    "start_time": "2022-08-29T10:10:11.532Z"
   },
   {
    "duration": 8,
    "start_time": "2022-08-29T10:10:11.545Z"
   },
   {
    "duration": 7,
    "start_time": "2022-08-29T10:10:11.554Z"
   },
   {
    "duration": 13,
    "start_time": "2022-08-29T10:10:11.562Z"
   },
   {
    "duration": 21,
    "start_time": "2022-08-29T10:10:11.576Z"
   },
   {
    "duration": 12,
    "start_time": "2022-08-29T10:10:11.599Z"
   },
   {
    "duration": 237,
    "start_time": "2022-08-29T10:10:11.613Z"
   },
   {
    "duration": 11,
    "start_time": "2022-08-29T10:10:11.852Z"
   },
   {
    "duration": 3,
    "start_time": "2022-08-29T10:10:11.865Z"
   },
   {
    "duration": 401,
    "start_time": "2022-08-29T10:10:11.870Z"
   },
   {
    "duration": 5,
    "start_time": "2022-08-29T10:10:12.273Z"
   },
   {
    "duration": 34,
    "start_time": "2022-08-29T10:10:12.279Z"
   },
   {
    "duration": 26,
    "start_time": "2022-08-29T10:10:12.315Z"
   },
   {
    "duration": 6,
    "start_time": "2022-08-29T10:10:12.343Z"
   },
   {
    "duration": 493,
    "start_time": "2022-08-29T10:10:12.352Z"
   },
   {
    "duration": 316,
    "start_time": "2022-08-29T10:10:12.847Z"
   },
   {
    "duration": 18,
    "start_time": "2022-08-29T10:10:13.165Z"
   },
   {
    "duration": 1063,
    "start_time": "2022-08-29T10:10:13.185Z"
   },
   {
    "duration": 9,
    "start_time": "2022-08-29T10:10:14.250Z"
   },
   {
    "duration": 24,
    "start_time": "2022-08-29T10:10:14.262Z"
   },
   {
    "duration": 11,
    "start_time": "2022-08-29T10:10:14.338Z"
   },
   {
    "duration": 21,
    "start_time": "2022-08-29T10:10:14.355Z"
   },
   {
    "duration": 70,
    "start_time": "2022-08-29T10:10:14.378Z"
   },
   {
    "duration": 18,
    "start_time": "2022-08-29T10:10:14.450Z"
   },
   {
    "duration": 10,
    "start_time": "2022-08-29T10:10:14.470Z"
   },
   {
    "duration": 59,
    "start_time": "2022-08-29T10:10:14.481Z"
   },
   {
    "duration": 320,
    "start_time": "2022-08-29T10:10:14.543Z"
   },
   {
    "duration": 7,
    "start_time": "2022-08-29T10:10:14.865Z"
   },
   {
    "duration": 370,
    "start_time": "2022-08-29T10:10:14.874Z"
   },
   {
    "duration": 7,
    "start_time": "2022-08-29T10:10:15.246Z"
   },
   {
    "duration": 10,
    "start_time": "2022-08-29T10:10:15.254Z"
   },
   {
    "duration": 304,
    "start_time": "2022-08-29T10:10:15.266Z"
   },
   {
    "duration": 106,
    "start_time": "2022-08-29T10:10:15.572Z"
   },
   {
    "duration": 7,
    "start_time": "2022-08-29T10:10:15.680Z"
   },
   {
    "duration": 159,
    "start_time": "2022-08-29T10:10:15.689Z"
   },
   {
    "duration": 101,
    "start_time": "2022-08-29T10:10:15.850Z"
   },
   {
    "duration": 7,
    "start_time": "2022-08-29T10:10:15.953Z"
   },
   {
    "duration": 163,
    "start_time": "2022-08-29T10:10:15.962Z"
   },
   {
    "duration": 115,
    "start_time": "2022-08-29T10:10:16.127Z"
   },
   {
    "duration": 3,
    "start_time": "2022-08-29T10:10:16.243Z"
   },
   {
    "duration": 19,
    "start_time": "2022-08-29T10:10:16.248Z"
   },
   {
    "duration": 255,
    "start_time": "2022-08-29T10:10:16.269Z"
   },
   {
    "duration": 3,
    "start_time": "2022-08-29T10:10:16.525Z"
   },
   {
    "duration": 16,
    "start_time": "2022-08-29T10:10:16.529Z"
   },
   {
    "duration": 161,
    "start_time": "2022-08-29T10:10:16.546Z"
   },
   {
    "duration": 2,
    "start_time": "2022-08-29T10:10:16.709Z"
   },
   {
    "duration": 13,
    "start_time": "2022-08-29T10:10:16.713Z"
   },
   {
    "duration": 167,
    "start_time": "2022-08-29T10:10:16.728Z"
   },
   {
    "duration": 14,
    "start_time": "2022-08-29T10:10:16.896Z"
   },
   {
    "duration": 28,
    "start_time": "2022-08-29T10:10:16.911Z"
   },
   {
    "duration": 14,
    "start_time": "2022-08-29T10:10:16.941Z"
   },
   {
    "duration": 14,
    "start_time": "2022-08-29T10:10:16.956Z"
   },
   {
    "duration": 0,
    "start_time": "2022-08-29T10:10:16.971Z"
   },
   {
    "duration": 0,
    "start_time": "2022-08-29T10:10:16.973Z"
   },
   {
    "duration": 0,
    "start_time": "2022-08-29T10:10:16.974Z"
   },
   {
    "duration": 0,
    "start_time": "2022-08-29T10:10:16.975Z"
   },
   {
    "duration": 0,
    "start_time": "2022-08-29T10:10:16.976Z"
   },
   {
    "duration": 2045,
    "start_time": "2022-08-29T10:10:25.867Z"
   },
   {
    "duration": 10,
    "start_time": "2022-08-29T10:19:12.522Z"
   },
   {
    "duration": 156,
    "start_time": "2022-08-29T10:19:22.285Z"
   },
   {
    "duration": 9,
    "start_time": "2022-08-29T10:19:22.593Z"
   },
   {
    "duration": 148,
    "start_time": "2022-08-29T10:19:37.134Z"
   },
   {
    "duration": 156,
    "start_time": "2022-08-29T10:20:01.380Z"
   },
   {
    "duration": 5,
    "start_time": "2022-08-29T10:21:51.418Z"
   },
   {
    "duration": 10,
    "start_time": "2022-08-29T10:21:53.853Z"
   },
   {
    "duration": 5,
    "start_time": "2022-08-29T10:21:59.917Z"
   },
   {
    "duration": 9,
    "start_time": "2022-08-29T10:22:03.802Z"
   },
   {
    "duration": 7,
    "start_time": "2022-08-29T10:22:14.882Z"
   },
   {
    "duration": 1232,
    "start_time": "2022-08-29T10:33:37.054Z"
   },
   {
    "duration": 102,
    "start_time": "2022-08-29T10:33:38.288Z"
   },
   {
    "duration": 28,
    "start_time": "2022-08-29T10:33:38.391Z"
   },
   {
    "duration": 27,
    "start_time": "2022-08-29T10:33:38.421Z"
   },
   {
    "duration": 24,
    "start_time": "2022-08-29T10:33:38.519Z"
   },
   {
    "duration": 5,
    "start_time": "2022-08-29T10:33:38.924Z"
   },
   {
    "duration": 3,
    "start_time": "2022-08-29T10:33:39.383Z"
   },
   {
    "duration": 7,
    "start_time": "2022-08-29T10:33:39.570Z"
   },
   {
    "duration": 8,
    "start_time": "2022-08-29T10:33:39.838Z"
   },
   {
    "duration": 6,
    "start_time": "2022-08-29T10:33:40.135Z"
   },
   {
    "duration": 7,
    "start_time": "2022-08-29T10:33:40.439Z"
   },
   {
    "duration": 6,
    "start_time": "2022-08-29T10:33:40.585Z"
   },
   {
    "duration": 5,
    "start_time": "2022-08-29T10:33:40.749Z"
   },
   {
    "duration": 4,
    "start_time": "2022-08-29T10:33:40.894Z"
   },
   {
    "duration": 8,
    "start_time": "2022-08-29T10:33:41.187Z"
   },
   {
    "duration": 5,
    "start_time": "2022-08-29T10:33:41.476Z"
   },
   {
    "duration": 5,
    "start_time": "2022-08-29T10:33:41.833Z"
   },
   {
    "duration": 6,
    "start_time": "2022-08-29T10:33:41.974Z"
   },
   {
    "duration": 6,
    "start_time": "2022-08-29T10:33:42.118Z"
   },
   {
    "duration": 5,
    "start_time": "2022-08-29T10:33:42.260Z"
   },
   {
    "duration": 7,
    "start_time": "2022-08-29T10:33:42.390Z"
   },
   {
    "duration": 3,
    "start_time": "2022-08-29T10:33:42.673Z"
   },
   {
    "duration": 8,
    "start_time": "2022-08-29T10:33:42.844Z"
   },
   {
    "duration": 14,
    "start_time": "2022-08-29T10:33:43.159Z"
   },
   {
    "duration": 11,
    "start_time": "2022-08-29T10:33:44.107Z"
   },
   {
    "duration": 230,
    "start_time": "2022-08-29T10:33:44.259Z"
   },
   {
    "duration": 11,
    "start_time": "2022-08-29T10:33:45.045Z"
   },
   {
    "duration": 3,
    "start_time": "2022-08-29T10:33:45.329Z"
   },
   {
    "duration": 367,
    "start_time": "2022-08-29T10:33:45.508Z"
   },
   {
    "duration": 9,
    "start_time": "2022-08-29T10:33:45.877Z"
   },
   {
    "duration": 17,
    "start_time": "2022-08-29T10:33:46.441Z"
   },
   {
    "duration": 10,
    "start_time": "2022-08-29T10:33:46.775Z"
   },
   {
    "duration": 3,
    "start_time": "2022-08-29T10:33:47.069Z"
   },
   {
    "duration": 443,
    "start_time": "2022-08-29T10:33:47.229Z"
   },
   {
    "duration": 276,
    "start_time": "2022-08-29T10:33:48.015Z"
   },
   {
    "duration": 16,
    "start_time": "2022-08-29T10:33:48.818Z"
   },
   {
    "duration": 657,
    "start_time": "2022-08-29T10:33:49.002Z"
   },
   {
    "duration": 7,
    "start_time": "2022-08-29T10:33:49.661Z"
   },
   {
    "duration": 14,
    "start_time": "2022-08-29T10:33:50.262Z"
   },
   {
    "duration": 8,
    "start_time": "2022-08-29T10:33:50.424Z"
   },
   {
    "duration": 18,
    "start_time": "2022-08-29T10:33:50.728Z"
   },
   {
    "duration": 11,
    "start_time": "2022-08-29T10:33:50.880Z"
   },
   {
    "duration": 14,
    "start_time": "2022-08-29T10:33:51.225Z"
   },
   {
    "duration": 8,
    "start_time": "2022-08-29T10:33:51.436Z"
   },
   {
    "duration": 8,
    "start_time": "2022-08-29T10:33:52.244Z"
   },
   {
    "duration": 150,
    "start_time": "2022-08-29T10:33:52.559Z"
   },
   {
    "duration": 7,
    "start_time": "2022-08-29T10:33:52.735Z"
   },
   {
    "duration": 149,
    "start_time": "2022-08-29T10:33:53.109Z"
   },
   {
    "duration": 133,
    "start_time": "2022-08-29T10:33:53.840Z"
   },
   {
    "duration": 7,
    "start_time": "2022-08-29T10:33:54.020Z"
   },
   {
    "duration": 6,
    "start_time": "2022-08-29T10:33:55.820Z"
   },
   {
    "duration": 137,
    "start_time": "2022-08-29T10:33:55.970Z"
   },
   {
    "duration": 90,
    "start_time": "2022-08-29T10:33:56.167Z"
   },
   {
    "duration": 6,
    "start_time": "2022-08-29T10:33:56.467Z"
   },
   {
    "duration": 133,
    "start_time": "2022-08-29T10:33:56.647Z"
   },
   {
    "duration": 96,
    "start_time": "2022-08-29T10:33:56.795Z"
   },
   {
    "duration": 6,
    "start_time": "2022-08-29T10:33:57.148Z"
   },
   {
    "duration": 129,
    "start_time": "2022-08-29T10:33:57.309Z"
   },
   {
    "duration": 166,
    "start_time": "2022-08-29T10:33:57.447Z"
   },
   {
    "duration": 2,
    "start_time": "2022-08-29T10:33:58.472Z"
   },
   {
    "duration": 10,
    "start_time": "2022-08-29T10:33:58.630Z"
   },
   {
    "duration": 138,
    "start_time": "2022-08-29T10:33:58.781Z"
   },
   {
    "duration": 3,
    "start_time": "2022-08-29T10:33:59.140Z"
   },
   {
    "duration": 5,
    "start_time": "2022-08-29T10:33:59.294Z"
   },
   {
    "duration": 131,
    "start_time": "2022-08-29T10:33:59.462Z"
   },
   {
    "duration": 2,
    "start_time": "2022-08-29T10:33:59.808Z"
   },
   {
    "duration": 6,
    "start_time": "2022-08-29T10:33:59.952Z"
   },
   {
    "duration": 140,
    "start_time": "2022-08-29T10:34:00.100Z"
   },
   {
    "duration": 13,
    "start_time": "2022-08-29T10:34:00.967Z"
   },
   {
    "duration": 14,
    "start_time": "2022-08-29T10:34:01.496Z"
   },
   {
    "duration": 12,
    "start_time": "2022-08-29T10:34:02.040Z"
   },
   {
    "duration": 11,
    "start_time": "2022-08-29T10:34:04.093Z"
   },
   {
    "duration": 10,
    "start_time": "2022-08-29T10:34:04.296Z"
   },
   {
    "duration": 5,
    "start_time": "2022-08-29T10:34:16.539Z"
   },
   {
    "duration": 7,
    "start_time": "2022-08-29T10:34:17.288Z"
   },
   {
    "duration": 7,
    "start_time": "2022-08-29T10:34:18.598Z"
   },
   {
    "duration": 7,
    "start_time": "2022-08-29T10:34:21.791Z"
   },
   {
    "duration": 7,
    "start_time": "2022-08-29T10:34:22.530Z"
   },
   {
    "duration": 5,
    "start_time": "2022-08-29T10:34:23.880Z"
   },
   {
    "duration": 2,
    "start_time": "2022-08-29T10:36:12.909Z"
   },
   {
    "duration": 246,
    "start_time": "2022-08-29T10:36:13.415Z"
   },
   {
    "duration": 4,
    "start_time": "2022-08-29T10:36:13.788Z"
   },
   {
    "duration": 18,
    "start_time": "2022-08-29T10:36:21.550Z"
   },
   {
    "duration": 11,
    "start_time": "2022-08-29T10:36:21.847Z"
   },
   {
    "duration": 3,
    "start_time": "2022-08-29T10:36:22.196Z"
   },
   {
    "duration": 407,
    "start_time": "2022-08-29T10:36:23.159Z"
   },
   {
    "duration": 298,
    "start_time": "2022-08-29T10:36:26.860Z"
   },
   {
    "duration": 15,
    "start_time": "2022-08-29T10:36:28.487Z"
   },
   {
    "duration": 720,
    "start_time": "2022-08-29T10:36:28.780Z"
   },
   {
    "duration": 8,
    "start_time": "2022-08-29T10:36:29.502Z"
   },
   {
    "duration": 16,
    "start_time": "2022-08-29T10:36:30.555Z"
   },
   {
    "duration": 9,
    "start_time": "2022-08-29T10:36:30.763Z"
   },
   {
    "duration": 20,
    "start_time": "2022-08-29T10:36:31.198Z"
   },
   {
    "duration": 8,
    "start_time": "2022-08-29T10:36:31.354Z"
   },
   {
    "duration": 15,
    "start_time": "2022-08-29T10:36:31.659Z"
   },
   {
    "duration": 7,
    "start_time": "2022-08-29T10:36:31.911Z"
   },
   {
    "duration": 8,
    "start_time": "2022-08-29T10:36:32.930Z"
   },
   {
    "duration": 173,
    "start_time": "2022-08-29T10:36:33.684Z"
   },
   {
    "duration": 7,
    "start_time": "2022-08-29T10:36:35.046Z"
   },
   {
    "duration": 142,
    "start_time": "2022-08-29T10:36:35.970Z"
   },
   {
    "duration": 143,
    "start_time": "2022-08-29T10:37:40.439Z"
   },
   {
    "duration": 7,
    "start_time": "2022-08-29T10:38:33.274Z"
   },
   {
    "duration": 6,
    "start_time": "2022-08-29T10:38:37.235Z"
   },
   {
    "duration": 123,
    "start_time": "2022-08-29T10:38:37.366Z"
   },
   {
    "duration": 89,
    "start_time": "2022-08-29T10:38:37.561Z"
   },
   {
    "duration": 6,
    "start_time": "2022-08-29T10:38:38.515Z"
   },
   {
    "duration": 130,
    "start_time": "2022-08-29T10:38:38.694Z"
   },
   {
    "duration": 85,
    "start_time": "2022-08-29T10:38:38.839Z"
   },
   {
    "duration": 7,
    "start_time": "2022-08-29T10:38:40.010Z"
   },
   {
    "duration": 133,
    "start_time": "2022-08-29T10:38:43.814Z"
   },
   {
    "duration": 93,
    "start_time": "2022-08-29T10:38:43.988Z"
   },
   {
    "duration": 2,
    "start_time": "2022-08-29T10:38:46.581Z"
   },
   {
    "duration": 12,
    "start_time": "2022-08-29T10:38:47.184Z"
   },
   {
    "duration": 139,
    "start_time": "2022-08-29T10:38:47.359Z"
   },
   {
    "duration": 3,
    "start_time": "2022-08-29T10:38:47.682Z"
   },
   {
    "duration": 8,
    "start_time": "2022-08-29T10:38:48.066Z"
   },
   {
    "duration": 240,
    "start_time": "2022-08-29T10:38:48.242Z"
   },
   {
    "duration": 2,
    "start_time": "2022-08-29T10:38:48.572Z"
   },
   {
    "duration": 7,
    "start_time": "2022-08-29T10:38:48.715Z"
   },
   {
    "duration": 124,
    "start_time": "2022-08-29T10:38:48.868Z"
   },
   {
    "duration": 16,
    "start_time": "2022-08-29T10:38:49.686Z"
   },
   {
    "duration": 13,
    "start_time": "2022-08-29T10:38:50.229Z"
   },
   {
    "duration": 14,
    "start_time": "2022-08-29T10:38:50.729Z"
   },
   {
    "duration": 6,
    "start_time": "2022-08-29T10:38:54.064Z"
   },
   {
    "duration": 5,
    "start_time": "2022-08-29T10:38:55.580Z"
   },
   {
    "duration": 223,
    "start_time": "2022-08-29T10:56:09.102Z"
   },
   {
    "duration": 251,
    "start_time": "2022-08-29T10:56:38.122Z"
   },
   {
    "duration": 214,
    "start_time": "2022-08-29T10:56:52.260Z"
   },
   {
    "duration": 210,
    "start_time": "2022-08-29T10:56:56.885Z"
   },
   {
    "duration": 39,
    "start_time": "2022-08-29T10:57:30.735Z"
   },
   {
    "duration": 87,
    "start_time": "2022-08-29T13:13:20.730Z"
   },
   {
    "duration": 6,
    "start_time": "2022-08-29T13:14:06.135Z"
   },
   {
    "duration": 6,
    "start_time": "2022-08-29T13:14:06.582Z"
   },
   {
    "duration": 6,
    "start_time": "2022-08-29T13:14:08.093Z"
   },
   {
    "duration": 6,
    "start_time": "2022-08-29T13:14:40.701Z"
   },
   {
    "duration": 6,
    "start_time": "2022-08-29T13:14:41.421Z"
   },
   {
    "duration": 6,
    "start_time": "2022-08-29T13:14:43.814Z"
   },
   {
    "duration": 5,
    "start_time": "2022-08-29T13:17:50.145Z"
   },
   {
    "duration": 6,
    "start_time": "2022-08-29T13:18:35.471Z"
   },
   {
    "duration": 5,
    "start_time": "2022-08-29T13:18:35.867Z"
   },
   {
    "duration": 8,
    "start_time": "2022-08-29T13:22:51.730Z"
   },
   {
    "duration": 14,
    "start_time": "2022-08-29T13:22:58.231Z"
   },
   {
    "duration": 15,
    "start_time": "2022-08-29T13:26:08.889Z"
   },
   {
    "duration": 26,
    "start_time": "2022-08-29T13:27:20.539Z"
   },
   {
    "duration": 66,
    "start_time": "2022-08-29T13:37:00.548Z"
   },
   {
    "duration": 23,
    "start_time": "2022-08-29T13:37:32.819Z"
   },
   {
    "duration": 11,
    "start_time": "2022-08-29T13:37:47.622Z"
   },
   {
    "duration": 6,
    "start_time": "2022-08-29T13:38:47.563Z"
   },
   {
    "duration": 4,
    "start_time": "2022-08-29T13:39:33.551Z"
   },
   {
    "duration": 5,
    "start_time": "2022-08-29T13:39:39.133Z"
   },
   {
    "duration": 27,
    "start_time": "2022-08-29T13:40:13.044Z"
   },
   {
    "duration": 77,
    "start_time": "2022-08-29T13:41:47.853Z"
   },
   {
    "duration": 11,
    "start_time": "2022-08-29T13:42:06.636Z"
   },
   {
    "duration": 14,
    "start_time": "2022-08-29T13:42:17.798Z"
   },
   {
    "duration": 14,
    "start_time": "2022-08-29T13:42:22.469Z"
   },
   {
    "duration": 12,
    "start_time": "2022-08-29T13:42:26.542Z"
   },
   {
    "duration": 8,
    "start_time": "2022-08-29T13:43:40.647Z"
   },
   {
    "duration": 10,
    "start_time": "2022-08-29T13:44:16.895Z"
   },
   {
    "duration": 4,
    "start_time": "2022-08-29T13:45:42.613Z"
   },
   {
    "duration": 3,
    "start_time": "2022-08-29T13:47:32.088Z"
   },
   {
    "duration": 3,
    "start_time": "2022-08-29T13:47:42.486Z"
   },
   {
    "duration": 8,
    "start_time": "2022-08-29T13:50:13.627Z"
   },
   {
    "duration": 6,
    "start_time": "2022-08-29T13:50:22.640Z"
   },
   {
    "duration": 5,
    "start_time": "2022-08-29T13:50:23.251Z"
   },
   {
    "duration": 4,
    "start_time": "2022-08-29T13:50:24.212Z"
   },
   {
    "duration": 10,
    "start_time": "2022-08-29T14:48:58.949Z"
   },
   {
    "duration": 9,
    "start_time": "2022-08-29T14:48:59.574Z"
   },
   {
    "duration": 6,
    "start_time": "2022-08-29T14:49:00.831Z"
   },
   {
    "duration": 6,
    "start_time": "2022-08-29T14:49:01.306Z"
   },
   {
    "duration": 3,
    "start_time": "2022-08-29T14:49:02.214Z"
   },
   {
    "duration": 3,
    "start_time": "2022-08-29T14:49:02.814Z"
   },
   {
    "duration": 5,
    "start_time": "2022-08-29T14:49:04.055Z"
   },
   {
    "duration": 15,
    "start_time": "2022-08-29T14:49:06.676Z"
   },
   {
    "duration": 6,
    "start_time": "2022-08-29T14:49:10.273Z"
   },
   {
    "duration": 9,
    "start_time": "2022-08-29T15:08:51.468Z"
   },
   {
    "duration": 10,
    "start_time": "2022-08-29T15:09:05.255Z"
   },
   {
    "duration": 3,
    "start_time": "2022-08-29T15:09:48.850Z"
   },
   {
    "duration": 4,
    "start_time": "2022-08-29T15:09:57.570Z"
   },
   {
    "duration": 9,
    "start_time": "2022-08-29T15:10:48.168Z"
   },
   {
    "duration": 3,
    "start_time": "2022-08-29T15:11:17.280Z"
   },
   {
    "duration": 6,
    "start_time": "2022-08-29T15:11:44.176Z"
   },
   {
    "duration": 5,
    "start_time": "2022-08-29T15:11:44.347Z"
   },
   {
    "duration": 4,
    "start_time": "2022-08-29T15:11:44.660Z"
   },
   {
    "duration": 3,
    "start_time": "2022-08-29T15:11:44.820Z"
   },
   {
    "duration": 6,
    "start_time": "2022-08-29T15:11:45.174Z"
   },
   {
    "duration": 15,
    "start_time": "2022-08-29T15:11:45.857Z"
   },
   {
    "duration": 10,
    "start_time": "2022-08-29T15:11:46.144Z"
   },
   {
    "duration": 7,
    "start_time": "2022-08-29T15:11:46.296Z"
   },
   {
    "duration": 3,
    "start_time": "2022-08-29T15:11:46.460Z"
   },
   {
    "duration": 10,
    "start_time": "2022-08-29T15:11:46.605Z"
   },
   {
    "duration": 5,
    "start_time": "2022-08-29T15:11:46.729Z"
   },
   {
    "duration": 3,
    "start_time": "2022-08-29T15:11:46.908Z"
   },
   {
    "duration": 4,
    "start_time": "2022-08-29T15:11:47.264Z"
   },
   {
    "duration": 1118,
    "start_time": "2022-08-29T15:14:16.121Z"
   },
   {
    "duration": 54,
    "start_time": "2022-08-29T15:14:17.240Z"
   },
   {
    "duration": 30,
    "start_time": "2022-08-29T15:14:17.296Z"
   },
   {
    "duration": 12,
    "start_time": "2022-08-29T15:14:17.328Z"
   },
   {
    "duration": 35,
    "start_time": "2022-08-29T15:14:17.342Z"
   },
   {
    "duration": 29,
    "start_time": "2022-08-29T15:14:17.384Z"
   },
   {
    "duration": 4,
    "start_time": "2022-08-29T15:14:17.415Z"
   },
   {
    "duration": 9,
    "start_time": "2022-08-29T15:14:17.420Z"
   },
   {
    "duration": 10,
    "start_time": "2022-08-29T15:14:17.430Z"
   },
   {
    "duration": 8,
    "start_time": "2022-08-29T15:14:17.442Z"
   },
   {
    "duration": 4,
    "start_time": "2022-08-29T15:14:17.452Z"
   },
   {
    "duration": 9,
    "start_time": "2022-08-29T15:14:17.458Z"
   },
   {
    "duration": 5,
    "start_time": "2022-08-29T15:14:17.487Z"
   },
   {
    "duration": 17,
    "start_time": "2022-08-29T15:14:17.494Z"
   },
   {
    "duration": 31,
    "start_time": "2022-08-29T15:14:17.513Z"
   },
   {
    "duration": 20,
    "start_time": "2022-08-29T15:14:17.546Z"
   },
   {
    "duration": 25,
    "start_time": "2022-08-29T15:14:17.568Z"
   },
   {
    "duration": 23,
    "start_time": "2022-08-29T15:14:17.595Z"
   },
   {
    "duration": 16,
    "start_time": "2022-08-29T15:14:17.619Z"
   },
   {
    "duration": 30,
    "start_time": "2022-08-29T15:14:17.637Z"
   },
   {
    "duration": 23,
    "start_time": "2022-08-29T15:14:17.669Z"
   },
   {
    "duration": 31,
    "start_time": "2022-08-29T15:14:17.694Z"
   },
   {
    "duration": 33,
    "start_time": "2022-08-29T15:14:17.727Z"
   },
   {
    "duration": 25,
    "start_time": "2022-08-29T15:14:17.762Z"
   },
   {
    "duration": 32,
    "start_time": "2022-08-29T15:14:17.788Z"
   },
   {
    "duration": 29,
    "start_time": "2022-08-29T15:14:17.821Z"
   },
   {
    "duration": 235,
    "start_time": "2022-08-29T15:14:17.851Z"
   },
   {
    "duration": 10,
    "start_time": "2022-08-29T15:14:18.089Z"
   },
   {
    "duration": 11,
    "start_time": "2022-08-29T15:14:18.101Z"
   },
   {
    "duration": 426,
    "start_time": "2022-08-29T15:14:18.113Z"
   },
   {
    "duration": 4,
    "start_time": "2022-08-29T15:14:18.541Z"
   },
   {
    "duration": 22,
    "start_time": "2022-08-29T15:14:18.547Z"
   },
   {
    "duration": 23,
    "start_time": "2022-08-29T15:14:18.570Z"
   },
   {
    "duration": 32,
    "start_time": "2022-08-29T15:14:18.596Z"
   },
   {
    "duration": 494,
    "start_time": "2022-08-29T15:14:18.629Z"
   },
   {
    "duration": 274,
    "start_time": "2022-08-29T15:14:19.125Z"
   },
   {
    "duration": 15,
    "start_time": "2022-08-29T15:14:19.401Z"
   },
   {
    "duration": 734,
    "start_time": "2022-08-29T15:14:19.418Z"
   },
   {
    "duration": 8,
    "start_time": "2022-08-29T15:14:20.154Z"
   },
   {
    "duration": 25,
    "start_time": "2022-08-29T15:14:20.164Z"
   },
   {
    "duration": 18,
    "start_time": "2022-08-29T15:14:20.192Z"
   },
   {
    "duration": 15,
    "start_time": "2022-08-29T15:14:20.211Z"
   },
   {
    "duration": 10,
    "start_time": "2022-08-29T15:14:20.228Z"
   },
   {
    "duration": 15,
    "start_time": "2022-08-29T15:14:20.240Z"
   },
   {
    "duration": 30,
    "start_time": "2022-08-29T15:14:20.257Z"
   },
   {
    "duration": 9,
    "start_time": "2022-08-29T15:14:20.289Z"
   },
   {
    "duration": 167,
    "start_time": "2022-08-29T15:14:20.300Z"
   },
   {
    "duration": 17,
    "start_time": "2022-08-29T15:14:20.469Z"
   },
   {
    "duration": 176,
    "start_time": "2022-08-29T15:14:20.488Z"
   },
   {
    "duration": 164,
    "start_time": "2022-08-29T15:14:20.666Z"
   },
   {
    "duration": 7,
    "start_time": "2022-08-29T15:14:20.831Z"
   },
   {
    "duration": 141,
    "start_time": "2022-08-29T15:14:20.840Z"
   },
   {
    "duration": 108,
    "start_time": "2022-08-29T15:14:20.984Z"
   },
   {
    "duration": 9,
    "start_time": "2022-08-29T15:14:21.095Z"
   },
   {
    "duration": 167,
    "start_time": "2022-08-29T15:14:21.106Z"
   },
   {
    "duration": 101,
    "start_time": "2022-08-29T15:14:21.275Z"
   },
   {
    "duration": 11,
    "start_time": "2022-08-29T15:14:21.378Z"
   },
   {
    "duration": 179,
    "start_time": "2022-08-29T15:14:21.393Z"
   },
   {
    "duration": 212,
    "start_time": "2022-08-29T15:14:21.573Z"
   },
   {
    "duration": 3,
    "start_time": "2022-08-29T15:14:21.787Z"
   },
   {
    "duration": 14,
    "start_time": "2022-08-29T15:14:21.791Z"
   },
   {
    "duration": 169,
    "start_time": "2022-08-29T15:14:21.807Z"
   },
   {
    "duration": 12,
    "start_time": "2022-08-29T15:14:21.978Z"
   },
   {
    "duration": 20,
    "start_time": "2022-08-29T15:14:21.992Z"
   },
   {
    "duration": 161,
    "start_time": "2022-08-29T15:14:22.014Z"
   },
   {
    "duration": 9,
    "start_time": "2022-08-29T15:14:22.176Z"
   },
   {
    "duration": 7,
    "start_time": "2022-08-29T15:14:22.187Z"
   },
   {
    "duration": 158,
    "start_time": "2022-08-29T15:14:22.196Z"
   },
   {
    "duration": 14,
    "start_time": "2022-08-29T15:14:22.356Z"
   },
   {
    "duration": 25,
    "start_time": "2022-08-29T15:14:22.371Z"
   },
   {
    "duration": 21,
    "start_time": "2022-08-29T15:14:22.398Z"
   },
   {
    "duration": 16,
    "start_time": "2022-08-29T15:14:22.421Z"
   },
   {
    "duration": 10,
    "start_time": "2022-08-29T15:14:22.439Z"
   },
   {
    "duration": 43,
    "start_time": "2022-08-29T15:14:22.451Z"
   },
   {
    "duration": 8,
    "start_time": "2022-08-29T15:14:22.497Z"
   },
   {
    "duration": 6,
    "start_time": "2022-08-29T15:14:22.507Z"
   },
   {
    "duration": 4,
    "start_time": "2022-08-29T15:14:22.515Z"
   },
   {
    "duration": 6,
    "start_time": "2022-08-29T15:14:22.520Z"
   },
   {
    "duration": 7,
    "start_time": "2022-08-29T15:14:22.527Z"
   },
   {
    "duration": 15,
    "start_time": "2022-08-29T15:14:22.536Z"
   },
   {
    "duration": 44,
    "start_time": "2022-08-29T15:14:22.552Z"
   },
   {
    "duration": 7,
    "start_time": "2022-08-29T15:14:22.605Z"
   },
   {
    "duration": 6,
    "start_time": "2022-08-29T15:14:22.614Z"
   },
   {
    "duration": 16,
    "start_time": "2022-08-29T15:14:22.621Z"
   },
   {
    "duration": 8,
    "start_time": "2022-08-29T15:14:22.639Z"
   },
   {
    "duration": 5,
    "start_time": "2022-08-29T15:14:22.648Z"
   },
   {
    "duration": 33,
    "start_time": "2022-08-29T15:14:22.654Z"
   },
   {
    "duration": 3,
    "start_time": "2022-08-29T15:14:28.013Z"
   },
   {
    "duration": 47,
    "start_time": "2022-08-29T15:14:28.320Z"
   },
   {
    "duration": 32,
    "start_time": "2022-08-29T15:14:28.978Z"
   },
   {
    "duration": 21,
    "start_time": "2022-08-29T15:14:29.335Z"
   },
   {
    "duration": 29,
    "start_time": "2022-08-29T15:14:29.501Z"
   },
   {
    "duration": 22,
    "start_time": "2022-08-29T15:14:30.519Z"
   },
   {
    "duration": 6,
    "start_time": "2022-08-29T15:14:30.994Z"
   },
   {
    "duration": 3,
    "start_time": "2022-08-29T15:14:31.486Z"
   },
   {
    "duration": 9,
    "start_time": "2022-08-29T15:14:31.802Z"
   },
   {
    "duration": 8,
    "start_time": "2022-08-29T15:14:32.117Z"
   },
   {
    "duration": 5,
    "start_time": "2022-08-29T15:14:32.435Z"
   },
   {
    "duration": 7,
    "start_time": "2022-08-29T15:14:33.384Z"
   },
   {
    "duration": 8,
    "start_time": "2022-08-29T15:14:33.527Z"
   },
   {
    "duration": 9,
    "start_time": "2022-08-29T15:14:33.887Z"
   },
   {
    "duration": 5,
    "start_time": "2022-08-29T15:14:34.035Z"
   },
   {
    "duration": 7,
    "start_time": "2022-08-29T15:14:34.318Z"
   },
   {
    "duration": 5,
    "start_time": "2022-08-29T15:14:34.618Z"
   },
   {
    "duration": 5,
    "start_time": "2022-08-29T15:14:34.944Z"
   },
   {
    "duration": 9,
    "start_time": "2022-08-29T15:14:35.082Z"
   },
   {
    "duration": 5,
    "start_time": "2022-08-29T15:14:35.260Z"
   },
   {
    "duration": 5,
    "start_time": "2022-08-29T15:14:35.536Z"
   },
   {
    "duration": 5,
    "start_time": "2022-08-29T15:14:35.698Z"
   },
   {
    "duration": 3,
    "start_time": "2022-08-29T15:14:35.996Z"
   },
   {
    "duration": 6,
    "start_time": "2022-08-29T15:14:36.161Z"
   },
   {
    "duration": 14,
    "start_time": "2022-08-29T15:14:36.443Z"
   },
   {
    "duration": 13,
    "start_time": "2022-08-29T15:14:37.685Z"
   },
   {
    "duration": 224,
    "start_time": "2022-08-29T15:14:37.852Z"
   },
   {
    "duration": 14,
    "start_time": "2022-08-29T15:14:38.801Z"
   },
   {
    "duration": 5,
    "start_time": "2022-08-29T15:14:39.278Z"
   },
   {
    "duration": 304,
    "start_time": "2022-08-29T15:14:39.554Z"
   },
   {
    "duration": 3,
    "start_time": "2022-08-29T15:14:39.859Z"
   },
   {
    "duration": 17,
    "start_time": "2022-08-29T15:14:40.669Z"
   },
   {
    "duration": 16,
    "start_time": "2022-08-29T15:14:41.034Z"
   },
   {
    "duration": 4,
    "start_time": "2022-08-29T15:14:41.337Z"
   },
   {
    "duration": 468,
    "start_time": "2022-08-29T15:14:41.484Z"
   },
   {
    "duration": 319,
    "start_time": "2022-08-29T15:14:42.329Z"
   },
   {
    "duration": 17,
    "start_time": "2022-08-29T15:14:43.144Z"
   },
   {
    "duration": 739,
    "start_time": "2022-08-29T15:14:43.306Z"
   },
   {
    "duration": 8,
    "start_time": "2022-08-29T15:14:44.047Z"
   },
   {
    "duration": 19,
    "start_time": "2022-08-29T15:14:44.699Z"
   },
   {
    "duration": 8,
    "start_time": "2022-08-29T15:14:44.870Z"
   },
   {
    "duration": 22,
    "start_time": "2022-08-29T15:14:45.186Z"
   },
   {
    "duration": 10,
    "start_time": "2022-08-29T15:14:45.368Z"
   },
   {
    "duration": 16,
    "start_time": "2022-08-29T15:14:46.273Z"
   },
   {
    "duration": 21,
    "start_time": "2022-08-29T15:14:46.291Z"
   },
   {
    "duration": 8,
    "start_time": "2022-08-29T15:14:46.887Z"
   },
   {
    "duration": 144,
    "start_time": "2022-08-29T15:14:47.232Z"
   },
   {
    "duration": 10,
    "start_time": "2022-08-29T15:14:47.387Z"
   },
   {
    "duration": 152,
    "start_time": "2022-08-29T15:14:47.716Z"
   },
   {
    "duration": 150,
    "start_time": "2022-08-29T15:14:48.553Z"
   },
   {
    "duration": 7,
    "start_time": "2022-08-29T15:14:53.419Z"
   },
   {
    "duration": 148,
    "start_time": "2022-08-29T15:14:53.580Z"
   },
   {
    "duration": 91,
    "start_time": "2022-08-29T15:14:53.749Z"
   },
   {
    "duration": 7,
    "start_time": "2022-08-29T15:14:54.081Z"
   },
   {
    "duration": 131,
    "start_time": "2022-08-29T15:14:54.240Z"
   },
   {
    "duration": 128,
    "start_time": "2022-08-29T15:14:54.408Z"
   },
   {
    "duration": 8,
    "start_time": "2022-08-29T15:14:54.797Z"
   },
   {
    "duration": 132,
    "start_time": "2022-08-29T15:14:54.963Z"
   },
   {
    "duration": 183,
    "start_time": "2022-08-29T15:14:55.139Z"
   },
   {
    "duration": 3,
    "start_time": "2022-08-29T15:14:56.100Z"
   },
   {
    "duration": 14,
    "start_time": "2022-08-29T15:14:56.286Z"
   },
   {
    "duration": 183,
    "start_time": "2022-08-29T15:14:56.479Z"
   },
   {
    "duration": 3,
    "start_time": "2022-08-29T15:14:56.788Z"
   },
   {
    "duration": 6,
    "start_time": "2022-08-29T15:14:56.949Z"
   },
   {
    "duration": 146,
    "start_time": "2022-08-29T15:14:57.116Z"
   },
   {
    "duration": 2,
    "start_time": "2022-08-29T15:14:57.450Z"
   },
   {
    "duration": 6,
    "start_time": "2022-08-29T15:14:57.616Z"
   },
   {
    "duration": 125,
    "start_time": "2022-08-29T15:14:57.796Z"
   },
   {
    "duration": 12,
    "start_time": "2022-08-29T15:14:58.737Z"
   },
   {
    "duration": 16,
    "start_time": "2022-08-29T15:14:59.697Z"
   },
   {
    "duration": 13,
    "start_time": "2022-08-29T15:15:02.271Z"
   },
   {
    "duration": 14,
    "start_time": "2022-08-29T15:15:04.187Z"
   },
   {
    "duration": 12,
    "start_time": "2022-08-29T15:15:04.523Z"
   },
   {
    "duration": 15,
    "start_time": "2022-08-29T15:15:04.698Z"
   },
   {
    "duration": 5,
    "start_time": "2022-08-29T15:15:05.015Z"
   },
   {
    "duration": 7,
    "start_time": "2022-08-29T15:15:05.191Z"
   },
   {
    "duration": 3,
    "start_time": "2022-08-29T15:15:05.524Z"
   },
   {
    "duration": 4,
    "start_time": "2022-08-29T15:15:05.697Z"
   },
   {
    "duration": 7,
    "start_time": "2022-08-29T15:15:06.100Z"
   },
   {
    "duration": 22,
    "start_time": "2022-08-29T15:15:06.788Z"
   },
   {
    "duration": 9,
    "start_time": "2022-08-29T15:15:07.111Z"
   },
   {
    "duration": 6,
    "start_time": "2022-08-29T15:15:07.274Z"
   },
   {
    "duration": 4,
    "start_time": "2022-08-29T15:15:07.463Z"
   },
   {
    "duration": 9,
    "start_time": "2022-08-29T15:15:07.651Z"
   },
   {
    "duration": 6,
    "start_time": "2022-08-29T15:15:07.963Z"
   },
   {
    "duration": 3,
    "start_time": "2022-08-29T15:15:08.163Z"
   },
   {
    "duration": 4,
    "start_time": "2022-08-29T15:15:08.525Z"
   },
   {
    "duration": 7,
    "start_time": "2022-08-29T16:05:07.117Z"
   },
   {
    "duration": 1007,
    "start_time": "2022-08-29T16:13:10.039Z"
   },
   {
    "duration": 48,
    "start_time": "2022-08-29T16:13:11.048Z"
   },
   {
    "duration": 26,
    "start_time": "2022-08-29T16:13:11.098Z"
   },
   {
    "duration": 12,
    "start_time": "2022-08-29T16:13:11.125Z"
   },
   {
    "duration": 26,
    "start_time": "2022-08-29T16:13:11.138Z"
   },
   {
    "duration": 36,
    "start_time": "2022-08-29T16:13:11.165Z"
   },
   {
    "duration": 5,
    "start_time": "2022-08-29T16:13:11.203Z"
   },
   {
    "duration": 3,
    "start_time": "2022-08-29T16:13:11.210Z"
   },
   {
    "duration": 11,
    "start_time": "2022-08-29T16:13:11.214Z"
   },
   {
    "duration": 7,
    "start_time": "2022-08-29T16:13:11.228Z"
   },
   {
    "duration": 4,
    "start_time": "2022-08-29T16:13:11.237Z"
   },
   {
    "duration": 6,
    "start_time": "2022-08-29T16:13:11.243Z"
   },
   {
    "duration": 35,
    "start_time": "2022-08-29T16:13:11.250Z"
   },
   {
    "duration": 5,
    "start_time": "2022-08-29T16:13:11.286Z"
   },
   {
    "duration": 11,
    "start_time": "2022-08-29T16:13:11.292Z"
   },
   {
    "duration": 12,
    "start_time": "2022-08-29T16:13:11.305Z"
   },
   {
    "duration": 4,
    "start_time": "2022-08-29T16:13:11.318Z"
   },
   {
    "duration": 8,
    "start_time": "2022-08-29T16:13:11.324Z"
   },
   {
    "duration": 10,
    "start_time": "2022-08-29T16:13:11.333Z"
   },
   {
    "duration": 8,
    "start_time": "2022-08-29T16:13:11.344Z"
   },
   {
    "duration": 8,
    "start_time": "2022-08-29T16:13:11.354Z"
   },
   {
    "duration": 21,
    "start_time": "2022-08-29T16:13:11.364Z"
   },
   {
    "duration": 2,
    "start_time": "2022-08-29T16:13:11.387Z"
   },
   {
    "duration": 17,
    "start_time": "2022-08-29T16:13:11.391Z"
   },
   {
    "duration": 14,
    "start_time": "2022-08-29T16:13:11.410Z"
   },
   {
    "duration": 11,
    "start_time": "2022-08-29T16:13:11.426Z"
   },
   {
    "duration": 218,
    "start_time": "2022-08-29T16:13:11.439Z"
   },
   {
    "duration": 11,
    "start_time": "2022-08-29T16:13:11.660Z"
   },
   {
    "duration": 13,
    "start_time": "2022-08-29T16:13:11.672Z"
   },
   {
    "duration": 338,
    "start_time": "2022-08-29T16:13:11.686Z"
   },
   {
    "duration": 3,
    "start_time": "2022-08-29T16:13:12.026Z"
   },
   {
    "duration": 23,
    "start_time": "2022-08-29T16:13:12.031Z"
   },
   {
    "duration": 8,
    "start_time": "2022-08-29T16:13:12.055Z"
   },
   {
    "duration": 3,
    "start_time": "2022-08-29T16:13:12.064Z"
   },
   {
    "duration": 455,
    "start_time": "2022-08-29T16:13:12.084Z"
   },
   {
    "duration": 299,
    "start_time": "2022-08-29T16:13:12.541Z"
   },
   {
    "duration": 20,
    "start_time": "2022-08-29T16:13:12.842Z"
   },
   {
    "duration": 683,
    "start_time": "2022-08-29T16:13:12.864Z"
   },
   {
    "duration": 8,
    "start_time": "2022-08-29T16:13:13.549Z"
   },
   {
    "duration": 26,
    "start_time": "2022-08-29T16:13:13.558Z"
   },
   {
    "duration": 7,
    "start_time": "2022-08-29T16:13:13.586Z"
   },
   {
    "duration": 15,
    "start_time": "2022-08-29T16:13:13.594Z"
   },
   {
    "duration": 7,
    "start_time": "2022-08-29T16:13:13.610Z"
   },
   {
    "duration": 13,
    "start_time": "2022-08-29T16:13:13.618Z"
   },
   {
    "duration": 17,
    "start_time": "2022-08-29T16:13:13.632Z"
   },
   {
    "duration": 7,
    "start_time": "2022-08-29T16:13:13.650Z"
   },
   {
    "duration": 159,
    "start_time": "2022-08-29T16:13:13.659Z"
   },
   {
    "duration": 7,
    "start_time": "2022-08-29T16:13:13.820Z"
   },
   {
    "duration": 157,
    "start_time": "2022-08-29T16:13:13.829Z"
   },
   {
    "duration": 146,
    "start_time": "2022-08-29T16:13:13.988Z"
   },
   {
    "duration": 7,
    "start_time": "2022-08-29T16:13:14.136Z"
   },
   {
    "duration": 8,
    "start_time": "2022-08-29T16:13:14.144Z"
   },
   {
    "duration": 142,
    "start_time": "2022-08-29T16:13:14.153Z"
   },
   {
    "duration": 105,
    "start_time": "2022-08-29T16:13:14.296Z"
   },
   {
    "duration": 8,
    "start_time": "2022-08-29T16:13:14.402Z"
   },
   {
    "duration": 183,
    "start_time": "2022-08-29T16:13:14.412Z"
   },
   {
    "duration": 95,
    "start_time": "2022-08-29T16:13:14.596Z"
   },
   {
    "duration": 6,
    "start_time": "2022-08-29T16:13:14.693Z"
   },
   {
    "duration": 141,
    "start_time": "2022-08-29T16:13:14.700Z"
   },
   {
    "duration": 164,
    "start_time": "2022-08-29T16:13:14.843Z"
   },
   {
    "duration": 3,
    "start_time": "2022-08-29T16:13:15.008Z"
   },
   {
    "duration": 18,
    "start_time": "2022-08-29T16:13:15.013Z"
   },
   {
    "duration": 148,
    "start_time": "2022-08-29T16:13:15.032Z"
   },
   {
    "duration": 2,
    "start_time": "2022-08-29T16:13:15.184Z"
   },
   {
    "duration": 10,
    "start_time": "2022-08-29T16:13:15.187Z"
   },
   {
    "duration": 139,
    "start_time": "2022-08-29T16:13:15.198Z"
   },
   {
    "duration": 2,
    "start_time": "2022-08-29T16:13:15.339Z"
   },
   {
    "duration": 8,
    "start_time": "2022-08-29T16:13:15.342Z"
   },
   {
    "duration": 134,
    "start_time": "2022-08-29T16:13:15.351Z"
   },
   {
    "duration": 12,
    "start_time": "2022-08-29T16:13:15.486Z"
   },
   {
    "duration": 12,
    "start_time": "2022-08-29T16:13:15.499Z"
   },
   {
    "duration": 12,
    "start_time": "2022-08-29T16:13:15.512Z"
   },
   {
    "duration": 13,
    "start_time": "2022-08-29T16:13:15.526Z"
   },
   {
    "duration": 7,
    "start_time": "2022-08-29T16:13:15.540Z"
   },
   {
    "duration": 37,
    "start_time": "2022-08-29T16:13:15.549Z"
   },
   {
    "duration": 14,
    "start_time": "2022-08-29T16:13:15.587Z"
   },
   {
    "duration": 6,
    "start_time": "2022-08-29T16:13:15.603Z"
   },
   {
    "duration": 5,
    "start_time": "2022-08-29T16:13:15.611Z"
   },
   {
    "duration": 8,
    "start_time": "2022-08-29T16:13:15.618Z"
   },
   {
    "duration": 10,
    "start_time": "2022-08-29T16:13:15.627Z"
   },
   {
    "duration": 33,
    "start_time": "2022-08-29T16:13:15.638Z"
   },
   {
    "duration": 8,
    "start_time": "2022-08-29T16:13:15.676Z"
   },
   {
    "duration": 24,
    "start_time": "2022-08-29T16:13:15.685Z"
   },
   {
    "duration": 22,
    "start_time": "2022-08-29T16:13:15.710Z"
   },
   {
    "duration": 32,
    "start_time": "2022-08-29T16:13:15.733Z"
   },
   {
    "duration": 7,
    "start_time": "2022-08-29T16:13:15.767Z"
   },
   {
    "duration": 12,
    "start_time": "2022-08-29T16:13:15.775Z"
   },
   {
    "duration": 9,
    "start_time": "2022-08-29T16:13:15.789Z"
   }
  ],
  "kernelspec": {
   "display_name": "Python 3 (ipykernel)",
   "language": "python",
   "name": "python3"
  },
  "language_info": {
   "codemirror_mode": {
    "name": "ipython",
    "version": 3
   },
   "file_extension": ".py",
   "mimetype": "text/x-python",
   "name": "python",
   "nbconvert_exporter": "python",
   "pygments_lexer": "ipython3",
   "version": "3.9.12"
  },
  "toc": {
   "base_numbering": 1,
   "nav_menu": {},
   "number_sections": true,
   "sideBar": true,
   "skip_h1_title": true,
   "title_cell": "Содержание проекта",
   "title_sidebar": "Contents",
   "toc_cell": true,
   "toc_position": {
    "height": "calc(100% - 180px)",
    "left": "10px",
    "top": "150px",
    "width": "165px"
   },
   "toc_section_display": true,
   "toc_window_display": true
  }
 },
 "nbformat": 4,
 "nbformat_minor": 2
}
