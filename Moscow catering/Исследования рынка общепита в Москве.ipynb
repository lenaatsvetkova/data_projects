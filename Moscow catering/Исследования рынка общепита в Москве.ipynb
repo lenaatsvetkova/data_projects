{
 "cells": [
  {
   "cell_type": "markdown",
   "metadata": {},
   "source": [
    "# Исследования рынка общепита в Москве для принятия решения об открытии нового заведения"
   ]
  },
  {
   "cell_type": "markdown",
   "metadata": {},
   "source": [
    "## Описание проекта\n",
    "В рамках данного проекта мы работаем с данными, предоставленными инвесторами из фонда «Shut Up and Take My Money», которые решили открыть заведение общественного питания в Москве. Мы подготовим исследование рынка Москвы, найдем интересные особенности и презентуем полученные результаты, которые в будущем помогут в выборе подходящего инвесторам места."
   ]
  },
  {
   "cell_type": "markdown",
   "metadata": {},
   "source": [
    "## Описание данных \n",
    "Нам доступен датасет с заведениями общественного питания Москвы, составленный на основе данных сервисов Яндекс Карты и Яндекс Бизнес на лето 2022 года. Информация, размещённая в сервисе Яндекс Бизнес, могла быть добавлена пользователями или найдена в общедоступных источниках. Она носит исключительно справочный характер.\n",
    "\n",
    "Датасет содержит следующие столбцы:\n",
    "- name — название заведения;\n",
    "- address — адрес заведения;\n",
    "- category — категория заведения, например «кафе», «пиццерия» или «кофейня»;\n",
    "- hours — информация о днях и часах работы;\n",
    "- lat — широта географической точки, в которой находится заведение;\n",
    "- lng — долгота географической точки, в которой находится заведение;\n",
    "- rating — рейтинг заведения по оценкам пользователей в Яндекс Картах (высшая оценка — 5.0);\n",
    "- price — категория цен в заведении, например «средние», «ниже среднего», «выше среднего» и так далее;\n",
    "- avg_bill — строка, которая хранит среднюю стоимость заказа в виде диапазона, например;\n",
    "- middle_avg_bill — число с оценкой среднего чека, которое указано только для значений из столбца avg_bill;\n",
    "- middle_coffee_cup — число с оценкой одной чашки капучино, которое указано только для значений из столбца avg_bill;\n",
    "- chain — число, выраженное 0 или 1, которое показывает, является ли заведение сетевым (для маленьких сетей могут встречаться ошибки);\n",
    "- district — административный район, в котором находится заведение, например Центральный административный округ;\n",
    "- seats — количество посадочных мест."
   ]
  },
  {
   "cell_type": "markdown",
   "metadata": {},
   "source": [
    "## Обзор данных\n",
    "Загрузим данные о заведениях общественного питания Москвы."
   ]
  },
  {
   "cell_type": "code",
   "execution_count": 1,
   "metadata": {},
   "outputs": [],
   "source": [
    "import pandas as pd\n",
    "import matplotlib.pyplot as plt\n",
    "import seaborn as sns\n",
    "import plotly.express as px \n",
    "import numpy as np\n",
    "from folium import Map, Choropleth\n",
    "import json\n",
    "with open('/datasets/admin_level_geomap.geojson', 'r') as f:\n",
    "    geo_json = json.load(f)\n",
    "from folium import Map, Marker\n",
    "from folium.plugins import MarkerCluster\n",
    "from folium import Marker"
   ]
  },
  {
   "cell_type": "code",
   "execution_count": 2,
   "metadata": {},
   "outputs": [],
   "source": [
    "data = pd.read_csv('/datasets/moscow_places.csv')"
   ]
  },
  {
   "cell_type": "code",
   "execution_count": 3,
   "metadata": {},
   "outputs": [
    {
     "data": {
      "text/html": [
       "<div>\n",
       "<style scoped>\n",
       "    .dataframe tbody tr th:only-of-type {\n",
       "        vertical-align: middle;\n",
       "    }\n",
       "\n",
       "    .dataframe tbody tr th {\n",
       "        vertical-align: top;\n",
       "    }\n",
       "\n",
       "    .dataframe thead th {\n",
       "        text-align: right;\n",
       "    }\n",
       "</style>\n",
       "<table border=\"1\" class=\"dataframe\">\n",
       "  <thead>\n",
       "    <tr style=\"text-align: right;\">\n",
       "      <th></th>\n",
       "      <th>name</th>\n",
       "      <th>category</th>\n",
       "      <th>address</th>\n",
       "      <th>district</th>\n",
       "      <th>hours</th>\n",
       "      <th>lat</th>\n",
       "      <th>lng</th>\n",
       "      <th>rating</th>\n",
       "      <th>price</th>\n",
       "      <th>avg_bill</th>\n",
       "      <th>middle_avg_bill</th>\n",
       "      <th>middle_coffee_cup</th>\n",
       "      <th>chain</th>\n",
       "      <th>seats</th>\n",
       "    </tr>\n",
       "  </thead>\n",
       "  <tbody>\n",
       "    <tr>\n",
       "      <th>0</th>\n",
       "      <td>WoWфли</td>\n",
       "      <td>кафе</td>\n",
       "      <td>Москва, улица Дыбенко, 7/1</td>\n",
       "      <td>Северный административный округ</td>\n",
       "      <td>ежедневно, 10:00–22:00</td>\n",
       "      <td>55.878494</td>\n",
       "      <td>37.478860</td>\n",
       "      <td>5.0</td>\n",
       "      <td>NaN</td>\n",
       "      <td>NaN</td>\n",
       "      <td>NaN</td>\n",
       "      <td>NaN</td>\n",
       "      <td>0</td>\n",
       "      <td>NaN</td>\n",
       "    </tr>\n",
       "    <tr>\n",
       "      <th>1</th>\n",
       "      <td>Четыре комнаты</td>\n",
       "      <td>ресторан</td>\n",
       "      <td>Москва, улица Дыбенко, 36, корп. 1</td>\n",
       "      <td>Северный административный округ</td>\n",
       "      <td>ежедневно, 10:00–22:00</td>\n",
       "      <td>55.875801</td>\n",
       "      <td>37.484479</td>\n",
       "      <td>4.5</td>\n",
       "      <td>выше среднего</td>\n",
       "      <td>Средний счёт:1500–1600 ₽</td>\n",
       "      <td>1550.0</td>\n",
       "      <td>NaN</td>\n",
       "      <td>0</td>\n",
       "      <td>4.0</td>\n",
       "    </tr>\n",
       "    <tr>\n",
       "      <th>2</th>\n",
       "      <td>Хазри</td>\n",
       "      <td>кафе</td>\n",
       "      <td>Москва, Клязьминская улица, 15</td>\n",
       "      <td>Северный административный округ</td>\n",
       "      <td>пн-чт 11:00–02:00; пт,сб 11:00–05:00; вс 11:00...</td>\n",
       "      <td>55.889146</td>\n",
       "      <td>37.525901</td>\n",
       "      <td>4.6</td>\n",
       "      <td>средние</td>\n",
       "      <td>Средний счёт:от 1000 ₽</td>\n",
       "      <td>1000.0</td>\n",
       "      <td>NaN</td>\n",
       "      <td>0</td>\n",
       "      <td>45.0</td>\n",
       "    </tr>\n",
       "    <tr>\n",
       "      <th>3</th>\n",
       "      <td>Dormouse Coffee Shop</td>\n",
       "      <td>кофейня</td>\n",
       "      <td>Москва, улица Маршала Федоренко, 12</td>\n",
       "      <td>Северный административный округ</td>\n",
       "      <td>ежедневно, 09:00–22:00</td>\n",
       "      <td>55.881608</td>\n",
       "      <td>37.488860</td>\n",
       "      <td>5.0</td>\n",
       "      <td>NaN</td>\n",
       "      <td>Цена чашки капучино:155–185 ₽</td>\n",
       "      <td>NaN</td>\n",
       "      <td>170.0</td>\n",
       "      <td>0</td>\n",
       "      <td>NaN</td>\n",
       "    </tr>\n",
       "    <tr>\n",
       "      <th>4</th>\n",
       "      <td>Иль Марко</td>\n",
       "      <td>пиццерия</td>\n",
       "      <td>Москва, Правобережная улица, 1Б</td>\n",
       "      <td>Северный административный округ</td>\n",
       "      <td>ежедневно, 10:00–22:00</td>\n",
       "      <td>55.881166</td>\n",
       "      <td>37.449357</td>\n",
       "      <td>5.0</td>\n",
       "      <td>средние</td>\n",
       "      <td>Средний счёт:400–600 ₽</td>\n",
       "      <td>500.0</td>\n",
       "      <td>NaN</td>\n",
       "      <td>1</td>\n",
       "      <td>148.0</td>\n",
       "    </tr>\n",
       "  </tbody>\n",
       "</table>\n",
       "</div>"
      ],
      "text/plain": [
       "                   name  category                              address  \\\n",
       "0                WoWфли      кафе           Москва, улица Дыбенко, 7/1   \n",
       "1        Четыре комнаты  ресторан   Москва, улица Дыбенко, 36, корп. 1   \n",
       "2                 Хазри      кафе       Москва, Клязьминская улица, 15   \n",
       "3  Dormouse Coffee Shop   кофейня  Москва, улица Маршала Федоренко, 12   \n",
       "4             Иль Марко  пиццерия      Москва, Правобережная улица, 1Б   \n",
       "\n",
       "                          district  \\\n",
       "0  Северный административный округ   \n",
       "1  Северный административный округ   \n",
       "2  Северный административный округ   \n",
       "3  Северный административный округ   \n",
       "4  Северный административный округ   \n",
       "\n",
       "                                               hours        lat        lng  \\\n",
       "0                             ежедневно, 10:00–22:00  55.878494  37.478860   \n",
       "1                             ежедневно, 10:00–22:00  55.875801  37.484479   \n",
       "2  пн-чт 11:00–02:00; пт,сб 11:00–05:00; вс 11:00...  55.889146  37.525901   \n",
       "3                             ежедневно, 09:00–22:00  55.881608  37.488860   \n",
       "4                             ежедневно, 10:00–22:00  55.881166  37.449357   \n",
       "\n",
       "   rating          price                       avg_bill  middle_avg_bill  \\\n",
       "0     5.0            NaN                            NaN              NaN   \n",
       "1     4.5  выше среднего       Средний счёт:1500–1600 ₽           1550.0   \n",
       "2     4.6        средние         Средний счёт:от 1000 ₽           1000.0   \n",
       "3     5.0            NaN  Цена чашки капучино:155–185 ₽              NaN   \n",
       "4     5.0        средние         Средний счёт:400–600 ₽            500.0   \n",
       "\n",
       "   middle_coffee_cup  chain  seats  \n",
       "0                NaN      0    NaN  \n",
       "1                NaN      0    4.0  \n",
       "2                NaN      0   45.0  \n",
       "3              170.0      0    NaN  \n",
       "4                NaN      1  148.0  "
      ]
     },
     "execution_count": 3,
     "metadata": {},
     "output_type": "execute_result"
    }
   ],
   "source": [
    "# обзор датафрейма data \n",
    "data.head()"
   ]
  },
  {
   "cell_type": "code",
   "execution_count": 4,
   "metadata": {},
   "outputs": [
    {
     "name": "stdout",
     "output_type": "stream",
     "text": [
      "<class 'pandas.core.frame.DataFrame'>\n",
      "RangeIndex: 8406 entries, 0 to 8405\n",
      "Data columns (total 14 columns):\n",
      " #   Column             Non-Null Count  Dtype  \n",
      "---  ------             --------------  -----  \n",
      " 0   name               8406 non-null   object \n",
      " 1   category           8406 non-null   object \n",
      " 2   address            8406 non-null   object \n",
      " 3   district           8406 non-null   object \n",
      " 4   hours              7870 non-null   object \n",
      " 5   lat                8406 non-null   float64\n",
      " 6   lng                8406 non-null   float64\n",
      " 7   rating             8406 non-null   float64\n",
      " 8   price              3315 non-null   object \n",
      " 9   avg_bill           3816 non-null   object \n",
      " 10  middle_avg_bill    3149 non-null   float64\n",
      " 11  middle_coffee_cup  535 non-null    float64\n",
      " 12  chain              8406 non-null   int64  \n",
      " 13  seats              4795 non-null   float64\n",
      "dtypes: float64(6), int64(1), object(7)\n",
      "memory usage: 919.5+ KB\n"
     ]
    }
   ],
   "source": [
    "data.info()"
   ]
  },
  {
   "cell_type": "code",
   "execution_count": 5,
   "metadata": {},
   "outputs": [
    {
     "data": {
      "text/plain": [
       "кафе               2378\n",
       "ресторан           2043\n",
       "кофейня            1413\n",
       "бар,паб             765\n",
       "пиццерия            633\n",
       "быстрое питание     603\n",
       "столовая            315\n",
       "булочная            256\n",
       "Name: category, dtype: int64"
      ]
     },
     "execution_count": 5,
     "metadata": {},
     "output_type": "execute_result"
    }
   ],
   "source": [
    "data['category'].value_counts()"
   ]
  },
  {
   "cell_type": "markdown",
   "metadata": {},
   "source": [
    "### Выводы\n",
    "- В датасете представлено 8406 заведений разных категорий (кафе, ресторан, кофейня, бар и пр.) По числу открытых заведений лидируют кафе, рестораны и кофейни. Наименьшее количество приходится на столовые и булочные. \n",
    "- Пропуски обнаружены в следующих столбцах: Дни и часы работы, Категория цен, Средняя стоимость заказа, Оценка среднего чека, Цена одной чашки капучино, Количество посадочных мест. Поскольку данные преимуществено добавлены пользователями или найдены в общедоступных источниках, наличие пропусков не представляется удивительным.\n",
    "- Большинство столбцов представлено типом объекта, часть — вещественным и один столбец — целым. В целом типа данных соответствуют содержанию столбцов. Тип данных столбца chain можно поменять на булев, т.к. его содержание зависит от условия: является сетевым заведением или нет.  "
   ]
  },
  {
   "cell_type": "markdown",
   "metadata": {},
   "source": [
    "## Предобработка данных\n",
    "В данном разделе мы изучим, есть ли дубликаты в данных; поищим пропуски и постараемся их обработать, а также создадим два новых столбца с названиями улиц из столбца с адресом, а также с обозначением, что заведение работает ежедневно и круглосуточно (24/7). "
   ]
  },
  {
   "cell_type": "code",
   "execution_count": 6,
   "metadata": {},
   "outputs": [
    {
     "data": {
      "text/plain": [
       "0"
      ]
     },
     "execution_count": 6,
     "metadata": {},
     "output_type": "execute_result"
    }
   ],
   "source": [
    "# проверим, есть ли явные дубликаты в данных\n",
    "data.duplicated().sum()"
   ]
  },
  {
   "cell_type": "code",
   "execution_count": 7,
   "metadata": {},
   "outputs": [
    {
     "data": {
      "text/plain": [
       "2894"
      ]
     },
     "execution_count": 7,
     "metadata": {},
     "output_type": "execute_result"
    }
   ],
   "source": [
    "# проверим, есть ли неявные дубликаты в названиях\n",
    "data['name'] = data['name'].str.lower()\n",
    "data['name'] = data['name'].str.strip()\n",
    "data['name'].duplicated().sum()"
   ]
  },
  {
   "cell_type": "code",
   "execution_count": 8,
   "metadata": {},
   "outputs": [
    {
     "data": {
      "text/plain": [
       "2654"
      ]
     },
     "execution_count": 8,
     "metadata": {},
     "output_type": "execute_result"
    }
   ],
   "source": [
    "# проверим, есть ли неявные дубликаты в адресах\n",
    "data['address'] = data['address'].str.lower()\n",
    "data['address'] = data['address'].str.strip()\n",
    "data['address'].duplicated().sum()"
   ]
  },
  {
   "cell_type": "code",
   "execution_count": 9,
   "metadata": {},
   "outputs": [
    {
     "name": "stdout",
     "output_type": "stream",
     "text": [
      "<class 'pandas.core.frame.DataFrame'>\n",
      "Int64Index: 8402 entries, 0 to 8405\n",
      "Data columns (total 14 columns):\n",
      " #   Column             Non-Null Count  Dtype  \n",
      "---  ------             --------------  -----  \n",
      " 0   name               8402 non-null   object \n",
      " 1   category           8402 non-null   object \n",
      " 2   address            8402 non-null   object \n",
      " 3   district           8402 non-null   object \n",
      " 4   hours              7867 non-null   object \n",
      " 5   lat                8402 non-null   float64\n",
      " 6   lng                8402 non-null   float64\n",
      " 7   rating             8402 non-null   float64\n",
      " 8   price              3315 non-null   object \n",
      " 9   avg_bill           3816 non-null   object \n",
      " 10  middle_avg_bill    3149 non-null   float64\n",
      " 11  middle_coffee_cup  535 non-null    float64\n",
      " 12  chain              8402 non-null   int64  \n",
      " 13  seats              4792 non-null   float64\n",
      "dtypes: float64(6), int64(1), object(7)\n",
      "memory usage: 984.6+ KB\n"
     ]
    }
   ],
   "source": [
    "# найдем и удалим неявные дубликаты (повторяющиеся названия и адреса) \n",
    "data = data.drop_duplicates(subset=['name', 'address'])\n",
    "data.info()"
   ]
  },
  {
   "cell_type": "code",
   "execution_count": 10,
   "metadata": {},
   "outputs": [
    {
     "data": {
      "text/plain": [
       "name                    0\n",
       "category                0\n",
       "address                 0\n",
       "district                0\n",
       "hours                 535\n",
       "lat                     0\n",
       "lng                     0\n",
       "rating                  0\n",
       "price                5087\n",
       "avg_bill             4586\n",
       "middle_avg_bill      5253\n",
       "middle_coffee_cup    7867\n",
       "chain                   0\n",
       "seats                3610\n",
       "dtype: int64"
      ]
     },
     "execution_count": 10,
     "metadata": {},
     "output_type": "execute_result"
    }
   ],
   "source": [
    "# посчитаем количество пропусков\n",
    "data.isna().sum()"
   ]
  },
  {
   "cell_type": "code",
   "execution_count": 11,
   "metadata": {},
   "outputs": [
    {
     "data": {
      "text/html": [
       "<div>\n",
       "<style scoped>\n",
       "    .dataframe tbody tr th:only-of-type {\n",
       "        vertical-align: middle;\n",
       "    }\n",
       "\n",
       "    .dataframe tbody tr th {\n",
       "        vertical-align: top;\n",
       "    }\n",
       "\n",
       "    .dataframe thead th {\n",
       "        text-align: right;\n",
       "    }\n",
       "</style>\n",
       "<table border=\"1\" class=\"dataframe\">\n",
       "  <thead>\n",
       "    <tr style=\"text-align: right;\">\n",
       "      <th></th>\n",
       "      <th>name</th>\n",
       "      <th>category</th>\n",
       "      <th>address</th>\n",
       "      <th>district</th>\n",
       "      <th>hours</th>\n",
       "      <th>lat</th>\n",
       "      <th>lng</th>\n",
       "      <th>rating</th>\n",
       "      <th>price</th>\n",
       "      <th>avg_bill</th>\n",
       "      <th>middle_avg_bill</th>\n",
       "      <th>middle_coffee_cup</th>\n",
       "      <th>chain</th>\n",
       "      <th>seats</th>\n",
       "      <th>street</th>\n",
       "    </tr>\n",
       "  </thead>\n",
       "  <tbody>\n",
       "    <tr>\n",
       "      <th>0</th>\n",
       "      <td>wowфли</td>\n",
       "      <td>кафе</td>\n",
       "      <td>москва, улица дыбенко, 7/1</td>\n",
       "      <td>Северный административный округ</td>\n",
       "      <td>ежедневно, 10:00–22:00</td>\n",
       "      <td>55.878494</td>\n",
       "      <td>37.478860</td>\n",
       "      <td>5.0</td>\n",
       "      <td>NaN</td>\n",
       "      <td>NaN</td>\n",
       "      <td>NaN</td>\n",
       "      <td>NaN</td>\n",
       "      <td>0</td>\n",
       "      <td>NaN</td>\n",
       "      <td>улица дыбенко</td>\n",
       "    </tr>\n",
       "    <tr>\n",
       "      <th>1</th>\n",
       "      <td>четыре комнаты</td>\n",
       "      <td>ресторан</td>\n",
       "      <td>москва, улица дыбенко, 36, корп. 1</td>\n",
       "      <td>Северный административный округ</td>\n",
       "      <td>ежедневно, 10:00–22:00</td>\n",
       "      <td>55.875801</td>\n",
       "      <td>37.484479</td>\n",
       "      <td>4.5</td>\n",
       "      <td>выше среднего</td>\n",
       "      <td>Средний счёт:1500–1600 ₽</td>\n",
       "      <td>1550.0</td>\n",
       "      <td>NaN</td>\n",
       "      <td>0</td>\n",
       "      <td>4.0</td>\n",
       "      <td>улица дыбенко</td>\n",
       "    </tr>\n",
       "    <tr>\n",
       "      <th>2</th>\n",
       "      <td>хазри</td>\n",
       "      <td>кафе</td>\n",
       "      <td>москва, клязьминская улица, 15</td>\n",
       "      <td>Северный административный округ</td>\n",
       "      <td>пн-чт 11:00–02:00; пт,сб 11:00–05:00; вс 11:00...</td>\n",
       "      <td>55.889146</td>\n",
       "      <td>37.525901</td>\n",
       "      <td>4.6</td>\n",
       "      <td>средние</td>\n",
       "      <td>Средний счёт:от 1000 ₽</td>\n",
       "      <td>1000.0</td>\n",
       "      <td>NaN</td>\n",
       "      <td>0</td>\n",
       "      <td>45.0</td>\n",
       "      <td>клязьминская улица</td>\n",
       "    </tr>\n",
       "    <tr>\n",
       "      <th>3</th>\n",
       "      <td>dormouse coffee shop</td>\n",
       "      <td>кофейня</td>\n",
       "      <td>москва, улица маршала федоренко, 12</td>\n",
       "      <td>Северный административный округ</td>\n",
       "      <td>ежедневно, 09:00–22:00</td>\n",
       "      <td>55.881608</td>\n",
       "      <td>37.488860</td>\n",
       "      <td>5.0</td>\n",
       "      <td>NaN</td>\n",
       "      <td>Цена чашки капучино:155–185 ₽</td>\n",
       "      <td>NaN</td>\n",
       "      <td>170.0</td>\n",
       "      <td>0</td>\n",
       "      <td>NaN</td>\n",
       "      <td>улица маршала федоренко</td>\n",
       "    </tr>\n",
       "    <tr>\n",
       "      <th>4</th>\n",
       "      <td>иль марко</td>\n",
       "      <td>пиццерия</td>\n",
       "      <td>москва, правобережная улица, 1б</td>\n",
       "      <td>Северный административный округ</td>\n",
       "      <td>ежедневно, 10:00–22:00</td>\n",
       "      <td>55.881166</td>\n",
       "      <td>37.449357</td>\n",
       "      <td>5.0</td>\n",
       "      <td>средние</td>\n",
       "      <td>Средний счёт:400–600 ₽</td>\n",
       "      <td>500.0</td>\n",
       "      <td>NaN</td>\n",
       "      <td>1</td>\n",
       "      <td>148.0</td>\n",
       "      <td>правобережная улица</td>\n",
       "    </tr>\n",
       "  </tbody>\n",
       "</table>\n",
       "</div>"
      ],
      "text/plain": [
       "                   name  category                              address  \\\n",
       "0                wowфли      кафе           москва, улица дыбенко, 7/1   \n",
       "1        четыре комнаты  ресторан   москва, улица дыбенко, 36, корп. 1   \n",
       "2                 хазри      кафе       москва, клязьминская улица, 15   \n",
       "3  dormouse coffee shop   кофейня  москва, улица маршала федоренко, 12   \n",
       "4             иль марко  пиццерия      москва, правобережная улица, 1б   \n",
       "\n",
       "                          district  \\\n",
       "0  Северный административный округ   \n",
       "1  Северный административный округ   \n",
       "2  Северный административный округ   \n",
       "3  Северный административный округ   \n",
       "4  Северный административный округ   \n",
       "\n",
       "                                               hours        lat        lng  \\\n",
       "0                             ежедневно, 10:00–22:00  55.878494  37.478860   \n",
       "1                             ежедневно, 10:00–22:00  55.875801  37.484479   \n",
       "2  пн-чт 11:00–02:00; пт,сб 11:00–05:00; вс 11:00...  55.889146  37.525901   \n",
       "3                             ежедневно, 09:00–22:00  55.881608  37.488860   \n",
       "4                             ежедневно, 10:00–22:00  55.881166  37.449357   \n",
       "\n",
       "   rating          price                       avg_bill  middle_avg_bill  \\\n",
       "0     5.0            NaN                            NaN              NaN   \n",
       "1     4.5  выше среднего       Средний счёт:1500–1600 ₽           1550.0   \n",
       "2     4.6        средние         Средний счёт:от 1000 ₽           1000.0   \n",
       "3     5.0            NaN  Цена чашки капучино:155–185 ₽              NaN   \n",
       "4     5.0        средние         Средний счёт:400–600 ₽            500.0   \n",
       "\n",
       "   middle_coffee_cup  chain  seats                   street  \n",
       "0                NaN      0    NaN            улица дыбенко  \n",
       "1                NaN      0    4.0            улица дыбенко  \n",
       "2                NaN      0   45.0       клязьминская улица  \n",
       "3              170.0      0    NaN  улица маршала федоренко  \n",
       "4                NaN      1  148.0      правобережная улица  "
      ]
     },
     "execution_count": 11,
     "metadata": {},
     "output_type": "execute_result"
    }
   ],
   "source": [
    "# добавим в датасет столбец с названиями улиц из столбца с адресом\n",
    "data['street'] = data['address'].str.split(', ', expand=True)[1]\n",
    "data.head()"
   ]
  },
  {
   "cell_type": "markdown",
   "metadata": {},
   "source": [
    "Создадим столбец is_24/7 с обозначением, что заведение работает ежедневно и круглосуточно (24/7):\n",
    "- логическое значение True — если заведение работает ежедневно и круглосуточно;\n",
    "- логическое значение False — в противоположном случае."
   ]
  },
  {
   "cell_type": "code",
   "execution_count": 12,
   "metadata": {},
   "outputs": [
    {
     "data": {
      "text/html": [
       "<div>\n",
       "<style scoped>\n",
       "    .dataframe tbody tr th:only-of-type {\n",
       "        vertical-align: middle;\n",
       "    }\n",
       "\n",
       "    .dataframe tbody tr th {\n",
       "        vertical-align: top;\n",
       "    }\n",
       "\n",
       "    .dataframe thead th {\n",
       "        text-align: right;\n",
       "    }\n",
       "</style>\n",
       "<table border=\"1\" class=\"dataframe\">\n",
       "  <thead>\n",
       "    <tr style=\"text-align: right;\">\n",
       "      <th></th>\n",
       "      <th>name</th>\n",
       "      <th>category</th>\n",
       "      <th>address</th>\n",
       "      <th>district</th>\n",
       "      <th>hours</th>\n",
       "      <th>lat</th>\n",
       "      <th>lng</th>\n",
       "      <th>rating</th>\n",
       "      <th>price</th>\n",
       "      <th>avg_bill</th>\n",
       "      <th>middle_avg_bill</th>\n",
       "      <th>middle_coffee_cup</th>\n",
       "      <th>chain</th>\n",
       "      <th>seats</th>\n",
       "      <th>street</th>\n",
       "      <th>is_24/7</th>\n",
       "    </tr>\n",
       "  </thead>\n",
       "  <tbody>\n",
       "    <tr>\n",
       "      <th>0</th>\n",
       "      <td>wowфли</td>\n",
       "      <td>кафе</td>\n",
       "      <td>москва, улица дыбенко, 7/1</td>\n",
       "      <td>Северный административный округ</td>\n",
       "      <td>ежедневно, 10:00–22:00</td>\n",
       "      <td>55.878494</td>\n",
       "      <td>37.478860</td>\n",
       "      <td>5.0</td>\n",
       "      <td>NaN</td>\n",
       "      <td>NaN</td>\n",
       "      <td>NaN</td>\n",
       "      <td>NaN</td>\n",
       "      <td>0</td>\n",
       "      <td>NaN</td>\n",
       "      <td>улица дыбенко</td>\n",
       "      <td>False</td>\n",
       "    </tr>\n",
       "    <tr>\n",
       "      <th>1</th>\n",
       "      <td>четыре комнаты</td>\n",
       "      <td>ресторан</td>\n",
       "      <td>москва, улица дыбенко, 36, корп. 1</td>\n",
       "      <td>Северный административный округ</td>\n",
       "      <td>ежедневно, 10:00–22:00</td>\n",
       "      <td>55.875801</td>\n",
       "      <td>37.484479</td>\n",
       "      <td>4.5</td>\n",
       "      <td>выше среднего</td>\n",
       "      <td>Средний счёт:1500–1600 ₽</td>\n",
       "      <td>1550.0</td>\n",
       "      <td>NaN</td>\n",
       "      <td>0</td>\n",
       "      <td>4.0</td>\n",
       "      <td>улица дыбенко</td>\n",
       "      <td>False</td>\n",
       "    </tr>\n",
       "    <tr>\n",
       "      <th>2</th>\n",
       "      <td>хазри</td>\n",
       "      <td>кафе</td>\n",
       "      <td>москва, клязьминская улица, 15</td>\n",
       "      <td>Северный административный округ</td>\n",
       "      <td>пн-чт 11:00–02:00; пт,сб 11:00–05:00; вс 11:00...</td>\n",
       "      <td>55.889146</td>\n",
       "      <td>37.525901</td>\n",
       "      <td>4.6</td>\n",
       "      <td>средние</td>\n",
       "      <td>Средний счёт:от 1000 ₽</td>\n",
       "      <td>1000.0</td>\n",
       "      <td>NaN</td>\n",
       "      <td>0</td>\n",
       "      <td>45.0</td>\n",
       "      <td>клязьминская улица</td>\n",
       "      <td>False</td>\n",
       "    </tr>\n",
       "    <tr>\n",
       "      <th>3</th>\n",
       "      <td>dormouse coffee shop</td>\n",
       "      <td>кофейня</td>\n",
       "      <td>москва, улица маршала федоренко, 12</td>\n",
       "      <td>Северный административный округ</td>\n",
       "      <td>ежедневно, 09:00–22:00</td>\n",
       "      <td>55.881608</td>\n",
       "      <td>37.488860</td>\n",
       "      <td>5.0</td>\n",
       "      <td>NaN</td>\n",
       "      <td>Цена чашки капучино:155–185 ₽</td>\n",
       "      <td>NaN</td>\n",
       "      <td>170.0</td>\n",
       "      <td>0</td>\n",
       "      <td>NaN</td>\n",
       "      <td>улица маршала федоренко</td>\n",
       "      <td>False</td>\n",
       "    </tr>\n",
       "    <tr>\n",
       "      <th>4</th>\n",
       "      <td>иль марко</td>\n",
       "      <td>пиццерия</td>\n",
       "      <td>москва, правобережная улица, 1б</td>\n",
       "      <td>Северный административный округ</td>\n",
       "      <td>ежедневно, 10:00–22:00</td>\n",
       "      <td>55.881166</td>\n",
       "      <td>37.449357</td>\n",
       "      <td>5.0</td>\n",
       "      <td>средние</td>\n",
       "      <td>Средний счёт:400–600 ₽</td>\n",
       "      <td>500.0</td>\n",
       "      <td>NaN</td>\n",
       "      <td>1</td>\n",
       "      <td>148.0</td>\n",
       "      <td>правобережная улица</td>\n",
       "      <td>False</td>\n",
       "    </tr>\n",
       "  </tbody>\n",
       "</table>\n",
       "</div>"
      ],
      "text/plain": [
       "                   name  category                              address  \\\n",
       "0                wowфли      кафе           москва, улица дыбенко, 7/1   \n",
       "1        четыре комнаты  ресторан   москва, улица дыбенко, 36, корп. 1   \n",
       "2                 хазри      кафе       москва, клязьминская улица, 15   \n",
       "3  dormouse coffee shop   кофейня  москва, улица маршала федоренко, 12   \n",
       "4             иль марко  пиццерия      москва, правобережная улица, 1б   \n",
       "\n",
       "                          district  \\\n",
       "0  Северный административный округ   \n",
       "1  Северный административный округ   \n",
       "2  Северный административный округ   \n",
       "3  Северный административный округ   \n",
       "4  Северный административный округ   \n",
       "\n",
       "                                               hours        lat        lng  \\\n",
       "0                             ежедневно, 10:00–22:00  55.878494  37.478860   \n",
       "1                             ежедневно, 10:00–22:00  55.875801  37.484479   \n",
       "2  пн-чт 11:00–02:00; пт,сб 11:00–05:00; вс 11:00...  55.889146  37.525901   \n",
       "3                             ежедневно, 09:00–22:00  55.881608  37.488860   \n",
       "4                             ежедневно, 10:00–22:00  55.881166  37.449357   \n",
       "\n",
       "   rating          price                       avg_bill  middle_avg_bill  \\\n",
       "0     5.0            NaN                            NaN              NaN   \n",
       "1     4.5  выше среднего       Средний счёт:1500–1600 ₽           1550.0   \n",
       "2     4.6        средние         Средний счёт:от 1000 ₽           1000.0   \n",
       "3     5.0            NaN  Цена чашки капучино:155–185 ₽              NaN   \n",
       "4     5.0        средние         Средний счёт:400–600 ₽            500.0   \n",
       "\n",
       "   middle_coffee_cup  chain  seats                   street  is_24/7  \n",
       "0                NaN      0    NaN            улица дыбенко    False  \n",
       "1                NaN      0    4.0            улица дыбенко    False  \n",
       "2                NaN      0   45.0       клязьминская улица    False  \n",
       "3              170.0      0    NaN  улица маршала федоренко    False  \n",
       "4                NaN      1  148.0      правобережная улица    False  "
      ]
     },
     "execution_count": 12,
     "metadata": {},
     "output_type": "execute_result"
    }
   ],
   "source": [
    "# добавим в датасет столбец is_24/7 из столбца hours\n",
    "data['is_24/7'] = data['hours'] == 'ежедневно, круглосуточно'\n",
    "data.head()"
   ]
  },
  {
   "cell_type": "markdown",
   "metadata": {},
   "source": [
    "Произведем замену типа данных в столбце chain на булев, т.к. мы имеем бинарные значения."
   ]
  },
  {
   "cell_type": "code",
   "execution_count": 13,
   "metadata": {},
   "outputs": [
    {
     "name": "stdout",
     "output_type": "stream",
     "text": [
      "<class 'pandas.core.frame.DataFrame'>\n",
      "Int64Index: 8402 entries, 0 to 8405\n",
      "Data columns (total 16 columns):\n",
      " #   Column             Non-Null Count  Dtype  \n",
      "---  ------             --------------  -----  \n",
      " 0   name               8402 non-null   object \n",
      " 1   category           8402 non-null   object \n",
      " 2   address            8402 non-null   object \n",
      " 3   district           8402 non-null   object \n",
      " 4   hours              7867 non-null   object \n",
      " 5   lat                8402 non-null   float64\n",
      " 6   lng                8402 non-null   float64\n",
      " 7   rating             8402 non-null   float64\n",
      " 8   price              3315 non-null   object \n",
      " 9   avg_bill           3816 non-null   object \n",
      " 10  middle_avg_bill    3149 non-null   float64\n",
      " 11  middle_coffee_cup  535 non-null    float64\n",
      " 12  chain              8402 non-null   bool   \n",
      " 13  seats              4792 non-null   float64\n",
      " 14  street             8402 non-null   object \n",
      " 15  is_24/7            8402 non-null   bool   \n",
      "dtypes: bool(2), float64(6), object(8)\n",
      "memory usage: 1001.0+ KB\n"
     ]
    }
   ],
   "source": [
    "data['chain'] = data['chain'].astype('bool')\n",
    "data.info()"
   ]
  },
  {
   "cell_type": "code",
   "execution_count": 14,
   "metadata": {
    "scrolled": true
   },
   "outputs": [
    {
     "data": {
      "text/html": [
       "<div>\n",
       "<style scoped>\n",
       "    .dataframe tbody tr th:only-of-type {\n",
       "        vertical-align: middle;\n",
       "    }\n",
       "\n",
       "    .dataframe tbody tr th {\n",
       "        vertical-align: top;\n",
       "    }\n",
       "\n",
       "    .dataframe thead th {\n",
       "        text-align: right;\n",
       "    }\n",
       "</style>\n",
       "<table border=\"1\" class=\"dataframe\">\n",
       "  <thead>\n",
       "    <tr style=\"text-align: right;\">\n",
       "      <th></th>\n",
       "      <th>name</th>\n",
       "      <th>category</th>\n",
       "      <th>address</th>\n",
       "      <th>district</th>\n",
       "      <th>hours</th>\n",
       "      <th>lat</th>\n",
       "      <th>lng</th>\n",
       "      <th>rating</th>\n",
       "      <th>price</th>\n",
       "      <th>avg_bill</th>\n",
       "      <th>middle_avg_bill</th>\n",
       "      <th>middle_coffee_cup</th>\n",
       "      <th>chain</th>\n",
       "      <th>seats</th>\n",
       "      <th>street</th>\n",
       "      <th>is_24/7</th>\n",
       "    </tr>\n",
       "  </thead>\n",
       "  <tbody>\n",
       "    <tr>\n",
       "      <th>0</th>\n",
       "      <td>wowфли</td>\n",
       "      <td>кафе</td>\n",
       "      <td>москва, улица дыбенко, 7/1</td>\n",
       "      <td>Северный административный округ</td>\n",
       "      <td>ежедневно, 10:00–22:00</td>\n",
       "      <td>55.878494</td>\n",
       "      <td>37.478860</td>\n",
       "      <td>5.0</td>\n",
       "      <td>NaN</td>\n",
       "      <td>NaN</td>\n",
       "      <td>NaN</td>\n",
       "      <td>NaN</td>\n",
       "      <td>False</td>\n",
       "      <td>NaN</td>\n",
       "      <td>улица дыбенко</td>\n",
       "      <td>False</td>\n",
       "    </tr>\n",
       "    <tr>\n",
       "      <th>1</th>\n",
       "      <td>четыре комнаты</td>\n",
       "      <td>ресторан</td>\n",
       "      <td>москва, улица дыбенко, 36, корп. 1</td>\n",
       "      <td>Северный административный округ</td>\n",
       "      <td>ежедневно, 10:00–22:00</td>\n",
       "      <td>55.875801</td>\n",
       "      <td>37.484479</td>\n",
       "      <td>4.5</td>\n",
       "      <td>выше среднего</td>\n",
       "      <td>Средний счёт:1500–1600 ₽</td>\n",
       "      <td>1550.0</td>\n",
       "      <td>NaN</td>\n",
       "      <td>False</td>\n",
       "      <td>4.0</td>\n",
       "      <td>улица дыбенко</td>\n",
       "      <td>False</td>\n",
       "    </tr>\n",
       "    <tr>\n",
       "      <th>2</th>\n",
       "      <td>хазри</td>\n",
       "      <td>кафе</td>\n",
       "      <td>москва, клязьминская улица, 15</td>\n",
       "      <td>Северный административный округ</td>\n",
       "      <td>пн-чт 11:00–02:00; пт,сб 11:00–05:00; вс 11:00...</td>\n",
       "      <td>55.889146</td>\n",
       "      <td>37.525901</td>\n",
       "      <td>4.6</td>\n",
       "      <td>средние</td>\n",
       "      <td>Средний счёт:от 1000 ₽</td>\n",
       "      <td>1000.0</td>\n",
       "      <td>NaN</td>\n",
       "      <td>False</td>\n",
       "      <td>45.0</td>\n",
       "      <td>клязьминская улица</td>\n",
       "      <td>False</td>\n",
       "    </tr>\n",
       "    <tr>\n",
       "      <th>3</th>\n",
       "      <td>dormouse coffee shop</td>\n",
       "      <td>кофейня</td>\n",
       "      <td>москва, улица маршала федоренко, 12</td>\n",
       "      <td>Северный административный округ</td>\n",
       "      <td>ежедневно, 09:00–22:00</td>\n",
       "      <td>55.881608</td>\n",
       "      <td>37.488860</td>\n",
       "      <td>5.0</td>\n",
       "      <td>NaN</td>\n",
       "      <td>Цена чашки капучино:155–185 ₽</td>\n",
       "      <td>NaN</td>\n",
       "      <td>170.0</td>\n",
       "      <td>False</td>\n",
       "      <td>NaN</td>\n",
       "      <td>улица маршала федоренко</td>\n",
       "      <td>False</td>\n",
       "    </tr>\n",
       "    <tr>\n",
       "      <th>4</th>\n",
       "      <td>иль марко</td>\n",
       "      <td>пиццерия</td>\n",
       "      <td>москва, правобережная улица, 1б</td>\n",
       "      <td>Северный административный округ</td>\n",
       "      <td>ежедневно, 10:00–22:00</td>\n",
       "      <td>55.881166</td>\n",
       "      <td>37.449357</td>\n",
       "      <td>5.0</td>\n",
       "      <td>средние</td>\n",
       "      <td>Средний счёт:400–600 ₽</td>\n",
       "      <td>500.0</td>\n",
       "      <td>NaN</td>\n",
       "      <td>True</td>\n",
       "      <td>148.0</td>\n",
       "      <td>правобережная улица</td>\n",
       "      <td>False</td>\n",
       "    </tr>\n",
       "    <tr>\n",
       "      <th>5</th>\n",
       "      <td>sergio pizza</td>\n",
       "      <td>пиццерия</td>\n",
       "      <td>москва, ижорская улица, вл8б</td>\n",
       "      <td>Северный административный округ</td>\n",
       "      <td>ежедневно, 10:00–23:00</td>\n",
       "      <td>55.888010</td>\n",
       "      <td>37.509573</td>\n",
       "      <td>4.6</td>\n",
       "      <td>средние</td>\n",
       "      <td>NaN</td>\n",
       "      <td>NaN</td>\n",
       "      <td>NaN</td>\n",
       "      <td>False</td>\n",
       "      <td>NaN</td>\n",
       "      <td>ижорская улица</td>\n",
       "      <td>False</td>\n",
       "    </tr>\n",
       "    <tr>\n",
       "      <th>6</th>\n",
       "      <td>огни города</td>\n",
       "      <td>бар,паб</td>\n",
       "      <td>москва, клязьминская улица, 9, стр. 3</td>\n",
       "      <td>Северный административный округ</td>\n",
       "      <td>пн 15:00–04:00; вт-вс 15:00–05:00</td>\n",
       "      <td>55.890752</td>\n",
       "      <td>37.524653</td>\n",
       "      <td>4.4</td>\n",
       "      <td>средние</td>\n",
       "      <td>Средний счёт:199 ₽</td>\n",
       "      <td>199.0</td>\n",
       "      <td>NaN</td>\n",
       "      <td>False</td>\n",
       "      <td>45.0</td>\n",
       "      <td>клязьминская улица</td>\n",
       "      <td>False</td>\n",
       "    </tr>\n",
       "    <tr>\n",
       "      <th>7</th>\n",
       "      <td>mr. уголёк</td>\n",
       "      <td>быстрое питание</td>\n",
       "      <td>москва, клязьминская улица, 9, стр. 3</td>\n",
       "      <td>Северный административный округ</td>\n",
       "      <td>пн-чт 10:00–22:00; пт,сб 10:00–23:00; вс 10:00...</td>\n",
       "      <td>55.890636</td>\n",
       "      <td>37.524303</td>\n",
       "      <td>4.7</td>\n",
       "      <td>средние</td>\n",
       "      <td>Средний счёт:200–300 ₽</td>\n",
       "      <td>250.0</td>\n",
       "      <td>NaN</td>\n",
       "      <td>False</td>\n",
       "      <td>45.0</td>\n",
       "      <td>клязьминская улица</td>\n",
       "      <td>False</td>\n",
       "    </tr>\n",
       "    <tr>\n",
       "      <th>8</th>\n",
       "      <td>donna maria</td>\n",
       "      <td>ресторан</td>\n",
       "      <td>москва, дмитровское шоссе, 107, корп. 4</td>\n",
       "      <td>Северный административный округ</td>\n",
       "      <td>ежедневно, 10:00–22:00</td>\n",
       "      <td>55.880045</td>\n",
       "      <td>37.539006</td>\n",
       "      <td>4.8</td>\n",
       "      <td>средние</td>\n",
       "      <td>Средний счёт:от 500 ₽</td>\n",
       "      <td>500.0</td>\n",
       "      <td>NaN</td>\n",
       "      <td>False</td>\n",
       "      <td>79.0</td>\n",
       "      <td>дмитровское шоссе</td>\n",
       "      <td>False</td>\n",
       "    </tr>\n",
       "    <tr>\n",
       "      <th>9</th>\n",
       "      <td>готика</td>\n",
       "      <td>кафе</td>\n",
       "      <td>москва, ангарская улица, 39</td>\n",
       "      <td>Северный административный округ</td>\n",
       "      <td>ежедневно, 12:00–00:00</td>\n",
       "      <td>55.879038</td>\n",
       "      <td>37.524487</td>\n",
       "      <td>4.3</td>\n",
       "      <td>средние</td>\n",
       "      <td>Средний счёт:1000–1200 ₽</td>\n",
       "      <td>1100.0</td>\n",
       "      <td>NaN</td>\n",
       "      <td>False</td>\n",
       "      <td>65.0</td>\n",
       "      <td>ангарская улица</td>\n",
       "      <td>False</td>\n",
       "    </tr>\n",
       "  </tbody>\n",
       "</table>\n",
       "</div>"
      ],
      "text/plain": [
       "                   name         category  \\\n",
       "0                wowфли             кафе   \n",
       "1        четыре комнаты         ресторан   \n",
       "2                 хазри             кафе   \n",
       "3  dormouse coffee shop          кофейня   \n",
       "4             иль марко         пиццерия   \n",
       "5          sergio pizza         пиццерия   \n",
       "6           огни города          бар,паб   \n",
       "7            mr. уголёк  быстрое питание   \n",
       "8           donna maria         ресторан   \n",
       "9                готика             кафе   \n",
       "\n",
       "                                   address                         district  \\\n",
       "0               москва, улица дыбенко, 7/1  Северный административный округ   \n",
       "1       москва, улица дыбенко, 36, корп. 1  Северный административный округ   \n",
       "2           москва, клязьминская улица, 15  Северный административный округ   \n",
       "3      москва, улица маршала федоренко, 12  Северный административный округ   \n",
       "4          москва, правобережная улица, 1б  Северный административный округ   \n",
       "5             москва, ижорская улица, вл8б  Северный административный округ   \n",
       "6    москва, клязьминская улица, 9, стр. 3  Северный административный округ   \n",
       "7    москва, клязьминская улица, 9, стр. 3  Северный административный округ   \n",
       "8  москва, дмитровское шоссе, 107, корп. 4  Северный административный округ   \n",
       "9              москва, ангарская улица, 39  Северный административный округ   \n",
       "\n",
       "                                               hours        lat        lng  \\\n",
       "0                             ежедневно, 10:00–22:00  55.878494  37.478860   \n",
       "1                             ежедневно, 10:00–22:00  55.875801  37.484479   \n",
       "2  пн-чт 11:00–02:00; пт,сб 11:00–05:00; вс 11:00...  55.889146  37.525901   \n",
       "3                             ежедневно, 09:00–22:00  55.881608  37.488860   \n",
       "4                             ежедневно, 10:00–22:00  55.881166  37.449357   \n",
       "5                             ежедневно, 10:00–23:00  55.888010  37.509573   \n",
       "6                  пн 15:00–04:00; вт-вс 15:00–05:00  55.890752  37.524653   \n",
       "7  пн-чт 10:00–22:00; пт,сб 10:00–23:00; вс 10:00...  55.890636  37.524303   \n",
       "8                             ежедневно, 10:00–22:00  55.880045  37.539006   \n",
       "9                             ежедневно, 12:00–00:00  55.879038  37.524487   \n",
       "\n",
       "   rating          price                       avg_bill  middle_avg_bill  \\\n",
       "0     5.0            NaN                            NaN              NaN   \n",
       "1     4.5  выше среднего       Средний счёт:1500–1600 ₽           1550.0   \n",
       "2     4.6        средние         Средний счёт:от 1000 ₽           1000.0   \n",
       "3     5.0            NaN  Цена чашки капучино:155–185 ₽              NaN   \n",
       "4     5.0        средние         Средний счёт:400–600 ₽            500.0   \n",
       "5     4.6        средние                            NaN              NaN   \n",
       "6     4.4        средние             Средний счёт:199 ₽            199.0   \n",
       "7     4.7        средние         Средний счёт:200–300 ₽            250.0   \n",
       "8     4.8        средние          Средний счёт:от 500 ₽            500.0   \n",
       "9     4.3        средние       Средний счёт:1000–1200 ₽           1100.0   \n",
       "\n",
       "   middle_coffee_cup  chain  seats                   street  is_24/7  \n",
       "0                NaN  False    NaN            улица дыбенко    False  \n",
       "1                NaN  False    4.0            улица дыбенко    False  \n",
       "2                NaN  False   45.0       клязьминская улица    False  \n",
       "3              170.0  False    NaN  улица маршала федоренко    False  \n",
       "4                NaN   True  148.0      правобережная улица    False  \n",
       "5                NaN  False    NaN           ижорская улица    False  \n",
       "6                NaN  False   45.0       клязьминская улица    False  \n",
       "7                NaN  False   45.0       клязьминская улица    False  \n",
       "8                NaN  False   79.0        дмитровское шоссе    False  \n",
       "9                NaN  False   65.0          ангарская улица    False  "
      ]
     },
     "execution_count": 14,
     "metadata": {},
     "output_type": "execute_result"
    }
   ],
   "source": [
    "# взглянем еще раз на получившийся датасет  \n",
    "data.head(10)"
   ]
  },
  {
   "cell_type": "markdown",
   "metadata": {},
   "source": [
    "### Выводы\n",
    "Мы сделали предобработку данных. Явные и неявные дубликаты обнаружены не были. Пропуски встретились в таких столбцах как Дни и часы работы, Категория цен, Средняя стоимость заказа, Оценка среднего чека, Цена одной чашки капучино, Количество посадочных мест. Оставили их как есть, т.к. ни удалить, ни восполнить мы не можем. В датасет были добавлены новые столбцы street с названиями улиц и is_24/7 с обозначением, что заведение работает ежедневно и круглосуточно. "
   ]
  },
  {
   "cell_type": "markdown",
   "metadata": {},
   "source": [
    "## Анализ данных \n",
    "В данном разделе мы исследуем рынок общественного питания в Москве с разных сторон.\n",
    "### Распределение заведений по категориям\n",
    "Узнаем, какие категории заведений представлены в данных. Затем исследуем количество объектов общественного питания по категориям: рестораны, кофейни, пиццерии, бары и так далее. Построим визуализацию для того, чтобы ответить на вопрос о распределении заведений по категориям."
   ]
  },
  {
   "cell_type": "code",
   "execution_count": 15,
   "metadata": {},
   "outputs": [
    {
     "data": {
      "text/plain": [
       "кафе               2376\n",
       "ресторан           2042\n",
       "кофейня            1413\n",
       "бар,паб             764\n",
       "пиццерия            633\n",
       "быстрое питание     603\n",
       "столовая            315\n",
       "булочная            256\n",
       "Name: category, dtype: int64"
      ]
     },
     "execution_count": 15,
     "metadata": {},
     "output_type": "execute_result"
    }
   ],
   "source": [
    "# выведем категории заведений в данных\n",
    "data['category'].value_counts()"
   ]
  },
  {
   "cell_type": "code",
   "execution_count": 16,
   "metadata": {},
   "outputs": [
    {
     "data": {
      "text/html": [
       "<div>\n",
       "<style scoped>\n",
       "    .dataframe tbody tr th:only-of-type {\n",
       "        vertical-align: middle;\n",
       "    }\n",
       "\n",
       "    .dataframe tbody tr th {\n",
       "        vertical-align: top;\n",
       "    }\n",
       "\n",
       "    .dataframe thead th {\n",
       "        text-align: right;\n",
       "    }\n",
       "</style>\n",
       "<table border=\"1\" class=\"dataframe\">\n",
       "  <thead>\n",
       "    <tr style=\"text-align: right;\">\n",
       "      <th></th>\n",
       "      <th>category</th>\n",
       "      <th>count</th>\n",
       "      <th>share</th>\n",
       "    </tr>\n",
       "  </thead>\n",
       "  <tbody>\n",
       "    <tr>\n",
       "      <th>3</th>\n",
       "      <td>кафе</td>\n",
       "      <td>2376</td>\n",
       "      <td>28.28</td>\n",
       "    </tr>\n",
       "    <tr>\n",
       "      <th>6</th>\n",
       "      <td>ресторан</td>\n",
       "      <td>2042</td>\n",
       "      <td>24.30</td>\n",
       "    </tr>\n",
       "    <tr>\n",
       "      <th>4</th>\n",
       "      <td>кофейня</td>\n",
       "      <td>1413</td>\n",
       "      <td>16.82</td>\n",
       "    </tr>\n",
       "    <tr>\n",
       "      <th>0</th>\n",
       "      <td>бар,паб</td>\n",
       "      <td>764</td>\n",
       "      <td>9.09</td>\n",
       "    </tr>\n",
       "    <tr>\n",
       "      <th>5</th>\n",
       "      <td>пиццерия</td>\n",
       "      <td>633</td>\n",
       "      <td>7.53</td>\n",
       "    </tr>\n",
       "    <tr>\n",
       "      <th>2</th>\n",
       "      <td>быстрое питание</td>\n",
       "      <td>603</td>\n",
       "      <td>7.18</td>\n",
       "    </tr>\n",
       "    <tr>\n",
       "      <th>7</th>\n",
       "      <td>столовая</td>\n",
       "      <td>315</td>\n",
       "      <td>3.75</td>\n",
       "    </tr>\n",
       "    <tr>\n",
       "      <th>1</th>\n",
       "      <td>булочная</td>\n",
       "      <td>256</td>\n",
       "      <td>3.05</td>\n",
       "    </tr>\n",
       "  </tbody>\n",
       "</table>\n",
       "</div>"
      ],
      "text/plain": [
       "          category  count  share\n",
       "3             кафе   2376  28.28\n",
       "6         ресторан   2042  24.30\n",
       "4          кофейня   1413  16.82\n",
       "0          бар,паб    764   9.09\n",
       "5         пиццерия    633   7.53\n",
       "2  быстрое питание    603   7.18\n",
       "7         столовая    315   3.75\n",
       "1         булочная    256   3.05"
      ]
     },
     "execution_count": 16,
     "metadata": {},
     "output_type": "execute_result"
    }
   ],
   "source": [
    "# выведем количество объектов общественного питания по категориям\n",
    "category_date = (\n",
    "    data\n",
    "    .groupby('category')\n",
    "    .agg(count=('name','count'))\n",
    "    .reset_index()\n",
    "    .sort_values('count', ascending=False)\n",
    ")\n",
    "\n",
    "category_date['share'] = round(category_date['count'] / sum(category_date['count']) * 100, 2)\n",
    "\n",
    "category_date"
   ]
  },
  {
   "cell_type": "code",
   "execution_count": 17,
   "metadata": {},
   "outputs": [
    {
     "data": {
      "image/png": "[encoded data removed]",
      "text/plain": [
       "<Figure size 864x432 with 1 Axes>"
      ]
     },
     "metadata": {
      "needs_background": "light"
     },
     "output_type": "display_data"
    }
   ],
   "source": [
    "# визуализируем предыдущую таблицу\n",
    "plt.figure(figsize=(12, 6))\n",
    "ax = sns.barplot(x='count', y='category', \n",
    "                 data=category_date, color='deepskyblue')\n",
    "ax.set_title('Соотношение заведений общепита разных форматов')\n",
    "ax.set_xlabel('Количество') \n",
    "ax.set_ylabel('')\n",
    "plt.show()"
   ]
  },
  {
   "cell_type": "markdown",
   "metadata": {},
   "source": [
    "Как мы видим, подавляющее количество заведений — кафе и рестораны (28% и 24% соответственно).\n",
    "Далее идут кофейни (17%). Меньше всего представлены столовые и булочные (4% и 3% соответственно)."
   ]
  },
  {
   "cell_type": "markdown",
   "metadata": {},
   "source": [
    "### Распределение посадочных мест\n",
    "Исследуем количество посадочных мест в местах по категориям: рестораны, кофейни, пиццерии, бары и так далее."
   ]
  },
  {
   "cell_type": "code",
   "execution_count": 18,
   "metadata": {},
   "outputs": [
    {
     "data": {
      "text/html": [
       "<div>\n",
       "<style scoped>\n",
       "    .dataframe tbody tr th:only-of-type {\n",
       "        vertical-align: middle;\n",
       "    }\n",
       "\n",
       "    .dataframe tbody tr th {\n",
       "        vertical-align: top;\n",
       "    }\n",
       "\n",
       "    .dataframe thead th {\n",
       "        text-align: right;\n",
       "    }\n",
       "</style>\n",
       "<table border=\"1\" class=\"dataframe\">\n",
       "  <thead>\n",
       "    <tr style=\"text-align: right;\">\n",
       "      <th></th>\n",
       "      <th>category</th>\n",
       "      <th>count</th>\n",
       "      <th>mean</th>\n",
       "    </tr>\n",
       "  </thead>\n",
       "  <tbody>\n",
       "    <tr>\n",
       "      <th>0</th>\n",
       "      <td>бар,паб</td>\n",
       "      <td>764</td>\n",
       "      <td>124.48</td>\n",
       "    </tr>\n",
       "    <tr>\n",
       "      <th>6</th>\n",
       "      <td>ресторан</td>\n",
       "      <td>2042</td>\n",
       "      <td>121.89</td>\n",
       "    </tr>\n",
       "    <tr>\n",
       "      <th>4</th>\n",
       "      <td>кофейня</td>\n",
       "      <td>1413</td>\n",
       "      <td>111.20</td>\n",
       "    </tr>\n",
       "    <tr>\n",
       "      <th>7</th>\n",
       "      <td>столовая</td>\n",
       "      <td>315</td>\n",
       "      <td>99.75</td>\n",
       "    </tr>\n",
       "    <tr>\n",
       "      <th>2</th>\n",
       "      <td>быстрое питание</td>\n",
       "      <td>603</td>\n",
       "      <td>98.89</td>\n",
       "    </tr>\n",
       "    <tr>\n",
       "      <th>3</th>\n",
       "      <td>кафе</td>\n",
       "      <td>2376</td>\n",
       "      <td>97.37</td>\n",
       "    </tr>\n",
       "    <tr>\n",
       "      <th>5</th>\n",
       "      <td>пиццерия</td>\n",
       "      <td>633</td>\n",
       "      <td>94.50</td>\n",
       "    </tr>\n",
       "    <tr>\n",
       "      <th>1</th>\n",
       "      <td>булочная</td>\n",
       "      <td>256</td>\n",
       "      <td>89.39</td>\n",
       "    </tr>\n",
       "  </tbody>\n",
       "</table>\n",
       "</div>"
      ],
      "text/plain": [
       "          category  count    mean\n",
       "0          бар,паб    764  124.48\n",
       "6         ресторан   2042  121.89\n",
       "4          кофейня   1413  111.20\n",
       "7         столовая    315   99.75\n",
       "2  быстрое питание    603   98.89\n",
       "3             кафе   2376   97.37\n",
       "5         пиццерия    633   94.50\n",
       "1         булочная    256   89.39"
      ]
     },
     "execution_count": 18,
     "metadata": {},
     "output_type": "execute_result"
    }
   ],
   "source": [
    "# соберем таблицу по общему и среднему количеству посадочных мест в разрезе категорий\n",
    "seats = (\n",
    "    data\n",
    "    .groupby('category')\n",
    "    .agg({'name' : 'count', 'seats' :'mean'})\n",
    "    .reset_index()\n",
    ")\n",
    "\n",
    "seats.columns = ['category', 'count', 'mean']\n",
    "seats['mean'] = round(seats['mean'], 2)\n",
    "seats = seats.sort_values('mean', ascending=False)\n",
    "seats"
   ]
  },
  {
   "cell_type": "code",
   "execution_count": 19,
   "metadata": {},
   "outputs": [
    {
     "data": {
      "image/png": "[encoded data removed]",
      "text/plain": [
       "<Figure size 864x432 with 1 Axes>"
      ]
     },
     "metadata": {
      "needs_background": "light"
     },
     "output_type": "display_data"
    }
   ],
   "source": [
    "plt.figure(figsize=(12, 6))\n",
    "ax = sns.barplot(x='mean', y='category', \n",
    "                 data=seats, color='deepskyblue')\n",
    "ax.set_title('Среднее количество посадочных мест в объектах общепита')\n",
    "ax.set_xlabel('Среднее количество') \n",
    "ax.set_ylabel('Категории')\n",
    "plt.show(); "
   ]
  },
  {
   "cell_type": "markdown",
   "metadata": {},
   "source": [
    "Как мы видим, наибольшее количество посадочных мест приходится на бары и рестораны, а также кофейни. Наименьшее — на булочные, где, как правило, посетители не задерживаются, но есть и заведения исключения (типа Вольчека). "
   ]
  },
  {
   "cell_type": "markdown",
   "metadata": {},
   "source": [
    "### Соотношение сетевых и несетевых заведений\n",
    "Рассмотрим и изобразим соотношение сетевых и несетевых заведений в датасете."
   ]
  },
  {
   "cell_type": "code",
   "execution_count": 20,
   "metadata": {},
   "outputs": [
    {
     "data": {
      "image/png": "[encoded data removed]",
      "text/plain": [
       "<Figure size 432x432 with 1 Axes>"
      ]
     },
     "metadata": {},
     "output_type": "display_data"
    }
   ],
   "source": [
    "chains = data.groupby('chain').agg(count=('name','count')).reset_index()\n",
    "plt.figure(figsize=(6, 6))\n",
    "colors = ['pink', 'crimson']\n",
    "explode = (0.2, 0)\n",
    "plt.pie(chains['count'],\n",
    "        labels=chains['chain'].map({True: 'Сетевые заведения', False: 'Несетевые заведения'}), \n",
    "        colors=colors,\n",
    "        explode=explode, \n",
    "        autopct='%1.1f%%',\n",
    "        counterclock=False, \n",
    "        shadow=True)\n",
    "plt.title('Соотношение сетевых и несетевых заведений общепита')\n",
    "plt.show()"
   ]
  },
  {
   "cell_type": "code",
   "execution_count": 21,
   "metadata": {},
   "outputs": [
    {
     "data": {
      "text/html": [
       "<div>\n",
       "<style scoped>\n",
       "    .dataframe tbody tr th:only-of-type {\n",
       "        vertical-align: middle;\n",
       "    }\n",
       "\n",
       "    .dataframe tbody tr th {\n",
       "        vertical-align: top;\n",
       "    }\n",
       "\n",
       "    .dataframe thead th {\n",
       "        text-align: right;\n",
       "    }\n",
       "</style>\n",
       "<table border=\"1\" class=\"dataframe\">\n",
       "  <thead>\n",
       "    <tr style=\"text-align: right;\">\n",
       "      <th></th>\n",
       "      <th>chain</th>\n",
       "      <th>count</th>\n",
       "      <th>share</th>\n",
       "    </tr>\n",
       "  </thead>\n",
       "  <tbody>\n",
       "    <tr>\n",
       "      <th>0</th>\n",
       "      <td>False</td>\n",
       "      <td>5199</td>\n",
       "      <td>61.88</td>\n",
       "    </tr>\n",
       "    <tr>\n",
       "      <th>1</th>\n",
       "      <td>True</td>\n",
       "      <td>3203</td>\n",
       "      <td>38.12</td>\n",
       "    </tr>\n",
       "  </tbody>\n",
       "</table>\n",
       "</div>"
      ],
      "text/plain": [
       "   chain  count  share\n",
       "0  False   5199  61.88\n",
       "1   True   3203  38.12"
      ]
     },
     "execution_count": 21,
     "metadata": {},
     "output_type": "execute_result"
    }
   ],
   "source": [
    "# сгруппируем данные по столбцу chain\n",
    "chains = (\n",
    "    data\n",
    "    .groupby('chain')\n",
    "    .agg(count=('name','count'))\n",
    "    .reset_index()\n",
    "    .sort_values('count', ascending=False)\n",
    ")\n",
    "# посчитаем соотношение в долях \n",
    "chains['share'] = round(chains['count'] / sum(chains['count']) * 100, 2)\n",
    "chains"
   ]
  },
  {
   "cell_type": "markdown",
   "metadata": {},
   "source": [
    "На столичном рынке общепита лидируют несетевые заведения, занимая 62%."
   ]
  },
  {
   "cell_type": "markdown",
   "metadata": {},
   "source": [
    "Исследуем, какие категории заведений чаще являются сетевыми."
   ]
  },
  {
   "cell_type": "code",
   "execution_count": 22,
   "metadata": {},
   "outputs": [
    {
     "data": {
      "text/html": [
       "<div>\n",
       "<style scoped>\n",
       "    .dataframe tbody tr th:only-of-type {\n",
       "        vertical-align: middle;\n",
       "    }\n",
       "\n",
       "    .dataframe tbody tr th {\n",
       "        vertical-align: top;\n",
       "    }\n",
       "\n",
       "    .dataframe thead th {\n",
       "        text-align: right;\n",
       "    }\n",
       "</style>\n",
       "<table border=\"1\" class=\"dataframe\">\n",
       "  <thead>\n",
       "    <tr style=\"text-align: right;\">\n",
       "      <th></th>\n",
       "      <th>category</th>\n",
       "      <th>chain_count</th>\n",
       "      <th>total_count</th>\n",
       "      <th>share</th>\n",
       "    </tr>\n",
       "  </thead>\n",
       "  <tbody>\n",
       "    <tr>\n",
       "      <th>1</th>\n",
       "      <td>булочная</td>\n",
       "      <td>157</td>\n",
       "      <td>256</td>\n",
       "      <td>61.33</td>\n",
       "    </tr>\n",
       "    <tr>\n",
       "      <th>5</th>\n",
       "      <td>пиццерия</td>\n",
       "      <td>330</td>\n",
       "      <td>633</td>\n",
       "      <td>52.13</td>\n",
       "    </tr>\n",
       "    <tr>\n",
       "      <th>4</th>\n",
       "      <td>кофейня</td>\n",
       "      <td>720</td>\n",
       "      <td>1413</td>\n",
       "      <td>50.96</td>\n",
       "    </tr>\n",
       "    <tr>\n",
       "      <th>2</th>\n",
       "      <td>быстрое питание</td>\n",
       "      <td>232</td>\n",
       "      <td>603</td>\n",
       "      <td>38.47</td>\n",
       "    </tr>\n",
       "    <tr>\n",
       "      <th>6</th>\n",
       "      <td>ресторан</td>\n",
       "      <td>729</td>\n",
       "      <td>2042</td>\n",
       "      <td>35.70</td>\n",
       "    </tr>\n",
       "    <tr>\n",
       "      <th>3</th>\n",
       "      <td>кафе</td>\n",
       "      <td>779</td>\n",
       "      <td>2376</td>\n",
       "      <td>32.79</td>\n",
       "    </tr>\n",
       "    <tr>\n",
       "      <th>7</th>\n",
       "      <td>столовая</td>\n",
       "      <td>88</td>\n",
       "      <td>315</td>\n",
       "      <td>27.94</td>\n",
       "    </tr>\n",
       "    <tr>\n",
       "      <th>0</th>\n",
       "      <td>бар,паб</td>\n",
       "      <td>168</td>\n",
       "      <td>764</td>\n",
       "      <td>21.99</td>\n",
       "    </tr>\n",
       "  </tbody>\n",
       "</table>\n",
       "</div>"
      ],
      "text/plain": [
       "          category  chain_count  total_count  share\n",
       "1         булочная          157          256  61.33\n",
       "5         пиццерия          330          633  52.13\n",
       "4          кофейня          720         1413  50.96\n",
       "2  быстрое питание          232          603  38.47\n",
       "6         ресторан          729         2042  35.70\n",
       "3             кафе          779         2376  32.79\n",
       "7         столовая           88          315  27.94\n",
       "0          бар,паб          168          764  21.99"
      ]
     },
     "execution_count": 22,
     "metadata": {},
     "output_type": "execute_result"
    }
   ],
   "source": [
    "# соберем таблицу с количеством сетевых заведений в разрезе категорий, а также общее число заведений разных форматов\n",
    "chain_type = (\n",
    "    data\n",
    "    .groupby(['category'])\n",
    "    .agg({'chain' :'sum', 'name' : 'count'})\n",
    "    .reset_index()\n",
    ")\n",
    "chain_type.columns = ['category', 'chain_count', 'total_count']\n",
    "\n",
    "# добавим доли сетевых заведений от общего числа заведений разных форматов\n",
    "['share'] = round(chain_type['chain_count'] / chain_type['total_count'] * 100, 2)\n",
    "chain_type = chain_type.sort_values(by='share', ascending=False)\n",
    "chain_type"
   ]
  },
  {
   "cell_type": "markdown",
   "metadata": {},
   "source": [
    "По абсолютному количеству среди сетей лидируют кафе и рестораны (779 и 730 точек соответственно)."
   ]
  },
  {
   "cell_type": "code",
   "execution_count": 40,
   "metadata": {},
   "outputs": [
    {
     "data": {
      "image/png": "[encoded data removed]",
      "text/plain": [
       "<Figure size 432x288 with 1 Axes>"
      ]
     },
     "metadata": {
      "needs_background": "light"
     },
     "output_type": "display_data"
    }
   ],
   "source": [
    "chain_category = data.groupby(['category','chain']).agg({'name' : 'count'})\n",
    "chain_category = chain_category.reset_index().sort_values(by = 'name', ascending = False)\n",
    "\n",
    "sns.barplot(data=chain_category, x='category', y='name', hue='chain')\n",
    "plt.title('Соотношение  сетевых и несетевых объектов общепита')\n",
    "plt.xlabel('Категории')\n",
    "plt.ylabel('Количество')\n",
    "plt.xticks(rotation=45);"
   ]
  },
  {
   "cell_type": "code",
   "execution_count": 43,
   "metadata": {},
   "outputs": [
    {
     "data": {
      "image/png": "[encoded data removed]",
      "text/plain": [
       "<Figure size 864x360 with 1 Axes>"
      ]
     },
     "metadata": {
      "needs_background": "light"
     },
     "output_type": "display_data"
    }
   ],
   "source": [
    "# визуализируем таблицу выше\n",
    "\n",
    "ax = sns.catplot(data=chain_type, \n",
    "                 kind=\"bar\", \n",
    "                 x=\"chain_count\", \n",
    "                 y=\"category\",               \n",
    "                 alpha=1, \n",
    "                 aspect=12/5)\n",
    "ax1 = sns.barplot(x='total_count', y='category', data=chain_type, alpha=0.5,  orient='h')\n",
    "ax.set_axis_labels('Количество', 'Категории')\n",
    "plt.title('Сооотношение сетевых заведений общепита по отношению к несетевым')\n",
    "plt.show()"
   ]
  },
  {
   "cell_type": "markdown",
   "metadata": {},
   "source": [
    "Доли сетевых заведений выделены насыщенными цветами. Самые большие доли сетевых объектов приходятся на булочные, пиццерии и кофейни — 61%, 52% и 51% соответственно от общего числа заведений этого типа. На доли заведений быстрого питания приходится 38% сетевых, для ресторанов она составляет 36%, а для кафе — 33%. Для столовых и баров/пабов такое совсем не типично (только 28% и 22% соответственно являются сетевыми."
   ]
  },
  {
   "cell_type": "markdown",
   "metadata": {},
   "source": [
    "### Топ-15 популярных сетей в Москве \n",
    "Сгруппируем данные по названиям заведений и найдем топ-15 популярных сетей в Москве. Затем построим подходящую для такой информации визуализацию. "
   ]
  },
  {
   "cell_type": "code",
   "execution_count": null,
   "metadata": {},
   "outputs": [],
   "source": [
    "# получаем названия популярных заведений\n",
    "pop_ch = data.query('chain == 1').groupby(['name']).agg(count=('name','count')).sort_values('count', ascending=False).reset_index()\n",
    "pop_ch_15 = pop_ch.head(15)\n",
    "pop_ch_15"
   ]
  },
  {
   "cell_type": "code",
   "execution_count": null,
   "metadata": {},
   "outputs": [],
   "source": [
    "# подготовим сводную таблицу\n",
    "pop_chains = data.query('chain == 1').groupby(['name']).agg(count=('name','count')).sort_values('count', ascending=False).reset_index()\n",
    "pop_chains_15 = pop_chains.head(15)\n",
    "\n",
    "#визуализируем данные\n",
    "ax = sns.catplot(data=pop_chains_15, \n",
    "                 kind=\"bar\", \n",
    "                 x=\"count\", \n",
    "                 y=\"name\",               \n",
    "                 alpha=1, \n",
    "                 aspect=12/5)\n",
    "ax1 = sns.barplot(x='count', y='name', data=pop_chains_15, orient='h')\n",
    "ax.set_axis_labels('Количество', 'Названия')\n",
    "plt.title('Топ-15 популярных сетей общепита в Москве')\n",
    "plt.show();"
   ]
  },
  {
   "cell_type": "markdown",
   "metadata": {},
   "source": [
    "В топ-3 вошли популярная и у всех на слуху кофейня Шоколадница, а также 2 пиццерии — Домино'с пицца и Додо пицца. К признакам, которые объединяют данные заведения можно отнести относительную бюджетность блюд, а также скорость их отдачи. "
   ]
  },
  {
   "cell_type": "markdown",
   "metadata": {},
   "source": [
    "### Распределение заведений по районам Москвы\n",
    "Посмотрим, какие административные районы Москвы присутствуют в датасете. Затем отобразим общее количество заведений и количество заведений каждой категории по районам."
   ]
  },
  {
   "cell_type": "code",
   "execution_count": null,
   "metadata": {},
   "outputs": [],
   "source": [
    "# выведем районы, представленные в данных\n",
    "data['district'].value_counts()"
   ]
  },
  {
   "cell_type": "markdown",
   "metadata": {},
   "source": [
    "Ожидаем большой отрыв центра Москвы от других районов по количеству заведений."
   ]
  },
  {
   "cell_type": "code",
   "execution_count": null,
   "metadata": {
    "scrolled": true
   },
   "outputs": [],
   "source": [
    "# обратимся к сводной таблице\n",
    "data.pivot_table(index='category', \n",
    "                 columns='district', \n",
    "                 values='name', \n",
    "                 aggfunc='count')"
   ]
  },
  {
   "cell_type": "markdown",
   "metadata": {},
   "source": [
    "В 8 из 9 округов по численности преобладают кафе. Лишь в ЦАО их обгоняют рестораны. "
   ]
  },
  {
   "cell_type": "code",
   "execution_count": null,
   "metadata": {
    "scrolled": true
   },
   "outputs": [],
   "source": [
    "# сгруппируем данные по округам и категориям\n",
    "district_grouped = (\n",
    "    data.groupby(['district', 'category'],as_index=False) \n",
    "        .agg(count=('category','count')).sort_values('count', ascending = False))\n",
    "\n",
    "# визуализируем таблицу  \n",
    "district_grouped_bar = px.bar(\n",
    "    district_grouped, x='district', y='count', color='category',  \n",
    "    title='Распределение заведений общепита по районам Москвы',\n",
    "    labels={'category':'Тип заведений', 'count':'Общее кол-во заведений', 'street':'Районы'},\n",
    "    width=900, height=700) \n",
    "district_grouped_bar.update_layout(xaxis={'categoryorder':'total descending'})   \n",
    "district_grouped_bar.show()"
   ]
  },
  {
   "cell_type": "markdown",
   "metadata": {},
   "source": [
    "В ЦАО преобладают рестораны, кофейни, кафе и бары. В целом такое распределение между форматами заведений характерно для всех округов Москвы."
   ]
  },
  {
   "cell_type": "markdown",
   "metadata": {},
   "source": [
    "### Распределение  средних рейтингов по категориям заведений\n",
    "Посмотрим, сильно ли различаются усреднённые рейтинги в разных типах общепита."
   ]
  },
  {
   "cell_type": "code",
   "execution_count": null,
   "metadata": {},
   "outputs": [],
   "source": [
    "# сгруппируем данные по категориям и посчитаем средний рейтинг\n",
    "category_rate = (\n",
    "    data\n",
    "    .groupby(['category'])\n",
    "    .agg(mean=('rating','mean'))\n",
    "    .reset_index()\n",
    "    .sort_values('mean', ascending=False)\n",
    ")\n",
    "category_rate"
   ]
  },
  {
   "cell_type": "code",
   "execution_count": null,
   "metadata": {},
   "outputs": [],
   "source": [
    "#визуализируем данные\n",
    "ax = sns.catplot(data=category_rate, \n",
    "                 kind=\"bar\", \n",
    "                 x=\"mean\", \n",
    "                 y=\"category\",               \n",
    "                 alpha=1, \n",
    "                 aspect=12/5)\n",
    "ax1 = sns.barplot(x='mean', y='category', data=category_rate)\n",
    "ax.set_axis_labels('Количество', ' ')\n",
    "plt.title('Распределение среднего рейтинга по категориям заведений')\n",
    "plt.show();"
   ]
  },
  {
   "cell_type": "markdown",
   "metadata": {},
   "source": [
    "В целом оценки различных форматов общепита сходятся и составляют около 4 баллов из 5. "
   ]
  },
  {
   "cell_type": "code",
   "execution_count": null,
   "metadata": {},
   "outputs": [],
   "source": [
    "# сгруппируем данные по среднему рейтингу в разрезе округов \n",
    "rate = (\n",
    "    data\n",
    "    .groupby(['category', 'district'])\n",
    "    .agg(mean=('rating','mean'))\n",
    "    .reset_index()\n",
    "    .sort_values('mean', ascending=False)\n",
    ")\n",
    "rate.sample(10)"
   ]
  },
  {
   "cell_type": "markdown",
   "metadata": {},
   "source": [
    "Построим фоновую картограмму (хороплет) со средним рейтингом заведений каждого района."
   ]
  },
  {
   "cell_type": "code",
   "execution_count": null,
   "metadata": {
    "scrolled": true
   },
   "outputs": [],
   "source": [
    "# группируем данные по категориям общепита и округам\n",
    "rate = (\n",
    "    data\n",
    "    .groupby(['category', 'district'])\n",
    "    .agg(mean=('rating','mean'))\n",
    "    .reset_index()\n",
    "    .sort_values('mean', ascending=False)\n",
    ")\n",
    "\n",
    "# загружаем JSON-файл с границами округов Москвы\n",
    "state_geo = '/datasets/admin_level_geomap.geojson'\n",
    "# moscow_lat - широта центра Москвы, moscow_lng - долгота центра Москвы\n",
    "moscow_lat, moscow_lng = 55.751244, 37.618423\n",
    "\n",
    "# создаём карту Москвы\n",
    "m = Map(location=[moscow_lat, moscow_lng], zoom_start=10)\n",
    "\n",
    "# создаём хороплет с помощью конструктора Choropleth и добавляем его на карту\n",
    "Choropleth(\n",
    "    geo_data=state_geo,\n",
    "    data=rate,\n",
    "    columns=['district', 'mean'],\n",
    "    key_on='feature.name',\n",
    "    fill_color='YlGn',\n",
    "    fill_opacity=0.8,\n",
    "    legend_name='Средний рейтинг заведений по районам',\n",
    ").add_to(m)\n",
    "\n",
    "# выводим карту\n",
    "m"
   ]
  },
  {
   "cell_type": "markdown",
   "metadata": {},
   "source": [
    "Судя по карте, посетители высоко оценивают заведения только в центре Москвы. "
   ]
  },
  {
   "cell_type": "markdown",
   "metadata": {},
   "source": [
    "Отобразим все заведения датасета на карте с помощью кластеров средствами библиотеки folium."
   ]
  },
  {
   "cell_type": "code",
   "execution_count": null,
   "metadata": {
    "scrolled": false
   },
   "outputs": [],
   "source": [
    "# импортируем собственные иконки\n",
    "from folium.features import CustomIcon\n",
    "\n",
    "# moscow_lat - широта, moscow_lng – долгота\n",
    "moscow_lat, moscow_lng = 55.751244, 37.618423\n",
    "\n",
    "# создаём карту Москвы\n",
    "k = Map(location=[moscow_lat, moscow_lng], zoom_start=10)\n",
    "# создаём пустой кластер, добавляем его на карту\n",
    "marker_cluster = MarkerCluster().add_to(k)\n",
    "\n",
    "\n",
    "def create_clusters(row):\n",
    "    # сохраняем URL-адрес изображения со значком общепита с icons8,\n",
    "    # это путь к файлу на сервере icons8\n",
    "    icon_url = 'https://img.icons8.com/fluency/512/restaurant-.png'  \n",
    "    # создаём объект с собственной иконкой размером 30x30\n",
    "    icon = CustomIcon(icon_url, icon_size=(30, 30))\n",
    "\n",
    "# пишем функцию, которая принимает строку датафрейма,\n",
    "# создаёт маркер в текущей точке и добавляет его на карту\n",
    "    Marker([row['lat'], row['lng']],\n",
    "           popup=f\"{row['name']} {row['rating']}\",\n",
    "           icon=icon,\n",
    "          ).add_to(marker_cluster)\n",
    "\n",
    "# применяем функцию для создания маркера к первым 5 записям датафрейма\n",
    "data.apply(create_clusters, axis=1)\n",
    "   \n",
    "    \n",
    "# выводим карту\n",
    "k"
   ]
  },
  {
   "cell_type": "markdown",
   "metadata": {},
   "source": [
    "### Топ-15 улиц по количеству заведений\n",
    "Построим график распределения количества заведений и их категорий по этим улицам. "
   ]
  },
  {
   "cell_type": "code",
   "execution_count": null,
   "metadata": {},
   "outputs": [],
   "source": [
    "# найдем топ-15 улиц по количеству заведений \n",
    "streets_15 = ( \n",
    "         data.groupby(['street'],as_index=False) \n",
    "        .agg(count=('name','count')).sort_values('count', ascending = False) \n",
    "           ) \n",
    "streets_15 = streets_15.head(15)  \n",
    "streets_15"
   ]
  },
  {
   "cell_type": "code",
   "execution_count": null,
   "metadata": {},
   "outputs": [],
   "source": [
    "# визуализируем таблицу выше \n",
    "st15 = list(streets_15['street']) \n",
    "top_streets = data.query('street in @st15')\n",
    "\n",
    "top15= (top_streets.groupby(['street', 'category'],as_index=False) \n",
    "        .agg(count=('category','count')).sort_values('count', ascending = False))\n",
    "\n",
    "top15_bar = px.bar(top15, x='street', y='count', color='category',  \n",
    "             title='Топ-15 улиц: oбщее число и количество заведений каждой категории',  \n",
    "             labels={'category':'Тип заведений', 'count':'Общее кол-во заведений', 'street':'Улицы'}, \n",
    "             width=900, height=700)\n",
    "top15_bar.update_layout(xaxis={'categoryorder':'total descending'})  \n",
    "top15_bar.show()"
   ]
  },
  {
   "cell_type": "markdown",
   "metadata": {},
   "source": [
    "Найдем улицы, на которых находится только один объект общепита."
   ]
  },
  {
   "cell_type": "code",
   "execution_count": null,
   "metadata": {},
   "outputs": [],
   "source": [
    "grouped_street = data.groupby('street').agg(cnt_objects=('name', 'count'))\n",
    "grouped_street = grouped_street.sort_values(by='cnt_objects', ascending=False)\n",
    "one_object_street = grouped_street[grouped_street['cnt_objects'] == 1]\n",
    "one_object_street = one_object_street.reset_index()\n",
    "a = data.query(\"street in @one_object_street.street\")\n",
    "a.head()"
   ]
  },
  {
   "cell_type": "code",
   "execution_count": null,
   "metadata": {},
   "outputs": [],
   "source": [
    "a['category'].value_counts()"
   ]
  },
  {
   "cell_type": "markdown",
   "metadata": {},
   "source": [
    "Снова лидируют кафе, рестораны и кофейни. "
   ]
  },
  {
   "cell_type": "code",
   "execution_count": null,
   "metadata": {},
   "outputs": [],
   "source": [
    "df = a.groupby('district')['street'].count().reset_index().sort_values(by = 'street', ascending=False) \n",
    "fig = px.bar(df, x='district', y='street', title='Распределение по округам улиц с одним объектом общепита')\n",
    "fig.update_xaxes(tickangle=45)\n",
    "fig.show() "
   ]
  },
  {
   "cell_type": "markdown",
   "metadata": {},
   "source": [
    "Судя по графику, наибольшее количество улиц с единственным объектом общепита является центр Москвы. "
   ]
  },
  {
   "cell_type": "markdown",
   "metadata": {},
   "source": [
    "### Средние чеки заведений\n",
    "Посчитаем медиану столбца middle_avg_bill для каждого района, чтобы использовать это значение в качестве ценового индикатора района."
   ]
  },
  {
   "cell_type": "code",
   "execution_count": null,
   "metadata": {},
   "outputs": [],
   "source": [
    "# сгруппируем данные по среднему чеку\n",
    "district_median_bill = (\n",
    "    data\n",
    "    .groupby('district')\n",
    "    .agg(median=('middle_avg_bill', 'median'))\n",
    "    .reset_index()\n",
    "    .sort_values('median', ascending=False))\n",
    "district_median_bill"
   ]
  },
  {
   "cell_type": "markdown",
   "metadata": {},
   "source": [
    "Построим фоновую картограмму (хороплет) с полученными значениями для каждого района."
   ]
  },
  {
   "cell_type": "code",
   "execution_count": null,
   "metadata": {
    "scrolled": false
   },
   "outputs": [],
   "source": [
    "# загружаем JSON-файл с границами округов Москвы\n",
    "state_geo = '/datasets/admin_level_geomap.geojson'\n",
    "# moscow_lat - широта центра Москвы, moscow_lng - долгота центра Москвы\n",
    "moscow_lat, moscow_lng = 55.751244, 37.618423\n",
    "\n",
    "# создаём карту Москвы\n",
    "d = Map(location=[moscow_lat, moscow_lng], zoom_start=10)\n",
    "\n",
    "# создаём хороплет с помощью конструктора Choropleth и добавляем его на карту\n",
    "Choropleth(\n",
    "    geo_data=state_geo,\n",
    "    data=district_median_bill,\n",
    "    columns=['district', 'median'],\n",
    "    key_on='feature.name',\n",
    "    fill_color='YlGn',\n",
    "    fill_opacity=0.8,\n",
    "    legend_name='Средний чек заведений по районам',\n",
    ").add_to(d)\n",
    "\n",
    "# выводим карту\n",
    "d"
   ]
  },
  {
   "cell_type": "markdown",
   "metadata": {},
   "source": [
    "Наибольший средний чек приходится ожидаем на ЦАО, а также на ЗАО. Интересно, что в данной карте дорогой район Хамовников относится не к центру, а к ЗАО, что возможно влияет на его средний чек. Закономерно, что с большей удалённостью от центра Москвы цены в заведениях ниже. Исключением становятся такие \"дорогие\" локации, как Рублевка, Внуково и т.п."
   ]
  },
  {
   "cell_type": "markdown",
   "metadata": {},
   "source": [
    "### Выводы \n",
    "В данных представлены следующие категории заведений: кафе, рестораны, кофейни, бары/пабы, пиццерии, быстрое питание, столовые, булочные. \n",
    "\n",
    "- К самым распространенным форматам общепита относятся кафе и рестораны (28% и 24% соответственно). Далее по численности идут кофейни (17%), бары/пабы (9%), пицеерии (7.5%), быстрое питание (7%), столовые (4%) и булочные (3%). \n",
    "\n",
    "- Наибольшее количество посадочных мест приходится на бары и рестораны, а также кофейни. Наименьшее — на булочные, где, как правило, посетители не задерживаются.\n",
    "\n",
    "\n",
    "- На столичном рынке общепита лидируют несетевые заведения, занимая 62%. При это наибольшая доля сетевых объектов приходится на булочные, пиццерии и кофейни — 61%, 52% и 51% соответственно от общего числа заведений. Достаточно широко представлены сетевые объекты быстрого питания (38%), ресторанов (36%), кафе (33%). Сетевые столовые и бары/пабы встречаются реже — 28% и 22% соответственно. При этом абсолютному количеству среди сетей лидируют кафе и рестораны (779 и 730 точек соответственно).\n",
    "\n",
    "\n",
    "- В топ-15 популярных московских сетей вошли следующие заведения: Шоколадница, Домино'с пицца, Додо пицца, One price coffee, Яндекс Лавка, Cofix, Prime, Кофепорт, Кулинарная лавка братьев Караваевых, Теремок, Cofefest, Чайхана, Буханка, Drive cafe, Кофемания. К общим признакам данных заведений можно отнести относительно низкую стоимость среднего чека и скорость отдачи блюд. Примечательно, что в тройку вошли две пиццерии. Т.е. фастфуд лидирует по количеству заведений на московском рынке общепита среди различных форматов. Также популярны заведения, специализирующиеся на кофе. \n",
    "\n",
    "\n",
    "- Что касается расположения объектов общественного питания, то наибольшее их число приходится на ЦАО. Причем в этом округе преобладают рестораны, кофейни, кафе и бары. В целом такое распределение между форматами заведений характерно для всех округов Москвы. Наибольшее число заведений сосредоточено на проспекте Мира, также в пятерку лидеров вошли Профсоюзная улица, проспект Вернадского, Ленинский проспект, Ленинградский проспект.\n",
    "\n",
    "\n",
    "- Наибольший средний чек приходится ожидаем на ЦАО, а также на ЗАО. Интересно, что в данной карте дорогой район Хамовников относится не к центру, а к ЗАО, что возможно влияет на его средний чек. Закономерно, что с большей удалённостью от центра Москвы цены в заведениях ниже. Исключением становятся такие \"дорогие\" локации, как Рублевка, Внуково и т.п. Наибольшее количество улиц с единственным объектом общепита приходится на центр Москвы."
   ]
  },
  {
   "cell_type": "markdown",
   "metadata": {},
   "source": [
    "## Открытие кофейни\n",
    "В данном разделе мы ответим на следующие вопросы:\n",
    "- Сколько всего кофеен в датасете? \n",
    "- В каких районах их больше всего, каковы особенности их расположения?\n",
    "- Есть ли круглосуточные кофейни?\n",
    "- Какие у кофеен рейтинги? Как они распределяются по районам?\n",
    "- На какую стоимость чашки капучино стоит ориентироваться при открытии и почему?"
   ]
  },
  {
   "cell_type": "code",
   "execution_count": null,
   "metadata": {},
   "outputs": [],
   "source": [
    "# сделаем срез данных по кофейням\n",
    "coffee_houses = data.loc[data.category == \"кофейня\"]\n",
    "coffee_houses.head()"
   ]
  },
  {
   "cell_type": "code",
   "execution_count": null,
   "metadata": {},
   "outputs": [],
   "source": [
    "print('Количество кофеен в датасете:',coffee_houses.category.count())"
   ]
  },
  {
   "cell_type": "code",
   "execution_count": null,
   "metadata": {},
   "outputs": [],
   "source": [
    "coffee_houses.name.value_counts().head(20)"
   ]
  },
  {
   "cell_type": "markdown",
   "metadata": {},
   "source": [
    "Судя по данным, можно выделить несколько крупных потенциальных конкурентов: Шоколадница, Оne price coffee, Сofix, Кофепорт, Сofefest, Кофемания, Сinnabon, Правда кофе."
   ]
  },
  {
   "cell_type": "code",
   "execution_count": null,
   "metadata": {},
   "outputs": [],
   "source": [
    "# сгруппируем данные по округам\n",
    "coffee_houses_district_grouped = (\n",
    "    coffee_houses.groupby(['district'],as_index=False) \n",
    "        .agg(count=('name','count')).sort_values('count', ascending = False))\n",
    "\n",
    "# визуализируем таблицу  \n",
    "coffee_houses_district_grouped_bar = px.bar(\n",
    "    coffee_houses_district_grouped, x='district', y='count',  \n",
    "    title='Распределение кофеен по районам Москвы',\n",
    "    labels={'count':'Общее кол-во', 'district':'Районы'},\n",
    "    width=900, height=700) \n",
    "coffee_houses_district_grouped_bar.update_layout(xaxis={'categoryorder':'total descending'})   \n",
    "coffee_houses_district_grouped_bar.show();"
   ]
  },
  {
   "cell_type": "markdown",
   "metadata": {},
   "source": [
    "Больше всего кофеен в центре Москвы, т.е. высока и конкуренция, а наименьше — в СЗАО. "
   ]
  },
  {
   "cell_type": "code",
   "execution_count": null,
   "metadata": {
    "scrolled": true
   },
   "outputs": [],
   "source": [
    "# импортируем собственные иконки\n",
    "from folium.features import CustomIcon\n",
    "\n",
    "# moscow_lat - широта, moscow_lng – долгота\n",
    "moscow_lat, moscow_lng = 55.751244, 37.618423\n",
    "\n",
    "# создаём карту Москвы\n",
    "c = Map(location=[moscow_lat, moscow_lng], zoom_start=10)\n",
    "# создаём пустой кластер, добавляем его на карту\n",
    "marker_cluster = MarkerCluster().add_to(c)\n",
    "\n",
    "\n",
    "def create_clusters(row):\n",
    "    # сохраняем URL-адрес изображения со значком общепита с icons8,\n",
    "    # это путь к файлу на сервере icons8\n",
    "    icon_url = 'https://img.icons8.com/office/512/coffee.png'  \n",
    "    # создаём объект с собственной иконкой размером 30x30\n",
    "    icon = CustomIcon(icon_url, icon_size=(30, 30))\n",
    "\n",
    "# пишем функцию, которая принимает строку датафрейма,\n",
    "# создаёт маркер в текущей точке и добавляет его на карту\n",
    "    Marker([row['lat'], row['lng']],\n",
    "           popup=f\"{row['name']} {row['rating']}\",\n",
    "           icon=icon,\n",
    "          ).add_to(marker_cluster)\n",
    "\n",
    "# применяем функцию для создания маркера к первым 5 записям датафрейма\n",
    "coffee_houses.apply(create_clusters, axis=1)\n",
    "   \n",
    "    \n",
    "# выводим карту\n",
    "c"
   ]
  },
  {
   "cell_type": "markdown",
   "metadata": {},
   "source": [
    "Кофейни разбросаны по районам Москвы "
   ]
  },
  {
   "cell_type": "code",
   "execution_count": null,
   "metadata": {},
   "outputs": [],
   "source": [
    "# выведем топ-15 улиц по количеству кофеен \n",
    "st_coffee_houses= coffee_houses.groupby('street').agg(count=('name','count')).sort_values('count', ascending=False).reset_index()\n",
    "st_coffee_houses_15 = st_coffee_houses.head(15)\n",
    "st_coffee_houses_15"
   ]
  },
  {
   "cell_type": "code",
   "execution_count": null,
   "metadata": {},
   "outputs": [],
   "source": [
    "coffee_houses_is_24_7 = coffee_houses.loc[data['is_24/7'] == True]\n",
    "print('Количество круглосуточных кофеен:', coffee_houses_is_24_7.name.count())\n",
    "print('Доля круглосуточных кофеен от общего числа:', round (59 / 1413, 2))"
   ]
  },
  {
   "cell_type": "code",
   "execution_count": null,
   "metadata": {},
   "outputs": [],
   "source": [
    "# сгруппируем данные по среднему рейтингу\n",
    "coffee_houses_rate = (\n",
    "    coffee_houses\n",
    "    .groupby(['category', 'district'])\n",
    "    .agg(mean=('rating','mean'))\n",
    "    .reset_index()\n",
    "    .sort_values('mean', ascending=False)\n",
    ")\n",
    "coffee_houses_rate"
   ]
  },
  {
   "cell_type": "code",
   "execution_count": null,
   "metadata": {
    "scrolled": false
   },
   "outputs": [],
   "source": [
    "# загружаем JSON-файл с границами округов Москвы\n",
    "state_geo = '/datasets/admin_level_geomap.geojson'\n",
    "# moscow_lat - широта центра Москвы, moscow_lng - долгота центра Москвы\n",
    "moscow_lat, moscow_lng = 55.751244, 37.618423\n",
    "\n",
    "# создаём карту Москвы\n",
    "f = Map(location=[moscow_lat, moscow_lng], zoom_start=10)\n",
    "\n",
    "# создаём хороплет с помощью конструктора Choropleth и добавляем его на карту\n",
    "Choropleth(\n",
    "    geo_data=state_geo,\n",
    "    data=coffee_houses_rate,\n",
    "    columns=['district', 'mean'],\n",
    "    key_on='feature.name',\n",
    "    fill_color='YlGn',\n",
    "    fill_opacity=0.8,\n",
    "    legend_name='Средний рейтинг заведений по районам',\n",
    ").add_to(f)\n",
    "\n",
    "# выводим карту\n",
    "f"
   ]
  },
  {
   "cell_type": "markdown",
   "metadata": {},
   "source": [
    "В целом посетители наших кофеен оценивают их на четверочку. Самые высокие оценки снова приходятся на ЦАО и САО."
   ]
  },
  {
   "cell_type": "code",
   "execution_count": null,
   "metadata": {},
   "outputs": [],
   "source": [
    "# сгруппируем данные по среднему чеку\n",
    "coffee_houses_middle_coffee_cup = (\n",
    "    coffee_houses\n",
    "    .groupby('district')\n",
    "    .agg(median=('middle_coffee_cup', 'median'))\n",
    "    .reset_index()\n",
    "    .sort_values('median', ascending=False))\n",
    "coffee_houses_middle_coffee_cup"
   ]
  },
  {
   "cell_type": "code",
   "execution_count": null,
   "metadata": {},
   "outputs": [],
   "source": [
    "# загружаем JSON-файл с границами округов Москвы\n",
    "state_geo = '/datasets/admin_level_geomap.geojson'\n",
    "# moscow_lat - широта центра Москвы, moscow_lng - долгота центра Москвы\n",
    "moscow_lat, moscow_lng = 55.751244, 37.618423\n",
    "\n",
    "# создаём карту Москвы\n",
    "g = Map(location=[moscow_lat, moscow_lng], zoom_start=10)\n",
    "\n",
    "# создаём хороплет с помощью конструктора Choropleth и добавляем его на карту\n",
    "Choropleth(\n",
    "    geo_data=state_geo,\n",
    "    data=coffee_houses_middle_coffee_cup,\n",
    "    columns=['district', 'median'],\n",
    "    key_on='feature.name',\n",
    "    fill_color='YlGn',\n",
    "    fill_opacity=0.8,\n",
    "    legend_name='Цена одной чашки капучино по районам',\n",
    ").add_to(g)\n",
    "\n",
    "# выводим карту\n",
    "g"
   ]
  },
  {
   "cell_type": "markdown",
   "metadata": {},
   "source": [
    "### Выводы \n",
    "- Количество кофеен в датасете: 1413. \n",
    "- Больше всего кофеен в ЦАО, а наименьше — в СЗАО. В центре Москвы представлено 428 точек. \n",
    "- Количество круглосуточных кофеен: 59. \n",
    "- Средний рейтинг колеблется от 4.1 до 4.3. Наиболее высокий рейтинг приходится на ЦАО и СЗАО. \n",
    "Средняя стоимость чашки капучино колеблется от 135 до 198 рублей. \n",
    "\n",
    "Можно сделать вывод, что при открытии кофейни вероятна высокая конкуренцися с большим числом популярных сетевых заведений. Необходимо выделяться на фоне других заведений оригинальным и запоминающимся концептом самого помещения и меню либо прайсом на блюда. Также стоит обратить внимание на менее загруженные районы. "
   ]
  },
  {
   "cell_type": "markdown",
   "metadata": {},
   "source": [
    "## Презентация "
   ]
  },
  {
   "cell_type": "markdown",
   "metadata": {},
   "source": [
    "https://disk.yandex.ru/i/vkay5YpPfHocvg"
   ]
  }
 ],
 "metadata": {
  "ExecuteTimeLog": [
   {
    "duration": 388,
    "start_time": "2022-12-04T10:35:22.109Z"
   },
   {
    "duration": 260,
    "start_time": "2022-12-04T10:40:38.241Z"
   },
   {
    "duration": 16,
    "start_time": "2022-12-04T10:40:46.654Z"
   },
   {
    "duration": 27,
    "start_time": "2022-12-04T10:42:39.092Z"
   },
   {
    "duration": 16,
    "start_time": "2022-12-04T10:45:12.493Z"
   },
   {
    "duration": 10,
    "start_time": "2022-12-04T10:45:39.320Z"
   },
   {
    "duration": 23,
    "start_time": "2022-12-04T10:53:09.345Z"
   },
   {
    "duration": 8,
    "start_time": "2022-12-04T10:53:19.659Z"
   },
   {
    "duration": 4,
    "start_time": "2022-12-04T10:53:27.557Z"
   },
   {
    "duration": 9,
    "start_time": "2022-12-04T10:53:33.225Z"
   },
   {
    "duration": 11,
    "start_time": "2022-12-04T10:56:25.474Z"
   },
   {
    "duration": 25,
    "start_time": "2022-12-04T10:56:56.849Z"
   },
   {
    "duration": 73,
    "start_time": "2022-12-04T10:57:04.822Z"
   },
   {
    "duration": 24,
    "start_time": "2022-12-04T10:57:52.918Z"
   },
   {
    "duration": 7,
    "start_time": "2022-12-04T10:59:48.642Z"
   },
   {
    "duration": 4,
    "start_time": "2022-12-04T11:08:36.547Z"
   },
   {
    "duration": 86,
    "start_time": "2022-12-04T11:08:36.866Z"
   },
   {
    "duration": 31,
    "start_time": "2022-12-04T11:08:37.130Z"
   },
   {
    "duration": 13,
    "start_time": "2022-12-04T11:08:37.697Z"
   },
   {
    "duration": 7,
    "start_time": "2022-12-04T11:08:38.996Z"
   },
   {
    "duration": 17,
    "start_time": "2022-12-04T11:08:41.513Z"
   },
   {
    "duration": 14,
    "start_time": "2022-12-04T11:08:42.230Z"
   },
   {
    "duration": 10,
    "start_time": "2022-12-04T11:09:02.467Z"
   },
   {
    "duration": 6,
    "start_time": "2022-12-04T11:09:07.441Z"
   },
   {
    "duration": 7,
    "start_time": "2022-12-04T11:09:34.020Z"
   },
   {
    "duration": 5,
    "start_time": "2022-12-04T11:09:36.920Z"
   },
   {
    "duration": 16,
    "start_time": "2022-12-04T11:09:47.512Z"
   },
   {
    "duration": 10,
    "start_time": "2022-12-04T11:09:47.773Z"
   },
   {
    "duration": 5,
    "start_time": "2022-12-04T11:09:48.279Z"
   },
   {
    "duration": 9,
    "start_time": "2022-12-04T11:10:42.495Z"
   },
   {
    "duration": 7,
    "start_time": "2022-12-04T11:11:13.640Z"
   },
   {
    "duration": 10,
    "start_time": "2022-12-04T11:11:19.049Z"
   },
   {
    "duration": 34,
    "start_time": "2022-12-04T11:26:11.762Z"
   },
   {
    "duration": 9,
    "start_time": "2022-12-04T11:26:44.976Z"
   },
   {
    "duration": 25,
    "start_time": "2022-12-04T11:26:55.253Z"
   },
   {
    "duration": 10,
    "start_time": "2022-12-04T11:27:10.286Z"
   },
   {
    "duration": 28,
    "start_time": "2022-12-04T11:27:11.016Z"
   },
   {
    "duration": 17,
    "start_time": "2022-12-04T11:27:43.546Z"
   },
   {
    "duration": 26,
    "start_time": "2022-12-04T11:27:43.885Z"
   },
   {
    "duration": 10,
    "start_time": "2022-12-04T11:28:00.636Z"
   },
   {
    "duration": 30,
    "start_time": "2022-12-04T11:28:01.379Z"
   },
   {
    "duration": 7,
    "start_time": "2022-12-04T11:28:09.637Z"
   },
   {
    "duration": 14,
    "start_time": "2022-12-04T11:28:09.793Z"
   },
   {
    "duration": 10,
    "start_time": "2022-12-04T11:28:10.295Z"
   },
   {
    "duration": 25,
    "start_time": "2022-12-04T11:28:10.871Z"
   },
   {
    "duration": 9,
    "start_time": "2022-12-04T11:28:32.717Z"
   },
   {
    "duration": 25,
    "start_time": "2022-12-04T11:28:33.591Z"
   },
   {
    "duration": 16,
    "start_time": "2022-12-04T11:28:45.316Z"
   },
   {
    "duration": 31,
    "start_time": "2022-12-04T11:28:45.664Z"
   },
   {
    "duration": 21,
    "start_time": "2022-12-04T11:29:01.042Z"
   },
   {
    "duration": 26,
    "start_time": "2022-12-04T11:29:01.876Z"
   },
   {
    "duration": 4,
    "start_time": "2022-12-04T11:29:34.923Z"
   },
   {
    "duration": 65,
    "start_time": "2022-12-04T11:29:35.069Z"
   },
   {
    "duration": 22,
    "start_time": "2022-12-04T11:29:35.215Z"
   },
   {
    "duration": 16,
    "start_time": "2022-12-04T11:29:35.381Z"
   },
   {
    "duration": 6,
    "start_time": "2022-12-04T11:29:35.702Z"
   },
   {
    "duration": 19,
    "start_time": "2022-12-04T11:29:36.472Z"
   },
   {
    "duration": 11,
    "start_time": "2022-12-04T11:29:36.889Z"
   },
   {
    "duration": 13,
    "start_time": "2022-12-04T11:29:37.122Z"
   },
   {
    "duration": 7,
    "start_time": "2022-12-04T11:29:37.336Z"
   },
   {
    "duration": 9,
    "start_time": "2022-12-04T11:29:37.815Z"
   },
   {
    "duration": 14,
    "start_time": "2022-12-04T11:29:37.998Z"
   },
   {
    "duration": 31,
    "start_time": "2022-12-04T11:29:38.613Z"
   },
   {
    "duration": 10,
    "start_time": "2022-12-04T11:30:00.399Z"
   },
   {
    "duration": 26,
    "start_time": "2022-12-04T11:30:00.769Z"
   },
   {
    "duration": 9,
    "start_time": "2022-12-04T11:30:20.091Z"
   },
   {
    "duration": 26,
    "start_time": "2022-12-04T11:30:20.546Z"
   },
   {
    "duration": 10,
    "start_time": "2022-12-04T11:30:29.520Z"
   },
   {
    "duration": 31,
    "start_time": "2022-12-04T11:30:29.759Z"
   },
   {
    "duration": 8,
    "start_time": "2022-12-04T11:30:35.864Z"
   },
   {
    "duration": 24,
    "start_time": "2022-12-04T11:30:36.266Z"
   },
   {
    "duration": 18,
    "start_time": "2022-12-04T11:30:42.943Z"
   },
   {
    "duration": 29,
    "start_time": "2022-12-04T11:30:43.277Z"
   },
   {
    "duration": 10,
    "start_time": "2022-12-04T11:31:02.614Z"
   },
   {
    "duration": 29,
    "start_time": "2022-12-04T11:31:03.014Z"
   },
   {
    "duration": 9,
    "start_time": "2022-12-04T11:31:21.112Z"
   },
   {
    "duration": 27,
    "start_time": "2022-12-04T11:31:21.546Z"
   },
   {
    "duration": 14,
    "start_time": "2022-12-04T11:31:28.246Z"
   },
   {
    "duration": 26,
    "start_time": "2022-12-04T11:31:28.701Z"
   },
   {
    "duration": 9,
    "start_time": "2022-12-04T11:31:37.995Z"
   },
   {
    "duration": 29,
    "start_time": "2022-12-04T11:31:38.751Z"
   },
   {
    "duration": 13,
    "start_time": "2022-12-04T11:31:45.186Z"
   },
   {
    "duration": 28,
    "start_time": "2022-12-04T11:31:45.913Z"
   },
   {
    "duration": 10,
    "start_time": "2022-12-04T11:31:59.024Z"
   },
   {
    "duration": 25,
    "start_time": "2022-12-04T11:31:59.421Z"
   },
   {
    "duration": 9,
    "start_time": "2022-12-04T11:32:04.976Z"
   },
   {
    "duration": 25,
    "start_time": "2022-12-04T11:32:05.318Z"
   },
   {
    "duration": 10,
    "start_time": "2022-12-04T11:32:48.222Z"
   },
   {
    "duration": 9,
    "start_time": "2022-12-04T11:33:22.720Z"
   },
   {
    "duration": 23,
    "start_time": "2022-12-04T11:33:23.497Z"
   },
   {
    "duration": 8,
    "start_time": "2022-12-04T11:33:31.729Z"
   },
   {
    "duration": 22,
    "start_time": "2022-12-04T11:33:32.395Z"
   },
   {
    "duration": 10,
    "start_time": "2022-12-04T11:33:39.028Z"
   },
   {
    "duration": 36,
    "start_time": "2022-12-04T11:33:39.564Z"
   },
   {
    "duration": 10,
    "start_time": "2022-12-04T11:33:46.682Z"
   },
   {
    "duration": 25,
    "start_time": "2022-12-04T11:33:47.182Z"
   },
   {
    "duration": 10,
    "start_time": "2022-12-04T11:34:14.624Z"
   },
   {
    "duration": 31,
    "start_time": "2022-12-04T11:34:14.962Z"
   },
   {
    "duration": 9,
    "start_time": "2022-12-04T11:34:24.267Z"
   },
   {
    "duration": 25,
    "start_time": "2022-12-04T11:34:24.624Z"
   },
   {
    "duration": 11,
    "start_time": "2022-12-04T11:34:32.031Z"
   },
   {
    "duration": 31,
    "start_time": "2022-12-04T11:34:32.442Z"
   },
   {
    "duration": 12,
    "start_time": "2022-12-04T11:34:49.529Z"
   },
   {
    "duration": 32,
    "start_time": "2022-12-04T11:34:50.241Z"
   },
   {
    "duration": 11,
    "start_time": "2022-12-04T11:34:58.410Z"
   },
   {
    "duration": 25,
    "start_time": "2022-12-04T11:34:58.618Z"
   },
   {
    "duration": 1198,
    "start_time": "2022-12-04T11:44:43.715Z"
   },
   {
    "duration": 1227,
    "start_time": "2022-12-04T11:45:22.362Z"
   },
   {
    "duration": 1189,
    "start_time": "2022-12-04T11:46:10.804Z"
   },
   {
    "duration": 1332,
    "start_time": "2022-12-04T11:46:16.920Z"
   },
   {
    "duration": 3,
    "start_time": "2022-12-04T11:53:40.732Z"
   },
   {
    "duration": 75,
    "start_time": "2022-12-04T11:56:45.915Z"
   },
   {
    "duration": 6,
    "start_time": "2022-12-04T11:57:00.596Z"
   },
   {
    "duration": 18,
    "start_time": "2022-12-04T11:57:13.556Z"
   },
   {
    "duration": 13,
    "start_time": "2022-12-04T11:57:31.022Z"
   },
   {
    "duration": 8,
    "start_time": "2022-12-04T11:57:57.037Z"
   },
   {
    "duration": 36,
    "start_time": "2022-12-04T11:58:01.618Z"
   },
   {
    "duration": 8,
    "start_time": "2022-12-04T11:59:16.207Z"
   },
   {
    "duration": 27,
    "start_time": "2022-12-04T12:00:59.947Z"
   },
   {
    "duration": 12,
    "start_time": "2022-12-04T12:02:06.260Z"
   },
   {
    "duration": 452,
    "start_time": "2022-12-04T12:02:22.412Z"
   },
   {
    "duration": 66,
    "start_time": "2022-12-04T12:02:22.866Z"
   },
   {
    "duration": 35,
    "start_time": "2022-12-04T12:02:22.934Z"
   },
   {
    "duration": 14,
    "start_time": "2022-12-04T12:02:23.006Z"
   },
   {
    "duration": 6,
    "start_time": "2022-12-04T12:02:23.297Z"
   },
   {
    "duration": 17,
    "start_time": "2022-12-04T12:02:23.717Z"
   },
   {
    "duration": 11,
    "start_time": "2022-12-04T12:02:23.865Z"
   },
   {
    "duration": 9,
    "start_time": "2022-12-04T12:02:24.024Z"
   },
   {
    "duration": 8,
    "start_time": "2022-12-04T12:02:24.173Z"
   },
   {
    "duration": 12,
    "start_time": "2022-12-04T12:02:24.491Z"
   },
   {
    "duration": 11,
    "start_time": "2022-12-04T12:02:24.635Z"
   },
   {
    "duration": 37,
    "start_time": "2022-12-04T12:02:24.962Z"
   },
   {
    "duration": 3,
    "start_time": "2022-12-04T12:02:25.276Z"
   },
   {
    "duration": 8,
    "start_time": "2022-12-04T12:02:25.440Z"
   },
   {
    "duration": 30,
    "start_time": "2022-12-04T12:02:25.745Z"
   },
   {
    "duration": 9,
    "start_time": "2022-12-04T12:02:26.061Z"
   },
   {
    "duration": 22,
    "start_time": "2022-12-04T12:02:26.541Z"
   },
   {
    "duration": 25,
    "start_time": "2022-12-04T12:02:27.594Z"
   },
   {
    "duration": 542,
    "start_time": "2022-12-04T12:02:40.480Z"
   },
   {
    "duration": 74,
    "start_time": "2022-12-04T12:02:41.024Z"
   },
   {
    "duration": 24,
    "start_time": "2022-12-04T12:02:41.100Z"
   },
   {
    "duration": 34,
    "start_time": "2022-12-04T12:02:41.126Z"
   },
   {
    "duration": 7,
    "start_time": "2022-12-04T12:02:41.171Z"
   },
   {
    "duration": 19,
    "start_time": "2022-12-04T12:02:41.843Z"
   },
   {
    "duration": 11,
    "start_time": "2022-12-04T12:02:41.972Z"
   },
   {
    "duration": 12,
    "start_time": "2022-12-04T12:02:42.163Z"
   },
   {
    "duration": 6,
    "start_time": "2022-12-04T12:02:42.295Z"
   },
   {
    "duration": 10,
    "start_time": "2022-12-04T12:02:42.472Z"
   },
   {
    "duration": 12,
    "start_time": "2022-12-04T12:02:42.660Z"
   },
   {
    "duration": 27,
    "start_time": "2022-12-04T12:02:43.272Z"
   },
   {
    "duration": 3,
    "start_time": "2022-12-04T12:02:43.611Z"
   },
   {
    "duration": 8,
    "start_time": "2022-12-04T12:02:43.777Z"
   },
   {
    "duration": 31,
    "start_time": "2022-12-04T12:02:43.962Z"
   },
   {
    "duration": 7,
    "start_time": "2022-12-04T12:02:44.288Z"
   },
   {
    "duration": 17,
    "start_time": "2022-12-04T12:02:44.474Z"
   },
   {
    "duration": 54,
    "start_time": "2022-12-04T12:02:44.644Z"
   },
   {
    "duration": 178,
    "start_time": "2022-12-04T12:02:51.420Z"
   },
   {
    "duration": 178,
    "start_time": "2022-12-04T12:03:15.764Z"
   },
   {
    "duration": 17,
    "start_time": "2022-12-04T12:04:07.476Z"
   },
   {
    "duration": 173,
    "start_time": "2022-12-04T12:04:08.465Z"
   },
   {
    "duration": 28,
    "start_time": "2022-12-04T12:13:50.439Z"
   },
   {
    "duration": 31,
    "start_time": "2022-12-04T12:14:16.540Z"
   },
   {
    "duration": 24,
    "start_time": "2022-12-04T12:16:21.742Z"
   },
   {
    "duration": 198,
    "start_time": "2022-12-04T12:16:35.833Z"
   },
   {
    "duration": 16,
    "start_time": "2022-12-04T12:22:20.299Z"
   },
   {
    "duration": 20,
    "start_time": "2022-12-04T12:22:28.909Z"
   },
   {
    "duration": 19,
    "start_time": "2022-12-04T12:22:41.085Z"
   },
   {
    "duration": 22,
    "start_time": "2022-12-04T12:30:10.425Z"
   },
   {
    "duration": 111,
    "start_time": "2022-12-04T12:31:03.062Z"
   },
   {
    "duration": 1352,
    "start_time": "2022-12-07T10:25:49.633Z"
   },
   {
    "duration": 133,
    "start_time": "2022-12-07T10:25:50.987Z"
   },
   {
    "duration": 28,
    "start_time": "2022-12-07T10:25:51.122Z"
   },
   {
    "duration": 16,
    "start_time": "2022-12-07T10:25:51.152Z"
   },
   {
    "duration": 6,
    "start_time": "2022-12-07T10:25:51.171Z"
   },
   {
    "duration": 29,
    "start_time": "2022-12-07T10:25:51.179Z"
   },
   {
    "duration": 30,
    "start_time": "2022-12-07T10:25:51.210Z"
   },
   {
    "duration": 9,
    "start_time": "2022-12-07T10:25:51.242Z"
   },
   {
    "duration": 12,
    "start_time": "2022-12-07T10:25:51.252Z"
   },
   {
    "duration": 16,
    "start_time": "2022-12-07T10:25:51.265Z"
   },
   {
    "duration": 18,
    "start_time": "2022-12-07T10:25:51.282Z"
   },
   {
    "duration": 41,
    "start_time": "2022-12-07T10:25:51.302Z"
   },
   {
    "duration": 4,
    "start_time": "2022-12-07T10:25:51.345Z"
   },
   {
    "duration": 12,
    "start_time": "2022-12-07T10:25:51.352Z"
   },
   {
    "duration": 33,
    "start_time": "2022-12-07T10:25:51.365Z"
   },
   {
    "duration": 18,
    "start_time": "2022-12-07T10:25:51.400Z"
   },
   {
    "duration": 27,
    "start_time": "2022-12-07T10:25:51.420Z"
   },
   {
    "duration": 186,
    "start_time": "2022-12-07T10:25:51.449Z"
   },
   {
    "duration": 18,
    "start_time": "2022-12-07T10:25:51.637Z"
   },
   {
    "duration": 175,
    "start_time": "2022-12-07T10:25:51.657Z"
   },
   {
    "duration": 17,
    "start_time": "2022-12-07T10:25:51.836Z"
   },
   {
    "duration": 120,
    "start_time": "2022-12-07T10:25:51.855Z"
   },
   {
    "duration": 23,
    "start_time": "2022-12-07T10:34:52.258Z"
   },
   {
    "duration": 110,
    "start_time": "2022-12-07T10:35:26.410Z"
   },
   {
    "duration": 15,
    "start_time": "2022-12-07T10:36:43.754Z"
   },
   {
    "duration": 18,
    "start_time": "2022-12-07T10:38:34.266Z"
   },
   {
    "duration": 165,
    "start_time": "2022-12-07T10:38:38.893Z"
   },
   {
    "duration": 19,
    "start_time": "2022-12-07T10:38:49.094Z"
   },
   {
    "duration": 117,
    "start_time": "2022-12-07T10:38:52.630Z"
   },
   {
    "duration": 18,
    "start_time": "2022-12-07T10:38:59.798Z"
   },
   {
    "duration": 107,
    "start_time": "2022-12-07T10:39:00.143Z"
   },
   {
    "duration": 3,
    "start_time": "2022-12-07T10:39:24.376Z"
   },
   {
    "duration": 60,
    "start_time": "2022-12-07T10:39:24.528Z"
   },
   {
    "duration": 22,
    "start_time": "2022-12-07T10:39:24.672Z"
   },
   {
    "duration": 12,
    "start_time": "2022-12-07T10:39:24.822Z"
   },
   {
    "duration": 6,
    "start_time": "2022-12-07T10:39:27.479Z"
   },
   {
    "duration": 16,
    "start_time": "2022-12-07T10:39:28.047Z"
   },
   {
    "duration": 11,
    "start_time": "2022-12-07T10:39:28.274Z"
   },
   {
    "duration": 9,
    "start_time": "2022-12-07T10:39:28.507Z"
   },
   {
    "duration": 6,
    "start_time": "2022-12-07T10:39:28.744Z"
   },
   {
    "duration": 9,
    "start_time": "2022-12-07T10:39:28.979Z"
   },
   {
    "duration": 9,
    "start_time": "2022-12-07T10:39:29.211Z"
   },
   {
    "duration": 25,
    "start_time": "2022-12-07T10:39:29.663Z"
   },
   {
    "duration": 3,
    "start_time": "2022-12-07T10:39:32.549Z"
   },
   {
    "duration": 7,
    "start_time": "2022-12-07T10:39:33.073Z"
   },
   {
    "duration": 24,
    "start_time": "2022-12-07T10:39:33.396Z"
   },
   {
    "duration": 6,
    "start_time": "2022-12-07T10:39:33.879Z"
   },
   {
    "duration": 6,
    "start_time": "2022-12-07T10:40:55.511Z"
   },
   {
    "duration": 18,
    "start_time": "2022-12-07T10:40:55.657Z"
   },
   {
    "duration": 168,
    "start_time": "2022-12-07T10:40:55.784Z"
   },
   {
    "duration": 17,
    "start_time": "2022-12-07T10:40:56.252Z"
   },
   {
    "duration": 158,
    "start_time": "2022-12-07T10:40:56.400Z"
   },
   {
    "duration": 22,
    "start_time": "2022-12-07T10:40:56.702Z"
   },
   {
    "duration": 193,
    "start_time": "2022-12-07T10:40:57.289Z"
   },
   {
    "duration": 18,
    "start_time": "2022-12-07T10:42:33.446Z"
   },
   {
    "duration": 97,
    "start_time": "2022-12-07T10:42:35.113Z"
   },
   {
    "duration": 19,
    "start_time": "2022-12-07T10:42:50.998Z"
   },
   {
    "duration": 104,
    "start_time": "2022-12-07T10:42:57.077Z"
   },
   {
    "duration": 46,
    "start_time": "2022-12-07T10:44:10.992Z"
   },
   {
    "duration": 16,
    "start_time": "2022-12-07T10:44:41.461Z"
   },
   {
    "duration": 14,
    "start_time": "2022-12-07T10:45:05.324Z"
   },
   {
    "duration": 770,
    "start_time": "2022-12-07T10:45:22.726Z"
   },
   {
    "duration": 703,
    "start_time": "2022-12-07T10:45:34.876Z"
   },
   {
    "duration": 11,
    "start_time": "2022-12-07T10:45:48.337Z"
   },
   {
    "duration": 15,
    "start_time": "2022-12-07T10:47:21.748Z"
   },
   {
    "duration": 12,
    "start_time": "2022-12-07T10:49:43.007Z"
   },
   {
    "duration": 17,
    "start_time": "2022-12-07T10:50:32.706Z"
   },
   {
    "duration": 13,
    "start_time": "2022-12-07T10:51:31.310Z"
   },
   {
    "duration": 414,
    "start_time": "2022-12-07T10:51:38.662Z"
   },
   {
    "duration": 357,
    "start_time": "2022-12-07T10:53:24.916Z"
   },
   {
    "duration": 18,
    "start_time": "2022-12-07T10:57:25.202Z"
   },
   {
    "duration": 20,
    "start_time": "2022-12-07T10:59:21.771Z"
   },
   {
    "duration": 481,
    "start_time": "2022-12-07T10:59:33.821Z"
   },
   {
    "duration": 17,
    "start_time": "2022-12-07T11:01:13.433Z"
   },
   {
    "duration": 20,
    "start_time": "2022-12-07T11:01:42.577Z"
   },
   {
    "duration": 21,
    "start_time": "2022-12-07T11:01:54.331Z"
   },
   {
    "duration": 20,
    "start_time": "2022-12-07T11:02:28.259Z"
   },
   {
    "duration": 363,
    "start_time": "2022-12-07T11:18:21.882Z"
   },
   {
    "duration": 67,
    "start_time": "2022-12-07T11:18:34.991Z"
   },
   {
    "duration": 47,
    "start_time": "2022-12-07T11:18:42.235Z"
   },
   {
    "duration": 2,
    "start_time": "2022-12-07T11:18:49.785Z"
   },
   {
    "duration": 6,
    "start_time": "2022-12-07T13:25:17.955Z"
   },
   {
    "duration": 9,
    "start_time": "2022-12-07T13:29:44.742Z"
   },
   {
    "duration": 82,
    "start_time": "2022-12-07T13:30:02.184Z"
   },
   {
    "duration": 635,
    "start_time": "2022-12-07T13:30:06.301Z"
   },
   {
    "duration": 79,
    "start_time": "2022-12-07T13:30:20.627Z"
   },
   {
    "duration": 170,
    "start_time": "2022-12-07T13:30:25.026Z"
   },
   {
    "duration": 14,
    "start_time": "2022-12-07T13:33:39.380Z"
   },
   {
    "duration": 22,
    "start_time": "2022-12-07T13:33:45.595Z"
   },
   {
    "duration": 24,
    "start_time": "2022-12-07T13:33:49.351Z"
   },
   {
    "duration": 21,
    "start_time": "2022-12-07T13:33:57.133Z"
   },
   {
    "duration": 10,
    "start_time": "2022-12-07T13:34:37.111Z"
   },
   {
    "duration": 436,
    "start_time": "2022-12-07T13:36:54.594Z"
   },
   {
    "duration": 405,
    "start_time": "2022-12-07T13:37:12.708Z"
   },
   {
    "duration": 5,
    "start_time": "2022-12-07T13:38:12.805Z"
   },
   {
    "duration": 13,
    "start_time": "2022-12-07T13:38:40.191Z"
   },
   {
    "duration": 5,
    "start_time": "2022-12-07T13:38:49.820Z"
   },
   {
    "duration": 5,
    "start_time": "2022-12-07T13:39:10.150Z"
   },
   {
    "duration": 33,
    "start_time": "2022-12-07T13:40:01.594Z"
   },
   {
    "duration": 28,
    "start_time": "2022-12-07T13:40:11.720Z"
   },
   {
    "duration": 24,
    "start_time": "2022-12-07T13:40:22.345Z"
   },
   {
    "duration": 1239,
    "start_time": "2022-12-07T13:42:42.390Z"
   },
   {
    "duration": 63,
    "start_time": "2022-12-07T13:42:43.631Z"
   },
   {
    "duration": 27,
    "start_time": "2022-12-07T13:42:43.695Z"
   },
   {
    "duration": 14,
    "start_time": "2022-12-07T13:42:43.724Z"
   },
   {
    "duration": 6,
    "start_time": "2022-12-07T13:42:43.740Z"
   },
   {
    "duration": 24,
    "start_time": "2022-12-07T13:42:43.747Z"
   },
   {
    "duration": 10,
    "start_time": "2022-12-07T13:42:43.773Z"
   },
   {
    "duration": 15,
    "start_time": "2022-12-07T13:42:43.785Z"
   },
   {
    "duration": 9,
    "start_time": "2022-12-07T13:42:43.802Z"
   },
   {
    "duration": 25,
    "start_time": "2022-12-07T13:42:43.812Z"
   },
   {
    "duration": 9,
    "start_time": "2022-12-07T13:42:43.839Z"
   },
   {
    "duration": 28,
    "start_time": "2022-12-07T13:42:43.850Z"
   },
   {
    "duration": 7,
    "start_time": "2022-12-07T13:42:43.880Z"
   },
   {
    "duration": 10,
    "start_time": "2022-12-07T13:42:43.890Z"
   },
   {
    "duration": 47,
    "start_time": "2022-12-07T13:42:43.902Z"
   },
   {
    "duration": 6,
    "start_time": "2022-12-07T13:42:43.951Z"
   },
   {
    "duration": 24,
    "start_time": "2022-12-07T13:42:43.959Z"
   },
   {
    "duration": 181,
    "start_time": "2022-12-07T13:42:43.985Z"
   },
   {
    "duration": 16,
    "start_time": "2022-12-07T13:42:44.168Z"
   },
   {
    "duration": 175,
    "start_time": "2022-12-07T13:42:44.185Z"
   },
   {
    "duration": 17,
    "start_time": "2022-12-07T13:42:44.362Z"
   },
   {
    "duration": 113,
    "start_time": "2022-12-07T13:42:44.381Z"
   },
   {
    "duration": 17,
    "start_time": "2022-12-07T13:42:44.496Z"
   },
   {
    "duration": 361,
    "start_time": "2022-12-07T13:42:44.514Z"
   },
   {
    "duration": 47,
    "start_time": "2022-12-07T13:42:44.877Z"
   },
   {
    "duration": 0,
    "start_time": "2022-12-07T13:42:44.926Z"
   },
   {
    "duration": 0,
    "start_time": "2022-12-07T13:42:44.927Z"
   },
   {
    "duration": 0,
    "start_time": "2022-12-07T13:42:44.929Z"
   },
   {
    "duration": 69,
    "start_time": "2022-12-07T13:43:12.733Z"
   },
   {
    "duration": 26,
    "start_time": "2022-12-07T13:43:43.020Z"
   },
   {
    "duration": 39,
    "start_time": "2022-12-07T13:43:59.466Z"
   },
   {
    "duration": 444,
    "start_time": "2022-12-07T13:44:14.023Z"
   },
   {
    "duration": 46,
    "start_time": "2022-12-07T13:48:19.790Z"
   },
   {
    "duration": 100,
    "start_time": "2022-12-07T13:50:17.149Z"
   },
   {
    "duration": 30,
    "start_time": "2022-12-07T13:50:30.595Z"
   },
   {
    "duration": 20,
    "start_time": "2022-12-07T13:50:42.085Z"
   },
   {
    "duration": 13,
    "start_time": "2022-12-07T13:54:13.561Z"
   },
   {
    "duration": 23,
    "start_time": "2022-12-07T13:54:29.794Z"
   },
   {
    "duration": 20,
    "start_time": "2022-12-07T13:54:35.298Z"
   },
   {
    "duration": 21,
    "start_time": "2022-12-07T13:54:38.395Z"
   },
   {
    "duration": 22,
    "start_time": "2022-12-07T13:54:53.377Z"
   },
   {
    "duration": 248,
    "start_time": "2022-12-07T13:56:43.046Z"
   },
   {
    "duration": 17,
    "start_time": "2022-12-07T13:58:44.182Z"
   },
   {
    "duration": 16,
    "start_time": "2022-12-07T13:58:57.621Z"
   },
   {
    "duration": 10,
    "start_time": "2022-12-07T13:59:08.181Z"
   },
   {
    "duration": 11,
    "start_time": "2022-12-07T13:59:25.808Z"
   },
   {
    "duration": 17,
    "start_time": "2022-12-07T14:00:03.604Z"
   },
   {
    "duration": 18,
    "start_time": "2022-12-07T14:00:14.082Z"
   },
   {
    "duration": 10,
    "start_time": "2022-12-07T14:00:19.522Z"
   },
   {
    "duration": 32,
    "start_time": "2022-12-07T14:00:22.898Z"
   },
   {
    "duration": 10,
    "start_time": "2022-12-07T14:01:08.661Z"
   },
   {
    "duration": 22,
    "start_time": "2022-12-07T14:01:10.098Z"
   },
   {
    "duration": 3,
    "start_time": "2022-12-07T14:01:18.237Z"
   },
   {
    "duration": 60,
    "start_time": "2022-12-07T14:01:18.379Z"
   },
   {
    "duration": 22,
    "start_time": "2022-12-07T14:01:18.544Z"
   },
   {
    "duration": 13,
    "start_time": "2022-12-07T14:01:18.668Z"
   },
   {
    "duration": 6,
    "start_time": "2022-12-07T14:01:18.968Z"
   },
   {
    "duration": 83,
    "start_time": "2022-12-07T14:01:19.414Z"
   },
   {
    "duration": 10,
    "start_time": "2022-12-07T14:01:19.566Z"
   },
   {
    "duration": 9,
    "start_time": "2022-12-07T14:01:19.717Z"
   },
   {
    "duration": 7,
    "start_time": "2022-12-07T14:01:19.886Z"
   },
   {
    "duration": 9,
    "start_time": "2022-12-07T14:01:20.185Z"
   },
   {
    "duration": 9,
    "start_time": "2022-12-07T14:01:20.350Z"
   },
   {
    "duration": 24,
    "start_time": "2022-12-07T14:01:21.095Z"
   },
   {
    "duration": 23,
    "start_time": "2022-12-07T14:01:35.948Z"
   },
   {
    "duration": 308,
    "start_time": "2022-12-07T14:01:36.602Z"
   },
   {
    "duration": 10,
    "start_time": "2022-12-07T14:05:17.191Z"
   },
   {
    "duration": 24,
    "start_time": "2022-12-07T14:05:19.356Z"
   },
   {
    "duration": 34,
    "start_time": "2022-12-07T14:05:25.424Z"
   },
   {
    "duration": 33,
    "start_time": "2022-12-07T14:05:30.976Z"
   },
   {
    "duration": 36,
    "start_time": "2022-12-07T14:05:37.987Z"
   },
   {
    "duration": 48,
    "start_time": "2022-12-07T14:05:48.456Z"
   },
   {
    "duration": 30,
    "start_time": "2022-12-07T14:05:54.806Z"
   },
   {
    "duration": 35,
    "start_time": "2022-12-07T14:05:59.911Z"
   },
   {
    "duration": 39,
    "start_time": "2022-12-07T14:06:12.434Z"
   },
   {
    "duration": 27,
    "start_time": "2022-12-07T14:06:20.401Z"
   },
   {
    "duration": 33,
    "start_time": "2022-12-07T14:06:43.278Z"
   },
   {
    "duration": 33,
    "start_time": "2022-12-07T14:07:09.899Z"
   },
   {
    "duration": 35,
    "start_time": "2022-12-07T14:07:16.421Z"
   },
   {
    "duration": 4,
    "start_time": "2022-12-07T14:08:03.304Z"
   },
   {
    "duration": 28,
    "start_time": "2022-12-07T14:08:08.454Z"
   },
   {
    "duration": 31,
    "start_time": "2022-12-07T14:10:26.864Z"
   },
   {
    "duration": 29,
    "start_time": "2022-12-07T14:10:35.130Z"
   },
   {
    "duration": 34,
    "start_time": "2022-12-07T14:10:50.541Z"
   },
   {
    "duration": 1246,
    "start_time": "2022-12-07T14:12:56.504Z"
   },
   {
    "duration": 6,
    "start_time": "2022-12-07T14:13:01.448Z"
   },
   {
    "duration": 14,
    "start_time": "2022-12-07T14:13:09.398Z"
   },
   {
    "duration": 13,
    "start_time": "2022-12-07T14:13:15.556Z"
   },
   {
    "duration": 19,
    "start_time": "2022-12-07T14:14:31.974Z"
   },
   {
    "duration": 24,
    "start_time": "2022-12-07T14:14:43.402Z"
   },
   {
    "duration": 50,
    "start_time": "2022-12-07T14:15:33.301Z"
   },
   {
    "duration": 26,
    "start_time": "2022-12-07T14:17:00.320Z"
   },
   {
    "duration": 3,
    "start_time": "2022-12-07T14:17:13.461Z"
   },
   {
    "duration": 18,
    "start_time": "2022-12-07T14:17:20.610Z"
   },
   {
    "duration": 3,
    "start_time": "2022-12-07T14:18:20.429Z"
   },
   {
    "duration": 9,
    "start_time": "2022-12-07T14:18:46.572Z"
   },
   {
    "duration": 9,
    "start_time": "2022-12-07T14:19:19.802Z"
   },
   {
    "duration": 9,
    "start_time": "2022-12-07T14:19:27.737Z"
   },
   {
    "duration": 10,
    "start_time": "2022-12-07T14:19:35.547Z"
   },
   {
    "duration": 9,
    "start_time": "2022-12-07T14:19:46.999Z"
   },
   {
    "duration": 9,
    "start_time": "2022-12-07T14:20:15.545Z"
   },
   {
    "duration": 5,
    "start_time": "2022-12-07T14:20:20.869Z"
   },
   {
    "duration": 21,
    "start_time": "2022-12-07T14:26:35.778Z"
   },
   {
    "duration": 149,
    "start_time": "2022-12-07T14:29:16.231Z"
   },
   {
    "duration": 17,
    "start_time": "2022-12-07T14:30:31.482Z"
   },
   {
    "duration": 17,
    "start_time": "2022-12-07T14:31:12.310Z"
   },
   {
    "duration": 165,
    "start_time": "2022-12-07T14:31:16.898Z"
   },
   {
    "duration": 48,
    "start_time": "2022-12-07T14:33:53.724Z"
   },
   {
    "duration": 17,
    "start_time": "2022-12-07T14:34:03.029Z"
   },
   {
    "duration": 16,
    "start_time": "2022-12-07T14:35:33.629Z"
   },
   {
    "duration": 167,
    "start_time": "2022-12-07T14:35:42.819Z"
   },
   {
    "duration": 17,
    "start_time": "2022-12-07T14:36:35.426Z"
   },
   {
    "duration": 10,
    "start_time": "2022-12-07T14:36:52.276Z"
   },
   {
    "duration": 199,
    "start_time": "2022-12-07T14:37:07.130Z"
   },
   {
    "duration": 246,
    "start_time": "2022-12-07T14:37:14.854Z"
   },
   {
    "duration": 11,
    "start_time": "2022-12-07T14:38:02.764Z"
   },
   {
    "duration": 15,
    "start_time": "2022-12-07T14:38:20.573Z"
   },
   {
    "duration": 14,
    "start_time": "2022-12-07T14:50:01.023Z"
   },
   {
    "duration": 204,
    "start_time": "2022-12-07T14:50:10.833Z"
   },
   {
    "duration": 17,
    "start_time": "2022-12-07T14:50:19.533Z"
   },
   {
    "duration": 13,
    "start_time": "2022-12-07T14:51:17.006Z"
   },
   {
    "duration": 13,
    "start_time": "2022-12-07T14:51:41.122Z"
   },
   {
    "duration": 16,
    "start_time": "2022-12-07T14:53:00.635Z"
   },
   {
    "duration": 118,
    "start_time": "2022-12-07T14:53:01.204Z"
   },
   {
    "duration": 116,
    "start_time": "2022-12-07T14:53:05.681Z"
   },
   {
    "duration": 15,
    "start_time": "2022-12-07T14:53:30.626Z"
   },
   {
    "duration": 109,
    "start_time": "2022-12-07T14:53:30.896Z"
   },
   {
    "duration": 19,
    "start_time": "2022-12-07T14:53:55.359Z"
   },
   {
    "duration": 11,
    "start_time": "2022-12-07T14:54:01.667Z"
   },
   {
    "duration": 15,
    "start_time": "2022-12-07T14:54:05.584Z"
   },
   {
    "duration": 13,
    "start_time": "2022-12-07T14:54:05.791Z"
   },
   {
    "duration": 17,
    "start_time": "2022-12-07T14:54:14.138Z"
   },
   {
    "duration": 13,
    "start_time": "2022-12-07T14:54:14.331Z"
   },
   {
    "duration": 2,
    "start_time": "2022-12-07T14:54:17.627Z"
   },
   {
    "duration": 66,
    "start_time": "2022-12-07T14:54:17.749Z"
   },
   {
    "duration": 25,
    "start_time": "2022-12-07T14:54:17.898Z"
   },
   {
    "duration": 13,
    "start_time": "2022-12-07T14:54:18.075Z"
   },
   {
    "duration": 7,
    "start_time": "2022-12-07T14:54:18.365Z"
   },
   {
    "duration": 14,
    "start_time": "2022-12-07T14:54:18.815Z"
   },
   {
    "duration": 11,
    "start_time": "2022-12-07T14:54:18.968Z"
   },
   {
    "duration": 10,
    "start_time": "2022-12-07T14:54:19.113Z"
   },
   {
    "duration": 6,
    "start_time": "2022-12-07T14:54:19.445Z"
   },
   {
    "duration": 9,
    "start_time": "2022-12-07T14:54:19.616Z"
   },
   {
    "duration": 33,
    "start_time": "2022-12-07T14:54:20.145Z"
   },
   {
    "duration": 26,
    "start_time": "2022-12-07T14:54:20.629Z"
   },
   {
    "duration": 15,
    "start_time": "2022-12-07T14:54:20.932Z"
   },
   {
    "duration": 19,
    "start_time": "2022-12-07T14:54:21.477Z"
   },
   {
    "duration": 6,
    "start_time": "2022-12-07T14:54:22.100Z"
   },
   {
    "duration": 18,
    "start_time": "2022-12-07T14:54:22.315Z"
   },
   {
    "duration": 161,
    "start_time": "2022-12-07T14:54:23.033Z"
   },
   {
    "duration": 14,
    "start_time": "2022-12-07T14:54:24.501Z"
   },
   {
    "duration": 167,
    "start_time": "2022-12-07T14:54:24.659Z"
   },
   {
    "duration": 16,
    "start_time": "2022-12-07T14:54:26.161Z"
   },
   {
    "duration": 13,
    "start_time": "2022-12-07T14:54:26.849Z"
   },
   {
    "duration": 17,
    "start_time": "2022-12-07T14:54:50.421Z"
   },
   {
    "duration": 118,
    "start_time": "2022-12-07T14:54:50.688Z"
   },
   {
    "duration": 205,
    "start_time": "2022-12-07T14:55:13.811Z"
   },
   {
    "duration": 16,
    "start_time": "2022-12-07T14:56:35.086Z"
   },
   {
    "duration": 2,
    "start_time": "2022-12-07T14:57:27.418Z"
   },
   {
    "duration": 59,
    "start_time": "2022-12-07T14:57:27.557Z"
   },
   {
    "duration": 24,
    "start_time": "2022-12-07T14:57:27.832Z"
   },
   {
    "duration": 15,
    "start_time": "2022-12-07T14:57:27.968Z"
   },
   {
    "duration": 6,
    "start_time": "2022-12-07T14:57:28.241Z"
   },
   {
    "duration": 17,
    "start_time": "2022-12-07T14:57:28.682Z"
   },
   {
    "duration": 11,
    "start_time": "2022-12-07T14:57:28.832Z"
   },
   {
    "duration": 9,
    "start_time": "2022-12-07T14:57:28.971Z"
   },
   {
    "duration": 6,
    "start_time": "2022-12-07T14:57:29.282Z"
   },
   {
    "duration": 10,
    "start_time": "2022-12-07T14:57:29.436Z"
   },
   {
    "duration": 34,
    "start_time": "2022-12-07T14:57:29.603Z"
   },
   {
    "duration": 25,
    "start_time": "2022-12-07T14:57:30.068Z"
   },
   {
    "duration": 2,
    "start_time": "2022-12-07T14:57:30.355Z"
   },
   {
    "duration": 18,
    "start_time": "2022-12-07T14:57:30.506Z"
   },
   {
    "duration": 7,
    "start_time": "2022-12-07T14:57:31.121Z"
   },
   {
    "duration": 17,
    "start_time": "2022-12-07T14:57:31.401Z"
   },
   {
    "duration": 151,
    "start_time": "2022-12-07T14:57:31.548Z"
   },
   {
    "duration": 13,
    "start_time": "2022-12-07T14:57:32.338Z"
   },
   {
    "duration": 165,
    "start_time": "2022-12-07T14:57:32.938Z"
   },
   {
    "duration": 18,
    "start_time": "2022-12-07T14:57:37.810Z"
   },
   {
    "duration": 101,
    "start_time": "2022-12-07T14:58:23.694Z"
   },
   {
    "duration": 101,
    "start_time": "2022-12-07T14:58:39.726Z"
   },
   {
    "duration": 103,
    "start_time": "2022-12-07T14:59:21.514Z"
   },
   {
    "duration": 102,
    "start_time": "2022-12-07T15:00:37.083Z"
   },
   {
    "duration": 16,
    "start_time": "2022-12-07T15:07:53.422Z"
   },
   {
    "duration": 19,
    "start_time": "2022-12-07T15:09:03.434Z"
   },
   {
    "duration": 17,
    "start_time": "2022-12-07T15:09:20.420Z"
   },
   {
    "duration": 355,
    "start_time": "2022-12-07T15:09:25.887Z"
   },
   {
    "duration": 364,
    "start_time": "2022-12-07T15:09:47.866Z"
   },
   {
    "duration": 24,
    "start_time": "2022-12-07T15:10:37.532Z"
   },
   {
    "duration": 366,
    "start_time": "2022-12-07T15:19:50.864Z"
   },
   {
    "duration": 459,
    "start_time": "2022-12-07T15:19:59.768Z"
   },
   {
    "duration": 22,
    "start_time": "2022-12-07T15:21:09.981Z"
   },
   {
    "duration": 22,
    "start_time": "2022-12-07T15:21:52.737Z"
   },
   {
    "duration": 6,
    "start_time": "2022-12-07T15:23:22.873Z"
   },
   {
    "duration": 518,
    "start_time": "2022-12-07T15:35:58.429Z"
   },
   {
    "duration": 19,
    "start_time": "2022-12-07T15:36:35.347Z"
   },
   {
    "duration": 35,
    "start_time": "2022-12-07T15:37:22.581Z"
   },
   {
    "duration": 23,
    "start_time": "2022-12-07T15:37:34.856Z"
   },
   {
    "duration": 26,
    "start_time": "2022-12-07T15:38:04.793Z"
   },
   {
    "duration": 235,
    "start_time": "2022-12-07T15:38:26.513Z"
   },
   {
    "duration": 462,
    "start_time": "2022-12-07T15:38:51.557Z"
   },
   {
    "duration": 16,
    "start_time": "2022-12-07T15:46:15.519Z"
   },
   {
    "duration": 41,
    "start_time": "2022-12-07T15:46:33.645Z"
   },
   {
    "duration": 40,
    "start_time": "2022-12-07T15:46:46.194Z"
   },
   {
    "duration": 62,
    "start_time": "2022-12-07T15:46:53.341Z"
   },
   {
    "duration": 15,
    "start_time": "2022-12-07T15:47:02.375Z"
   },
   {
    "duration": 45,
    "start_time": "2022-12-07T15:47:08.690Z"
   },
   {
    "duration": 1968,
    "start_time": "2022-12-07T15:47:58.299Z"
   },
   {
    "duration": 48,
    "start_time": "2022-12-07T15:48:21.864Z"
   },
   {
    "duration": 16,
    "start_time": "2022-12-07T15:48:39.121Z"
   },
   {
    "duration": 17,
    "start_time": "2022-12-07T15:48:43.585Z"
   },
   {
    "duration": 15,
    "start_time": "2022-12-07T15:48:49.947Z"
   },
   {
    "duration": 198,
    "start_time": "2022-12-07T15:54:52.734Z"
   },
   {
    "duration": 24,
    "start_time": "2022-12-07T15:56:31.418Z"
   },
   {
    "duration": 13,
    "start_time": "2022-12-07T15:56:50.305Z"
   },
   {
    "duration": 21,
    "start_time": "2022-12-07T15:57:25.755Z"
   },
   {
    "duration": 740,
    "start_time": "2022-12-07T15:57:38.363Z"
   },
   {
    "duration": 46,
    "start_time": "2022-12-07T15:58:09.243Z"
   },
   {
    "duration": 167,
    "start_time": "2022-12-07T15:58:29.913Z"
   },
   {
    "duration": 127,
    "start_time": "2022-12-07T15:59:04.192Z"
   },
   {
    "duration": 19,
    "start_time": "2022-12-07T15:59:13.622Z"
   },
   {
    "duration": 21,
    "start_time": "2022-12-07T15:59:19.159Z"
   },
   {
    "duration": 116,
    "start_time": "2022-12-07T15:59:34.839Z"
   },
   {
    "duration": 170,
    "start_time": "2022-12-07T16:10:32.998Z"
   },
   {
    "duration": 76,
    "start_time": "2022-12-07T16:10:40.329Z"
   },
   {
    "duration": 18,
    "start_time": "2022-12-07T16:13:42.405Z"
   },
   {
    "duration": 14,
    "start_time": "2022-12-07T16:14:43.971Z"
   },
   {
    "duration": 18,
    "start_time": "2022-12-07T16:15:07.096Z"
   },
   {
    "duration": 16,
    "start_time": "2022-12-07T16:15:42.393Z"
   },
   {
    "duration": 15,
    "start_time": "2022-12-07T16:15:59.670Z"
   },
   {
    "duration": 22,
    "start_time": "2022-12-07T16:19:37.826Z"
   },
   {
    "duration": 110,
    "start_time": "2022-12-07T16:19:45.355Z"
   },
   {
    "duration": 51,
    "start_time": "2022-12-07T16:19:45.502Z"
   },
   {
    "duration": 22,
    "start_time": "2022-12-07T16:19:46.036Z"
   },
   {
    "duration": 14,
    "start_time": "2022-12-07T16:19:46.178Z"
   },
   {
    "duration": 7,
    "start_time": "2022-12-07T16:19:46.547Z"
   },
   {
    "duration": 14,
    "start_time": "2022-12-07T16:19:47.367Z"
   },
   {
    "duration": 11,
    "start_time": "2022-12-07T16:19:47.651Z"
   },
   {
    "duration": 9,
    "start_time": "2022-12-07T16:19:47.794Z"
   },
   {
    "duration": 5,
    "start_time": "2022-12-07T16:19:47.934Z"
   },
   {
    "duration": 9,
    "start_time": "2022-12-07T16:19:48.083Z"
   },
   {
    "duration": 34,
    "start_time": "2022-12-07T16:19:48.230Z"
   },
   {
    "duration": 27,
    "start_time": "2022-12-07T16:19:48.638Z"
   },
   {
    "duration": 2,
    "start_time": "2022-12-07T16:19:48.901Z"
   },
   {
    "duration": 23,
    "start_time": "2022-12-07T16:19:49.036Z"
   },
   {
    "duration": 7,
    "start_time": "2022-12-07T16:19:49.310Z"
   },
   {
    "duration": 19,
    "start_time": "2022-12-07T16:19:49.447Z"
   },
   {
    "duration": 170,
    "start_time": "2022-12-07T16:19:49.577Z"
   },
   {
    "duration": 16,
    "start_time": "2022-12-07T16:19:49.994Z"
   },
   {
    "duration": 165,
    "start_time": "2022-12-07T16:19:50.117Z"
   },
   {
    "duration": 18,
    "start_time": "2022-12-07T16:19:50.685Z"
   },
   {
    "duration": 105,
    "start_time": "2022-12-07T16:19:50.818Z"
   },
   {
    "duration": 16,
    "start_time": "2022-12-07T16:19:51.264Z"
   },
   {
    "duration": 381,
    "start_time": "2022-12-07T16:19:51.413Z"
   },
   {
    "duration": 28,
    "start_time": "2022-12-07T16:19:52.918Z"
   },
   {
    "duration": 421,
    "start_time": "2022-12-07T16:19:53.335Z"
   },
   {
    "duration": 2,
    "start_time": "2022-12-07T16:19:53.819Z"
   },
   {
    "duration": 239,
    "start_time": "2022-12-07T16:19:53.984Z"
   },
   {
    "duration": 6,
    "start_time": "2022-12-07T16:19:54.285Z"
   },
   {
    "duration": 22,
    "start_time": "2022-12-07T16:19:54.585Z"
   },
   {
    "duration": 353,
    "start_time": "2022-12-07T16:19:54.736Z"
   },
   {
    "duration": 20,
    "start_time": "2022-12-07T16:19:55.091Z"
   },
   {
    "duration": 238,
    "start_time": "2022-12-07T16:19:55.831Z"
   },
   {
    "duration": 19,
    "start_time": "2022-12-07T16:19:56.653Z"
   },
   {
    "duration": 21,
    "start_time": "2022-12-07T16:19:57.497Z"
   },
   {
    "duration": 752,
    "start_time": "2022-12-07T16:20:34.089Z"
   },
   {
    "duration": 19,
    "start_time": "2022-12-07T16:21:17.442Z"
   },
   {
    "duration": 1396,
    "start_time": "2022-12-07T16:22:37.286Z"
   },
   {
    "duration": 53,
    "start_time": "2022-12-07T16:22:38.684Z"
   },
   {
    "duration": 25,
    "start_time": "2022-12-07T16:22:38.738Z"
   },
   {
    "duration": 13,
    "start_time": "2022-12-07T16:22:38.765Z"
   },
   {
    "duration": 5,
    "start_time": "2022-12-07T16:22:38.780Z"
   },
   {
    "duration": 26,
    "start_time": "2022-12-07T16:22:38.786Z"
   },
   {
    "duration": 31,
    "start_time": "2022-12-07T16:22:38.813Z"
   },
   {
    "duration": 9,
    "start_time": "2022-12-07T16:22:38.845Z"
   },
   {
    "duration": 12,
    "start_time": "2022-12-07T16:22:38.855Z"
   },
   {
    "duration": 9,
    "start_time": "2022-12-07T16:22:38.868Z"
   },
   {
    "duration": 124,
    "start_time": "2022-12-07T16:22:38.878Z"
   },
   {
    "duration": 0,
    "start_time": "2022-12-07T16:22:39.004Z"
   },
   {
    "duration": 0,
    "start_time": "2022-12-07T16:22:39.005Z"
   },
   {
    "duration": 0,
    "start_time": "2022-12-07T16:22:39.007Z"
   },
   {
    "duration": 0,
    "start_time": "2022-12-07T16:22:39.008Z"
   },
   {
    "duration": 0,
    "start_time": "2022-12-07T16:22:39.010Z"
   },
   {
    "duration": 0,
    "start_time": "2022-12-07T16:22:39.012Z"
   },
   {
    "duration": 0,
    "start_time": "2022-12-07T16:22:39.013Z"
   },
   {
    "duration": 0,
    "start_time": "2022-12-07T16:22:39.014Z"
   },
   {
    "duration": 0,
    "start_time": "2022-12-07T16:22:39.015Z"
   },
   {
    "duration": 0,
    "start_time": "2022-12-07T16:22:39.035Z"
   },
   {
    "duration": 0,
    "start_time": "2022-12-07T16:22:39.036Z"
   },
   {
    "duration": 0,
    "start_time": "2022-12-07T16:22:39.037Z"
   },
   {
    "duration": 0,
    "start_time": "2022-12-07T16:22:39.039Z"
   },
   {
    "duration": 0,
    "start_time": "2022-12-07T16:22:39.040Z"
   },
   {
    "duration": 0,
    "start_time": "2022-12-07T16:22:39.041Z"
   },
   {
    "duration": 0,
    "start_time": "2022-12-07T16:22:39.041Z"
   },
   {
    "duration": 0,
    "start_time": "2022-12-07T16:22:39.042Z"
   },
   {
    "duration": 0,
    "start_time": "2022-12-07T16:22:39.043Z"
   },
   {
    "duration": 0,
    "start_time": "2022-12-07T16:22:39.044Z"
   },
   {
    "duration": 0,
    "start_time": "2022-12-07T16:22:39.045Z"
   },
   {
    "duration": 0,
    "start_time": "2022-12-07T16:22:39.046Z"
   },
   {
    "duration": 0,
    "start_time": "2022-12-07T16:22:39.047Z"
   },
   {
    "duration": 0,
    "start_time": "2022-12-07T16:22:39.048Z"
   },
   {
    "duration": 0,
    "start_time": "2022-12-07T16:22:39.049Z"
   },
   {
    "duration": 12,
    "start_time": "2022-12-07T16:22:47.692Z"
   },
   {
    "duration": 36,
    "start_time": "2022-12-07T16:22:51.108Z"
   },
   {
    "duration": 52,
    "start_time": "2022-12-07T16:22:51.240Z"
   },
   {
    "duration": 22,
    "start_time": "2022-12-07T16:22:51.388Z"
   },
   {
    "duration": 13,
    "start_time": "2022-12-07T16:22:51.534Z"
   },
   {
    "duration": 6,
    "start_time": "2022-12-07T16:22:51.815Z"
   },
   {
    "duration": 16,
    "start_time": "2022-12-07T16:22:52.233Z"
   },
   {
    "duration": 15,
    "start_time": "2022-12-07T16:22:52.408Z"
   },
   {
    "duration": 11,
    "start_time": "2022-12-07T16:22:52.566Z"
   },
   {
    "duration": 7,
    "start_time": "2022-12-07T16:22:52.721Z"
   },
   {
    "duration": 9,
    "start_time": "2022-12-07T16:22:52.856Z"
   },
   {
    "duration": 11,
    "start_time": "2022-12-07T16:22:53.021Z"
   },
   {
    "duration": 26,
    "start_time": "2022-12-07T16:22:53.551Z"
   },
   {
    "duration": 3,
    "start_time": "2022-12-07T16:22:53.871Z"
   },
   {
    "duration": 18,
    "start_time": "2022-12-07T16:22:54.332Z"
   },
   {
    "duration": 6,
    "start_time": "2022-12-07T16:22:54.651Z"
   },
   {
    "duration": 20,
    "start_time": "2022-12-07T16:22:54.822Z"
   },
   {
    "duration": 255,
    "start_time": "2022-12-07T16:22:54.989Z"
   },
   {
    "duration": 14,
    "start_time": "2022-12-07T16:22:55.454Z"
   },
   {
    "duration": 173,
    "start_time": "2022-12-07T16:22:55.599Z"
   },
   {
    "duration": 17,
    "start_time": "2022-12-07T16:22:56.259Z"
   },
   {
    "duration": 101,
    "start_time": "2022-12-07T16:22:56.423Z"
   },
   {
    "duration": 15,
    "start_time": "2022-12-07T16:22:56.918Z"
   },
   {
    "duration": 342,
    "start_time": "2022-12-07T16:22:57.074Z"
   },
   {
    "duration": 27,
    "start_time": "2022-12-07T16:22:57.576Z"
   },
   {
    "duration": 446,
    "start_time": "2022-12-07T16:22:57.719Z"
   },
   {
    "duration": 2,
    "start_time": "2022-12-07T16:22:58.209Z"
   },
   {
    "duration": 242,
    "start_time": "2022-12-07T16:22:58.384Z"
   },
   {
    "duration": 7,
    "start_time": "2022-12-07T16:22:58.718Z"
   },
   {
    "duration": 19,
    "start_time": "2022-12-07T16:22:59.056Z"
   },
   {
    "duration": 350,
    "start_time": "2022-12-07T16:22:59.223Z"
   },
   {
    "duration": 20,
    "start_time": "2022-12-07T16:22:59.576Z"
   },
   {
    "duration": 119,
    "start_time": "2022-12-07T16:23:00.075Z"
   },
   {
    "duration": 13,
    "start_time": "2022-12-07T16:23:00.400Z"
   },
   {
    "duration": 1416,
    "start_time": "2022-12-07T16:23:43.890Z"
   },
   {
    "duration": 54,
    "start_time": "2022-12-07T16:23:45.308Z"
   },
   {
    "duration": 26,
    "start_time": "2022-12-07T16:23:45.363Z"
   },
   {
    "duration": 13,
    "start_time": "2022-12-07T16:23:45.391Z"
   },
   {
    "duration": 6,
    "start_time": "2022-12-07T16:23:45.405Z"
   },
   {
    "duration": 37,
    "start_time": "2022-12-07T16:23:45.412Z"
   },
   {
    "duration": 10,
    "start_time": "2022-12-07T16:23:45.450Z"
   },
   {
    "duration": 9,
    "start_time": "2022-12-07T16:23:45.461Z"
   },
   {
    "duration": 7,
    "start_time": "2022-12-07T16:23:45.474Z"
   },
   {
    "duration": 11,
    "start_time": "2022-12-07T16:23:45.484Z"
   },
   {
    "duration": 143,
    "start_time": "2022-12-07T16:23:45.497Z"
   },
   {
    "duration": 0,
    "start_time": "2022-12-07T16:23:45.641Z"
   },
   {
    "duration": 0,
    "start_time": "2022-12-07T16:23:45.642Z"
   },
   {
    "duration": 0,
    "start_time": "2022-12-07T16:23:45.643Z"
   },
   {
    "duration": 0,
    "start_time": "2022-12-07T16:23:45.644Z"
   },
   {
    "duration": 0,
    "start_time": "2022-12-07T16:23:45.645Z"
   },
   {
    "duration": 0,
    "start_time": "2022-12-07T16:23:45.646Z"
   },
   {
    "duration": 0,
    "start_time": "2022-12-07T16:23:45.647Z"
   },
   {
    "duration": 0,
    "start_time": "2022-12-07T16:23:45.649Z"
   },
   {
    "duration": 0,
    "start_time": "2022-12-07T16:23:45.649Z"
   },
   {
    "duration": 0,
    "start_time": "2022-12-07T16:23:45.651Z"
   },
   {
    "duration": 0,
    "start_time": "2022-12-07T16:23:45.652Z"
   },
   {
    "duration": 0,
    "start_time": "2022-12-07T16:23:45.653Z"
   },
   {
    "duration": 0,
    "start_time": "2022-12-07T16:23:45.654Z"
   },
   {
    "duration": 0,
    "start_time": "2022-12-07T16:23:45.655Z"
   },
   {
    "duration": 0,
    "start_time": "2022-12-07T16:23:45.656Z"
   },
   {
    "duration": 0,
    "start_time": "2022-12-07T16:23:45.657Z"
   },
   {
    "duration": 0,
    "start_time": "2022-12-07T16:23:45.658Z"
   },
   {
    "duration": 0,
    "start_time": "2022-12-07T16:23:45.659Z"
   },
   {
    "duration": 0,
    "start_time": "2022-12-07T16:23:45.660Z"
   },
   {
    "duration": 0,
    "start_time": "2022-12-07T16:23:45.661Z"
   },
   {
    "duration": 0,
    "start_time": "2022-12-07T16:23:45.662Z"
   },
   {
    "duration": 0,
    "start_time": "2022-12-07T16:23:45.663Z"
   },
   {
    "duration": 0,
    "start_time": "2022-12-07T16:23:45.664Z"
   },
   {
    "duration": 0,
    "start_time": "2022-12-07T16:23:45.665Z"
   },
   {
    "duration": 18,
    "start_time": "2022-12-07T16:23:52.194Z"
   },
   {
    "duration": 118,
    "start_time": "2022-12-07T16:23:52.993Z"
   },
   {
    "duration": 9860,
    "start_time": "2022-12-07T16:23:54.094Z"
   },
   {
    "duration": 36,
    "start_time": "2022-12-07T16:28:22.001Z"
   },
   {
    "duration": 59,
    "start_time": "2022-12-07T16:28:22.430Z"
   },
   {
    "duration": 28,
    "start_time": "2022-12-07T16:28:22.614Z"
   },
   {
    "duration": 15,
    "start_time": "2022-12-07T16:28:22.747Z"
   },
   {
    "duration": 6,
    "start_time": "2022-12-07T16:28:23.060Z"
   },
   {
    "duration": 16,
    "start_time": "2022-12-07T16:28:23.529Z"
   },
   {
    "duration": 11,
    "start_time": "2022-12-07T16:28:23.692Z"
   },
   {
    "duration": 10,
    "start_time": "2022-12-07T16:28:23.980Z"
   },
   {
    "duration": 6,
    "start_time": "2022-12-07T16:28:24.314Z"
   },
   {
    "duration": 8,
    "start_time": "2022-12-07T16:28:24.690Z"
   },
   {
    "duration": 11,
    "start_time": "2022-12-07T16:28:24.894Z"
   },
   {
    "duration": 25,
    "start_time": "2022-12-07T16:28:25.371Z"
   },
   {
    "duration": 2,
    "start_time": "2022-12-07T16:28:26.278Z"
   },
   {
    "duration": 18,
    "start_time": "2022-12-07T16:28:26.448Z"
   },
   {
    "duration": 9,
    "start_time": "2022-12-07T16:28:26.747Z"
   },
   {
    "duration": 185,
    "start_time": "2022-12-07T16:28:26.926Z"
   },
   {
    "duration": 189,
    "start_time": "2022-12-07T16:28:27.113Z"
   },
   {
    "duration": 13,
    "start_time": "2022-12-07T16:28:27.809Z"
   },
   {
    "duration": 172,
    "start_time": "2022-12-07T16:28:27.960Z"
   },
   {
    "duration": 16,
    "start_time": "2022-12-07T16:28:28.908Z"
   },
   {
    "duration": 99,
    "start_time": "2022-12-07T16:28:29.080Z"
   },
   {
    "duration": 15,
    "start_time": "2022-12-07T16:28:30.430Z"
   },
   {
    "duration": 360,
    "start_time": "2022-12-07T16:28:30.580Z"
   },
   {
    "duration": 28,
    "start_time": "2022-12-07T16:28:31.130Z"
   },
   {
    "duration": 403,
    "start_time": "2022-12-07T16:28:31.464Z"
   },
   {
    "duration": 2,
    "start_time": "2022-12-07T16:28:32.030Z"
   },
   {
    "duration": 237,
    "start_time": "2022-12-07T16:28:32.231Z"
   },
   {
    "duration": 7,
    "start_time": "2022-12-07T16:28:32.592Z"
   },
   {
    "duration": 19,
    "start_time": "2022-12-07T16:28:33.247Z"
   },
   {
    "duration": 330,
    "start_time": "2022-12-07T16:28:33.749Z"
   },
   {
    "duration": 17,
    "start_time": "2022-12-07T16:28:34.314Z"
   },
   {
    "duration": 112,
    "start_time": "2022-12-07T16:28:35.121Z"
   },
   {
    "duration": 9272,
    "start_time": "2022-12-07T16:28:36.393Z"
   },
   {
    "duration": 901,
    "start_time": "2022-12-07T16:45:20.101Z"
   },
   {
    "duration": 35,
    "start_time": "2022-12-07T16:46:43.258Z"
   },
   {
    "duration": 10266,
    "start_time": "2022-12-07T16:46:46.819Z"
   },
   {
    "duration": 35,
    "start_time": "2022-12-07T16:49:21.079Z"
   },
   {
    "duration": 47,
    "start_time": "2022-12-07T16:49:21.261Z"
   },
   {
    "duration": 31,
    "start_time": "2022-12-07T16:49:21.417Z"
   },
   {
    "duration": 13,
    "start_time": "2022-12-07T16:49:21.578Z"
   },
   {
    "duration": 7,
    "start_time": "2022-12-07T16:49:21.892Z"
   },
   {
    "duration": 21,
    "start_time": "2022-12-07T16:49:22.333Z"
   },
   {
    "duration": 14,
    "start_time": "2022-12-07T16:49:22.476Z"
   },
   {
    "duration": 15,
    "start_time": "2022-12-07T16:49:22.650Z"
   },
   {
    "duration": 6,
    "start_time": "2022-12-07T16:49:22.801Z"
   },
   {
    "duration": 15,
    "start_time": "2022-12-07T16:49:22.927Z"
   },
   {
    "duration": 16,
    "start_time": "2022-12-07T16:49:23.067Z"
   },
   {
    "duration": 25,
    "start_time": "2022-12-07T16:49:23.501Z"
   },
   {
    "duration": 2,
    "start_time": "2022-12-07T16:49:23.795Z"
   },
   {
    "duration": 22,
    "start_time": "2022-12-07T16:49:23.954Z"
   },
   {
    "duration": 7,
    "start_time": "2022-12-07T16:49:24.253Z"
   },
   {
    "duration": 18,
    "start_time": "2022-12-07T16:49:24.394Z"
   },
   {
    "duration": 172,
    "start_time": "2022-12-07T16:49:24.534Z"
   },
   {
    "duration": 14,
    "start_time": "2022-12-07T16:49:25.018Z"
   },
   {
    "duration": 187,
    "start_time": "2022-12-07T16:49:25.166Z"
   },
   {
    "duration": 20,
    "start_time": "2022-12-07T16:49:25.762Z"
   },
   {
    "duration": 108,
    "start_time": "2022-12-07T16:49:25.900Z"
   },
   {
    "duration": 20,
    "start_time": "2022-12-07T16:49:26.367Z"
   },
   {
    "duration": 380,
    "start_time": "2022-12-07T16:49:26.662Z"
   },
   {
    "duration": 38,
    "start_time": "2022-12-07T16:49:27.118Z"
   },
   {
    "duration": 468,
    "start_time": "2022-12-07T16:49:27.286Z"
   },
   {
    "duration": 3,
    "start_time": "2022-12-07T16:49:27.757Z"
   },
   {
    "duration": 288,
    "start_time": "2022-12-07T16:49:27.901Z"
   },
   {
    "duration": 8,
    "start_time": "2022-12-07T16:49:28.243Z"
   },
   {
    "duration": 21,
    "start_time": "2022-12-07T16:49:28.601Z"
   },
   {
    "duration": 376,
    "start_time": "2022-12-07T16:49:29.018Z"
   },
   {
    "duration": 19,
    "start_time": "2022-12-07T16:49:29.396Z"
   },
   {
    "duration": 116,
    "start_time": "2022-12-07T16:49:30.214Z"
   },
   {
    "duration": 10700,
    "start_time": "2022-12-07T16:50:08.801Z"
   },
   {
    "duration": 634,
    "start_time": "2022-12-07T16:53:54.919Z"
   },
   {
    "duration": 16,
    "start_time": "2022-12-07T16:54:17.465Z"
   },
   {
    "duration": 3,
    "start_time": "2022-12-07T16:54:39.411Z"
   },
   {
    "duration": 15,
    "start_time": "2022-12-07T16:54:42.734Z"
   },
   {
    "duration": 12,
    "start_time": "2022-12-07T16:55:05.986Z"
   },
   {
    "duration": 39,
    "start_time": "2022-12-07T16:55:14.846Z"
   },
   {
    "duration": 21,
    "start_time": "2022-12-07T16:55:28.298Z"
   },
   {
    "duration": 22,
    "start_time": "2022-12-07T17:27:26.440Z"
   },
   {
    "duration": 31,
    "start_time": "2022-12-07T17:27:35.257Z"
   },
   {
    "duration": 26,
    "start_time": "2022-12-07T17:27:42.276Z"
   },
   {
    "duration": 887,
    "start_time": "2022-12-07T17:35:45.069Z"
   },
   {
    "duration": 162,
    "start_time": "2022-12-07T17:35:56.011Z"
   },
   {
    "duration": 48,
    "start_time": "2022-12-07T17:36:09.695Z"
   },
   {
    "duration": 35,
    "start_time": "2022-12-07T20:24:47.640Z"
   },
   {
    "duration": 48,
    "start_time": "2022-12-07T20:24:47.776Z"
   },
   {
    "duration": 24,
    "start_time": "2022-12-07T20:24:47.921Z"
   },
   {
    "duration": 14,
    "start_time": "2022-12-07T20:24:48.064Z"
   },
   {
    "duration": 7,
    "start_time": "2022-12-07T20:24:48.350Z"
   },
   {
    "duration": 15,
    "start_time": "2022-12-07T20:24:48.777Z"
   },
   {
    "duration": 12,
    "start_time": "2022-12-07T20:24:49.083Z"
   },
   {
    "duration": 3,
    "start_time": "2022-12-07T20:24:49.229Z"
   },
   {
    "duration": 3,
    "start_time": "2022-12-07T20:24:49.383Z"
   },
   {
    "duration": 11,
    "start_time": "2022-12-07T20:24:49.527Z"
   },
   {
    "duration": 36,
    "start_time": "2022-12-07T20:24:49.700Z"
   },
   {
    "duration": 25,
    "start_time": "2022-12-07T20:24:50.167Z"
   },
   {
    "duration": 2,
    "start_time": "2022-12-07T20:24:50.654Z"
   },
   {
    "duration": 21,
    "start_time": "2022-12-07T20:24:50.944Z"
   },
   {
    "duration": 9,
    "start_time": "2022-12-07T20:24:51.260Z"
   },
   {
    "duration": 25,
    "start_time": "2022-12-07T20:24:51.400Z"
   },
   {
    "duration": 178,
    "start_time": "2022-12-07T20:24:51.564Z"
   },
   {
    "duration": 14,
    "start_time": "2022-12-07T20:24:52.068Z"
   },
   {
    "duration": 226,
    "start_time": "2022-12-07T20:24:52.235Z"
   },
   {
    "duration": 17,
    "start_time": "2022-12-07T20:24:52.880Z"
   },
   {
    "duration": 111,
    "start_time": "2022-12-07T20:24:53.051Z"
   },
   {
    "duration": 21,
    "start_time": "2022-12-07T20:24:53.597Z"
   },
   {
    "duration": 348,
    "start_time": "2022-12-07T20:24:53.777Z"
   },
   {
    "duration": 30,
    "start_time": "2022-12-07T20:24:54.485Z"
   },
   {
    "duration": 450,
    "start_time": "2022-12-07T20:24:54.660Z"
   },
   {
    "duration": 3,
    "start_time": "2022-12-07T20:24:55.364Z"
   },
   {
    "duration": 264,
    "start_time": "2022-12-07T20:24:55.581Z"
   },
   {
    "duration": 8,
    "start_time": "2022-12-07T20:24:56.188Z"
   },
   {
    "duration": 23,
    "start_time": "2022-12-07T20:24:56.952Z"
   },
   {
    "duration": 373,
    "start_time": "2022-12-07T20:24:57.130Z"
   },
   {
    "duration": 41,
    "start_time": "2022-12-07T20:24:57.506Z"
   },
   {
    "duration": 117,
    "start_time": "2022-12-07T20:24:58.946Z"
   },
   {
    "duration": 23,
    "start_time": "2022-12-07T20:25:04.730Z"
   },
   {
    "duration": 23,
    "start_time": "2022-12-07T20:25:18.175Z"
   },
   {
    "duration": 23,
    "start_time": "2022-12-07T20:25:48.987Z"
   },
   {
    "duration": 24,
    "start_time": "2022-12-07T20:26:14.074Z"
   },
   {
    "duration": 23,
    "start_time": "2022-12-07T20:26:30.198Z"
   },
   {
    "duration": 13491,
    "start_time": "2022-12-07T20:27:21.100Z"
   },
   {
    "duration": 1423,
    "start_time": "2022-12-07T20:32:02.858Z"
   },
   {
    "duration": 4,
    "start_time": "2022-12-07T20:34:04.447Z"
   },
   {
    "duration": 5,
    "start_time": "2022-12-07T20:34:10.533Z"
   },
   {
    "duration": 6,
    "start_time": "2022-12-07T20:35:56.713Z"
   },
   {
    "duration": 25,
    "start_time": "2022-12-07T20:37:41.169Z"
   },
   {
    "duration": 25,
    "start_time": "2022-12-07T20:37:45.393Z"
   },
   {
    "duration": 425,
    "start_time": "2022-12-07T20:37:50.663Z"
   },
   {
    "duration": 41,
    "start_time": "2022-12-07T20:39:18.921Z"
   },
   {
    "duration": 5,
    "start_time": "2022-12-07T20:39:24.959Z"
   },
   {
    "duration": 30,
    "start_time": "2022-12-07T20:40:15.346Z"
   },
   {
    "duration": 27,
    "start_time": "2022-12-07T20:40:27.242Z"
   },
   {
    "duration": 1766,
    "start_time": "2022-12-08T18:51:55.395Z"
   },
   {
    "duration": 113,
    "start_time": "2022-12-08T18:51:57.163Z"
   },
   {
    "duration": 35,
    "start_time": "2022-12-08T18:51:57.278Z"
   },
   {
    "duration": 14,
    "start_time": "2022-12-08T18:51:57.314Z"
   },
   {
    "duration": 6,
    "start_time": "2022-12-08T18:51:57.330Z"
   },
   {
    "duration": 19,
    "start_time": "2022-12-08T18:51:57.337Z"
   },
   {
    "duration": 10,
    "start_time": "2022-12-08T18:51:57.357Z"
   },
   {
    "duration": 9,
    "start_time": "2022-12-08T18:51:57.369Z"
   },
   {
    "duration": 28,
    "start_time": "2022-12-08T18:51:57.380Z"
   },
   {
    "duration": 11,
    "start_time": "2022-12-08T18:51:57.410Z"
   },
   {
    "duration": 30,
    "start_time": "2022-12-08T18:51:57.423Z"
   },
   {
    "duration": 24,
    "start_time": "2022-12-08T18:51:57.455Z"
   },
   {
    "duration": 24,
    "start_time": "2022-12-08T18:51:57.480Z"
   },
   {
    "duration": 20,
    "start_time": "2022-12-08T18:51:57.509Z"
   },
   {
    "duration": 8,
    "start_time": "2022-12-08T18:51:57.530Z"
   },
   {
    "duration": 20,
    "start_time": "2022-12-08T18:51:57.540Z"
   },
   {
    "duration": 172,
    "start_time": "2022-12-08T18:51:57.561Z"
   },
   {
    "duration": 13,
    "start_time": "2022-12-08T18:51:57.735Z"
   },
   {
    "duration": 176,
    "start_time": "2022-12-08T18:51:57.749Z"
   },
   {
    "duration": 16,
    "start_time": "2022-12-08T18:51:57.927Z"
   },
   {
    "duration": 174,
    "start_time": "2022-12-08T18:51:57.944Z"
   },
   {
    "duration": 14,
    "start_time": "2022-12-08T18:51:58.120Z"
   },
   {
    "duration": 398,
    "start_time": "2022-12-08T18:51:58.135Z"
   },
   {
    "duration": 26,
    "start_time": "2022-12-08T18:51:58.534Z"
   },
   {
    "duration": 48,
    "start_time": "2022-12-08T18:51:58.562Z"
   },
   {
    "duration": 429,
    "start_time": "2022-12-08T18:51:58.612Z"
   },
   {
    "duration": 2,
    "start_time": "2022-12-08T18:51:59.042Z"
   },
   {
    "duration": 238,
    "start_time": "2022-12-08T18:51:59.046Z"
   },
   {
    "duration": 21,
    "start_time": "2022-12-08T18:51:59.286Z"
   },
   {
    "duration": 25,
    "start_time": "2022-12-08T18:51:59.313Z"
   },
   {
    "duration": 371,
    "start_time": "2022-12-08T18:51:59.340Z"
   },
   {
    "duration": 20,
    "start_time": "2022-12-08T18:51:59.712Z"
   },
   {
    "duration": 148,
    "start_time": "2022-12-08T18:51:59.733Z"
   },
   {
    "duration": 13562,
    "start_time": "2022-12-08T18:51:59.883Z"
   },
   {
    "duration": 56,
    "start_time": "2022-12-08T18:52:13.448Z"
   },
   {
    "duration": 487,
    "start_time": "2022-12-08T18:52:13.505Z"
   },
   {
    "duration": 34,
    "start_time": "2022-12-08T18:52:13.996Z"
   },
   {
    "duration": 41,
    "start_time": "2022-12-08T18:52:14.032Z"
   },
   {
    "duration": 24,
    "start_time": "2022-12-08T19:04:19.253Z"
   },
   {
    "duration": 73,
    "start_time": "2022-12-08T19:04:47.795Z"
   },
   {
    "duration": 60,
    "start_time": "2022-12-08T19:05:04.703Z"
   },
   {
    "duration": 2,
    "start_time": "2022-12-08T19:05:11.083Z"
   },
   {
    "duration": 18,
    "start_time": "2022-12-08T19:05:20.473Z"
   },
   {
    "duration": 241,
    "start_time": "2022-12-08T19:05:22.397Z"
   },
   {
    "duration": 1733,
    "start_time": "2022-12-10T09:39:35.730Z"
   },
   {
    "duration": 194,
    "start_time": "2022-12-10T09:39:37.465Z"
   },
   {
    "duration": 27,
    "start_time": "2022-12-10T09:39:37.661Z"
   },
   {
    "duration": 14,
    "start_time": "2022-12-10T09:39:37.690Z"
   },
   {
    "duration": 7,
    "start_time": "2022-12-10T09:39:37.705Z"
   },
   {
    "duration": 19,
    "start_time": "2022-12-10T09:39:37.714Z"
   },
   {
    "duration": 44,
    "start_time": "2022-12-10T09:39:37.735Z"
   },
   {
    "duration": 6,
    "start_time": "2022-12-10T09:39:37.781Z"
   },
   {
    "duration": 8,
    "start_time": "2022-12-10T09:39:37.789Z"
   },
   {
    "duration": 14,
    "start_time": "2022-12-10T09:39:37.801Z"
   },
   {
    "duration": 41,
    "start_time": "2022-12-10T09:39:37.816Z"
   },
   {
    "duration": 20,
    "start_time": "2022-12-10T09:39:37.859Z"
   },
   {
    "duration": 28,
    "start_time": "2022-12-10T09:39:37.881Z"
   },
   {
    "duration": 5,
    "start_time": "2022-12-10T09:39:37.911Z"
   },
   {
    "duration": 29,
    "start_time": "2022-12-10T09:39:37.917Z"
   },
   {
    "duration": 13,
    "start_time": "2022-12-10T09:39:37.948Z"
   },
   {
    "duration": 32,
    "start_time": "2022-12-10T09:39:37.963Z"
   },
   {
    "duration": 172,
    "start_time": "2022-12-10T09:39:37.997Z"
   },
   {
    "duration": 18,
    "start_time": "2022-12-10T09:39:38.171Z"
   },
   {
    "duration": 236,
    "start_time": "2022-12-10T09:39:38.190Z"
   },
   {
    "duration": 17,
    "start_time": "2022-12-10T09:39:38.428Z"
   },
   {
    "duration": 112,
    "start_time": "2022-12-10T09:39:38.446Z"
   },
   {
    "duration": 22,
    "start_time": "2022-12-10T09:39:38.560Z"
   },
   {
    "duration": 400,
    "start_time": "2022-12-10T09:39:38.584Z"
   },
   {
    "duration": 27,
    "start_time": "2022-12-10T09:39:38.986Z"
   },
   {
    "duration": 25,
    "start_time": "2022-12-10T09:39:39.015Z"
   },
   {
    "duration": 466,
    "start_time": "2022-12-10T09:39:39.041Z"
   },
   {
    "duration": 2,
    "start_time": "2022-12-10T09:39:39.510Z"
   },
   {
    "duration": 248,
    "start_time": "2022-12-10T09:39:39.514Z"
   },
   {
    "duration": 7,
    "start_time": "2022-12-10T09:39:39.764Z"
   },
   {
    "duration": 20,
    "start_time": "2022-12-10T09:39:39.779Z"
   },
   {
    "duration": 369,
    "start_time": "2022-12-10T09:39:39.801Z"
   },
   {
    "duration": 22,
    "start_time": "2022-12-10T09:39:40.177Z"
   },
   {
    "duration": 140,
    "start_time": "2022-12-10T09:39:40.200Z"
   },
   {
    "duration": 13555,
    "start_time": "2022-12-10T09:39:40.343Z"
   },
   {
    "duration": 21,
    "start_time": "2022-12-10T09:39:53.900Z"
   },
   {
    "duration": 539,
    "start_time": "2022-12-10T09:39:53.923Z"
   },
   {
    "duration": 42,
    "start_time": "2022-12-10T09:39:54.464Z"
   },
   {
    "duration": 42,
    "start_time": "2022-12-10T09:39:54.508Z"
   },
   {
    "duration": 17641,
    "start_time": "2022-12-10T09:42:51.076Z"
   },
   {
    "duration": 364,
    "start_time": "2022-12-10T09:44:05.161Z"
   },
   {
    "duration": 1474,
    "start_time": "2022-12-10T09:45:36.077Z"
   },
   {
    "duration": 50,
    "start_time": "2022-12-10T09:45:37.553Z"
   },
   {
    "duration": 34,
    "start_time": "2022-12-10T09:45:37.605Z"
   },
   {
    "duration": 28,
    "start_time": "2022-12-10T09:45:37.641Z"
   },
   {
    "duration": 15,
    "start_time": "2022-12-10T09:45:37.670Z"
   },
   {
    "duration": 39,
    "start_time": "2022-12-10T09:45:37.686Z"
   },
   {
    "duration": 22,
    "start_time": "2022-12-10T09:45:37.727Z"
   },
   {
    "duration": 8,
    "start_time": "2022-12-10T09:45:37.751Z"
   },
   {
    "duration": 13,
    "start_time": "2022-12-10T09:45:37.761Z"
   },
   {
    "duration": 26,
    "start_time": "2022-12-10T09:45:37.777Z"
   },
   {
    "duration": 51,
    "start_time": "2022-12-10T09:45:37.804Z"
   },
   {
    "duration": 2,
    "start_time": "2022-12-10T09:45:37.857Z"
   },
   {
    "duration": 31,
    "start_time": "2022-12-10T09:45:37.861Z"
   },
   {
    "duration": 15,
    "start_time": "2022-12-10T09:45:37.894Z"
   },
   {
    "duration": 31,
    "start_time": "2022-12-10T09:45:37.911Z"
   },
   {
    "duration": 17,
    "start_time": "2022-12-10T09:45:37.944Z"
   },
   {
    "duration": 49,
    "start_time": "2022-12-10T09:45:37.963Z"
   },
   {
    "duration": 155,
    "start_time": "2022-12-10T09:45:38.014Z"
   },
   {
    "duration": 15,
    "start_time": "2022-12-10T09:45:38.170Z"
   },
   {
    "duration": 249,
    "start_time": "2022-12-10T09:45:38.187Z"
   },
   {
    "duration": 18,
    "start_time": "2022-12-10T09:45:38.438Z"
   },
   {
    "duration": 102,
    "start_time": "2022-12-10T09:45:38.458Z"
   },
   {
    "duration": 26,
    "start_time": "2022-12-10T09:45:38.561Z"
   },
   {
    "duration": 435,
    "start_time": "2022-12-10T09:45:38.589Z"
   },
   {
    "duration": 23,
    "start_time": "2022-12-10T09:45:39.027Z"
   },
   {
    "duration": 452,
    "start_time": "2022-12-10T09:45:39.052Z"
   },
   {
    "duration": 3,
    "start_time": "2022-12-10T09:45:39.505Z"
   },
   {
    "duration": 257,
    "start_time": "2022-12-10T09:45:39.511Z"
   },
   {
    "duration": 9,
    "start_time": "2022-12-10T09:45:39.770Z"
   },
   {
    "duration": 28,
    "start_time": "2022-12-10T09:45:39.781Z"
   },
   {
    "duration": 357,
    "start_time": "2022-12-10T09:45:39.811Z"
   },
   {
    "duration": 22,
    "start_time": "2022-12-10T09:45:40.170Z"
   },
   {
    "duration": 138,
    "start_time": "2022-12-10T09:45:40.194Z"
   },
   {
    "duration": 13753,
    "start_time": "2022-12-10T09:45:40.334Z"
   },
   {
    "duration": 28,
    "start_time": "2022-12-10T09:45:54.090Z"
   },
   {
    "duration": 521,
    "start_time": "2022-12-10T09:45:54.120Z"
   },
   {
    "duration": 47384,
    "start_time": "2022-12-10T09:45:54.643Z"
   },
   {
    "duration": 27,
    "start_time": "2022-12-10T09:46:42.028Z"
   },
   {
    "duration": 71,
    "start_time": "2022-12-10T09:46:42.057Z"
   },
   {
    "duration": 22,
    "start_time": "2022-12-10T09:51:52.966Z"
   },
   {
    "duration": 89309,
    "start_time": "2022-12-10T09:53:56.197Z"
   },
   {
    "duration": 1456,
    "start_time": "2022-12-10T12:08:14.792Z"
   },
   {
    "duration": 56,
    "start_time": "2022-12-10T12:08:16.249Z"
   },
   {
    "duration": 29,
    "start_time": "2022-12-10T12:08:16.307Z"
   },
   {
    "duration": 45,
    "start_time": "2022-12-10T12:08:16.338Z"
   },
   {
    "duration": 28,
    "start_time": "2022-12-10T12:08:16.385Z"
   },
   {
    "duration": 45,
    "start_time": "2022-12-10T12:08:16.414Z"
   },
   {
    "duration": 24,
    "start_time": "2022-12-10T12:08:16.461Z"
   },
   {
    "duration": 48,
    "start_time": "2022-12-10T12:08:16.486Z"
   },
   {
    "duration": 48,
    "start_time": "2022-12-10T12:08:16.536Z"
   },
   {
    "duration": 24,
    "start_time": "2022-12-10T12:08:16.588Z"
   },
   {
    "duration": 79,
    "start_time": "2022-12-10T12:08:16.614Z"
   },
   {
    "duration": 3,
    "start_time": "2022-12-10T12:08:16.695Z"
   },
   {
    "duration": 43,
    "start_time": "2022-12-10T12:08:16.700Z"
   },
   {
    "duration": 48,
    "start_time": "2022-12-10T12:08:16.744Z"
   },
   {
    "duration": 58,
    "start_time": "2022-12-10T12:08:16.794Z"
   },
   {
    "duration": 38,
    "start_time": "2022-12-10T12:08:16.854Z"
   },
   {
    "duration": 44,
    "start_time": "2022-12-10T12:08:16.894Z"
   },
   {
    "duration": 193,
    "start_time": "2022-12-10T12:08:16.940Z"
   },
   {
    "duration": 13,
    "start_time": "2022-12-10T12:08:17.134Z"
   },
   {
    "duration": 266,
    "start_time": "2022-12-10T12:08:17.148Z"
   },
   {
    "duration": 16,
    "start_time": "2022-12-10T12:08:17.416Z"
   },
   {
    "duration": 133,
    "start_time": "2022-12-10T12:08:17.434Z"
   },
   {
    "duration": 20,
    "start_time": "2022-12-10T12:08:17.569Z"
   },
   {
    "duration": 343,
    "start_time": "2022-12-10T12:08:17.591Z"
   },
   {
    "duration": 24,
    "start_time": "2022-12-10T12:08:17.936Z"
   },
   {
    "duration": 454,
    "start_time": "2022-12-10T12:08:17.962Z"
   },
   {
    "duration": 2,
    "start_time": "2022-12-10T12:08:18.418Z"
   },
   {
    "duration": 242,
    "start_time": "2022-12-10T12:08:18.423Z"
   },
   {
    "duration": 13,
    "start_time": "2022-12-10T12:08:18.667Z"
   },
   {
    "duration": 25,
    "start_time": "2022-12-10T12:08:18.682Z"
   },
   {
    "duration": 371,
    "start_time": "2022-12-10T12:08:18.709Z"
   },
   {
    "duration": 19,
    "start_time": "2022-12-10T12:08:19.082Z"
   },
   {
    "duration": 169,
    "start_time": "2022-12-10T12:08:19.103Z"
   },
   {
    "duration": 14450,
    "start_time": "2022-12-10T12:08:19.274Z"
   },
   {
    "duration": 52,
    "start_time": "2022-12-10T12:08:33.727Z"
   },
   {
    "duration": 513,
    "start_time": "2022-12-10T12:08:33.781Z"
   },
   {
    "duration": 27524,
    "start_time": "2022-12-10T12:08:34.296Z"
   },
   {
    "duration": 33,
    "start_time": "2022-12-10T12:09:01.822Z"
   },
   {
    "duration": 62,
    "start_time": "2022-12-10T12:09:01.856Z"
   },
   {
    "duration": 16,
    "start_time": "2022-12-10T12:13:39.093Z"
   },
   {
    "duration": 16,
    "start_time": "2022-12-10T12:13:47.819Z"
   },
   {
    "duration": 16,
    "start_time": "2022-12-10T12:13:51.352Z"
   },
   {
    "duration": 16,
    "start_time": "2022-12-10T12:14:04.869Z"
   },
   {
    "duration": 250,
    "start_time": "2022-12-10T12:14:35.658Z"
   },
   {
    "duration": 208,
    "start_time": "2022-12-10T14:29:49.287Z"
   },
   {
    "duration": 111,
    "start_time": "2022-12-10T14:35:16.359Z"
   },
   {
    "duration": 19,
    "start_time": "2022-12-10T14:35:25.800Z"
   },
   {
    "duration": 158,
    "start_time": "2022-12-10T14:35:33.154Z"
   },
   {
    "duration": 17,
    "start_time": "2022-12-10T14:36:27.550Z"
   },
   {
    "duration": 20,
    "start_time": "2022-12-10T14:36:34.097Z"
   },
   {
    "duration": 1738,
    "start_time": "2022-12-10T14:36:43.680Z"
   },
   {
    "duration": 54,
    "start_time": "2022-12-10T14:36:45.420Z"
   },
   {
    "duration": 34,
    "start_time": "2022-12-10T14:36:45.476Z"
   },
   {
    "duration": 16,
    "start_time": "2022-12-10T14:36:45.512Z"
   },
   {
    "duration": 6,
    "start_time": "2022-12-10T14:36:45.529Z"
   },
   {
    "duration": 46,
    "start_time": "2022-12-10T14:36:45.537Z"
   },
   {
    "duration": 16,
    "start_time": "2022-12-10T14:36:45.588Z"
   },
   {
    "duration": 3,
    "start_time": "2022-12-10T14:36:45.605Z"
   },
   {
    "duration": 9,
    "start_time": "2022-12-10T14:36:45.610Z"
   },
   {
    "duration": 16,
    "start_time": "2022-12-10T14:36:45.623Z"
   },
   {
    "duration": 69,
    "start_time": "2022-12-10T14:36:45.641Z"
   },
   {
    "duration": 3,
    "start_time": "2022-12-10T14:36:45.711Z"
   },
   {
    "duration": 34,
    "start_time": "2022-12-10T14:36:45.715Z"
   },
   {
    "duration": 24,
    "start_time": "2022-12-10T14:36:45.752Z"
   },
   {
    "duration": 45,
    "start_time": "2022-12-10T14:36:45.780Z"
   },
   {
    "duration": 12,
    "start_time": "2022-12-10T14:36:45.827Z"
   },
   {
    "duration": 25,
    "start_time": "2022-12-10T14:36:45.840Z"
   },
   {
    "duration": 190,
    "start_time": "2022-12-10T14:36:45.867Z"
   },
   {
    "duration": 27,
    "start_time": "2022-12-10T14:36:46.059Z"
   },
   {
    "duration": 260,
    "start_time": "2022-12-10T14:36:46.088Z"
   },
   {
    "duration": 17,
    "start_time": "2022-12-10T14:36:46.350Z"
   },
   {
    "duration": 110,
    "start_time": "2022-12-10T14:36:46.383Z"
   },
   {
    "duration": 14,
    "start_time": "2022-12-10T14:36:46.495Z"
   },
   {
    "duration": 336,
    "start_time": "2022-12-10T14:36:46.511Z"
   },
   {
    "duration": 43,
    "start_time": "2022-12-10T14:36:46.849Z"
   },
   {
    "duration": 428,
    "start_time": "2022-12-10T14:36:46.894Z"
   },
   {
    "duration": 2,
    "start_time": "2022-12-10T14:36:47.324Z"
   },
   {
    "duration": 264,
    "start_time": "2022-12-10T14:36:47.329Z"
   },
   {
    "duration": 7,
    "start_time": "2022-12-10T14:36:47.595Z"
   },
   {
    "duration": 25,
    "start_time": "2022-12-10T14:36:47.603Z"
   },
   {
    "duration": 349,
    "start_time": "2022-12-10T14:36:47.630Z"
   },
   {
    "duration": 31,
    "start_time": "2022-12-10T14:36:47.983Z"
   },
   {
    "duration": 140,
    "start_time": "2022-12-10T14:36:48.016Z"
   },
   {
    "duration": 13654,
    "start_time": "2022-12-10T14:36:48.158Z"
   },
   {
    "duration": 19,
    "start_time": "2022-12-10T14:37:01.814Z"
   },
   {
    "duration": 552,
    "start_time": "2022-12-10T14:37:01.835Z"
   },
   {
    "duration": 36,
    "start_time": "2022-12-10T14:37:02.407Z"
   },
   {
    "duration": 46,
    "start_time": "2022-12-10T14:37:02.444Z"
   },
   {
    "duration": 493,
    "start_time": "2022-12-10T14:37:02.493Z"
   },
   {
    "duration": 17,
    "start_time": "2022-12-10T14:38:01.593Z"
   },
   {
    "duration": 130,
    "start_time": "2022-12-10T14:38:28.209Z"
   },
   {
    "duration": 17,
    "start_time": "2022-12-10T14:39:30.652Z"
   },
   {
    "duration": 18,
    "start_time": "2022-12-10T14:39:39.200Z"
   },
   {
    "duration": 680,
    "start_time": "2022-12-10T14:39:48.351Z"
   },
   {
    "duration": 1623,
    "start_time": "2022-12-10T14:40:05.919Z"
   },
   {
    "duration": 69,
    "start_time": "2022-12-10T14:40:07.544Z"
   },
   {
    "duration": 38,
    "start_time": "2022-12-10T14:40:07.615Z"
   },
   {
    "duration": 22,
    "start_time": "2022-12-10T14:40:07.656Z"
   },
   {
    "duration": 10,
    "start_time": "2022-12-10T14:40:07.684Z"
   },
   {
    "duration": 23,
    "start_time": "2022-12-10T14:40:07.696Z"
   },
   {
    "duration": 10,
    "start_time": "2022-12-10T14:40:07.721Z"
   },
   {
    "duration": 8,
    "start_time": "2022-12-10T14:40:07.732Z"
   },
   {
    "duration": 9,
    "start_time": "2022-12-10T14:40:07.741Z"
   },
   {
    "duration": 10,
    "start_time": "2022-12-10T14:40:07.753Z"
   },
   {
    "duration": 75,
    "start_time": "2022-12-10T14:40:07.765Z"
   },
   {
    "duration": 3,
    "start_time": "2022-12-10T14:40:07.842Z"
   },
   {
    "duration": 47,
    "start_time": "2022-12-10T14:40:07.847Z"
   },
   {
    "duration": 14,
    "start_time": "2022-12-10T14:40:07.896Z"
   },
   {
    "duration": 35,
    "start_time": "2022-12-10T14:40:07.912Z"
   },
   {
    "duration": 15,
    "start_time": "2022-12-10T14:40:07.949Z"
   },
   {
    "duration": 52,
    "start_time": "2022-12-10T14:40:07.967Z"
   },
   {
    "duration": 166,
    "start_time": "2022-12-10T14:40:08.021Z"
   },
   {
    "duration": 17,
    "start_time": "2022-12-10T14:40:08.191Z"
   },
   {
    "duration": 251,
    "start_time": "2022-12-10T14:40:08.210Z"
   },
   {
    "duration": 32,
    "start_time": "2022-12-10T14:40:08.463Z"
   },
   {
    "duration": 128,
    "start_time": "2022-12-10T14:40:08.497Z"
   },
   {
    "duration": 15,
    "start_time": "2022-12-10T14:40:08.626Z"
   },
   {
    "duration": 400,
    "start_time": "2022-12-10T14:40:08.642Z"
   },
   {
    "duration": 43,
    "start_time": "2022-12-10T14:40:09.044Z"
   },
   {
    "duration": 436,
    "start_time": "2022-12-10T14:40:09.089Z"
   },
   {
    "duration": 2,
    "start_time": "2022-12-10T14:40:09.527Z"
   },
   {
    "duration": 261,
    "start_time": "2022-12-10T14:40:09.532Z"
   },
   {
    "duration": 6,
    "start_time": "2022-12-10T14:40:09.795Z"
   },
   {
    "duration": 22,
    "start_time": "2022-12-10T14:40:09.803Z"
   },
   {
    "duration": 363,
    "start_time": "2022-12-10T14:40:09.827Z"
   },
   {
    "duration": 23,
    "start_time": "2022-12-10T14:40:10.191Z"
   },
   {
    "duration": 136,
    "start_time": "2022-12-10T14:40:10.216Z"
   },
   {
    "duration": 14138,
    "start_time": "2022-12-10T14:40:10.354Z"
   },
   {
    "duration": 23,
    "start_time": "2022-12-10T14:40:24.494Z"
   },
   {
    "duration": 516,
    "start_time": "2022-12-10T14:40:24.519Z"
   },
   {
    "duration": 526,
    "start_time": "2022-12-10T14:40:25.037Z"
   },
   {
    "duration": 30,
    "start_time": "2022-12-10T14:40:25.565Z"
   },
   {
    "duration": 51,
    "start_time": "2022-12-10T14:40:25.597Z"
   },
   {
    "duration": 55,
    "start_time": "2022-12-10T14:40:25.649Z"
   },
   {
    "duration": 24,
    "start_time": "2022-12-10T14:50:42.867Z"
   },
   {
    "duration": 72,
    "start_time": "2022-12-10T14:55:01.607Z"
   },
   {
    "duration": 77,
    "start_time": "2022-12-10T14:55:30.050Z"
   },
   {
    "duration": 138,
    "start_time": "2022-12-10T14:55:31.059Z"
   },
   {
    "duration": 21,
    "start_time": "2022-12-10T14:55:39.815Z"
   },
   {
    "duration": 25,
    "start_time": "2022-12-10T14:55:43.391Z"
   },
   {
    "duration": 16,
    "start_time": "2022-12-10T14:56:35.589Z"
   },
   {
    "duration": 37,
    "start_time": "2022-12-10T14:56:48.050Z"
   },
   {
    "duration": 29,
    "start_time": "2022-12-10T14:57:00.019Z"
   },
   {
    "duration": 28,
    "start_time": "2022-12-10T15:01:56.112Z"
   },
   {
    "duration": 23,
    "start_time": "2022-12-10T15:02:00.279Z"
   },
   {
    "duration": 30,
    "start_time": "2022-12-10T15:02:17.208Z"
   },
   {
    "duration": 10532,
    "start_time": "2022-12-10T15:02:41.378Z"
   },
   {
    "duration": 14624,
    "start_time": "2022-12-10T15:04:04.793Z"
   },
   {
    "duration": 11,
    "start_time": "2022-12-10T15:04:34.591Z"
   },
   {
    "duration": 11,
    "start_time": "2022-12-10T15:04:53.612Z"
   },
   {
    "duration": 9,
    "start_time": "2022-12-10T15:04:59.102Z"
   },
   {
    "duration": 11,
    "start_time": "2022-12-10T15:05:08.115Z"
   },
   {
    "duration": 10,
    "start_time": "2022-12-10T15:05:12.378Z"
   },
   {
    "duration": 6,
    "start_time": "2022-12-10T15:05:32.701Z"
   },
   {
    "duration": 21,
    "start_time": "2022-12-10T15:09:26.059Z"
   },
   {
    "duration": 68,
    "start_time": "2022-12-10T15:10:21.273Z"
   },
   {
    "duration": 269,
    "start_time": "2022-12-10T15:10:25.641Z"
   },
   {
    "duration": 221,
    "start_time": "2022-12-10T15:10:42.769Z"
   },
   {
    "duration": 225,
    "start_time": "2022-12-10T15:10:47.807Z"
   },
   {
    "duration": 308,
    "start_time": "2022-12-10T15:10:53.837Z"
   },
   {
    "duration": 251,
    "start_time": "2022-12-10T15:15:11.854Z"
   },
   {
    "duration": 272,
    "start_time": "2022-12-10T15:15:22.691Z"
   },
   {
    "duration": 271,
    "start_time": "2022-12-10T15:17:37.450Z"
   },
   {
    "duration": 190,
    "start_time": "2022-12-10T15:17:44.651Z"
   },
   {
    "duration": 48,
    "start_time": "2022-12-10T15:18:40.114Z"
   },
   {
    "duration": 52,
    "start_time": "2022-12-10T15:18:45.267Z"
   },
   {
    "duration": 65,
    "start_time": "2022-12-10T15:25:28.513Z"
   },
   {
    "duration": 20,
    "start_time": "2022-12-10T15:25:40.712Z"
   },
   {
    "duration": 69,
    "start_time": "2022-12-10T15:25:49.104Z"
   },
   {
    "duration": 15,
    "start_time": "2022-12-10T15:25:54.167Z"
   },
   {
    "duration": 15,
    "start_time": "2022-12-10T15:26:10.867Z"
   },
   {
    "duration": 16,
    "start_time": "2022-12-10T15:26:13.964Z"
   },
   {
    "duration": 1470,
    "start_time": "2022-12-10T15:26:29.563Z"
   },
   {
    "duration": 56,
    "start_time": "2022-12-10T15:26:31.035Z"
   },
   {
    "duration": 29,
    "start_time": "2022-12-10T15:26:31.093Z"
   },
   {
    "duration": 20,
    "start_time": "2022-12-10T15:26:31.125Z"
   },
   {
    "duration": 13,
    "start_time": "2022-12-10T15:26:31.147Z"
   },
   {
    "duration": 35,
    "start_time": "2022-12-10T15:26:31.161Z"
   },
   {
    "duration": 10,
    "start_time": "2022-12-10T15:26:31.198Z"
   },
   {
    "duration": 11,
    "start_time": "2022-12-10T15:26:31.209Z"
   },
   {
    "duration": 10,
    "start_time": "2022-12-10T15:26:31.222Z"
   },
   {
    "duration": 10,
    "start_time": "2022-12-10T15:26:31.234Z"
   },
   {
    "duration": 50,
    "start_time": "2022-12-10T15:26:31.246Z"
   },
   {
    "duration": 3,
    "start_time": "2022-12-10T15:26:31.298Z"
   },
   {
    "duration": 33,
    "start_time": "2022-12-10T15:26:31.302Z"
   },
   {
    "duration": 13,
    "start_time": "2022-12-10T15:26:31.337Z"
   },
   {
    "duration": 28,
    "start_time": "2022-12-10T15:26:31.351Z"
   },
   {
    "duration": 10,
    "start_time": "2022-12-10T15:26:31.381Z"
   },
   {
    "duration": 18,
    "start_time": "2022-12-10T15:26:31.393Z"
   },
   {
    "duration": 189,
    "start_time": "2022-12-10T15:26:31.413Z"
   },
   {
    "duration": 14,
    "start_time": "2022-12-10T15:26:31.604Z"
   },
   {
    "duration": 278,
    "start_time": "2022-12-10T15:26:31.620Z"
   },
   {
    "duration": 19,
    "start_time": "2022-12-10T15:26:31.900Z"
   },
   {
    "duration": 128,
    "start_time": "2022-12-10T15:26:31.921Z"
   },
   {
    "duration": 27,
    "start_time": "2022-12-10T15:26:32.051Z"
   },
   {
    "duration": 334,
    "start_time": "2022-12-10T15:26:32.080Z"
   },
   {
    "duration": 26,
    "start_time": "2022-12-10T15:26:32.415Z"
   },
   {
    "duration": 466,
    "start_time": "2022-12-10T15:26:32.443Z"
   },
   {
    "duration": 2,
    "start_time": "2022-12-10T15:26:32.911Z"
   },
   {
    "duration": 267,
    "start_time": "2022-12-10T15:26:32.917Z"
   },
   {
    "duration": 6,
    "start_time": "2022-12-10T15:26:33.186Z"
   },
   {
    "duration": 26,
    "start_time": "2022-12-10T15:26:33.193Z"
   },
   {
    "duration": 352,
    "start_time": "2022-12-10T15:26:33.220Z"
   },
   {
    "duration": 20,
    "start_time": "2022-12-10T15:26:33.574Z"
   },
   {
    "duration": 140,
    "start_time": "2022-12-10T15:26:33.596Z"
   },
   {
    "duration": 13547,
    "start_time": "2022-12-10T15:26:33.738Z"
   },
   {
    "duration": 22,
    "start_time": "2022-12-10T15:26:47.288Z"
   },
   {
    "duration": 504,
    "start_time": "2022-12-10T15:26:47.312Z"
   },
   {
    "duration": 512,
    "start_time": "2022-12-10T15:26:47.818Z"
   },
   {
    "duration": 30,
    "start_time": "2022-12-10T15:26:48.332Z"
   },
   {
    "duration": 23,
    "start_time": "2022-12-10T15:26:48.364Z"
   },
   {
    "duration": 6,
    "start_time": "2022-12-10T15:26:48.389Z"
   },
   {
    "duration": 569,
    "start_time": "2022-12-10T15:26:48.396Z"
   },
   {
    "duration": 225,
    "start_time": "2022-12-10T15:26:48.967Z"
   },
   {
    "duration": 0,
    "start_time": "2022-12-10T15:26:49.194Z"
   },
   {
    "duration": 14,
    "start_time": "2022-12-10T15:28:31.467Z"
   },
   {
    "duration": 17,
    "start_time": "2022-12-10T15:28:52.573Z"
   },
   {
    "duration": 16,
    "start_time": "2022-12-10T15:29:12.211Z"
   },
   {
    "duration": 17,
    "start_time": "2022-12-10T15:29:34.455Z"
   },
   {
    "duration": 14,
    "start_time": "2022-12-10T15:29:51.655Z"
   },
   {
    "duration": 11,
    "start_time": "2022-12-10T15:30:28.585Z"
   },
   {
    "duration": 1110,
    "start_time": "2022-12-10T15:30:39.959Z"
   },
   {
    "duration": 31,
    "start_time": "2022-12-10T15:31:02.605Z"
   },
   {
    "duration": 40,
    "start_time": "2022-12-10T15:31:42.192Z"
   },
   {
    "duration": 47,
    "start_time": "2022-12-10T15:31:42.313Z"
   },
   {
    "duration": 23,
    "start_time": "2022-12-10T15:31:42.455Z"
   },
   {
    "duration": 15,
    "start_time": "2022-12-10T15:31:42.594Z"
   },
   {
    "duration": 6,
    "start_time": "2022-12-10T15:31:42.863Z"
   },
   {
    "duration": 15,
    "start_time": "2022-12-10T15:31:43.280Z"
   },
   {
    "duration": 10,
    "start_time": "2022-12-10T15:31:43.454Z"
   },
   {
    "duration": 2,
    "start_time": "2022-12-10T15:31:43.591Z"
   },
   {
    "duration": 2,
    "start_time": "2022-12-10T15:31:43.759Z"
   },
   {
    "duration": 12,
    "start_time": "2022-12-10T15:31:43.906Z"
   },
   {
    "duration": 61,
    "start_time": "2022-12-10T15:31:44.073Z"
   },
   {
    "duration": 2,
    "start_time": "2022-12-10T15:31:44.264Z"
   },
   {
    "duration": 27,
    "start_time": "2022-12-10T15:31:44.562Z"
   },
   {
    "duration": 2,
    "start_time": "2022-12-10T15:31:44.868Z"
   },
   {
    "duration": 19,
    "start_time": "2022-12-10T15:31:45.030Z"
   },
   {
    "duration": 7,
    "start_time": "2022-12-10T15:31:45.560Z"
   },
   {
    "duration": 20,
    "start_time": "2022-12-10T15:31:45.882Z"
   },
   {
    "duration": 162,
    "start_time": "2022-12-10T15:31:46.381Z"
   },
   {
    "duration": 12,
    "start_time": "2022-12-10T15:31:46.891Z"
   },
   {
    "duration": 158,
    "start_time": "2022-12-10T15:31:47.092Z"
   },
   {
    "duration": 15,
    "start_time": "2022-12-10T15:31:47.794Z"
   },
   {
    "duration": 94,
    "start_time": "2022-12-10T15:31:47.958Z"
   },
   {
    "duration": 15,
    "start_time": "2022-12-10T15:31:48.652Z"
   },
   {
    "duration": 316,
    "start_time": "2022-12-10T15:31:48.815Z"
   },
   {
    "duration": 24,
    "start_time": "2022-12-10T15:31:49.368Z"
   },
   {
    "duration": 431,
    "start_time": "2022-12-10T15:31:49.560Z"
   },
   {
    "duration": 2,
    "start_time": "2022-12-10T15:31:50.103Z"
   },
   {
    "duration": 237,
    "start_time": "2022-12-10T15:31:50.274Z"
   },
   {
    "duration": 6,
    "start_time": "2022-12-10T15:31:50.982Z"
   },
   {
    "duration": 20,
    "start_time": "2022-12-10T15:31:51.517Z"
   },
   {
    "duration": 351,
    "start_time": "2022-12-10T15:31:51.716Z"
   },
   {
    "duration": 25,
    "start_time": "2022-12-10T15:31:52.069Z"
   },
   {
    "duration": 106,
    "start_time": "2022-12-10T15:31:52.662Z"
   },
   {
    "duration": 13459,
    "start_time": "2022-12-10T15:31:53.355Z"
   },
   {
    "duration": 18,
    "start_time": "2022-12-10T15:32:06.817Z"
   },
   {
    "duration": 432,
    "start_time": "2022-12-10T15:32:06.836Z"
   },
   {
    "duration": 451,
    "start_time": "2022-12-10T15:32:07.270Z"
   },
   {
    "duration": 28,
    "start_time": "2022-12-10T15:32:07.722Z"
   },
   {
    "duration": 39,
    "start_time": "2022-12-10T15:32:07.752Z"
   },
   {
    "duration": 64,
    "start_time": "2022-12-10T15:32:07.793Z"
   },
   {
    "duration": 96,
    "start_time": "2022-12-10T15:32:07.859Z"
   },
   {
    "duration": 14,
    "start_time": "2022-12-10T15:32:07.957Z"
   },
   {
    "duration": 0,
    "start_time": "2022-12-10T15:32:07.973Z"
   },
   {
    "duration": 14,
    "start_time": "2022-12-10T15:32:19.719Z"
   },
   {
    "duration": 13,
    "start_time": "2022-12-10T15:32:28.699Z"
   },
   {
    "duration": 15,
    "start_time": "2022-12-10T15:32:39.864Z"
   },
   {
    "duration": 14,
    "start_time": "2022-12-10T15:34:19.910Z"
   },
   {
    "duration": 1543,
    "start_time": "2022-12-10T15:34:43.342Z"
   },
   {
    "duration": 54,
    "start_time": "2022-12-10T15:34:44.887Z"
   },
   {
    "duration": 31,
    "start_time": "2022-12-10T15:34:44.943Z"
   },
   {
    "duration": 13,
    "start_time": "2022-12-10T15:34:44.977Z"
   },
   {
    "duration": 6,
    "start_time": "2022-12-10T15:34:44.992Z"
   },
   {
    "duration": 33,
    "start_time": "2022-12-10T15:34:45.000Z"
   },
   {
    "duration": 10,
    "start_time": "2022-12-10T15:34:45.035Z"
   },
   {
    "duration": 6,
    "start_time": "2022-12-10T15:34:45.046Z"
   },
   {
    "duration": 6,
    "start_time": "2022-12-10T15:34:45.053Z"
   },
   {
    "duration": 23,
    "start_time": "2022-12-10T15:34:45.060Z"
   },
   {
    "duration": 46,
    "start_time": "2022-12-10T15:34:45.085Z"
   },
   {
    "duration": 2,
    "start_time": "2022-12-10T15:34:45.133Z"
   },
   {
    "duration": 49,
    "start_time": "2022-12-10T15:34:45.136Z"
   },
   {
    "duration": 7,
    "start_time": "2022-12-10T15:34:45.188Z"
   },
   {
    "duration": 24,
    "start_time": "2022-12-10T15:34:45.196Z"
   },
   {
    "duration": 9,
    "start_time": "2022-12-10T15:34:45.221Z"
   },
   {
    "duration": 20,
    "start_time": "2022-12-10T15:34:45.232Z"
   },
   {
    "duration": 186,
    "start_time": "2022-12-10T15:34:45.277Z"
   },
   {
    "duration": 20,
    "start_time": "2022-12-10T15:34:45.465Z"
   },
   {
    "duration": 287,
    "start_time": "2022-12-10T15:34:45.487Z"
   },
   {
    "duration": 18,
    "start_time": "2022-12-10T15:34:45.777Z"
   },
   {
    "duration": 113,
    "start_time": "2022-12-10T15:34:45.797Z"
   },
   {
    "duration": 16,
    "start_time": "2022-12-10T15:34:45.912Z"
   },
   {
    "duration": 399,
    "start_time": "2022-12-10T15:34:45.930Z"
   },
   {
    "duration": 27,
    "start_time": "2022-12-10T15:34:46.331Z"
   },
   {
    "duration": 461,
    "start_time": "2022-12-10T15:34:46.360Z"
   },
   {
    "duration": 2,
    "start_time": "2022-12-10T15:34:46.823Z"
   },
   {
    "duration": 252,
    "start_time": "2022-12-10T15:34:46.827Z"
   },
   {
    "duration": 6,
    "start_time": "2022-12-10T15:34:47.081Z"
   },
   {
    "duration": 25,
    "start_time": "2022-12-10T15:34:47.089Z"
   },
   {
    "duration": 369,
    "start_time": "2022-12-10T15:34:47.116Z"
   },
   {
    "duration": 21,
    "start_time": "2022-12-10T15:34:47.487Z"
   },
   {
    "duration": 142,
    "start_time": "2022-12-10T15:34:47.510Z"
   },
   {
    "duration": 13267,
    "start_time": "2022-12-10T15:34:47.654Z"
   },
   {
    "duration": 19,
    "start_time": "2022-12-10T15:35:00.923Z"
   },
   {
    "duration": 438,
    "start_time": "2022-12-10T15:35:00.979Z"
   },
   {
    "duration": 508,
    "start_time": "2022-12-10T15:35:01.419Z"
   },
   {
    "duration": 30,
    "start_time": "2022-12-10T15:35:01.929Z"
   },
   {
    "duration": 23,
    "start_time": "2022-12-10T15:35:01.961Z"
   },
   {
    "duration": 10,
    "start_time": "2022-12-10T15:35:01.986Z"
   },
   {
    "duration": 582,
    "start_time": "2022-12-10T15:35:01.999Z"
   },
   {
    "duration": 81,
    "start_time": "2022-12-10T15:35:02.606Z"
   },
   {
    "duration": 18,
    "start_time": "2022-12-10T15:35:02.689Z"
   },
   {
    "duration": 16,
    "start_time": "2022-12-10T15:35:59.786Z"
   },
   {
    "duration": 19,
    "start_time": "2022-12-10T15:36:19.659Z"
   },
   {
    "duration": 17,
    "start_time": "2022-12-10T15:36:23.713Z"
   },
   {
    "duration": 16,
    "start_time": "2022-12-10T15:36:37.488Z"
   },
   {
    "duration": 1354,
    "start_time": "2022-12-10T15:38:10.291Z"
   },
   {
    "duration": 105,
    "start_time": "2022-12-10T15:39:15.411Z"
   },
   {
    "duration": 42,
    "start_time": "2022-12-10T15:52:39.979Z"
   },
   {
    "duration": 34,
    "start_time": "2022-12-10T15:53:01.109Z"
   },
   {
    "duration": 15,
    "start_time": "2022-12-10T15:53:07.881Z"
   },
   {
    "duration": 34,
    "start_time": "2022-12-10T15:53:29.418Z"
   },
   {
    "duration": 46,
    "start_time": "2022-12-10T15:53:29.773Z"
   },
   {
    "duration": 16,
    "start_time": "2022-12-10T15:53:30.365Z"
   },
   {
    "duration": 17,
    "start_time": "2022-12-10T16:04:50.553Z"
   },
   {
    "duration": 9,
    "start_time": "2022-12-10T16:04:52.054Z"
   },
   {
    "duration": 5,
    "start_time": "2022-12-10T16:05:17.081Z"
   },
   {
    "duration": 11,
    "start_time": "2022-12-10T16:05:33.023Z"
   },
   {
    "duration": 9,
    "start_time": "2022-12-10T16:05:46.558Z"
   },
   {
    "duration": 38,
    "start_time": "2022-12-10T16:09:59.958Z"
   },
   {
    "duration": 19,
    "start_time": "2022-12-10T16:11:33.340Z"
   },
   {
    "duration": 20,
    "start_time": "2022-12-10T16:12:38.239Z"
   },
   {
    "duration": 17,
    "start_time": "2022-12-10T16:21:31.792Z"
   },
   {
    "duration": 155,
    "start_time": "2022-12-10T16:21:32.397Z"
   },
   {
    "duration": 162,
    "start_time": "2022-12-10T16:23:02.813Z"
   },
   {
    "duration": 171,
    "start_time": "2022-12-10T16:23:24.709Z"
   },
   {
    "duration": 151,
    "start_time": "2022-12-10T16:24:31.691Z"
   },
   {
    "duration": 156,
    "start_time": "2022-12-10T16:25:21.377Z"
   },
   {
    "duration": 68,
    "start_time": "2022-12-10T16:25:42.672Z"
   },
   {
    "duration": 177,
    "start_time": "2022-12-10T16:25:52.787Z"
   },
   {
    "duration": 152,
    "start_time": "2022-12-10T16:26:08.022Z"
   },
   {
    "duration": 146,
    "start_time": "2022-12-10T16:26:13.721Z"
   },
   {
    "duration": 169,
    "start_time": "2022-12-10T16:26:25.444Z"
   },
   {
    "duration": 168,
    "start_time": "2022-12-10T16:26:39.160Z"
   },
   {
    "duration": 151,
    "start_time": "2022-12-10T16:27:02.142Z"
   },
   {
    "duration": 208,
    "start_time": "2022-12-10T16:27:26.812Z"
   },
   {
    "duration": 104,
    "start_time": "2022-12-10T16:42:47.990Z"
   },
   {
    "duration": 96,
    "start_time": "2022-12-10T16:42:57.247Z"
   },
   {
    "duration": 16,
    "start_time": "2022-12-10T16:45:08.948Z"
   },
   {
    "duration": 166,
    "start_time": "2022-12-10T16:45:30.080Z"
   },
   {
    "duration": 415,
    "start_time": "2022-12-10T16:50:23.697Z"
   },
   {
    "duration": 351,
    "start_time": "2022-12-10T16:50:32.554Z"
   },
   {
    "duration": 365,
    "start_time": "2022-12-10T16:50:57.340Z"
   },
   {
    "duration": 357,
    "start_time": "2022-12-10T16:51:03.524Z"
   },
   {
    "duration": 363,
    "start_time": "2022-12-10T16:51:31.643Z"
   },
   {
    "duration": 355,
    "start_time": "2022-12-10T16:51:36.254Z"
   },
   {
    "duration": 358,
    "start_time": "2022-12-10T16:51:52.725Z"
   },
   {
    "duration": 18,
    "start_time": "2022-12-10T16:54:09.924Z"
   },
   {
    "duration": 359,
    "start_time": "2022-12-10T16:54:11.586Z"
   },
   {
    "duration": 26,
    "start_time": "2022-12-10T16:57:18.888Z"
   },
   {
    "duration": 1535,
    "start_time": "2022-12-10T16:58:00.137Z"
   },
   {
    "duration": 50,
    "start_time": "2022-12-10T16:58:01.675Z"
   },
   {
    "duration": 19,
    "start_time": "2022-12-10T16:58:01.727Z"
   },
   {
    "duration": 35,
    "start_time": "2022-12-10T16:58:01.749Z"
   },
   {
    "duration": 14,
    "start_time": "2022-12-10T16:58:01.786Z"
   },
   {
    "duration": 34,
    "start_time": "2022-12-10T16:58:01.802Z"
   },
   {
    "duration": 19,
    "start_time": "2022-12-10T16:58:01.837Z"
   },
   {
    "duration": 27,
    "start_time": "2022-12-10T16:58:01.857Z"
   },
   {
    "duration": 56,
    "start_time": "2022-12-10T16:58:01.886Z"
   },
   {
    "duration": 25,
    "start_time": "2022-12-10T16:58:01.945Z"
   },
   {
    "duration": 28,
    "start_time": "2022-12-10T16:58:01.972Z"
   },
   {
    "duration": 51,
    "start_time": "2022-12-10T16:58:02.002Z"
   },
   {
    "duration": 28,
    "start_time": "2022-12-10T16:58:02.055Z"
   },
   {
    "duration": 30,
    "start_time": "2022-12-10T16:58:02.085Z"
   },
   {
    "duration": 190,
    "start_time": "2022-12-10T16:58:02.117Z"
   },
   {
    "duration": 15,
    "start_time": "2022-12-10T16:58:02.309Z"
   },
   {
    "duration": 255,
    "start_time": "2022-12-10T16:58:02.326Z"
   },
   {
    "duration": 17,
    "start_time": "2022-12-10T16:58:02.583Z"
   },
   {
    "duration": 110,
    "start_time": "2022-12-10T16:58:02.602Z"
   },
   {
    "duration": 15,
    "start_time": "2022-12-10T16:58:02.714Z"
   },
   {
    "duration": 372,
    "start_time": "2022-12-10T16:58:02.731Z"
   },
   {
    "duration": 24,
    "start_time": "2022-12-10T16:58:03.104Z"
   },
   {
    "duration": 453,
    "start_time": "2022-12-10T16:58:03.129Z"
   },
   {
    "duration": 2,
    "start_time": "2022-12-10T16:58:03.584Z"
   },
   {
    "duration": 229,
    "start_time": "2022-12-10T16:58:03.588Z"
   },
   {
    "duration": 6,
    "start_time": "2022-12-10T16:58:03.818Z"
   },
   {
    "duration": 22,
    "start_time": "2022-12-10T16:58:03.825Z"
   },
   {
    "duration": 413,
    "start_time": "2022-12-10T16:58:03.850Z"
   },
   {
    "duration": 27,
    "start_time": "2022-12-10T16:58:04.264Z"
   },
   {
    "duration": 151,
    "start_time": "2022-12-10T16:58:04.293Z"
   },
   {
    "duration": 14858,
    "start_time": "2022-12-10T16:58:04.446Z"
   },
   {
    "duration": 20,
    "start_time": "2022-12-10T16:58:19.306Z"
   },
   {
    "duration": 451,
    "start_time": "2022-12-10T16:58:19.327Z"
   },
   {
    "duration": 458,
    "start_time": "2022-12-10T16:58:19.780Z"
   },
   {
    "duration": 40,
    "start_time": "2022-12-10T16:58:20.239Z"
   },
   {
    "duration": 14,
    "start_time": "2022-12-10T16:58:20.281Z"
   },
   {
    "duration": 10,
    "start_time": "2022-12-10T16:58:20.297Z"
   },
   {
    "duration": 574,
    "start_time": "2022-12-10T16:58:20.309Z"
   },
   {
    "duration": 22,
    "start_time": "2022-12-10T16:58:20.885Z"
   },
   {
    "duration": 169,
    "start_time": "2022-12-10T16:58:20.909Z"
   },
   {
    "duration": 25,
    "start_time": "2022-12-10T17:00:25.477Z"
   },
   {
    "duration": 20,
    "start_time": "2022-12-10T17:00:47.731Z"
   },
   {
    "duration": 489,
    "start_time": "2022-12-10T17:01:51.752Z"
   },
   {
    "duration": 435,
    "start_time": "2022-12-10T17:02:02.445Z"
   },
   {
    "duration": 16,
    "start_time": "2022-12-10T17:02:18.751Z"
   },
   {
    "duration": 489,
    "start_time": "2022-12-10T17:02:25.380Z"
   },
   {
    "duration": 463,
    "start_time": "2022-12-10T17:02:33.898Z"
   },
   {
    "duration": 408,
    "start_time": "2022-12-10T17:02:42.572Z"
   },
   {
    "duration": 157,
    "start_time": "2022-12-10T17:13:43.469Z"
   },
   {
    "duration": 64,
    "start_time": "2022-12-10T17:13:55.386Z"
   },
   {
    "duration": 68,
    "start_time": "2022-12-10T17:13:59.419Z"
   },
   {
    "duration": 16,
    "start_time": "2022-12-10T17:14:33.307Z"
   },
   {
    "duration": 23,
    "start_time": "2022-12-10T17:14:44.101Z"
   },
   {
    "duration": 16,
    "start_time": "2022-12-10T17:14:54.308Z"
   },
   {
    "duration": 2,
    "start_time": "2022-12-10T17:15:01.114Z"
   },
   {
    "duration": 18,
    "start_time": "2022-12-10T17:15:01.309Z"
   },
   {
    "duration": 1573,
    "start_time": "2022-12-10T17:15:06.876Z"
   },
   {
    "duration": 52,
    "start_time": "2022-12-10T17:15:08.451Z"
   },
   {
    "duration": 29,
    "start_time": "2022-12-10T17:15:08.505Z"
   },
   {
    "duration": 14,
    "start_time": "2022-12-10T17:15:08.536Z"
   },
   {
    "duration": 6,
    "start_time": "2022-12-10T17:15:08.552Z"
   },
   {
    "duration": 18,
    "start_time": "2022-12-10T17:15:08.559Z"
   },
   {
    "duration": 10,
    "start_time": "2022-12-10T17:15:08.578Z"
   },
   {
    "duration": 22,
    "start_time": "2022-12-10T17:15:08.589Z"
   },
   {
    "duration": 35,
    "start_time": "2022-12-10T17:15:08.612Z"
   },
   {
    "duration": 18,
    "start_time": "2022-12-10T17:15:08.650Z"
   },
   {
    "duration": 7,
    "start_time": "2022-12-10T17:15:08.669Z"
   },
   {
    "duration": 20,
    "start_time": "2022-12-10T17:15:08.677Z"
   },
   {
    "duration": 7,
    "start_time": "2022-12-10T17:15:08.699Z"
   },
   {
    "duration": 18,
    "start_time": "2022-12-10T17:15:08.707Z"
   },
   {
    "duration": 163,
    "start_time": "2022-12-10T17:15:08.726Z"
   },
   {
    "duration": 13,
    "start_time": "2022-12-10T17:15:08.891Z"
   },
   {
    "duration": 236,
    "start_time": "2022-12-10T17:15:08.906Z"
   },
   {
    "duration": 16,
    "start_time": "2022-12-10T17:15:09.144Z"
   },
   {
    "duration": 119,
    "start_time": "2022-12-10T17:15:09.161Z"
   },
   {
    "duration": 16,
    "start_time": "2022-12-10T17:15:09.281Z"
   },
   {
    "duration": 448,
    "start_time": "2022-12-10T17:15:09.298Z"
   },
   {
    "duration": 450,
    "start_time": "2022-12-10T17:15:09.747Z"
   },
   {
    "duration": 2,
    "start_time": "2022-12-10T17:15:10.199Z"
   },
   {
    "duration": 118,
    "start_time": "2022-12-10T17:15:10.202Z"
   },
   {
    "duration": 0,
    "start_time": "2022-12-10T17:15:10.322Z"
   },
   {
    "duration": 0,
    "start_time": "2022-12-10T17:15:10.323Z"
   },
   {
    "duration": 0,
    "start_time": "2022-12-10T17:15:10.324Z"
   },
   {
    "duration": 0,
    "start_time": "2022-12-10T17:15:10.325Z"
   },
   {
    "duration": 0,
    "start_time": "2022-12-10T17:15:10.326Z"
   },
   {
    "duration": 0,
    "start_time": "2022-12-10T17:15:10.327Z"
   },
   {
    "duration": 0,
    "start_time": "2022-12-10T17:15:10.327Z"
   },
   {
    "duration": 0,
    "start_time": "2022-12-10T17:15:10.329Z"
   },
   {
    "duration": 0,
    "start_time": "2022-12-10T17:15:10.330Z"
   },
   {
    "duration": 0,
    "start_time": "2022-12-10T17:15:10.331Z"
   },
   {
    "duration": 0,
    "start_time": "2022-12-10T17:15:10.332Z"
   },
   {
    "duration": 0,
    "start_time": "2022-12-10T17:15:10.333Z"
   },
   {
    "duration": 0,
    "start_time": "2022-12-10T17:15:10.334Z"
   },
   {
    "duration": 0,
    "start_time": "2022-12-10T17:15:10.335Z"
   },
   {
    "duration": 1,
    "start_time": "2022-12-10T17:15:10.336Z"
   },
   {
    "duration": 8,
    "start_time": "2022-12-10T17:19:53.136Z"
   },
   {
    "duration": 461,
    "start_time": "2022-12-10T17:20:28.546Z"
   },
   {
    "duration": 8,
    "start_time": "2022-12-10T17:21:09.913Z"
   },
   {
    "duration": 407,
    "start_time": "2022-12-10T17:21:48.405Z"
   },
   {
    "duration": 79,
    "start_time": "2022-12-10T17:22:45.515Z"
   },
   {
    "duration": 431,
    "start_time": "2022-12-10T17:22:58.064Z"
   },
   {
    "duration": 9,
    "start_time": "2022-12-10T17:23:24.978Z"
   },
   {
    "duration": 459,
    "start_time": "2022-12-10T17:24:14.579Z"
   },
   {
    "duration": 76,
    "start_time": "2022-12-10T17:27:32.815Z"
   },
   {
    "duration": 30,
    "start_time": "2022-12-10T17:28:33.508Z"
   },
   {
    "duration": 69,
    "start_time": "2022-12-10T17:29:37.695Z"
   },
   {
    "duration": 17,
    "start_time": "2022-12-10T17:29:42.355Z"
   },
   {
    "duration": 17,
    "start_time": "2022-12-10T17:29:49.349Z"
   },
   {
    "duration": 15,
    "start_time": "2022-12-10T17:30:35.247Z"
   },
   {
    "duration": 27,
    "start_time": "2022-12-10T17:35:11.296Z"
   },
   {
    "duration": 26,
    "start_time": "2022-12-10T17:35:35.874Z"
   },
   {
    "duration": 7,
    "start_time": "2022-12-10T17:36:04.624Z"
   },
   {
    "duration": 18,
    "start_time": "2022-12-10T17:36:13.448Z"
   },
   {
    "duration": 21,
    "start_time": "2022-12-10T17:36:32.166Z"
   },
   {
    "duration": 333,
    "start_time": "2022-12-10T17:36:32.945Z"
   },
   {
    "duration": 20,
    "start_time": "2022-12-10T17:38:28.718Z"
   },
   {
    "duration": 17,
    "start_time": "2022-12-10T17:38:42.200Z"
   },
   {
    "duration": 107,
    "start_time": "2022-12-10T17:38:51.822Z"
   },
   {
    "duration": 13491,
    "start_time": "2022-12-10T17:39:19.296Z"
   },
   {
    "duration": 18,
    "start_time": "2022-12-10T17:39:36.957Z"
   },
   {
    "duration": 420,
    "start_time": "2022-12-10T17:40:26.923Z"
   },
   {
    "duration": 409,
    "start_time": "2022-12-10T17:40:33.187Z"
   },
   {
    "duration": 450,
    "start_time": "2022-12-10T17:40:50.273Z"
   },
   {
    "duration": 355,
    "start_time": "2022-12-10T17:41:10.975Z"
   },
   {
    "duration": 754,
    "start_time": "2022-12-10T17:41:27.264Z"
   },
   {
    "duration": 249,
    "start_time": "2022-12-10T17:41:45.116Z"
   },
   {
    "duration": 97,
    "start_time": "2022-12-10T18:01:26.689Z"
   },
   {
    "duration": 443,
    "start_time": "2022-12-10T18:01:32.082Z"
   },
   {
    "duration": 15,
    "start_time": "2022-12-10T18:02:06.580Z"
   },
   {
    "duration": 1521,
    "start_time": "2022-12-10T18:05:07.645Z"
   },
   {
    "duration": 49,
    "start_time": "2022-12-10T18:05:09.168Z"
   },
   {
    "duration": 18,
    "start_time": "2022-12-10T18:05:09.219Z"
   },
   {
    "duration": 40,
    "start_time": "2022-12-10T18:05:09.239Z"
   },
   {
    "duration": 17,
    "start_time": "2022-12-10T18:05:09.281Z"
   },
   {
    "duration": 36,
    "start_time": "2022-12-10T18:05:09.299Z"
   },
   {
    "duration": 10,
    "start_time": "2022-12-10T18:05:09.337Z"
   },
   {
    "duration": 20,
    "start_time": "2022-12-10T18:05:09.348Z"
   },
   {
    "duration": 55,
    "start_time": "2022-12-10T18:05:09.369Z"
   },
   {
    "duration": 17,
    "start_time": "2022-12-10T18:05:09.426Z"
   },
   {
    "duration": 22,
    "start_time": "2022-12-10T18:05:09.445Z"
   },
   {
    "duration": 28,
    "start_time": "2022-12-10T18:05:09.469Z"
   },
   {
    "duration": 43,
    "start_time": "2022-12-10T18:05:09.498Z"
   },
   {
    "duration": 39,
    "start_time": "2022-12-10T18:05:09.543Z"
   },
   {
    "duration": 165,
    "start_time": "2022-12-10T18:05:09.584Z"
   },
   {
    "duration": 13,
    "start_time": "2022-12-10T18:05:09.751Z"
   },
   {
    "duration": 245,
    "start_time": "2022-12-10T18:05:09.765Z"
   },
   {
    "duration": 17,
    "start_time": "2022-12-10T18:05:10.012Z"
   },
   {
    "duration": 114,
    "start_time": "2022-12-10T18:05:10.031Z"
   },
   {
    "duration": 17,
    "start_time": "2022-12-10T18:05:10.147Z"
   },
   {
    "duration": 346,
    "start_time": "2022-12-10T18:05:10.165Z"
   },
   {
    "duration": 455,
    "start_time": "2022-12-10T18:05:10.512Z"
   },
   {
    "duration": 10,
    "start_time": "2022-12-10T18:05:10.969Z"
   },
   {
    "duration": 19,
    "start_time": "2022-12-10T18:05:10.980Z"
   },
   {
    "duration": 417,
    "start_time": "2022-12-10T18:05:11.001Z"
   },
   {
    "duration": 19,
    "start_time": "2022-12-10T18:05:11.420Z"
   },
   {
    "duration": 139,
    "start_time": "2022-12-10T18:05:11.441Z"
   },
   {
    "duration": 13356,
    "start_time": "2022-12-10T18:05:11.584Z"
   },
   {
    "duration": 44,
    "start_time": "2022-12-10T18:05:24.942Z"
   },
   {
    "duration": 453,
    "start_time": "2022-12-10T18:05:24.988Z"
   },
   {
    "duration": 563,
    "start_time": "2022-12-10T18:05:25.443Z"
   },
   {
    "duration": 33,
    "start_time": "2022-12-10T18:05:26.008Z"
   },
   {
    "duration": 13,
    "start_time": "2022-12-10T18:05:26.043Z"
   },
   {
    "duration": 25,
    "start_time": "2022-12-10T18:05:26.057Z"
   },
   {
    "duration": 442,
    "start_time": "2022-12-10T18:05:26.084Z"
   },
   {
    "duration": 51,
    "start_time": "2022-12-10T18:05:26.527Z"
   },
   {
    "duration": 420,
    "start_time": "2022-12-10T18:05:26.580Z"
   },
   {
    "duration": 22,
    "start_time": "2022-12-10T18:25:44.220Z"
   },
   {
    "duration": 17,
    "start_time": "2022-12-10T18:25:51.468Z"
   },
   {
    "duration": 5,
    "start_time": "2022-12-10T18:28:52.185Z"
   },
   {
    "duration": 6,
    "start_time": "2022-12-10T18:29:29.743Z"
   },
   {
    "duration": 7,
    "start_time": "2022-12-10T18:29:46.126Z"
   },
   {
    "duration": 16,
    "start_time": "2022-12-10T18:29:50.765Z"
   },
   {
    "duration": 114,
    "start_time": "2022-12-10T18:32:37.776Z"
   },
   {
    "duration": 459,
    "start_time": "2022-12-10T18:33:04.271Z"
   },
   {
    "duration": 21,
    "start_time": "2022-12-10T18:33:35.087Z"
   },
   {
    "duration": 11,
    "start_time": "2022-12-10T18:37:05.633Z"
   },
   {
    "duration": 13,
    "start_time": "2022-12-10T18:37:17.579Z"
   },
   {
    "duration": 6,
    "start_time": "2022-12-10T18:39:59.937Z"
   },
   {
    "duration": 69,
    "start_time": "2022-12-10T18:41:36.966Z"
   },
   {
    "duration": 85,
    "start_time": "2022-12-10T18:41:46.253Z"
   },
   {
    "duration": 38,
    "start_time": "2022-12-10T18:41:58.917Z"
   },
   {
    "duration": 66,
    "start_time": "2022-12-10T18:44:48.266Z"
   },
   {
    "duration": 28,
    "start_time": "2022-12-10T18:45:49.496Z"
   },
   {
    "duration": 30,
    "start_time": "2022-12-10T18:46:07.413Z"
   },
   {
    "duration": 29,
    "start_time": "2022-12-10T18:46:14.163Z"
   },
   {
    "duration": 28,
    "start_time": "2022-12-10T18:48:18.301Z"
   },
   {
    "duration": 7,
    "start_time": "2022-12-10T18:48:39.062Z"
   },
   {
    "duration": 6,
    "start_time": "2022-12-10T18:48:52.736Z"
   },
   {
    "duration": 30,
    "start_time": "2022-12-10T18:49:25.200Z"
   },
   {
    "duration": 32,
    "start_time": "2022-12-10T18:58:27.525Z"
   },
   {
    "duration": 4,
    "start_time": "2022-12-10T18:59:00.005Z"
   },
   {
    "duration": 29,
    "start_time": "2022-12-10T18:59:03.590Z"
   },
   {
    "duration": 11,
    "start_time": "2022-12-10T18:59:17.923Z"
   },
   {
    "duration": 28,
    "start_time": "2022-12-10T18:59:57.834Z"
   },
   {
    "duration": 36,
    "start_time": "2022-12-10T19:00:01.903Z"
   },
   {
    "duration": 34,
    "start_time": "2022-12-10T19:00:24.484Z"
   },
   {
    "duration": 86,
    "start_time": "2022-12-10T19:00:57.672Z"
   },
   {
    "duration": 71,
    "start_time": "2022-12-10T19:01:03.205Z"
   },
   {
    "duration": 6,
    "start_time": "2022-12-10T19:01:11.755Z"
   },
   {
    "duration": 7,
    "start_time": "2022-12-10T19:01:19.801Z"
   },
   {
    "duration": 8,
    "start_time": "2022-12-10T19:01:36.904Z"
   },
   {
    "duration": 16,
    "start_time": "2022-12-10T19:01:43.113Z"
   },
   {
    "duration": 11,
    "start_time": "2022-12-10T19:01:51.243Z"
   },
   {
    "duration": 12,
    "start_time": "2022-12-10T19:02:29.343Z"
   },
   {
    "duration": 13,
    "start_time": "2022-12-10T19:05:32.501Z"
   },
   {
    "duration": 3,
    "start_time": "2022-12-10T19:07:53.970Z"
   },
   {
    "duration": 34,
    "start_time": "2022-12-10T19:09:43.884Z"
   },
   {
    "duration": 19,
    "start_time": "2022-12-10T19:17:54.915Z"
   },
   {
    "duration": 40,
    "start_time": "2022-12-10T19:34:24.363Z"
   },
   {
    "duration": 30,
    "start_time": "2022-12-10T19:34:27.146Z"
   },
   {
    "duration": 5,
    "start_time": "2022-12-10T19:34:55.350Z"
   },
   {
    "duration": 5,
    "start_time": "2022-12-10T19:43:03.593Z"
   },
   {
    "duration": 11,
    "start_time": "2022-12-10T19:43:19.748Z"
   },
   {
    "duration": 4,
    "start_time": "2022-12-10T19:43:25.681Z"
   },
   {
    "duration": 19,
    "start_time": "2022-12-10T19:43:33.028Z"
   },
   {
    "duration": 7,
    "start_time": "2022-12-10T19:44:05.198Z"
   },
   {
    "duration": 231,
    "start_time": "2022-12-10T19:47:50.547Z"
   },
   {
    "duration": 198,
    "start_time": "2022-12-10T19:48:06.199Z"
   },
   {
    "duration": 69,
    "start_time": "2022-12-10T20:02:46.770Z"
   },
   {
    "duration": 12,
    "start_time": "2022-12-10T20:02:57.390Z"
   },
   {
    "duration": 45,
    "start_time": "2022-12-10T20:03:19.052Z"
   },
   {
    "duration": 16,
    "start_time": "2022-12-10T20:03:33.627Z"
   },
   {
    "duration": 14,
    "start_time": "2022-12-10T20:03:48.143Z"
   },
   {
    "duration": 12,
    "start_time": "2022-12-10T20:15:49.347Z"
   },
   {
    "duration": 6,
    "start_time": "2022-12-10T20:16:12.982Z"
   },
   {
    "duration": 5,
    "start_time": "2022-12-10T20:16:42.763Z"
   },
   {
    "duration": 285,
    "start_time": "2022-12-10T20:31:22.080Z"
   },
   {
    "duration": 16,
    "start_time": "2022-12-10T20:31:31.832Z"
   },
   {
    "duration": 108,
    "start_time": "2022-12-10T20:32:34.389Z"
   },
   {
    "duration": 16,
    "start_time": "2022-12-10T20:36:12.433Z"
   },
   {
    "duration": 103,
    "start_time": "2022-12-10T20:36:53.765Z"
   },
   {
    "duration": 16,
    "start_time": "2022-12-10T21:52:18.065Z"
   },
   {
    "duration": 115,
    "start_time": "2022-12-10T21:52:18.998Z"
   },
   {
    "duration": 155,
    "start_time": "2022-12-10T21:52:31.466Z"
   },
   {
    "duration": 152,
    "start_time": "2022-12-10T21:52:35.101Z"
   },
   {
    "duration": 14,
    "start_time": "2022-12-10T21:52:36.779Z"
   },
   {
    "duration": 99,
    "start_time": "2022-12-10T21:52:37.381Z"
   },
   {
    "duration": 1452,
    "start_time": "2022-12-10T21:53:03.115Z"
   },
   {
    "duration": 51,
    "start_time": "2022-12-10T21:53:04.569Z"
   },
   {
    "duration": 21,
    "start_time": "2022-12-10T21:53:04.622Z"
   },
   {
    "duration": 15,
    "start_time": "2022-12-10T21:53:04.645Z"
   },
   {
    "duration": 17,
    "start_time": "2022-12-10T21:53:04.662Z"
   },
   {
    "duration": 29,
    "start_time": "2022-12-10T21:53:04.680Z"
   },
   {
    "duration": 11,
    "start_time": "2022-12-10T21:53:04.710Z"
   },
   {
    "duration": 8,
    "start_time": "2022-12-10T21:53:04.723Z"
   },
   {
    "duration": 54,
    "start_time": "2022-12-10T21:53:04.733Z"
   },
   {
    "duration": 18,
    "start_time": "2022-12-10T21:53:04.790Z"
   },
   {
    "duration": 8,
    "start_time": "2022-12-10T21:53:04.810Z"
   },
   {
    "duration": 23,
    "start_time": "2022-12-10T21:53:04.820Z"
   },
   {
    "duration": 9,
    "start_time": "2022-12-10T21:53:04.844Z"
   },
   {
    "duration": 40,
    "start_time": "2022-12-10T21:53:04.855Z"
   },
   {
    "duration": 199,
    "start_time": "2022-12-10T21:53:04.897Z"
   },
   {
    "duration": 16,
    "start_time": "2022-12-10T21:53:05.097Z"
   },
   {
    "duration": 247,
    "start_time": "2022-12-10T21:53:05.114Z"
   },
   {
    "duration": 29,
    "start_time": "2022-12-10T21:53:05.363Z"
   },
   {
    "duration": 113,
    "start_time": "2022-12-10T21:53:05.393Z"
   },
   {
    "duration": 15,
    "start_time": "2022-12-10T21:53:05.508Z"
   },
   {
    "duration": 376,
    "start_time": "2022-12-10T21:53:05.525Z"
   },
   {
    "duration": 412,
    "start_time": "2022-12-10T21:53:05.903Z"
   },
   {
    "duration": 6,
    "start_time": "2022-12-10T21:53:06.317Z"
   },
   {
    "duration": 30,
    "start_time": "2022-12-10T21:53:06.324Z"
   },
   {
    "duration": 354,
    "start_time": "2022-12-10T21:53:06.355Z"
   },
   {
    "duration": 20,
    "start_time": "2022-12-10T21:53:06.711Z"
   },
   {
    "duration": 148,
    "start_time": "2022-12-10T21:53:06.732Z"
   },
   {
    "duration": 13884,
    "start_time": "2022-12-10T21:53:06.884Z"
   },
   {
    "duration": 23,
    "start_time": "2022-12-10T21:53:20.770Z"
   },
   {
    "duration": 456,
    "start_time": "2022-12-10T21:53:20.795Z"
   },
   {
    "duration": 461,
    "start_time": "2022-12-10T21:53:21.253Z"
   },
   {
    "duration": 30,
    "start_time": "2022-12-10T21:53:21.716Z"
   },
   {
    "duration": 12,
    "start_time": "2022-12-10T21:53:21.747Z"
   },
   {
    "duration": 21,
    "start_time": "2022-12-10T21:53:21.761Z"
   },
   {
    "duration": 343,
    "start_time": "2022-12-10T21:53:21.783Z"
   },
   {
    "duration": 16,
    "start_time": "2022-12-10T21:53:22.128Z"
   },
   {
    "duration": 386,
    "start_time": "2022-12-10T21:53:22.146Z"
   },
   {
    "duration": 19,
    "start_time": "2022-12-10T21:53:22.534Z"
   },
   {
    "duration": 24,
    "start_time": "2022-12-10T21:53:22.555Z"
   },
   {
    "duration": 217,
    "start_time": "2022-12-10T21:53:22.581Z"
   },
   {
    "duration": 5,
    "start_time": "2022-12-10T21:53:22.800Z"
   },
   {
    "duration": 23,
    "start_time": "2022-12-10T21:53:22.807Z"
   },
   {
    "duration": 98,
    "start_time": "2022-12-10T21:53:22.832Z"
   },
   {
    "duration": 26,
    "start_time": "2022-12-10T21:53:22.932Z"
   },
   {
    "duration": 104,
    "start_time": "2022-12-10T21:53:22.961Z"
   },
   {
    "duration": 171,
    "start_time": "2022-12-10T21:53:23.077Z"
   },
   {
    "duration": 51,
    "start_time": "2022-12-11T20:06:50.966Z"
   },
   {
    "duration": 1695,
    "start_time": "2022-12-11T20:06:57.936Z"
   },
   {
    "duration": 119,
    "start_time": "2022-12-11T20:06:59.633Z"
   },
   {
    "duration": 19,
    "start_time": "2022-12-11T20:06:59.753Z"
   },
   {
    "duration": 12,
    "start_time": "2022-12-11T20:06:59.774Z"
   },
   {
    "duration": 6,
    "start_time": "2022-12-11T20:06:59.788Z"
   },
   {
    "duration": 29,
    "start_time": "2022-12-11T20:06:59.795Z"
   },
   {
    "duration": 9,
    "start_time": "2022-12-11T20:06:59.826Z"
   },
   {
    "duration": 10,
    "start_time": "2022-12-11T20:06:59.837Z"
   },
   {
    "duration": 35,
    "start_time": "2022-12-11T20:06:59.848Z"
   },
   {
    "duration": 35,
    "start_time": "2022-12-11T20:06:59.884Z"
   },
   {
    "duration": 4,
    "start_time": "2022-12-11T20:06:59.921Z"
   },
   {
    "duration": 23,
    "start_time": "2022-12-11T20:06:59.927Z"
   },
   {
    "duration": 12,
    "start_time": "2022-12-11T20:06:59.951Z"
   },
   {
    "duration": 40,
    "start_time": "2022-12-11T20:06:59.965Z"
   },
   {
    "duration": 193,
    "start_time": "2022-12-11T20:07:00.006Z"
   },
   {
    "duration": 16,
    "start_time": "2022-12-11T20:07:00.203Z"
   },
   {
    "duration": 242,
    "start_time": "2022-12-11T20:07:00.221Z"
   },
   {
    "duration": 18,
    "start_time": "2022-12-11T20:07:00.465Z"
   },
   {
    "duration": 130,
    "start_time": "2022-12-11T20:07:00.485Z"
   },
   {
    "duration": 16,
    "start_time": "2022-12-11T20:07:00.617Z"
   },
   {
    "duration": 416,
    "start_time": "2022-12-11T20:07:00.635Z"
   },
   {
    "duration": 478,
    "start_time": "2022-12-11T20:07:01.052Z"
   },
   {
    "duration": 7,
    "start_time": "2022-12-11T20:07:01.532Z"
   },
   {
    "duration": 70,
    "start_time": "2022-12-11T20:07:01.540Z"
   },
   {
    "duration": 406,
    "start_time": "2022-12-11T20:07:01.612Z"
   },
   {
    "duration": 19,
    "start_time": "2022-12-11T20:07:02.019Z"
   },
   {
    "duration": 153,
    "start_time": "2022-12-11T20:07:02.040Z"
   },
   {
    "duration": 14809,
    "start_time": "2022-12-11T20:07:02.195Z"
   },
   {
    "duration": 19,
    "start_time": "2022-12-11T20:07:17.014Z"
   },
   {
    "duration": 474,
    "start_time": "2022-12-11T20:07:17.035Z"
   },
   {
    "duration": 499,
    "start_time": "2022-12-11T20:07:17.514Z"
   },
   {
    "duration": 36,
    "start_time": "2022-12-11T20:07:18.014Z"
   },
   {
    "duration": 873,
    "start_time": "2022-12-11T20:07:18.051Z"
   },
   {
    "duration": 7,
    "start_time": "2022-12-11T20:07:18.926Z"
   },
   {
    "duration": 356,
    "start_time": "2022-12-11T20:07:18.935Z"
   },
   {
    "duration": 25,
    "start_time": "2022-12-11T20:07:19.295Z"
   },
   {
    "duration": 376,
    "start_time": "2022-12-11T20:07:19.322Z"
   },
   {
    "duration": 20,
    "start_time": "2022-12-11T20:07:19.704Z"
   },
   {
    "duration": 24,
    "start_time": "2022-12-11T20:07:19.726Z"
   },
   {
    "duration": 235,
    "start_time": "2022-12-11T20:07:19.752Z"
   },
   {
    "duration": 13,
    "start_time": "2022-12-11T20:07:19.997Z"
   },
   {
    "duration": 25,
    "start_time": "2022-12-11T20:07:20.013Z"
   },
   {
    "duration": 106,
    "start_time": "2022-12-11T20:07:20.040Z"
   },
   {
    "duration": 16,
    "start_time": "2022-12-11T20:07:20.147Z"
   },
   {
    "duration": 132,
    "start_time": "2022-12-11T20:07:20.164Z"
   },
   {
    "duration": 13,
    "start_time": "2022-12-11T20:07:39.965Z"
   },
   {
    "duration": 172,
    "start_time": "2022-12-11T21:01:04.935Z"
   },
   {
    "duration": 335,
    "start_time": "2022-12-11T21:03:49.574Z"
   },
   {
    "duration": 22,
    "start_time": "2022-12-11T21:03:50.938Z"
   },
   {
    "duration": 13,
    "start_time": "2022-12-11T21:04:07.609Z"
   },
   {
    "duration": 149,
    "start_time": "2022-12-11T21:04:12.679Z"
   },
   {
    "duration": 12,
    "start_time": "2022-12-11T21:04:25.469Z"
   },
   {
    "duration": 223,
    "start_time": "2022-12-11T21:04:26.082Z"
   },
   {
    "duration": 17,
    "start_time": "2022-12-11T21:05:31.514Z"
   },
   {
    "duration": 160,
    "start_time": "2022-12-11T21:05:32.270Z"
   },
   {
    "duration": 18,
    "start_time": "2022-12-11T21:05:40.680Z"
   },
   {
    "duration": 186,
    "start_time": "2022-12-11T21:05:56.023Z"
   },
   {
    "duration": 1648,
    "start_time": "2022-12-11T21:06:15.327Z"
   },
   {
    "duration": 50,
    "start_time": "2022-12-11T21:06:16.977Z"
   },
   {
    "duration": 19,
    "start_time": "2022-12-11T21:06:17.028Z"
   },
   {
    "duration": 19,
    "start_time": "2022-12-11T21:06:17.049Z"
   },
   {
    "duration": 7,
    "start_time": "2022-12-11T21:06:17.070Z"
   },
   {
    "duration": 210,
    "start_time": "2022-12-11T21:06:17.078Z"
   },
   {
    "duration": 11,
    "start_time": "2022-12-11T21:06:17.290Z"
   },
   {
    "duration": 13,
    "start_time": "2022-12-11T21:06:17.302Z"
   },
   {
    "duration": 32,
    "start_time": "2022-12-11T21:06:17.317Z"
   },
   {
    "duration": 44,
    "start_time": "2022-12-11T21:06:17.353Z"
   },
   {
    "duration": 5,
    "start_time": "2022-12-11T21:06:17.400Z"
   },
   {
    "duration": 27,
    "start_time": "2022-12-11T21:06:17.407Z"
   },
   {
    "duration": 7,
    "start_time": "2022-12-11T21:06:17.436Z"
   },
   {
    "duration": 56,
    "start_time": "2022-12-11T21:06:17.445Z"
   },
   {
    "duration": 251,
    "start_time": "2022-12-11T21:06:17.503Z"
   },
   {
    "duration": 14,
    "start_time": "2022-12-11T21:06:17.756Z"
   },
   {
    "duration": 241,
    "start_time": "2022-12-11T21:06:17.772Z"
   },
   {
    "duration": 22,
    "start_time": "2022-12-11T21:06:18.014Z"
   },
   {
    "duration": 131,
    "start_time": "2022-12-11T21:06:18.038Z"
   },
   {
    "duration": 26,
    "start_time": "2022-12-11T21:06:18.171Z"
   },
   {
    "duration": 382,
    "start_time": "2022-12-11T21:06:18.198Z"
   },
   {
    "duration": 492,
    "start_time": "2022-12-11T21:06:18.582Z"
   },
   {
    "duration": 7,
    "start_time": "2022-12-11T21:06:19.076Z"
   },
   {
    "duration": 34,
    "start_time": "2022-12-11T21:06:19.087Z"
   },
   {
    "duration": 451,
    "start_time": "2022-12-11T21:06:19.123Z"
   },
   {
    "duration": 30,
    "start_time": "2022-12-11T21:06:19.575Z"
   },
   {
    "duration": 150,
    "start_time": "2022-12-11T21:06:19.607Z"
   },
   {
    "duration": 13550,
    "start_time": "2022-12-11T21:06:19.761Z"
   },
   {
    "duration": 19,
    "start_time": "2022-12-11T21:06:33.314Z"
   },
   {
    "duration": 494,
    "start_time": "2022-12-11T21:06:33.334Z"
   },
   {
    "duration": 1002,
    "start_time": "2022-12-11T21:06:33.829Z"
   },
   {
    "duration": 84,
    "start_time": "2022-12-11T21:06:34.833Z"
   },
   {
    "duration": 15,
    "start_time": "2022-12-11T21:06:34.919Z"
   },
   {
    "duration": 63,
    "start_time": "2022-12-11T21:06:34.936Z"
   },
   {
    "duration": 574,
    "start_time": "2022-12-11T21:06:35.002Z"
   },
   {
    "duration": 30,
    "start_time": "2022-12-11T21:06:35.578Z"
   },
   {
    "duration": 443,
    "start_time": "2022-12-11T21:06:35.610Z"
   },
   {
    "duration": 45,
    "start_time": "2022-12-11T21:06:36.055Z"
   },
   {
    "duration": 4,
    "start_time": "2022-12-11T21:06:36.103Z"
   },
   {
    "duration": 315,
    "start_time": "2022-12-11T21:06:36.109Z"
   },
   {
    "duration": 8,
    "start_time": "2022-12-11T21:06:36.426Z"
   },
   {
    "duration": 31,
    "start_time": "2022-12-11T21:06:36.436Z"
   },
   {
    "duration": 160,
    "start_time": "2022-12-11T21:06:36.469Z"
   },
   {
    "duration": 21,
    "start_time": "2022-12-11T21:06:36.631Z"
   },
   {
    "duration": 124,
    "start_time": "2022-12-11T21:06:36.653Z"
   },
   {
    "duration": 14,
    "start_time": "2022-12-11T21:06:40.454Z"
   },
   {
    "duration": 168,
    "start_time": "2022-12-11T21:07:23.295Z"
   },
   {
    "duration": 15,
    "start_time": "2022-12-11T21:07:34.892Z"
   },
   {
    "duration": 188,
    "start_time": "2022-12-11T21:07:35.797Z"
   },
   {
    "duration": 333,
    "start_time": "2022-12-11T21:23:52.626Z"
   },
   {
    "duration": 352,
    "start_time": "2022-12-11T22:24:47.913Z"
   },
   {
    "duration": 204,
    "start_time": "2022-12-11T22:25:19.755Z"
   },
   {
    "duration": 198,
    "start_time": "2022-12-11T22:25:37.026Z"
   },
   {
    "duration": 51,
    "start_time": "2022-12-12T20:19:16.234Z"
   },
   {
    "duration": 1710,
    "start_time": "2022-12-12T20:19:23.033Z"
   },
   {
    "duration": 112,
    "start_time": "2022-12-12T20:19:24.746Z"
   },
   {
    "duration": 19,
    "start_time": "2022-12-12T20:19:24.861Z"
   },
   {
    "duration": 15,
    "start_time": "2022-12-12T20:19:24.882Z"
   },
   {
    "duration": 6,
    "start_time": "2022-12-12T20:19:24.898Z"
   },
   {
    "duration": 17,
    "start_time": "2022-12-12T20:19:24.906Z"
   },
   {
    "duration": 20,
    "start_time": "2022-12-12T20:19:24.925Z"
   },
   {
    "duration": 22,
    "start_time": "2022-12-12T20:19:24.947Z"
   },
   {
    "duration": 34,
    "start_time": "2022-12-12T20:19:24.971Z"
   },
   {
    "duration": 17,
    "start_time": "2022-12-12T20:19:25.006Z"
   },
   {
    "duration": 14,
    "start_time": "2022-12-12T20:19:25.024Z"
   },
   {
    "duration": 24,
    "start_time": "2022-12-12T20:19:25.039Z"
   },
   {
    "duration": 9,
    "start_time": "2022-12-12T20:19:25.064Z"
   },
   {
    "duration": 25,
    "start_time": "2022-12-12T20:19:25.076Z"
   },
   {
    "duration": 167,
    "start_time": "2022-12-12T20:19:25.102Z"
   },
   {
    "duration": 13,
    "start_time": "2022-12-12T20:19:25.271Z"
   },
   {
    "duration": 250,
    "start_time": "2022-12-12T20:19:25.285Z"
   },
   {
    "duration": 15,
    "start_time": "2022-12-12T20:19:25.537Z"
   },
   {
    "duration": 116,
    "start_time": "2022-12-12T20:19:25.554Z"
   },
   {
    "duration": 17,
    "start_time": "2022-12-12T20:19:25.671Z"
   },
   {
    "duration": 449,
    "start_time": "2022-12-12T20:19:25.690Z"
   },
   {
    "duration": 426,
    "start_time": "2022-12-12T20:19:26.141Z"
   },
   {
    "duration": 5,
    "start_time": "2022-12-12T20:19:26.569Z"
   },
   {
    "duration": 22,
    "start_time": "2022-12-12T20:19:26.576Z"
   },
   {
    "duration": 430,
    "start_time": "2022-12-12T20:19:26.600Z"
   },
   {
    "duration": 20,
    "start_time": "2022-12-12T20:19:27.032Z"
   },
   {
    "duration": 152,
    "start_time": "2022-12-12T20:19:27.053Z"
   },
   {
    "duration": 14928,
    "start_time": "2022-12-12T20:19:27.207Z"
   },
   {
    "duration": 20,
    "start_time": "2022-12-12T20:19:42.137Z"
   },
   {
    "duration": 507,
    "start_time": "2022-12-12T20:19:42.159Z"
   },
   {
    "duration": 486,
    "start_time": "2022-12-12T20:19:42.668Z"
   },
   {
    "duration": 30,
    "start_time": "2022-12-12T20:19:43.155Z"
   },
   {
    "duration": 11,
    "start_time": "2022-12-12T20:19:43.187Z"
   },
   {
    "duration": 11,
    "start_time": "2022-12-12T20:19:43.200Z"
   },
   {
    "duration": 369,
    "start_time": "2022-12-12T20:19:43.213Z"
   },
   {
    "duration": 16,
    "start_time": "2022-12-12T20:19:43.583Z"
   },
   {
    "duration": 384,
    "start_time": "2022-12-12T20:19:43.601Z"
   },
   {
    "duration": 22,
    "start_time": "2022-12-12T20:19:43.987Z"
   },
   {
    "duration": 27,
    "start_time": "2022-12-12T20:19:44.011Z"
   },
   {
    "duration": 232,
    "start_time": "2022-12-12T20:19:44.040Z"
   },
   {
    "duration": 5,
    "start_time": "2022-12-12T20:19:44.276Z"
   },
   {
    "duration": 18,
    "start_time": "2022-12-12T20:19:44.283Z"
   },
   {
    "duration": 113,
    "start_time": "2022-12-12T20:19:44.303Z"
   },
   {
    "duration": 22,
    "start_time": "2022-12-12T20:19:44.418Z"
   },
   {
    "duration": 105,
    "start_time": "2022-12-12T20:19:44.442Z"
   },
   {
    "duration": 20,
    "start_time": "2022-12-12T20:19:51.924Z"
   },
   {
    "duration": 17,
    "start_time": "2022-12-12T20:29:01.459Z"
   },
   {
    "duration": 24,
    "start_time": "2022-12-12T20:29:13.385Z"
   },
   {
    "duration": 9,
    "start_time": "2022-12-12T20:33:28.208Z"
   },
   {
    "duration": 9,
    "start_time": "2022-12-12T20:34:33.467Z"
   },
   {
    "duration": 168,
    "start_time": "2022-12-12T20:40:31.477Z"
   },
   {
    "duration": 46,
    "start_time": "2022-12-12T20:40:58.033Z"
   },
   {
    "duration": 62,
    "start_time": "2022-12-12T20:41:05.989Z"
   },
   {
    "duration": 5,
    "start_time": "2022-12-12T20:41:57.089Z"
   },
   {
    "duration": 25,
    "start_time": "2022-12-12T20:44:39.379Z"
   },
   {
    "duration": 23,
    "start_time": "2022-12-12T20:44:52.238Z"
   },
   {
    "duration": 7,
    "start_time": "2022-12-12T20:45:01.959Z"
   },
   {
    "duration": 24,
    "start_time": "2022-12-12T20:45:11.552Z"
   },
   {
    "duration": 22,
    "start_time": "2022-12-12T20:47:39.571Z"
   },
   {
    "duration": 242,
    "start_time": "2022-12-12T20:47:44.219Z"
   },
   {
    "duration": 20,
    "start_time": "2022-12-12T20:54:07.909Z"
   },
   {
    "duration": 138,
    "start_time": "2022-12-12T20:54:08.503Z"
   },
   {
    "duration": 7,
    "start_time": "2022-12-12T20:59:05.854Z"
   },
   {
    "duration": 9,
    "start_time": "2022-12-12T20:59:18.785Z"
   },
   {
    "duration": 89,
    "start_time": "2022-12-13T13:06:02.690Z"
   },
   {
    "duration": 6,
    "start_time": "2022-12-13T13:08:35.615Z"
   },
   {
    "duration": 1995,
    "start_time": "2022-12-13T13:08:47.004Z"
   },
   {
    "duration": 271,
    "start_time": "2022-12-13T13:08:49.002Z"
   },
   {
    "duration": 26,
    "start_time": "2022-12-13T13:08:49.275Z"
   },
   {
    "duration": 23,
    "start_time": "2022-12-13T13:08:49.304Z"
   },
   {
    "duration": 52,
    "start_time": "2022-12-13T13:08:49.329Z"
   },
   {
    "duration": 56,
    "start_time": "2022-12-13T13:08:49.383Z"
   },
   {
    "duration": 39,
    "start_time": "2022-12-13T13:08:49.441Z"
   },
   {
    "duration": 21,
    "start_time": "2022-12-13T13:08:49.482Z"
   },
   {
    "duration": 52,
    "start_time": "2022-12-13T13:08:49.507Z"
   },
   {
    "duration": 56,
    "start_time": "2022-12-13T13:08:49.565Z"
   },
   {
    "duration": 56,
    "start_time": "2022-12-13T13:08:49.623Z"
   },
   {
    "duration": 29,
    "start_time": "2022-12-13T13:08:49.682Z"
   },
   {
    "duration": 7,
    "start_time": "2022-12-13T13:08:49.811Z"
   },
   {
    "duration": 26,
    "start_time": "2022-12-13T13:08:49.961Z"
   },
   {
    "duration": 204,
    "start_time": "2022-12-13T13:08:50.117Z"
   },
   {
    "duration": 16,
    "start_time": "2022-12-13T13:08:50.564Z"
   },
   {
    "duration": 263,
    "start_time": "2022-12-13T13:08:51.141Z"
   },
   {
    "duration": 1513,
    "start_time": "2022-12-13T13:08:51.406Z"
   },
   {
    "duration": 132,
    "start_time": "2022-12-13T13:08:58.405Z"
   },
   {
    "duration": 19,
    "start_time": "2022-12-13T13:09:21.474Z"
   },
   {
    "duration": 22,
    "start_time": "2022-12-13T13:09:27.357Z"
   },
   {
    "duration": 134,
    "start_time": "2022-12-13T13:09:34.802Z"
   },
   {
    "duration": 207,
    "start_time": "2022-12-13T13:09:47.600Z"
   },
   {
    "duration": 197,
    "start_time": "2022-12-13T13:10:01.865Z"
   },
   {
    "duration": 10,
    "start_time": "2022-12-13T13:10:25.197Z"
   },
   {
    "duration": 158,
    "start_time": "2022-12-13T13:10:30.840Z"
   },
   {
    "duration": 142,
    "start_time": "2022-12-13T13:10:34.739Z"
   },
   {
    "duration": 215,
    "start_time": "2022-12-13T13:11:14.209Z"
   },
   {
    "duration": 13,
    "start_time": "2022-12-13T13:13:06.641Z"
   },
   {
    "duration": 10,
    "start_time": "2022-12-13T13:13:12.014Z"
   },
   {
    "duration": 14,
    "start_time": "2022-12-13T13:13:26.934Z"
   },
   {
    "duration": 18,
    "start_time": "2022-12-13T13:13:31.260Z"
   },
   {
    "duration": 112,
    "start_time": "2022-12-13T13:13:31.388Z"
   },
   {
    "duration": 18,
    "start_time": "2022-12-13T13:13:31.763Z"
   },
   {
    "duration": 413,
    "start_time": "2022-12-13T13:13:31.915Z"
   },
   {
    "duration": 382,
    "start_time": "2022-12-13T13:13:43.670Z"
   },
   {
    "duration": 580,
    "start_time": "2022-12-13T13:34:13.833Z"
   },
   {
    "duration": 486,
    "start_time": "2022-12-13T13:34:19.386Z"
   },
   {
    "duration": 543,
    "start_time": "2022-12-13T13:36:35.005Z"
   },
   {
    "duration": 182,
    "start_time": "2022-12-13T13:42:04.223Z"
   },
   {
    "duration": 22,
    "start_time": "2022-12-13T13:42:08.333Z"
   },
   {
    "duration": 580,
    "start_time": "2022-12-13T13:42:08.907Z"
   },
   {
    "duration": 21,
    "start_time": "2022-12-13T13:42:11.768Z"
   },
   {
    "duration": 1722,
    "start_time": "2022-12-13T13:42:11.908Z"
   },
   {
    "duration": 0,
    "start_time": "2022-12-13T13:42:13.633Z"
   },
   {
    "duration": 0,
    "start_time": "2022-12-13T13:42:13.634Z"
   },
   {
    "duration": 0,
    "start_time": "2022-12-13T13:42:13.635Z"
   },
   {
    "duration": 299,
    "start_time": "2022-12-13T13:42:27.670Z"
   },
   {
    "duration": 702,
    "start_time": "2022-12-13T13:42:28.324Z"
   },
   {
    "duration": 1643,
    "start_time": "2022-12-13T13:42:45.022Z"
   },
   {
    "duration": 546,
    "start_time": "2022-12-13T13:42:52.321Z"
   },
   {
    "duration": 1622,
    "start_time": "2022-12-13T13:42:56.666Z"
   },
   {
    "duration": 446,
    "start_time": "2022-12-13T13:43:05.675Z"
   },
   {
    "duration": 1705,
    "start_time": "2022-12-13T13:43:27.460Z"
   },
   {
    "duration": 40,
    "start_time": "2022-12-13T13:44:44.330Z"
   },
   {
    "duration": 28,
    "start_time": "2022-12-13T13:45:07.452Z"
   },
   {
    "duration": 54453,
    "start_time": "2022-12-13T13:45:16.463Z"
   },
   {
    "duration": 1134,
    "start_time": "2022-12-13T13:47:34.827Z"
   },
   {
    "duration": 35,
    "start_time": "2022-12-13T13:48:11.328Z"
   },
   {
    "duration": 29,
    "start_time": "2022-12-13T13:48:26.774Z"
   },
   {
    "duration": 19,
    "start_time": "2022-12-13T13:49:02.216Z"
   },
   {
    "duration": 1746,
    "start_time": "2022-12-13T13:49:12.630Z"
   },
   {
    "duration": 57,
    "start_time": "2022-12-13T13:49:14.378Z"
   },
   {
    "duration": 34,
    "start_time": "2022-12-13T13:49:14.437Z"
   },
   {
    "duration": 16,
    "start_time": "2022-12-13T13:49:14.474Z"
   },
   {
    "duration": 6,
    "start_time": "2022-12-13T13:49:14.491Z"
   },
   {
    "duration": 18,
    "start_time": "2022-12-13T13:49:14.499Z"
   },
   {
    "duration": 23,
    "start_time": "2022-12-13T13:49:14.545Z"
   },
   {
    "duration": 18,
    "start_time": "2022-12-13T13:49:14.569Z"
   },
   {
    "duration": 42,
    "start_time": "2022-12-13T13:49:14.589Z"
   },
   {
    "duration": 32,
    "start_time": "2022-12-13T13:49:14.634Z"
   },
   {
    "duration": 13,
    "start_time": "2022-12-13T13:49:14.668Z"
   },
   {
    "duration": 34,
    "start_time": "2022-12-13T13:49:14.682Z"
   },
   {
    "duration": 14,
    "start_time": "2022-12-13T13:49:14.717Z"
   },
   {
    "duration": 49,
    "start_time": "2022-12-13T13:49:14.733Z"
   },
   {
    "duration": 198,
    "start_time": "2022-12-13T13:49:14.783Z"
   },
   {
    "duration": 14,
    "start_time": "2022-12-13T13:49:14.982Z"
   },
   {
    "duration": 285,
    "start_time": "2022-12-13T13:49:14.998Z"
   },
   {
    "duration": 19,
    "start_time": "2022-12-13T13:49:15.285Z"
   },
   {
    "duration": 126,
    "start_time": "2022-12-13T13:49:15.306Z"
   },
   {
    "duration": 29,
    "start_time": "2022-12-13T13:49:15.437Z"
   },
   {
    "duration": 389,
    "start_time": "2022-12-13T13:49:15.468Z"
   },
   {
    "duration": 505,
    "start_time": "2022-12-13T13:49:15.859Z"
   },
   {
    "duration": 7,
    "start_time": "2022-12-13T13:49:16.367Z"
   },
   {
    "duration": 28,
    "start_time": "2022-12-13T13:49:16.376Z"
   },
   {
    "duration": 424,
    "start_time": "2022-12-13T13:49:16.405Z"
   },
   {
    "duration": 34,
    "start_time": "2022-12-13T13:49:16.831Z"
   },
   {
    "duration": 180,
    "start_time": "2022-12-13T13:49:16.866Z"
   },
   {
    "duration": 15946,
    "start_time": "2022-12-13T13:49:17.052Z"
   },
   {
    "duration": 58,
    "start_time": "2022-12-13T13:49:33.001Z"
   },
   {
    "duration": 590,
    "start_time": "2022-12-13T13:49:33.066Z"
   },
   {
    "duration": 30,
    "start_time": "2022-12-13T13:49:33.658Z"
   },
   {
    "duration": 20,
    "start_time": "2022-12-13T13:49:33.690Z"
   },
   {
    "duration": 611,
    "start_time": "2022-12-13T13:49:33.712Z"
   },
   {
    "duration": 42,
    "start_time": "2022-12-13T13:49:34.325Z"
   },
   {
    "duration": 6,
    "start_time": "2022-12-13T13:49:34.368Z"
   },
   {
    "duration": 412,
    "start_time": "2022-12-13T13:49:34.376Z"
   },
   {
    "duration": 58,
    "start_time": "2022-12-13T13:49:34.789Z"
   },
   {
    "duration": 397,
    "start_time": "2022-12-13T13:49:34.853Z"
   },
   {
    "duration": 26,
    "start_time": "2022-12-13T13:49:35.252Z"
   },
   {
    "duration": 6,
    "start_time": "2022-12-13T13:49:35.280Z"
   },
   {
    "duration": 12,
    "start_time": "2022-12-13T13:49:35.287Z"
   },
   {
    "duration": 269,
    "start_time": "2022-12-13T13:49:35.301Z"
   },
   {
    "duration": 6,
    "start_time": "2022-12-13T13:49:35.572Z"
   },
   {
    "duration": 29,
    "start_time": "2022-12-13T13:49:35.580Z"
   },
   {
    "duration": 124,
    "start_time": "2022-12-13T13:49:35.610Z"
   },
   {
    "duration": 33,
    "start_time": "2022-12-13T13:49:35.736Z"
   },
   {
    "duration": 138,
    "start_time": "2022-12-13T13:49:35.773Z"
   },
   {
    "duration": 86,
    "start_time": "2022-12-13T13:49:35.913Z"
   },
   {
    "duration": 8,
    "start_time": "2022-12-13T14:32:18.912Z"
   },
   {
    "duration": 8,
    "start_time": "2022-12-13T14:32:34.787Z"
   },
   {
    "duration": 2309,
    "start_time": "2022-12-13T14:57:41.758Z"
   },
   {
    "duration": 2782,
    "start_time": "2022-12-13T14:58:40.270Z"
   },
   {
    "duration": 7,
    "start_time": "2022-12-13T15:02:29.368Z"
   },
   {
    "duration": 23435,
    "start_time": "2022-12-13T15:16:20.361Z"
   },
   {
    "duration": 24466,
    "start_time": "2022-12-13T15:17:30.000Z"
   },
   {
    "duration": 12,
    "start_time": "2022-12-13T15:20:30.793Z"
   },
   {
    "duration": 17,
    "start_time": "2022-12-13T15:21:08.445Z"
   },
   {
    "duration": 186,
    "start_time": "2022-12-13T15:21:48.598Z"
   },
   {
    "duration": 23,
    "start_time": "2022-12-13T15:39:26.106Z"
   },
   {
    "duration": 19,
    "start_time": "2022-12-13T15:39:40.806Z"
   },
   {
    "duration": 9,
    "start_time": "2022-12-13T15:39:45.755Z"
   },
   {
    "duration": 2182,
    "start_time": "2022-12-15T08:47:22.131Z"
   },
   {
    "duration": 105,
    "start_time": "2022-12-15T08:47:24.316Z"
   },
   {
    "duration": 20,
    "start_time": "2022-12-15T08:47:24.423Z"
   },
   {
    "duration": 15,
    "start_time": "2022-12-15T08:47:24.445Z"
   },
   {
    "duration": 11,
    "start_time": "2022-12-15T08:47:24.462Z"
   },
   {
    "duration": 21,
    "start_time": "2022-12-15T08:47:24.474Z"
   },
   {
    "duration": 19,
    "start_time": "2022-12-15T08:47:24.497Z"
   },
   {
    "duration": 36,
    "start_time": "2022-12-15T08:47:24.517Z"
   },
   {
    "duration": 45,
    "start_time": "2022-12-15T08:47:24.555Z"
   },
   {
    "duration": 18,
    "start_time": "2022-12-15T08:47:24.603Z"
   },
   {
    "duration": 9,
    "start_time": "2022-12-15T08:47:24.623Z"
   },
   {
    "duration": 22,
    "start_time": "2022-12-15T08:47:24.633Z"
   },
   {
    "duration": 14,
    "start_time": "2022-12-15T08:47:24.657Z"
   },
   {
    "duration": 24,
    "start_time": "2022-12-15T08:47:24.673Z"
   },
   {
    "duration": 206,
    "start_time": "2022-12-15T08:47:24.699Z"
   },
   {
    "duration": 23,
    "start_time": "2022-12-15T08:47:24.906Z"
   },
   {
    "duration": 273,
    "start_time": "2022-12-15T08:47:24.931Z"
   },
   {
    "duration": 19,
    "start_time": "2022-12-15T08:47:25.207Z"
   },
   {
    "duration": 130,
    "start_time": "2022-12-15T08:47:25.227Z"
   },
   {
    "duration": 19,
    "start_time": "2022-12-15T08:47:25.359Z"
   },
   {
    "duration": 667,
    "start_time": "2022-12-15T08:47:25.379Z"
   },
   {
    "duration": 880,
    "start_time": "2022-12-15T08:47:26.048Z"
   },
   {
    "duration": 7,
    "start_time": "2022-12-15T08:47:26.930Z"
   },
   {
    "duration": 43,
    "start_time": "2022-12-15T08:47:26.939Z"
   },
   {
    "duration": 955,
    "start_time": "2022-12-15T08:47:26.984Z"
   },
   {
    "duration": 73,
    "start_time": "2022-12-15T08:47:27.941Z"
   },
   {
    "duration": 356,
    "start_time": "2022-12-15T08:47:28.016Z"
   },
   {
    "duration": 30225,
    "start_time": "2022-12-15T08:47:28.414Z"
   },
   {
    "duration": 90,
    "start_time": "2022-12-15T08:47:58.641Z"
   },
   {
    "duration": 981,
    "start_time": "2022-12-15T08:47:58.732Z"
   },
   {
    "duration": 33,
    "start_time": "2022-12-15T08:47:59.715Z"
   },
   {
    "duration": 74,
    "start_time": "2022-12-15T08:47:59.749Z"
   },
   {
    "duration": 1129,
    "start_time": "2022-12-15T08:47:59.825Z"
   },
   {
    "duration": 90,
    "start_time": "2022-12-15T08:48:00.956Z"
   },
   {
    "duration": 5,
    "start_time": "2022-12-15T08:48:01.048Z"
   },
   {
    "duration": 717,
    "start_time": "2022-12-15T08:48:01.113Z"
   },
   {
    "duration": 80,
    "start_time": "2022-12-15T08:48:01.833Z"
   },
   {
    "duration": 742,
    "start_time": "2022-12-15T08:48:01.915Z"
   },
   {
    "duration": 19,
    "start_time": "2022-12-15T08:48:02.713Z"
   },
   {
    "duration": 12,
    "start_time": "2022-12-15T08:48:02.733Z"
   },
   {
    "duration": 70,
    "start_time": "2022-12-15T08:48:02.746Z"
   },
   {
    "duration": 506,
    "start_time": "2022-12-15T08:48:02.818Z"
   },
   {
    "duration": 3607,
    "start_time": "2022-12-15T08:48:03.327Z"
   },
   {
    "duration": 18,
    "start_time": "2022-12-15T08:48:06.936Z"
   },
   {
    "duration": 6,
    "start_time": "2022-12-15T08:48:06.956Z"
   },
   {
    "duration": 60,
    "start_time": "2022-12-15T08:48:06.964Z"
   },
   {
    "duration": 123,
    "start_time": "2022-12-15T08:48:07.026Z"
   },
   {
    "duration": 18,
    "start_time": "2022-12-15T08:48:07.151Z"
   },
   {
    "duration": 112,
    "start_time": "2022-12-15T08:48:07.171Z"
   },
   {
    "duration": 358,
    "start_time": "2022-12-15T09:01:10.525Z"
   },
   {
    "duration": 351,
    "start_time": "2022-12-15T09:01:57.043Z"
   },
   {
    "duration": 323,
    "start_time": "2022-12-15T09:02:05.137Z"
   },
   {
    "duration": 395,
    "start_time": "2022-12-15T09:02:44.475Z"
   },
   {
    "duration": 402,
    "start_time": "2022-12-15T09:04:43.176Z"
   },
   {
    "duration": 335,
    "start_time": "2022-12-15T09:04:53.033Z"
   },
   {
    "duration": 360,
    "start_time": "2022-12-15T09:04:58.416Z"
   },
   {
    "duration": 356,
    "start_time": "2022-12-15T09:05:08.437Z"
   },
   {
    "duration": 1792,
    "start_time": "2022-12-15T11:31:57.943Z"
   },
   {
    "duration": 113,
    "start_time": "2022-12-15T11:31:59.737Z"
   },
   {
    "duration": 22,
    "start_time": "2022-12-15T11:31:59.852Z"
   },
   {
    "duration": 15,
    "start_time": "2022-12-15T11:31:59.877Z"
   },
   {
    "duration": 7,
    "start_time": "2022-12-15T11:31:59.894Z"
   },
   {
    "duration": 24,
    "start_time": "2022-12-15T11:31:59.903Z"
   },
   {
    "duration": 11,
    "start_time": "2022-12-15T11:31:59.954Z"
   },
   {
    "duration": 31,
    "start_time": "2022-12-15T11:31:59.968Z"
   },
   {
    "duration": 75,
    "start_time": "2022-12-15T11:32:00.002Z"
   },
   {
    "duration": 29,
    "start_time": "2022-12-15T11:32:00.081Z"
   },
   {
    "duration": 15,
    "start_time": "2022-12-15T11:32:00.113Z"
   },
   {
    "duration": 29,
    "start_time": "2022-12-15T11:32:00.130Z"
   },
   {
    "duration": 10,
    "start_time": "2022-12-15T11:32:00.161Z"
   },
   {
    "duration": 27,
    "start_time": "2022-12-15T11:32:00.173Z"
   },
   {
    "duration": 203,
    "start_time": "2022-12-15T11:32:00.202Z"
   },
   {
    "duration": 18,
    "start_time": "2022-12-15T11:32:00.407Z"
   },
   {
    "duration": 320,
    "start_time": "2022-12-15T11:32:00.426Z"
   },
   {
    "duration": 21,
    "start_time": "2022-12-15T11:32:00.749Z"
   },
   {
    "duration": 129,
    "start_time": "2022-12-15T11:32:00.772Z"
   },
   {
    "duration": 17,
    "start_time": "2022-12-15T11:32:00.902Z"
   },
   {
    "duration": 483,
    "start_time": "2022-12-15T11:32:00.921Z"
   },
   {
    "duration": 534,
    "start_time": "2022-12-15T11:32:01.407Z"
   },
   {
    "duration": 12,
    "start_time": "2022-12-15T11:32:01.944Z"
   },
   {
    "duration": 66,
    "start_time": "2022-12-15T11:32:01.958Z"
   },
   {
    "duration": 412,
    "start_time": "2022-12-15T11:32:02.025Z"
   },
   {
    "duration": 26,
    "start_time": "2022-12-15T11:32:02.438Z"
   },
   {
    "duration": 160,
    "start_time": "2022-12-15T11:32:02.466Z"
   },
   {
    "duration": 14425,
    "start_time": "2022-12-15T11:32:02.630Z"
   },
   {
    "duration": 26,
    "start_time": "2022-12-15T11:32:17.057Z"
   },
   {
    "duration": 534,
    "start_time": "2022-12-15T11:32:17.085Z"
   },
   {
    "duration": 24,
    "start_time": "2022-12-15T11:32:17.656Z"
   },
   {
    "duration": 18,
    "start_time": "2022-12-15T11:32:17.681Z"
   },
   {
    "duration": 519,
    "start_time": "2022-12-15T11:32:17.700Z"
   },
   {
    "duration": 41,
    "start_time": "2022-12-15T11:32:18.221Z"
   },
   {
    "duration": 6,
    "start_time": "2022-12-15T11:32:18.264Z"
   },
   {
    "duration": 375,
    "start_time": "2022-12-15T11:32:18.272Z"
   },
   {
    "duration": 19,
    "start_time": "2022-12-15T11:32:18.649Z"
   },
   {
    "duration": 402,
    "start_time": "2022-12-15T11:32:18.669Z"
   },
   {
    "duration": 21,
    "start_time": "2022-12-15T11:32:19.073Z"
   },
   {
    "duration": 8,
    "start_time": "2022-12-15T11:32:19.096Z"
   },
   {
    "duration": 10,
    "start_time": "2022-12-15T11:32:19.106Z"
   },
   {
    "duration": 266,
    "start_time": "2022-12-15T11:32:19.118Z"
   },
   {
    "duration": 2274,
    "start_time": "2022-12-15T11:32:19.386Z"
   },
   {
    "duration": 16,
    "start_time": "2022-12-15T11:32:21.662Z"
   },
   {
    "duration": 10,
    "start_time": "2022-12-15T11:32:21.680Z"
   },
   {
    "duration": 64,
    "start_time": "2022-12-15T11:32:21.692Z"
   },
   {
    "duration": 122,
    "start_time": "2022-12-15T11:32:21.758Z"
   },
   {
    "duration": 18,
    "start_time": "2022-12-15T11:32:21.882Z"
   },
   {
    "duration": 120,
    "start_time": "2022-12-15T11:32:21.902Z"
   },
   {
    "duration": 15,
    "start_time": "2022-12-15T11:35:24.834Z"
   },
   {
    "duration": 15,
    "start_time": "2022-12-15T11:35:41.619Z"
   },
   {
    "duration": 5,
    "start_time": "2022-12-15T11:38:38.528Z"
   },
   {
    "duration": 6,
    "start_time": "2022-12-15T11:38:47.632Z"
   },
   {
    "duration": 9,
    "start_time": "2022-12-15T11:38:56.336Z"
   },
   {
    "duration": 165,
    "start_time": "2022-12-15T11:45:42.105Z"
   },
   {
    "duration": 12,
    "start_time": "2022-12-15T11:45:50.597Z"
   },
   {
    "duration": 15,
    "start_time": "2022-12-15T11:46:21.552Z"
   },
   {
    "duration": 21,
    "start_time": "2022-12-15T11:46:29.598Z"
   },
   {
    "duration": 20,
    "start_time": "2022-12-15T11:46:44.336Z"
   },
   {
    "duration": 111,
    "start_time": "2022-12-15T11:47:27.944Z"
   },
   {
    "duration": 19,
    "start_time": "2022-12-15T11:47:38.430Z"
   },
   {
    "duration": 18,
    "start_time": "2022-12-15T11:47:46.607Z"
   },
   {
    "duration": 16,
    "start_time": "2022-12-15T11:47:50.863Z"
   },
   {
    "duration": 116,
    "start_time": "2022-12-15T11:47:51.063Z"
   },
   {
    "duration": 125,
    "start_time": "2022-12-15T11:48:07.807Z"
   },
   {
    "duration": 11,
    "start_time": "2022-12-15T11:50:37.553Z"
   },
   {
    "duration": 125,
    "start_time": "2022-12-15T11:51:02.207Z"
   },
   {
    "duration": 4,
    "start_time": "2022-12-15T11:51:07.239Z"
   },
   {
    "duration": 121,
    "start_time": "2022-12-15T11:51:16.383Z"
   },
   {
    "duration": 86,
    "start_time": "2022-12-15T11:51:16.703Z"
   },
   {
    "duration": 17,
    "start_time": "2022-12-15T11:51:16.846Z"
   },
   {
    "duration": 14,
    "start_time": "2022-12-15T11:51:17.040Z"
   },
   {
    "duration": 7,
    "start_time": "2022-12-15T11:51:17.182Z"
   },
   {
    "duration": 18,
    "start_time": "2022-12-15T11:51:20.334Z"
   },
   {
    "duration": 15,
    "start_time": "2022-12-15T11:51:21.350Z"
   },
   {
    "duration": 9,
    "start_time": "2022-12-15T11:51:21.678Z"
   },
   {
    "duration": 38,
    "start_time": "2022-12-15T11:51:22.871Z"
   },
   {
    "duration": 5,
    "start_time": "2022-12-15T11:51:28.302Z"
   },
   {
    "duration": 15,
    "start_time": "2022-12-15T11:53:28.599Z"
   },
   {
    "duration": 20,
    "start_time": "2022-12-15T11:53:32.162Z"
   },
   {
    "duration": 6,
    "start_time": "2022-12-15T11:53:33.350Z"
   },
   {
    "duration": 18,
    "start_time": "2022-12-15T11:53:33.518Z"
   },
   {
    "duration": 161,
    "start_time": "2022-12-15T11:53:33.842Z"
   },
   {
    "duration": 16,
    "start_time": "2022-12-15T11:53:35.577Z"
   },
   {
    "duration": 181,
    "start_time": "2022-12-15T11:53:35.759Z"
   },
   {
    "duration": 126,
    "start_time": "2022-12-15T11:53:37.422Z"
   },
   {
    "duration": 17,
    "start_time": "2022-12-15T11:53:37.646Z"
   },
   {
    "duration": 136,
    "start_time": "2022-12-15T11:53:43.544Z"
   },
   {
    "duration": 17,
    "start_time": "2022-12-15T11:53:44.169Z"
   },
   {
    "duration": 16,
    "start_time": "2022-12-15T11:53:46.055Z"
   },
   {
    "duration": 362,
    "start_time": "2022-12-15T11:53:46.846Z"
   },
   {
    "duration": 19,
    "start_time": "2022-12-15T12:00:23.896Z"
   },
   {
    "duration": 17,
    "start_time": "2022-12-15T12:00:41.599Z"
   },
   {
    "duration": 19,
    "start_time": "2022-12-15T12:00:48.655Z"
   },
   {
    "duration": 1597,
    "start_time": "2022-12-15T12:01:10.350Z"
   },
   {
    "duration": 54,
    "start_time": "2022-12-15T12:01:11.948Z"
   },
   {
    "duration": 21,
    "start_time": "2022-12-15T12:01:12.003Z"
   },
   {
    "duration": 14,
    "start_time": "2022-12-15T12:01:12.026Z"
   },
   {
    "duration": 16,
    "start_time": "2022-12-15T12:01:12.042Z"
   },
   {
    "duration": 21,
    "start_time": "2022-12-15T12:01:12.060Z"
   },
   {
    "duration": 20,
    "start_time": "2022-12-15T12:01:12.083Z"
   },
   {
    "duration": 16,
    "start_time": "2022-12-15T12:01:12.105Z"
   },
   {
    "duration": 53,
    "start_time": "2022-12-15T12:01:12.123Z"
   },
   {
    "duration": 19,
    "start_time": "2022-12-15T12:01:12.179Z"
   },
   {
    "duration": 4,
    "start_time": "2022-12-15T12:01:12.200Z"
   },
   {
    "duration": 6,
    "start_time": "2022-12-15T12:01:12.206Z"
   },
   {
    "duration": 49,
    "start_time": "2022-12-15T12:01:12.213Z"
   },
   {
    "duration": 9,
    "start_time": "2022-12-15T12:01:12.264Z"
   },
   {
    "duration": 23,
    "start_time": "2022-12-15T12:01:12.274Z"
   },
   {
    "duration": 204,
    "start_time": "2022-12-15T12:01:12.298Z"
   },
   {
    "duration": 15,
    "start_time": "2022-12-15T12:01:12.504Z"
   },
   {
    "duration": 287,
    "start_time": "2022-12-15T12:01:12.521Z"
   },
   {
    "duration": 137,
    "start_time": "2022-12-15T12:01:12.810Z"
   },
   {
    "duration": 0,
    "start_time": "2022-12-15T12:01:12.949Z"
   },
   {
    "duration": 0,
    "start_time": "2022-12-15T12:01:12.955Z"
   },
   {
    "duration": 0,
    "start_time": "2022-12-15T12:01:12.956Z"
   },
   {
    "duration": 0,
    "start_time": "2022-12-15T12:01:12.958Z"
   },
   {
    "duration": 0,
    "start_time": "2022-12-15T12:01:12.959Z"
   },
   {
    "duration": 0,
    "start_time": "2022-12-15T12:01:12.961Z"
   },
   {
    "duration": 0,
    "start_time": "2022-12-15T12:01:12.962Z"
   },
   {
    "duration": 0,
    "start_time": "2022-12-15T12:01:12.963Z"
   },
   {
    "duration": 0,
    "start_time": "2022-12-15T12:01:12.964Z"
   },
   {
    "duration": 0,
    "start_time": "2022-12-15T12:01:12.966Z"
   },
   {
    "duration": 0,
    "start_time": "2022-12-15T12:01:12.967Z"
   },
   {
    "duration": 0,
    "start_time": "2022-12-15T12:01:12.968Z"
   },
   {
    "duration": 0,
    "start_time": "2022-12-15T12:01:12.969Z"
   },
   {
    "duration": 0,
    "start_time": "2022-12-15T12:01:12.970Z"
   },
   {
    "duration": 0,
    "start_time": "2022-12-15T12:01:12.972Z"
   },
   {
    "duration": 0,
    "start_time": "2022-12-15T12:01:12.973Z"
   },
   {
    "duration": 0,
    "start_time": "2022-12-15T12:01:12.975Z"
   },
   {
    "duration": 0,
    "start_time": "2022-12-15T12:01:12.976Z"
   },
   {
    "duration": 0,
    "start_time": "2022-12-15T12:01:12.978Z"
   },
   {
    "duration": 0,
    "start_time": "2022-12-15T12:01:12.979Z"
   },
   {
    "duration": 0,
    "start_time": "2022-12-15T12:01:12.980Z"
   },
   {
    "duration": 0,
    "start_time": "2022-12-15T12:01:12.981Z"
   },
   {
    "duration": 0,
    "start_time": "2022-12-15T12:01:12.982Z"
   },
   {
    "duration": 0,
    "start_time": "2022-12-15T12:01:12.984Z"
   },
   {
    "duration": 0,
    "start_time": "2022-12-15T12:01:12.985Z"
   },
   {
    "duration": 0,
    "start_time": "2022-12-15T12:01:12.986Z"
   },
   {
    "duration": 0,
    "start_time": "2022-12-15T12:01:12.987Z"
   },
   {
    "duration": 0,
    "start_time": "2022-12-15T12:01:12.988Z"
   },
   {
    "duration": 0,
    "start_time": "2022-12-15T12:01:12.989Z"
   },
   {
    "duration": 0,
    "start_time": "2022-12-15T12:01:12.990Z"
   },
   {
    "duration": 0,
    "start_time": "2022-12-15T12:01:12.992Z"
   },
   {
    "duration": 175,
    "start_time": "2022-12-15T12:01:28.869Z"
   },
   {
    "duration": 16,
    "start_time": "2022-12-15T12:01:30.238Z"
   },
   {
    "duration": 13,
    "start_time": "2022-12-15T12:01:46.876Z"
   },
   {
    "duration": 13,
    "start_time": "2022-12-15T12:02:02.411Z"
   },
   {
    "duration": 14,
    "start_time": "2022-12-15T12:02:11.981Z"
   },
   {
    "duration": 14,
    "start_time": "2022-12-15T12:02:22.702Z"
   },
   {
    "duration": 18,
    "start_time": "2022-12-15T12:02:30.832Z"
   },
   {
    "duration": 18,
    "start_time": "2022-12-15T12:02:34.038Z"
   },
   {
    "duration": 373,
    "start_time": "2022-12-15T12:02:37.094Z"
   },
   {
    "duration": 788,
    "start_time": "2022-12-15T12:03:22.744Z"
   },
   {
    "duration": 37,
    "start_time": "2022-12-15T12:03:37.989Z"
   },
   {
    "duration": 55,
    "start_time": "2022-12-15T12:03:38.118Z"
   },
   {
    "duration": 16,
    "start_time": "2022-12-15T12:03:38.421Z"
   },
   {
    "duration": 14,
    "start_time": "2022-12-15T12:03:38.594Z"
   },
   {
    "duration": 7,
    "start_time": "2022-12-15T12:03:38.863Z"
   },
   {
    "duration": 16,
    "start_time": "2022-12-15T12:03:39.492Z"
   },
   {
    "duration": 14,
    "start_time": "2022-12-15T12:03:39.789Z"
   },
   {
    "duration": 10,
    "start_time": "2022-12-15T12:03:39.967Z"
   },
   {
    "duration": 37,
    "start_time": "2022-12-15T12:03:40.589Z"
   },
   {
    "duration": 20,
    "start_time": "2022-12-15T12:03:40.925Z"
   },
   {
    "duration": 2,
    "start_time": "2022-12-15T12:03:41.254Z"
   },
   {
    "duration": 4,
    "start_time": "2022-12-15T12:03:41.445Z"
   },
   {
    "duration": 20,
    "start_time": "2022-12-15T12:03:42.214Z"
   },
   {
    "duration": 6,
    "start_time": "2022-12-15T12:03:42.832Z"
   },
   {
    "duration": 19,
    "start_time": "2022-12-15T12:03:43.025Z"
   },
   {
    "duration": 169,
    "start_time": "2022-12-15T12:03:43.405Z"
   },
   {
    "duration": 15,
    "start_time": "2022-12-15T12:03:44.310Z"
   },
   {
    "duration": 178,
    "start_time": "2022-12-15T12:03:45.036Z"
   },
   {
    "duration": 112,
    "start_time": "2022-12-15T12:03:47.341Z"
   },
   {
    "duration": 18,
    "start_time": "2022-12-15T12:03:48.949Z"
   },
   {
    "duration": 434,
    "start_time": "2022-12-15T12:09:30.901Z"
   },
   {
    "duration": 361,
    "start_time": "2022-12-15T12:10:07.445Z"
   },
   {
    "duration": 363,
    "start_time": "2022-12-15T12:11:40.430Z"
   },
   {
    "duration": 329,
    "start_time": "2022-12-15T12:13:45.674Z"
   },
   {
    "duration": 462,
    "start_time": "2022-12-15T12:15:06.933Z"
   },
   {
    "duration": 19,
    "start_time": "2022-12-15T12:45:51.519Z"
   },
   {
    "duration": 4,
    "start_time": "2022-12-15T12:45:52.263Z"
   },
   {
    "duration": 6,
    "start_time": "2022-12-15T12:45:54.593Z"
   },
   {
    "duration": 7,
    "start_time": "2022-12-15T12:46:08.687Z"
   },
   {
    "duration": 219,
    "start_time": "2022-12-15T12:46:10.296Z"
   },
   {
    "duration": 23,
    "start_time": "2022-12-15T12:47:02.524Z"
   },
   {
    "duration": 7,
    "start_time": "2022-12-15T12:47:11.336Z"
   },
   {
    "duration": 24,
    "start_time": "2022-12-15T12:47:18.607Z"
   },
   {
    "duration": 23,
    "start_time": "2022-12-15T13:57:09.091Z"
   },
   {
    "duration": 6,
    "start_time": "2022-12-15T13:57:33.942Z"
   },
   {
    "duration": 7,
    "start_time": "2022-12-15T13:58:31.279Z"
   },
   {
    "duration": 22,
    "start_time": "2022-12-15T13:58:32.123Z"
   },
   {
    "duration": 389,
    "start_time": "2022-12-15T13:58:33.259Z"
   },
   {
    "duration": 9312,
    "start_time": "2022-12-15T13:58:57.211Z"
   },
   {
    "duration": 16,
    "start_time": "2022-12-15T13:59:48.551Z"
   },
   {
    "duration": 19,
    "start_time": "2022-12-15T13:59:52.351Z"
   },
   {
    "duration": 9149,
    "start_time": "2022-12-15T14:02:31.178Z"
   },
   {
    "duration": 9133,
    "start_time": "2022-12-15T14:02:47.371Z"
   },
   {
    "duration": 3,
    "start_time": "2022-12-15T14:21:10.449Z"
   },
   {
    "duration": 14,
    "start_time": "2022-12-15T14:21:27.656Z"
   },
   {
    "duration": 23,
    "start_time": "2022-12-15T14:21:30.906Z"
   },
   {
    "duration": 7,
    "start_time": "2022-12-15T14:21:31.360Z"
   },
   {
    "duration": 19,
    "start_time": "2022-12-15T14:21:31.523Z"
   },
   {
    "duration": 300,
    "start_time": "2022-12-15T14:21:31.822Z"
   },
   {
    "duration": 14,
    "start_time": "2022-12-15T14:21:32.289Z"
   },
   {
    "duration": 169,
    "start_time": "2022-12-15T14:21:32.448Z"
   },
   {
    "duration": 102,
    "start_time": "2022-12-15T14:21:33.489Z"
   },
   {
    "duration": 22,
    "start_time": "2022-12-15T14:21:33.679Z"
   },
   {
    "duration": 15,
    "start_time": "2022-12-15T14:21:34.378Z"
   },
   {
    "duration": 17737,
    "start_time": "2022-12-15T15:37:54.938Z"
   },
   {
    "duration": 10,
    "start_time": "2022-12-15T15:38:31.552Z"
   },
   {
    "duration": 10,
    "start_time": "2022-12-15T15:38:51.202Z"
   },
   {
    "duration": 9,
    "start_time": "2022-12-15T15:38:58.625Z"
   },
   {
    "duration": 11,
    "start_time": "2022-12-15T15:39:10.220Z"
   },
   {
    "duration": 372,
    "start_time": "2022-12-15T15:43:40.889Z"
   },
   {
    "duration": 392,
    "start_time": "2022-12-15T15:43:52.016Z"
   },
   {
    "duration": 366,
    "start_time": "2022-12-15T15:44:02.837Z"
   },
   {
    "duration": 11,
    "start_time": "2022-12-15T15:44:55.383Z"
   },
   {
    "duration": 19,
    "start_time": "2022-12-15T15:50:18.608Z"
   },
   {
    "duration": 17,
    "start_time": "2022-12-15T15:52:12.141Z"
   },
   {
    "duration": 361,
    "start_time": "2022-12-15T15:53:10.209Z"
   },
   {
    "duration": 325,
    "start_time": "2022-12-15T15:53:28.751Z"
   },
   {
    "duration": 351,
    "start_time": "2022-12-15T15:53:49.330Z"
   },
   {
    "duration": 319,
    "start_time": "2022-12-15T15:54:35.769Z"
   },
   {
    "duration": 291,
    "start_time": "2022-12-15T15:54:46.712Z"
   },
   {
    "duration": 360,
    "start_time": "2022-12-15T15:54:51.640Z"
   },
   {
    "duration": 1791,
    "start_time": "2022-12-16T15:50:34.953Z"
   },
   {
    "duration": 207,
    "start_time": "2022-12-16T15:50:36.746Z"
   },
   {
    "duration": 18,
    "start_time": "2022-12-16T15:50:36.955Z"
   },
   {
    "duration": 14,
    "start_time": "2022-12-16T15:50:36.974Z"
   },
   {
    "duration": 6,
    "start_time": "2022-12-16T15:50:36.989Z"
   },
   {
    "duration": 20,
    "start_time": "2022-12-16T15:50:36.996Z"
   },
   {
    "duration": 14,
    "start_time": "2022-12-16T15:50:37.019Z"
   },
   {
    "duration": 18,
    "start_time": "2022-12-16T15:50:37.035Z"
   },
   {
    "duration": 56,
    "start_time": "2022-12-16T15:50:37.054Z"
   },
   {
    "duration": 23,
    "start_time": "2022-12-16T15:50:37.111Z"
   },
   {
    "duration": 17,
    "start_time": "2022-12-16T15:50:37.136Z"
   },
   {
    "duration": 3,
    "start_time": "2022-12-16T15:50:37.155Z"
   },
   {
    "duration": 39,
    "start_time": "2022-12-16T15:50:37.160Z"
   },
   {
    "duration": 9,
    "start_time": "2022-12-16T15:50:37.202Z"
   },
   {
    "duration": 20,
    "start_time": "2022-12-16T15:50:37.213Z"
   },
   {
    "duration": 187,
    "start_time": "2022-12-16T15:50:37.235Z"
   },
   {
    "duration": 13,
    "start_time": "2022-12-16T15:50:37.424Z"
   },
   {
    "duration": 243,
    "start_time": "2022-12-16T15:50:37.439Z"
   },
   {
    "duration": 120,
    "start_time": "2022-12-16T15:50:37.684Z"
   },
   {
    "duration": 0,
    "start_time": "2022-12-16T15:50:37.806Z"
   },
   {
    "duration": 0,
    "start_time": "2022-12-16T15:50:37.807Z"
   },
   {
    "duration": 0,
    "start_time": "2022-12-16T15:50:37.809Z"
   },
   {
    "duration": 0,
    "start_time": "2022-12-16T15:50:37.810Z"
   },
   {
    "duration": 0,
    "start_time": "2022-12-16T15:50:37.811Z"
   },
   {
    "duration": 0,
    "start_time": "2022-12-16T15:50:37.813Z"
   },
   {
    "duration": 0,
    "start_time": "2022-12-16T15:50:37.814Z"
   },
   {
    "duration": 0,
    "start_time": "2022-12-16T15:50:37.816Z"
   },
   {
    "duration": 0,
    "start_time": "2022-12-16T15:50:37.817Z"
   },
   {
    "duration": 0,
    "start_time": "2022-12-16T15:50:37.818Z"
   },
   {
    "duration": 0,
    "start_time": "2022-12-16T15:50:37.819Z"
   },
   {
    "duration": 0,
    "start_time": "2022-12-16T15:50:37.820Z"
   },
   {
    "duration": 0,
    "start_time": "2022-12-16T15:50:37.821Z"
   },
   {
    "duration": 0,
    "start_time": "2022-12-16T15:50:37.822Z"
   },
   {
    "duration": 0,
    "start_time": "2022-12-16T15:50:37.823Z"
   },
   {
    "duration": 0,
    "start_time": "2022-12-16T15:50:37.825Z"
   },
   {
    "duration": 0,
    "start_time": "2022-12-16T15:50:37.826Z"
   },
   {
    "duration": 0,
    "start_time": "2022-12-16T15:50:37.827Z"
   },
   {
    "duration": 0,
    "start_time": "2022-12-16T15:50:37.828Z"
   },
   {
    "duration": 0,
    "start_time": "2022-12-16T15:50:37.829Z"
   },
   {
    "duration": 0,
    "start_time": "2022-12-16T15:50:37.830Z"
   },
   {
    "duration": 0,
    "start_time": "2022-12-16T15:50:37.831Z"
   },
   {
    "duration": 0,
    "start_time": "2022-12-16T15:50:37.832Z"
   },
   {
    "duration": 0,
    "start_time": "2022-12-16T15:50:37.878Z"
   },
   {
    "duration": 0,
    "start_time": "2022-12-16T15:50:37.879Z"
   },
   {
    "duration": 0,
    "start_time": "2022-12-16T15:50:37.881Z"
   },
   {
    "duration": 0,
    "start_time": "2022-12-16T15:50:37.883Z"
   },
   {
    "duration": 0,
    "start_time": "2022-12-16T15:50:37.884Z"
   },
   {
    "duration": 0,
    "start_time": "2022-12-16T15:50:37.885Z"
   },
   {
    "duration": 0,
    "start_time": "2022-12-16T15:50:37.887Z"
   },
   {
    "duration": 0,
    "start_time": "2022-12-16T15:50:37.888Z"
   },
   {
    "duration": 0,
    "start_time": "2022-12-16T15:50:37.890Z"
   },
   {
    "duration": 0,
    "start_time": "2022-12-16T15:50:37.891Z"
   },
   {
    "duration": 0,
    "start_time": "2022-12-16T15:50:37.892Z"
   },
   {
    "duration": 10,
    "start_time": "2022-12-16T15:58:28.462Z"
   },
   {
    "duration": 14,
    "start_time": "2022-12-16T15:58:43.322Z"
   },
   {
    "duration": 5,
    "start_time": "2022-12-16T15:59:08.286Z"
   },
   {
    "duration": 14,
    "start_time": "2022-12-16T16:00:40.017Z"
   },
   {
    "duration": 13,
    "start_time": "2022-12-16T16:00:59.842Z"
   },
   {
    "duration": 36,
    "start_time": "2022-12-16T16:01:04.086Z"
   },
   {
    "duration": 50,
    "start_time": "2022-12-16T16:01:04.244Z"
   },
   {
    "duration": 15,
    "start_time": "2022-12-16T16:01:04.356Z"
   },
   {
    "duration": 13,
    "start_time": "2022-12-16T16:01:04.498Z"
   },
   {
    "duration": 5,
    "start_time": "2022-12-16T16:01:04.658Z"
   },
   {
    "duration": 15,
    "start_time": "2022-12-16T16:01:05.216Z"
   },
   {
    "duration": 12,
    "start_time": "2022-12-16T16:01:05.514Z"
   },
   {
    "duration": 10,
    "start_time": "2022-12-16T16:01:05.669Z"
   },
   {
    "duration": 32,
    "start_time": "2022-12-16T16:01:06.306Z"
   },
   {
    "duration": 18,
    "start_time": "2022-12-16T16:01:06.672Z"
   },
   {
    "duration": 16,
    "start_time": "2022-12-16T16:01:07.009Z"
   },
   {
    "duration": 18,
    "start_time": "2022-12-16T16:01:07.703Z"
   },
   {
    "duration": 6,
    "start_time": "2022-12-16T16:01:08.172Z"
   },
   {
    "duration": 19,
    "start_time": "2022-12-16T16:01:08.339Z"
   },
   {
    "duration": 148,
    "start_time": "2022-12-16T16:01:08.665Z"
   },
   {
    "duration": 14,
    "start_time": "2022-12-16T16:01:09.156Z"
   },
   {
    "duration": 170,
    "start_time": "2022-12-16T16:01:09.341Z"
   },
   {
    "duration": 12,
    "start_time": "2022-12-16T16:01:10.190Z"
   },
   {
    "duration": 16,
    "start_time": "2022-12-16T16:01:10.358Z"
   },
   {
    "duration": 1114,
    "start_time": "2022-12-16T16:03:15.732Z"
   },
   {
    "duration": 0,
    "start_time": "2022-12-16T16:03:16.847Z"
   },
   {
    "duration": 0,
    "start_time": "2022-12-16T16:03:16.848Z"
   },
   {
    "duration": 96,
    "start_time": "2022-12-16T16:03:17.973Z"
   },
   {
    "duration": 1182,
    "start_time": "2022-12-16T16:03:29.996Z"
   },
   {
    "duration": 112,
    "start_time": "2022-12-16T16:06:30.615Z"
   },
   {
    "duration": 13,
    "start_time": "2022-12-16T16:11:42.706Z"
   },
   {
    "duration": 162,
    "start_time": "2022-12-16T16:11:43.530Z"
   },
   {
    "duration": 10,
    "start_time": "2022-12-16T16:12:39.274Z"
   },
   {
    "duration": 17,
    "start_time": "2022-12-16T16:12:42.676Z"
   },
   {
    "duration": 411,
    "start_time": "2022-12-16T16:12:45.046Z"
   },
   {
    "duration": 1847,
    "start_time": "2022-12-17T19:22:51.037Z"
   },
   {
    "duration": 114,
    "start_time": "2022-12-17T19:22:52.887Z"
   },
   {
    "duration": 21,
    "start_time": "2022-12-17T19:22:53.003Z"
   },
   {
    "duration": 17,
    "start_time": "2022-12-17T19:22:53.026Z"
   },
   {
    "duration": 11,
    "start_time": "2022-12-17T19:22:53.046Z"
   },
   {
    "duration": 33,
    "start_time": "2022-12-17T19:22:53.058Z"
   },
   {
    "duration": 15,
    "start_time": "2022-12-17T19:22:53.092Z"
   },
   {
    "duration": 14,
    "start_time": "2022-12-17T19:22:53.108Z"
   },
   {
    "duration": 81,
    "start_time": "2022-12-17T19:22:53.124Z"
   },
   {
    "duration": 20,
    "start_time": "2022-12-17T19:22:53.207Z"
   },
   {
    "duration": 25,
    "start_time": "2022-12-17T19:22:53.229Z"
   },
   {
    "duration": 38,
    "start_time": "2022-12-17T19:22:53.256Z"
   },
   {
    "duration": 17,
    "start_time": "2022-12-17T19:22:53.296Z"
   },
   {
    "duration": 33,
    "start_time": "2022-12-17T19:22:53.316Z"
   },
   {
    "duration": 201,
    "start_time": "2022-12-17T19:22:53.351Z"
   },
   {
    "duration": 27,
    "start_time": "2022-12-17T19:22:53.554Z"
   },
   {
    "duration": 296,
    "start_time": "2022-12-17T19:22:53.584Z"
   },
   {
    "duration": 139,
    "start_time": "2022-12-17T19:22:53.887Z"
   },
   {
    "duration": 25,
    "start_time": "2022-12-17T19:22:54.028Z"
   },
   {
    "duration": 40,
    "start_time": "2022-12-17T19:22:54.056Z"
   },
   {
    "duration": 433,
    "start_time": "2022-12-17T19:22:54.098Z"
   },
   {
    "duration": 512,
    "start_time": "2022-12-17T19:22:54.533Z"
   },
   {
    "duration": 16746,
    "start_time": "2022-12-17T19:22:55.047Z"
   },
   {
    "duration": 0,
    "start_time": "2022-12-17T19:23:11.795Z"
   },
   {
    "duration": 0,
    "start_time": "2022-12-17T19:23:11.796Z"
   },
   {
    "duration": 0,
    "start_time": "2022-12-17T19:23:11.798Z"
   },
   {
    "duration": 0,
    "start_time": "2022-12-17T19:23:11.799Z"
   },
   {
    "duration": 0,
    "start_time": "2022-12-17T19:23:11.800Z"
   },
   {
    "duration": 0,
    "start_time": "2022-12-17T19:23:11.801Z"
   },
   {
    "duration": 0,
    "start_time": "2022-12-17T19:23:11.803Z"
   },
   {
    "duration": 0,
    "start_time": "2022-12-17T19:23:11.804Z"
   },
   {
    "duration": 0,
    "start_time": "2022-12-17T19:23:11.805Z"
   },
   {
    "duration": 0,
    "start_time": "2022-12-17T19:23:11.807Z"
   },
   {
    "duration": 0,
    "start_time": "2022-12-17T19:23:11.808Z"
   },
   {
    "duration": 0,
    "start_time": "2022-12-17T19:23:11.810Z"
   },
   {
    "duration": 0,
    "start_time": "2022-12-17T19:23:11.811Z"
   },
   {
    "duration": 0,
    "start_time": "2022-12-17T19:23:11.812Z"
   },
   {
    "duration": 0,
    "start_time": "2022-12-17T19:23:11.813Z"
   },
   {
    "duration": 0,
    "start_time": "2022-12-17T19:23:11.814Z"
   },
   {
    "duration": 0,
    "start_time": "2022-12-17T19:23:11.816Z"
   },
   {
    "duration": 0,
    "start_time": "2022-12-17T19:23:11.817Z"
   },
   {
    "duration": 0,
    "start_time": "2022-12-17T19:23:11.818Z"
   },
   {
    "duration": 0,
    "start_time": "2022-12-17T19:23:11.819Z"
   },
   {
    "duration": 0,
    "start_time": "2022-12-17T19:23:11.820Z"
   },
   {
    "duration": 0,
    "start_time": "2022-12-17T19:23:11.821Z"
   },
   {
    "duration": 0,
    "start_time": "2022-12-17T19:23:11.823Z"
   },
   {
    "duration": 0,
    "start_time": "2022-12-17T19:23:11.824Z"
   },
   {
    "duration": 0,
    "start_time": "2022-12-17T19:23:11.825Z"
   },
   {
    "duration": 0,
    "start_time": "2022-12-17T19:23:11.827Z"
   },
   {
    "duration": 0,
    "start_time": "2022-12-17T19:23:11.827Z"
   },
   {
    "duration": 0,
    "start_time": "2022-12-17T19:23:11.829Z"
   },
   {
    "duration": 0,
    "start_time": "2022-12-17T19:23:11.830Z"
   },
   {
    "duration": 16,
    "start_time": "2022-12-17T19:24:10.741Z"
   },
   {
    "duration": 49,
    "start_time": "2022-12-17T19:27:32.515Z"
   },
   {
    "duration": 46,
    "start_time": "2022-12-17T19:27:51.526Z"
   },
   {
    "duration": 9,
    "start_time": "2022-12-17T19:30:17.070Z"
   },
   {
    "duration": 11,
    "start_time": "2022-12-17T19:30:21.947Z"
   },
   {
    "duration": 10,
    "start_time": "2022-12-17T19:30:26.285Z"
   },
   {
    "duration": 11,
    "start_time": "2022-12-17T19:30:37.875Z"
   },
   {
    "duration": 10,
    "start_time": "2022-12-17T19:30:55.665Z"
   },
   {
    "duration": 12,
    "start_time": "2022-12-17T19:31:02.218Z"
   },
   {
    "duration": 40,
    "start_time": "2022-12-17T19:31:08.945Z"
   },
   {
    "duration": 49,
    "start_time": "2022-12-17T19:31:09.145Z"
   },
   {
    "duration": 16,
    "start_time": "2022-12-17T19:31:09.277Z"
   },
   {
    "duration": 17,
    "start_time": "2022-12-17T19:31:09.853Z"
   },
   {
    "duration": 8,
    "start_time": "2022-12-17T19:31:09.872Z"
   },
   {
    "duration": 16,
    "start_time": "2022-12-17T19:31:10.344Z"
   },
   {
    "duration": 16,
    "start_time": "2022-12-17T19:31:11.053Z"
   },
   {
    "duration": 16,
    "start_time": "2022-12-17T19:31:11.472Z"
   },
   {
    "duration": 21,
    "start_time": "2022-12-17T19:31:12.570Z"
   },
   {
    "duration": 9,
    "start_time": "2022-12-17T19:31:13.573Z"
   },
   {
    "duration": 29,
    "start_time": "2022-12-17T19:31:33.463Z"
   },
   {
    "duration": 38,
    "start_time": "2022-12-17T19:31:40.962Z"
   },
   {
    "duration": 54,
    "start_time": "2022-12-17T19:31:41.117Z"
   },
   {
    "duration": 16,
    "start_time": "2022-12-17T19:31:41.252Z"
   },
   {
    "duration": 14,
    "start_time": "2022-12-17T19:31:41.439Z"
   },
   {
    "duration": 6,
    "start_time": "2022-12-17T19:31:41.955Z"
   },
   {
    "duration": 16,
    "start_time": "2022-12-17T19:31:43.900Z"
   },
   {
    "duration": 15,
    "start_time": "2022-12-17T19:31:44.998Z"
   },
   {
    "duration": 16,
    "start_time": "2022-12-17T19:31:45.347Z"
   },
   {
    "duration": 31,
    "start_time": "2022-12-17T19:31:46.408Z"
   },
   {
    "duration": 22,
    "start_time": "2022-12-17T19:32:30.274Z"
   },
   {
    "duration": 5,
    "start_time": "2022-12-17T19:33:07.023Z"
   },
   {
    "duration": 21,
    "start_time": "2022-12-17T19:33:24.593Z"
   },
   {
    "duration": 47,
    "start_time": "2022-12-17T19:34:23.352Z"
   },
   {
    "duration": 666,
    "start_time": "2022-12-17T19:34:34.803Z"
   },
   {
    "duration": 613,
    "start_time": "2022-12-17T19:34:43.221Z"
   },
   {
    "duration": 646,
    "start_time": "2022-12-17T19:34:55.206Z"
   },
   {
    "duration": 12,
    "start_time": "2022-12-17T19:36:09.301Z"
   },
   {
    "duration": 13,
    "start_time": "2022-12-17T19:36:13.693Z"
   },
   {
    "duration": 33,
    "start_time": "2022-12-17T19:36:37.153Z"
   },
   {
    "duration": 19,
    "start_time": "2022-12-17T19:37:27.668Z"
   },
   {
    "duration": 30,
    "start_time": "2022-12-17T19:37:58.957Z"
   },
   {
    "duration": 37,
    "start_time": "2022-12-17T19:38:07.198Z"
   },
   {
    "duration": 50,
    "start_time": "2022-12-17T19:38:07.670Z"
   },
   {
    "duration": 16,
    "start_time": "2022-12-17T19:38:08.054Z"
   },
   {
    "duration": 13,
    "start_time": "2022-12-17T19:38:08.693Z"
   },
   {
    "duration": 6,
    "start_time": "2022-12-17T19:38:09.318Z"
   },
   {
    "duration": 17,
    "start_time": "2022-12-17T19:38:12.003Z"
   },
   {
    "duration": 29,
    "start_time": "2022-12-17T19:38:16.498Z"
   },
   {
    "duration": 39,
    "start_time": "2022-12-17T19:38:54.292Z"
   },
   {
    "duration": 27,
    "start_time": "2022-12-17T19:38:54.693Z"
   },
   {
    "duration": 15,
    "start_time": "2022-12-17T19:38:55.292Z"
   },
   {
    "duration": 21,
    "start_time": "2022-12-17T19:38:57.110Z"
   },
   {
    "duration": 7,
    "start_time": "2022-12-17T19:39:25.022Z"
   },
   {
    "duration": 19,
    "start_time": "2022-12-17T19:39:25.478Z"
   },
   {
    "duration": 177,
    "start_time": "2022-12-17T19:39:26.045Z"
   },
   {
    "duration": 18,
    "start_time": "2022-12-17T19:39:28.297Z"
   },
   {
    "duration": 334,
    "start_time": "2022-12-17T19:39:29.104Z"
   },
   {
    "duration": 121,
    "start_time": "2022-12-17T19:45:05.010Z"
   },
   {
    "duration": 12,
    "start_time": "2022-12-17T19:45:15.281Z"
   },
   {
    "duration": 12,
    "start_time": "2022-12-17T19:45:24.437Z"
   },
   {
    "duration": 49,
    "start_time": "2022-12-17T19:46:16.709Z"
   },
   {
    "duration": 42,
    "start_time": "2022-12-17T19:46:20.060Z"
   },
   {
    "duration": 139,
    "start_time": "2022-12-17T19:46:27.758Z"
   },
   {
    "duration": 97,
    "start_time": "2022-12-17T19:46:39.187Z"
   },
   {
    "duration": 134,
    "start_time": "2022-12-17T19:46:43.607Z"
   },
   {
    "duration": 100,
    "start_time": "2022-12-17T19:46:48.693Z"
   },
   {
    "duration": 117,
    "start_time": "2022-12-17T19:47:01.029Z"
   },
   {
    "duration": 99,
    "start_time": "2022-12-17T19:47:22.443Z"
   },
   {
    "duration": 102,
    "start_time": "2022-12-17T19:47:27.517Z"
   },
   {
    "duration": 9,
    "start_time": "2022-12-17T20:08:04.899Z"
   },
   {
    "duration": 9,
    "start_time": "2022-12-17T20:08:49.770Z"
   },
   {
    "duration": 453,
    "start_time": "2022-12-17T20:10:09.065Z"
   },
   {
    "duration": 9,
    "start_time": "2022-12-17T20:10:28.497Z"
   },
   {
    "duration": 27,
    "start_time": "2022-12-17T20:10:51.989Z"
   },
   {
    "duration": 494,
    "start_time": "2022-12-17T20:10:58.347Z"
   },
   {
    "duration": 479,
    "start_time": "2022-12-17T20:11:02.908Z"
   },
   {
    "duration": 26,
    "start_time": "2022-12-17T20:11:23.493Z"
   },
   {
    "duration": 459,
    "start_time": "2022-12-17T20:11:26.710Z"
   },
   {
    "duration": 442,
    "start_time": "2022-12-17T20:19:07.257Z"
   },
   {
    "duration": 17,
    "start_time": "2022-12-17T20:19:25.395Z"
   },
   {
    "duration": 16,
    "start_time": "2022-12-17T20:19:25.647Z"
   },
   {
    "duration": 16,
    "start_time": "2022-12-17T20:19:25.766Z"
   },
   {
    "duration": 2,
    "start_time": "2022-12-17T20:19:26.037Z"
   },
   {
    "duration": 10,
    "start_time": "2022-12-17T20:19:26.152Z"
   },
   {
    "duration": 40,
    "start_time": "2022-12-17T20:19:26.700Z"
   },
   {
    "duration": 29,
    "start_time": "2022-12-17T20:19:28.215Z"
   },
   {
    "duration": 17,
    "start_time": "2022-12-17T20:19:28.502Z"
   },
   {
    "duration": 21,
    "start_time": "2022-12-17T20:19:29.065Z"
   },
   {
    "duration": 7,
    "start_time": "2022-12-17T20:19:29.514Z"
   },
   {
    "duration": 19,
    "start_time": "2022-12-17T20:19:29.683Z"
   },
   {
    "duration": 168,
    "start_time": "2022-12-17T20:19:30.021Z"
   },
   {
    "duration": 16,
    "start_time": "2022-12-17T20:19:30.796Z"
   },
   {
    "duration": 385,
    "start_time": "2022-12-17T20:19:31.236Z"
   },
   {
    "duration": 95,
    "start_time": "2022-12-17T20:19:32.949Z"
   },
   {
    "duration": 117,
    "start_time": "2022-12-17T20:19:33.892Z"
   },
   {
    "duration": 18,
    "start_time": "2022-12-17T20:19:34.060Z"
   },
   {
    "duration": 18,
    "start_time": "2022-12-17T20:19:34.899Z"
   },
   {
    "duration": 387,
    "start_time": "2022-12-17T20:19:35.908Z"
   },
   {
    "duration": 461,
    "start_time": "2022-12-17T20:19:36.837Z"
   },
   {
    "duration": 481,
    "start_time": "2022-12-17T20:20:01.228Z"
   },
   {
    "duration": 8,
    "start_time": "2022-12-17T20:20:13.281Z"
   },
   {
    "duration": 6,
    "start_time": "2022-12-17T20:43:33.948Z"
   },
   {
    "duration": 31,
    "start_time": "2022-12-17T20:43:35.260Z"
   },
   {
    "duration": 382,
    "start_time": "2022-12-17T20:43:42.787Z"
   },
   {
    "duration": 433,
    "start_time": "2022-12-17T20:44:01.755Z"
   },
   {
    "duration": 21,
    "start_time": "2022-12-17T20:44:06.960Z"
   },
   {
    "duration": 49,
    "start_time": "2022-12-17T20:46:54.651Z"
   },
   {
    "duration": 46,
    "start_time": "2022-12-17T20:47:03.388Z"
   },
   {
    "duration": 63,
    "start_time": "2022-12-17T20:47:08.237Z"
   },
   {
    "duration": 455,
    "start_time": "2022-12-17T20:47:27.006Z"
   },
   {
    "duration": 42,
    "start_time": "2022-12-17T20:48:48.608Z"
   },
   {
    "duration": 20,
    "start_time": "2022-12-17T20:48:53.180Z"
   },
   {
    "duration": 2334,
    "start_time": "2022-12-17T20:49:16.062Z"
   },
   {
    "duration": 17,
    "start_time": "2022-12-17T20:49:31.835Z"
   },
   {
    "duration": 17,
    "start_time": "2022-12-17T20:49:58.712Z"
   },
   {
    "duration": 2594,
    "start_time": "2022-12-17T20:50:16.988Z"
   },
   {
    "duration": 24,
    "start_time": "2022-12-17T20:50:41.702Z"
   },
   {
    "duration": 23,
    "start_time": "2022-12-17T20:51:27.097Z"
   },
   {
    "duration": 24,
    "start_time": "2022-12-17T20:51:37.808Z"
   },
   {
    "duration": 23,
    "start_time": "2022-12-17T20:51:48.433Z"
   },
   {
    "duration": 446,
    "start_time": "2022-12-17T20:52:34.491Z"
   },
   {
    "duration": 439,
    "start_time": "2022-12-17T20:53:02.692Z"
   },
   {
    "duration": 482,
    "start_time": "2022-12-17T20:53:14.040Z"
   },
   {
    "duration": 68,
    "start_time": "2022-12-17T20:54:56.839Z"
   },
   {
    "duration": 11,
    "start_time": "2022-12-17T20:57:45.072Z"
   },
   {
    "duration": 11,
    "start_time": "2022-12-17T20:59:31.481Z"
   },
   {
    "duration": 11,
    "start_time": "2022-12-17T21:03:15.453Z"
   },
   {
    "duration": 10,
    "start_time": "2022-12-17T21:03:35.002Z"
   },
   {
    "duration": 123,
    "start_time": "2022-12-17T21:17:50.746Z"
   },
   {
    "duration": 11,
    "start_time": "2022-12-17T21:18:03.400Z"
   },
   {
    "duration": 6,
    "start_time": "2022-12-17T21:19:27.764Z"
   },
   {
    "duration": 10,
    "start_time": "2022-12-17T21:19:45.451Z"
   },
   {
    "duration": 49,
    "start_time": "2022-12-17T21:31:50.505Z"
   },
   {
    "duration": 1553,
    "start_time": "2022-12-17T21:31:59.679Z"
   },
   {
    "duration": 56,
    "start_time": "2022-12-17T21:32:01.234Z"
   },
   {
    "duration": 21,
    "start_time": "2022-12-17T21:32:01.292Z"
   },
   {
    "duration": 23,
    "start_time": "2022-12-17T21:32:01.315Z"
   },
   {
    "duration": 12,
    "start_time": "2022-12-17T21:32:01.340Z"
   },
   {
    "duration": 48,
    "start_time": "2022-12-17T21:32:01.354Z"
   },
   {
    "duration": 26,
    "start_time": "2022-12-17T21:32:01.404Z"
   },
   {
    "duration": 17,
    "start_time": "2022-12-17T21:32:01.433Z"
   },
   {
    "duration": 3,
    "start_time": "2022-12-17T21:32:01.777Z"
   },
   {
    "duration": 77,
    "start_time": "2022-12-17T21:32:01.935Z"
   },
   {
    "duration": 35,
    "start_time": "2022-12-17T21:32:02.546Z"
   },
   {
    "duration": 18,
    "start_time": "2022-12-17T21:32:02.857Z"
   },
   {
    "duration": 15,
    "start_time": "2022-12-17T21:32:03.146Z"
   },
   {
    "duration": 19,
    "start_time": "2022-12-17T21:32:03.786Z"
   },
   {
    "duration": 6,
    "start_time": "2022-12-17T21:32:04.268Z"
   },
   {
    "duration": 25,
    "start_time": "2022-12-17T21:32:04.596Z"
   },
   {
    "duration": 170,
    "start_time": "2022-12-17T21:32:04.934Z"
   },
   {
    "duration": 15,
    "start_time": "2022-12-17T21:32:05.483Z"
   },
   {
    "duration": 270,
    "start_time": "2022-12-17T21:32:05.647Z"
   },
   {
    "duration": 101,
    "start_time": "2022-12-17T21:32:06.339Z"
   },
   {
    "duration": 112,
    "start_time": "2022-12-17T21:32:06.697Z"
   },
   {
    "duration": 18,
    "start_time": "2022-12-17T21:32:06.891Z"
   },
   {
    "duration": 16,
    "start_time": "2022-12-17T21:32:07.673Z"
   },
   {
    "duration": 334,
    "start_time": "2022-12-17T21:32:08.598Z"
   },
   {
    "duration": 417,
    "start_time": "2022-12-17T21:32:10.093Z"
   },
   {
    "duration": 20,
    "start_time": "2022-12-17T21:32:11.656Z"
   },
   {
    "duration": 30,
    "start_time": "2022-12-17T21:32:56.283Z"
   },
   {
    "duration": 477,
    "start_time": "2022-12-17T21:33:02.918Z"
   },
   {
    "duration": 436,
    "start_time": "2022-12-17T21:33:17.246Z"
   },
   {
    "duration": 462,
    "start_time": "2022-12-17T21:33:21.756Z"
   },
   {
    "duration": 444,
    "start_time": "2022-12-17T21:33:28.763Z"
   },
   {
    "duration": 15,
    "start_time": "2022-12-17T21:34:35.670Z"
   },
   {
    "duration": 9,
    "start_time": "2022-12-17T21:34:58.337Z"
   },
   {
    "duration": 31,
    "start_time": "2022-12-17T21:35:14.734Z"
   },
   {
    "duration": 30,
    "start_time": "2022-12-17T21:35:19.234Z"
   },
   {
    "duration": 17,
    "start_time": "2022-12-17T21:35:52.616Z"
   },
   {
    "duration": 23,
    "start_time": "2022-12-17T21:36:10.269Z"
   },
   {
    "duration": 19,
    "start_time": "2022-12-17T21:38:27.965Z"
   },
   {
    "duration": 20,
    "start_time": "2022-12-17T21:38:42.668Z"
   },
   {
    "duration": 33,
    "start_time": "2022-12-17T21:46:20.242Z"
   },
   {
    "duration": 33,
    "start_time": "2022-12-17T21:46:51.082Z"
   },
   {
    "duration": 21,
    "start_time": "2022-12-17T21:46:55.482Z"
   },
   {
    "duration": 372,
    "start_time": "2022-12-17T21:46:55.770Z"
   },
   {
    "duration": 31,
    "start_time": "2022-12-17T21:46:56.549Z"
   },
   {
    "duration": 35,
    "start_time": "2022-12-17T21:47:04.377Z"
   },
   {
    "duration": 51,
    "start_time": "2022-12-17T21:47:04.517Z"
   },
   {
    "duration": 17,
    "start_time": "2022-12-17T21:47:04.639Z"
   },
   {
    "duration": 14,
    "start_time": "2022-12-17T21:47:04.781Z"
   },
   {
    "duration": 6,
    "start_time": "2022-12-17T21:47:04.915Z"
   },
   {
    "duration": 16,
    "start_time": "2022-12-17T21:47:05.669Z"
   },
   {
    "duration": 13,
    "start_time": "2022-12-17T21:47:05.981Z"
   },
   {
    "duration": 15,
    "start_time": "2022-12-17T21:47:06.144Z"
   },
   {
    "duration": 2,
    "start_time": "2022-12-17T21:47:06.486Z"
   },
   {
    "duration": 10,
    "start_time": "2022-12-17T21:47:06.819Z"
   },
   {
    "duration": 37,
    "start_time": "2022-12-17T21:47:07.515Z"
   },
   {
    "duration": 18,
    "start_time": "2022-12-17T21:47:08.103Z"
   },
   {
    "duration": 16,
    "start_time": "2022-12-17T21:47:08.431Z"
   },
   {
    "duration": 20,
    "start_time": "2022-12-17T21:47:09.084Z"
   },
   {
    "duration": 6,
    "start_time": "2022-12-17T21:47:09.553Z"
   },
   {
    "duration": 19,
    "start_time": "2022-12-17T21:47:09.715Z"
   },
   {
    "duration": 153,
    "start_time": "2022-12-17T21:47:10.037Z"
   },
   {
    "duration": 14,
    "start_time": "2022-12-17T21:47:10.531Z"
   },
   {
    "duration": 180,
    "start_time": "2022-12-17T21:47:10.702Z"
   },
   {
    "duration": 110,
    "start_time": "2022-12-17T21:47:11.705Z"
   },
   {
    "duration": 19,
    "start_time": "2022-12-17T21:47:11.866Z"
   },
   {
    "duration": 15,
    "start_time": "2022-12-17T21:47:13.095Z"
   },
   {
    "duration": 329,
    "start_time": "2022-12-17T21:47:13.713Z"
   },
   {
    "duration": 21,
    "start_time": "2022-12-17T21:47:14.686Z"
   },
   {
    "duration": 578,
    "start_time": "2022-12-17T21:47:14.815Z"
   },
   {
    "duration": 6,
    "start_time": "2022-12-17T21:47:15.967Z"
   },
   {
    "duration": 20,
    "start_time": "2022-12-17T21:47:16.324Z"
   },
   {
    "duration": 21,
    "start_time": "2022-12-17T21:47:17.406Z"
   },
   {
    "duration": 379,
    "start_time": "2022-12-17T21:47:17.570Z"
   },
   {
    "duration": 30,
    "start_time": "2022-12-17T21:47:18.421Z"
   },
   {
    "duration": 26,
    "start_time": "2022-12-17T21:47:27.789Z"
   },
   {
    "duration": 35,
    "start_time": "2022-12-17T21:47:35.015Z"
   },
   {
    "duration": 73,
    "start_time": "2022-12-17T21:48:18.306Z"
   },
   {
    "duration": 403,
    "start_time": "2022-12-17T21:48:29.675Z"
   },
   {
    "duration": 395,
    "start_time": "2022-12-17T21:49:05.850Z"
   },
   {
    "duration": 398,
    "start_time": "2022-12-17T21:49:20.442Z"
   },
   {
    "duration": 22,
    "start_time": "2022-12-17T21:50:59.680Z"
   },
   {
    "duration": 22,
    "start_time": "2022-12-17T21:51:25.529Z"
   },
   {
    "duration": 45,
    "start_time": "2022-12-17T21:58:24.181Z"
   },
   {
    "duration": 24,
    "start_time": "2022-12-17T21:58:33.141Z"
   },
   {
    "duration": 19,
    "start_time": "2022-12-17T21:58:45.281Z"
   },
   {
    "duration": 47,
    "start_time": "2022-12-17T21:59:35.902Z"
   },
   {
    "duration": 48,
    "start_time": "2022-12-17T22:00:27.882Z"
   },
   {
    "duration": 7,
    "start_time": "2022-12-17T22:00:41.606Z"
   },
   {
    "duration": 21,
    "start_time": "2022-12-17T22:00:42.613Z"
   },
   {
    "duration": 47,
    "start_time": "2022-12-17T22:00:44.848Z"
   },
   {
    "duration": 453,
    "start_time": "2022-12-17T22:00:55.196Z"
   },
   {
    "duration": 6,
    "start_time": "2022-12-17T22:01:13.660Z"
   },
   {
    "duration": 22,
    "start_time": "2022-12-17T22:01:14.753Z"
   },
   {
    "duration": 179,
    "start_time": "2022-12-17T22:01:17.408Z"
   },
   {
    "duration": 39,
    "start_time": "2022-12-17T22:01:51.386Z"
   },
   {
    "duration": 45,
    "start_time": "2022-12-17T22:01:57.306Z"
   },
   {
    "duration": 49,
    "start_time": "2022-12-17T22:02:12.441Z"
   },
   {
    "duration": 830,
    "start_time": "2022-12-17T22:02:45.266Z"
   },
   {
    "duration": 47,
    "start_time": "2022-12-17T22:03:16.176Z"
   },
   {
    "duration": 445,
    "start_time": "2022-12-17T22:03:29.631Z"
   },
   {
    "duration": 53,
    "start_time": "2022-12-17T22:04:20.550Z"
   },
   {
    "duration": 45,
    "start_time": "2022-12-17T22:04:28.624Z"
   },
   {
    "duration": 47,
    "start_time": "2022-12-17T22:06:52.869Z"
   },
   {
    "duration": 333,
    "start_time": "2022-12-17T22:09:20.098Z"
   },
   {
    "duration": 21,
    "start_time": "2022-12-17T22:09:20.433Z"
   },
   {
    "duration": 159,
    "start_time": "2022-12-17T22:09:20.973Z"
   },
   {
    "duration": 14213,
    "start_time": "2022-12-17T22:09:21.395Z"
   },
   {
    "duration": 68,
    "start_time": "2022-12-17T22:09:35.610Z"
   },
   {
    "duration": 471,
    "start_time": "2022-12-17T22:09:35.680Z"
   },
   {
    "duration": 39,
    "start_time": "2022-12-17T22:09:36.153Z"
   },
   {
    "duration": 17,
    "start_time": "2022-12-17T22:09:36.193Z"
   },
   {
    "duration": 500,
    "start_time": "2022-12-17T22:09:36.212Z"
   },
   {
    "duration": 32,
    "start_time": "2022-12-17T22:09:36.713Z"
   },
   {
    "duration": 6,
    "start_time": "2022-12-17T22:09:36.746Z"
   },
   {
    "duration": 410,
    "start_time": "2022-12-17T22:10:28.717Z"
   },
   {
    "duration": 18,
    "start_time": "2022-12-17T22:11:02.773Z"
   },
   {
    "duration": 255,
    "start_time": "2022-12-17T22:11:03.723Z"
   },
   {
    "duration": 21,
    "start_time": "2022-12-17T22:11:23.451Z"
   },
   {
    "duration": 4,
    "start_time": "2022-12-17T22:11:23.857Z"
   },
   {
    "duration": 7,
    "start_time": "2022-12-17T22:11:24.571Z"
   },
   {
    "duration": 10,
    "start_time": "2022-12-17T22:11:26.990Z"
   },
   {
    "duration": 23,
    "start_time": "2022-12-17T22:11:27.931Z"
   },
   {
    "duration": 559,
    "start_time": "2022-12-17T22:12:39.507Z"
   },
   {
    "duration": 94,
    "start_time": "2022-12-17T22:13:29.925Z"
   },
   {
    "duration": 2,
    "start_time": "2022-12-17T22:14:07.890Z"
   },
   {
    "duration": 3,
    "start_time": "2022-12-17T22:14:08.791Z"
   },
   {
    "duration": 2,
    "start_time": "2022-12-17T22:14:09.178Z"
   },
   {
    "duration": 3,
    "start_time": "2022-12-17T22:14:09.365Z"
   },
   {
    "duration": 2,
    "start_time": "2022-12-17T22:14:24.542Z"
   },
   {
    "duration": 20,
    "start_time": "2022-12-17T22:14:54.235Z"
   },
   {
    "duration": 81,
    "start_time": "2022-12-17T22:15:06.469Z"
   },
   {
    "duration": 79,
    "start_time": "2022-12-17T22:15:22.251Z"
   },
   {
    "duration": 81,
    "start_time": "2022-12-17T22:15:31.069Z"
   },
   {
    "duration": 89,
    "start_time": "2022-12-17T22:16:25.773Z"
   },
   {
    "duration": 43,
    "start_time": "2022-12-17T22:17:53.001Z"
   },
   {
    "duration": 44,
    "start_time": "2022-12-17T22:17:58.040Z"
   },
   {
    "duration": 3,
    "start_time": "2022-12-17T22:18:04.859Z"
   },
   {
    "duration": 3,
    "start_time": "2022-12-17T22:18:05.513Z"
   },
   {
    "duration": 79,
    "start_time": "2022-12-17T22:18:51.559Z"
   },
   {
    "duration": 79,
    "start_time": "2022-12-17T22:18:58.026Z"
   },
   {
    "duration": 31,
    "start_time": "2022-12-17T22:20:12.818Z"
   },
   {
    "duration": 6,
    "start_time": "2022-12-17T22:20:13.534Z"
   },
   {
    "duration": 51,
    "start_time": "2022-12-17T22:20:18.527Z"
   },
   {
    "duration": 16,
    "start_time": "2022-12-17T22:24:21.461Z"
   },
   {
    "duration": 62,
    "start_time": "2022-12-17T22:28:03.772Z"
   },
   {
    "duration": 146,
    "start_time": "2022-12-17T22:28:13.667Z"
   },
   {
    "duration": 131,
    "start_time": "2022-12-17T22:28:28.777Z"
   },
   {
    "duration": 375,
    "start_time": "2022-12-17T22:29:16.031Z"
   },
   {
    "duration": 20,
    "start_time": "2022-12-17T22:30:16.407Z"
   },
   {
    "duration": 128,
    "start_time": "2022-12-17T22:30:24.350Z"
   },
   {
    "duration": 15209,
    "start_time": "2022-12-17T22:30:32.350Z"
   },
   {
    "duration": 16,
    "start_time": "2022-12-17T22:34:09.395Z"
   },
   {
    "duration": 24,
    "start_time": "2022-12-17T22:34:13.190Z"
   },
   {
    "duration": 29,
    "start_time": "2022-12-17T22:34:28.271Z"
   },
   {
    "duration": 20,
    "start_time": "2022-12-17T22:34:39.273Z"
   },
   {
    "duration": 9,
    "start_time": "2022-12-17T22:34:39.295Z"
   },
   {
    "duration": 7,
    "start_time": "2022-12-17T22:34:39.531Z"
   },
   {
    "duration": 23,
    "start_time": "2022-12-17T22:34:40.348Z"
   },
   {
    "duration": 2834,
    "start_time": "2022-12-17T22:34:41.214Z"
   },
   {
    "duration": 24,
    "start_time": "2022-12-17T22:35:03.303Z"
   },
   {
    "duration": 15,
    "start_time": "2022-12-17T22:36:59.134Z"
   },
   {
    "duration": 16,
    "start_time": "2022-12-17T22:38:14.449Z"
   },
   {
    "duration": 171,
    "start_time": "2022-12-17T22:38:28.554Z"
   },
   {
    "duration": 15,
    "start_time": "2022-12-17T22:40:17.408Z"
   },
   {
    "duration": 223,
    "start_time": "2022-12-17T22:40:33.615Z"
   },
   {
    "duration": 44,
    "start_time": "2022-12-17T22:41:45.923Z"
   },
   {
    "duration": 227,
    "start_time": "2022-12-17T22:41:51.299Z"
   },
   {
    "duration": 55,
    "start_time": "2022-12-17T22:47:03.901Z"
   },
   {
    "duration": 16,
    "start_time": "2022-12-17T22:54:27.232Z"
   },
   {
    "duration": 17,
    "start_time": "2022-12-17T22:54:42.654Z"
   },
   {
    "duration": 23,
    "start_time": "2022-12-17T22:54:55.080Z"
   },
   {
    "duration": 224,
    "start_time": "2022-12-17T22:55:01.012Z"
   },
   {
    "duration": 45,
    "start_time": "2022-12-17T22:55:29.245Z"
   },
   {
    "duration": 1400,
    "start_time": "2022-12-18T12:07:43.547Z"
   },
   {
    "duration": 47,
    "start_time": "2022-12-18T12:07:44.949Z"
   },
   {
    "duration": 20,
    "start_time": "2022-12-18T12:07:44.998Z"
   },
   {
    "duration": 22,
    "start_time": "2022-12-18T12:07:45.021Z"
   },
   {
    "duration": 11,
    "start_time": "2022-12-18T12:07:45.045Z"
   },
   {
    "duration": 26,
    "start_time": "2022-12-18T12:07:45.057Z"
   },
   {
    "duration": 12,
    "start_time": "2022-12-18T12:07:45.085Z"
   },
   {
    "duration": 18,
    "start_time": "2022-12-18T12:07:45.099Z"
   },
   {
    "duration": 2,
    "start_time": "2022-12-18T12:07:45.119Z"
   },
   {
    "duration": 122,
    "start_time": "2022-12-18T12:07:45.127Z"
   },
   {
    "duration": 0,
    "start_time": "2022-12-18T12:07:45.252Z"
   },
   {
    "duration": 0,
    "start_time": "2022-12-18T12:07:45.253Z"
   },
   {
    "duration": 0,
    "start_time": "2022-12-18T12:07:45.254Z"
   },
   {
    "duration": 0,
    "start_time": "2022-12-18T12:07:45.254Z"
   },
   {
    "duration": 0,
    "start_time": "2022-12-18T12:07:45.255Z"
   },
   {
    "duration": 0,
    "start_time": "2022-12-18T12:07:45.256Z"
   },
   {
    "duration": 0,
    "start_time": "2022-12-18T12:07:45.257Z"
   },
   {
    "duration": 0,
    "start_time": "2022-12-18T12:07:45.258Z"
   },
   {
    "duration": 0,
    "start_time": "2022-12-18T12:07:45.259Z"
   },
   {
    "duration": 0,
    "start_time": "2022-12-18T12:07:45.261Z"
   },
   {
    "duration": 0,
    "start_time": "2022-12-18T12:07:45.262Z"
   },
   {
    "duration": 0,
    "start_time": "2022-12-18T12:07:45.262Z"
   },
   {
    "duration": 0,
    "start_time": "2022-12-18T12:07:45.263Z"
   },
   {
    "duration": 0,
    "start_time": "2022-12-18T12:07:45.264Z"
   },
   {
    "duration": 0,
    "start_time": "2022-12-18T12:07:45.265Z"
   },
   {
    "duration": 0,
    "start_time": "2022-12-18T12:07:45.266Z"
   },
   {
    "duration": 0,
    "start_time": "2022-12-18T12:07:45.267Z"
   },
   {
    "duration": 0,
    "start_time": "2022-12-18T12:07:45.268Z"
   },
   {
    "duration": 0,
    "start_time": "2022-12-18T12:07:45.269Z"
   },
   {
    "duration": 0,
    "start_time": "2022-12-18T12:07:45.270Z"
   },
   {
    "duration": 0,
    "start_time": "2022-12-18T12:07:45.271Z"
   },
   {
    "duration": 0,
    "start_time": "2022-12-18T12:07:45.273Z"
   },
   {
    "duration": 0,
    "start_time": "2022-12-18T12:07:45.274Z"
   },
   {
    "duration": 0,
    "start_time": "2022-12-18T12:07:45.277Z"
   },
   {
    "duration": 0,
    "start_time": "2022-12-18T12:07:45.278Z"
   },
   {
    "duration": 0,
    "start_time": "2022-12-18T12:07:45.279Z"
   },
   {
    "duration": 0,
    "start_time": "2022-12-18T12:07:45.280Z"
   },
   {
    "duration": 0,
    "start_time": "2022-12-18T12:07:45.327Z"
   },
   {
    "duration": 0,
    "start_time": "2022-12-18T12:07:45.329Z"
   },
   {
    "duration": 0,
    "start_time": "2022-12-18T12:07:45.330Z"
   },
   {
    "duration": 0,
    "start_time": "2022-12-18T12:07:45.332Z"
   },
   {
    "duration": 0,
    "start_time": "2022-12-18T12:07:45.333Z"
   },
   {
    "duration": 0,
    "start_time": "2022-12-18T12:07:45.334Z"
   },
   {
    "duration": 0,
    "start_time": "2022-12-18T12:07:45.335Z"
   },
   {
    "duration": 0,
    "start_time": "2022-12-18T12:07:45.337Z"
   },
   {
    "duration": 0,
    "start_time": "2022-12-18T12:07:45.338Z"
   },
   {
    "duration": 0,
    "start_time": "2022-12-18T12:07:45.339Z"
   },
   {
    "duration": 0,
    "start_time": "2022-12-18T12:07:45.340Z"
   },
   {
    "duration": 0,
    "start_time": "2022-12-18T12:07:45.341Z"
   },
   {
    "duration": 0,
    "start_time": "2022-12-18T12:07:45.342Z"
   },
   {
    "duration": 0,
    "start_time": "2022-12-18T12:07:45.343Z"
   },
   {
    "duration": 0,
    "start_time": "2022-12-18T12:07:45.345Z"
   },
   {
    "duration": 0,
    "start_time": "2022-12-18T12:07:45.345Z"
   },
   {
    "duration": 0,
    "start_time": "2022-12-18T12:07:45.346Z"
   },
   {
    "duration": 0,
    "start_time": "2022-12-18T12:07:45.348Z"
   },
   {
    "duration": 0,
    "start_time": "2022-12-18T12:07:45.349Z"
   },
   {
    "duration": 0,
    "start_time": "2022-12-18T12:07:45.350Z"
   },
   {
    "duration": 8,
    "start_time": "2022-12-18T12:08:11.319Z"
   },
   {
    "duration": 1481,
    "start_time": "2022-12-18T12:08:20.430Z"
   },
   {
    "duration": 47,
    "start_time": "2022-12-18T12:08:21.912Z"
   },
   {
    "duration": 18,
    "start_time": "2022-12-18T12:08:21.961Z"
   },
   {
    "duration": 39,
    "start_time": "2022-12-18T12:08:21.980Z"
   },
   {
    "duration": 23,
    "start_time": "2022-12-18T12:08:22.022Z"
   },
   {
    "duration": 29,
    "start_time": "2022-12-18T12:08:22.047Z"
   },
   {
    "duration": 23,
    "start_time": "2022-12-18T12:08:22.078Z"
   },
   {
    "duration": 32,
    "start_time": "2022-12-18T12:08:22.102Z"
   },
   {
    "duration": 16,
    "start_time": "2022-12-18T12:08:22.136Z"
   },
   {
    "duration": 39,
    "start_time": "2022-12-18T12:08:22.154Z"
   },
   {
    "duration": 35,
    "start_time": "2022-12-18T12:08:22.194Z"
   },
   {
    "duration": 25,
    "start_time": "2022-12-18T12:08:22.230Z"
   },
   {
    "duration": 22,
    "start_time": "2022-12-18T12:08:22.257Z"
   },
   {
    "duration": 29,
    "start_time": "2022-12-18T12:08:22.282Z"
   },
   {
    "duration": 24,
    "start_time": "2022-12-18T12:08:22.313Z"
   },
   {
    "duration": 31,
    "start_time": "2022-12-18T12:08:22.338Z"
   },
   {
    "duration": 181,
    "start_time": "2022-12-18T12:08:22.370Z"
   },
   {
    "duration": 13,
    "start_time": "2022-12-18T12:08:22.553Z"
   },
   {
    "duration": 231,
    "start_time": "2022-12-18T12:08:22.567Z"
   },
   {
    "duration": 110,
    "start_time": "2022-12-18T12:08:22.800Z"
   },
   {
    "duration": 22,
    "start_time": "2022-12-18T12:08:22.911Z"
   },
   {
    "duration": 27,
    "start_time": "2022-12-18T12:08:22.934Z"
   },
   {
    "duration": 354,
    "start_time": "2022-12-18T12:08:22.962Z"
   },
   {
    "duration": 124,
    "start_time": "2022-12-18T12:08:23.318Z"
   },
   {
    "duration": 0,
    "start_time": "2022-12-18T12:08:23.444Z"
   },
   {
    "duration": 0,
    "start_time": "2022-12-18T12:08:23.446Z"
   },
   {
    "duration": 0,
    "start_time": "2022-12-18T12:08:23.447Z"
   },
   {
    "duration": 0,
    "start_time": "2022-12-18T12:08:23.448Z"
   },
   {
    "duration": 0,
    "start_time": "2022-12-18T12:08:23.450Z"
   },
   {
    "duration": 0,
    "start_time": "2022-12-18T12:08:23.451Z"
   },
   {
    "duration": 0,
    "start_time": "2022-12-18T12:08:23.452Z"
   },
   {
    "duration": 0,
    "start_time": "2022-12-18T12:08:23.453Z"
   },
   {
    "duration": 0,
    "start_time": "2022-12-18T12:08:23.454Z"
   },
   {
    "duration": 0,
    "start_time": "2022-12-18T12:08:23.455Z"
   },
   {
    "duration": 0,
    "start_time": "2022-12-18T12:08:23.456Z"
   },
   {
    "duration": 0,
    "start_time": "2022-12-18T12:08:23.457Z"
   },
   {
    "duration": 0,
    "start_time": "2022-12-18T12:08:23.457Z"
   },
   {
    "duration": 0,
    "start_time": "2022-12-18T12:08:23.458Z"
   },
   {
    "duration": 0,
    "start_time": "2022-12-18T12:08:23.459Z"
   },
   {
    "duration": 0,
    "start_time": "2022-12-18T12:08:23.460Z"
   },
   {
    "duration": 0,
    "start_time": "2022-12-18T12:08:23.461Z"
   },
   {
    "duration": 0,
    "start_time": "2022-12-18T12:08:23.462Z"
   },
   {
    "duration": 0,
    "start_time": "2022-12-18T12:08:23.463Z"
   },
   {
    "duration": 0,
    "start_time": "2022-12-18T12:08:23.464Z"
   },
   {
    "duration": 0,
    "start_time": "2022-12-18T12:08:23.466Z"
   },
   {
    "duration": 0,
    "start_time": "2022-12-18T12:08:23.467Z"
   },
   {
    "duration": 0,
    "start_time": "2022-12-18T12:08:23.468Z"
   },
   {
    "duration": 0,
    "start_time": "2022-12-18T12:08:23.469Z"
   },
   {
    "duration": 0,
    "start_time": "2022-12-18T12:08:23.470Z"
   },
   {
    "duration": 0,
    "start_time": "2022-12-18T12:08:23.471Z"
   },
   {
    "duration": 0,
    "start_time": "2022-12-18T12:08:23.472Z"
   },
   {
    "duration": 0,
    "start_time": "2022-12-18T12:08:23.474Z"
   },
   {
    "duration": 0,
    "start_time": "2022-12-18T12:08:23.475Z"
   },
   {
    "duration": 0,
    "start_time": "2022-12-18T12:08:23.526Z"
   },
   {
    "duration": 0,
    "start_time": "2022-12-18T12:08:23.528Z"
   },
   {
    "duration": 0,
    "start_time": "2022-12-18T12:08:23.529Z"
   },
   {
    "duration": 0,
    "start_time": "2022-12-18T12:08:23.530Z"
   },
   {
    "duration": 1358,
    "start_time": "2022-12-18T12:56:23.284Z"
   },
   {
    "duration": 45,
    "start_time": "2022-12-18T12:56:24.644Z"
   },
   {
    "duration": 17,
    "start_time": "2022-12-18T12:56:24.690Z"
   },
   {
    "duration": 12,
    "start_time": "2022-12-18T12:56:24.709Z"
   },
   {
    "duration": 9,
    "start_time": "2022-12-18T12:56:24.726Z"
   },
   {
    "duration": 16,
    "start_time": "2022-12-18T12:56:24.736Z"
   },
   {
    "duration": 11,
    "start_time": "2022-12-18T12:56:24.753Z"
   },
   {
    "duration": 13,
    "start_time": "2022-12-18T12:56:24.766Z"
   },
   {
    "duration": 2,
    "start_time": "2022-12-18T12:56:24.780Z"
   },
   {
    "duration": 10,
    "start_time": "2022-12-18T12:56:24.783Z"
   },
   {
    "duration": 58,
    "start_time": "2022-12-18T12:56:24.794Z"
   },
   {
    "duration": 16,
    "start_time": "2022-12-18T12:56:24.854Z"
   },
   {
    "duration": 19,
    "start_time": "2022-12-18T12:56:24.872Z"
   },
   {
    "duration": 21,
    "start_time": "2022-12-18T12:56:24.894Z"
   },
   {
    "duration": 5,
    "start_time": "2022-12-18T12:56:24.927Z"
   },
   {
    "duration": 19,
    "start_time": "2022-12-18T12:56:24.933Z"
   },
   {
    "duration": 168,
    "start_time": "2022-12-18T12:56:24.954Z"
   },
   {
    "duration": 13,
    "start_time": "2022-12-18T12:56:25.127Z"
   },
   {
    "duration": 226,
    "start_time": "2022-12-18T12:56:25.142Z"
   },
   {
    "duration": 103,
    "start_time": "2022-12-18T12:56:25.370Z"
   },
   {
    "duration": 17,
    "start_time": "2022-12-18T12:56:25.474Z"
   },
   {
    "duration": 14,
    "start_time": "2022-12-18T12:56:25.492Z"
   },
   {
    "duration": 397,
    "start_time": "2022-12-18T12:56:25.508Z"
   },
   {
    "duration": 120,
    "start_time": "2022-12-18T12:56:25.907Z"
   },
   {
    "duration": 0,
    "start_time": "2022-12-18T12:56:26.029Z"
   },
   {
    "duration": 0,
    "start_time": "2022-12-18T12:56:26.030Z"
   },
   {
    "duration": 0,
    "start_time": "2022-12-18T12:56:26.031Z"
   },
   {
    "duration": 0,
    "start_time": "2022-12-18T12:56:26.033Z"
   },
   {
    "duration": 0,
    "start_time": "2022-12-18T12:56:26.034Z"
   },
   {
    "duration": 0,
    "start_time": "2022-12-18T12:56:26.035Z"
   },
   {
    "duration": 0,
    "start_time": "2022-12-18T12:56:26.036Z"
   },
   {
    "duration": 0,
    "start_time": "2022-12-18T12:56:26.037Z"
   },
   {
    "duration": 0,
    "start_time": "2022-12-18T12:56:26.038Z"
   },
   {
    "duration": 0,
    "start_time": "2022-12-18T12:56:26.039Z"
   },
   {
    "duration": 0,
    "start_time": "2022-12-18T12:56:26.040Z"
   },
   {
    "duration": 0,
    "start_time": "2022-12-18T12:56:26.041Z"
   },
   {
    "duration": 0,
    "start_time": "2022-12-18T12:56:26.042Z"
   },
   {
    "duration": 0,
    "start_time": "2022-12-18T12:56:26.043Z"
   },
   {
    "duration": 0,
    "start_time": "2022-12-18T12:56:26.044Z"
   },
   {
    "duration": 0,
    "start_time": "2022-12-18T12:56:26.045Z"
   },
   {
    "duration": 0,
    "start_time": "2022-12-18T12:56:26.046Z"
   },
   {
    "duration": 0,
    "start_time": "2022-12-18T12:56:26.046Z"
   },
   {
    "duration": 0,
    "start_time": "2022-12-18T12:56:26.047Z"
   },
   {
    "duration": 0,
    "start_time": "2022-12-18T12:56:26.049Z"
   },
   {
    "duration": 0,
    "start_time": "2022-12-18T12:56:26.049Z"
   },
   {
    "duration": 0,
    "start_time": "2022-12-18T12:56:26.051Z"
   },
   {
    "duration": 0,
    "start_time": "2022-12-18T12:56:26.052Z"
   },
   {
    "duration": 0,
    "start_time": "2022-12-18T12:56:26.052Z"
   },
   {
    "duration": 0,
    "start_time": "2022-12-18T12:56:26.054Z"
   },
   {
    "duration": 0,
    "start_time": "2022-12-18T12:56:26.054Z"
   },
   {
    "duration": 0,
    "start_time": "2022-12-18T12:56:26.055Z"
   },
   {
    "duration": 0,
    "start_time": "2022-12-18T12:56:26.056Z"
   },
   {
    "duration": 0,
    "start_time": "2022-12-18T12:56:26.058Z"
   },
   {
    "duration": 0,
    "start_time": "2022-12-18T12:56:26.059Z"
   },
   {
    "duration": 0,
    "start_time": "2022-12-18T12:56:26.060Z"
   },
   {
    "duration": 0,
    "start_time": "2022-12-18T12:56:26.062Z"
   },
   {
    "duration": 0,
    "start_time": "2022-12-18T12:56:26.063Z"
   },
   {
    "duration": 1872,
    "start_time": "2022-12-18T19:55:16.598Z"
   },
   {
    "duration": 205,
    "start_time": "2022-12-18T19:55:18.472Z"
   },
   {
    "duration": 18,
    "start_time": "2022-12-18T19:55:18.679Z"
   },
   {
    "duration": 27,
    "start_time": "2022-12-18T19:55:18.698Z"
   },
   {
    "duration": 26,
    "start_time": "2022-12-18T19:55:18.727Z"
   },
   {
    "duration": 27,
    "start_time": "2022-12-18T19:55:18.755Z"
   },
   {
    "duration": 13,
    "start_time": "2022-12-18T19:55:18.784Z"
   },
   {
    "duration": 50,
    "start_time": "2022-12-18T19:55:18.799Z"
   },
   {
    "duration": 12,
    "start_time": "2022-12-18T19:55:18.851Z"
   },
   {
    "duration": 33,
    "start_time": "2022-12-18T19:55:18.865Z"
   },
   {
    "duration": 42,
    "start_time": "2022-12-18T19:55:18.900Z"
   },
   {
    "duration": 36,
    "start_time": "2022-12-18T19:55:18.943Z"
   },
   {
    "duration": 24,
    "start_time": "2022-12-18T19:55:18.980Z"
   },
   {
    "duration": 54,
    "start_time": "2022-12-18T19:55:19.006Z"
   },
   {
    "duration": 12,
    "start_time": "2022-12-18T19:55:19.062Z"
   },
   {
    "duration": 42,
    "start_time": "2022-12-18T19:55:19.075Z"
   },
   {
    "duration": 234,
    "start_time": "2022-12-18T19:55:19.119Z"
   },
   {
    "duration": 14,
    "start_time": "2022-12-18T19:55:19.354Z"
   },
   {
    "duration": 271,
    "start_time": "2022-12-18T19:55:19.370Z"
   },
   {
    "duration": 118,
    "start_time": "2022-12-18T19:55:19.643Z"
   },
   {
    "duration": 16,
    "start_time": "2022-12-18T19:55:19.763Z"
   },
   {
    "duration": 30,
    "start_time": "2022-12-18T19:55:19.780Z"
   },
   {
    "duration": 400,
    "start_time": "2022-12-18T19:55:19.812Z"
   },
   {
    "duration": 140,
    "start_time": "2022-12-18T19:55:20.214Z"
   },
   {
    "duration": 0,
    "start_time": "2022-12-18T19:55:20.357Z"
   },
   {
    "duration": 0,
    "start_time": "2022-12-18T19:55:20.358Z"
   },
   {
    "duration": 0,
    "start_time": "2022-12-18T19:55:20.359Z"
   },
   {
    "duration": 0,
    "start_time": "2022-12-18T19:55:20.361Z"
   },
   {
    "duration": 0,
    "start_time": "2022-12-18T19:55:20.362Z"
   },
   {
    "duration": 0,
    "start_time": "2022-12-18T19:55:20.363Z"
   },
   {
    "duration": 0,
    "start_time": "2022-12-18T19:55:20.365Z"
   },
   {
    "duration": 0,
    "start_time": "2022-12-18T19:55:20.366Z"
   },
   {
    "duration": 0,
    "start_time": "2022-12-18T19:55:20.367Z"
   },
   {
    "duration": 0,
    "start_time": "2022-12-18T19:55:20.369Z"
   },
   {
    "duration": 0,
    "start_time": "2022-12-18T19:55:20.370Z"
   },
   {
    "duration": 1,
    "start_time": "2022-12-18T19:55:20.371Z"
   },
   {
    "duration": 0,
    "start_time": "2022-12-18T19:55:20.372Z"
   },
   {
    "duration": 0,
    "start_time": "2022-12-18T19:55:20.374Z"
   },
   {
    "duration": 0,
    "start_time": "2022-12-18T19:55:20.375Z"
   },
   {
    "duration": 0,
    "start_time": "2022-12-18T19:55:20.376Z"
   },
   {
    "duration": 0,
    "start_time": "2022-12-18T19:55:20.377Z"
   },
   {
    "duration": 0,
    "start_time": "2022-12-18T19:55:20.378Z"
   },
   {
    "duration": 0,
    "start_time": "2022-12-18T19:55:20.380Z"
   },
   {
    "duration": 0,
    "start_time": "2022-12-18T19:55:20.380Z"
   },
   {
    "duration": 0,
    "start_time": "2022-12-18T19:55:20.381Z"
   },
   {
    "duration": 1,
    "start_time": "2022-12-18T19:55:20.422Z"
   },
   {
    "duration": 0,
    "start_time": "2022-12-18T19:55:20.424Z"
   },
   {
    "duration": 0,
    "start_time": "2022-12-18T19:55:20.425Z"
   },
   {
    "duration": 0,
    "start_time": "2022-12-18T19:55:20.426Z"
   },
   {
    "duration": 0,
    "start_time": "2022-12-18T19:55:20.427Z"
   },
   {
    "duration": 0,
    "start_time": "2022-12-18T19:55:20.429Z"
   },
   {
    "duration": 0,
    "start_time": "2022-12-18T19:55:20.430Z"
   },
   {
    "duration": 0,
    "start_time": "2022-12-18T19:55:20.430Z"
   },
   {
    "duration": 0,
    "start_time": "2022-12-18T19:55:20.431Z"
   },
   {
    "duration": 0,
    "start_time": "2022-12-18T19:55:20.432Z"
   },
   {
    "duration": 0,
    "start_time": "2022-12-18T19:55:20.432Z"
   },
   {
    "duration": 0,
    "start_time": "2022-12-18T19:55:20.433Z"
   },
   {
    "duration": 20,
    "start_time": "2022-12-18T19:57:03.132Z"
   },
   {
    "duration": 529,
    "start_time": "2022-12-18T19:57:03.886Z"
   },
   {
    "duration": 2074,
    "start_time": "2022-12-19T12:50:30.215Z"
   },
   {
    "duration": 125,
    "start_time": "2022-12-19T12:50:32.291Z"
   },
   {
    "duration": 19,
    "start_time": "2022-12-19T12:50:32.418Z"
   },
   {
    "duration": 14,
    "start_time": "2022-12-19T12:50:32.438Z"
   },
   {
    "duration": 6,
    "start_time": "2022-12-19T12:50:32.461Z"
   },
   {
    "duration": 21,
    "start_time": "2022-12-19T12:50:32.469Z"
   },
   {
    "duration": 16,
    "start_time": "2022-12-19T12:50:32.492Z"
   },
   {
    "duration": 17,
    "start_time": "2022-12-19T12:50:32.510Z"
   },
   {
    "duration": 3,
    "start_time": "2022-12-19T12:50:32.529Z"
   },
   {
    "duration": 11,
    "start_time": "2022-12-19T12:50:32.557Z"
   },
   {
    "duration": 38,
    "start_time": "2022-12-19T12:50:32.570Z"
   },
   {
    "duration": 17,
    "start_time": "2022-12-19T12:50:32.610Z"
   },
   {
    "duration": 37,
    "start_time": "2022-12-19T12:50:32.629Z"
   },
   {
    "duration": 27,
    "start_time": "2022-12-19T12:50:32.668Z"
   },
   {
    "duration": 9,
    "start_time": "2022-12-19T12:50:32.698Z"
   },
   {
    "duration": 21,
    "start_time": "2022-12-19T12:50:32.708Z"
   },
   {
    "duration": 222,
    "start_time": "2022-12-19T12:50:32.754Z"
   },
   {
    "duration": 20,
    "start_time": "2022-12-19T12:50:32.978Z"
   },
   {
    "duration": 251,
    "start_time": "2022-12-19T12:50:33.000Z"
   },
   {
    "duration": 119,
    "start_time": "2022-12-19T12:50:33.262Z"
   },
   {
    "duration": 21,
    "start_time": "2022-12-19T12:50:33.383Z"
   },
   {
    "duration": 15,
    "start_time": "2022-12-19T12:50:33.406Z"
   },
   {
    "duration": 482,
    "start_time": "2022-12-19T12:50:33.423Z"
   },
   {
    "duration": 22,
    "start_time": "2022-12-19T12:50:33.907Z"
   },
   {
    "duration": 509,
    "start_time": "2022-12-19T12:50:33.931Z"
   },
   {
    "duration": 15,
    "start_time": "2022-12-19T12:50:34.442Z"
   },
   {
    "duration": 35,
    "start_time": "2022-12-19T12:50:34.459Z"
   },
   {
    "duration": 60,
    "start_time": "2022-12-19T12:50:34.499Z"
   },
   {
    "duration": 592,
    "start_time": "2022-12-19T12:50:34.560Z"
   },
   {
    "duration": 18,
    "start_time": "2022-12-19T12:50:35.154Z"
   },
   {
    "duration": 349,
    "start_time": "2022-12-19T12:50:35.175Z"
   },
   {
    "duration": 31,
    "start_time": "2022-12-19T12:50:35.525Z"
   },
   {
    "duration": 214,
    "start_time": "2022-12-19T12:50:35.557Z"
   },
   {
    "duration": 14961,
    "start_time": "2022-12-19T12:50:35.773Z"
   },
   {
    "duration": 42,
    "start_time": "2022-12-19T12:50:50.735Z"
   },
   {
    "duration": 302,
    "start_time": "2022-12-19T12:50:50.779Z"
   },
   {
    "duration": 0,
    "start_time": "2022-12-19T12:50:51.082Z"
   },
   {
    "duration": 0,
    "start_time": "2022-12-19T12:50:51.083Z"
   },
   {
    "duration": 0,
    "start_time": "2022-12-19T12:50:51.085Z"
   },
   {
    "duration": 0,
    "start_time": "2022-12-19T12:50:51.086Z"
   },
   {
    "duration": 0,
    "start_time": "2022-12-19T12:50:51.088Z"
   },
   {
    "duration": 0,
    "start_time": "2022-12-19T12:50:51.089Z"
   },
   {
    "duration": 0,
    "start_time": "2022-12-19T12:50:51.091Z"
   },
   {
    "duration": 0,
    "start_time": "2022-12-19T12:50:51.092Z"
   },
   {
    "duration": 0,
    "start_time": "2022-12-19T12:50:51.094Z"
   },
   {
    "duration": 0,
    "start_time": "2022-12-19T12:50:51.095Z"
   },
   {
    "duration": 0,
    "start_time": "2022-12-19T12:50:51.097Z"
   },
   {
    "duration": 0,
    "start_time": "2022-12-19T12:50:51.155Z"
   },
   {
    "duration": 0,
    "start_time": "2022-12-19T12:50:51.157Z"
   },
   {
    "duration": 0,
    "start_time": "2022-12-19T12:50:51.158Z"
   },
   {
    "duration": 0,
    "start_time": "2022-12-19T12:50:51.160Z"
   },
   {
    "duration": 0,
    "start_time": "2022-12-19T12:50:51.161Z"
   },
   {
    "duration": 0,
    "start_time": "2022-12-19T12:50:51.163Z"
   },
   {
    "duration": 0,
    "start_time": "2022-12-19T12:50:51.164Z"
   },
   {
    "duration": 0,
    "start_time": "2022-12-19T12:50:51.165Z"
   },
   {
    "duration": 0,
    "start_time": "2022-12-19T12:50:51.166Z"
   },
   {
    "duration": 0,
    "start_time": "2022-12-19T12:50:51.168Z"
   },
   {
    "duration": 1651,
    "start_time": "2022-12-19T13:18:57.831Z"
   },
   {
    "duration": 58,
    "start_time": "2022-12-19T13:18:59.484Z"
   },
   {
    "duration": 20,
    "start_time": "2022-12-19T13:18:59.544Z"
   },
   {
    "duration": 15,
    "start_time": "2022-12-19T13:18:59.568Z"
   },
   {
    "duration": 13,
    "start_time": "2022-12-19T13:18:59.584Z"
   },
   {
    "duration": 28,
    "start_time": "2022-12-19T13:18:59.599Z"
   },
   {
    "duration": 28,
    "start_time": "2022-12-19T13:18:59.629Z"
   },
   {
    "duration": 20,
    "start_time": "2022-12-19T13:18:59.659Z"
   },
   {
    "duration": 3,
    "start_time": "2022-12-19T13:18:59.680Z"
   },
   {
    "duration": 16,
    "start_time": "2022-12-19T13:18:59.686Z"
   },
   {
    "duration": 58,
    "start_time": "2022-12-19T13:18:59.704Z"
   },
   {
    "duration": 23,
    "start_time": "2022-12-19T13:18:59.764Z"
   },
   {
    "duration": 28,
    "start_time": "2022-12-19T13:18:59.789Z"
   },
   {
    "duration": 37,
    "start_time": "2022-12-19T13:18:59.818Z"
   },
   {
    "duration": 7,
    "start_time": "2022-12-19T13:18:59.857Z"
   },
   {
    "duration": 22,
    "start_time": "2022-12-19T13:18:59.865Z"
   },
   {
    "duration": 189,
    "start_time": "2022-12-19T13:18:59.889Z"
   },
   {
    "duration": 15,
    "start_time": "2022-12-19T13:19:00.080Z"
   },
   {
    "duration": 280,
    "start_time": "2022-12-19T13:19:00.097Z"
   },
   {
    "duration": 127,
    "start_time": "2022-12-19T13:19:00.379Z"
   },
   {
    "duration": 19,
    "start_time": "2022-12-19T13:19:00.508Z"
   },
   {
    "duration": 35,
    "start_time": "2022-12-19T13:19:00.529Z"
   },
   {
    "duration": 366,
    "start_time": "2022-12-19T13:19:00.566Z"
   },
   {
    "duration": 32,
    "start_time": "2022-12-19T13:19:00.934Z"
   },
   {
    "duration": 500,
    "start_time": "2022-12-19T13:19:00.969Z"
   },
   {
    "duration": 6,
    "start_time": "2022-12-19T13:19:01.471Z"
   },
   {
    "duration": 30,
    "start_time": "2022-12-19T13:19:01.479Z"
   },
   {
    "duration": 62,
    "start_time": "2022-12-19T13:19:01.513Z"
   },
   {
    "duration": 479,
    "start_time": "2022-12-19T13:19:01.577Z"
   },
   {
    "duration": 15,
    "start_time": "2022-12-19T13:19:02.059Z"
   },
   {
    "duration": 405,
    "start_time": "2022-12-19T13:19:02.076Z"
   },
   {
    "duration": 26,
    "start_time": "2022-12-19T13:19:02.483Z"
   },
   {
    "duration": 163,
    "start_time": "2022-12-19T13:19:02.511Z"
   },
   {
    "duration": 13879,
    "start_time": "2022-12-19T13:19:02.676Z"
   },
   {
    "duration": 21,
    "start_time": "2022-12-19T13:19:16.556Z"
   },
   {
    "duration": 303,
    "start_time": "2022-12-19T13:19:16.579Z"
   },
   {
    "duration": 0,
    "start_time": "2022-12-19T13:19:16.884Z"
   },
   {
    "duration": 0,
    "start_time": "2022-12-19T13:19:16.885Z"
   },
   {
    "duration": 0,
    "start_time": "2022-12-19T13:19:16.887Z"
   },
   {
    "duration": 0,
    "start_time": "2022-12-19T13:19:16.887Z"
   },
   {
    "duration": 0,
    "start_time": "2022-12-19T13:19:16.889Z"
   },
   {
    "duration": 0,
    "start_time": "2022-12-19T13:19:16.890Z"
   },
   {
    "duration": 0,
    "start_time": "2022-12-19T13:19:16.891Z"
   },
   {
    "duration": 0,
    "start_time": "2022-12-19T13:19:16.892Z"
   },
   {
    "duration": 0,
    "start_time": "2022-12-19T13:19:16.893Z"
   },
   {
    "duration": 0,
    "start_time": "2022-12-19T13:19:16.894Z"
   },
   {
    "duration": 0,
    "start_time": "2022-12-19T13:19:16.895Z"
   },
   {
    "duration": 0,
    "start_time": "2022-12-19T13:19:16.896Z"
   },
   {
    "duration": 0,
    "start_time": "2022-12-19T13:19:16.897Z"
   },
   {
    "duration": 0,
    "start_time": "2022-12-19T13:19:16.954Z"
   },
   {
    "duration": 0,
    "start_time": "2022-12-19T13:19:16.956Z"
   },
   {
    "duration": 0,
    "start_time": "2022-12-19T13:19:16.958Z"
   },
   {
    "duration": 0,
    "start_time": "2022-12-19T13:19:16.959Z"
   },
   {
    "duration": 0,
    "start_time": "2022-12-19T13:19:16.960Z"
   },
   {
    "duration": 0,
    "start_time": "2022-12-19T13:19:16.961Z"
   },
   {
    "duration": 0,
    "start_time": "2022-12-19T13:19:16.964Z"
   },
   {
    "duration": 0,
    "start_time": "2022-12-19T13:19:16.965Z"
   },
   {
    "duration": 28,
    "start_time": "2022-12-19T13:50:14.660Z"
   },
   {
    "duration": 11,
    "start_time": "2022-12-19T13:52:21.619Z"
   },
   {
    "duration": 20,
    "start_time": "2022-12-19T13:55:43.495Z"
   },
   {
    "duration": 20,
    "start_time": "2022-12-19T13:57:06.536Z"
   },
   {
    "duration": 382,
    "start_time": "2022-12-19T13:57:57.455Z"
   },
   {
    "duration": 377,
    "start_time": "2022-12-19T13:58:20.013Z"
   },
   {
    "duration": 335,
    "start_time": "2022-12-19T13:59:37.041Z"
   },
   {
    "duration": 430,
    "start_time": "2022-12-19T13:59:44.622Z"
   },
   {
    "duration": 340,
    "start_time": "2022-12-19T14:00:06.167Z"
   },
   {
    "duration": 367,
    "start_time": "2022-12-19T14:00:12.205Z"
   },
   {
    "duration": 589,
    "start_time": "2022-12-19T14:00:16.230Z"
   },
   {
    "duration": 1858,
    "start_time": "2022-12-19T14:16:35.080Z"
   },
   {
    "duration": 101,
    "start_time": "2022-12-19T14:16:36.940Z"
   },
   {
    "duration": 21,
    "start_time": "2022-12-19T14:16:37.043Z"
   },
   {
    "duration": 19,
    "start_time": "2022-12-19T14:16:37.066Z"
   },
   {
    "duration": 8,
    "start_time": "2022-12-19T14:16:37.087Z"
   },
   {
    "duration": 25,
    "start_time": "2022-12-19T14:16:37.096Z"
   },
   {
    "duration": 23,
    "start_time": "2022-12-19T14:16:37.123Z"
   },
   {
    "duration": 16,
    "start_time": "2022-12-19T14:16:37.147Z"
   },
   {
    "duration": 24,
    "start_time": "2022-12-19T14:16:37.165Z"
   },
   {
    "duration": 25,
    "start_time": "2022-12-19T14:16:37.191Z"
   },
   {
    "duration": 42,
    "start_time": "2022-12-19T14:16:37.218Z"
   },
   {
    "duration": 17,
    "start_time": "2022-12-19T14:16:37.261Z"
   },
   {
    "duration": 35,
    "start_time": "2022-12-19T14:16:37.280Z"
   },
   {
    "duration": 17,
    "start_time": "2022-12-19T14:16:37.318Z"
   },
   {
    "duration": 9,
    "start_time": "2022-12-19T14:16:37.336Z"
   },
   {
    "duration": 21,
    "start_time": "2022-12-19T14:16:37.346Z"
   },
   {
    "duration": 183,
    "start_time": "2022-12-19T14:16:37.368Z"
   },
   {
    "duration": 14,
    "start_time": "2022-12-19T14:16:37.553Z"
   },
   {
    "duration": 278,
    "start_time": "2022-12-19T14:16:37.568Z"
   },
   {
    "duration": 116,
    "start_time": "2022-12-19T14:16:37.848Z"
   },
   {
    "duration": 19,
    "start_time": "2022-12-19T14:16:37.966Z"
   },
   {
    "duration": 35,
    "start_time": "2022-12-19T14:16:37.987Z"
   },
   {
    "duration": 352,
    "start_time": "2022-12-19T14:16:38.024Z"
   },
   {
    "duration": 19,
    "start_time": "2022-12-19T14:16:38.378Z"
   },
   {
    "duration": 426,
    "start_time": "2022-12-19T14:16:38.399Z"
   },
   {
    "duration": 6,
    "start_time": "2022-12-19T14:16:38.827Z"
   },
   {
    "duration": 43,
    "start_time": "2022-12-19T14:16:38.835Z"
   },
   {
    "duration": 45,
    "start_time": "2022-12-19T14:16:38.879Z"
   },
   {
    "duration": 404,
    "start_time": "2022-12-19T14:16:38.925Z"
   },
   {
    "duration": 15,
    "start_time": "2022-12-19T14:16:39.330Z"
   },
   {
    "duration": 302,
    "start_time": "2022-12-19T14:16:39.347Z"
   },
   {
    "duration": 18,
    "start_time": "2022-12-19T14:16:39.650Z"
   },
   {
    "duration": 150,
    "start_time": "2022-12-19T14:16:39.669Z"
   },
   {
    "duration": 14200,
    "start_time": "2022-12-19T14:16:39.821Z"
   },
   {
    "duration": 20,
    "start_time": "2022-12-19T14:16:54.023Z"
   },
   {
    "duration": 286,
    "start_time": "2022-12-19T14:16:54.044Z"
   },
   {
    "duration": 0,
    "start_time": "2022-12-19T14:16:54.332Z"
   },
   {
    "duration": 0,
    "start_time": "2022-12-19T14:16:54.334Z"
   },
   {
    "duration": 0,
    "start_time": "2022-12-19T14:16:54.334Z"
   },
   {
    "duration": 0,
    "start_time": "2022-12-19T14:16:54.335Z"
   },
   {
    "duration": 0,
    "start_time": "2022-12-19T14:16:54.336Z"
   },
   {
    "duration": 0,
    "start_time": "2022-12-19T14:16:54.337Z"
   },
   {
    "duration": 0,
    "start_time": "2022-12-19T14:16:54.338Z"
   },
   {
    "duration": 0,
    "start_time": "2022-12-19T14:16:54.339Z"
   },
   {
    "duration": 0,
    "start_time": "2022-12-19T14:16:54.340Z"
   },
   {
    "duration": 0,
    "start_time": "2022-12-19T14:16:54.342Z"
   },
   {
    "duration": 0,
    "start_time": "2022-12-19T14:16:54.343Z"
   },
   {
    "duration": 0,
    "start_time": "2022-12-19T14:16:54.344Z"
   },
   {
    "duration": 0,
    "start_time": "2022-12-19T14:16:54.345Z"
   },
   {
    "duration": 0,
    "start_time": "2022-12-19T14:16:54.346Z"
   },
   {
    "duration": 0,
    "start_time": "2022-12-19T14:16:54.347Z"
   },
   {
    "duration": 0,
    "start_time": "2022-12-19T14:16:54.348Z"
   },
   {
    "duration": 0,
    "start_time": "2022-12-19T14:16:54.349Z"
   },
   {
    "duration": 0,
    "start_time": "2022-12-19T14:16:54.350Z"
   },
   {
    "duration": 0,
    "start_time": "2022-12-19T14:16:54.351Z"
   },
   {
    "duration": 0,
    "start_time": "2022-12-19T14:16:54.352Z"
   },
   {
    "duration": 0,
    "start_time": "2022-12-19T14:16:54.353Z"
   },
   {
    "duration": 24,
    "start_time": "2022-12-19T14:17:35.043Z"
   },
   {
    "duration": 18,
    "start_time": "2022-12-19T14:17:42.515Z"
   },
   {
    "duration": 369,
    "start_time": "2022-12-19T14:17:47.094Z"
   },
   {
    "duration": 362,
    "start_time": "2022-12-19T14:18:00.355Z"
   },
   {
    "duration": 30,
    "start_time": "2022-12-19T14:18:55.165Z"
   },
   {
    "duration": 22,
    "start_time": "2022-12-19T14:18:58.415Z"
   },
   {
    "duration": 30,
    "start_time": "2022-12-19T14:18:58.892Z"
   },
   {
    "duration": 367,
    "start_time": "2022-12-19T14:19:25.696Z"
   },
   {
    "duration": 70,
    "start_time": "2022-12-19T14:24:15.994Z"
   },
   {
    "duration": 60,
    "start_time": "2022-12-19T14:24:52.314Z"
   },
   {
    "duration": 63,
    "start_time": "2022-12-19T14:25:13.486Z"
   },
   {
    "duration": 587,
    "start_time": "2022-12-19T14:25:23.371Z"
   },
   {
    "duration": 86,
    "start_time": "2022-12-19T14:26:19.048Z"
   },
   {
    "duration": 46,
    "start_time": "2022-12-19T14:27:09.939Z"
   },
   {
    "duration": 72,
    "start_time": "2022-12-19T14:27:47.589Z"
   },
   {
    "duration": 74,
    "start_time": "2022-12-19T14:28:29.415Z"
   },
   {
    "duration": 27,
    "start_time": "2022-12-19T14:28:50.182Z"
   },
   {
    "duration": 4,
    "start_time": "2022-12-19T14:28:50.211Z"
   },
   {
    "duration": 57,
    "start_time": "2022-12-19T14:29:08.513Z"
   },
   {
    "duration": 19,
    "start_time": "2022-12-19T14:29:12.249Z"
   },
   {
    "duration": 4,
    "start_time": "2022-12-19T14:29:12.665Z"
   },
   {
    "duration": 6,
    "start_time": "2022-12-19T14:29:13.298Z"
   },
   {
    "duration": 200,
    "start_time": "2022-12-19T14:29:14.937Z"
   },
   {
    "duration": 70,
    "start_time": "2022-12-19T14:34:38.436Z"
   },
   {
    "duration": 71,
    "start_time": "2022-12-19T14:34:52.503Z"
   },
   {
    "duration": 51,
    "start_time": "2022-12-19T14:35:20.179Z"
   },
   {
    "duration": 49,
    "start_time": "2022-12-19T14:35:34.899Z"
   },
   {
    "duration": 62,
    "start_time": "2022-12-19T14:35:56.155Z"
   },
   {
    "duration": 64,
    "start_time": "2022-12-19T14:35:58.894Z"
   },
   {
    "duration": 79,
    "start_time": "2022-12-19T14:36:45.859Z"
   },
   {
    "duration": 74,
    "start_time": "2022-12-19T14:37:17.575Z"
   },
   {
    "duration": 73,
    "start_time": "2022-12-19T14:37:28.345Z"
   },
   {
    "duration": 1600,
    "start_time": "2022-12-20T08:23:14.434Z"
   },
   {
    "duration": 70,
    "start_time": "2022-12-20T08:23:16.036Z"
   },
   {
    "duration": 25,
    "start_time": "2022-12-20T08:23:16.108Z"
   },
   {
    "duration": 16,
    "start_time": "2022-12-20T08:23:16.135Z"
   },
   {
    "duration": 6,
    "start_time": "2022-12-20T08:23:16.153Z"
   },
   {
    "duration": 18,
    "start_time": "2022-12-20T08:23:16.160Z"
   },
   {
    "duration": 12,
    "start_time": "2022-12-20T08:23:16.179Z"
   },
   {
    "duration": 45,
    "start_time": "2022-12-20T08:23:16.193Z"
   },
   {
    "duration": 20,
    "start_time": "2022-12-20T08:23:16.240Z"
   },
   {
    "duration": 8,
    "start_time": "2022-12-20T08:23:16.263Z"
   },
   {
    "duration": 57,
    "start_time": "2022-12-20T08:23:16.273Z"
   },
   {
    "duration": 26,
    "start_time": "2022-12-20T08:23:16.332Z"
   },
   {
    "duration": 33,
    "start_time": "2022-12-20T08:23:16.360Z"
   },
   {
    "duration": 36,
    "start_time": "2022-12-20T08:23:16.396Z"
   },
   {
    "duration": 11,
    "start_time": "2022-12-20T08:23:16.435Z"
   },
   {
    "duration": 29,
    "start_time": "2022-12-20T08:23:16.448Z"
   },
   {
    "duration": 192,
    "start_time": "2022-12-20T08:23:16.480Z"
   },
   {
    "duration": 14,
    "start_time": "2022-12-20T08:23:16.673Z"
   },
   {
    "duration": 257,
    "start_time": "2022-12-20T08:23:16.688Z"
   },
   {
    "duration": 120,
    "start_time": "2022-12-20T08:23:16.947Z"
   },
   {
    "duration": 18,
    "start_time": "2022-12-20T08:23:17.068Z"
   },
   {
    "duration": 32,
    "start_time": "2022-12-20T08:23:17.088Z"
   },
   {
    "duration": 334,
    "start_time": "2022-12-20T08:23:17.122Z"
   },
   {
    "duration": 25,
    "start_time": "2022-12-20T08:23:17.457Z"
   },
   {
    "duration": 453,
    "start_time": "2022-12-20T08:23:17.484Z"
   },
   {
    "duration": 8,
    "start_time": "2022-12-20T08:23:17.939Z"
   },
   {
    "duration": 24,
    "start_time": "2022-12-20T08:23:17.948Z"
   },
   {
    "duration": 584,
    "start_time": "2022-12-20T08:23:17.976Z"
   },
   {
    "duration": 18,
    "start_time": "2022-12-20T08:23:18.616Z"
   },
   {
    "duration": 315,
    "start_time": "2022-12-20T08:23:18.636Z"
   },
   {
    "duration": 21,
    "start_time": "2022-12-20T08:23:18.953Z"
   },
   {
    "duration": 135,
    "start_time": "2022-12-20T08:23:18.975Z"
   },
   {
    "duration": 13339,
    "start_time": "2022-12-20T08:23:19.112Z"
   },
   {
    "duration": 63,
    "start_time": "2022-12-20T08:23:32.454Z"
   },
   {
    "duration": 223,
    "start_time": "2022-12-20T08:23:32.519Z"
   },
   {
    "duration": 3,
    "start_time": "2022-12-20T08:23:32.743Z"
   },
   {
    "duration": 13,
    "start_time": "2022-12-20T08:23:32.748Z"
   },
   {
    "duration": 53,
    "start_time": "2022-12-20T08:23:32.763Z"
   },
   {
    "duration": 3,
    "start_time": "2022-12-20T08:23:32.818Z"
   },
   {
    "duration": 15,
    "start_time": "2022-12-20T08:23:32.823Z"
   },
   {
    "duration": 91,
    "start_time": "2022-12-20T08:23:32.840Z"
   },
   {
    "duration": 7,
    "start_time": "2022-12-20T08:23:32.933Z"
   },
   {
    "duration": 118,
    "start_time": "2022-12-20T08:23:32.941Z"
   },
   {
    "duration": 20,
    "start_time": "2022-12-20T08:23:33.061Z"
   },
   {
    "duration": 325,
    "start_time": "2022-12-20T08:23:33.083Z"
   },
   {
    "duration": 21,
    "start_time": "2022-12-20T08:23:33.410Z"
   },
   {
    "duration": 21,
    "start_time": "2022-12-20T08:23:33.432Z"
   },
   {
    "duration": 13,
    "start_time": "2022-12-20T08:23:33.455Z"
   },
   {
    "duration": 78,
    "start_time": "2022-12-20T08:23:33.470Z"
   },
   {
    "duration": 2145,
    "start_time": "2022-12-20T08:23:33.550Z"
   },
   {
    "duration": 27,
    "start_time": "2022-12-20T08:23:35.697Z"
   },
   {
    "duration": 6,
    "start_time": "2022-12-20T08:23:35.726Z"
   },
   {
    "duration": 22,
    "start_time": "2022-12-20T08:23:35.734Z"
   },
   {
    "duration": 168,
    "start_time": "2022-12-20T08:23:35.757Z"
   },
   {
    "duration": 16,
    "start_time": "2022-12-20T08:23:35.927Z"
   },
   {
    "duration": 124,
    "start_time": "2022-12-20T08:23:35.945Z"
   },
   {
    "duration": 321,
    "start_time": "2022-12-20T08:24:27.138Z"
   },
   {
    "duration": 347,
    "start_time": "2022-12-20T08:24:43.631Z"
   },
   {
    "duration": 339,
    "start_time": "2022-12-20T08:24:48.265Z"
   },
   {
    "duration": 371,
    "start_time": "2022-12-20T08:25:48.150Z"
   },
   {
    "duration": 356,
    "start_time": "2022-12-20T08:25:54.872Z"
   },
   {
    "duration": 337,
    "start_time": "2022-12-20T08:26:08.855Z"
   },
   {
    "duration": 378,
    "start_time": "2022-12-20T08:26:11.651Z"
   },
   {
    "duration": 394,
    "start_time": "2022-12-20T08:26:28.962Z"
   },
   {
    "duration": 374,
    "start_time": "2022-12-20T08:26:38.973Z"
   },
   {
    "duration": 145,
    "start_time": "2022-12-20T08:29:25.251Z"
   },
   {
    "duration": 154,
    "start_time": "2022-12-20T08:29:46.865Z"
   },
   {
    "duration": 192,
    "start_time": "2022-12-20T08:29:50.001Z"
   },
   {
    "duration": 177,
    "start_time": "2022-12-20T08:29:54.589Z"
   },
   {
    "duration": 151,
    "start_time": "2022-12-20T08:30:01.476Z"
   },
   {
    "duration": 153,
    "start_time": "2022-12-20T08:30:08.459Z"
   },
   {
    "duration": 413,
    "start_time": "2022-12-20T08:30:11.484Z"
   },
   {
    "duration": 52,
    "start_time": "2022-12-20T08:31:05.384Z"
   },
   {
    "duration": 49,
    "start_time": "2022-12-20T08:42:50.986Z"
   },
   {
    "duration": 49,
    "start_time": "2022-12-20T08:43:41.506Z"
   },
   {
    "duration": 1810,
    "start_time": "2022-12-20T09:03:17.101Z"
   },
   {
    "duration": 97,
    "start_time": "2022-12-20T09:03:18.914Z"
   },
   {
    "duration": 20,
    "start_time": "2022-12-20T09:03:19.012Z"
   },
   {
    "duration": 14,
    "start_time": "2022-12-20T09:03:19.034Z"
   },
   {
    "duration": 9,
    "start_time": "2022-12-20T09:03:19.050Z"
   },
   {
    "duration": 40,
    "start_time": "2022-12-20T09:03:19.061Z"
   },
   {
    "duration": 15,
    "start_time": "2022-12-20T09:03:19.103Z"
   },
   {
    "duration": 28,
    "start_time": "2022-12-20T09:03:19.120Z"
   },
   {
    "duration": 28,
    "start_time": "2022-12-20T09:03:19.150Z"
   },
   {
    "duration": 9,
    "start_time": "2022-12-20T09:03:19.181Z"
   },
   {
    "duration": 38,
    "start_time": "2022-12-20T09:03:19.192Z"
   },
   {
    "duration": 18,
    "start_time": "2022-12-20T09:03:19.232Z"
   },
   {
    "duration": 15,
    "start_time": "2022-12-20T09:03:19.277Z"
   },
   {
    "duration": 24,
    "start_time": "2022-12-20T09:03:19.294Z"
   },
   {
    "duration": 8,
    "start_time": "2022-12-20T09:03:19.320Z"
   },
   {
    "duration": 24,
    "start_time": "2022-12-20T09:03:19.329Z"
   },
   {
    "duration": 192,
    "start_time": "2022-12-20T09:03:19.355Z"
   },
   {
    "duration": 15,
    "start_time": "2022-12-20T09:03:19.549Z"
   },
   {
    "duration": 261,
    "start_time": "2022-12-20T09:03:19.566Z"
   },
   {
    "duration": 117,
    "start_time": "2022-12-20T09:03:19.829Z"
   },
   {
    "duration": 16,
    "start_time": "2022-12-20T09:03:19.948Z"
   },
   {
    "duration": 24,
    "start_time": "2022-12-20T09:03:19.965Z"
   },
   {
    "duration": 406,
    "start_time": "2022-12-20T09:03:19.990Z"
   },
   {
    "duration": 21,
    "start_time": "2022-12-20T09:03:20.397Z"
   },
   {
    "duration": 484,
    "start_time": "2022-12-20T09:03:20.420Z"
   },
   {
    "duration": 6,
    "start_time": "2022-12-20T09:03:20.906Z"
   },
   {
    "duration": 34,
    "start_time": "2022-12-20T09:03:20.914Z"
   },
   {
    "duration": 585,
    "start_time": "2022-12-20T09:03:20.952Z"
   },
   {
    "duration": 53,
    "start_time": "2022-12-20T09:03:21.539Z"
   },
   {
    "duration": 357,
    "start_time": "2022-12-20T09:03:21.594Z"
   },
   {
    "duration": 26,
    "start_time": "2022-12-20T09:03:21.953Z"
   },
   {
    "duration": 127,
    "start_time": "2022-12-20T09:03:21.981Z"
   },
   {
    "duration": 14484,
    "start_time": "2022-12-20T09:03:22.110Z"
   },
   {
    "duration": 24,
    "start_time": "2022-12-20T09:03:36.597Z"
   },
   {
    "duration": 255,
    "start_time": "2022-12-20T09:03:36.623Z"
   },
   {
    "duration": 2,
    "start_time": "2022-12-20T09:03:36.880Z"
   },
   {
    "duration": 38,
    "start_time": "2022-12-20T09:03:36.884Z"
   },
   {
    "duration": 28,
    "start_time": "2022-12-20T09:03:36.924Z"
   },
   {
    "duration": 29,
    "start_time": "2022-12-20T09:03:36.954Z"
   },
   {
    "duration": 33,
    "start_time": "2022-12-20T09:03:36.985Z"
   },
   {
    "duration": 68,
    "start_time": "2022-12-20T09:03:37.020Z"
   },
   {
    "duration": 8,
    "start_time": "2022-12-20T09:03:37.090Z"
   },
   {
    "duration": 93,
    "start_time": "2022-12-20T09:03:37.100Z"
   },
   {
    "duration": 64,
    "start_time": "2022-12-20T09:03:37.195Z"
   },
   {
    "duration": 354,
    "start_time": "2022-12-20T09:03:37.260Z"
   },
   {
    "duration": 19,
    "start_time": "2022-12-20T09:03:37.616Z"
   },
   {
    "duration": 32,
    "start_time": "2022-12-20T09:03:37.637Z"
   },
   {
    "duration": 32,
    "start_time": "2022-12-20T09:03:37.671Z"
   },
   {
    "duration": 81,
    "start_time": "2022-12-20T09:03:37.704Z"
   },
   {
    "duration": 2329,
    "start_time": "2022-12-20T09:03:37.787Z"
   },
   {
    "duration": 18,
    "start_time": "2022-12-20T09:03:40.118Z"
   },
   {
    "duration": 41,
    "start_time": "2022-12-20T09:03:40.138Z"
   },
   {
    "duration": 19,
    "start_time": "2022-12-20T09:03:40.180Z"
   },
   {
    "duration": 118,
    "start_time": "2022-12-20T09:03:40.201Z"
   },
   {
    "duration": 21,
    "start_time": "2022-12-20T09:03:40.321Z"
   },
   {
    "duration": 123,
    "start_time": "2022-12-20T09:03:40.344Z"
   },
   {
    "duration": 1605,
    "start_time": "2022-12-20T09:15:05.965Z"
   },
   {
    "duration": 51,
    "start_time": "2022-12-20T09:15:07.573Z"
   },
   {
    "duration": 19,
    "start_time": "2022-12-20T09:15:07.626Z"
   },
   {
    "duration": 15,
    "start_time": "2022-12-20T09:15:07.647Z"
   },
   {
    "duration": 16,
    "start_time": "2022-12-20T09:15:07.665Z"
   },
   {
    "duration": 22,
    "start_time": "2022-12-20T09:15:07.682Z"
   },
   {
    "duration": 14,
    "start_time": "2022-12-20T09:15:07.706Z"
   },
   {
    "duration": 21,
    "start_time": "2022-12-20T09:15:07.721Z"
   },
   {
    "duration": 49,
    "start_time": "2022-12-20T09:15:07.745Z"
   },
   {
    "duration": 8,
    "start_time": "2022-12-20T09:15:07.798Z"
   },
   {
    "duration": 41,
    "start_time": "2022-12-20T09:15:07.807Z"
   },
   {
    "duration": 41,
    "start_time": "2022-12-20T09:15:07.850Z"
   },
   {
    "duration": 18,
    "start_time": "2022-12-20T09:15:07.893Z"
   },
   {
    "duration": 19,
    "start_time": "2022-12-20T09:15:07.913Z"
   },
   {
    "duration": 11,
    "start_time": "2022-12-20T09:15:07.933Z"
   },
   {
    "duration": 52,
    "start_time": "2022-12-20T09:15:07.946Z"
   },
   {
    "duration": 184,
    "start_time": "2022-12-20T09:15:08.000Z"
   },
   {
    "duration": 14,
    "start_time": "2022-12-20T09:15:08.186Z"
   },
   {
    "duration": 322,
    "start_time": "2022-12-20T09:15:08.201Z"
   },
   {
    "duration": 117,
    "start_time": "2022-12-20T09:15:08.525Z"
   },
   {
    "duration": 17,
    "start_time": "2022-12-20T09:15:08.644Z"
   },
   {
    "duration": 16,
    "start_time": "2022-12-20T09:15:08.677Z"
   },
   {
    "duration": 453,
    "start_time": "2022-12-20T09:15:08.695Z"
   },
   {
    "duration": 0,
    "start_time": "2022-12-20T09:15:09.152Z"
   },
   {
    "duration": 0,
    "start_time": "2022-12-20T09:15:09.153Z"
   },
   {
    "duration": 0,
    "start_time": "2022-12-20T09:15:09.155Z"
   },
   {
    "duration": 0,
    "start_time": "2022-12-20T09:15:09.156Z"
   },
   {
    "duration": 1,
    "start_time": "2022-12-20T09:15:09.157Z"
   },
   {
    "duration": 0,
    "start_time": "2022-12-20T09:15:09.158Z"
   },
   {
    "duration": 0,
    "start_time": "2022-12-20T09:15:09.159Z"
   },
   {
    "duration": 0,
    "start_time": "2022-12-20T09:15:09.161Z"
   },
   {
    "duration": 0,
    "start_time": "2022-12-20T09:15:09.162Z"
   },
   {
    "duration": 0,
    "start_time": "2022-12-20T09:15:09.178Z"
   },
   {
    "duration": 0,
    "start_time": "2022-12-20T09:15:09.180Z"
   },
   {
    "duration": 0,
    "start_time": "2022-12-20T09:15:09.182Z"
   },
   {
    "duration": 0,
    "start_time": "2022-12-20T09:15:09.183Z"
   },
   {
    "duration": 0,
    "start_time": "2022-12-20T09:15:09.184Z"
   },
   {
    "duration": 0,
    "start_time": "2022-12-20T09:15:09.186Z"
   },
   {
    "duration": 0,
    "start_time": "2022-12-20T09:15:09.187Z"
   },
   {
    "duration": 0,
    "start_time": "2022-12-20T09:15:09.188Z"
   },
   {
    "duration": 0,
    "start_time": "2022-12-20T09:15:09.189Z"
   },
   {
    "duration": 0,
    "start_time": "2022-12-20T09:15:09.190Z"
   },
   {
    "duration": 0,
    "start_time": "2022-12-20T09:15:09.190Z"
   },
   {
    "duration": 0,
    "start_time": "2022-12-20T09:15:09.192Z"
   },
   {
    "duration": 0,
    "start_time": "2022-12-20T09:15:09.192Z"
   },
   {
    "duration": 0,
    "start_time": "2022-12-20T09:15:09.194Z"
   },
   {
    "duration": 0,
    "start_time": "2022-12-20T09:15:09.195Z"
   },
   {
    "duration": 0,
    "start_time": "2022-12-20T09:15:09.196Z"
   },
   {
    "duration": 0,
    "start_time": "2022-12-20T09:15:09.197Z"
   },
   {
    "duration": 0,
    "start_time": "2022-12-20T09:15:09.198Z"
   },
   {
    "duration": 0,
    "start_time": "2022-12-20T09:15:09.199Z"
   },
   {
    "duration": 0,
    "start_time": "2022-12-20T09:15:09.200Z"
   },
   {
    "duration": 0,
    "start_time": "2022-12-20T09:15:09.201Z"
   },
   {
    "duration": 0,
    "start_time": "2022-12-20T09:15:09.202Z"
   },
   {
    "duration": 0,
    "start_time": "2022-12-20T09:15:09.204Z"
   },
   {
    "duration": 0,
    "start_time": "2022-12-20T09:15:09.205Z"
   },
   {
    "duration": 383,
    "start_time": "2022-12-20T09:15:45.233Z"
   },
   {
    "duration": 150,
    "start_time": "2022-12-20T09:16:12.730Z"
   },
   {
    "duration": 144,
    "start_time": "2022-12-20T09:17:07.625Z"
   },
   {
    "duration": 160,
    "start_time": "2022-12-20T09:18:52.098Z"
   },
   {
    "duration": 277,
    "start_time": "2022-12-20T09:20:16.522Z"
   },
   {
    "duration": 248,
    "start_time": "2022-12-20T09:22:07.244Z"
   },
   {
    "duration": 20,
    "start_time": "2022-12-20T09:22:58.341Z"
   },
   {
    "duration": 15,
    "start_time": "2022-12-20T09:24:32.428Z"
   },
   {
    "duration": 11,
    "start_time": "2022-12-20T09:24:39.623Z"
   },
   {
    "duration": 21,
    "start_time": "2022-12-20T09:24:44.206Z"
   },
   {
    "duration": 250,
    "start_time": "2022-12-20T09:24:52.883Z"
   },
   {
    "duration": 16,
    "start_time": "2022-12-20T09:25:13.022Z"
   },
   {
    "duration": 21,
    "start_time": "2022-12-20T09:27:22.400Z"
   },
   {
    "duration": 241,
    "start_time": "2022-12-20T09:27:33.014Z"
   },
   {
    "duration": 9,
    "start_time": "2022-12-20T09:27:36.377Z"
   },
   {
    "duration": 338,
    "start_time": "2022-12-20T09:27:57.023Z"
   },
   {
    "duration": 244,
    "start_time": "2022-12-20T09:28:22.475Z"
   },
   {
    "duration": 11,
    "start_time": "2022-12-20T09:29:54.398Z"
   },
   {
    "duration": 345,
    "start_time": "2022-12-20T09:29:59.524Z"
   },
   {
    "duration": 352,
    "start_time": "2022-12-20T09:30:07.616Z"
   },
   {
    "duration": 49,
    "start_time": "2022-12-20T09:30:53.308Z"
   }
  ],
  "kernelspec": {
   "display_name": "Python 3 (ipykernel)",
   "language": "python",
   "name": "python3"
  },
  "language_info": {
   "codemirror_mode": {
    "name": "ipython",
    "version": 3
   },
   "file_extension": ".py",
   "mimetype": "text/x-python",
   "name": "python",
   "nbconvert_exporter": "python",
   "pygments_lexer": "ipython3",
   "version": "3.9.12"
  },
  "toc": {
   "base_numbering": 1,
   "nav_menu": {},
   "number_sections": true,
   "sideBar": true,
   "skip_h1_title": true,
   "title_cell": "Содержание проекта",
   "title_sidebar": "Contents",
   "toc_cell": true,
   "toc_position": {},
   "toc_section_display": true,
   "toc_window_display": false
  }
 },
 "nbformat": 4,
 "nbformat_minor": 2
}
